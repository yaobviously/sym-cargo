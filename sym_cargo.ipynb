{
  "nbformat": 4,
  "nbformat_minor": 0,
  "metadata": {
    "colab": {
      "name": "sym_cargo.ipynb",
      "provenance": [],
      "collapsed_sections": [],
      "mount_file_id": "1bTzsC2_o8Jg772hCJWDRqrHnkqeQuRQx",
      "authorship_tag": "ABX9TyOXkPtlrXqNS0OQh9QvdPO9",
      "include_colab_link": true
    },
    "kernelspec": {
      "display_name": "Python 3",
      "name": "python3"
    },
    "language_info": {
      "name": "python"
    }
  },
  "cells": [
    {
      "cell_type": "markdown",
      "metadata": {
        "id": "view-in-github",
        "colab_type": "text"
      },
      "source": [
        "<a href=\"https://colab.research.google.com/github/yaobviously/sym-cargo/blob/main/sym_cargo.ipynb\" target=\"_parent\"><img src=\"https://colab.research.google.com/assets/colab-badge.svg\" alt=\"Open In Colab\"/></a>"
      ]
    },
    {
      "cell_type": "code",
      "metadata": {
        "id": "TRudeILZCNAh",
        "colab": {
          "base_uri": "https://localhost:8080/"
        },
        "outputId": "b1ad0331-6299-4b5a-bed5-4d471bdb7a4f"
      },
      "source": [
        "!pip install plotly-express --quiet\n",
        "!pip install vincenty --quiet"
      ],
      "execution_count": 2,
      "outputs": [
        {
          "output_type": "stream",
          "text": [
            "  Building wheel for vincenty (setup.py) ... \u001b[?25l\u001b[?25hdone\n"
          ],
          "name": "stdout"
        }
      ]
    },
    {
      "cell_type": "markdown",
      "metadata": {
        "id": "xrMMphhGyTIp"
      },
      "source": [
        "I'll clean up this repo and provide visualizations. \n",
        "\n",
        "I used many quick plots to figure out heuristics to exclude ships travelling near ports with no intention of docking, but I excluded them from his notebook because it was messy. I'll clean up a few and put them in."
      ]
    },
    {
      "cell_type": "code",
      "metadata": {
        "id": "KFygxcBXBsUT"
      },
      "source": [
        "import pandas as pd\n",
        "import numpy as np\n",
        "import matplotlib.pyplot as plt\n",
        "import seaborn as sns\n",
        "import math\n",
        "from sklearn.neighbors import NearestNeighbors\n",
        "from sklearn.cluster import DBSCAN\n",
        "from sklearn.ensemble import IsolationForest\n",
        "from sklearn.model_selection import train_test_split\n",
        "from sklearn.model_selection import GridSearchCV\n",
        "from tensorflow.keras.utils import to_categorical\n",
        "from keras.models import Sequential\n",
        "from keras.layers import Embedding, RepeatVector, LSTM, Dense, TimeDistributed\n",
        "from keras.preprocessing.sequence import pad_sequences\n",
        "from keras.callbacks import EarlyStopping\n",
        "from xgboost import XGBClassifier\n",
        "from vincenty import vincenty\n",
        "from sklearn.model_selection import train_test_split\n",
        "import plotly_express as px"
      ],
      "execution_count": 3,
      "outputs": []
    },
    {
      "cell_type": "code",
      "metadata": {
        "id": "ERdgnPI_B8xV"
      },
      "source": [
        "port_file = '/content/drive/MyDrive/Ports/ports.csv'\n",
        "tracking_file = '/content/drive/MyDrive/Ports/tracking.csv'"
      ],
      "execution_count": 4,
      "outputs": []
    },
    {
      "cell_type": "code",
      "metadata": {
        "id": "VGQ3oW9dCGF6"
      },
      "source": [
        "def wrangle():\n",
        "  \n",
        "  df1 = pd.read_csv(port_file)\n",
        "\n",
        "  # converting lat and long to radians to compute haversine distance\n",
        "  df1['lat_rad'] = np.radians(df1['lat'])\n",
        "  df1['long_rad'] = np.radians(df1['long'])\n",
        "  \n",
        "  # rounding lat and long in port df\n",
        "  df1['lat'] = df1['lat']\n",
        "  df1['long'] = df1['long']\n",
        "  df1['lat_long'] = [[x,y] for x, y in zip(df1['lat'], df1['long'])]\n",
        "\n",
        "  df2 = pd.read_csv(tracking_file, parse_dates=['datetime'])\n",
        "  df2 = df2.drop_duplicates()\n",
        "  df2 = df2.sort_values(['vessel', 'datetime'])\n",
        "  df2['vessel_1back'] = df2['vessel'].shift()\n",
        "  \n",
        "  # converting lat and long to radians to compute haversine distance  \n",
        "  df2['lat_rad'] = np.radians(df2['lat'])\n",
        "  df2['long_rad'] = np.radians(df2['long'])\n",
        "\n",
        "  # adding lat/long column and lat/long 1 back to later compute delta\n",
        "  df2['lat_long'] = [[x,y] for x, y in zip(df2['lat'], df2['long'])]\n",
        "  df2['lat_long_1back'] = df2.groupby('vessel')['lat_long'].transform(lambda x: x.shift())\n",
        "  \n",
        "  # time deltas to compute impossible distances travelled\n",
        "  df2['time_delta'] = df2.groupby('vessel')['datetime'].transform(lambda x: x - x.shift(1))\n",
        "  df2['hour_delta'] = [(n.days * 24) + (n.seconds / 3600) for n in df2['time_delta']]\n",
        "\n",
        "  # filtering using query to eliminate unneeded/impossible values\n",
        "  df2 = df2.query('speed <30 & heading <=360 & draft < 13.5')\n",
        "  df2 = df2.reset_index(drop=True)\n",
        "\n",
        "  return df1, df2"
      ],
      "execution_count": 26,
      "outputs": []
    },
    {
      "cell_type": "code",
      "metadata": {
        "id": "jZJrWQ6eCIqV"
      },
      "source": [
        "df1, df2 = wrangle()"
      ],
      "execution_count": 27,
      "outputs": []
    },
    {
      "cell_type": "code",
      "metadata": {
        "id": "3tL74j_2a7LR"
      },
      "source": [
        "def vincent_distance(row):\n",
        "  \"\"\" \n",
        "  returns the vincenty distance for contiguous rows - will be used to identify\n",
        "  impossible distances travelled, and so on. could be used to create distance\n",
        "  matrix, but this may not be worthwhile \n",
        "  \"\"\"\n",
        "  if row['vessel'] != row['vessel_1back']:\n",
        "    return -99\n",
        "\n",
        "  loc1 = row['lat_long']\n",
        "  loc2 = row['lat_long_1back']\n",
        "\n",
        "  try:\n",
        "    distance = vincenty(loc1, loc2)\n",
        "    return distance\n",
        "  except:\n",
        "    return -99"
      ],
      "execution_count": 7,
      "outputs": []
    },
    {
      "cell_type": "code",
      "metadata": {
        "id": "B1P_JxyybKHc"
      },
      "source": [
        "# creating a dictionary of ports with their lat and longs - will be used\n",
        "# repeatedly to explore data and assign values\n",
        "\n",
        "ports = {port:(lat, long) for port, lat, long in zip(df1['port'], df1['lat'], df1['long'])}\n",
        "\n",
        "# a dictionary to retrieve the port id from the index\n",
        "idx_ports = {idx:port for idx, port in zip(df1.index, df1.port)}"
      ],
      "execution_count": 8,
      "outputs": []
    },
    {
      "cell_type": "code",
      "metadata": {
        "colab": {
          "base_uri": "https://localhost:8080/"
        },
        "id": "8Rg5F1xcTElh",
        "outputId": "8bc77981-3a6d-4b28-eb08-70988c876030"
      },
      "source": [
        "# training a nearest neighbor model to  find the closest port when the \n",
        "# conditions indicating an extended stop have occurred. the metric is haversine\n",
        "# in order to compute the 'great circle' distance. so i don't forget, the model\n",
        "# returns the *index* of the port, not the port's identifying label\n",
        "\n",
        "ports_train = df1[['lat_rad', 'long_rad']]\n",
        "\n",
        "neigh_ports = NearestNeighbors(n_neighbors=3, algorithm='ball_tree', metric='haversine')\n",
        "neigh_ports.fit(ports_train)\n",
        "\n",
        "dist, n = neigh_ports.kneighbors(np.array([0.677565, 0.469731]).reshape(1,-1))\n",
        "\n",
        "print(dist[0] * 6370)\n",
        "print([idx_ports[n] for n in n[0]])"
      ],
      "execution_count": 9,
      "outputs": [
        {
          "output_type": "stream",
          "text": [
            "[  3.30931026  46.44757565 255.13837716]\n",
            "[82, 113, 44]\n"
          ],
          "name": "stdout"
        }
      ]
    },
    {
      "cell_type": "code",
      "metadata": {
        "id": "YC92dd_FI7MT"
      },
      "source": [
        "def nearest_port(df, radius=0.0175):\n",
        "  \"\"\"\n",
        "  returns the port identifier of the nearest port using the nearest neighbors\n",
        "  model \n",
        "  \"\"\"\n",
        "\n",
        "  data = np.array([df['lat_rad'], df['long_rad']]).reshape(1, -1)\n",
        "  dist, pred = neigh_ports.radius_neighbors(data, radius=radius, sort_results = True) \n",
        "\n",
        "  if len(dist[0]) == 0:\n",
        "    return 0\n",
        "  \n",
        "  else:\n",
        "    return idx_ports[pred[0][0]]"
      ],
      "execution_count": 10,
      "outputs": []
    },
    {
      "cell_type": "code",
      "metadata": {
        "id": "t2cHgfSNZbx2"
      },
      "source": [
        "def nearest_distance(df, radius=0.0175):\n",
        "  \"\"\"\n",
        "  returns the distance of the nearest port in the dataset\n",
        "  \"\"\"\n",
        "  \n",
        "  data = np.array([df['lat_rad'], df['long_rad']]).reshape(1, -1)\n",
        "  dist, pred = neigh_ports.radius_neighbors(data, radius=radius, sort_results = True) \n",
        "\n",
        "  if len(dist[0]) == 0:\n",
        "    return -1\n",
        "  \n",
        "  else:\n",
        "    return dist[0][0]"
      ],
      "execution_count": 11,
      "outputs": []
    },
    {
      "cell_type": "code",
      "metadata": {
        "id": "KoYZuM6lqJIa"
      },
      "source": [
        "def vincenty_port(row):\n",
        "  \"\"\"\n",
        "  a function that computes the vincenty distance between the assigned port\n",
        "  and the latitude and longitude of the location data\n",
        "  \"\"\"\n",
        "  port = row['port_coords']\n",
        "  loc = row['lat_long']\n",
        "  return vincenty(port, loc)"
      ],
      "execution_count": 12,
      "outputs": []
    },
    {
      "cell_type": "code",
      "metadata": {
        "id": "CLCHF2I5CII2"
      },
      "source": [
        "def train_dbscan(df=df1, eps=0.1, min_samples=2):\n",
        "  \"\"\"\n",
        "  use the dbscan clustering algorithm to find groupss of ports\n",
        "\n",
        "  params\n",
        "  ------\n",
        "      df: pandas df\n",
        "      eps: min distance between points in cluster\n",
        "      min_samples: min members in a cluster\n",
        "\n",
        "  returns\n",
        "  -------\n",
        "      labels: labels matching index of long/lat input pairs\n",
        "  \"\"\"\n",
        "  \n",
        "  coords = df[['long_rad', 'lat_rad']].values\n",
        "  db = DBSCAN(eps=eps, min_samples=min_samples, algorithm='ball_tree', metric='haversine')\n",
        "\n",
        "  db.fit(coords)\n",
        "\n",
        "  return db.labels_"
      ],
      "execution_count": 13,
      "outputs": []
    },
    {
      "cell_type": "code",
      "metadata": {
        "id": "sU_Co92uMDoL"
      },
      "source": [
        "# creating a dictionary of labels\n",
        "df1['labels'] = train_dbscan()\n",
        "db_labels = {port:cluster for port, cluster in zip(df1['port'], df1['labels'])}"
      ],
      "execution_count": 14,
      "outputs": []
    },
    {
      "cell_type": "code",
      "metadata": {
        "id": "TxCo8-h_g9E8"
      },
      "source": [
        "def assign_ports(df):\n",
        "  \"\"\"\n",
        "  prepares a dataframe for port assignment by resampling  and filtering\n",
        "  it\n",
        "\n",
        "  params:\n",
        "  -----\n",
        "        df: pandas dataframe\n",
        "  \n",
        "  returns:\n",
        "  -------\n",
        "        df: processed pandas dataframe\n",
        "\n",
        "  \"\"\"\n",
        "\n",
        "  # resampling the data to standardize time intervals\n",
        "  df = df.resample('4H').mean()\n",
        "  df['isnan'] = df['lat'].isna().astype(int)\n",
        "  df['lat'] = df['lat'].interpolate(method='linear')\n",
        "  df['long'] = df['long'].interpolate(method='linear')\n",
        "  df['draft'] = df['draft'].ffill()\n",
        "  df = df.interpolate(method='linear')\n",
        "  df['lat_rad'] = np.radians(df['lat'])\n",
        "  df['long_rad'] = np.radians(df['long'])\n",
        "  df['heading1back'] = df['heading'].diff()\n",
        "  df['heading2back'] = df['heading'].diff(2)\n",
        "  df['heading1ahead'] = df['heading'].diff(-1)\n",
        "  df['heading2ahead'] = df['heading'].diff(-2)\n",
        "  # df['row_duration'] = (df.index.to_series().diff(-1)) / pd.Timedelta('1 hour')\n",
        "  df['lat_long'] = [[x,y] for x, y in zip(df['lat'], df['long'])]\n",
        "  df['lat_long_1back'] = df['lat_long'].shift()\n",
        "  df['vin_diff'] = df.apply(vincent_distance, axis=1)\n",
        "  df['vin_speed'] = (df['vin_diff'] * 0.539957) / 4\n",
        "\n",
        "  # determining whether a block contains or is adjacent to a change in draft\n",
        "  df['draft_delta_back'] = df['draft'].transform(lambda x: abs(x.diff()).ge(0.25)).astype(int)\n",
        "  df['draft_delta_ahead'] = df['draft'].transform(lambda x: abs(x.diff(-1)).ge(0.25)).astype(int)\n",
        "  df['draft_change'] = ((df['draft_delta_back'] + df['draft_delta_ahead']) >= 1).astype(int)\n",
        "  \n",
        "  # applying a mask to limit the rows the predict function is applied to\n",
        "  mask = ((df['vin_speed'] <5) | (df['draft_change'] > 1))\n",
        "  df_temp = df[mask]\n",
        "\n",
        "  df['pred_port'] = 0\n",
        "  df['kneigh_dist'] = 0\n",
        "  df.loc[mask, 'pred_port'] = df_temp.apply(nearest_port, axis=1)\n",
        "  df.loc[mask, 'kneigh_dist'] = df_temp.apply(nearest_distance, axis=1)\n",
        "  df['port_coords'] = [list(ports[k]) if k in ports else -99 for k in df['pred_port']]\n",
        "  df['bearing_port'] = [get_angle(x, y) if type(y) is list else np.nan for x, y in zip(df['lat_long'], df['port_coords'])]\n",
        "  df['heading_diff'] = abs(df['heading'] - df['bearing_port'])\n",
        "  df['heading_diff'] = np.where(df['heading_diff'] > 180, 360 - df['heading_diff'], df['heading_diff'])\n",
        "\n",
        "  # applying a mask to limit the rows vincenty func is applied to\n",
        "  vin_mask = (df['pred_port'] > 0)\n",
        "  vin_temp = df[vin_mask]\n",
        "  \n",
        "  df['port_dist'] = 0\n",
        "  df.loc[vin_mask, 'port_dist'] = vin_temp.apply(vincenty_port, axis=1)\n",
        "\n",
        "  # eliminating entries in sequences where max distance greatly differs from min\n",
        "  # indicates 'waiting to enter port'\n",
        "  df['pred_port_null'] = (df['pred_port'] > 0).astype(int)\n",
        "  df['kneigh_null'] = (df['kneigh_dist'] > 0).astype(int)\n",
        "  df['seq_port'] = df['pred_port'].diff().ne(0).cumsum()\n",
        "  df['seq_kneigh'] = df['kneigh_null'].diff().ne(0).cumsum()\n",
        "  df['sum_draft_change'] = df.groupby('seq_port')['draft_change'].transform(sum)\n",
        "  df['seq_count'] = df.groupby('seq_port')['seq_port'].transform('count')\n",
        "  df['dist_diff'] = df.groupby('seq_port')['port_dist'].transform(lambda x: x - x.min())\n",
        "  df['nearest_port_dist'] = [[(v)[1] for v in close_ones[n].items()][0] if n in close_ones else 0 for n in df['pred_port']]\n",
        "  df['nearest_port_min'] = (df['port_dist'] > (df['nearest_port_dist']/2)).astype(int) \n",
        "\n",
        "  # getting the prior port\n",
        "  df['prior_port'] = get_prior_port(df)\n",
        "\n",
        "  # calcing distance from prior port\n",
        "  df['dist_last_port'] = [vincenty(l, ports[p]) if p>0 else 0 for l, p in zip(df['lat_long'], df['prior_port'])]\n",
        "\n",
        "  condition = ((df['port_dist'] > 20) | (df['vin_speed'] >1))\n",
        "  df.loc[condition, 'pred_port'] = 0\n",
        "\n",
        "  condition2 = ((df['pred_port'].isin(close_ones)) & (df['vin_speed'] > 0.5))\n",
        "  df.loc[condition2, 'pred_port'] = 0\n",
        "\n",
        "  condition3 = (df['seq_count'] <2)\n",
        "  df.loc[condition3, 'pred_port'] = 0\n",
        "\n",
        "  condition4 = ((df['pred_port'] == 54) & (df['port_dist'] >8) & (df['sum_draft_change'] < 1))\n",
        "  df.loc[condition4, 'pred_port'] = 0\n",
        "\n",
        "  condition5 = ((df['pred_port'] == 115) & (df['port_dist'] > 15) & (df['sum_draft_change'] < 1))\n",
        "  df.loc[condition5, 'pred_port'] = 0\n",
        "\n",
        "  df['pred_port'] = np.where(df['dist_diff'] >= 15, 0, df['pred_port']) \n",
        "\n",
        "  # recasting vessel and pred_port columns as integers\n",
        "  df[['vessel', 'pred_port']] = df[['vessel', 'pred_port']].astype(int)\n",
        "\n",
        "\n",
        "  return df"
      ],
      "execution_count": 105,
      "outputs": []
    },
    {
      "cell_type": "code",
      "metadata": {
        "id": "BDnoQ4hnfhce"
      },
      "source": [
        "def get_voyages(df):\n",
        "  \"\"\"\n",
        "  converts the port sequences in each dataframe into voyages\n",
        "  with the proper formatting\n",
        "\n",
        "  param:\n",
        "  -----\n",
        "      df: pandas DataFrame\n",
        "  \n",
        "  returns:\n",
        "  -------\n",
        "      df: processed pandas DataFrame\n",
        "      \n",
        "  \"\"\"\n",
        "  # filtering out columns without an assigned port\n",
        "  nz = df[(df['pred_port'] > 0) | (df['pred_port'] == -75)].reset_index()\n",
        "\n",
        "  vessel = nz['vessel'][0]\n",
        "  dt = nz['datetime']\n",
        "  pred = nz['pred_port']\n",
        "\n",
        "  records = []\n",
        "\n",
        "  for i in range(len(dt)-1):\n",
        "    if pred[i] != pred[i+1]:\n",
        "      start_port = pred[i]\n",
        "      end_port = pred[i+1]\n",
        "      begin_date = dt[i]\n",
        "      end_date = dt[i+1]\n",
        "      records.append([vessel, begin_date, end_date, start_port, end_port])\n",
        "\n",
        "  df = pd.DataFrame.from_records(records, columns = ['vessel', 'begin_date', 'end_date', 'begin_port_id', 'end_port_id'])\n",
        "  \n",
        "  return df"
      ],
      "execution_count": 16,
      "outputs": []
    },
    {
      "cell_type": "code",
      "metadata": {
        "id": "8Jydaj-qScpp"
      },
      "source": [
        "def get_prior_port(df):\n",
        "  \"\"\"\n",
        "  iterate through the each vessel's predicted ports to get the last predicted\n",
        "  port\n",
        "  \"\"\"\n",
        "\n",
        "  p = df['pred_port'][::-1].values\n",
        "\n",
        "  prior_ports = []\n",
        "\n",
        "  for i in range(len(p)):\n",
        "    s = p[i]\n",
        "    for n in p[i:]:\n",
        "      if (s != n) & (n >0) :\n",
        "       prior_ports.append(n)\n",
        "       break\n",
        "\n",
        "# padding zeros at the end to indicate no next port \n",
        "  zeroes = [0] * (len(p) - len(prior_ports))\n",
        "  prior_ports = prior_ports + zeroes\n",
        "  \n",
        "  prior_ports = prior_ports[::-1]\n",
        "  \n",
        "  return prior_ports "
      ],
      "execution_count": 17,
      "outputs": []
    },
    {
      "cell_type": "code",
      "metadata": {
        "id": "H4gOeftL1KN0"
      },
      "source": [
        "def get_angle(loc1=[1.2, 103], loc2=[99.5,-32]):\n",
        "  \"\"\"\n",
        "  get the angle of the bearing needed to directly approach the nearest port.\n",
        "  running out of ideas!\n",
        "\n",
        "  parameters\n",
        "  ----------\n",
        "        lists: lat, longitude of ship (in dict as such)\n",
        "\n",
        "  returns\n",
        "  -------\n",
        "        float: bearing in degrees with 0 as due North\n",
        "  \"\"\"\n",
        "  \n",
        "  dLon = (loc2[1] - loc1[1])\n",
        "\n",
        "  y = math.sin(dLon) * math.cos(loc2[0])\n",
        "  x = math.cos(loc1[0]) * math.sin(loc2[0]) - math.sin(loc1[0]) * math.cos(loc2[0]) * math.cos(dLon)\n",
        "\n",
        "  brng = math.atan2(y, x)\n",
        "\n",
        "  brng = math.degrees(brng)\n",
        "  brng = (brng + 360) % 360\n",
        "  brng = 360 - brng # count degrees clockwise - remove to make counter-clockwise\n",
        "\n",
        "  return brng"
      ],
      "execution_count": 18,
      "outputs": []
    },
    {
      "cell_type": "code",
      "metadata": {
        "id": "HygadBs07F_x"
      },
      "source": [
        "ports_close = [109, 99, 32, 51, 42, 65, 30, 63, 139, 108, 71, 152, 22, 149, 70, 162, 123]"
      ],
      "execution_count": 19,
      "outputs": []
    },
    {
      "cell_type": "code",
      "metadata": {
        "id": "TbHcYBVQcWst"
      },
      "source": [
        "# calculating the distance between each row using the vincenty function above.\n",
        "# note it only calcs within each vessel group (see function). the elapsed time\n",
        "# and the total distance travelled implies a speed and that speed allows for\n",
        "# effetcive filtering of impossible routes\n",
        "\n",
        "df2['vin_diff'] = df2.apply(vincent_distance, axis=1)\n",
        "df2['vin_per_hour'] = df2['vin_diff'] / df2['hour_delta']\n",
        "df2 = df2.query('vin_per_hour <= 50')"
      ],
      "execution_count": 20,
      "outputs": []
    },
    {
      "cell_type": "code",
      "metadata": {
        "id": "J9tCbNDQiRfQ"
      },
      "source": [
        "# creating a dictionary of vessel dataframes with a datetime index\n",
        "\n",
        "vessel_dfs = {}\n",
        "\n",
        "for vessel in df2.vessel.unique():\n",
        "  df_ = df2[df2['vessel'] == vessel]\n",
        "  vessel_dfs[vessel] = df_.set_index('datetime')\n",
        "\n",
        "# assigning ports to each dataframe\n",
        "processed_dfs = {key:assign_ports(vessel_dfs[key]) for key in vessel_dfs.keys()}"
      ],
      "execution_count": 106,
      "outputs": []
    },
    {
      "cell_type": "code",
      "metadata": {
        "id": "Xmb6rhNEWGZ_"
      },
      "source": [
        "alldf = pd.concat(processed_dfs)\n",
        "alldf = alldf.droplevel(0)"
      ],
      "execution_count": 107,
      "outputs": []
    },
    {
      "cell_type": "code",
      "metadata": {
        "id": "0_TnV_EudLEQ"
      },
      "source": [
        "# creating a dictionary of dataframes for each port and then extracting the min,\n",
        "# max, and max_draft distances for assigned ports\n",
        "\n",
        "ports_dfs = {}\n",
        "\n",
        "for port in alldf.pred_port.unique():\n",
        "  ports_dfs[port] = alldf[alldf['pred_port'] == port]\n",
        "\n",
        "# del ports_dfs[-1]\n",
        "del ports_dfs[0]\n",
        "\n",
        "min_max = {}\n",
        "\n",
        "for df in ports_dfs.keys():\n",
        "  draft_max = ports_dfs[df].query('draft_change >=1').port_dist.max()\n",
        "  min_max[df] = [ports_dfs[df]['port_dist'].max(), ports_dfs[df]['port_dist'].min(), draft_max]"
      ],
      "execution_count": 74,
      "outputs": []
    },
    {
      "cell_type": "code",
      "metadata": {
        "colab": {
          "base_uri": "https://localhost:8080/"
        },
        "id": "fUFI1rOBocw-",
        "outputId": "8bc656b0-8626-4356-b01c-2bfde8b57caa"
      },
      "source": [
        "alldf.query('isnan == 1 & port_dist <5').shape"
      ],
      "execution_count": 79,
      "outputs": [
        {
          "output_type": "execute_result",
          "data": {
            "text/plain": [
              "(51921, 39)"
            ]
          },
          "metadata": {
            "tags": []
          },
          "execution_count": 79
        }
      ]
    },
    {
      "cell_type": "code",
      "metadata": {
        "id": "7SIs4v7TvD-a"
      },
      "source": [
        "voyages_df = pd.concat([get_voyages(processed_dfs[key]) for key in processed_dfs.keys()])\n",
        "voyages_df['begin_date'] = voyages_df['begin_date'].dt.date\n",
        "voyages_df['end_date'] = voyages_df['end_date'].dt.date\n",
        "voyages_df['len_voyage'] = voyages_df['end_date'] - voyages_df['begin_date']\n",
        "voyages_df['begin_coords'] = [ports[key] for key in voyages_df['begin_port_id']]\n",
        "voyages_df['end_coords'] = [ports[key] for key in voyages_df['end_port_id']]\n",
        "voyages_df['voyage_dist'] = [vincenty(x, y) for x, y in zip(voyages_df['begin_coords'], voyages_df['end_coords'])]"
      ],
      "execution_count": 108,
      "outputs": []
    },
    {
      "cell_type": "code",
      "metadata": {
        "id": "wd0hoOmBHd7c"
      },
      "source": [
        "voyages_df.sort_values(by='len_voyage', ascending=True).head(30)"
      ],
      "execution_count": null,
      "outputs": []
    },
    {
      "cell_type": "code",
      "metadata": {
        "colab": {
          "base_uri": "https://localhost:8080/"
        },
        "id": "Zt1cbFxNr9sG",
        "outputId": "89e37dc5-98de-4c42-9e22-f30c90aef1eb"
      },
      "source": [
        "voyages_df.shape"
      ],
      "execution_count": 109,
      "outputs": [
        {
          "output_type": "execute_result",
          "data": {
            "text/plain": [
              "(3013, 9)"
            ]
          },
          "metadata": {
            "tags": []
          },
          "execution_count": 109
        }
      ]
    },
    {
      "cell_type": "code",
      "metadata": {
        "id": "kF-vL7n3WKGb"
      },
      "source": [
        "def prepare_data(df, n_input = 3):\n",
        "  \"\"\"\n",
        "  preparing the sequences for window based models\n",
        "  \"\"\"\n",
        "\n",
        "  df = get_voyages(df)\n",
        "  vessel = df['vessel'].iloc[0]\n",
        "  ports_ = np.array(df['begin_port_id'].append(pd.Series(df['end_port_id'].iloc[-1])))  \n",
        "\n",
        "  X = []\n",
        "  Y = []\n",
        "  start = 0\n",
        "\n",
        "  for i in range(len(ports_)):\n",
        "    last_input = start + n_input\n",
        "    last_output = last_input + 3\n",
        "    if last_output <= len(ports_):\n",
        "      x = ports_[start:last_input]\n",
        "      y = ports_[last_input: last_output]\n",
        "      X.append(x)\n",
        "      Y.append(y)\n",
        "      start += 1\n",
        "  try:\n",
        "    df = pd.concat([pd.DataFrame(X),\n",
        "                  pd.DataFrame(Y, columns=['port_1ahead', 'port_2ahead', 'port_3ahead'])], axis=1)\n",
        "    \n",
        "  except:\n",
        "    df = pd.DataFrame()\n",
        "    \n",
        "  # X = []\n",
        "\n",
        "  # for x in X:\n",
        "  #   for n in x:\n",
        "  #     if n == -75:\n",
        "  #       port_coords = [33, 140]\n",
        "  #     else:\n",
        "  #       port_coords = list(ports[n])\n",
        "  #     port = [n]\n",
        "  #     port.extend(port_coords)\n",
        "  #     new_X.append(port)\n",
        "  \n",
        "  df['vessel'] = len(df) * [vessel]\n",
        "  \n",
        "  return df.astype(int)"
      ],
      "execution_count": 110,
      "outputs": []
    },
    {
      "cell_type": "code",
      "metadata": {
        "id": "AtTQNF2qY-RB"
      },
      "source": [
        "def build_model(target='port_1ahead', min_samples=1, n_back = 3):\n",
        "\n",
        "  model_df = pd.concat([prepare_data(processed_dfs[key], n_back) for key in processed_dfs.keys()]) \n",
        "\n",
        "  model_df['cluster_1back'] = [db_labels[n] for n in model_df[0]]\n",
        "  model_df['cluster_2back'] = [db_labels[n] for n in model_df[1]]\n",
        "  model_df['cluster_3back'] = [db_labels[n] for n in model_df[2]]\n",
        "\n",
        "  model_df['samples'] = model_df.groupby('vessel')['vessel'].transform(lambda x: x.count())\n",
        "  filtered_df = model_df.query('samples > @min_samples')\n",
        "\n",
        "  vessels_excluded = set(model_df['vessel'].unique()).difference(set(filtered_df['vessel'].unique()))\n",
        "\n",
        "  features = [n for n in range(n_back)] + ['cluster_1back', 'cluster_2back', 'cluster_3back'] \n",
        "  target = target\n",
        "\n",
        "  X = filtered_df[features]\n",
        "  y = filtered_df[target]\n",
        "  model = XGBClassifier()\n",
        "\n",
        "  param_grid = {\n",
        "      'learning_rate': [0.1, 0.2, 0.3]\n",
        "  }\n",
        "\n",
        "  grid_search = GridSearchCV(model, param_grid, cv=3)\n",
        "  grid_result = grid_search.fit(X, y)\n",
        "\n",
        "  print('The training excluded vessels:', vessels_excluded)\n",
        "  print('The best model params were:', grid_result.best_params_)\n",
        "  print('The best accuracy achieved was:', grid_result.best_score_)\n",
        "  \n",
        "  return grid_result"
      ],
      "execution_count": 65,
      "outputs": []
    },
    {
      "cell_type": "code",
      "metadata": {
        "id": "IhEa9e98LBCM"
      },
      "source": [
        "del processed_dfs[174]"
      ],
      "execution_count": 69,
      "outputs": []
    },
    {
      "cell_type": "code",
      "metadata": {
        "id": "jtEHbOIdTCDW"
      },
      "source": [
        "model_1ahead = build_model(target='port_1ahead', min_samples=2, n_back=3)\n",
        "model_2ahead = build_model(target='port_2ahead', min_samples=2, n_back=3)\n",
        "model_3ahead = build_model(target='port_3ahead', min_samples=2, n_back=3)"
      ],
      "execution_count": null,
      "outputs": []
    },
    {
      "cell_type": "code",
      "metadata": {
        "id": "J5ERpuNpF_WT"
      },
      "source": [
        "def get_pred_data(df, n_input = 3):\n",
        "  \"\"\"\n",
        "  preparing the sequences for predictions with the XGBClassifier model\n",
        "  \"\"\"\n",
        "\n",
        "  df = get_voyages(df)\n",
        "  vessel = df['vessel'].iloc[0]\n",
        "  ports_ = np.array(df['begin_port_id'].append(pd.Series(df['end_port_id'].iloc[-1])))\n",
        "  \n",
        "  pred_seq = ports_[-n_input:]\n",
        "\n",
        "  if len(pred_seq) < n_input:\n",
        "    pred_seq = np.insert(pred_seq, 0, pred_seq[-1])\n",
        "  \n",
        "  return pred_seq"
      ],
      "execution_count": 112,
      "outputs": []
    },
    {
      "cell_type": "code",
      "metadata": {
        "id": "7NlGujqAv2FW"
      },
      "source": [
        "# creating a dictionary with the most recent ports visited for each vessel\n",
        "\n",
        "window_data = {key:get_pred_data(processed_dfs[key], n_input=3) for key in processed_dfs.keys()}"
      ],
      "execution_count": null,
      "outputs": []
    },
    {
      "cell_type": "code",
      "metadata": {
        "id": "ZJkGCyNIwvvS"
      },
      "source": [
        "# creating a dataframe with the features used in the models\n",
        "\n",
        "sub = pd.DataFrame.from_dict(window_data, orient='index')\n",
        "\n",
        "sub['cluster_1back'] = [db_labels[n] for n in sub[0]]\n",
        "sub['cluster_2back'] = [db_labels[n] for n in sub[1]]\n",
        "sub['cluster_3back'] = [db_labels[n] for n in sub[2]]"
      ],
      "execution_count": null,
      "outputs": []
    },
    {
      "cell_type": "code",
      "metadata": {
        "id": "6i6_80Y91LAe"
      },
      "source": [
        "# predicting the next port. also including the second most likely port in case\n",
        "# the model predicts duplicates. \n",
        "\n",
        "port_1 = model_1ahead.predict(sub)\n",
        "port_2 = model_2ahead.predict(sub)\n",
        "port_2_alt = [model_2ahead.best_estimator_.classes_[np.argsort(n)[-2]] for n in model_2ahead.predict_proba(sub)]\n",
        "port_3 = model_3ahead.predict(sub)\n",
        "port_3_alt = [model_3ahead.best_estimator_.classes_[np.argsort(n)[-2]] for n in model_3ahead.predict_proba(sub)]\n",
        "sub['port_1ahead'] = port_1\n",
        "sub['port_2ahead'] = port_2\n",
        "sub['port_2ahead_2nd'] = port_2_alt\n",
        "sub['port_3ahead'] = port_3\n",
        "sub['port_3ahead_2nd'] = port_3_alt"
      ],
      "execution_count": null,
      "outputs": []
    },
    {
      "cell_type": "code",
      "metadata": {
        "id": "0VJNB5MI0E0a"
      },
      "source": [
        "# using conditional assignment to replace port predictions with the second most\n",
        "# likely\n",
        "\n",
        "sub.loc[sub['port_1ahead'] == sub['port_2ahead'], 'port_2ahead'] = sub['port_2ahead_2nd']\n",
        "sub.loc[sub['port_2ahead'] == sub['port_3ahead'], 'port_3ahead'] = sub['port_3ahead_2nd']"
      ],
      "execution_count": null,
      "outputs": []
    },
    {
      "cell_type": "code",
      "metadata": {
        "id": "e3SrpcaTKtDo"
      },
      "source": [
        "# changing the shape of the dataframe so it conforms to what's required\n",
        "\n",
        "# resetting the index and renaming the column\n",
        "sub = sub.reset_index()\n",
        "sub.rename(columns={'index':'vessel'}, inplace=True)\n",
        "\n",
        "# limiting columns to those required and renaming\n",
        "sub = sub[['vessel', 2, 'port_1ahead', 'port_2ahead', 'port_3ahead']]\n",
        "sub.rename(columns={2:'final_port'}, inplace=True)\n",
        "\n",
        "# using melt to narrow the DataFrame and put the voyages into the same column\n",
        "sub = pd.melt(sub, id_vars='vessel').sort_values(by=['vessel', 'variable'])\n",
        "sub['end_port_id'] = sub.groupby('vessel')['value'].transform(lambda x: x.shift(-1))\n",
        "sub = sub.dropna()\n",
        "\n",
        "# adding a voyage count, more renaming\n",
        "sub['voyage'] = sub.groupby('vessel').cumcount()+1\n",
        "sub.rename(columns={'value' : 'begin_port_id'}, inplace=True)\n",
        "sub.drop(columns=['variable'], inplace=True)\n",
        "sub['end_port_id'] = sub['end_port_id'].astype(int)\n",
        "sub = sub.reset_index(drop=True)"
      ],
      "execution_count": null,
      "outputs": []
    },
    {
      "cell_type": "markdown",
      "metadata": {
        "id": "9_6avCrtDDhQ"
      },
      "source": [
        "Creating an LSTM model to predict the future voyages. "
      ]
    },
    {
      "cell_type": "code",
      "metadata": {
        "id": "T1wikN3M42_m"
      },
      "source": [
        "# creating a dataset to train the LSTM model. i had to do a bit of troubleshooting,\n",
        "# hence the try/except\n",
        "\n",
        "lstm_data = []\n",
        "\n",
        "for i in processed_dfs.keys():\n",
        "  try:\n",
        "    x = prepare_data(processed_dfs[i], n_input=6)\n",
        "    lstm_data.append(x)\n",
        "  except:\n",
        "    print(i)"
      ],
      "execution_count": null,
      "outputs": []
    },
    {
      "cell_type": "code",
      "metadata": {
        "id": "Yj9dvByke8iK"
      },
      "source": [
        "# a dictionary to encode the ports for the model\n",
        "\n",
        "encoder = {key:value for key, value in zip(df1['port'], df1.index)}"
      ],
      "execution_count": null,
      "outputs": []
    },
    {
      "cell_type": "code",
      "metadata": {
        "id": "zWPWg-FVSLyH"
      },
      "source": [
        "# concatenating the LSTM data\n",
        "lstm_df = pd.concat(lstm_data)\n",
        "\n",
        "# defining the number of ports\n",
        "total_ports = len(encoder.keys())\n",
        "\n",
        "# slicing off the feature array\n",
        "X = lstm_df[[0, 1, 2, 3, 4, 5]]\n",
        "\n",
        "# encoding each port to create a \"vocabulary\" of ports starting at index 0\n",
        "for col in X.columns:\n",
        "  X.loc[:,col] = X[col].map(encoder)\n",
        "\n",
        "# creating the target array with shape (samples, 3, 1) and converting to category\n",
        "y = lstm_df[['port_1ahead', 'port_2ahead', 'port_3ahead']]\n",
        "y = to_categorical(y)\n",
        "\n",
        "# train and test split to validate model during training - could use 'validation_split' in .fit()\n",
        "X_train, X_test, y_train, y_test = train_test_split(X, y, test_size=0.2, random_state=1944)\n",
        "\n",
        "# initializing the Sequential class\n",
        "model = Sequential()\n",
        "\n",
        "# adding an embedding layer to embed each port in a 3 dimensional space\n",
        "model.add(Embedding(total_ports, 3, input_length=6))\n",
        "\n",
        "# adding an LSTM layer to process the embedded vector sequences\n",
        "model.add(LSTM(100, activation='relu', return_sequences=False))\n",
        "\n",
        "# adding a crucial layer to allows the output sequence to be of a diff length\n",
        "model.add(RepeatVector(3))\n",
        "\n",
        "# another LSTM layer, this one repeating the sequence\n",
        "model.add(LSTM(50, activation='relu', return_sequences=True))\n",
        "\n",
        "# model.add(Dense(50, activation='relu'))                                  <-------- layer i added/subtracted\n",
        "\n",
        "# adding a TimeDistributed Dense layer to output predictions. note the # of \n",
        "# categories is not 'efficient' but it does make decoding the prediction take one\n",
        "# fewer step\n",
        "\n",
        "model.add(TimeDistributed(Dense(179, activation='softmax')))\n",
        "\n",
        "model.compile(optimizer='adam', loss='categorical_crossentropy', metrics=['accuracy'])"
      ],
      "execution_count": null,
      "outputs": []
    },
    {
      "cell_type": "code",
      "metadata": {
        "id": "WoIgnQNPV0V4"
      },
      "source": [
        "# fitting the model with early stopping\n",
        "\n",
        "history = model.fit(X_train,y_train,\n",
        "                    validation_data=(X_test, y_test),\n",
        "                    batch_size=32,\n",
        "                    epochs=250,\n",
        "                    callbacks=EarlyStopping(monitor='val_accuracy',\n",
        "                                            patience=30,\n",
        "                                            restore_best_weights=True));"
      ],
      "execution_count": null,
      "outputs": []
    },
    {
      "cell_type": "code",
      "metadata": {
        "id": "PBLlbXF6lqyi"
      },
      "source": [
        "# getting the sequences and encoding them so the model can use them as inputs\n",
        "seq_for_pred = np.array([[encoder[j] for j in n] for n in window_data.values()])\n",
        "\n",
        "# padding the sequences with fewer than 6 \n",
        "seq_for_pred = pad_sequences(seq_for_pred, maxlen=6, value=0)\n",
        "\n",
        "# predicting the next 3 ports visited\n",
        "preds = model.predict(seq_for_pred)"
      ],
      "execution_count": null,
      "outputs": []
    },
    {
      "cell_type": "code",
      "metadata": {
        "id": "fBQApzdGwu1q"
      },
      "source": [
        "# assigning the predictions and back-up predictions to variables. if a port\n",
        "# repeats, i replace it with the second most likely\n",
        "first_port = pd.Series([np.argmax(n[0]) for n in preds])\n",
        "second_port = pd.Series([np.argmax(n[1]) for n in preds])\n",
        "alt_second = pd.Series([np.argsort(n[1])[-2] for n in preds])\n",
        "third_port = pd.Series([np.argmax(n[2]) for n in preds])\n",
        "alt_third = pd.Series([np.argsort(n[2])[-2] for n in preds])"
      ],
      "execution_count": null,
      "outputs": []
    },
    {
      "cell_type": "code",
      "metadata": {
        "id": "kOqRO78LoVr6"
      },
      "source": [
        "# creating a dataframe of the above\n",
        "last_port = pd.Series(seq_for_pred[:,-1])\n",
        "lstm_pred = pd.concat([last_port, first_port, second_port, alt_second, third_port, alt_third], axis=1)\n",
        "lstm_pred.index = window_data.keys()\n",
        "lstm_pred = lstm_pred.reset_index()\n",
        "lstm_pred.columns = ['vessel', 'last_port', 'pred1', 'pred2', 'alt2', 'pred3', 'alt3']\n",
        "lstm_pred['pred2'] = np.where(lstm_pred['pred1'] == lstm_pred['pred2'], lstm_pred['alt2'], lstm_pred['pred2'])\n",
        "lstm_pred['pred3'] = np.where(lstm_pred['pred2'] == lstm_pred['pred3'], lstm_pred['alt3'], lstm_pred['pred3'])\n",
        "lstm_pred.drop(columns=['alt2', 'alt3'], inplace=True)"
      ],
      "execution_count": null,
      "outputs": []
    },
    {
      "cell_type": "code",
      "metadata": {
        "id": "zPZZ6EX_ANdP"
      },
      "source": [
        "reverse_encoder = {v:k for k, v in encoder.items()}\n",
        "lstm_pred['last_port'] = lstm_pred['last_port'].map(reverse_encoder)"
      ],
      "execution_count": null,
      "outputs": []
    },
    {
      "cell_type": "code",
      "metadata": {
        "id": "NGyKkzQgrbAT"
      },
      "source": [
        "lstm_pred = pd.melt(lstm_pred, id_vars='vessel').sort_values(by=['vessel', 'variable'])\n",
        "\n",
        "lstm_pred['end_port_id'] = lstm_pred.groupby('vessel')['value'].transform(lambda x: x.shift(-1))\n",
        "lstm_pred.dropna(inplace=True)\n",
        "lstm_pred.drop(columns='variable', inplace=True)\n",
        "lstm_pred.rename(columns={'value':'begin_port_id'}, inplace=True)\n",
        "lstm_pred['voyage'] = lstm_pred.groupby('vessel').cumcount()+1\n",
        "lstm_pred = lstm_pred.astype(int).reset_index(drop=True)"
      ],
      "execution_count": null,
      "outputs": []
    },
    {
      "cell_type": "code",
      "metadata": {
        "id": "ksfEgenhtQJs"
      },
      "source": [
        "lstm_pred.head(3)"
      ],
      "execution_count": null,
      "outputs": []
    },
    {
      "cell_type": "code",
      "metadata": {
        "id": "lipU-tqdU_Va"
      },
      "source": [
        "sub.to_csv('predict.csv', index=False)\n",
        "lstm_pred.to_csv('lstm_predict.csv', index=False)\n",
        "voyages_df.to_csv('voyages.csv', index=False)"
      ],
      "execution_count": null,
      "outputs": []
    },
    {
      "cell_type": "code",
      "metadata": {
        "id": "hd_OvZ0lenDm"
      },
      "source": [
        "def show_routes(vessel=1, start='2019-01-01', end='2019-12-28'): \n",
        "  df_ = alldf.query(f'vessel == {vessel}')\n",
        "\n",
        "  fig = px.scatter_geo(df_.loc[start: end], lat='lat', lon='long', color='draft',\n",
        "                       hover_name=df_.loc[start: end].index)\n",
        "\n",
        "  fig.show()"
      ],
      "execution_count": null,
      "outputs": []
    },
    {
      "cell_type": "code",
      "metadata": {
        "id": "PCU2YOfOdJda"
      },
      "source": [
        "def draft_and_voyages(vessel=103):\n",
        "\n",
        "  df = alldf.query(f'vessel == {vessel}')\n",
        "  \n",
        "  in_port = df[df['pred_port'] > 0].index\n",
        "\n",
        "  fig, ax = plt.subplots(figsize=(20,5))\n",
        "  \n",
        "  df[['port_dist', 'draft']].plot(ax=ax)\n",
        "  \n",
        "  for p in in_port:\n",
        "    plt.axvline(p, ls='--', lw=0.5, c='r', label='port')\n",
        "  \n",
        "  plt.show()"
      ],
      "execution_count": null,
      "outputs": []
    },
    {
      "cell_type": "code",
      "metadata": {
        "id": "h6ko7YflUl8Y"
      },
      "source": [
        "draft_and_voyages(vessel=162)"
      ],
      "execution_count": null,
      "outputs": []
    },
    {
      "cell_type": "code",
      "metadata": {
        "id": "i-KDUEhEJzCF"
      },
      "source": [
        "imp_cols = ['vessel', 'lat_long', 'draft', 'vin_diff', 'vin_speed', 'isnan', 'pred_port', 'draft_change', 'sum_draft_change', 'port_dist', 'sum_draft_change']"
      ],
      "execution_count": 113,
      "outputs": []
    },
    {
      "cell_type": "code",
      "metadata": {
        "colab": {
          "base_uri": "https://localhost:8080/"
        },
        "id": "HDVWJpvbbyhD",
        "outputId": "889dc0bf-21b1-4f9e-a0ef-f8cba289a8e2"
      },
      "source": [
        "print(alldf.query('vessel == 174')[imp_cols].to_string())"
      ],
      "execution_count": 114,
      "outputs": [
        {
          "output_type": "stream",
          "text": [
            "                     vessel                                  lat_long  draft   vin_diff  vin_speed  isnan  pred_port  draft_change  sum_draft_change  port_dist  sum_draft_change\n",
            "datetime                                                                                                                                                                         \n",
            "2019-04-18 20:00:00     174          [34.955898299999994, 128.575085]    7.0 -99.000000 -13.363936      0         72             0                 2  12.643306                 2\n",
            "2019-04-19 00:00:00     174                  [34.95649165, 128.57415]    7.0 -99.000000 -13.363936      1         72             0                 2  12.562318                 2\n",
            "2019-04-19 04:00:00     174                   [34.957085, 128.573215]    7.0   0.107824   0.014555      0         72             0                 2  12.481737                 2\n",
            "2019-04-19 08:00:00     174          [34.9566317, 128.57301999999999]    7.0   0.053350   0.007202      0         72             0                 2  12.460405                 2\n",
            "2019-04-19 12:00:00     174          [34.957041360000005, 128.573625]    7.0   0.071547   0.009658      1         72             0                 2  12.518735                 2\n",
            "2019-04-19 16:00:00     174                  [34.95745102, 128.57423]    7.0   0.071547   0.009658      1         72             0                 2  12.577201                 2\n",
            "2019-04-19 20:00:00     174         [34.95786068, 128.57483499999998]    7.0   0.071547   0.009658      1         72             0                 2  12.635801                 2\n",
            "2019-04-20 00:00:00     174                  [34.95827034, 128.57544]    7.0   0.071546   0.009658      1         72             0                 2  12.694533                 2\n",
            "2019-04-20 04:00:00     174                    [34.95868, 128.576045]    7.0   0.071546   0.009658      0         72             0                 2  12.753396                 2\n",
            "2019-04-20 08:00:00     174   [34.95869524285715, 128.57617618571427]    7.0   0.012100   0.001633      1         72             0                 2  12.765478                 2\n",
            "2019-04-20 12:00:00     174  [34.958710485714285, 128.57630737142856]    7.0   0.012100   0.001633      1         72             0                 2  12.777560                 2\n",
            "2019-04-20 16:00:00     174   [34.95872572857143, 128.57643855714284]    7.0   0.012100   0.001633      1         72             0                 2  12.789642                 2\n",
            "2019-04-20 20:00:00     174  [34.958740971428576, 128.57656974285715]    7.0   0.012100   0.001633      1         72             0                 2  12.801725                 2\n",
            "2019-04-21 00:00:00     174   [34.95875621428572, 128.57670092857143]    7.0   0.012100   0.001633      1         72             0                 2  12.813807                 2\n",
            "2019-04-21 04:00:00     174    [34.95877145714286, 128.5768321142857]    7.0   0.012100   0.001633      1         72             0                 2  12.825889                 2\n",
            "2019-04-21 08:00:00     174         [34.958786700000005, 128.5769633]    7.0   0.012100   0.001633      0         72             0                 2  12.837972                 2\n",
            "2019-04-21 12:00:00     174                    [34.9566567, 128.5786]    7.0   0.279616   0.037745      0         72             0                 2  12.969080                 2\n",
            "2019-04-21 16:00:00     174                 [34.9564675, 128.5757625]    7.0   0.260016   0.035099      1         72             0                 2  12.709092                 2\n",
            "2019-04-21 20:00:00     174                  [34.9562783, 128.572925]    7.0   0.260016   0.035099      0         72             0                 2  12.449104                 2\n",
            "2019-04-22 00:00:00     174        [34.956508299999996, 128.57303085]    7.0   0.027286   0.003683      1         72             1                 2  12.460457                 2\n",
            "2019-04-22 04:00:00     174          [34.9567383, 128.57313670000002]    9.5   0.027286   0.003683      0         72             1                 2  12.471859                 2\n",
            "2019-04-22 08:00:00     174  [34.955154416666666, 128.57212391666667]    9.5   0.198578   0.026806      1         72             0                 2  12.368457                 2\n",
            "2019-04-22 12:00:00     174  [34.953570533333334, 128.57111113333335]    9.5   0.198578   0.026806      1         72             0                 2  12.267395                 2\n",
            "2019-04-22 16:00:00     174  [34.951986649999995, 128.57009835000002]    9.5   0.198579   0.026806      1         72             0                 2  12.168731                 2\n",
            "2019-04-22 20:00:00     174   [34.95040276666666, 128.56908556666667]    9.5   0.198580   0.026806      1         72             0                 2  12.072524                 2\n",
            "2019-04-23 00:00:00     174   [34.94881888333333, 128.56807278333332]    9.5   0.198581   0.026806      1         72             0                 2  11.978832                 2\n",
            "2019-04-23 04:00:00     174                    [34.947235, 128.56706]    9.5   0.198582   0.026806      0         72             0                 2  11.887716                 2\n",
            "2019-04-23 08:00:00     174             [34.947121675, 128.567317075]    9.5   0.026637   0.003596      1         72             0                 2  11.911396                 2\n",
            "2019-04-23 12:00:00     174  [34.947008350000004, 128.56757414999998]    9.5   0.026637   0.003596      1         72             0                 2  11.935088                 2\n",
            "2019-04-23 16:00:00     174             [34.946895025, 128.567831225]    9.5   0.026637   0.003596      1         72             0                 2  11.958792                 2\n",
            "2019-04-23 20:00:00     174                 [34.9467817, 128.5680883]    9.5   0.026637   0.003596      0         72             0                 2  11.982509                 2\n",
            "2019-04-24 00:00:00     174         [34.94783335, 128.56929858333334]    9.5   0.160730   0.021697      1         72             0                 2  12.091360                 2\n",
            "2019-04-24 04:00:00     174           [34.948885, 128.57050886666664]    9.5   0.160730   0.021697      1         72             0                 2  12.201354                 2\n",
            "2019-04-24 08:00:00     174         [34.94993665, 128.57171914999998]    9.5   0.160729   0.021697      0         72             0                 2  12.312461                 2\n",
            "2019-04-24 12:00:00     174         [34.950863299999995, 128.5680233]    9.5   0.352896   0.047637      0         72             0                 2  11.976332                 2\n",
            "2019-04-24 16:00:00     174   [34.94899829999999, 128.56681329999998]    9.5   0.234573   0.031665      0         72             0                 2  11.863790                 2\n",
            "2019-04-24 20:00:00     174          [35.0473833, 128.69803829999998]    9.5  16.206305   2.187677      0          0             0                 2  26.225173                 2\n",
            "2019-04-25 00:00:00     174                  [34.843295, 128.7996317]    9.5  24.469623   3.303136      0          0             0                 2  35.157643                 2\n",
            "2019-04-25 04:00:00     174        [34.656519165000006, 129.13568915]    9.5  37.096954   5.007690      0          0             0                 0   0.000000                 0\n",
            "2019-04-25 08:00:00     174                  [34.20554335, 128.93349]    9.5  53.367511   7.204040      0          0             0                 0   0.000000                 0\n",
            "2019-04-25 12:00:00     174                 [34.56786167, 129.139345]    9.5  44.427091   5.997180      0          0             0                 0   0.000000                 0\n",
            "2019-04-25 16:00:00     174                     [34.179045, 128.8698]    9.5  49.748837   6.715558      0          0             0                 0   0.000000                 0\n",
            "2019-04-25 20:00:00     174                   [33.9050375, 128.81465]    9.5  30.817447   4.160024      0          0             0                 0   0.000000                 0\n",
            "2019-04-26 00:00:00     174         [34.275954999999996, 128.9465183]    9.5  42.905722   5.791811      0          0             0                 0   0.000000                 0\n",
            "2019-04-26 04:00:00     174                    [34.3018, 128.8538067]    9.5   9.004621   1.215527      0          0             0                 0  81.320487                 0\n",
            "2019-04-26 08:00:00     174        [34.137789999999995, 128.85214335]    9.5  18.193678   2.455951      0          0             0                 0  97.707797                 0\n",
            "2019-04-26 12:00:00     174                [34.41484167, 129.0186683]    9.5  34.345827   4.636317      0          0             0                 0  79.691687                 0\n",
            "2019-04-26 16:00:00     174            [34.40276, 128.97333500000002]    9.5   4.378115   0.590998      0          0             0                 0  78.012930                 0\n",
            "2019-04-26 20:00:00     174  [34.321912499999996, 128.96144329999998]    9.5   9.034798   1.219601      0          0             0                 0  84.553207                 0\n",
            "2019-04-27 00:00:00     174                    [34.324425, 128.97846]    9.5   1.590712   0.214729      0          0             0                 0  85.223183                 0\n",
            "2019-04-27 04:00:00     174          [34.304261700000005, 128.972845]    9.5   2.295610   0.309883      0          0             0                 0  86.761530                 0\n",
            "2019-04-27 08:00:00     174                 [34.377275, 128.96075585]    9.5   8.175291   1.103576      0          0             0                 0  79.531107                 0\n",
            "2019-04-27 12:00:00     174                   [34.2426933, 128.92443]    9.5  15.298753   2.065167      0          0             0                 0  90.198081                 0\n",
            "2019-04-27 16:00:00     174         [34.32981167, 128.97238670000002]    9.5  10.624815   1.434236      0          0             0                 0  84.412256                 0\n",
            "2019-04-27 20:00:00     174         [34.25592085, 128.93413084999997]    9.5   8.921227   1.204270      0          0             0                 0  89.375789                 0\n",
            "2019-04-28 00:00:00     174          [34.4481083, 128.96891000000002]    9.5  21.557900   2.910085      0          0             0                 0  73.897741                 0\n",
            "2019-04-28 04:00:00     174                 [34.0595967, 128.6684033]    9.5  51.219551   6.914089      0          0             0                 0   0.000000                 0\n",
            "2019-04-28 08:00:00     174               [34.44985665, 129.02206335]    9.5  54.177234   7.313344      0          0             0                 0   0.000000                 0\n",
            "2019-04-28 12:00:00     174                    [34.314535, 128.99747]    9.5  15.180582   2.049215      0          0             0                 0  87.135579                 0\n",
            "2019-04-28 16:00:00     174                   [34.840885, 128.804055]    9.5  61.026849   8.237969      0          0             0                 0   0.000000                 0\n",
            "2019-04-28 20:00:00     174               [34.842513335, 128.7975775]    9.5   0.619383   0.083610      0          0             0                 0  35.009911                 0\n",
            "2019-04-29 00:00:00     174                   [34.84105, 128.7981183]    9.5   0.169707   0.022909      0          0             0                 0  35.111673                 0\n",
            "2019-04-29 04:00:00     174                [34.84161167, 128.7974733]    9.5   0.085807   0.011583      0          0             0                 0  35.034940                 0\n",
            "2019-04-29 08:00:00     174                [34.84112917, 128.7981775]    9.5   0.083748   0.011305      0          0             0                 0  35.113757                 0\n",
            "2019-04-29 12:00:00     174                [34.84071667, 128.7998467]    9.5   0.159383   0.021515      0          0             0                 0  35.272876                 0\n",
            "2019-04-29 16:00:00     174         [34.84113667, 128.79808329999997]    9.5   0.167884   0.022663      0          0             0                 0  35.105376                 0\n",
            "2019-04-29 20:00:00     174         [34.843239999999994, 128.7969625]    9.5   0.254864   0.034404      0          0             0                 0  34.929739                 0\n",
            "2019-04-30 00:00:00     174                 [34.8425333, 128.7969617]    9.5   0.078400   0.010583      0          0             0                 0  34.956168                 0\n",
            "2019-04-30 04:00:00     174                [34.84392167, 128.7969967]    9.5   0.154056   0.020796      0          0             0                 0  34.907275                 0\n",
            "2019-04-30 08:00:00     174          [34.7488325, 128.95880749999998]    9.5  18.181122   2.454256      0          0             0                 0  52.632230                 0\n",
            "2019-04-30 12:00:00     174          [34.6567833, 129.13986670000003]    9.5  19.479205   2.629483      0          0             0                 0  72.020386                 0\n",
            "2019-04-30 16:00:00     174                  [34.721625, 129.1266933]    9.5   7.293787   0.984583      0          0             0                 0  67.940238                 0\n",
            "2019-04-30 20:00:00     174          [35.007083314999996, 128.648825]    9.5  53.964491   7.284626      0          0             0                 0   0.000000                 0\n",
            "2019-05-01 00:00:00     174             [34.9839641575, 128.61449335]    9.5   4.049932   0.546697      1          0             0                 3  16.678079                 3\n",
            "2019-05-01 04:00:00     174           [34.960845, 128.58016170000002]    9.5   4.050607   0.546788      0          0             0                 3  13.150106                 3\n",
            "2019-05-01 08:00:00     174          [34.9610217, 128.57636499999998]    9.5   0.347312   0.046883      0         72             0                 3  12.807208                 3\n",
            "2019-05-01 12:00:00     174          [34.959326700000005, 128.575785]    9.5   0.195362   0.026372      0         72             1                 3  12.736058                 3\n",
            "2019-05-01 16:00:00     174          [34.9592417, 128.57573829999998]    7.0   0.010350   0.001397      0         72             1                 3  12.730956                 3\n",
            "2019-05-01 20:00:00     174             [34.950612425, 128.577175075]    7.0   0.966283   0.130438      1         72             0                 3  12.811703                 3\n",
            "2019-05-02 00:00:00     174         [34.94198315, 128.57861185000002]    7.0   0.966283   0.130438      0         72             0                 3  12.964195                 3\n",
            "2019-05-02 04:00:00     174   [34.941954220481925, 128.5785681289157]    7.0   0.005124   0.000692      1         72             0                 3  12.960398                 3\n",
            "2019-05-02 08:00:00     174   [34.94192529096385, 128.57852440783134]    7.0   0.005124   0.000692      1         72             0                 3  12.956602                 3\n",
            "2019-05-02 12:00:00     174    [34.941896361445785, 128.578480686747]    7.0   0.005124   0.000692      1         72             0                 3  12.952807                 3\n",
            "2019-05-02 16:00:00     174   [34.94186743192771, 128.57843696566266]    7.0   0.005124   0.000692      1         72             0                 3  12.949013                 3\n",
            "2019-05-02 20:00:00     174   [34.94183850240964, 128.57839324457834]    7.0   0.005124   0.000692      1         72             0                 3  12.945220                 3\n",
            "2019-05-03 00:00:00     174  [34.941809572891565, 128.57834952349398]    7.0   0.005124   0.000692      1         72             0                 3  12.941428                 3\n",
            "2019-05-03 04:00:00     174   [34.94178064337349, 128.57830580240966]    7.0   0.005124   0.000692      1         72             0                 3  12.937636                 3\n",
            "2019-05-03 08:00:00     174    [34.94175171385542, 128.5782620813253]    7.0   0.005124   0.000692      1         72             0                 3  12.933846                 3\n",
            "2019-05-03 12:00:00     174   [34.94172278433735, 128.57821836024098]    7.0   0.005124   0.000692      1         72             0                 3  12.930056                 3\n",
            "2019-05-03 16:00:00     174   [34.94169385481928, 128.57817463915663]    7.0   0.005124   0.000692      1         72             0                 3  12.926268                 3\n",
            "2019-05-03 20:00:00     174   [34.941664925301204, 128.5781309180723]    7.0   0.005124   0.000692      1         72             0                 3  12.922480                 3\n",
            "2019-05-04 00:00:00     174   [34.94163599578313, 128.57808719698798]    7.0   0.005124   0.000692      1         72             0                 3  12.918693                 3\n",
            "2019-05-04 04:00:00     174   [34.94160706626506, 128.57804347590363]    7.0   0.005124   0.000692      1         72             0                 3  12.914907                 3\n",
            "2019-05-04 08:00:00     174    [34.94157813674699, 128.5779997548193]    7.0   0.005124   0.000692      1         72             0                 3  12.911122                 3\n",
            "2019-05-04 12:00:00     174   [34.94154920722892, 128.57795603373495]    7.0   0.005124   0.000692      1         72             0                 3  12.907338                 3\n",
            "2019-05-04 16:00:00     174   [34.94152027771084, 128.57791231265062]    7.0   0.005124   0.000692      1         72             0                 3  12.903555                 3\n",
            "2019-05-04 20:00:00     174   [34.94149134819277, 128.57786859156627]    7.0   0.005124   0.000692      1         72             0                 3  12.899773                 3\n",
            "2019-05-05 00:00:00     174  [34.941462418674696, 128.57782487048195]    7.0   0.005124   0.000692      1         72             0                 3  12.895992                 3\n",
            "2019-05-05 04:00:00     174    [34.94143348915662, 128.5777811493976]    7.0   0.005124   0.000692      1         72             0                 3  12.892211                 3\n",
            "2019-05-05 08:00:00     174  [34.941404559638556, 128.57773742831327]    7.0   0.005124   0.000692      1         72             0                 3  12.888432                 3\n",
            "2019-05-05 12:00:00     174   [34.94137563012048, 128.57769370722892]    7.0   0.005124   0.000692      1         72             0                 3  12.884653                 3\n",
            "2019-05-05 16:00:00     174    [34.94134670060241, 128.5776499861446]    7.0   0.005124   0.000692      1         72             0                 3  12.880876                 3\n",
            "2019-05-05 20:00:00     174  [34.941317771084336, 128.57760626506024]    7.0   0.005124   0.000692      1         72             0                 3  12.877099                 3\n",
            "2019-05-06 00:00:00     174   [34.94128884156626, 128.57756254397592]    7.0   0.005124   0.000692      1         72             0                 3  12.873323                 3\n",
            "2019-05-06 04:00:00     174   [34.941259912048196, 128.5775188228916]    7.0   0.005124   0.000692      1         72             0                 3  12.869549                 3\n",
            "2019-05-06 08:00:00     174   [34.94123098253012, 128.57747510180724]    7.0   0.005124   0.000692      1         72             0                 3  12.865775                 3\n",
            "2019-05-06 12:00:00     174    [34.94120205301205, 128.5774313807229]    7.0   0.005124   0.000692      1         72             0                 3  12.862002                 3\n",
            "2019-05-06 16:00:00     174  [34.941173123493975, 128.57738765963856]    7.0   0.005124   0.000692      1         72             0                 3  12.858230                 3\n",
            "2019-05-06 20:00:00     174    [34.9411441939759, 128.57734393855424]    7.0   0.005124   0.000692      1         72             0                 3  12.854459                 3\n",
            "2019-05-07 00:00:00     174   [34.94111526445783, 128.57730021746988]    7.0   0.005124   0.000692      1         72             0                 3  12.850689                 3\n",
            "2019-05-07 04:00:00     174   [34.94108633493976, 128.57725649638556]    7.0   0.005124   0.000692      1         72             0                 3  12.846920                 3\n",
            "2019-05-07 08:00:00     174    [34.94105740542169, 128.5772127753012]    7.0   0.005124   0.000692      1         72             0                 3  12.843151                 3\n",
            "2019-05-07 12:00:00     174  [34.941028475903614, 128.57716905421688]    7.0   0.005124   0.000692      1         72             0                 3  12.839384                 3\n",
            "2019-05-07 16:00:00     174   [34.94099954638554, 128.57712533313253]    7.0   0.005124   0.000692      1         72             0                 3  12.835618                 3\n",
            "2019-05-07 20:00:00     174    [34.94097061686747, 128.5770816120482]    7.0   0.005124   0.000692      1         72             0                 3  12.831852                 3\n",
            "2019-05-08 00:00:00     174    [34.9409416873494, 128.57703789096388]    7.0   0.005124   0.000692      1         72             0                 3  12.828088                 3\n",
            "2019-05-08 04:00:00     174   [34.94091275783133, 128.57699416987953]    7.0   0.005124   0.000692      1         72             0                 3  12.824324                 3\n",
            "2019-05-08 08:00:00     174   [34.940883828313254, 128.5769504487952]    7.0   0.005124   0.000692      1         72             0                 3  12.820561                 3\n",
            "2019-05-08 12:00:00     174   [34.94085489879518, 128.57690672771085]    7.0   0.005124   0.000692      1         72             0                 3  12.816800                 3\n",
            "2019-05-08 16:00:00     174   [34.94082596927711, 128.57686300662652]    7.0   0.005124   0.000692      1         72             0                 3  12.813039                 3\n",
            "2019-05-08 20:00:00     174   [34.94079703975903, 128.57681928554217]    7.0   0.005124   0.000692      1         72             0                 3  12.809279                 3\n",
            "2019-05-09 00:00:00     174   [34.94076811024097, 128.57677556445785]    7.0   0.005124   0.000692      1         72             0                 3  12.805520                 3\n",
            "2019-05-09 04:00:00     174    [34.94073918072289, 128.5767318433735]    7.0   0.005124   0.000692      1         72             0                 3  12.801763                 3\n",
            "2019-05-09 08:00:00     174   [34.94071025120482, 128.57668812228917]    7.0   0.005124   0.000692      1         72             0                 3  12.798006                 3\n",
            "2019-05-09 12:00:00     174  [34.940681321686746, 128.57664440120482]    7.0   0.005124   0.000692      1         72             0                 3  12.794250                 3\n",
            "2019-05-09 16:00:00     174    [34.94065239216867, 128.5766006801205]    7.0   0.005124   0.000692      1         72             0                 3  12.790494                 3\n",
            "2019-05-09 20:00:00     174    [34.9406234626506, 128.57655695903614]    7.0   0.005124   0.000692      1         72             0                 3  12.786740                 3\n",
            "2019-05-10 00:00:00     174   [34.94059453313253, 128.57651323795181]    7.0   0.005124   0.000692      1         72             0                 3  12.782987                 3\n",
            "2019-05-10 04:00:00     174    [34.94056560361446, 128.5764695168675]    7.0   0.005124   0.000692      1         72             0                 3  12.779235                 3\n",
            "2019-05-10 08:00:00     174  [34.940536674096386, 128.57642579578314]    7.0   0.005124   0.000692      1         72             0                 3  12.775484                 3\n",
            "2019-05-10 12:00:00     174    [34.94050774457831, 128.5763820746988]    7.0   0.005124   0.000692      1         72             0                 3  12.771733                 3\n",
            "2019-05-10 16:00:00     174   [34.94047881506024, 128.57633835361446]    7.0   0.005124   0.000692      1         72             0                 3  12.767984                 3\n",
            "2019-05-10 20:00:00     174   [34.94044988554217, 128.57629463253014]    7.0   0.005124   0.000692      1         72             0                 3  12.764236                 3\n",
            "2019-05-11 00:00:00     174    [34.9404209560241, 128.57625091144578]    7.0   0.005124   0.000692      1         72             0                 3  12.760488                 3\n",
            "2019-05-11 04:00:00     174  [34.940392026506025, 128.57620719036146]    7.0   0.005124   0.000692      1         72             0                 3  12.756742                 3\n",
            "2019-05-11 08:00:00     174    [34.94036309698795, 128.5761634692771]    7.0   0.005124   0.000692      1         72             0                 3  12.752996                 3\n",
            "2019-05-11 12:00:00     174   [34.94033416746988, 128.57611974819278]    7.0   0.005124   0.000692      1         72             0                 3  12.749251                 3\n",
            "2019-05-11 16:00:00     174  [34.940305237951804, 128.57607602710843]    7.0   0.005124   0.000692      1         72             0                 3  12.745508                 3\n",
            "2019-05-11 20:00:00     174    [34.94027630843374, 128.5760323060241]    7.0   0.005124   0.000692      1         72             0                 3  12.741765                 3\n",
            "2019-05-12 00:00:00     174  [34.940247378915664, 128.57598858493978]    7.0   0.005124   0.000692      1         72             0                 3  12.738023                 3\n",
            "2019-05-12 04:00:00     174   [34.94021844939759, 128.57594486385543]    7.0   0.005124   0.000692      1         72             0                 3  12.734283                 3\n",
            "2019-05-12 08:00:00     174    [34.94018951987952, 128.5759011427711]    7.0   0.005124   0.000692      1         72             0                 3  12.730543                 3\n",
            "2019-05-12 12:00:00     174  [34.940160590361444, 128.57585742168675]    7.0   0.005124   0.000692      1         72             0                 3  12.726804                 3\n",
            "2019-05-12 16:00:00     174   [34.94013166084338, 128.57581370060242]    7.0   0.005124   0.000692      1         72             0                 3  12.723066                 3\n",
            "2019-05-12 20:00:00     174  [34.940102731325304, 128.57576997951807]    7.0   0.005124   0.000692      1         72             0                 3  12.719329                 3\n",
            "2019-05-13 00:00:00     174   [34.94007380180723, 128.57572625843375]    7.0   0.005124   0.000692      1         72             0                 3  12.715593                 3\n",
            "2019-05-13 04:00:00     174    [34.94004487228916, 128.5756825373494]    7.0   0.005124   0.000692      1         72             0                 3  12.711858                 3\n",
            "2019-05-13 08:00:00     174   [34.94001594277108, 128.57563881626507]    7.0   0.005124   0.000692      1         72             0                 3  12.708124                 3\n",
            "2019-05-13 12:00:00     174   [34.93998701325301, 128.57559509518072]    7.0   0.005124   0.000692      1         72             0                 3  12.704391                 3\n",
            "2019-05-13 16:00:00     174    [34.93995808373494, 128.5755513740964]    7.0   0.005124   0.000692      1         72             0                 3  12.700659                 3\n",
            "2019-05-13 20:00:00     174   [34.93992915421687, 128.57550765301204]    7.0   0.005124   0.000692      1         72             0                 3  12.696928                 3\n",
            "2019-05-14 00:00:00     174  [34.939900224698796, 128.57546393192771]    7.0   0.005124   0.000692      1         72             0                 3  12.693198                 3\n",
            "2019-05-14 04:00:00     174    [34.93987129518072, 128.5754202108434]    7.0   0.005124   0.000692      1         72             0                 3  12.689468                 3\n",
            "2019-05-14 08:00:00     174   [34.93984236566265, 128.57537648975904]    7.0   0.005124   0.000692      1         72             0                 3  12.685740                 3\n",
            "2019-05-14 12:00:00     174    [34.93981343614458, 128.5753327686747]    7.0   0.005124   0.000692      1         72             0                 3  12.682013                 3\n",
            "2019-05-14 16:00:00     174   [34.93978450662651, 128.57528904759036]    7.0   0.005124   0.000692      1         72             0                 3  12.678287                 3\n",
            "2019-05-14 20:00:00     174  [34.939755577108436, 128.57524532650604]    7.0   0.005124   0.000692      1         72             0                 3  12.674561                 3\n",
            "2019-05-15 00:00:00     174   [34.93972664759036, 128.57520160542168]    7.0   0.005124   0.000692      1         72             0                 3  12.670837                 3\n",
            "2019-05-15 04:00:00     174   [34.93969771807229, 128.57515788433736]    7.0   0.005124   0.000692      1         72             0                 3  12.667114                 3\n",
            "2019-05-15 08:00:00     174    [34.939668788554215, 128.575114163253]    7.0   0.005124   0.000692      1         72             0                 3  12.663391                 3\n",
            "2019-05-15 12:00:00     174   [34.93963985903615, 128.57507044216868]    7.0   0.005124   0.000692      1         72             0                 3  12.659670                 3\n",
            "2019-05-15 16:00:00     174  [34.939610929518075, 128.57502672108433]    7.0   0.005124   0.000692      1         72             0                 3  12.655949                 3\n",
            "2019-05-15 20:00:00     174                   [34.939582, 128.574983]    7.0   0.005124   0.000692      0         72             0                 3  12.652230                 3\n",
            "2019-05-16 00:00:00     174         [34.965295999999995, 128.5846325]    7.0   2.985762   0.403046      1         72             0                 3  13.613561                 3\n",
            "2019-05-16 04:00:00     174          [34.991009999999996, 128.594282]    7.0   2.985692   0.403036      0         72             1                 3  15.112703                 3\n",
            "2019-05-16 08:00:00     174         [34.481540499999994, 128.9064635]    9.5  63.337823   8.549925      0          0             1                 1   0.000000                 1\n",
            "2019-05-16 12:00:00     174          [34.389602000000004, 128.071502]    9.5  77.416286  10.450366      0          0             0                 1   0.000000                 1\n",
            "2019-05-16 16:00:00     174                   [34.670773, 127.938722]    9.5  33.488326   4.520564      0          0             0                 0  27.275232                 0\n",
            "2019-05-16 20:00:00     174                 [34.8830725, 127.7916535]    9.5  27.127643   3.661940      0          0             0                 0   0.170147                 0\n",
            "2019-05-17 00:00:00     174                   [34.883083, 127.791653]    9.5   0.001166   0.000157      0         34             0                 0   0.168982                 0\n",
            "2019-05-17 04:00:00     174                   [34.883055, 127.791648]    9.5   0.003140   0.000424      0         34             0                 0   0.172090                 0\n",
            "2019-05-17 08:00:00     174           [34.883044999999996, 127.79165]    9.5   0.001124   0.000152      0         34             0                 0   0.173199                 0\n",
            "2019-05-17 12:00:00     174                   [34.883052, 127.791647]    9.5   0.000824   0.000111      0         34             0                 0   0.172423                 0\n",
            "2019-05-17 16:00:00     174           [34.883057, 127.79165800000001]    9.5   0.001148   0.000155      0         34             0                 0   0.171866                 0\n",
            "2019-05-17 20:00:00     174                  [34.883055, 127.7916485]    9.5   0.000896   0.000121      0         34             0                 0   0.172090                 0\n",
            "2019-05-18 00:00:00     174                   [34.883068, 127.791642]    9.5   0.001560   0.000211      0         34             0                 0   0.170652                 0\n",
            "2019-05-18 04:00:00     174                   [34.883068, 127.791632]    9.5   0.000914   0.000123      0         34             0                 0   0.170662                 0\n",
            "2019-05-18 08:00:00     174          [34.8830645, 127.79164499999999]    9.5   0.001250   0.000169      0         34             0                 0   0.171038                 0\n",
            "2019-05-18 12:00:00     174                   [34.883035, 127.791657]    9.5   0.003452   0.000466      0         34             0                 0   0.174307                 0\n",
            "2019-05-18 16:00:00     174                   [34.883032, 127.791648]    9.5   0.000888   0.000120      0         34             0                 0   0.174642                 0\n",
            "2019-05-18 20:00:00     174          [34.553847999999995, 127.942378]    9.5  39.041054   5.270123      0          0             0                 0   0.000000                 0\n",
            "2019-05-19 00:00:00     174   [34.55948533333333, 128.31234033333334]    9.5  33.960066   4.584244      1          0             0                 0  44.671223                 0\n",
            "2019-05-19 04:00:00     174   [34.56512266666667, 128.68230266666666]    9.5  33.957776   4.583935      1          0             0                 0  48.129349                 0\n",
            "2019-05-19 08:00:00     174            [34.57076, 129.05226499999998]    9.5  33.955485   4.583625      0          0             0                 0  70.232618                 0\n",
            "2019-05-19 12:00:00     174           [34.671207, 129.08138799999998]    9.5  11.458555   1.546782      0          0             0                 0  66.524077                 0\n",
            "2019-05-19 16:00:00     174          [34.680871999999994, 129.006175]    9.5   6.975897   0.941671      0          0             0                 0  59.966763                 0\n",
            "2019-05-19 20:00:00     174                   [34.753443, 129.135107]    9.5  14.293262   1.929437      0          0             0                 0  67.428120                 0\n",
            "2019-05-20 00:00:00     174          [34.683378000000005, 129.159528]    9.5   8.088183   1.091818      0          0             0                 0  72.372431                 0\n",
            "2019-05-20 04:00:00     174          [34.668746999999996, 129.138875]    9.5   2.493391   0.336581      0          0             0                 0  71.347354                 0\n",
            "2019-05-20 08:00:00     174                  [34.5209225, 129.058015]    9.5  17.998293   2.429576      0          0             0                 0  74.084019                 0\n",
            "2019-05-20 12:00:00     174                   [34.496675, 129.049207]    9.5   2.808794   0.379157      0          0             0                 0  75.238548                 0\n",
            "2019-05-20 16:00:00     174                   [34.491285, 129.081738]    9.5   3.047101   0.411326      0          0             0                 0  77.874782                 0\n",
            "2019-05-20 20:00:00     174                  [34.6987335, 129.139856]    9.5  23.622432   3.188774      0          0             0                 0  70.034619                 0\n",
            "2019-05-21 00:00:00     174           [34.639975, 129.12310300000001]    9.5   6.696755   0.903990      0          0             0                 0  71.533477                 0\n",
            "2019-05-21 04:00:00     174  [34.688340000000004, 129.06118500000002]    9.5   7.810047   1.054272      0          0             0                 0  64.005784                 0\n",
            "2019-05-21 08:00:00     174   [34.75134766666667, 129.14050466666666]    9.5  10.081921   1.360951      0          0             0                 0  67.971070                 0\n",
            "2019-05-21 12:00:00     174                    [34.692342, 129.10575]    9.5   7.278857   0.982567      0          0             0                 0  67.479148                 0\n",
            "2019-05-21 16:00:00     174                    [34.629475, 129.09441]    9.5   7.051150   0.951829      0          0             0                 0  69.826804                 0\n",
            "2019-05-21 20:00:00     174  [34.772341499999996, 129.00258200000002]    9.5  17.943516   2.422182      0          0             0                 0  55.305110                 0\n",
            "2019-05-22 00:00:00     174                    [34.55339, 129.053843]    9.5  24.739545   3.339573      0          0             0                 0  71.518692                 0\n",
            "2019-05-22 04:00:00     174           [34.383772, 128.91891299999997]    9.5  22.532485   3.041643      0          0             0                 0  76.685028                 0\n",
            "2019-05-22 08:00:00     174           [34.379888, 128.94361700000002]    9.5   2.312502   0.312163      0          0             0                 0  78.358623                 0\n",
            "2019-05-22 12:00:00     174                    [34.74843, 129.130698]    9.5  44.341809   5.985668      0          0             0                 0   0.000000                 0\n",
            "2019-05-22 16:00:00     174                   [34.465558, 128.983518]    9.5  34.160544   4.611306      0          0             0                 0  73.357475                 0\n",
            "2019-05-22 20:00:00     174                  [34.6963675, 128.948331]    9.5  25.807106   3.483682      0          0             0                 0  54.526260                 0\n",
            "2019-05-23 00:00:00     174                    [34.24307, 128.861113]    9.5  50.919135   6.873536      0          0             0                 0   0.000000                 0\n",
            "2019-05-23 04:00:00     174                   [34.405652, 128.953585]    9.5  19.942060   2.691964      0          0             0                 0  76.632220                 0\n",
            "2019-05-23 08:00:00     174                  [34.458202, 128.9869425]    9.5   6.586524   0.889110      0          0             0                 0  74.170188                 0\n",
            "2019-05-23 12:00:00     174                   [34.632148, 129.153167]    9.5  24.599690   3.320694      0          0             0                 0  74.369351                 0\n",
            "2019-05-23 16:00:00     174          [34.685165000000005, 129.136795]    9.5   6.069859   0.819366      0          0             0                 0  70.394358                 0\n",
            "2019-05-23 20:00:00     174          [34.519296499999996, 129.048369]    9.5  20.108771   2.714468      0          0             0                 0  73.525147                 0\n",
            "2019-05-24 00:00:00     174                   [34.643842, 128.900977]    9.5  19.333035   2.609752      0          0             0                 0  54.295326                 0\n",
            "2019-05-24 04:00:00     174                   [34.590313, 129.032262]    9.5  13.425026   1.812234      0          0             0                 0  67.466310                 0\n",
            "2019-05-24 08:00:00     174                  [34.4048625, 129.088875]    9.5  21.219178   2.864361      0          0             0                 0  84.917057                 0\n",
            "2019-05-24 12:00:00     174           [34.412898, 129.07075700000001]    9.5   1.889266   0.255031      0          0             0                 0  83.115278                 0\n",
            "2019-05-24 16:00:00     174                   [34.590113, 129.180157]    9.5  22.077355   2.980206      0          0             0                 0  78.819009                 0\n",
            "2019-05-24 20:00:00     174                   [34.4521085, 129.00879]    9.5  21.953097   2.963432      0          0             0                 0  76.034026                 0\n",
            "2019-05-25 00:00:00     174                   [34.833903, 128.807077]    9.5  46.215510   6.238597      0          0             0                 0   0.000000                 0\n",
            "2019-05-25 04:00:00     174          [34.559408000000005, 129.057883]    9.5  38.148898   5.149691      0          0             0                 0   0.000000                 0\n",
            "2019-05-25 08:00:00     174  [34.528692500000005, 129.14628349999998]    9.5   8.800789   1.188012      0          0             0                 0  79.949327                 0\n",
            "2019-05-25 12:00:00     174                   [34.713637, 129.194058]    9.5  20.979155   2.831960      0          0             0                 0  74.008742                 0\n",
            "2019-05-25 16:00:00     174                    [34.652668, 129.07307]    9.5  12.987361   1.753154      0          0             0                 0  66.842608                 0\n",
            "2019-05-25 20:00:00     174                  [34.7246765, 129.097293]    9.5   8.290893   1.119181      0          0             0                 0  65.319839                 0\n",
            "2019-05-26 00:00:00     174          [34.813984999999995, 129.168743]    9.5  11.871885   1.602577      0          0             0                 0  68.553130                 0\n",
            "2019-05-26 04:00:00     174           [34.736653000000004, 129.14994]    9.5   8.749892   1.181141      0          0             0                 0  69.330283                 0\n",
            "2019-05-26 08:00:00     174          [34.787144999999995, 129.254094]    9.5  11.058982   1.492844      0          0             0                 0  76.838709                 0\n",
            "2019-05-26 12:00:00     174                    [34.74599, 129.115848]    9.5  13.454287   1.816184      0          0             0                 0  66.042470                 0\n",
            "2019-05-26 16:00:00     174          [34.668791999999996, 129.148325]    9.5   9.066091   1.223825      0          0             0                 0  72.124550                 0\n",
            "2019-05-26 20:00:00     174                   [34.77655, 129.1365745]    9.5  12.002542   1.620214      0          0             0                 0  66.768409                 0\n",
            "2019-05-27 00:00:00     174            [34.41565, 128.86621200000002]    9.5  47.095400   6.357373      0          0             0                 0   0.000000                 0\n",
            "2019-05-27 04:00:00     174           [34.296812, 128.91431699999998]    9.5  13.905583   1.877104      0          0             0                 0  84.545242                 0\n",
            "2019-05-27 08:00:00     174          [34.6527885, 129.17064599999998]    9.5  45.977024   6.206404      0          0             0                 0   0.000000                 0\n",
            "2019-05-27 12:00:00     174                   [34.603497, 129.086323]    9.5   9.470445   1.278408      0          0             0                 0  70.716690                 0\n",
            "2019-05-27 16:00:00     174                    [34.573388, 129.14163]    9.5   6.074691   0.820018      0          0             0                 0  76.791273                 0\n",
            "2019-05-27 20:00:00     174                 [34.4594865, 129.0611035]    9.5  14.639785   1.976214      0          0             0                 0  78.845132                 0\n",
            "2019-05-28 00:00:00     174                   [34.723537, 129.241277]    9.5  33.633697   4.540188      0          0             0                 0  77.701340                 0\n",
            "2019-05-28 04:00:00     174                   [34.450547, 129.086625]    9.5  33.442613   4.514393      0          0             0                 0  81.230838                 0\n",
            "2019-05-28 08:00:00     174                    [34.71401, 129.184799]    9.5  30.583248   4.128410      0          0             0                 0  73.201881                 0\n",
            "2019-05-28 12:00:00     174                   [34.257447, 128.803147]    9.5  61.596221   8.314828      0          0             0                 0   0.000000                 0\n",
            "2019-05-28 16:00:00     174          [34.809771999999995, 128.838102]    9.5  61.354526   8.282201      0          0             0                 0   0.000000                 0\n",
            "2019-05-28 20:00:00     174         [34.397808999999995, 128.2316575]    9.5  71.991814   9.718121      0          0             0                 0   0.000000                 0\n",
            "2019-05-29 00:00:00     174           [34.883062, 127.79164499999999]    9.5  67.270370   9.080777      0          0             0                 0   0.000000                 0\n",
            "2019-05-29 04:00:00     174                   [34.883062, 127.791657]    9.5   0.001097   0.000148      0         34             0                 0   0.171311                 0\n",
            "2019-05-29 08:00:00     174         [34.883056499999995, 127.7916665]    9.5   0.001061   0.000143      0         34             0                 0   0.171923                 0\n",
            "2019-05-29 12:00:00     174           [34.883065, 127.79164499999999]    9.5   0.002180   0.000294      0         34             0                 0   0.170982                 0\n",
            "2019-05-29 16:00:00     174           [34.883055, 127.79165800000001]    9.5   0.001626   0.000219      0         34             0                 0   0.172088                 0\n",
            "2019-05-29 20:00:00     174                 [34.4790025, 128.4393685]    9.5  74.379630  10.040450      0          0             0                 0   0.000000                 0\n",
            "2019-05-30 00:00:00     174                     [34.8385, 128.802923]    9.5  51.971503   7.015594      0          0             0                 0   0.000000                 0\n",
            "2019-05-30 04:00:00     174                   [34.658727, 129.038847]    9.5  29.400880   3.968803      0          0             0                 0  63.790325                 0\n",
            "2019-05-30 08:00:00     174          [34.716505999999995, 129.185686]    9.5  14.904101   2.011893      0          0             0                 0  73.178779                 0\n",
            "2019-05-30 12:00:00     174                   [34.785887, 129.270835]    9.5  10.955717   1.478904      0          0             0                 0  78.360573                 0\n",
            "2019-05-30 16:00:00     174                      [34.7837, 128.84297]    9.5  39.161722   5.286411      0          0             0                 0   0.000000                 0\n",
            "2019-05-30 20:00:00     174  [34.841089999999994, 128.79682400000002]    9.5   7.639464   1.031246      0          0             0                 5  34.998937                 5\n",
            "2019-05-31 00:00:00     174                    [34.841138, 128.79693]    9.5   0.011061   0.001493      0          0             0                 5  35.006217                 5\n",
            "2019-05-31 04:00:00     174           [34.840922, 128.79752299999998]    9.5   0.059296   0.008004      0          0             0                 5  35.065384                 5\n",
            "2019-05-31 08:00:00     174    [34.84071333333333, 128.7975263333333]    9.5   0.023151   0.003125      0          0             0                 5  35.073618                 5\n",
            "2019-05-31 12:00:00     174          [34.838578000000005, 128.798545]    9.5   0.254554   0.034362      0          0             0                 5  35.243028                 5\n",
            "2019-05-31 16:00:00     174           [34.840668, 128.79776299999997]    9.5   0.242642   0.032754      0          0             0                 5  35.095674                 5\n",
            "2019-05-31 20:00:00     174         [34.841165999999994, 128.7965825]    9.5   0.121287   0.016372      0          0             0                 5  34.975296                 5\n",
            "2019-06-01 00:00:00     174                   [34.841085, 128.797255]    9.5   0.062163   0.008391      0          0             0                 5  35.036157                 5\n",
            "2019-06-01 04:00:00     174           [34.840382, 128.79816499999998]    9.5   0.114061   0.015397      0          0             0                 5  35.141109                 5\n",
            "2019-06-01 08:00:00     174  [34.840782999999995, 128.79739600000002]    9.5   0.083224   0.011234      0          0             0                 5  35.059767                 5\n",
            "2019-06-01 12:00:00     174  [34.840703000000005, 128.79478999999998]    9.5   0.238522   0.032198      0          0             0                 5  34.839079                 5\n",
            "2019-06-01 16:00:00     174                    [34.84105, 128.796725]    9.5   0.181122   0.024450      0          0             0                 5  34.991955                 5\n",
            "2019-06-01 20:00:00     174                  [34.8410985, 128.796828]    9.5   0.010849   0.001464      0          0             0                 5  34.998957                 5\n",
            "2019-06-02 00:00:00     174                   [34.840252, 128.798172]    9.5   0.154694   0.020882      0          0             0                 5  35.146674                 5\n",
            "2019-06-02 04:00:00     174           [34.840212, 128.79828700000002]    9.5   0.011416   0.001541      0          0             0                 5  35.158077                 5\n",
            "2019-06-02 08:00:00     174                  [34.8408135, 128.797405]    9.5   0.104694   0.014133      0          0             0                 5  35.059378                 5\n",
            "2019-06-02 12:00:00     174                   [34.841163, 128.795803]    9.5   0.151569   0.020460      0          0             0                 5  34.908451                 5\n",
            "2019-06-02 16:00:00     174                  [34.982864, 128.6927985]    9.5  18.322956   2.473402      0          0             0                 5  23.670516                 5\n",
            "2019-06-02 20:00:00     174                [34.9734945, 128.63680775]    9.5   5.217245   0.704272      1          0             0                 5  18.458971                 5\n",
            "2019-06-03 00:00:00     174                   [34.964125, 128.580817]    9.5   5.217816   0.704349      0          0             1                 5  13.251121                 5\n",
            "2019-06-03 04:00:00     174         [34.964053500000006, 128.5811095]    8.1   0.027866   0.003762      0         72             1                 5  13.276610                 5\n",
            "2019-06-03 08:00:00     174          [34.963896999999996, 128.581098]    6.7   0.017394   0.002348      0         72             1                 5  13.273380                 5\n",
            "2019-06-03 12:00:00     174                 [34.9635255, 128.5789555]    6.7   0.199965   0.026993      0         72             1                 5  13.074095                 5\n",
            "2019-06-03 16:00:00     174                   [34.917393, 128.592065]    5.7   5.256170   0.709526      0          0             1                 5  14.595340                 5\n"
          ],
          "name": "stdout"
        }
      ]
    },
    {
      "cell_type": "code",
      "metadata": {
        "id": "rvA-nfJqtqAQ"
      },
      "source": [
        "close_ones = []\n",
        "\n",
        "for x in df1['lat_long']:\n",
        "  distances = []\n",
        "  for y in df1['lat_long']:\n",
        "    vdist = vincenty(x, y)\n",
        "    distances.append(vdist)\n",
        "  close_ones.append(distances)\n",
        "\n",
        "disters = [[(df1['port'].iloc[n], z) for n, z in zip(np.argsort(p)[:5], sorted(p)[:5])] for p in close_ones]\n",
        "\n",
        "close_ones = {}\n",
        "\n",
        "for n in disters:\n",
        "  port = n[0][0]\n",
        "  dees = {d:v for d, v in n[1:] if v < 100}\n",
        "  close_ones[port] = dees\n",
        "\n",
        "close_ones = {k:v for k,v in close_ones.items() if len(v) >= 1}"
      ],
      "execution_count": 28,
      "outputs": []
    }
  ]
}