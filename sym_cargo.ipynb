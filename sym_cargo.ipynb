{
  "nbformat": 4,
  "nbformat_minor": 0,
  "metadata": {
    "colab": {
      "name": "sym_cargo.ipynb",
      "provenance": [],
      "collapsed_sections": [],
      "mount_file_id": "1bTzsC2_o8Jg772hCJWDRqrHnkqeQuRQx",
      "authorship_tag": "ABX9TyMFbvkGvo20F1tb3RYOy1L9",
      "include_colab_link": true
    },
    "kernelspec": {
      "name": "python3",
      "display_name": "Python 3"
    },
    "language_info": {
      "name": "python"
    }
  },
  "cells": [
    {
      "cell_type": "markdown",
      "metadata": {
        "id": "view-in-github",
        "colab_type": "text"
      },
      "source": [
        "<a href=\"https://colab.research.google.com/github/yaobviously/sym-cargo/blob/main/sym_cargo.ipynb\" target=\"_parent\"><img src=\"https://colab.research.google.com/assets/colab-badge.svg\" alt=\"Open In Colab\"/></a>"
      ]
    },
    {
      "cell_type": "code",
      "metadata": {
        "id": "TRudeILZCNAh",
        "colab": {
          "base_uri": "https://localhost:8080/"
        },
        "outputId": "7091cc3f-7ca1-40f9-ff39-2e3e8be979b7"
      },
      "source": [
        "!pip install plotly-express --quiet\n",
        "!pip install vincenty --quiet"
      ],
      "execution_count": 1,
      "outputs": [
        {
          "output_type": "stream",
          "text": [
            "  Building wheel for vincenty (setup.py) ... \u001b[?25l\u001b[?25hdone\n"
          ],
          "name": "stdout"
        }
      ]
    },
    {
      "cell_type": "code",
      "metadata": {
        "id": "KFygxcBXBsUT"
      },
      "source": [
        "import pandas as pd\n",
        "import numpy as np\n",
        "import matplotlib.pyplot as plt\n",
        "import seaborn as sns\n",
        "from vincenty import vincenty\n",
        "from sklearn.neighbors import NearestNeighbors\n",
        "import plotly_express as px"
      ],
      "execution_count": 257,
      "outputs": []
    },
    {
      "cell_type": "code",
      "metadata": {
        "id": "ERdgnPI_B8xV"
      },
      "source": [
        "port_file = '/content/drive/MyDrive/Ports/ports.csv'\n",
        "tracking_file = '/content/drive/MyDrive/Ports/tracking.csv'"
      ],
      "execution_count": 94,
      "outputs": []
    },
    {
      "cell_type": "code",
      "metadata": {
        "id": "VGQ3oW9dCGF6"
      },
      "source": [
        "def wrangle():\n",
        "  df1 = pd.read_csv(port_file)\n",
        "\n",
        "  # converting lat and long to radians to compute haversine distance\n",
        "  df1['lat_rad'] = np.radians(df1['lat'])\n",
        "  df1['long_rad'] = np.radians(df1['long'])\n",
        "  \n",
        "  # rounding lat and long in port df\n",
        "  df1['lat'] = df1['lat'].round(1)\n",
        "  df1['long'] = df1['long'].round(1)\n",
        "\n",
        "  df2 = pd.read_csv(tracking_file, parse_dates=['datetime'])\n",
        "  df2 = df2.drop_duplicates()\n",
        "  df2 = df2.sort_values(['vessel', 'datetime'])\n",
        "  \n",
        "  # converting lat and long to radians to compute haversine distance  \n",
        "  df2['lat_rad'] = np.radians(df2['lat'])\n",
        "  df2['long_rad'] = np.radians(df2['long'])\n",
        "\n",
        "  # adding lat/long column and lat/long 1 back to later compute delta\n",
        "  df2['lat_long'] = [[x,y] for x, y in zip(df2['lat'], df2['long'])]\n",
        "  df2['lat_long_1back'] = df2.groupby('vessel')['lat_long'].transform(lambda x: x.shift())   \n",
        "  \n",
        "  # months and days\n",
        "  df2['time_delta'] = df2.groupby('vessel')['datetime'].transform(lambda x: x.diff(1))\n",
        "  df2['delta_hours'] = df2.groupby('vessel')['time_delta'].transform(lambda x: [(n.seconds/3600) + (n.days *24) for n in x])\n",
        "  df2 = df2.drop(columns=['time_delta'])\n",
        "\n",
        "  # speed and heading back\n",
        "  df2['speed_diff_2back'] = df2.groupby('vessel')['speed'].transform(lambda x: x.diff(2))\n",
        "  df2['speed_diff_1back'] = df2.groupby('vessel')['speed'].transform(lambda x: x.diff(1))\n",
        "  df2['speed_diff_1ahead'] = df2.groupby('vessel')['speed'].transform(lambda x: x.diff(-1))\n",
        "  df2['speed_diff_2ahead'] = df2.groupby('vessel')['speed'].transform(lambda x: x.diff(-2))\n",
        "  df2['heading_diff_2back'] = df2.groupby('vessel')['heading'].transform(lambda x: x.diff(2))\n",
        "  df2['heading_diff_1back'] = df2.groupby('vessel')['heading'].transform(lambda x: x.diff(1))\n",
        "  df2['heading_diff_1ahead'] = df2.groupby('vessel')['heading'].transform(lambda x: x.diff(-1))\n",
        "  df2['heading_diff_2ahead'] = df2.groupby('vessel')['heading'].transform(lambda x: x.diff(-2))\n",
        "  \n",
        "  df2['vessel_1back'] = df2['vessel'].shift(1)\n",
        "  df2 = df2.reset_index(drop=True)\n",
        "\n",
        "  return df1, df2"
      ],
      "execution_count": 118,
      "outputs": []
    },
    {
      "cell_type": "code",
      "metadata": {
        "id": "jZJrWQ6eCIqV"
      },
      "source": [
        "df1, df2 = wrangle()"
      ],
      "execution_count": 119,
      "outputs": []
    },
    {
      "cell_type": "code",
      "metadata": {
        "id": "B1P_JxyybKHc"
      },
      "source": [
        "# creating a dictionary of ports with their lat and longs - will be used to\n",
        "# repeatedly to explore data and assign values\n",
        "\n",
        "ports = {port:(lat, long) for port, lat, long in zip(df1['port'], df1['lat'], df1['long'])}\n",
        "\n",
        "# a dictionary to retrieve the port id from the index\n",
        "idx_ports = {idx:port for idx, port in zip(df1.index, df1.port)}"
      ],
      "execution_count": 120,
      "outputs": []
    },
    {
      "cell_type": "code",
      "metadata": {
        "id": "8Rg5F1xcTElh",
        "colab": {
          "base_uri": "https://localhost:8080/"
        },
        "outputId": "04bb570f-03eb-4c88-9630-f79271b9130c"
      },
      "source": [
        "# training a nearest neighbor model to  find the closest port when the \n",
        "# conditions indicating an extended stop have occurred. the metric is haversine\n",
        "# in order to compute the 'great circle' distance. so i don't forget, the model\n",
        "# returns the *index* of the port, not the port's identifying label\n",
        "\n",
        "ports_train = df1[['lat_rad', 'long_rad']]\n",
        "\n",
        "neigh_ports = NearestNeighbors(n_neighbors=3, algorithm='ball_tree', metric='haversine')\n",
        "neigh_ports.fit(ports_train)\n",
        "\n",
        "dist, n = neigh_ports.kneighbors(np.array([0.677565, 0.469731]).reshape(1,-1))\n",
        "\n",
        "print(dist[0] * 6370)\n",
        "print([idx_ports[n] for n in n[0]])"
      ],
      "execution_count": 121,
      "outputs": [
        {
          "output_type": "stream",
          "text": [
            "[  3.30931026  46.44757565 255.13837716]\n",
            "[82, 113, 44]\n"
          ],
          "name": "stdout"
        }
      ]
    },
    {
      "cell_type": "code",
      "metadata": {
        "id": "Cpwibksbwbcw"
      },
      "source": [
        "# using set differences i noticed two ports (42, 113) were never being assigned,\n",
        "# so i used vincenty distance to figure out what was going on. since the lat/long\n",
        "# of where the boats are docked are, in both cases, much closer to the port\n",
        "# assigned by the model, i cannot justify any change\n",
        "\n",
        "coord_first_stop = (38.743843, 26.895678)               \n",
        "coord_second_stop = (38.821700, 26.913800)\n",
        "\n",
        "viable_ports = [82, 113]\n",
        "\n",
        "vin_one = {f'port{a}':[vincenty(ports[a], coord_first_stop)] for a in viable_ports}\n",
        "vin_two = {f'port{a}':[vincenty(ports[a], coord_second_stop)] for a in viable_ports}"
      ],
      "execution_count": 122,
      "outputs": []
    },
    {
      "cell_type": "code",
      "metadata": {
        "id": "WIv14X-Ts8XG"
      },
      "source": [
        "# functions to quickly inspect dataframe to figure out what's up\n",
        "\n",
        "def get_dates(vessel=111, start='2019-01-01', end='2019-12-25'):\n",
        "\n",
        "  df = df2[(df2.datetime >= start) & (df2.datetime <=end)]\n",
        "  df = df[df['vessel'] == vessel]\n",
        "  \n",
        "  return df\n",
        "\n",
        "def where_zero(vessel = 75):\n",
        "  \n",
        "  df_ = df2[(df2['vessel'] == vessel) & (df2['speed'] <= 0.5)]\n",
        "  \n",
        "  return df_"
      ],
      "execution_count": 101,
      "outputs": []
    },
    {
      "cell_type": "code",
      "metadata": {
        "id": "YC92dd_FI7MT"
      },
      "source": [
        "def nearest_port(df):\n",
        "  \"\"\"\n",
        "  a simple function to return the port (identifier) of the nearest port in the\n",
        "  dataset. \n",
        "  \"\"\"\n",
        "\n",
        "  data = np.array([df['lat_rad'], df['long_rad']]).reshape(1, -1)\n",
        "  dist, pred = neigh_ports.radius_neighbors(data, radius=0.008, sort_results = True) \n",
        "\n",
        "  if len(dist[0]) == 0:\n",
        "    return -1\n",
        "  \n",
        "  else:\n",
        "    return idx_ports[pred[0][0]]"
      ],
      "execution_count": 126,
      "outputs": []
    },
    {
      "cell_type": "code",
      "metadata": {
        "id": "t2cHgfSNZbx2"
      },
      "source": [
        "def nearest_distance(df):\n",
        "  \"\"\"\n",
        "  a simple function to return the distance of the nearest port in the dataset\n",
        "  \"\"\"\n",
        "  \n",
        "  data = np.array([df['lat_rad'], df['long_rad']]).reshape(1, -1)\n",
        "  dist, pred = neigh_ports.radius_neighbors(data, radius=0.0085, sort_results = True) \n",
        "\n",
        "  if len(dist[0]) == 0:\n",
        "    return -1\n",
        "  \n",
        "  else:\n",
        "    return dist[0][0]\n"
      ],
      "execution_count": 127,
      "outputs": []
    },
    {
      "cell_type": "code",
      "metadata": {
        "id": "3tL74j_2a7LR"
      },
      "source": [
        "def vincent_distance(row):\n",
        "  \"\"\" \n",
        "  a simple function that returns the vincenty distance for lat and longitude\n",
        "  coordinate pairs\n",
        "  \"\"\"\n",
        "  if row['vessel'] != row['vessel_1back']:\n",
        "    return -99\n",
        "\n",
        "  loc1 = row['lat_long']\n",
        "  loc2 = row['lat_long_1back']\n",
        "\n",
        "  try:\n",
        "    distance = vincenty(loc1, loc2)\n",
        "    return distance\n",
        "  except:\n",
        "    return -99"
      ],
      "execution_count": 104,
      "outputs": []
    },
    {
      "cell_type": "code",
      "metadata": {
        "id": "EMT41MClrwtI"
      },
      "source": [
        "# using my simple neighbor model with haversine distance to assign the closest \n",
        "# port along with its distance to the dataframe. i used a mask to speed up\n",
        "# the process\n",
        "\n",
        "mask = ((df2['speed'] <= 0.2) & \\\n",
        "        ((abs(df2['heading_diff_1back'] <= 2)) & (abs(df2['heading_diff_2back'] <=2)) | \\\n",
        "         (abs(df2['heading_diff_1ahead'] <=2)) & (abs(df2['heading_diff_2ahead'] <=2)))\n",
        ")\n",
        "  \n",
        "df_valid = df2[mask]\n",
        "\n",
        "df2['pred_port'] = -1\n",
        "df2['pred_dist'] = -1\n",
        "df2.loc[mask, 'pred_port'] = df_valid.apply(nearest_port, axis=1)\n",
        "df2.loc[mask, 'pred_dist'] = df_valid.apply(nearest_distance, axis=1)"
      ],
      "execution_count": 128,
      "outputs": []
    },
    {
      "cell_type": "code",
      "metadata": {
        "id": "nMGp_rhLvd98"
      },
      "source": [
        "# calculating the vincenty distances between each row in the dataframe to\n",
        "# detect movement. this seems like it might allow me to more easily detect when\n",
        "# a ship is in japanese (and other?) ports where they appear to unload/load \n",
        "# without zero movement \n",
        "\n",
        "vin_mask = df2['speed'] <= 1\n",
        "\n",
        "df_vin = df2[vin_mask]\n",
        "\n",
        "df2['vin_delta'] = -99\n",
        "df2.loc[vin_mask, 'vin_delta'] = df_vin.apply(vincent_distance, axis=1)"
      ],
      "execution_count": 15,
      "outputs": []
    },
    {
      "cell_type": "code",
      "metadata": {
        "id": "9x7VsH7OpoEY"
      },
      "source": [
        "df2['pred_port_coords'] = [ports[k] if k in ports else -99 for k in df2['pred_port']]"
      ],
      "execution_count": 131,
      "outputs": []
    },
    {
      "cell_type": "code",
      "metadata": {
        "id": "KoYZuM6lqJIa"
      },
      "source": [
        "def vincenty_port(row):\n",
        "  try:\n",
        "    distance = vincenty(row['port_coords'], row['lat_long'])\n",
        "    return distance\n",
        "  except:\n",
        "    return -99"
      ],
      "execution_count": 260,
      "outputs": []
    },
    {
      "cell_type": "code",
      "metadata": {
        "id": "TxCo8-h_g9E8"
      },
      "source": [
        "def assign_ports(df):\n",
        "  \"\"\"\n",
        "  a function that prepares a dataframe for predictions\n",
        "  \"\"\"\n",
        "\n",
        "  # resampling the data to standardize time intervals\n",
        "  df = df.resample('4H').mean().ffill()\n",
        "  df['lat_rad'] = df['lat_rad'].resample('4H').median().ffill()\n",
        "  df['long_rad'] = df['long_rad'].resample('4H').median().ffill()\n",
        "  \n",
        "  # applying a mask to limit the rows the predict function is applied to\n",
        "  mask = df['speed'] <= 3\n",
        "  df_temp = df[mask]\n",
        "\n",
        "  df['pred_port'] = 0\n",
        "  df.loc[mask, 'pred_port'] = df_temp[mask].apply(nearest_port, axis=1)  \n",
        "  df['port_coords'] = [list(ports[k]) if k in ports else -99 for k in df['pred_port']]\n",
        "  \n",
        "  # applying a mask to limit the rows the vincenty distance func is applied to\n",
        "  maskb = df['pred_port'] > 0\n",
        "  df_temp = df[maskb]\n",
        "  \n",
        "  df['dist_from_port'] = 0\n",
        "  df['lat_long'] = [[x,y] for x, y in zip(df['lat'], df['long'])]\n",
        "  df.loc[maskb, 'dist_from_port'] = df_temp[maskb].apply(vincenty_port, axis=1)\n",
        "  \n",
        "  # recasting vessel and pred_port columns as integers\n",
        "  df[['vessel', 'pred_port']] = df[['vessel', 'pred_port']].astype(int)\n",
        "\n",
        "  return df"
      ],
      "execution_count": 253,
      "outputs": []
    },
    {
      "cell_type": "code",
      "metadata": {
        "id": "PNurXJQpmPet"
      },
      "source": [
        "p = assign_ports(vessel_dfs[4])\n",
        "p"
      ],
      "execution_count": null,
      "outputs": []
    },
    {
      "cell_type": "code",
      "metadata": {
        "id": "J9tCbNDQiRfQ"
      },
      "source": [
        "# creating a dictionary of dataframes for each vessel\n",
        "\n",
        "vessel_dfs = {}\n",
        "\n",
        "for vessel in df2.vessel.unique():\n",
        "  df_ = df2[df2['vessel'] == vessel]\n",
        "  vessel_dfs[vessel] = df_.set_index('datetime')"
      ],
      "execution_count": 150,
      "outputs": []
    },
    {
      "cell_type": "code",
      "metadata": {
        "id": "CutkOiprbc2Y"
      },
      "source": [
        "# creating a dictionary of dataframes for each port\n",
        "\n",
        "port_ds = {}\n",
        "\n",
        "for port in df2.pred_port.unique():\n",
        "  df_ = df2[df2['pred_port'] == port]\n",
        "  port_ds[port] = df_.set_index('datetime')\n",
        "\n",
        "del port_ds[-1]\n",
        "\n",
        "for n in port_ds.keys():\n",
        "  port_ds[n][f'{n}_coord'] = [ports[n]] * len(port_ds[n])\n",
        "\n",
        "for n in port_ds.keys():\n",
        "  port_ds[n]['vdist_port'] = [vincenty(x, y) for x, y in zip(port_ds[n][f'{n}_coord'], port_ds[n]['lat_long'])]\n"
      ],
      "execution_count": 177,
      "outputs": []
    },
    {
      "cell_type": "code",
      "metadata": {
        "id": "gzAcp84JXkAw"
      },
      "source": [
        "# calculating the minimum and maximum vincenty distances from ports and \n",
        "# storing the values in a dictionary. it may prove useful when distinguishing\n",
        "# between 'in port' and 'waiting around to enter the port'\n",
        "\n",
        "port_dist = {}\n",
        "\n",
        "for port in port_ds.keys():\n",
        "  max_vincenty = port_ds[port]['vdist_port'].max()\n",
        "  min_vincenty = port_ds[port]['vdist_port'].min()\n",
        "  port_dist[port] = [max_vincenty, min_vincenty]"
      ],
      "execution_count": 178,
      "outputs": []
    },
    {
      "cell_type": "code",
      "metadata": {
        "id": "KMjneZuCUg6C"
      },
      "source": [
        "def hanging_around(row):\n",
        "\n",
        "  key = int(row['pred_port'])\n",
        "\n",
        "  if key < 0:\n",
        "    return 0\n",
        "\n",
        "  from_min = row['vindist_pred_port'] - port_dist[key][1]\n",
        "\n",
        "  try:\n",
        "    if from_min >= 20:\n",
        "      return 1\n",
        "    else:\n",
        "      return 0\n",
        "\n",
        "  except:\n",
        "    return -1"
      ],
      "execution_count": 172,
      "outputs": []
    },
    {
      "cell_type": "code",
      "metadata": {
        "id": "BDnoQ4hnfhce"
      },
      "source": [
        "def get_voyages(df):\n",
        "\n",
        "  nz = df[df['pred_port'] > 0].reset_index()\n",
        "\n",
        "  vessel = nz['vessel'][0]\n",
        "  dt = nz['datetime']\n",
        "  pred = nz['pred_port']\n",
        "\n",
        "  records = []\n",
        "\n",
        "  for i in range(len(dt)-1):\n",
        "    if pred[i] != pred[i+1]:\n",
        "      start_port = pred[i]\n",
        "      end_port = pred[i+1]\n",
        "      begin_date = dt[i]\n",
        "      end_date = dt[i+1]\n",
        "      records.append([vessel, begin_date, end_date, start_port, end_port])\n",
        "\n",
        "  df = pd.DataFrame.from_records(records, columns = ['vessel', 'begin_date', 'end_date', 'begin_port_id', 'end_port_id'])\n",
        "  \n",
        "  return df"
      ],
      "execution_count": 179,
      "outputs": []
    },
    {
      "cell_type": "code",
      "metadata": {
        "id": "7SIs4v7TvD-a"
      },
      "source": [
        "voyages_dict = pd.concat([get_voyages(vessel_dfs[n]) for n in vessel_dfs.keys()])"
      ],
      "execution_count": 44,
      "outputs": []
    },
    {
      "cell_type": "code",
      "metadata": {
        "id": "SDe7mIs0-UF2"
      },
      "source": [
        "resample_52 = vessel_dfs[172].resample('4H').mean().ffill()\n",
        "resample_52['lat_rad'] = vessel_dfs[172]['lat_rad'].resample('4H').median().ffill()\n",
        "resample_52['long_rad'] = vessel_dfs[172]['long_rad'].resample('4H').median().ffill()\n",
        "resample_52['pred_port_resample'] = resample_52.apply(nearest_port, axis = 1)"
      ],
      "execution_count": 198,
      "outputs": []
    },
    {
      "cell_type": "code",
      "metadata": {
        "id": "mLbFGRunvYK8"
      },
      "source": [
        "df3 = voyages_dict\n",
        "df3['len_voyage'] = df3['end_date'] - df3['begin_date']"
      ],
      "execution_count": 46,
      "outputs": []
    },
    {
      "cell_type": "code",
      "metadata": {
        "id": "iKe2AcCyt_m6",
        "colab": {
          "base_uri": "https://localhost:8080/",
          "height": 542
        },
        "outputId": "f0b428d9-6cc1-41ae-8611-9ce8794046f6"
      },
      "source": [
        "# simple mapping tool to inspect routes\n",
        "\n",
        "fig = px.scatter_geo(f,lat='lat',lon='long', hover_name=\"datetime\")\n",
        "\n",
        "fig.update_layout(title = 'Vessel Locations', title_x=0.5)\n",
        "fig.show()"
      ],
      "execution_count": null,
      "outputs": [
        {
          "output_type": "display_data",
          "data": {
            "text/html": [
              "<html>\n",
              "<head><meta charset=\"utf-8\" /></head>\n",
              "<body>\n",
              "    <div>\n",
              "            <script src=\"https://cdnjs.cloudflare.com/ajax/libs/mathjax/2.7.5/MathJax.js?config=TeX-AMS-MML_SVG\"></script><script type=\"text/javascript\">if (window.MathJax) {MathJax.Hub.Config({SVG: {font: \"STIX-Web\"}});}</script>\n",
              "                <script type=\"text/javascript\">window.PlotlyConfig = {MathJaxConfig: 'local'};</script>\n",
              "        <script src=\"https://cdn.plot.ly/plotly-latest.min.js\"></script>    \n",
              "            <div id=\"34b2f559-ff05-4deb-8741-a900eda7b248\" class=\"plotly-graph-div\" style=\"height:525px; width:100%;\"></div>\n",
              "            <script type=\"text/javascript\">\n",
              "                \n",
              "                    window.PLOTLYENV=window.PLOTLYENV || {};\n",
              "                    \n",
              "                if (document.getElementById(\"34b2f559-ff05-4deb-8741-a900eda7b248\")) {\n",
              "                    Plotly.newPlot(\n",
              "                        '34b2f559-ff05-4deb-8741-a900eda7b248',\n",
              "                        [{\"geo\": \"geo\", \"hoverlabel\": {\"namelength\": 0}, \"hovertemplate\": \"<b>%{hovertext}</b><br><br>lat=%{lat}<br>long=%{lon}\", \"hovertext\": [\"2019-06-22T04:31:04\", \"2019-06-22T05:43:03\", \"2019-06-22T07:31:08\", \"2019-06-22T08:46:13\", \"2019-06-22T10:31:12\", \"2019-06-22T13:31:08\", \"2019-06-22T14:55:09\", \"2019-06-22T16:31:07\", \"2019-06-22T17:43:09\", \"2019-06-22T18:58:12\", \"2019-06-22T20:46:10\", \"2019-06-23T01:31:11\", \"2019-06-23T04:31:12\", \"2019-06-23T07:31:14\", \"2019-06-23T10:31:18\", \"2019-06-23T13:31:15\", \"2019-06-23T16:31:11\", \"2019-06-23T18:58:18\", \"2019-06-24T01:31:18\", \"2019-06-24T04:31:22\", \"2019-06-24T07:31:24\", \"2019-06-24T08:16:21\", \"2019-06-24T10:31:16\", \"2019-06-24T13:31:24\", \"2019-06-24T14:40:18\", \"2019-06-24T15:10:29\", \"2019-06-24T16:31:25\", \"2019-06-24T18:58:18\", \"2019-06-25T01:31:20\", \"2019-06-25T04:31:28\", \"2019-06-25T06:34:26\", \"2019-06-25T07:31:24\", \"2019-06-25T08:43:28\", \"2019-06-25T10:16:27\", \"2019-06-25T10:31:24\", \"2019-06-25T11:49:28\", \"2019-06-25T13:31:26\", \"2019-06-25T14:52:30\", \"2019-06-25T17:49:26\", \"2019-06-25T18:58:27\", \"2019-06-25T20:55:29\", \"2019-06-25T23:49:30\", \"2019-06-26T01:25:31\", \"2019-06-26T02:52:30\", \"2019-02-25T07:58:00\", \"2019-02-25T22:58:00\", \"2019-02-26T01:58:00\", \"2019-02-26T04:58:00\", \"2019-01-14T12:52:00\", \"2019-01-14T15:55:00\", \"2019-01-14T17:55:00\", \"2019-01-14T21:52:00\", \"2019-01-15T01:58:00\", \"2019-01-15T04:58:00\", \"2019-01-15T07:58:00\", \"2019-01-15T10:58:00\", \"2019-01-15T13:52:00\", \"2019-01-15T19:49:00\", \"2019-01-15T22:58:00\", \"2019-01-16T01:58:00\", \"2019-01-16T04:58:00\", \"2019-01-16T06:40:00\", \"2019-01-16T10:58:00\", \"2019-01-16T11:58:00\", \"2019-01-16T13:58:00\", \"2019-01-16T16:55:00\", \"2019-01-16T18:58:00\", \"2019-01-16T21:31:00\", \"2019-01-16T22:07:00\", \"2019-01-17T01:58:00\", \"2019-01-17T04:37:00\", \"2019-01-17T06:19:00\", \"2019-01-17T10:58:00\", \"2019-01-17T12:49:00\", \"2019-01-17T22:46:00\", \"2019-04-16T01:24:00\", \"2019-04-16T01:30:02\", \"2019-04-16T04:15:00\", \"2019-04-16T04:30:05\", \"2019-04-16T07:18:06\", \"2019-04-16T07:30:01\", \"2019-04-16T10:21:03\", \"2019-04-16T10:33:05\", \"2019-04-16T13:09:07\", \"2019-04-16T13:30:06\", \"2019-04-16T15:00:09\", \"2019-04-16T16:27:06\", \"2019-04-16T18:57:09\", \"2019-04-16T19:18:03\", \"2019-04-17T01:27:06\", \"2019-04-17T01:30:11\", \"2019-04-26T01:28:02\", \"2019-04-26T02:46:02\", \"2019-04-26T04:30:37\", \"2019-04-26T05:53:04\", \"2019-04-26T07:29:57\", \"2019-04-26T08:29:02\", \"2019-04-26T10:29:02\", \"2019-04-26T11:47:04\", \"2019-04-26T13:29:02\", \"2019-04-26T14:47:04\", \"2019-04-26T16:29:02\", \"2019-04-26T17:53:03\", \"2019-04-26T18:59:01\", \"2019-04-26T20:41:02\", \"2019-04-26T23:41:03\", \"2019-10-28T16:28:22\", \"2019-10-28T17:43:22\", \"2019-10-28T20:07:27\", \"2019-10-29T01:28:39\", \"2019-10-29T04:28:45\", \"2019-10-29T07:28:51\", \"2019-10-29T13:29:03\", \"2019-10-29T14:53:05\", \"2019-10-29T23:47:23\", \"2019-10-30T06:32:34\"], \"lat\": [9.9729, 9.972897999999999, 9.972908, 9.972907000000001, 9.972905, 9.972905, 9.97291, 9.972893, 9.972905, 9.972903, 9.972893, 9.972887, 9.972887, 9.972905, 9.972897999999999, 9.972892, 9.97291, 9.972895, 9.972868, 9.972887, 9.972895, 9.972893, 9.972878, 9.972911999999999, 9.972905, 9.972905, 9.97288, 9.972902000000001, 9.972887, 9.972897999999999, 9.9729, 9.972902000000001, 9.9729, 9.97291, 9.972903, 9.972908, 9.972905, 9.972908, 9.972893, 9.972914999999999, 9.9729, 9.972897, 9.97288, 9.972928, 9.9724, 9.9724, 9.9724, 9.9724, 9.9729, 9.9729, 9.9729, 9.9729, 9.9729, 9.9729, 9.9729, 9.9729, 9.9729, 9.9729, 9.9729, 9.9729, 9.9729, 9.9729, 9.9729, 9.9729, 9.9729, 9.9729, 9.9729, 9.9729, 9.9729, 9.9729, 9.9729, 9.9729, 9.9729, 9.9729, 9.9729, 9.972346667, 9.972358, 9.972305, 9.972339999999999, 9.972321667000001, 9.97235, 9.972361667000001, 9.972342, 9.972333333, 9.972337, 9.972328, 9.9723617, 9.972365, 9.97237, 9.972348333, 9.972335000000001, 9.972267, 9.972268332999999, 9.972268, 9.97227, 9.972267, 9.972268332999999, 9.972268, 9.972268332999999, 9.972268, 9.972265, 9.972268, 9.972265, 9.972267, 9.972265, 9.972268332999999, 9.923867999999999, 9.923843, 9.923738, 9.923789999999999, 9.923722, 9.923778, 9.925360000000001, 9.92506, 9.92778, 9.927810000000001], \"legendgroup\": \"\", \"lon\": [76.22868299999999, 76.228658, 76.228677, 76.228672, 76.22868199999999, 76.228663, 76.228657, 76.22868199999999, 76.228652, 76.228643, 76.22868000000001, 76.228668, 76.22869200000001, 76.22869, 76.228663, 76.228665, 76.228668, 76.22867, 76.228707, 76.228677, 76.22869, 76.228672, 76.22867, 76.228677, 76.228673, 76.228688, 76.228685, 76.228685, 76.2287, 76.228705, 76.228673, 76.228652, 76.228687, 76.228657, 76.228665, 76.228677, 76.228658, 76.228668, 76.228658, 76.228655, 76.22868000000001, 76.228673, 76.228695, 76.228688, 76.2272, 76.2271, 76.2272, 76.2272, 76.2287, 76.2287, 76.2286, 76.2286, 76.2287, 76.2286, 76.2287, 76.2287, 76.2286, 76.2287, 76.2286, 76.2286, 76.2287, 76.2287, 76.2286, 76.2287, 76.2287, 76.2286, 76.2287, 76.2287, 76.2286, 76.2286, 76.2287, 76.2287, 76.2287, 76.2286, 76.2286, 76.22726667, 76.227263, 76.2272717, 76.227237, 76.227175, 76.227215, 76.22724833, 76.227225, 76.22720167, 76.22723, 76.227267, 76.22719670000001, 76.22718499999999, 76.22724833, 76.227245, 76.22728199999999, 76.227288, 76.22728833, 76.22729, 76.22729, 76.227287, 76.22728833, 76.227288, 76.22729, 76.227295, 76.22728833, 76.227287, 76.22728667, 76.22729, 76.22728333, 76.22728000000001, 76.054858, 76.05484200000001, 76.05532, 76.054762, 76.055172, 76.054725, 76.05332800000001, 76.053333, 76.054588, 76.053013], \"marker\": {\"color\": \"#636efa\"}, \"name\": \"\", \"showlegend\": false, \"type\": \"scattergeo\"}],\n",
              "                        {\"geo\": {\"center\": {}, \"domain\": {\"x\": [0.0, 1.0], \"y\": [0.0, 1.0]}}, \"legend\": {\"tracegroupgap\": 0}, \"margin\": {\"t\": 60}, \"template\": {\"data\": {\"bar\": [{\"error_x\": {\"color\": \"#2a3f5f\"}, \"error_y\": {\"color\": \"#2a3f5f\"}, \"marker\": {\"line\": {\"color\": \"#E5ECF6\", \"width\": 0.5}}, \"type\": \"bar\"}], \"barpolar\": [{\"marker\": {\"line\": {\"color\": \"#E5ECF6\", \"width\": 0.5}}, \"type\": \"barpolar\"}], \"carpet\": [{\"aaxis\": {\"endlinecolor\": \"#2a3f5f\", \"gridcolor\": \"white\", \"linecolor\": \"white\", \"minorgridcolor\": \"white\", \"startlinecolor\": \"#2a3f5f\"}, \"baxis\": {\"endlinecolor\": \"#2a3f5f\", \"gridcolor\": \"white\", \"linecolor\": \"white\", \"minorgridcolor\": \"white\", \"startlinecolor\": \"#2a3f5f\"}, \"type\": \"carpet\"}], \"choropleth\": [{\"colorbar\": {\"outlinewidth\": 0, \"ticks\": \"\"}, \"type\": \"choropleth\"}], \"contour\": [{\"colorbar\": {\"outlinewidth\": 0, \"ticks\": \"\"}, \"colorscale\": [[0.0, \"#0d0887\"], [0.1111111111111111, \"#46039f\"], [0.2222222222222222, \"#7201a8\"], [0.3333333333333333, \"#9c179e\"], [0.4444444444444444, \"#bd3786\"], [0.5555555555555556, \"#d8576b\"], [0.6666666666666666, \"#ed7953\"], [0.7777777777777778, \"#fb9f3a\"], [0.8888888888888888, \"#fdca26\"], [1.0, \"#f0f921\"]], \"type\": \"contour\"}], \"contourcarpet\": [{\"colorbar\": {\"outlinewidth\": 0, \"ticks\": \"\"}, \"type\": \"contourcarpet\"}], \"heatmap\": [{\"colorbar\": {\"outlinewidth\": 0, \"ticks\": \"\"}, \"colorscale\": [[0.0, \"#0d0887\"], [0.1111111111111111, \"#46039f\"], [0.2222222222222222, \"#7201a8\"], [0.3333333333333333, \"#9c179e\"], [0.4444444444444444, \"#bd3786\"], [0.5555555555555556, \"#d8576b\"], [0.6666666666666666, \"#ed7953\"], [0.7777777777777778, \"#fb9f3a\"], [0.8888888888888888, \"#fdca26\"], [1.0, \"#f0f921\"]], \"type\": \"heatmap\"}], \"heatmapgl\": [{\"colorbar\": {\"outlinewidth\": 0, \"ticks\": \"\"}, \"colorscale\": [[0.0, \"#0d0887\"], [0.1111111111111111, \"#46039f\"], [0.2222222222222222, \"#7201a8\"], [0.3333333333333333, \"#9c179e\"], [0.4444444444444444, \"#bd3786\"], [0.5555555555555556, \"#d8576b\"], [0.6666666666666666, \"#ed7953\"], [0.7777777777777778, \"#fb9f3a\"], [0.8888888888888888, \"#fdca26\"], [1.0, \"#f0f921\"]], \"type\": \"heatmapgl\"}], \"histogram\": [{\"marker\": {\"colorbar\": {\"outlinewidth\": 0, \"ticks\": \"\"}}, \"type\": \"histogram\"}], \"histogram2d\": [{\"colorbar\": {\"outlinewidth\": 0, \"ticks\": \"\"}, \"colorscale\": [[0.0, \"#0d0887\"], [0.1111111111111111, \"#46039f\"], [0.2222222222222222, \"#7201a8\"], [0.3333333333333333, \"#9c179e\"], [0.4444444444444444, \"#bd3786\"], [0.5555555555555556, \"#d8576b\"], [0.6666666666666666, \"#ed7953\"], [0.7777777777777778, \"#fb9f3a\"], [0.8888888888888888, \"#fdca26\"], [1.0, \"#f0f921\"]], \"type\": \"histogram2d\"}], \"histogram2dcontour\": [{\"colorbar\": {\"outlinewidth\": 0, \"ticks\": \"\"}, \"colorscale\": [[0.0, \"#0d0887\"], [0.1111111111111111, \"#46039f\"], [0.2222222222222222, \"#7201a8\"], [0.3333333333333333, \"#9c179e\"], [0.4444444444444444, \"#bd3786\"], [0.5555555555555556, \"#d8576b\"], [0.6666666666666666, \"#ed7953\"], [0.7777777777777778, \"#fb9f3a\"], [0.8888888888888888, \"#fdca26\"], [1.0, \"#f0f921\"]], \"type\": \"histogram2dcontour\"}], \"mesh3d\": [{\"colorbar\": {\"outlinewidth\": 0, \"ticks\": \"\"}, \"type\": \"mesh3d\"}], \"parcoords\": [{\"line\": {\"colorbar\": {\"outlinewidth\": 0, \"ticks\": \"\"}}, \"type\": \"parcoords\"}], \"pie\": [{\"automargin\": true, \"type\": \"pie\"}], \"scatter\": [{\"marker\": {\"colorbar\": {\"outlinewidth\": 0, \"ticks\": \"\"}}, \"type\": \"scatter\"}], \"scatter3d\": [{\"line\": {\"colorbar\": {\"outlinewidth\": 0, \"ticks\": \"\"}}, \"marker\": {\"colorbar\": {\"outlinewidth\": 0, \"ticks\": \"\"}}, \"type\": \"scatter3d\"}], \"scattercarpet\": [{\"marker\": {\"colorbar\": {\"outlinewidth\": 0, \"ticks\": \"\"}}, \"type\": \"scattercarpet\"}], \"scattergeo\": [{\"marker\": {\"colorbar\": {\"outlinewidth\": 0, \"ticks\": \"\"}}, \"type\": \"scattergeo\"}], \"scattergl\": [{\"marker\": {\"colorbar\": {\"outlinewidth\": 0, \"ticks\": \"\"}}, \"type\": \"scattergl\"}], \"scattermapbox\": [{\"marker\": {\"colorbar\": {\"outlinewidth\": 0, \"ticks\": \"\"}}, \"type\": \"scattermapbox\"}], \"scatterpolar\": [{\"marker\": {\"colorbar\": {\"outlinewidth\": 0, \"ticks\": \"\"}}, \"type\": \"scatterpolar\"}], \"scatterpolargl\": [{\"marker\": {\"colorbar\": {\"outlinewidth\": 0, \"ticks\": \"\"}}, \"type\": \"scatterpolargl\"}], \"scatterternary\": [{\"marker\": {\"colorbar\": {\"outlinewidth\": 0, \"ticks\": \"\"}}, \"type\": \"scatterternary\"}], \"surface\": [{\"colorbar\": {\"outlinewidth\": 0, \"ticks\": \"\"}, \"colorscale\": [[0.0, \"#0d0887\"], [0.1111111111111111, \"#46039f\"], [0.2222222222222222, \"#7201a8\"], [0.3333333333333333, \"#9c179e\"], [0.4444444444444444, \"#bd3786\"], [0.5555555555555556, \"#d8576b\"], [0.6666666666666666, \"#ed7953\"], [0.7777777777777778, \"#fb9f3a\"], [0.8888888888888888, \"#fdca26\"], [1.0, \"#f0f921\"]], \"type\": \"surface\"}], \"table\": [{\"cells\": {\"fill\": {\"color\": \"#EBF0F8\"}, \"line\": {\"color\": \"white\"}}, \"header\": {\"fill\": {\"color\": \"#C8D4E3\"}, \"line\": {\"color\": \"white\"}}, \"type\": \"table\"}]}, \"layout\": {\"annotationdefaults\": {\"arrowcolor\": \"#2a3f5f\", \"arrowhead\": 0, \"arrowwidth\": 1}, \"coloraxis\": {\"colorbar\": {\"outlinewidth\": 0, \"ticks\": \"\"}}, \"colorscale\": {\"diverging\": [[0, \"#8e0152\"], [0.1, \"#c51b7d\"], [0.2, \"#de77ae\"], [0.3, \"#f1b6da\"], [0.4, \"#fde0ef\"], [0.5, \"#f7f7f7\"], [0.6, \"#e6f5d0\"], [0.7, \"#b8e186\"], [0.8, \"#7fbc41\"], [0.9, \"#4d9221\"], [1, \"#276419\"]], \"sequential\": [[0.0, \"#0d0887\"], [0.1111111111111111, \"#46039f\"], [0.2222222222222222, \"#7201a8\"], [0.3333333333333333, \"#9c179e\"], [0.4444444444444444, \"#bd3786\"], [0.5555555555555556, \"#d8576b\"], [0.6666666666666666, \"#ed7953\"], [0.7777777777777778, \"#fb9f3a\"], [0.8888888888888888, \"#fdca26\"], [1.0, \"#f0f921\"]], \"sequentialminus\": [[0.0, \"#0d0887\"], [0.1111111111111111, \"#46039f\"], [0.2222222222222222, \"#7201a8\"], [0.3333333333333333, \"#9c179e\"], [0.4444444444444444, \"#bd3786\"], [0.5555555555555556, \"#d8576b\"], [0.6666666666666666, \"#ed7953\"], [0.7777777777777778, \"#fb9f3a\"], [0.8888888888888888, \"#fdca26\"], [1.0, \"#f0f921\"]]}, \"colorway\": [\"#636efa\", \"#EF553B\", \"#00cc96\", \"#ab63fa\", \"#FFA15A\", \"#19d3f3\", \"#FF6692\", \"#B6E880\", \"#FF97FF\", \"#FECB52\"], \"font\": {\"color\": \"#2a3f5f\"}, \"geo\": {\"bgcolor\": \"white\", \"lakecolor\": \"white\", \"landcolor\": \"#E5ECF6\", \"showlakes\": true, \"showland\": true, \"subunitcolor\": \"white\"}, \"hoverlabel\": {\"align\": \"left\"}, \"hovermode\": \"closest\", \"mapbox\": {\"style\": \"light\"}, \"paper_bgcolor\": \"white\", \"plot_bgcolor\": \"#E5ECF6\", \"polar\": {\"angularaxis\": {\"gridcolor\": \"white\", \"linecolor\": \"white\", \"ticks\": \"\"}, \"bgcolor\": \"#E5ECF6\", \"radialaxis\": {\"gridcolor\": \"white\", \"linecolor\": \"white\", \"ticks\": \"\"}}, \"scene\": {\"xaxis\": {\"backgroundcolor\": \"#E5ECF6\", \"gridcolor\": \"white\", \"gridwidth\": 2, \"linecolor\": \"white\", \"showbackground\": true, \"ticks\": \"\", \"zerolinecolor\": \"white\"}, \"yaxis\": {\"backgroundcolor\": \"#E5ECF6\", \"gridcolor\": \"white\", \"gridwidth\": 2, \"linecolor\": \"white\", \"showbackground\": true, \"ticks\": \"\", \"zerolinecolor\": \"white\"}, \"zaxis\": {\"backgroundcolor\": \"#E5ECF6\", \"gridcolor\": \"white\", \"gridwidth\": 2, \"linecolor\": \"white\", \"showbackground\": true, \"ticks\": \"\", \"zerolinecolor\": \"white\"}}, \"shapedefaults\": {\"line\": {\"color\": \"#2a3f5f\"}}, \"ternary\": {\"aaxis\": {\"gridcolor\": \"white\", \"linecolor\": \"white\", \"ticks\": \"\"}, \"baxis\": {\"gridcolor\": \"white\", \"linecolor\": \"white\", \"ticks\": \"\"}, \"bgcolor\": \"#E5ECF6\", \"caxis\": {\"gridcolor\": \"white\", \"linecolor\": \"white\", \"ticks\": \"\"}}, \"title\": {\"x\": 0.05}, \"xaxis\": {\"automargin\": true, \"gridcolor\": \"white\", \"linecolor\": \"white\", \"ticks\": \"\", \"title\": {\"standoff\": 15}, \"zerolinecolor\": \"white\", \"zerolinewidth\": 2}, \"yaxis\": {\"automargin\": true, \"gridcolor\": \"white\", \"linecolor\": \"white\", \"ticks\": \"\", \"title\": {\"standoff\": 15}, \"zerolinecolor\": \"white\", \"zerolinewidth\": 2}}}, \"title\": {\"text\": \"Vessel Locations\", \"x\": 0.5}},\n",
              "                        {\"responsive\": true}\n",
              "                    ).then(function(){\n",
              "                            \n",
              "var gd = document.getElementById('34b2f559-ff05-4deb-8741-a900eda7b248');\n",
              "var x = new MutationObserver(function (mutations, observer) {{\n",
              "        var display = window.getComputedStyle(gd).display;\n",
              "        if (!display || display === 'none') {{\n",
              "            console.log([gd, 'removed!']);\n",
              "            Plotly.purge(gd);\n",
              "            observer.disconnect();\n",
              "        }}\n",
              "}});\n",
              "\n",
              "// Listen for the removal of the full notebook cells\n",
              "var notebookContainer = gd.closest('#notebook-container');\n",
              "if (notebookContainer) {{\n",
              "    x.observe(notebookContainer, {childList: true});\n",
              "}}\n",
              "\n",
              "// Listen for the clearing of the current output cell\n",
              "var outputEl = gd.closest('.output');\n",
              "if (outputEl) {{\n",
              "    x.observe(outputEl, {childList: true});\n",
              "}}\n",
              "\n",
              "                        })\n",
              "                };\n",
              "                \n",
              "            </script>\n",
              "        </div>\n",
              "</body>\n",
              "</html>"
            ]
          },
          "metadata": {
            "tags": []
          }
        }
      ]
    },
    {
      "cell_type": "code",
      "metadata": {
        "id": "MnaJpiELRKK4"
      },
      "source": [
        "# the dataframes to submit\n",
        "\n",
        "voyages = pd.DataFrame(columns= ['vessel', 'begin_date', 'end_date', 'begin_port_id', 'end_port_id'])\n",
        "predict = pd.DataFrame(columns= ['vessel', 'begin_port_id', 'end_port_id', 'voyage'])"
      ],
      "execution_count": null,
      "outputs": []
    }
  ]
}