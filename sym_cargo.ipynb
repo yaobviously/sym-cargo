{
  "nbformat": 4,
  "nbformat_minor": 0,
  "metadata": {
    "colab": {
      "name": "sym_cargo.ipynb",
      "provenance": [],
      "collapsed_sections": [],
      "mount_file_id": "1bTzsC2_o8Jg772hCJWDRqrHnkqeQuRQx",
      "authorship_tag": "ABX9TyNniQ3yvxUEF69fI5+Gio+2",
      "include_colab_link": true
    },
    "kernelspec": {
      "display_name": "Python 3",
      "name": "python3"
    },
    "language_info": {
      "name": "python"
    }
  },
  "cells": [
    {
      "cell_type": "markdown",
      "metadata": {
        "id": "view-in-github",
        "colab_type": "text"
      },
      "source": [
        "<a href=\"https://colab.research.google.com/github/yaobviously/sym-cargo/blob/main/sym_cargo.ipynb\" target=\"_parent\"><img src=\"https://colab.research.google.com/assets/colab-badge.svg\" alt=\"Open In Colab\"/></a>"
      ]
    },
    {
      "cell_type": "code",
      "metadata": {
        "id": "TRudeILZCNAh",
        "colab": {
          "base_uri": "https://localhost:8080/"
        },
        "outputId": "b80f990d-957f-4896-8ef5-630b4115792c"
      },
      "source": [
        "!pip install plotly-express --quiet\n",
        "!pip install vincenty --quiet"
      ],
      "execution_count": 1,
      "outputs": [
        {
          "output_type": "stream",
          "text": [
            "  Building wheel for vincenty (setup.py) ... \u001b[?25l\u001b[?25hdone\n"
          ],
          "name": "stdout"
        }
      ]
    },
    {
      "cell_type": "code",
      "metadata": {
        "id": "KFygxcBXBsUT"
      },
      "source": [
        "import pandas as pd\n",
        "import numpy as np\n",
        "import matplotlib.pyplot as plt\n",
        "import seaborn as sns\n",
        "from keras.models import Sequential\n",
        "from keras.layers import Dense, LSTM, Bidirectional\n",
        "from sklearn.preprocessing import OneHotEncoder\n",
        "from vincenty import vincenty\n",
        "from sklearn.neighbors import NearestNeighbors\n",
        "import plotly_express as px"
      ],
      "execution_count": 170,
      "outputs": []
    },
    {
      "cell_type": "code",
      "metadata": {
        "id": "ERdgnPI_B8xV"
      },
      "source": [
        "port_file = '/content/drive/MyDrive/Ports/ports.csv'\n",
        "tracking_file = '/content/drive/MyDrive/Ports/tracking.csv'"
      ],
      "execution_count": 3,
      "outputs": []
    },
    {
      "cell_type": "code",
      "metadata": {
        "id": "VGQ3oW9dCGF6"
      },
      "source": [
        "def wrangle():\n",
        "  \n",
        "  df1 = pd.read_csv(port_file)\n",
        "\n",
        "  # converting lat and long to radians to compute haversine distance\n",
        "  df1['lat_rad'] = np.radians(df1['lat'])\n",
        "  df1['long_rad'] = np.radians(df1['long'])\n",
        "  \n",
        "  # rounding lat and long in port df\n",
        "  df1['lat'] = df1['lat'].round(1)\n",
        "  df1['long'] = df1['long'].round(1)\n",
        "\n",
        "  df2 = pd.read_csv(tracking_file, parse_dates=['datetime'])\n",
        "  df2 = df2.drop_duplicates()\n",
        "  df2 = df2.sort_values(['vessel', 'datetime'])\n",
        "  \n",
        "  # converting lat and long to radians to compute haversine distance  \n",
        "  df2['lat_rad'] = np.radians(df2['lat'])\n",
        "  df2['long_rad'] = np.radians(df2['long'])\n",
        "\n",
        "  # adding lat/long column and lat/long 1 back to later compute delta\n",
        "  df2['lat_long'] = [[x,y] for x, y in zip(df2['lat'], df2['long'])]\n",
        "  df2['lat_long_1back'] = df2.groupby('vessel')['lat_long'].transform(lambda x: x.shift())   \n",
        "  \n",
        "  # months and days\n",
        "  df2['time_delta'] = df2.groupby('vessel')['datetime'].transform(lambda x: x.diff(1))\n",
        "  df2['delta_hours'] = df2.groupby('vessel')['time_delta'].transform(lambda x: [(n.seconds/3600) + (n.days *24) for n in x])\n",
        "  df2 = df2.drop(columns=['time_delta'])\n",
        "\n",
        "  df2 = df2.reset_index(drop=True)\n",
        "\n",
        "  return df1, df2"
      ],
      "execution_count": 4,
      "outputs": []
    },
    {
      "cell_type": "code",
      "metadata": {
        "id": "jZJrWQ6eCIqV"
      },
      "source": [
        "df1, df2 = wrangle()"
      ],
      "execution_count": 5,
      "outputs": []
    },
    {
      "cell_type": "code",
      "metadata": {
        "id": "B1P_JxyybKHc"
      },
      "source": [
        "# creating a dictionary of ports with their lat and longs - will be used to\n",
        "# repeatedly to explore data and assign values\n",
        "\n",
        "ports = {port:(lat, long) for port, lat, long in zip(df1['port'], df1['lat'], df1['long'])}\n",
        "\n",
        "# a dictionary to retrieve the port id from the index\n",
        "idx_ports = {idx:port for idx, port in zip(df1.index, df1.port)}"
      ],
      "execution_count": 6,
      "outputs": []
    },
    {
      "cell_type": "code",
      "metadata": {
        "colab": {
          "base_uri": "https://localhost:8080/"
        },
        "id": "8Rg5F1xcTElh",
        "outputId": "8d3734c6-5dab-47a1-e944-3812386daa22"
      },
      "source": [
        "# training a nearest neighbor model to  find the closest port when the \n",
        "# conditions indicating an extended stop have occurred. the metric is haversine\n",
        "# in order to compute the 'great circle' distance. so i don't forget, the model\n",
        "# returns the *index* of the port, not the port's identifying label\n",
        "\n",
        "ports_train = df1[['lat_rad', 'long_rad']]\n",
        "\n",
        "neigh_ports = NearestNeighbors(n_neighbors=3, algorithm='ball_tree', metric='haversine')\n",
        "neigh_ports.fit(ports_train)\n",
        "\n",
        "dist, n = neigh_ports.kneighbors(np.array([0.677565, 0.469731]).reshape(1,-1))\n",
        "\n",
        "print(dist[0] * 6370)\n",
        "print([idx_ports[n] for n in n[0]])"
      ],
      "execution_count": 7,
      "outputs": [
        {
          "output_type": "stream",
          "text": [
            "[  3.30931026  46.44757565 255.13837716]\n",
            "[82, 113, 44]\n"
          ],
          "name": "stdout"
        }
      ]
    },
    {
      "cell_type": "code",
      "metadata": {
        "id": "WIv14X-Ts8XG"
      },
      "source": [
        "# functions to quickly inspect dataframe to figure out what's up\n",
        "\n",
        "# def get_dates(vessel=111, start='2019-01-01', end='2019-12-25'):\n",
        "\n",
        "#   df = df2[(df2.datetime >= start) & (df2.datetime <=end)]\n",
        "#   df = df[df['vessel'] == vessel]\n",
        "  \n",
        "#   return df\n",
        "\n",
        "# def where_zero(vessel = 75):\n",
        "  \n",
        "#   df_ = df2[(df2['vessel'] == vessel) & (df2['speed'] <= 0.5)]\n",
        "  \n",
        "#   return df_"
      ],
      "execution_count": 8,
      "outputs": []
    },
    {
      "cell_type": "code",
      "metadata": {
        "id": "YC92dd_FI7MT"
      },
      "source": [
        "def nearest_port(df):\n",
        "  \"\"\"\n",
        "  returns the port identifier of the nearest port using the nearest neighbors\n",
        "  model \n",
        "  \"\"\"\n",
        "\n",
        "  data = np.array([df['lat_rad'], df['long_rad']]).reshape(1, -1)\n",
        "  dist, pred = neigh_ports.radius_neighbors(data, radius=0.008, sort_results = True) \n",
        "\n",
        "  if len(dist[0]) == 0:\n",
        "    return -1\n",
        "  \n",
        "  else:\n",
        "    return idx_ports[pred[0][0]]"
      ],
      "execution_count": 9,
      "outputs": []
    },
    {
      "cell_type": "code",
      "metadata": {
        "id": "t2cHgfSNZbx2"
      },
      "source": [
        "def nearest_distance(df):\n",
        "  \"\"\"\n",
        "  returns the distance of the nearest port in the dataset\n",
        "  \"\"\"\n",
        "  \n",
        "  data = np.array([df['lat_rad'], df['long_rad']]).reshape(1, -1)\n",
        "  dist, pred = neigh_ports.radius_neighbors(data, radius=0.0085, sort_results = True) \n",
        "\n",
        "  if len(dist[0]) == 0:\n",
        "    return -1\n",
        "  \n",
        "  else:\n",
        "    return dist[0][0]\n"
      ],
      "execution_count": 10,
      "outputs": []
    },
    {
      "cell_type": "code",
      "metadata": {
        "id": "3tL74j_2a7LR"
      },
      "source": [
        "def vincent_distance(row):\n",
        "  \"\"\" \n",
        "  returns the vincenty distance for contiguous rows - will be used to identify\n",
        "  impossible distances travelled, and so on\n",
        "  \"\"\"\n",
        "  if row['vessel'] != row['vessel_1back']:\n",
        "    return -99\n",
        "\n",
        "  loc1 = row['lat_long']\n",
        "  loc2 = row['lat_long_1back']\n",
        "\n",
        "  try:\n",
        "    distance = vincenty(loc1, loc2)\n",
        "    return distance\n",
        "  except:\n",
        "    return -99"
      ],
      "execution_count": 11,
      "outputs": []
    },
    {
      "cell_type": "code",
      "metadata": {
        "id": "KoYZuM6lqJIa"
      },
      "source": [
        "def vincenty_port(row):\n",
        "  \"\"\"\n",
        "  a function that computes the vincenty distance between the assigned port\n",
        "  and the latitude and longitude of the location data. \n",
        "  \"\"\"\n",
        "  port = row['port_coords']\n",
        "  loc = row['lat_long']\n",
        "  return vincenty(port, loc)"
      ],
      "execution_count": 13,
      "outputs": []
    },
    {
      "cell_type": "code",
      "metadata": {
        "id": "gzAcp84JXkAw"
      },
      "source": [
        "# calculating the minimum and maximum vincenty distances from ports and \n",
        "# storing the values in a dictionary. it may prove useful when distinguishing\n",
        "# between 'in port' and 'waiting around to enter the port'\n",
        "\n",
        "# port_dist = {}\n",
        "\n",
        "# for port in port_ds.keys():\n",
        "#   max_vincenty = port_ds[port]['vdist_port'].max()\n",
        "#   min_vincenty = port_ds[port]['vdist_port'].min()\n",
        "#   port_dist[port] = [max_vincenty, min_vincenty]"
      ],
      "execution_count": null,
      "outputs": []
    },
    {
      "cell_type": "code",
      "metadata": {
        "id": "CutkOiprbc2Y"
      },
      "source": [
        "# # creating a dictionary of dataframes for each port\n",
        "\n",
        "# port_ds = {}\n",
        "\n",
        "# for port in df2.pred_port.unique():\n",
        "#   df_ = df2[df2['pred_port'] == port]\n",
        "#   port_ds[port] = df_.set_index('datetime')\n",
        "\n",
        "# del port_ds[-1]\n",
        "\n",
        "# for n in port_ds.keys():\n",
        "#   port_ds[n][f'{n}_coord'] = [ports[n]] * len(port_ds[n])\n",
        "\n",
        "# for n in port_ds.keys():\n",
        "#   port_ds[n]['vdist_port'] = [vincenty(x, y) for x, y in zip(port_ds[n][f'{n}_coord'], port_ds[n]['lat_long'])]\n"
      ],
      "execution_count": null,
      "outputs": []
    },
    {
      "cell_type": "code",
      "metadata": {
        "id": "TxCo8-h_g9E8"
      },
      "source": [
        "def assign_ports(df):\n",
        "  \"\"\"\n",
        "  a function that prepares a dataframe for predictions\n",
        "\n",
        "  Parameters:\n",
        "  ----------\n",
        "        df: pandas dataframe\n",
        "  \n",
        "  Returns:\n",
        "  -------\n",
        "        df: processed pandas dataframe\n",
        "\n",
        "  \"\"\"\n",
        "\n",
        "  # resampling the data to standardize time intervals\n",
        "  df = df.resample('4H').mean().ffill()\n",
        "  df['lat_rad'] = df['lat_rad'].resample('4H').median().ffill()\n",
        "  df['long_rad'] = df['long_rad'].resample('4H').median().ffill()\n",
        "  \n",
        "  # applying a mask to limit the rows the predict function is applied to\n",
        "  mask = df['speed'] <= 3\n",
        "  df_temp = df[mask]\n",
        "\n",
        "  df['pred_port'] = 0\n",
        "  df.loc[mask, 'pred_port'] = df_temp.apply(nearest_port, axis=1)  \n",
        "  df['port_coords'] = [list(ports[k]) if k in ports else -99 for k in df['pred_port']]\n",
        "  df['lat_long'] = [[x,y] for x, y in zip(df['lat'], df['long'])]\n",
        "\n",
        "  # applying a mask to limit the rows vincenty func is applied to\n",
        "  vin_mask = (df['pred_port'] > 0)\n",
        "  vin_temp = df[vin_mask]\n",
        "  \n",
        "  df['port_dist'] = 0\n",
        "  df.loc[vin_mask, 'port_dist'] = vin_temp.apply(vincenty_port, axis=1)\n",
        "\n",
        "  # eliminating entries in sequences where max distance greatly differs from min\n",
        "  # indicates 'waiting to enter port'\n",
        "  df['seq'] = df['pred_port'].diff().ne(0).cumsum()\n",
        "  df['seq_count'] = df.groupby('seq')['seq'].transform('count')\n",
        "  df['dist_diff'] = df.groupby('seq')['port_dist'].transform(lambda x: x - x.min())\n",
        "  df['pred_port'] = np.where(df['dist_diff'] >= 15, 0, df['pred_port'])         # 15km away from closest point this trip to the port \n",
        "  df['seq'] = df['pred_port'].diff().ne(0).cumsum()\n",
        "\n",
        "  # identifying draft changes indicating 'ports' that are not included in the\n",
        "  # ports .csv. without tagging voyages will be mislabelled\n",
        "  df['draft_delta'] = df['draft'].transform(lambda x: abs(x.diff(-1)).ge(0.5))\n",
        "  df['sum_draft_delta'] = df.groupby('seq')['draft_delta'].transform(sum)\n",
        "  \n",
        "  mask = ((df['pred_port'] == -1) & (df['sum_draft_delta'] >= 1) & \\\n",
        "          (df['seq_count'] >=4))                                                # indicates 16 hrs at the location - a minimum threshold for unknown 'ports'\n",
        "  \n",
        "  df['pred_port'] = np.where(mask, -75, df['pred_port'])\n",
        "\n",
        "  # recasting vessel and pred_port columns as integers\n",
        "  df[['vessel', 'pred_port']] = df[['vessel', 'pred_port']].astype(int)\n",
        "\n",
        "  return df"
      ],
      "execution_count": 90,
      "outputs": []
    },
    {
      "cell_type": "code",
      "metadata": {
        "id": "l5yzVGOX8Vgx"
      },
      "source": [
        "p = assign_ports(vessel_dfs[127])\n",
        "\n",
        "print(p[['speed', 'seq', 'pred_port', 'dist_diff', 'seq_count', 'draft']].to_string())"
      ],
      "execution_count": null,
      "outputs": []
    },
    {
      "cell_type": "code",
      "metadata": {
        "id": "J9tCbNDQiRfQ"
      },
      "source": [
        "# creating a dictionary of vessel dataframes with a datetime index\n",
        "\n",
        "vessel_dfs = {}\n",
        "\n",
        "for vessel in df2.vessel.unique():\n",
        "  df_ = df2[df2['vessel'] == vessel]\n",
        "  vessel_dfs[vessel] = df_.set_index('datetime')\n",
        "\n",
        "# assigning ports to each dataframe\n",
        "processed_dfs = {f'vessel_{key}':assign_ports(vessel_dfs[key]) for key in vessel_dfs.keys()}"
      ],
      "execution_count": 92,
      "outputs": []
    },
    {
      "cell_type": "code",
      "metadata": {
        "id": "BDnoQ4hnfhce"
      },
      "source": [
        "def get_voyages(df):\n",
        "  \"\"\"\n",
        "  a function to convert the port sequences in each dataframe into voyages\n",
        "  with the proper formatting\n",
        "\n",
        "  Parameters:\n",
        "  ----------\n",
        "      df: pandas DataFrame\n",
        "  \n",
        "  Returns:\n",
        "  -------\n",
        "      df: processed pandas DataFrame\n",
        "      \n",
        "  \"\"\"\n",
        "  # filtering out columns without an assigned port\n",
        "  nz = df[(df['pred_port'] > 0) | (df['pred_port'] == -75)].reset_index()\n",
        "\n",
        "  vessel = nz['vessel'][0]\n",
        "  dt = nz['datetime']\n",
        "  pred = nz['pred_port']\n",
        "\n",
        "  records = []\n",
        "\n",
        "  for i in range(len(dt)-1):\n",
        "    if pred[i] != pred[i+1]:\n",
        "      start_port = pred[i]\n",
        "      end_port = pred[i+1]\n",
        "      begin_date = dt[i]\n",
        "      end_date = dt[i+1]\n",
        "      records.append([vessel, begin_date, end_date, start_port, end_port])\n",
        "\n",
        "  df = pd.DataFrame.from_records(records, columns = ['vessel', 'begin_date', 'end_date', 'begin_port_id', 'end_port_id'])\n",
        "  \n",
        "  return df"
      ],
      "execution_count": 97,
      "outputs": []
    },
    {
      "cell_type": "code",
      "metadata": {
        "id": "7SIs4v7TvD-a"
      },
      "source": [
        "voyages_df = pd.concat([get_voyages(processed_dfs[key]) for key in processed_dfs.keys()])"
      ],
      "execution_count": 98,
      "outputs": []
    },
    {
      "cell_type": "code",
      "metadata": {
        "id": "mLbFGRunvYK8"
      },
      "source": [
        "df3 = voyages_df\n",
        "df3['len_voyage'] = df3['end_date'] - df3['begin_date']"
      ],
      "execution_count": 104,
      "outputs": []
    },
    {
      "cell_type": "code",
      "metadata": {
        "id": "ndPmSZ_KA0bs"
      },
      "source": [
        "df = processed_dfs['vessel_26']\n",
        "\n",
        "# df['draft_delta'] = df['draft'].transform(lambda x: abs(x.diff(-1)).ge(0.5))\n",
        "# df['sum_draft_delta'] = df.groupby('seq')['draft_delta'].transform(sum)\n",
        "# mask = ((df['pred_port'] == -1) & (df['sum_draft_delta'] >= 1))\n",
        "# df['pred_port'] = np.where(mask, -75, df['pred_port'])"
      ],
      "execution_count": 112,
      "outputs": []
    },
    {
      "cell_type": "code",
      "metadata": {
        "id": "csp_rhTBB6wO"
      },
      "source": [
        "print(df[['speed', 'pred_port', 'seq', 'lat_long','draft', 'draft_delta', 'sum_draft_delta']].to_string())"
      ],
      "execution_count": null,
      "outputs": []
    },
    {
      "cell_type": "code",
      "metadata": {
        "id": "m2bXWE1aV6zD"
      },
      "source": [
        "df = get_voyages(processed_dfs['vessel_107'])"
      ],
      "execution_count": 124,
      "outputs": []
    },
    {
      "cell_type": "code",
      "metadata": {
        "colab": {
          "base_uri": "https://localhost:8080/",
          "height": 265
        },
        "id": "qZSA4BbDWtYq",
        "outputId": "a53b21d2-4bc8-46ff-ec48-28cf09283035"
      },
      "source": [
        "df"
      ],
      "execution_count": 129,
      "outputs": [
        {
          "output_type": "execute_result",
          "data": {
            "text/html": [
              "<div>\n",
              "<style scoped>\n",
              "    .dataframe tbody tr th:only-of-type {\n",
              "        vertical-align: middle;\n",
              "    }\n",
              "\n",
              "    .dataframe tbody tr th {\n",
              "        vertical-align: top;\n",
              "    }\n",
              "\n",
              "    .dataframe thead th {\n",
              "        text-align: right;\n",
              "    }\n",
              "</style>\n",
              "<table border=\"1\" class=\"dataframe\">\n",
              "  <thead>\n",
              "    <tr style=\"text-align: right;\">\n",
              "      <th></th>\n",
              "      <th>vessel</th>\n",
              "      <th>begin_date</th>\n",
              "      <th>end_date</th>\n",
              "      <th>begin_port_id</th>\n",
              "      <th>end_port_id</th>\n",
              "    </tr>\n",
              "  </thead>\n",
              "  <tbody>\n",
              "    <tr>\n",
              "      <th>0</th>\n",
              "      <td>107</td>\n",
              "      <td>2019-09-30 16:00:00</td>\n",
              "      <td>2019-10-07 08:00:00</td>\n",
              "      <td>72</td>\n",
              "      <td>115</td>\n",
              "    </tr>\n",
              "    <tr>\n",
              "      <th>1</th>\n",
              "      <td>107</td>\n",
              "      <td>2019-10-07 16:00:00</td>\n",
              "      <td>2019-10-12 20:00:00</td>\n",
              "      <td>115</td>\n",
              "      <td>99</td>\n",
              "    </tr>\n",
              "    <tr>\n",
              "      <th>2</th>\n",
              "      <td>107</td>\n",
              "      <td>2019-10-15 16:00:00</td>\n",
              "      <td>2019-10-28 20:00:00</td>\n",
              "      <td>99</td>\n",
              "      <td>51</td>\n",
              "    </tr>\n",
              "    <tr>\n",
              "      <th>3</th>\n",
              "      <td>107</td>\n",
              "      <td>2019-10-29 16:00:00</td>\n",
              "      <td>2019-11-09 00:00:00</td>\n",
              "      <td>51</td>\n",
              "      <td>99</td>\n",
              "    </tr>\n",
              "    <tr>\n",
              "      <th>4</th>\n",
              "      <td>107</td>\n",
              "      <td>2019-11-10 00:00:00</td>\n",
              "      <td>2019-11-18 20:00:00</td>\n",
              "      <td>99</td>\n",
              "      <td>111</td>\n",
              "    </tr>\n",
              "    <tr>\n",
              "      <th>5</th>\n",
              "      <td>107</td>\n",
              "      <td>2019-11-19 16:00:00</td>\n",
              "      <td>2019-12-01 20:00:00</td>\n",
              "      <td>111</td>\n",
              "      <td>73</td>\n",
              "    </tr>\n",
              "    <tr>\n",
              "      <th>6</th>\n",
              "      <td>107</td>\n",
              "      <td>2019-12-02 20:00:00</td>\n",
              "      <td>2019-12-21 20:00:00</td>\n",
              "      <td>73</td>\n",
              "      <td>99</td>\n",
              "    </tr>\n",
              "  </tbody>\n",
              "</table>\n",
              "</div>"
            ],
            "text/plain": [
              "   vessel          begin_date            end_date  begin_port_id  end_port_id\n",
              "0     107 2019-09-30 16:00:00 2019-10-07 08:00:00             72          115\n",
              "1     107 2019-10-07 16:00:00 2019-10-12 20:00:00            115           99\n",
              "2     107 2019-10-15 16:00:00 2019-10-28 20:00:00             99           51\n",
              "3     107 2019-10-29 16:00:00 2019-11-09 00:00:00             51           99\n",
              "4     107 2019-11-10 00:00:00 2019-11-18 20:00:00             99          111\n",
              "5     107 2019-11-19 16:00:00 2019-12-01 20:00:00            111           73\n",
              "6     107 2019-12-02 20:00:00 2019-12-21 20:00:00             73           99"
            ]
          },
          "metadata": {
            "tags": []
          },
          "execution_count": 129
        }
      ]
    },
    {
      "cell_type": "code",
      "metadata": {
        "id": "kF-vL7n3WKGb"
      },
      "source": [
        "def prepare_data(df):\n",
        "\n",
        "  df = get_voyages(df)\n",
        "  ports = np.array(df['begin_port_id'].append(pd.Series(df['end_port_id'].iloc[-1])))\n",
        "  \n",
        "  \n",
        "  encoded = OneHotEncoder(sparse=False).fit_transform(ports.reshape(-1,1))\n",
        "  \n",
        "  ports = np.array([encoded[i:i+5] for i in range(len(encoded)-4)])\n",
        "\n",
        "  X = ports[:,:4]\n",
        "  X = X.reshape(len(X), 4, len(X[0][0]))\n",
        "  y = ports[:,-1]\n",
        "  \n",
        "  return X, y"
      ],
      "execution_count": 254,
      "outputs": []
    },
    {
      "cell_type": "code",
      "metadata": {
        "id": "1SYAZwqkayLY"
      },
      "source": [
        "X, y = prepare_data(processed_dfs['vessel_119'])"
      ],
      "execution_count": 255,
      "outputs": []
    },
    {
      "cell_type": "code",
      "metadata": {
        "colab": {
          "base_uri": "https://localhost:8080/"
        },
        "id": "bd28DPQVl6dv",
        "outputId": "9a2edd4c-8759-40aa-c563-080f63e6ec24"
      },
      "source": [
        "X = X.reshape(len(X), 4, len(X[0][0]))"
      ],
      "execution_count": 273,
      "outputs": [
        {
          "output_type": "execute_result",
          "data": {
            "text/plain": [
              "(4, 12)"
            ]
          },
          "metadata": {
            "tags": []
          },
          "execution_count": 273
        }
      ]
    },
    {
      "cell_type": "code",
      "metadata": {
        "id": "WTl6WBuuQLaB"
      },
      "source": [
        "# creating the LSTM model\n",
        "input_shape = (X.shape[1], X.shape[2])\n",
        "\n",
        "model = Sequential()\n",
        "\n",
        "model.add(LSTM(50, input_shape=input_shape))\n",
        "\n",
        "model.add(Dense(12, activation='softmax'))\n",
        "\n",
        "model.compile(optimizer='adam', loss='categorical_crossentropy', metrics=['accuracy'])"
      ],
      "execution_count": 278,
      "outputs": []
    },
    {
      "cell_type": "code",
      "metadata": {
        "id": "dFMOpr06J3eK"
      },
      "source": [
        "model.fit(X, y,\n",
        "          batch_size=6,\n",
        "          epochs=50)"
      ],
      "execution_count": null,
      "outputs": []
    },
    {
      "cell_type": "code",
      "metadata": {
        "colab": {
          "base_uri": "https://localhost:8080/"
        },
        "id": "OF6d4bYZfpJj",
        "outputId": "c7f9919b-3a74-4abd-9843-0c2a95b51035"
      },
      "source": [
        "df3.groupby('vessel')['vessel'].count().sort_values(ascending=True)"
      ],
      "execution_count": 100,
      "outputs": [
        {
          "output_type": "execute_result",
          "data": {
            "text/plain": [
              "vessel\n",
              "174     4\n",
              "75      5\n",
              "43      7\n",
              "107     7\n",
              "168     8\n",
              "       ..\n",
              "159    37\n",
              "146    39\n",
              "110    39\n",
              "144    53\n",
              "172    54\n",
              "Name: vessel, Length: 172, dtype: int64"
            ]
          },
          "metadata": {
            "tags": []
          },
          "execution_count": 100
        }
      ]
    },
    {
      "cell_type": "code",
      "metadata": {
        "colab": {
          "base_uri": "https://localhost:8080/",
          "height": 362
        },
        "id": "n7T5EmrWQzPC",
        "outputId": "e796727a-829a-4aea-9a4c-780be2d3287c"
      },
      "source": [
        "df['pred_port'].plot(figsize=(18,5))\n",
        "df['draft'].plot(figsize=(18,5))"
      ],
      "execution_count": 96,
      "outputs": [
        {
          "output_type": "execute_result",
          "data": {
            "text/plain": [
              "<matplotlib.axes._subplots.AxesSubplot at 0x7ff8522dc110>"
            ]
          },
          "metadata": {
            "tags": []
          },
          "execution_count": 96
        },
        {
          "output_type": "display_data",
          "data": {
            "image/png": "[encoded data removed]",
            "text/plain": [
              "<Figure size 1296x360 with 1 Axes>"
            ]
          },
          "metadata": {
            "tags": [],
            "needs_background": "light"
          }
        }
      ]
    },
    {
      "cell_type": "code",
      "metadata": {
        "id": "MnaJpiELRKK4"
      },
      "source": [
        "# the dataframes to submit\n",
        "\n",
        "voyages = pd.DataFrame(columns= ['vessel', 'begin_date', 'end_date', 'begin_port_id', 'end_port_id'])\n",
        "predict = pd.DataFrame(columns= ['vessel', 'begin_port_id', 'end_port_id', 'voyage'])"
      ],
      "execution_count": null,
      "outputs": []
    }
  ]
}