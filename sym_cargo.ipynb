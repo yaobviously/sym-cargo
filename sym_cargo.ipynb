{
  "nbformat": 4,
  "nbformat_minor": 0,
  "metadata": {
    "colab": {
      "name": "sym_cargo.ipynb",
      "provenance": [],
      "collapsed_sections": [],
      "mount_file_id": "1bTzsC2_o8Jg772hCJWDRqrHnkqeQuRQx",
      "authorship_tag": "ABX9TyNuGwhZOpo1nhREjhvjKSh5",
      "include_colab_link": true
    },
    "kernelspec": {
      "display_name": "Python 3",
      "name": "python3"
    },
    "language_info": {
      "name": "python"
    }
  },
  "cells": [
    {
      "cell_type": "markdown",
      "metadata": {
        "id": "view-in-github",
        "colab_type": "text"
      },
      "source": [
        "<a href=\"https://colab.research.google.com/github/yaobviously/sym-cargo/blob/main/sym_cargo.ipynb\" target=\"_parent\"><img src=\"https://colab.research.google.com/assets/colab-badge.svg\" alt=\"Open In Colab\"/></a>"
      ]
    },
    {
      "cell_type": "code",
      "metadata": {
        "id": "TRudeILZCNAh"
      },
      "source": [
        "!pip install plotly-express --quiet\n",
        "!pip install vincenty --quiet"
      ],
      "execution_count": 87,
      "outputs": []
    },
    {
      "cell_type": "markdown",
      "metadata": {
        "id": "xrMMphhGyTIp"
      },
      "source": [
        "I'll clean up this repo and provide visualizations. \n",
        "\n",
        "I used many quick plots to figure out heuristics to exclude ships travelling near ports with no intention of docking, but I excluded them from his notebook because it was messy. I'll clean up a few and put them in. \n"
      ]
    },
    {
      "cell_type": "code",
      "metadata": {
        "id": "KFygxcBXBsUT"
      },
      "source": [
        "import pandas as pd\n",
        "import numpy as np\n",
        "import matplotlib.pyplot as plt\n",
        "import seaborn as sns\n",
        "from sklearn.neighbors import NearestNeighbors\n",
        "from sklearn.cluster import DBSCAN\n",
        "from sklearn.model_selection import train_test_split\n",
        "from sklearn.model_selection import GridSearchCV\n",
        "from tensorflow.keras.utils import to_categorical\n",
        "from keras.models import Sequential\n",
        "from keras.layers import Embedding, RepeatVector, LSTM, Dense, TimeDistributed\n",
        "from keras.preprocessing.sequence import pad_sequences\n",
        "from keras.callbacks import EarlyStopping\n",
        "from xgboost import XGBClassifier\n",
        "from vincenty import vincenty\n",
        "from sklearn.model_selection import train_test_split\n",
        "import plotly_express as px"
      ],
      "execution_count": 248,
      "outputs": []
    },
    {
      "cell_type": "code",
      "metadata": {
        "id": "ERdgnPI_B8xV"
      },
      "source": [
        "port_file = '/content/drive/MyDrive/Ports/ports.csv'\n",
        "tracking_file = '/content/drive/MyDrive/Ports/tracking.csv'"
      ],
      "execution_count": 89,
      "outputs": []
    },
    {
      "cell_type": "code",
      "metadata": {
        "id": "VGQ3oW9dCGF6"
      },
      "source": [
        "def wrangle():\n",
        "  \n",
        "  df1 = pd.read_csv(port_file)\n",
        "\n",
        "  # converting lat and long to radians to compute haversine distance\n",
        "  df1['lat_rad'] = np.radians(df1['lat'])\n",
        "  df1['long_rad'] = np.radians(df1['long'])\n",
        "  \n",
        "  # rounding lat and long in port df\n",
        "  df1['lat'] = df1['lat'].round(1)\n",
        "  df1['long'] = df1['long'].round(1)\n",
        "\n",
        "  df2 = pd.read_csv(tracking_file, parse_dates=['datetime'])\n",
        "  df2 = df2.drop_duplicates()\n",
        "  df2 = df2.sort_values(['vessel', 'datetime'])\n",
        "  df2['vessel_1back'] = df2['vessel'].shift()\n",
        "  \n",
        "  # converting lat and long to radians to compute haversine distance  \n",
        "  df2['lat_rad'] = np.radians(df2['lat'])\n",
        "  df2['long_rad'] = np.radians(df2['long'])\n",
        "\n",
        "  # adding lat/long column and lat/long 1 back to later compute delta\n",
        "  df2['lat_long'] = [[x,y] for x, y in zip(df2['lat'], df2['long'])]\n",
        "  df2['lat_long_1back'] = df2.groupby('vessel')['lat_long'].transform(lambda x: x.shift())\n",
        "  \n",
        "  # time deltas to compute impossible distances travelled\n",
        "  df2['time_delta'] = df2.groupby('vessel')['datetime'].transform(lambda x: x - x.shift(1))\n",
        "  df2['hour_delta'] = df2['time_delta'].apply(lambda x: x.seconds / 3600)\n",
        "\n",
        "  # filtering using query to eliminate unneeded/impossible values\n",
        "  df2 = df2.query('hour_delta > 0.25 & speed <30 & heading <=360 & draft < 12.5')\n",
        "  df2 = df2.reset_index(drop=True)\n",
        "\n",
        "  return df1, df2"
      ],
      "execution_count": 90,
      "outputs": []
    },
    {
      "cell_type": "code",
      "metadata": {
        "id": "jZJrWQ6eCIqV"
      },
      "source": [
        "df1, df2 = wrangle()"
      ],
      "execution_count": 91,
      "outputs": []
    },
    {
      "cell_type": "code",
      "metadata": {
        "id": "3tL74j_2a7LR"
      },
      "source": [
        "def vincent_distance(row):\n",
        "  \"\"\" \n",
        "  returns the vincenty distance for contiguous rows - will be used to identify\n",
        "  impossible distances travelled, and so on. could be used to create distance\n",
        "  matrix, but this may not be worthwhile \n",
        "  \"\"\"\n",
        "  if row['vessel'] != row['vessel_1back']:\n",
        "    return -99\n",
        "\n",
        "  loc1 = row['lat_long']\n",
        "  loc2 = row['lat_long_1back']\n",
        "\n",
        "  try:\n",
        "    distance = vincenty(loc1, loc2)\n",
        "    return distance\n",
        "  except:\n",
        "    return -99"
      ],
      "execution_count": null,
      "outputs": []
    },
    {
      "cell_type": "code",
      "metadata": {
        "id": "B1P_JxyybKHc"
      },
      "source": [
        "# creating a dictionary of ports with their lat and longs - will be used\n",
        "# repeatedly to explore data and assign values\n",
        "\n",
        "ports = {port:(lat, long) for port, lat, long in zip(df1['port'], df1['lat'], df1['long'])}\n",
        "\n",
        "# a dictionary to retrieve the port id from the index\n",
        "idx_ports = {idx:port for idx, port in zip(df1.index, df1.port)}"
      ],
      "execution_count": 92,
      "outputs": []
    },
    {
      "cell_type": "code",
      "metadata": {
        "colab": {
          "base_uri": "https://localhost:8080/"
        },
        "id": "8Rg5F1xcTElh",
        "outputId": "756a03e4-cfa1-44b1-b069-332d8006f360"
      },
      "source": [
        "# training a nearest neighbor model to  find the closest port when the \n",
        "# conditions indicating an extended stop have occurred. the metric is haversine\n",
        "# in order to compute the 'great circle' distance. so i don't forget, the model\n",
        "# returns the *index* of the port, not the port's identifying label\n",
        "\n",
        "ports_train = df1[['lat_rad', 'long_rad']]\n",
        "\n",
        "neigh_ports = NearestNeighbors(n_neighbors=3, algorithm='ball_tree', metric='haversine')\n",
        "neigh_ports.fit(ports_train)\n",
        "\n",
        "dist, n = neigh_ports.kneighbors(np.array([0.677565, 0.469731]).reshape(1,-1))\n",
        "\n",
        "print(dist[0] * 6370)\n",
        "print([idx_ports[n] for n in n[0]])"
      ],
      "execution_count": 93,
      "outputs": [
        {
          "output_type": "stream",
          "text": [
            "[  3.30931026  46.44757565 255.13837716]\n",
            "[82, 113, 44]\n"
          ],
          "name": "stdout"
        }
      ]
    },
    {
      "cell_type": "code",
      "metadata": {
        "id": "YC92dd_FI7MT"
      },
      "source": [
        "def nearest_port(df, radius=0.01):\n",
        "  \"\"\"\n",
        "  returns the port identifier of the nearest port using the nearest neighbors\n",
        "  model \n",
        "  \"\"\"\n",
        "\n",
        "  data = np.array([df['lat_rad'], df['long_rad']]).reshape(1, -1)\n",
        "  dist, pred = neigh_ports.radius_neighbors(data, radius=radius, sort_results = True) \n",
        "\n",
        "  if len(dist[0]) == 0:\n",
        "    return -1\n",
        "  \n",
        "  else:\n",
        "    return idx_ports[pred[0][0]]"
      ],
      "execution_count": 94,
      "outputs": []
    },
    {
      "cell_type": "code",
      "metadata": {
        "id": "t2cHgfSNZbx2"
      },
      "source": [
        "def nearest_distance(df, radius=0.0125):\n",
        "  \"\"\"\n",
        "  returns the distance of the nearest port in the dataset\n",
        "  \"\"\"\n",
        "  \n",
        "  data = np.array([df['lat_rad'], df['long_rad']]).reshape(1, -1)\n",
        "  dist, pred = neigh_ports.radius_neighbors(data, radius=radius, sort_results = True) \n",
        "\n",
        "  if len(dist[0]) == 0:\n",
        "    return -1\n",
        "  \n",
        "  else:\n",
        "    return dist[0][0]"
      ],
      "execution_count": 95,
      "outputs": []
    },
    {
      "cell_type": "code",
      "metadata": {
        "id": "KoYZuM6lqJIa"
      },
      "source": [
        "def vincenty_port(row):\n",
        "  \"\"\"\n",
        "  a function that computes the vincenty distance between the assigned port\n",
        "  and the latitude and longitude of the location data\n",
        "  \"\"\"\n",
        "  port = row['port_coords']\n",
        "  loc = row['lat_long']\n",
        "  return vincenty(port, loc)"
      ],
      "execution_count": 96,
      "outputs": []
    },
    {
      "cell_type": "code",
      "metadata": {
        "id": "CLCHF2I5CII2"
      },
      "source": [
        "def train_dbscan(df=df1, eps=0.1, min_samples=2):\n",
        "  \"\"\"\n",
        "  use the dbscan clustering algorithm to find groupss of ports\n",
        "\n",
        "  params\n",
        "  ------\n",
        "      df: pandas df\n",
        "      eps: min distance between points in cluster\n",
        "      min_samples: min members in a cluster\n",
        "\n",
        "  returns\n",
        "  -------\n",
        "      labels: labels matching index of long/lat input pairs\n",
        "  \"\"\"\n",
        "  \n",
        "  coords = df[['long_rad', 'lat_rad']].values\n",
        "  db = DBSCAN(eps=eps, min_samples=min_samples, algorithm='ball_tree', metric='haversine')\n",
        "\n",
        "  db.fit(coords)\n",
        "\n",
        "  return db.labels_"
      ],
      "execution_count": 97,
      "outputs": []
    },
    {
      "cell_type": "code",
      "metadata": {
        "id": "sU_Co92uMDoL"
      },
      "source": [
        "# creating a dictionary of labels\n",
        "df1['labels'] = train_dbscan()\n",
        "db_labels = {port:cluster for port, cluster in zip(df1['port'], df1['labels'])}"
      ],
      "execution_count": 98,
      "outputs": []
    },
    {
      "cell_type": "code",
      "metadata": {
        "id": "TxCo8-h_g9E8"
      },
      "source": [
        "def assign_ports(df):\n",
        "  \"\"\"\n",
        "  prepares a dataframe for port assignment by resampling  and filtering\n",
        "  it\n",
        "\n",
        "  params:\n",
        "  -----\n",
        "        df: pandas dataframe\n",
        "  \n",
        "  returns:\n",
        "  -------\n",
        "        df: processed pandas dataframe\n",
        "\n",
        "  \"\"\"\n",
        "\n",
        "  # resampling the data to standardize time intervals\n",
        "  df = df.resample('4H').mean().ffill()\n",
        "  df['lat_rad'] = df['lat_rad'].resample('4H').median().ffill()\n",
        "  df['long_rad'] = df['long_rad'].resample('4H').median().ffill()\n",
        "  \n",
        "  # applying a mask to limit the rows the predict function is applied to\n",
        "  mask = (df['speed'] <= 3.3)\n",
        "  df_temp = df[mask]\n",
        "\n",
        "  df['pred_port'] = 0\n",
        "  df.loc[mask, 'pred_port'] = df_temp.apply(nearest_port, axis=1)  \n",
        "  df['port_coords'] = [list(ports[k]) if k in ports else -99 for k in df['pred_port']]\n",
        "  df['lat_long'] = [[x,y] for x, y in zip(df['lat'], df['long'])]\n",
        "\n",
        "  # applying a mask to limit the rows vincenty func is applied to\n",
        "  vin_mask = (df['pred_port'] > 0)\n",
        "  vin_temp = df[vin_mask]\n",
        "  \n",
        "  df['port_dist'] = 0\n",
        "  df.loc[vin_mask, 'port_dist'] = vin_temp.apply(vincenty_port, axis=1)\n",
        "\n",
        "  # eliminating entries in sequences where max distance greatly differs from min\n",
        "  # indicates 'waiting to enter port'\n",
        "  df['seq'] = df['pred_port'].diff().ne(0).cumsum()\n",
        "  df['seq_count'] = df.groupby('seq')['seq'].transform('count')\n",
        "  df['dist_diff'] = df.groupby('seq')['port_dist'].transform(lambda x: x - x.min())\n",
        "  df['pred_port'] = np.where(df['dist_diff'] >= 15, 0, df['pred_port'])     # 15km away from closest point this trip to the port \n",
        "\n",
        "  # determining whether a block contains or is adjacent to a change in draft\n",
        "  df['draft_delta_back'] = df['draft'].transform(lambda x: abs(x.diff()).ge(0.5))\n",
        "  df['draft_delta_ahead'] = df['draft'].transform(lambda x: abs(x.diff(-1)).ge(0.5))\n",
        "  df['sum_draft_back'] = df.groupby('seq')['draft_delta_back'].transform('sum')\n",
        "  df['sum_draft_ahead'] = df.groupby('seq')['draft_delta_ahead'].transform('sum')\n",
        "  df['sum_draft'] = df['sum_draft_ahead'] + df['sum_draft_back']\n",
        "\n",
        "  condition = (df['seq_count'] <= 4) & (df['sum_draft'] <1)\n",
        "  df.loc[condition, 'pred_port'] = 0\n",
        "\n",
        "  condition_2 = (df['port_dist'] > 36)\n",
        "  df.loc[condition_2, 'pred_port'] = 0\n",
        "\n",
        "  condition_3 = ((df['pred_port'] == 115) & (df['port_dist'] > 4))\n",
        "  df.loc[condition_3, 'pred_port'] = 0\n",
        "\n",
        "  condition_4 = ((df['pred_port'] == 90) & (df['port_dist'] > 10))\n",
        "  df.loc[condition_4, 'pred_port'] = 0\n",
        "\n",
        "  condition_6 = ((df['pred_port'] == 98) & (df['port_dist'] > 26.5))\n",
        "  df.loc[condition_6, 'pred_port'] = 0\n",
        "\n",
        "  condition_7 = ((df['pred_port'] == 149) & (df['port_dist'] < 10))\n",
        "  df.loc[condition_7, 'pred_port'] = 0\n",
        "\n",
        "  # recasting vessel and pred_port columns as integers\n",
        "  df[['vessel', 'pred_port']] = df[['vessel', 'pred_port']].astype(int)\n",
        "\n",
        "\n",
        "  return df"
      ],
      "execution_count": 580,
      "outputs": []
    },
    {
      "cell_type": "code",
      "metadata": {
        "id": "BDnoQ4hnfhce"
      },
      "source": [
        "def get_voyages(df):\n",
        "  \"\"\"\n",
        "  converts the port sequences in each dataframe into voyages\n",
        "  with the proper formatting\n",
        "\n",
        "  param:\n",
        "  -----\n",
        "      df: pandas DataFrame\n",
        "  \n",
        "  returns:\n",
        "  -------\n",
        "      df: processed pandas DataFrame\n",
        "      \n",
        "  \"\"\"\n",
        "  # filtering out columns without an assigned port\n",
        "  nz = df[(df['pred_port'] > 0) | (df['pred_port'] == -75)].reset_index()\n",
        "\n",
        "  vessel = nz['vessel'][0]\n",
        "  dt = nz['datetime']\n",
        "  pred = nz['pred_port']\n",
        "\n",
        "  records = []\n",
        "\n",
        "  for i in range(len(dt)-1):\n",
        "    if pred[i] != pred[i+1]:\n",
        "      start_port = pred[i]\n",
        "      end_port = pred[i+1]\n",
        "      begin_date = dt[i]\n",
        "      end_date = dt[i+1]\n",
        "      records.append([vessel, begin_date, end_date, start_port, end_port])\n",
        "\n",
        "  df = pd.DataFrame.from_records(records, columns = ['vessel', 'begin_date', 'end_date', 'begin_port_id', 'end_port_id'])\n",
        "  \n",
        "  return df"
      ],
      "execution_count": 347,
      "outputs": []
    },
    {
      "cell_type": "code",
      "metadata": {
        "id": "0RO8RBNQqWb3"
      },
      "source": [
        "def find_next_port(df):\n",
        "  \"\"\"\n",
        "  find the next port visited for each row in the DataFrame, excluding the current \n",
        "  port. the value 0 is used to indicate that there is no next port in the data\n",
        "\n",
        "  this was used for a model that i discarded, but it may be reused\n",
        "  \n",
        "  params\n",
        "  ------\n",
        "      df : pandas DataFrame\n",
        "\n",
        "  return\n",
        "  ------\n",
        "      df: pandas DataFrame \n",
        "  \n",
        "  \"\"\"\n",
        "\n",
        "  ports = df['pred_port']\n",
        "\n",
        "  next_port = []\n",
        "\n",
        "  for i in range(len(ports)):\n",
        "    p = ports[i]\n",
        "    for n in ports[i:]:\n",
        "      if (p != n) & (n >0) :\n",
        "        next_port.append(n)\n",
        "        break\n",
        "\n",
        "  # padding zeros at the end to indicate no next port \n",
        "  zeroes = [0] * (len(ports) - len(next_port))\n",
        "  next_ports = next_port + zeroes\n",
        "  \n",
        "  df['next_port'] = next_ports\n",
        "\n",
        "  return df"
      ],
      "execution_count": 348,
      "outputs": []
    },
    {
      "cell_type": "code",
      "metadata": {
        "id": "TbHcYBVQcWst"
      },
      "source": [
        "# calculating the distance between each row using the vincenty function above.\n",
        "# note it only calcs within each vessel group (see function). the elapsed time\n",
        "# and the total distance travelled implies a speed and that speed allows for\n",
        "# effetcive filtering of impossible routes\n",
        "\n",
        "df2['vin_diff'] = df2.apply(vincent_distance, axis=1)\n",
        "df2['vin_per_hour'] = df2['vin_diff'] / df2['hour_delta']\n",
        "df2 = df2.query('vin_per_hour <= 50')"
      ],
      "execution_count": 102,
      "outputs": []
    },
    {
      "cell_type": "code",
      "metadata": {
        "id": "J9tCbNDQiRfQ"
      },
      "source": [
        "# creating a dictionary of vessel dataframes with a datetime index\n",
        "\n",
        "vessel_dfs = {}\n",
        "\n",
        "for vessel in df2.vessel.unique():\n",
        "  df_ = df2[df2['vessel'] == vessel]\n",
        "  vessel_dfs[vessel] = df_.set_index('datetime')\n",
        "\n",
        "# assigning ports to each dataframe\n",
        "processed_dfs = {key:assign_ports(vessel_dfs[key]) for key in vessel_dfs.keys()}"
      ],
      "execution_count": 581,
      "outputs": []
    },
    {
      "cell_type": "code",
      "metadata": {
        "id": "irWz30hWlesV"
      },
      "source": [
        "alldf = pd.concat(processed_dfs[key] for key in processed_dfs.keys())"
      ],
      "execution_count": 582,
      "outputs": []
    },
    {
      "cell_type": "code",
      "metadata": {
        "id": "0_TnV_EudLEQ"
      },
      "source": [
        "# creating a dictionary of dataframes for each port and then extracting the min,\n",
        "# max, and max_draft distances for assigned ports\n",
        "\n",
        "ports_dfs = {}\n",
        "\n",
        "for port in alldf.pred_port.unique():\n",
        "  ports_dfs[port] = alldf[alldf['pred_port'] == port]\n",
        "\n",
        "# del ports_dfs[-1]\n",
        "del ports_dfs[0]\n",
        "\n",
        "min_max = {}\n",
        "\n",
        "for df in ports_dfs.keys():\n",
        "  draft_max = ports_dfs[df].query('sum_draft >=1').port_dist.max()\n",
        "  min_max[df] = [ports_dfs[df]['port_dist'].max(), ports_dfs[df]['port_dist'].min(), draft_max]"
      ],
      "execution_count": 583,
      "outputs": []
    },
    {
      "cell_type": "code",
      "metadata": {
        "id": "7SIs4v7TvD-a"
      },
      "source": [
        "voyages_df = pd.concat([get_voyages(processed_dfs[key]) for key in processed_dfs.keys()])\n",
        "voyages_df['begin_date'] = voyages_df['begin_date'].dt.date\n",
        "voyages_df['end_date'] = voyages_df['end_date'].dt.date\n",
        "# voyages_df['len_voyage'] = voyages_df['end_date'] - voyages_df['begin_date']\n",
        "# voyages_df['begin_coords'] = [ports[key] for key in voyages_df['begin_port_id']]\n",
        "# voyages_df['end_coords'] = [ports[key] for key in voyages_df['end_port_id']]\n",
        "# voyages_df['voyage_dist'] = [vincenty(x, y) for x, y in zip(voyages_df['begin_coords'], voyages_df['end_coords'])]"
      ],
      "execution_count": 585,
      "outputs": []
    },
    {
      "cell_type": "code",
      "metadata": {
        "id": "bluiA0WbvCDb"
      },
      "source": [
        "alldf.groupby('vessel').apply(lambda x: x[x['pred_port'] < 1]['port_dist'].max())"
      ],
      "execution_count": null,
      "outputs": []
    },
    {
      "cell_type": "code",
      "metadata": {
        "id": "kF-vL7n3WKGb"
      },
      "source": [
        "def prepare_data(df, n_input = 3):\n",
        "  \"\"\"\n",
        "  preparing the sequences for window based models\n",
        "  \"\"\"\n",
        "\n",
        "  df = get_voyages(df)\n",
        "  vessel = df['vessel'].iloc[0]\n",
        "  ports_ = np.array(df['begin_port_id'].append(pd.Series(df['end_port_id'].iloc[-1])))  \n",
        "\n",
        "  X = []\n",
        "  Y = []\n",
        "  start = 0\n",
        "\n",
        "  for i in range(len(ports_)):\n",
        "    last_input = start + n_input\n",
        "    last_output = last_input + 3\n",
        "    if last_output <= len(ports_):\n",
        "      x = ports_[start:last_input]\n",
        "      y = ports_[last_input: last_output]\n",
        "      X.append(x)\n",
        "      Y.append(y)\n",
        "      start += 1\n",
        "  try:\n",
        "    df = pd.concat([pd.DataFrame(X),\n",
        "                  pd.DataFrame(Y, columns=['port_1ahead', 'port_2ahead', 'port_3ahead'])], axis=1)\n",
        "    \n",
        "  except:\n",
        "    df = pd.DataFrame()\n",
        "    \n",
        "  # X = []\n",
        "\n",
        "  # for x in X:\n",
        "  #   for n in x:\n",
        "  #     if n == -75:\n",
        "  #       port_coords = [33, 140]\n",
        "  #     else:\n",
        "  #       port_coords = list(ports[n])\n",
        "  #     port = [n]\n",
        "  #     port.extend(port_coords)\n",
        "  #     new_X.append(port)\n",
        "  \n",
        "  df['vessel'] = len(df) * [vessel]\n",
        "  \n",
        "  return df.astype(int)"
      ],
      "execution_count": 586,
      "outputs": []
    },
    {
      "cell_type": "code",
      "metadata": {
        "id": "AtTQNF2qY-RB"
      },
      "source": [
        "def build_model(df=model_df, target='port_1ahead', min_samples=1, n_back = 3):\n",
        "\n",
        "  model_df = pd.concat([prepare_data(processed_dfs[key], n_back) for key in processed_dfs.keys()]) \n",
        "\n",
        "  model_df['cluster_1back'] = [db_labels[n] for n in model_df[0]]\n",
        "  model_df['cluster_2back'] = [db_labels[n] for n in model_df[1]]\n",
        "  model_df['cluster_3back'] = [db_labels[n] for n in model_df[2]]\n",
        "\n",
        "  model_df['samples'] = model_df.groupby('vessel')['vessel'].transform(lambda x: x.count())\n",
        "  filtered_df = model_df.query('samples > @min_samples')\n",
        "\n",
        "  vessels_excluded = set(model_df['vessel'].unique()).difference(set(filtered_df['vessel'].unique()))\n",
        "\n",
        "  features = [n for n in range(n_back)] + ['cluster_1back', 'cluster_2back', 'cluster_3back'] \n",
        "  target = target\n",
        "\n",
        "  X = filtered_df[features]\n",
        "  y = filtered_df[target]\n",
        "  model = XGBClassifier(learning_rate=0.03)\n",
        "\n",
        "  param_grid = {\n",
        "      'max_depth': [4, 5, 6]\n",
        "  }\n",
        "\n",
        "  grid_search = GridSearchCV(model, param_grid, cv=3)\n",
        "  grid_result = grid_search.fit(X, y)\n",
        "\n",
        "  print('The training excluded vessels:', vessels_excluded)\n",
        "  print('The best model params were:', grid_result.best_params_)\n",
        "  print('The best accuracy achieved was:', grid_result.best_score_)\n",
        "  \n",
        "  return grid_result"
      ],
      "execution_count": 594,
      "outputs": []
    },
    {
      "cell_type": "code",
      "metadata": {
        "id": "jtEHbOIdTCDW"
      },
      "source": [
        "model_1ahead = build_model(target='port_1ahead', min_samples=2, n_back=3)\n",
        "model_2ahead = build_model(target='port_2ahead', min_samples=2, n_back=3)\n",
        "model_3ahead = build_model(target='port_3ahead', min_samples=2, n_back=3)"
      ],
      "execution_count": null,
      "outputs": []
    },
    {
      "cell_type": "code",
      "metadata": {
        "id": "JOHuijIk9lde"
      },
      "source": [
        "get_differences = {}\n",
        "\n",
        "for port in alldf.pred_port.unique():\n",
        "  df_ = alldf[alldf['pred_port'] == port].copy()\n",
        "  nunique_above25 = df_[df_['port_dist'] >=20]['vessel'].nunique()\n",
        "  nunique_below12 = df_[df_['port_dist'] <=12]['vessel'].nunique()\n",
        "  get_differences[port] = [nunique_above25, nunique_below12]"
      ],
      "execution_count": 596,
      "outputs": []
    },
    {
      "cell_type": "code",
      "metadata": {
        "id": "J5ERpuNpF_WT"
      },
      "source": [
        "def get_pred_data(df, n_input = 3):\n",
        "  \"\"\"\n",
        "  preparing the sequences for predictions\n",
        "  \"\"\"\n",
        "\n",
        "  df = get_voyages(df)\n",
        "  vessel = df['vessel'].iloc[0]\n",
        "  ports_ = np.array(df['begin_port_id'].append(pd.Series(df['end_port_id'].iloc[-1])))\n",
        "  \n",
        "  pred_seq = ports_[-n_input:]\n",
        "\n",
        "  if len(pred_seq) < n_input:\n",
        "    pred_seq = np.insert(pred_seq, 0, pred_seq[-1])\n",
        "  \n",
        "  return pred_seq"
      ],
      "execution_count": 461,
      "outputs": []
    },
    {
      "cell_type": "code",
      "metadata": {
        "id": "7NlGujqAv2FW"
      },
      "source": [
        "# creating a dictionary with the most recent ports visited for each vessel\n",
        "\n",
        "window_data = {key:get_pred_data(processed_dfs[key], n_input=3) for key in processed_dfs.keys()}"
      ],
      "execution_count": 462,
      "outputs": []
    },
    {
      "cell_type": "code",
      "metadata": {
        "id": "ZJkGCyNIwvvS"
      },
      "source": [
        "# creating a dataframe with the features used in the models\n",
        "\n",
        "sub = pd.DataFrame.from_dict(window_data, orient='index')\n",
        "\n",
        "sub['cluster_1back'] = [db_labels[n] for n in sub[0]]\n",
        "sub['cluster_2back'] = [db_labels[n] for n in sub[1]]\n",
        "sub['cluster_3back'] = [db_labels[n] for n in sub[2]]"
      ],
      "execution_count": 463,
      "outputs": []
    },
    {
      "cell_type": "code",
      "metadata": {
        "id": "6i6_80Y91LAe"
      },
      "source": [
        "# predicting the next port. also including the second most likely port in case\n",
        "# the model predicts duplicates. \n",
        "\n",
        "port_1 = model_1ahead.predict(sub)\n",
        "port_2 = model_2ahead.predict(sub)\n",
        "port_2_alt = [model_2ahead.best_estimator_.classes_[np.argsort(n)[-2]] for n in model_2ahead.predict_proba(sub)]\n",
        "port_3 = model_3ahead.predict(sub)\n",
        "port_3_alt = [model_3ahead.best_estimator_.classes_[np.argsort(n)[-2]] for n in model_3ahead.predict_proba(sub)]\n",
        "sub['port_1ahead'] = port_1\n",
        "sub['port_2ahead'] = port_2\n",
        "sub['port_2ahead_2nd'] = port_2_alt\n",
        "sub['port_3ahead'] = port_3\n",
        "sub['port_3ahead_2nd'] = port_3_alt"
      ],
      "execution_count": 465,
      "outputs": []
    },
    {
      "cell_type": "code",
      "metadata": {
        "id": "0VJNB5MI0E0a"
      },
      "source": [
        "# using conditional assignment to replace port predictions with the second most\n",
        "# likely\n",
        "\n",
        "sub.loc[sub['port_1ahead'] == sub['port_2ahead'], 'port_2ahead'] = sub['port_2ahead_2nd']\n",
        "sub.loc[sub['port_2ahead'] == sub['port_3ahead'], 'port_3ahead'] = sub['port_3ahead_2nd']"
      ],
      "execution_count": 466,
      "outputs": []
    },
    {
      "cell_type": "code",
      "metadata": {
        "id": "e3SrpcaTKtDo"
      },
      "source": [
        "# changing the shape of the dataframe so it conforms to what's required\n",
        "\n",
        "# resetting the index and renaming the column\n",
        "sub = sub.reset_index()\n",
        "sub.rename(columns={'index':'vessel'}, inplace=True)\n",
        "\n",
        "# limiting columns to those required and renaming\n",
        "sub = sub[['vessel', 2, 'port_1ahead', 'port_2ahead', 'port_3ahead']]\n",
        "sub.rename(columns={2:'final_port'}, inplace=True)\n",
        "\n",
        "# using melt to narrow the DataFrame and put the voyages into the same column\n",
        "sub = pd.melt(sub, id_vars='vessel').sort_values(by=['vessel', 'variable'])\n",
        "sub['end_port_id'] = sub.groupby('vessel')['value'].transform(lambda x: x.shift(-1))\n",
        "sub = sub.dropna()\n",
        "\n",
        "# adding a voyage count, more renaming\n",
        "sub['voyage'] = sub.groupby('vessel').cumcount()+1\n",
        "sub.rename(columns={'value' : 'begin_port_id'}, inplace=True)\n",
        "sub.drop(columns=['variable'], inplace=True)\n",
        "sub['end_port_id'] = sub['end_port_id'].astype(int)\n",
        "sub = sub.reset_index(drop=True)"
      ],
      "execution_count": 467,
      "outputs": []
    },
    {
      "cell_type": "markdown",
      "metadata": {
        "id": "9_6avCrtDDhQ"
      },
      "source": [
        "Creating an LSTM model to predict the future voyages. "
      ]
    },
    {
      "cell_type": "code",
      "metadata": {
        "id": "T1wikN3M42_m"
      },
      "source": [
        "lstm_data = []\n",
        "\n",
        "for i in processed_dfs.keys():\n",
        "  try:\n",
        "    x = prepare_data(processed_dfs[i], n_input=6)\n",
        "    lstm_data.append(x)\n",
        "  except:\n",
        "    print(i)"
      ],
      "execution_count": 471,
      "outputs": []
    },
    {
      "cell_type": "code",
      "metadata": {
        "id": "Yj9dvByke8iK"
      },
      "source": [
        "encoder = {key:value for key, value in zip(df1['port'], df1.index)}"
      ],
      "execution_count": 472,
      "outputs": []
    },
    {
      "cell_type": "code",
      "metadata": {
        "id": "zWPWg-FVSLyH"
      },
      "source": [
        "from tensorflow.keras.utils import to_categorical\n",
        "from keras.models import Sequential\n",
        "from keras.layers import Embedding, RepeatVector, LSTM, Dense, TimeDistributed\n",
        "\n",
        "lstm_df = pd.concat(lstm_data)\n",
        "total_ports = 122\n",
        "\n",
        "X = lstm_df[[0, 1, 2, 3, 4, 5]]\n",
        "\n",
        "for col in X.columns:\n",
        "  X.loc[:,col] = X[col].map(encoder)\n",
        "\n",
        "y = lstm_df[['port_1ahead', 'port_2ahead', 'port_3ahead']]\n",
        "y = to_categorical(y)\n",
        "\n",
        "X_train, X_test, y_train, y_test = train_test_split(X, y, test_size=0.2, random_state=1944)\n",
        "\n",
        "model = Sequential()\n",
        "\n",
        "model.add(Embedding(total_ports, 3, input_length=6))\n",
        "model.add(LSTM(100, activation='relu', return_sequences=False))\n",
        "model.add(RepeatVector(3))\n",
        "model.add(LSTM(50, activation='relu', return_sequences=True))\n",
        "# model.add(Dense(50, activation='relu'))\n",
        "model.add(TimeDistributed(Dense(179, activation='softmax')))\n",
        "\n",
        "model.compile(optimizer='adam', loss='categorical_crossentropy', metrics=['accuracy'])"
      ],
      "execution_count": null,
      "outputs": []
    },
    {
      "cell_type": "code",
      "metadata": {
        "id": "WoIgnQNPV0V4"
      },
      "source": [
        "history = model.fit(X_train,y_train,\n",
        "                    validation_data=(X_test, y_test),\n",
        "                    batch_size=32,\n",
        "                    epochs=250,\n",
        "                    callbacks=EarlyStopping(monitor='val_accuracy',\n",
        "                                            patience=30,\n",
        "                                            restore_best_weights=True));"
      ],
      "execution_count": null,
      "outputs": []
    },
    {
      "cell_type": "code",
      "metadata": {
        "id": "PBLlbXF6lqyi"
      },
      "source": [
        "seq_for_pred = np.array([[encoder[j] for j in n] for n in window_data.values()])\n",
        "seq_for_pred = pad_sequences(seq_for_pred, maxlen=6, value=0)\n",
        "preds = model.predict(seq_for_pred)"
      ],
      "execution_count": 563,
      "outputs": []
    },
    {
      "cell_type": "code",
      "metadata": {
        "id": "fBQApzdGwu1q"
      },
      "source": [
        "first_port = pd.Series([np.argmax(n[0]) for n in preds])\n",
        "second_port = pd.Series([np.argmax(n[1]) for n in preds])\n",
        "alt_second = pd.Series([np.argsort(n[1])[-2] for n in preds])\n",
        "third_port = pd.Series([np.argmax(n[2]) for n in preds])\n",
        "alt_third = pd.Series([np.argsort(n[2])[-2] for n in preds])"
      ],
      "execution_count": 564,
      "outputs": []
    },
    {
      "cell_type": "code",
      "metadata": {
        "id": "kOqRO78LoVr6"
      },
      "source": [
        "\n",
        "last_port = pd.Series(seq_for_pred[:,-1])\n",
        "lstm_pred = pd.concat([last_port, first_port, second_port, alt_second, third_port, alt_third], axis=1)\n",
        "lstm_pred.index = window_data.keys()\n",
        "lstm_pred = lstm_pred.reset_index()\n",
        "lstm_pred.columns = ['vessel', 'last_port', 'pred1', 'pred2', 'alt2', 'pred3', 'alt3']\n",
        "lstm_pred['pred2'] = np.where(lstm_pred['pred1'] == lstm_pred['pred2'], lstm_pred['alt2'], lstm_pred['pred2'])\n",
        "lstm_pred['pred3'] = np.where(lstm_pred['pred2'] == lstm_pred['pred3'], lstm_pred['alt3'], lstm_pred['pred3'])\n",
        "lstm_pred.drop(columns=['alt2', 'alt3'], inplace=True)"
      ],
      "execution_count": 565,
      "outputs": []
    },
    {
      "cell_type": "code",
      "metadata": {
        "id": "zPZZ6EX_ANdP"
      },
      "source": [
        "reverse_encoder = {v:k for k, v in encoder.items()}\n",
        "lstm_pred['last_port'] = lstm_pred['last_port'].map(reverse_encoder)"
      ],
      "execution_count": 566,
      "outputs": []
    },
    {
      "cell_type": "code",
      "metadata": {
        "id": "NGyKkzQgrbAT"
      },
      "source": [
        "lstm_pred = pd.melt(lstm_pred, id_vars='vessel').sort_values(by=['vessel', 'variable'])\n",
        "\n",
        "lstm_pred['end_port_id'] = lstm_pred.groupby('vessel')['value'].transform(lambda x: x.shift(-1))\n",
        "lstm_pred.dropna(inplace=True)\n",
        "lstm_pred.drop(columns='variable', inplace=True)\n",
        "lstm_pred.rename(columns={'value':'begin_port_id'}, inplace=True)\n",
        "lstm_pred['voyage'] = lstm_pred.groupby('vessel').cumcount()+1\n",
        "lstm_pred = lstm_pred.astype(int).reset_index(drop=True)"
      ],
      "execution_count": 567,
      "outputs": []
    },
    {
      "cell_type": "code",
      "metadata": {
        "colab": {
          "base_uri": "https://localhost:8080/",
          "height": 142
        },
        "id": "ksfEgenhtQJs",
        "outputId": "b131cce9-7d02-4c1f-ef37-0c6fedcae417"
      },
      "source": [
        "lstm_pred.head(3)"
      ],
      "execution_count": 571,
      "outputs": [
        {
          "output_type": "execute_result",
          "data": {
            "text/html": [
              "<div>\n",
              "<style scoped>\n",
              "    .dataframe tbody tr th:only-of-type {\n",
              "        vertical-align: middle;\n",
              "    }\n",
              "\n",
              "    .dataframe tbody tr th {\n",
              "        vertical-align: top;\n",
              "    }\n",
              "\n",
              "    .dataframe thead th {\n",
              "        text-align: right;\n",
              "    }\n",
              "</style>\n",
              "<table border=\"1\" class=\"dataframe\">\n",
              "  <thead>\n",
              "    <tr style=\"text-align: right;\">\n",
              "      <th></th>\n",
              "      <th>vessel</th>\n",
              "      <th>begin_port_id</th>\n",
              "      <th>end_port_id</th>\n",
              "      <th>voyage</th>\n",
              "    </tr>\n",
              "  </thead>\n",
              "  <tbody>\n",
              "    <tr>\n",
              "      <th>0</th>\n",
              "      <td>1</td>\n",
              "      <td>95</td>\n",
              "      <td>138</td>\n",
              "      <td>1</td>\n",
              "    </tr>\n",
              "    <tr>\n",
              "      <th>1</th>\n",
              "      <td>1</td>\n",
              "      <td>138</td>\n",
              "      <td>134</td>\n",
              "      <td>2</td>\n",
              "    </tr>\n",
              "    <tr>\n",
              "      <th>2</th>\n",
              "      <td>1</td>\n",
              "      <td>134</td>\n",
              "      <td>138</td>\n",
              "      <td>3</td>\n",
              "    </tr>\n",
              "  </tbody>\n",
              "</table>\n",
              "</div>"
            ],
            "text/plain": [
              "   vessel  begin_port_id  end_port_id  voyage\n",
              "0       1             95          138       1\n",
              "1       1            138          134       2\n",
              "2       1            134          138       3"
            ]
          },
          "metadata": {
            "tags": []
          },
          "execution_count": 571
        }
      ]
    },
    {
      "cell_type": "code",
      "metadata": {
        "id": "lipU-tqdU_Va"
      },
      "source": [
        "sub.to_csv('predict.csv', index=False)\n",
        "lstm_pred.to_csv('lstm_predict.csv', index=False)\n",
        "voyages_df.to_csv('voyages.csv', index=False)"
      ],
      "execution_count": 607,
      "outputs": []
    },
    {
      "cell_type": "code",
      "metadata": {
        "id": "hd_OvZ0lenDm",
        "colab": {
          "base_uri": "https://localhost:8080/",
          "height": 542
        },
        "outputId": "18c4b0f9-5794-408c-be9e-1042168305e4"
      },
      "source": [
        "fig = px.scatter_geo(v52[v52.index > '2019-09-01'], lat='lat', lon='long', color = 'pred_port')\n",
        "\n",
        "fig.show()"
      ],
      "execution_count": 606,
      "outputs": [
        {
          "output_type": "display_data",
          "data": {
            "text/html": [
              "<html>\n",
              "<head><meta charset=\"utf-8\" /></head>\n",
              "<body>\n",
              "    <div>\n",
              "            <script src=\"https://cdnjs.cloudflare.com/ajax/libs/mathjax/2.7.5/MathJax.js?config=TeX-AMS-MML_SVG\"></script><script type=\"text/javascript\">if (window.MathJax) {MathJax.Hub.Config({SVG: {font: \"STIX-Web\"}});}</script>\n",
              "                <script type=\"text/javascript\">window.PlotlyConfig = {MathJaxConfig: 'local'};</script>\n",
              "        <script src=\"https://cdn.plot.ly/plotly-latest.min.js\"></script>    \n",
              "            <div id=\"1dc256b0-6bc4-4be1-bb03-c43879120e89\" class=\"plotly-graph-div\" style=\"height:525px; width:100%;\"></div>\n",
              "            <script type=\"text/javascript\">\n",
              "                \n",
              "                    window.PLOTLYENV=window.PLOTLYENV || {};\n",
              "                    \n",
              "                if (document.getElementById(\"1dc256b0-6bc4-4be1-bb03-c43879120e89\")) {\n",
              "                    Plotly.newPlot(\n",
              "                        '1dc256b0-6bc4-4be1-bb03-c43879120e89',\n",
              "                        [{\"geo\": \"geo\", \"hoverlabel\": {\"namelength\": 0}, \"hovertemplate\": \"lat=%{lat}<br>long=%{lon}<br>pred_port=%{marker.color}\", \"lat\": [-11.941564, -10.762039999999999, -9.298578, -8.667582000000001, -8.170932, -7.672273666666666, -7.337467, -6.905755, -6.381184333333334, -5.622327500000001, -4.6342245, -3.8813439999999995, -3.052755, -1.9041516666666665, -0.966238, -0.2848125, 0.6919375, 1.4340166666666665, 2.0892185, 2.9914445, 4.0459315, 4.5232815, 5.481495000000001, 6.38636625, 7.0914, 7.929617333333333, 8.807828, 9.267569000000002, 10.341551500000001, 11.418141000000002, 11.930673, 12.9038605, 13.749167666666665, 14.442761, 14.442761, 14.442761, 15.563228, 15.563228, 15.481326999999999, 15.443007000000001, 15.443007000000001, 15.364792000000001, 15.360392000000001, 15.360392000000001, 15.374951999999999, 15.3537975, 15.3537975, 15.331103, 15.753900666666667, 15.753900666666667, 15.673089999999998, 15.562447, 15.562447, 15.449142000000002, 15.404060000000001, 15.404060000000001, 15.404060000000001, 15.404060000000001, 15.058495, 14.8478855, 14.809349000000001, 14.759335, 14.759335, 14.759335, 14.759335, 14.759335, 17.0536805, 17.947334, 18.938892000000003, 19.820042333333333, 19.820042333333333, 19.820042333333333, 22.468948666666666, 22.468948666666666, 24.490482, 25.269512499999998, 25.932579999999998, 27.486438, 27.486438, 27.486438, 29.689256, 29.704995666666665, 29.707846999999997, 29.707846999999997, 29.7047, 29.704937, 29.704457500000004, 29.704560333333333, 29.704977000000003, 29.704977000000003, 29.70465075, 29.705580999999995, 29.704552500000002, 29.704746999999998, 29.705297, 29.704587, 29.704711000000003, 29.705489999999998, 29.704544999999996, 29.704495666666663, 29.704684, 29.70437, 29.704250666666667, 29.704302333333334, 29.703618499999997, 29.703414666666664, 29.7030175, 29.702614999999998, 29.7026715, 29.7028775, 29.7029725, 29.702789, 29.702956, 29.70272, 29.702636333333334, 29.701846666666665, 29.701835, 29.701481333333334, 29.7002995, 29.699633000000002, 29.9344, 30.451277, 30.60765, 30.60765, 30.60765, 30.60765, 30.136604, 29.732452333333338, 29.731476, 29.7314585, 29.7315, 29.7315745, 29.73154066666667, 29.731571666666667, 29.731606499999998, 29.73163166666667, 29.804287, 29.897379, 29.897385333333332, 29.89739333333333, 29.897375, 29.89741033333333, 29.8973825, 29.8973845, 29.897391666666667, 29.897383333333334, 29.897401000000002, 29.897397333333334, 29.686281, 29.277877, 29.277877, 29.277877, 26.578432, 25.745403500000002, 24.6630885, 23.759038, 22.898722, 21.742167000000002, 21.137542, 20.393123, 19.137762, 18.865225, 17.7012125, 16.534157, 15.3009485, 14.994272, 13.9011675, 12.883302, 12.34839, 11.304395, 10.217023, 9.4498465, 8.565068, 7.651603999999999, 7.128913, 6.2049325, 5.232275, 4.810678, 4.099445666666667, 2.992851, 2.4950349999999997, 1.517644, 0.758502, 0.16398933333333335, -0.8620519999999999, -1.788937, -2.2755896666666664, -3.1971523333333334, -4.174196666666666, -4.664722, -4.664722, -4.981477, -4.962207, -5.291930499999999, -6.15857825, -7.3247985, -8.266825, -8.861386999999999, -9.318253666666667, -10.208187333333333, -11.03499, -11.479483, -11.479483, -11.479483, -11.479483, -15.569550249999999, -16.5773645, -17.424826666666664, -18.513689499999998, -19.391699000000003, -20.13500833333333, -20.704756, -20.8132875, -20.813275666666666, -20.8132585, -20.813257999999998, -20.813274, -20.813266333333335, -20.789569, -20.080208666666667, -18.8292735, -17.794186, -16.737306999999998, -15.538537666666668, -14.533332000000001, -13.583680333333334, -12.453644, -11.4823385, -10.484654666666666, -9.357258, -8.4487255, -7.758787333333333, -7.758787333333333, -7.758787333333333, -5.40248, -4.992779333333334, -4.554245, -4.043490333333334, -3.2881025, -2.370095, -1.9726419999999998, -1.2716883333333333, -0.51118, 0.6326925000000001, 1.639276, 1.639276, 1.639276, 4.266652, 5.39912, 5.39912, 5.39912, 5.39912, 5.39912, 5.39912, 5.39912, 11.891817999999999, 12.5116385, 12.585286, 12.584884, 12.583514333333332, 12.582271500000001, 12.627387666666666, 12.627387666666666, 12.649723, 12.649702, 12.649693666666666, 12.649666, 12.649708333333331, 12.422983666666667, 12.422983666666667, 12.422983666666667, 12.422983666666667, 12.422983666666667, 12.422983666666667, 12.422983666666667, 12.422983666666667, 3.3055905, 3.3055905, 1.482455, 0.7052996666666665, -0.605895, -1.640728, -3.00238, -3.71431, -4.82507, -5.376653666666666, -6.1684600000000005, -6.72534, -7.376771, -7.985572333333333, -8.818455, -9.193464333333333, -9.856950666666666, -10.622292999999999, -11.312104999999999, -11.9075425, -12.495158, -12.901896666666666, -13.499057333333333, -13.499057333333333, -13.499057333333333, -15.267440333333335, -15.895429666666667, -16.374541999999998, -16.862857666666667, -17.507832999999998, -17.8312915, -18.519474, -19.102760333333332, -19.637825, -20.1332565, -20.529015, -20.791707000000002, -21.132058333333337, -21.503140333333334, -21.8012145, -22.123312, -22.472604999999998, -22.68660566666667, -23.057427333333333, -23.3758625, -23.644922666666663, -23.991886, -24.2595175, -24.546544, -24.850366666666662, -25.103277499999997, -25.387382000000002, -25.7247485, -26.0261475, -26.29677066666667, -26.627524333333337, -26.8956965, -27.194436333333332, -27.542078, -27.849103333333332, -28.1569195, -28.453841333333333, -28.7567565, -29.026770666666664, -29.384808999999997, -29.673331500000003, -29.953619333333336, -30.306825000000003, -30.596716999999998, -30.862250333333336, -31.230431, -31.518606, -31.746765666666665, -32.044495, -32.285168, -32.523414333333335, -32.810398500000005, -33.042171999999994, -33.24880566666667, -33.565220333333336, -33.797306, -34.06153233333333, -34.349985000000004, -34.5754325, -34.65792766666667, -34.740514333333344, -34.8952015, -35.137694, -34.631498, -33.869575, -33.265649333333336, -32.119137333333335, -30.918285, -30.018313333333335, -28.789911500000002, -27.743206999999998, -26.719005, -25.448252, -24.632839999999998, -23.475354000000003, -23.475354000000003, -21.359862, -20.340522, -19.21874, -18.207645, -17.1985355, -17.1985355, -15.288565, -14.1593705, -12.6952235, -11.715576800000001, -10.394548, -9.298117, -8.3023315, -7.1987775, -5.8786966666666665, -4.729323, -3.8664370000000003, -3.051918, -1.6800424999999999, -0.53762, 0.41304700000000005, 1.512665, 2.2588049999999997, 3.384315, 3.787343, 3.782683, 3.7826725, 3.7826940000000002, 3.782669333333333, 3.78266, 3.782667, 3.7826594999999994, 3.545529666666667, 2.316415, 1.2435816666666666, -0.073819, -1.1078810000000001, -2.4904, -3.132689, -4.52778, -5.9811415, -6.987437, -8.314765000000001, -9.363299999999999, -10.55451, -11.865127999999999, -13.012853999999999, -14.035587, -15.304728333333335, -16.505089333333334, -17.631270999999998, -18.619335333333336, -19.689904, -20.731858, -21.978421666666666, -23.0472365, -24.129455333333336, -25.336181666666665, -26.384374, -27.43068, -28.477421500000002, -29.970542000000005, -31.001511999999998, -31.932326666666665, -32.840970999999996, -33.811273, -34.14042766666667, -34.830704, -35.13676666666667, -35.116286333333335, -35.006142499999996, -34.825621999999996, -34.62897666666667, -34.2920235, -33.96666266666667, -33.56048766666667, -33.182145500000004, -32.792268, -32.357005, -32.001806, -31.588941333333334, -31.126771666666667, -30.744729, -30.331568, -29.800799666666666, -29.335251, -28.942139, -28.525902000000002, -28.023338, -27.6089725, -27.385183, -27.385183, -26.4454025, -25.903519, -25.656647500000002, -25.255257, -24.81568466666667, -24.397968, -24.108238999999998, -23.651606, -23.340446999999998, -22.935077, -22.565122333333335, -22.079185, -21.778254, -21.335513333333335, -20.989276, -20.616837, -20.240358666666665, -19.858663, -19.387349999999998, -19.021333666666667, -18.6729795, -18.274529, -17.8538085, -17.455171500000002, -17.184279999999998, -16.713704, -16.323752, -16.003567999999998, -15.527895333333333, -15.0850155, -14.876432000000001, -14.4083465, -14.0009275, -13.700987, -13.269779999999999, -12.761634, -12.570503, -12.12685, -11.685578, -11.479097, -10.9708425, -10.534193, -10.3584235, -9.826371, -9.412257, -9.218803999999999, -8.7278185, -8.310328666666669, -7.9886669999999995, -7.571869333333333, -7.139489, -6.670215000000001, -6.291430999999999, -5.885356, -5.284952, -4.7066419999999995, -3.5417509999999996, -2.533791666666667, -2.533791666666667, -2.533791666666667, 0.257932, 0.257932, 2.22398, 2.22398, 2.22398, 2.22398, 2.22398, 2.22398, 2.22398, 2.22398, 2.22398, 2.22398, 2.22398, 2.22398, 2.22398, 2.22398, 2.22398, 2.22398, 2.22398, 2.22398, 2.22398, 2.22398, 2.22398, 2.22398, 2.22398, 21.671027000000002, 21.671027000000002, 23.504662, 24.585099333333332, 25.583354999999997, 25.583354999999997, 25.583354999999997, 28.969695, 29.612834999999997, 29.612834999999997, 29.612834999999997, 29.612834999999997, 29.612834999999997, 29.612834999999997, 29.612834999999997, 29.612834999999997, 29.612834999999997, 29.612834999999997, 38.382727, 38.566934499999995, 38.704076, 38.704076, 38.704076, 38.704076, 38.704076, 38.704076, 38.704076, 38.8416405, 38.8416405, 38.841588, 38.841588, 38.841962, 38.841208, 38.840742, 38.840742, 38.841017, 38.840105, 38.83944233333333, 38.840117, 38.84008966666667, 38.8398635, 38.83971833333333, 38.841347000000006, 38.841774, 38.84183, 38.84000666666666, 38.84000666666666, 38.83795, 38.83795, 38.83795, 38.83795, 38.83795, 38.83795, 38.83795, 38.83795, 38.83795, 38.839363, 38.839363, 38.839363, 38.815062, 38.811085, 38.840804500000004, 38.927617], \"legendgroup\": \"\", \"lon\": [154.55855350000002, 154.38901533333333, 153.878408, 153.630745, 152.4949655, 151.346454, 150.57103999999998, 149.57538666666667, 148.3905923333333, 147.546659, 147.03275250000002, 146.64056850000003, 146.2161915, 145.62030366666667, 145.05469000000002, 144.565252, 143.862507, 143.31979066666668, 142.857436, 142.17379524999998, 141.4186885, 141.0761115, 140.37814150000003, 139.71432525, 139.2029665, 138.584569, 137.94075, 137.612947, 136.8859685, 136.158522, 135.80935, 135.1472275, 134.568046, 134.0950815, 134.0950815, 134.0950815, 133.310303, 133.310303, 133.348383, 133.33698, 133.33698, 133.283168, 133.24799199999998, 133.24799199999998, 133.30055, 133.34511650000002, 133.34511650000002, 133.365648, 133.31914933333334, 133.31914933333334, 133.3091565, 133.279387, 133.279387, 133.246488, 133.21308499999998, 133.21308499999998, 133.21308499999998, 133.21308499999998, 133.170378, 133.080085, 133.043231, 132.969928, 132.969928, 132.969928, 132.969928, 132.969928, 131.9938275, 131.55349233333334, 130.962917, 130.34395966666668, 130.34395966666668, 130.34395966666668, 128.45422733333334, 128.45422733333334, 126.991675, 126.41237999999998, 125.92573999999999, 124.771028, 124.771028, 124.771028, 122.816058, 122.61619566666667, 122.615127, 122.615127, 122.61645924999999, 122.61618666666668, 122.617742, 122.61663433333332, 122.61549699999999, 122.61549699999999, 122.61610575, 122.61496066666666, 122.617232, 122.61583, 122.615106, 122.61628350000001, 122.61598099999999, 122.61483933333334, 122.616535, 122.61633266666666, 122.6157115, 122.617174, 122.61652099999999, 122.61611466666666, 122.6166275, 122.616379, 122.615016, 122.61701766666665, 122.6159825, 122.615271, 122.61553649999999, 122.61545166666666, 122.6149135, 122.615716, 122.61553666666667, 122.61479833333334, 122.6147085, 122.61462266666666, 122.61483100000001, 122.614372, 122.81212133333332, 123.269503, 123.388405, 123.388405, 123.388405, 123.388405, 123.0360665, 122.62145, 122.6208135, 122.62130300000001, 122.6206635, 122.62010000000001, 122.62029733333333, 122.62029733333333, 122.62081200000002, 122.62138933333334, 122.35996650000001, 122.08877900000002, 122.08878733333334, 122.08879, 122.08878899999999, 122.08877733333334, 122.0887815, 122.0887815, 122.088778, 122.08878833333334, 122.08879400000001, 122.08877, 122.4144495, 122.942097, 122.942097, 122.942097, 124.96302299999999, 125.47932, 125.772621, 125.85597800000001, 125.93800700000001, 126.056723, 126.111902, 126.19031, 126.312468, 126.33231299999998, 126.44619049999999, 126.560756, 126.677359, 126.70428799999999, 126.810936, 126.90558, 126.95244299999999, 127.05073999999999, 127.15338999999999, 127.21693350000001, 127.305493, 127.38836, 127.42734099999998, 127.5192155, 127.60961299999998, 127.646873, 127.61527899999999, 127.3686125, 127.248815, 127.03917233333334, 126.87059350000001, 126.73587000000002, 126.70508166666666, 126.690008, 126.40857766666666, 125.87297166666667, 125.72499599999999, 125.678092, 125.678092, 125.53453, 125.43273500000001, 125.3880715, 125.41372975000002, 125.42857950000001, 125.1876505, 124.38315800000001, 123.558508, 122.77440133333334, 122.287362, 122.02316699999999, 122.02316699999999, 122.02316699999999, 122.02316699999999, 119.62093750000001, 119.01065500000001, 118.51966333333333, 117.8617825, 117.32511, 116.65715566666667, 115.74442833333335, 115.490966, 115.49098200000002, 115.49097549999999, 115.490978, 115.49097899999998, 115.490974, 115.5899025, 115.82825866666667, 115.8209225, 115.8162985, 115.80479833333334, 115.80769733333334, 115.789305, 115.77029399999999, 115.7691985, 115.762858, 115.75228166666666, 115.742844, 115.7920065, 115.42072933333333, 115.42072933333333, 115.42072933333333, 112.802221, 111.97826200000002, 110.94012466666668, 109.95584500000001, 109.604062, 108.95675, 108.32263, 107.66860433333333, 107.021115, 106.46619, 105.7399635, 105.7399635, 105.7399635, 104.613157, 103.909415, 103.909415, 103.909415, 103.909415, 103.909415, 103.909415, 103.909415, 101.15933000000001, 101.18394900000001, 101.20776049999999, 101.21003599999999, 101.21133833333333, 101.2080685, 101.17145966666665, 101.17145966666665, 101.155265, 101.15523633333333, 101.15521333333334, 101.1552375, 101.15524933333334, 101.14113066666668, 101.14113066666668, 101.14113066666668, 101.14113066666668, 101.14113066666668, 101.14113066666668, 101.14113066666668, 101.14113066666668, 104.783848, 104.783848, 105.622506, 106.01514099999999, 106.711395, 107.07433300000001, 107.321652, 107.402717, 107.0613615, 106.27689966666667, 105.3488715, 104.349649, 103.3832725, 102.44735133333334, 101.190487, 100.61099266666668, 99.58321266666667, 98.39365, 97.2945915, 96.3533775, 95.40912800000001, 94.74254666666667, 93.763735, 93.763735, 93.763735, 90.79272966666667, 89.71669433333334, 88.869893, 88.01064933333333, 86.80375649999999, 86.258648, 84.99695966666667, 83.89028966666666, 82.87929, 81.86109400000001, 80.62798649999999, 79.61389799999999, 78.33479866666669, 76.96294333333333, 75.90279, 74.700014, 73.405888, 72.59061266666667, 71.19016333333332, 70.025478, 68.998001, 67.672409, 66.66054249999999, 65.58470899999999, 64.40577133333333, 63.436510999999996, 62.39379566666667, 61.092152500000005, 59.973035, 58.90002933333333, 57.62330666666666, 56.568802000000005, 55.409007, 54.090781, 52.88005233333334, 51.648126500000004, 50.51680966666667, 49.3339835, 48.27106466666667, 46.844312, 45.6955725, 44.566519666666665, 43.180103, 42.002921, 40.901168000000006, 39.4597625, 38.2821815, 37.265985666666666, 36.144582, 35.139250000000004, 34.186815, 33.018929, 32.115521, 31.208669666666665, 30.028912333333334, 28.977479000000002, 27.902157666666668, 26.534484, 25.3759535, 24.065065333333337, 22.524391999999995, 21.189825999999996, 19.941352666666667, 18.473979, 18.217741500000002, 17.57885366666667, 16.866430666666663, 16.351671, 15.977206666666667, 15.4597755, 15.029488500000001, 14.612679999999997, 14.103892000000002, 13.775735000000001, 13.3138875, 13.3138875, 12.486985, 12.096877000000001, 11.664395500000001, 11.279511999999999, 10.925149999999999, 10.925149999999999, 10.569035000000001, 10.3671425, 10.1080425, 9.9372508, 9.704742, 9.5129275, 9.3389545, 9.147901000000001, 8.919058999999999, 8.721078, 8.571017999999999, 8.432672, 8.265715, 8.271897000000001, 8.280155, 8.293242, 8.299855, 8.303397, 8.696762, 8.698037, 8.6980425, 8.6980575, 8.698042333333333, 8.6981, 8.698046333333332, 8.69802, 8.467948, 8.286868, 8.264896333333335, 8.238675, 8.216476, 8.183725, 8.1730805, 8.228673333333333, 8.3802945, 8.582238, 8.851315, 9.0637235, 9.303272999999999, 9.570266, 9.805855666666666, 10.017828, 10.279864333333334, 10.528527000000002, 10.8163255, 11.178638666666666, 11.570314, 11.964458, 12.433519666666667, 12.8424775, 13.250718333333333, 13.723401, 14.124255999999999, 14.536247, 14.9483175, 15.547020333333334, 16.0070535, 16.607853333333335, 17.224359999999997, 18.154235, 18.209866333333334, 18.808142500000002, 19.948066333333333, 21.492615666666666, 22.751164000000003, 24.051067, 25.469129, 26.730426, 27.795282, 29.090371, 30.246105, 31.464627, 32.785429666666666, 33.8836085, 35.146863333333336, 36.534405666666665, 37.7035925, 38.947338, 40.547204, 41.930435, 43.103382499999995, 44.3291155, 45.833417, 47.0305515, 47.685393, 47.685393, 50.404593500000004, 51.985845, 52.705886, 53.842797, 55.111619999999995, 56.303371999999996, 57.12736366666667, 58.42532533333334, 59.3113485, 60.438430000000004, 61.484462, 62.835522, 63.687721, 64.93126933333333, 65.878535, 66.92836, 67.972683, 69.0267015, 70.3244865, 71.33608333333333, 72.269464, 73.37336350000001, 74.521834, 75.5984535, 76.325827, 77.62102066666667, 78.688987, 79.527627, 80.811256, 82.00806449999999, 82.569515, 83.80753849999999, 84.9067275, 85.713675, 86.85926833333333, 88.1583775, 88.718597, 89.895052, 91.07573000000001, 91.615809, 92.956735, 94.10415, 94.57061449999999, 95.9734385, 97.070397, 97.56887750000001, 98.859261, 99.95130333333333, 100.79575200000001, 101.88178599999999, 103.01766566666667, 104.18934899999999, 105.1581575, 105.791428, 106.508006, 107.10264, 107.42971, 107.21747799999999, 107.21747799999999, 107.21747799999999, 107.877582, 107.877582, 108.261225, 108.261225, 108.261225, 108.261225, 108.261225, 108.261225, 108.261225, 108.261225, 108.261225, 108.261225, 108.261225, 108.261225, 108.261225, 108.261225, 108.261225, 108.261225, 108.261225, 108.261225, 108.261225, 108.261225, 108.261225, 108.261225, 108.261225, 121.8002835, 121.8002835, 122.839972, 123.43046233333332, 123.93601000000001, 123.93601000000001, 123.93601000000001, 124.501697, 124.640198, 124.640198, 124.640198, 124.640198, 124.640198, 124.640198, 124.640198, 124.640198, 124.640198, 124.640198, 121.62296299999998, 120.970511, 120.45799450000001, 120.45799450000001, 120.45799450000001, 120.45799450000001, 120.45799450000001, 120.45799450000001, 120.45799450000001, 119.487964, 119.487964, 119.488578, 119.488578, 119.488575, 119.48944499999999, 119.489628, 119.489628, 119.489433, 119.4898275, 119.48957733333333, 119.489852, 119.489786, 119.48976049999999, 119.485951, 119.48869333333334, 119.48661949999999, 119.48453, 119.48936399999998, 119.48936399999998, 119.4878655, 119.4878655, 119.4878655, 119.4878655, 119.4878655, 119.4878655, 119.4878655, 119.4878655, 119.4878655, 119.49051299999999, 119.49051299999999, 119.49051299999999, 119.363433, 118.81536266666667, 118.0708185, 117.87625200000001], \"marker\": {\"color\": [0, 0, 0, 0, 0, 0, 0, 0, 0, 0, 0, 0, 0, 0, 0, 0, 0, 0, 0, 0, 0, 0, 0, 0, 0, 0, 0, 0, 0, 0, 0, 0, 0, 0, 0, 0, -1, -1, -1, -1, -1, -1, -1, -1, -1, -1, -1, 0, 0, 0, -1, -1, -1, -1, -1, -1, -1, -1, -1, -1, -1, -1, -1, -1, -1, -1, 0, 0, 0, 0, 0, 0, 0, 0, 0, 0, 0, 0, 0, 0, 0, 0, 0, 0, 0, 0, 0, 0, 0, 0, 0, 0, 0, 0, 0, 0, 0, 0, 0, 0, 0, 0, 0, 0, 0, 0, 0, 0, 0, 0, 0, 0, 0, 0, 0, 0, 0, 0, 0, 0, 0, 0, 0, 0, 0, 0, 0, 0, 0, 0, 0, 0, 0, 0, 0, 0, 0, 13, 13, 13, 13, 13, 13, 13, 13, 13, 13, 13, 0, 0, 0, 0, 0, 0, 0, 0, 0, 0, 0, 0, 0, 0, 0, 0, 0, 0, 0, 0, 0, 0, 0, 0, 0, 0, 0, 0, 0, 0, 0, 0, 0, 0, 0, 0, 0, 0, 0, 0, 0, 0, 0, 0, 0, 0, 0, 0, 0, 0, 0, 0, 0, 0, 0, 0, 0, 0, 0, 0, 0, 0, 0, 0, 32, 32, 32, 32, 32, 32, 0, 0, 0, 0, 0, 0, 0, 0, 0, 0, 0, 0, 0, 0, 0, 0, 0, 0, 0, 0, 0, 0, 0, 0, 0, 0, 0, 0, 0, 0, 0, 0, 0, 0, 0, 0, 0, 0, 0, 121, 121, 121, 121, 121, 121, 121, 121, 121, 121, 121, 0, 0, 0, 0, 0, 0, 0, 0, 0, 0, 0, 0, 0, 0, 0, 0, 0, 0, 0, 0, 0, 0, 0, 0, 0, 0, 0, 0, 0, 0, 0, 0, 0, 0, 0, 0, 0, 0, 0, 0, 0, 0, 0, 0, 0, 0, 0, 0, 0, 0, 0, 0, 0, 0, 0, 0, 0, 0, 0, 0, 0, 0, 0, 0, 0, 0, 0, 0, 0, 0, 0, 0, 0, 0, 0, 0, 0, 0, 0, 0, 0, 0, 0, 0, 0, 0, 0, 0, 0, 0, 0, 0, 0, 0, 0, 0, 0, 0, 0, 0, 0, 0, 0, 0, 0, 0, 0, 0, 0, 0, 0, 0, 0, 0, 0, 0, 0, 0, 0, 0, 0, 0, 0, 0, 0, 0, 0, 0, 0, 0, 0, 0, 0, 57, 57, 57, 57, 57, 57, 57, 57, 0, 0, 0, 0, 0, 0, 0, 0, 0, 0, 0, 0, 0, 0, 0, 0, 0, 0, 0, 0, 0, 0, 0, 0, 0, 0, 0, 0, 0, 0, 0, 0, 0, 0, 0, 0, 0, 0, 0, 0, 0, 0, 0, 0, 0, 0, 0, 0, 0, 0, 0, 0, 0, 0, 0, 0, 0, 0, 0, 0, 0, 0, 0, 0, 0, 0, 0, 0, 0, 0, 0, 0, 0, 0, 0, 0, 0, 0, 0, 0, 0, 0, 0, 0, 0, 0, 0, 0, 0, 0, 0, 0, 0, 0, 0, 0, 0, 0, 0, 0, 0, 0, 0, 0, 0, 0, 0, 0, 0, 0, 0, 0, 0, 0, 0, 0, 0, 0, 0, 0, 0, 0, 0, 0, 0, 0, 0, 0, 0, 0, 0, 0, 0, 0, 0, 0, 0, 0, 0, 0, 0, 0, 0, 0, 0, 0, 0, 0, 0, 0, 0, 0, 0, 0, 0, 0, 0, 0, 0, 0, 0, 0, 0, 0, 0, 0, 0, 0, 0, 0, 0, 0, -1, -1, -1, -1, -1, -1, -1, -1, -1, -1, -1, -1, -1, -1, -1, -1, -1, -1, -1, -1, -1, -1, -1, -1, -1, -1, -1, -1, -1, -1, -1, -1, 0, 0, 0, 0], \"coloraxis\": \"coloraxis\"}, \"name\": \"\", \"showlegend\": false, \"type\": \"scattergeo\"}],\n",
              "                        {\"coloraxis\": {\"colorbar\": {\"title\": {\"text\": \"pred_port\"}}, \"colorscale\": [[0.0, \"#0d0887\"], [0.1111111111111111, \"#46039f\"], [0.2222222222222222, \"#7201a8\"], [0.3333333333333333, \"#9c179e\"], [0.4444444444444444, \"#bd3786\"], [0.5555555555555556, \"#d8576b\"], [0.6666666666666666, \"#ed7953\"], [0.7777777777777778, \"#fb9f3a\"], [0.8888888888888888, \"#fdca26\"], [1.0, \"#f0f921\"]]}, \"geo\": {\"center\": {}, \"domain\": {\"x\": [0.0, 1.0], \"y\": [0.0, 1.0]}}, \"legend\": {\"tracegroupgap\": 0}, \"margin\": {\"t\": 60}, \"template\": {\"data\": {\"bar\": [{\"error_x\": {\"color\": \"#2a3f5f\"}, \"error_y\": {\"color\": \"#2a3f5f\"}, \"marker\": {\"line\": {\"color\": \"#E5ECF6\", \"width\": 0.5}}, \"type\": \"bar\"}], \"barpolar\": [{\"marker\": {\"line\": {\"color\": \"#E5ECF6\", \"width\": 0.5}}, \"type\": \"barpolar\"}], \"carpet\": [{\"aaxis\": {\"endlinecolor\": \"#2a3f5f\", \"gridcolor\": \"white\", \"linecolor\": \"white\", \"minorgridcolor\": \"white\", \"startlinecolor\": \"#2a3f5f\"}, \"baxis\": {\"endlinecolor\": \"#2a3f5f\", \"gridcolor\": \"white\", \"linecolor\": \"white\", \"minorgridcolor\": \"white\", \"startlinecolor\": \"#2a3f5f\"}, \"type\": \"carpet\"}], \"choropleth\": [{\"colorbar\": {\"outlinewidth\": 0, \"ticks\": \"\"}, \"type\": \"choropleth\"}], \"contour\": [{\"colorbar\": {\"outlinewidth\": 0, \"ticks\": \"\"}, \"colorscale\": [[0.0, \"#0d0887\"], [0.1111111111111111, \"#46039f\"], [0.2222222222222222, \"#7201a8\"], [0.3333333333333333, \"#9c179e\"], [0.4444444444444444, \"#bd3786\"], [0.5555555555555556, \"#d8576b\"], [0.6666666666666666, \"#ed7953\"], [0.7777777777777778, \"#fb9f3a\"], [0.8888888888888888, \"#fdca26\"], [1.0, \"#f0f921\"]], \"type\": \"contour\"}], \"contourcarpet\": [{\"colorbar\": {\"outlinewidth\": 0, \"ticks\": \"\"}, \"type\": \"contourcarpet\"}], \"heatmap\": [{\"colorbar\": {\"outlinewidth\": 0, \"ticks\": \"\"}, \"colorscale\": [[0.0, \"#0d0887\"], [0.1111111111111111, \"#46039f\"], [0.2222222222222222, \"#7201a8\"], [0.3333333333333333, \"#9c179e\"], [0.4444444444444444, \"#bd3786\"], [0.5555555555555556, \"#d8576b\"], [0.6666666666666666, \"#ed7953\"], [0.7777777777777778, \"#fb9f3a\"], [0.8888888888888888, \"#fdca26\"], [1.0, \"#f0f921\"]], \"type\": \"heatmap\"}], \"heatmapgl\": [{\"colorbar\": {\"outlinewidth\": 0, \"ticks\": \"\"}, \"colorscale\": [[0.0, \"#0d0887\"], [0.1111111111111111, \"#46039f\"], [0.2222222222222222, \"#7201a8\"], [0.3333333333333333, \"#9c179e\"], [0.4444444444444444, \"#bd3786\"], [0.5555555555555556, \"#d8576b\"], [0.6666666666666666, \"#ed7953\"], [0.7777777777777778, \"#fb9f3a\"], [0.8888888888888888, \"#fdca26\"], [1.0, \"#f0f921\"]], \"type\": \"heatmapgl\"}], \"histogram\": [{\"marker\": {\"colorbar\": {\"outlinewidth\": 0, \"ticks\": \"\"}}, \"type\": \"histogram\"}], \"histogram2d\": [{\"colorbar\": {\"outlinewidth\": 0, \"ticks\": \"\"}, \"colorscale\": [[0.0, \"#0d0887\"], [0.1111111111111111, \"#46039f\"], [0.2222222222222222, \"#7201a8\"], [0.3333333333333333, \"#9c179e\"], [0.4444444444444444, \"#bd3786\"], [0.5555555555555556, \"#d8576b\"], [0.6666666666666666, \"#ed7953\"], [0.7777777777777778, \"#fb9f3a\"], [0.8888888888888888, \"#fdca26\"], [1.0, \"#f0f921\"]], \"type\": \"histogram2d\"}], \"histogram2dcontour\": [{\"colorbar\": {\"outlinewidth\": 0, \"ticks\": \"\"}, \"colorscale\": [[0.0, \"#0d0887\"], [0.1111111111111111, \"#46039f\"], [0.2222222222222222, \"#7201a8\"], [0.3333333333333333, \"#9c179e\"], [0.4444444444444444, \"#bd3786\"], [0.5555555555555556, \"#d8576b\"], [0.6666666666666666, \"#ed7953\"], [0.7777777777777778, \"#fb9f3a\"], [0.8888888888888888, \"#fdca26\"], [1.0, \"#f0f921\"]], \"type\": \"histogram2dcontour\"}], \"mesh3d\": [{\"colorbar\": {\"outlinewidth\": 0, \"ticks\": \"\"}, \"type\": \"mesh3d\"}], \"parcoords\": [{\"line\": {\"colorbar\": {\"outlinewidth\": 0, \"ticks\": \"\"}}, \"type\": \"parcoords\"}], \"pie\": [{\"automargin\": true, \"type\": \"pie\"}], \"scatter\": [{\"marker\": {\"colorbar\": {\"outlinewidth\": 0, \"ticks\": \"\"}}, \"type\": \"scatter\"}], \"scatter3d\": [{\"line\": {\"colorbar\": {\"outlinewidth\": 0, \"ticks\": \"\"}}, \"marker\": {\"colorbar\": {\"outlinewidth\": 0, \"ticks\": \"\"}}, \"type\": \"scatter3d\"}], \"scattercarpet\": [{\"marker\": {\"colorbar\": {\"outlinewidth\": 0, \"ticks\": \"\"}}, \"type\": \"scattercarpet\"}], \"scattergeo\": [{\"marker\": {\"colorbar\": {\"outlinewidth\": 0, \"ticks\": \"\"}}, \"type\": \"scattergeo\"}], \"scattergl\": [{\"marker\": {\"colorbar\": {\"outlinewidth\": 0, \"ticks\": \"\"}}, \"type\": \"scattergl\"}], \"scattermapbox\": [{\"marker\": {\"colorbar\": {\"outlinewidth\": 0, \"ticks\": \"\"}}, \"type\": \"scattermapbox\"}], \"scatterpolar\": [{\"marker\": {\"colorbar\": {\"outlinewidth\": 0, \"ticks\": \"\"}}, \"type\": \"scatterpolar\"}], \"scatterpolargl\": [{\"marker\": {\"colorbar\": {\"outlinewidth\": 0, \"ticks\": \"\"}}, \"type\": \"scatterpolargl\"}], \"scatterternary\": [{\"marker\": {\"colorbar\": {\"outlinewidth\": 0, \"ticks\": \"\"}}, \"type\": \"scatterternary\"}], \"surface\": [{\"colorbar\": {\"outlinewidth\": 0, \"ticks\": \"\"}, \"colorscale\": [[0.0, \"#0d0887\"], [0.1111111111111111, \"#46039f\"], [0.2222222222222222, \"#7201a8\"], [0.3333333333333333, \"#9c179e\"], [0.4444444444444444, \"#bd3786\"], [0.5555555555555556, \"#d8576b\"], [0.6666666666666666, \"#ed7953\"], [0.7777777777777778, \"#fb9f3a\"], [0.8888888888888888, \"#fdca26\"], [1.0, \"#f0f921\"]], \"type\": \"surface\"}], \"table\": [{\"cells\": {\"fill\": {\"color\": \"#EBF0F8\"}, \"line\": {\"color\": \"white\"}}, \"header\": {\"fill\": {\"color\": \"#C8D4E3\"}, \"line\": {\"color\": \"white\"}}, \"type\": \"table\"}]}, \"layout\": {\"annotationdefaults\": {\"arrowcolor\": \"#2a3f5f\", \"arrowhead\": 0, \"arrowwidth\": 1}, \"coloraxis\": {\"colorbar\": {\"outlinewidth\": 0, \"ticks\": \"\"}}, \"colorscale\": {\"diverging\": [[0, \"#8e0152\"], [0.1, \"#c51b7d\"], [0.2, \"#de77ae\"], [0.3, \"#f1b6da\"], [0.4, \"#fde0ef\"], [0.5, \"#f7f7f7\"], [0.6, \"#e6f5d0\"], [0.7, \"#b8e186\"], [0.8, \"#7fbc41\"], [0.9, \"#4d9221\"], [1, \"#276419\"]], \"sequential\": [[0.0, \"#0d0887\"], [0.1111111111111111, \"#46039f\"], [0.2222222222222222, \"#7201a8\"], [0.3333333333333333, \"#9c179e\"], [0.4444444444444444, \"#bd3786\"], [0.5555555555555556, \"#d8576b\"], [0.6666666666666666, \"#ed7953\"], [0.7777777777777778, \"#fb9f3a\"], [0.8888888888888888, \"#fdca26\"], [1.0, \"#f0f921\"]], \"sequentialminus\": [[0.0, \"#0d0887\"], [0.1111111111111111, \"#46039f\"], [0.2222222222222222, \"#7201a8\"], [0.3333333333333333, \"#9c179e\"], [0.4444444444444444, \"#bd3786\"], [0.5555555555555556, \"#d8576b\"], [0.6666666666666666, \"#ed7953\"], [0.7777777777777778, \"#fb9f3a\"], [0.8888888888888888, \"#fdca26\"], [1.0, \"#f0f921\"]]}, \"colorway\": [\"#636efa\", \"#EF553B\", \"#00cc96\", \"#ab63fa\", \"#FFA15A\", \"#19d3f3\", \"#FF6692\", \"#B6E880\", \"#FF97FF\", \"#FECB52\"], \"font\": {\"color\": \"#2a3f5f\"}, \"geo\": {\"bgcolor\": \"white\", \"lakecolor\": \"white\", \"landcolor\": \"#E5ECF6\", \"showlakes\": true, \"showland\": true, \"subunitcolor\": \"white\"}, \"hoverlabel\": {\"align\": \"left\"}, \"hovermode\": \"closest\", \"mapbox\": {\"style\": \"light\"}, \"paper_bgcolor\": \"white\", \"plot_bgcolor\": \"#E5ECF6\", \"polar\": {\"angularaxis\": {\"gridcolor\": \"white\", \"linecolor\": \"white\", \"ticks\": \"\"}, \"bgcolor\": \"#E5ECF6\", \"radialaxis\": {\"gridcolor\": \"white\", \"linecolor\": \"white\", \"ticks\": \"\"}}, \"scene\": {\"xaxis\": {\"backgroundcolor\": \"#E5ECF6\", \"gridcolor\": \"white\", \"gridwidth\": 2, \"linecolor\": \"white\", \"showbackground\": true, \"ticks\": \"\", \"zerolinecolor\": \"white\"}, \"yaxis\": {\"backgroundcolor\": \"#E5ECF6\", \"gridcolor\": \"white\", \"gridwidth\": 2, \"linecolor\": \"white\", \"showbackground\": true, \"ticks\": \"\", \"zerolinecolor\": \"white\"}, \"zaxis\": {\"backgroundcolor\": \"#E5ECF6\", \"gridcolor\": \"white\", \"gridwidth\": 2, \"linecolor\": \"white\", \"showbackground\": true, \"ticks\": \"\", \"zerolinecolor\": \"white\"}}, \"shapedefaults\": {\"line\": {\"color\": \"#2a3f5f\"}}, \"ternary\": {\"aaxis\": {\"gridcolor\": \"white\", \"linecolor\": \"white\", \"ticks\": \"\"}, \"baxis\": {\"gridcolor\": \"white\", \"linecolor\": \"white\", \"ticks\": \"\"}, \"bgcolor\": \"#E5ECF6\", \"caxis\": {\"gridcolor\": \"white\", \"linecolor\": \"white\", \"ticks\": \"\"}}, \"title\": {\"x\": 0.05}, \"xaxis\": {\"automargin\": true, \"gridcolor\": \"white\", \"linecolor\": \"white\", \"ticks\": \"\", \"title\": {\"standoff\": 15}, \"zerolinecolor\": \"white\", \"zerolinewidth\": 2}, \"yaxis\": {\"automargin\": true, \"gridcolor\": \"white\", \"linecolor\": \"white\", \"ticks\": \"\", \"title\": {\"standoff\": 15}, \"zerolinecolor\": \"white\", \"zerolinewidth\": 2}}}},\n",
              "                        {\"responsive\": true}\n",
              "                    ).then(function(){\n",
              "                            \n",
              "var gd = document.getElementById('1dc256b0-6bc4-4be1-bb03-c43879120e89');\n",
              "var x = new MutationObserver(function (mutations, observer) {{\n",
              "        var display = window.getComputedStyle(gd).display;\n",
              "        if (!display || display === 'none') {{\n",
              "            console.log([gd, 'removed!']);\n",
              "            Plotly.purge(gd);\n",
              "            observer.disconnect();\n",
              "        }}\n",
              "}});\n",
              "\n",
              "// Listen for the removal of the full notebook cells\n",
              "var notebookContainer = gd.closest('#notebook-container');\n",
              "if (notebookContainer) {{\n",
              "    x.observe(notebookContainer, {childList: true});\n",
              "}}\n",
              "\n",
              "// Listen for the clearing of the current output cell\n",
              "var outputEl = gd.closest('.output');\n",
              "if (outputEl) {{\n",
              "    x.observe(outputEl, {childList: true});\n",
              "}}\n",
              "\n",
              "                        })\n",
              "                };\n",
              "                \n",
              "            </script>\n",
              "        </div>\n",
              "</body>\n",
              "</html>"
            ]
          },
          "metadata": {
            "tags": []
          }
        }
      ]
    }
  ]
}