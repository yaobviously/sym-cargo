{
  "nbformat": 4,
  "nbformat_minor": 0,
  "metadata": {
    "colab": {
      "name": "sym_cargo.ipynb",
      "provenance": [],
      "collapsed_sections": [],
      "mount_file_id": "1bTzsC2_o8Jg772hCJWDRqrHnkqeQuRQx",
      "authorship_tag": "ABX9TyMg+OL7TnCnCHecLsljvklq",
      "include_colab_link": true
    },
    "kernelspec": {
      "display_name": "Python 3",
      "name": "python3"
    },
    "language_info": {
      "name": "python"
    }
  },
  "cells": [
    {
      "cell_type": "markdown",
      "metadata": {
        "id": "view-in-github",
        "colab_type": "text"
      },
      "source": [
        "<a href=\"https://colab.research.google.com/github/yaobviously/sym-cargo/blob/main/sym_cargo.ipynb\" target=\"_parent\"><img src=\"https://colab.research.google.com/assets/colab-badge.svg\" alt=\"Open In Colab\"/></a>"
      ]
    },
    {
      "cell_type": "code",
      "metadata": {
        "id": "TRudeILZCNAh"
      },
      "source": [
        "!pip install plotly-express --quiet\n",
        "!pip install vincenty --quiet"
      ],
      "execution_count": null,
      "outputs": []
    },
    {
      "cell_type": "markdown",
      "metadata": {
        "id": "xrMMphhGyTIp"
      },
      "source": [
        "I'll clean up this repo and provide visualizations and the requirements.txt file later this week. \n"
      ]
    },
    {
      "cell_type": "code",
      "metadata": {
        "id": "KFygxcBXBsUT"
      },
      "source": [
        "import pandas as pd\n",
        "import numpy as np\n",
        "import matplotlib.pyplot as plt\n",
        "import seaborn as sns\n",
        "from sklearn.neighbors import NearestNeighbors\n",
        "from sklearn.cluster import DBSCAN\n",
        "from xgboost import XGBClassifier\n",
        "from vincenty import vincenty\n",
        "from sklearn.model_selection import train_test_split\n",
        "from sklearn.model_selection import GridSearchCV\n",
        "from sklearn.metrics import roc_auc_score\n",
        "import plotly_express as px"
      ],
      "execution_count": 38,
      "outputs": []
    },
    {
      "cell_type": "code",
      "metadata": {
        "id": "ERdgnPI_B8xV"
      },
      "source": [
        "port_file = '/content/drive/MyDrive/Ports/ports.csv'\n",
        "tracking_file = '/content/drive/MyDrive/Ports/tracking.csv'"
      ],
      "execution_count": 3,
      "outputs": []
    },
    {
      "cell_type": "code",
      "metadata": {
        "id": "VGQ3oW9dCGF6"
      },
      "source": [
        "def wrangle():\n",
        "  \n",
        "  df1 = pd.read_csv(port_file)\n",
        "\n",
        "  # converting lat and long to radians to compute haversine distance\n",
        "  df1['lat_rad'] = np.radians(df1['lat'])\n",
        "  df1['long_rad'] = np.radians(df1['long'])\n",
        "  \n",
        "  # rounding lat and long in port df\n",
        "  df1['lat'] = df1['lat'].round(1)\n",
        "  df1['long'] = df1['long'].round(1)\n",
        "\n",
        "  df2 = pd.read_csv(tracking_file, parse_dates=['datetime'])\n",
        "  df2 = df2.drop_duplicates()\n",
        "  df2 = df2.sort_values(['vessel', 'datetime'])\n",
        "  df2['vessel_1back'] = df2['vessel'].shift()\n",
        "  \n",
        "  # converting lat and long to radians to compute haversine distance  \n",
        "  df2['lat_rad'] = np.radians(df2['lat'])\n",
        "  df2['long_rad'] = np.radians(df2['long'])\n",
        "\n",
        "  # adding lat/long column and lat/long 1 back to later compute delta\n",
        "  df2['lat_long'] = [[x,y] for x, y in zip(df2['lat'], df2['long'])]\n",
        "  df2['lat_long_1back'] = df2.groupby('vessel')['lat_long'].transform(lambda x: x.shift())\n",
        "  \n",
        "  # time deltas to compute impossible distances travelled\n",
        "  df2['time_delta'] = df2.groupby('vessel')['datetime'].transform(lambda x: x - x.shift(1))\n",
        "  df2['hour_delta'] = df2['time_delta'].apply(lambda x: x.seconds / 3600)\n",
        "\n",
        "  # filtering using query to eliminate unneeded/impossible values\n",
        "  df2 = df2.query('hour_delta > 0.25 & speed <30 & heading <=360 & draft < 12.5')\n",
        "  df2 = df2.reset_index(drop=True)\n",
        "\n",
        "  return df1, df2"
      ],
      "execution_count": 4,
      "outputs": []
    },
    {
      "cell_type": "code",
      "metadata": {
        "id": "jZJrWQ6eCIqV"
      },
      "source": [
        "df1, df2 = wrangle()"
      ],
      "execution_count": 5,
      "outputs": []
    },
    {
      "cell_type": "code",
      "metadata": {
        "id": "3tL74j_2a7LR"
      },
      "source": [
        "def vincent_distance(row):\n",
        "  \"\"\" \n",
        "  returns the vincenty distance for contiguous rows - will be used to identify\n",
        "  impossible distances travelled, and so on. could be used to create distance\n",
        "  matrix, but this may not be worthwhile \n",
        "  \"\"\"\n",
        "  if row['vessel'] != row['vessel_1back']:\n",
        "    return -99\n",
        "\n",
        "  loc1 = row['lat_long']\n",
        "  loc2 = row['lat_long_1back']\n",
        "\n",
        "  try:\n",
        "    distance = vincenty(loc1, loc2)\n",
        "    return distance\n",
        "  except:\n",
        "    return -99"
      ],
      "execution_count": 6,
      "outputs": []
    },
    {
      "cell_type": "code",
      "metadata": {
        "id": "B1P_JxyybKHc"
      },
      "source": [
        "# creating a dictionary of ports with their lat and longs - will be used to\n",
        "# repeatedly to explore data and assign values\n",
        "\n",
        "ports = {port:(lat, long) for port, lat, long in zip(df1['port'], df1['lat'], df1['long'])}\n",
        "\n",
        "# a dictionary to retrieve the port id from the index\n",
        "idx_ports = {idx:port for idx, port in zip(df1.index, df1.port)}"
      ],
      "execution_count": 7,
      "outputs": []
    },
    {
      "cell_type": "code",
      "metadata": {
        "colab": {
          "base_uri": "https://localhost:8080/"
        },
        "id": "8Rg5F1xcTElh",
        "outputId": "48cc705c-7664-4a0f-c7dd-f28c7300016b"
      },
      "source": [
        "# training a nearest neighbor model to  find the closest port when the \n",
        "# conditions indicating an extended stop have occurred. the metric is haversine\n",
        "# in order to compute the 'great circle' distance. so i don't forget, the model\n",
        "# returns the *index* of the port, not the port's identifying label\n",
        "\n",
        "ports_train = df1[['lat_rad', 'long_rad']]\n",
        "\n",
        "neigh_ports = NearestNeighbors(n_neighbors=3, algorithm='ball_tree', metric='haversine')\n",
        "neigh_ports.fit(ports_train)\n",
        "\n",
        "dist, n = neigh_ports.kneighbors(np.array([0.677565, 0.469731]).reshape(1,-1))\n",
        "\n",
        "print(dist[0] * 6370)\n",
        "print([idx_ports[n] for n in n[0]])"
      ],
      "execution_count": 8,
      "outputs": [
        {
          "output_type": "stream",
          "text": [
            "[  3.30931026  46.44757565 255.13837716]\n",
            "[82, 113, 44]\n"
          ],
          "name": "stdout"
        }
      ]
    },
    {
      "cell_type": "code",
      "metadata": {
        "id": "YC92dd_FI7MT"
      },
      "source": [
        "def nearest_port(df, radius=0.01):\n",
        "  \"\"\"\n",
        "  returns the port identifier of the nearest port using the nearest neighbors\n",
        "  model \n",
        "  \"\"\"\n",
        "\n",
        "  data = np.array([df['lat_rad'], df['long_rad']]).reshape(1, -1)\n",
        "  dist, pred = neigh_ports.radius_neighbors(data, radius=radius, sort_results = True) \n",
        "\n",
        "  if len(dist[0]) == 0:\n",
        "    return -1\n",
        "  \n",
        "  else:\n",
        "    return idx_ports[pred[0][0]]"
      ],
      "execution_count": 9,
      "outputs": []
    },
    {
      "cell_type": "code",
      "metadata": {
        "id": "t2cHgfSNZbx2"
      },
      "source": [
        "def nearest_distance(df, radius=0.0125):\n",
        "  \"\"\"\n",
        "  returns the distance of the nearest port in the dataset\n",
        "  \"\"\"\n",
        "  \n",
        "  data = np.array([df['lat_rad'], df['long_rad']]).reshape(1, -1)\n",
        "  dist, pred = neigh_ports.radius_neighbors(data, radius=radius, sort_results = True) \n",
        "\n",
        "  if len(dist[0]) == 0:\n",
        "    return -1\n",
        "  \n",
        "  else:\n",
        "    return dist[0][0]"
      ],
      "execution_count": 10,
      "outputs": []
    },
    {
      "cell_type": "code",
      "metadata": {
        "id": "KoYZuM6lqJIa"
      },
      "source": [
        "def vincenty_port(row):\n",
        "  \"\"\"\n",
        "  a function that computes the vincenty distance between the assigned port\n",
        "  and the latitude and longitude of the location data\n",
        "  \"\"\"\n",
        "  port = row['port_coords']\n",
        "  loc = row['lat_long']\n",
        "  return vincenty(port, loc)"
      ],
      "execution_count": 11,
      "outputs": []
    },
    {
      "cell_type": "code",
      "metadata": {
        "id": "CLCHF2I5CII2"
      },
      "source": [
        "def train_dbscan(df=df1, eps=0.1, min_samples=2):\n",
        "  \"\"\"\n",
        "  use the dbscan clustering algorithm to find groupss of ports\n",
        "\n",
        "  params\n",
        "  ------\n",
        "      df: pandas df\n",
        "      eps: min distance between points in cluster\n",
        "      min_samples: min members in a cluster\n",
        "\n",
        "  returns\n",
        "  -------\n",
        "      labels: labels matching index of long/lat input pairs\n",
        "  \"\"\"\n",
        "  \n",
        "  coords = df[['long_rad', 'lat_rad']].values\n",
        "  db = DBSCAN(eps=eps, min_samples=min_samples, algorithm='ball_tree', metric='haversine')\n",
        "\n",
        "  db.fit(coords)\n",
        "\n",
        "  return db.labels_"
      ],
      "execution_count": 12,
      "outputs": []
    },
    {
      "cell_type": "code",
      "metadata": {
        "id": "sU_Co92uMDoL"
      },
      "source": [
        "# creating a dictionary of labels\n",
        "df1['labels'] = train_dbscan()\n",
        "db_labels = {port:cluster for port, cluster in zip(df1['port'], df1['labels'])}"
      ],
      "execution_count": 13,
      "outputs": []
    },
    {
      "cell_type": "code",
      "metadata": {
        "id": "TxCo8-h_g9E8"
      },
      "source": [
        "def assign_ports(df):\n",
        "  \"\"\"\n",
        "  prepares a dataframe for port assignment by resampling  and filtering\n",
        "  it\n",
        "\n",
        "  params:\n",
        "  -----\n",
        "        df: pandas dataframe\n",
        "  \n",
        "  returns:\n",
        "  -------\n",
        "        df: processed pandas dataframe\n",
        "\n",
        "  \"\"\"\n",
        "\n",
        "  # resampling the data to standardize time intervals\n",
        "  df = df.resample('4H').mean().ffill()\n",
        "  df['lat_rad'] = df['lat_rad'].resample('4H').median().ffill()\n",
        "  df['long_rad'] = df['long_rad'].resample('4H').median().ffill()\n",
        "  \n",
        "  # applying a mask to limit the rows the predict function is applied to\n",
        "  mask = (df['speed'] <= 5)\n",
        "  df_temp = df[mask]\n",
        "\n",
        "  df['pred_port'] = 0\n",
        "  df.loc[mask, 'pred_port'] = df_temp.apply(nearest_port, axis=1)  \n",
        "  df['port_coords'] = [list(ports[k]) if k in ports else -99 for k in df['pred_port']]\n",
        "  df['lat_long'] = [[x,y] for x, y in zip(df['lat'], df['long'])]\n",
        "\n",
        "  # applying a mask to limit the rows vincenty func is applied to\n",
        "  vin_mask = (df['pred_port'] > 0)\n",
        "  vin_temp = df[vin_mask]\n",
        "  \n",
        "  df['port_dist'] = 0\n",
        "  df.loc[vin_mask, 'port_dist'] = vin_temp.apply(vincenty_port, axis=1)\n",
        "\n",
        "  # eliminating entries in sequences where max distance greatly differs from min\n",
        "  # indicates 'waiting to enter port'\n",
        "  df['seq'] = df['pred_port'].diff().ne(0).cumsum()\n",
        "  df['seq_count'] = df.groupby('seq')['seq'].transform('count')\n",
        "  df['dist_diff'] = df.groupby('seq')['port_dist'].transform(lambda x: x - x.min())\n",
        "  df['pred_port'] = np.where(df['dist_diff'] >= 15, 0, df['pred_port'])     # 15km away from closest point this trip to the port \n",
        "\n",
        "  # determining whether a block contains or is adjacent to a change in draft\n",
        "  df['draft_delta_back'] = df['draft'].transform(lambda x: abs(x.diff()).ge(0.5))\n",
        "  df['draft_delta_ahead'] = df['draft'].transform(lambda x: abs(x.diff(-1)).ge(0.5))\n",
        "  df['sum_draft_back'] = df.groupby('seq')['draft_delta_back'].transform('sum')\n",
        "  df['sum_draft_ahead'] = df.groupby('seq')['draft_delta_ahead'].transform('sum')\n",
        "  df['sum_draft'] = df['sum_draft_ahead'] + df['sum_draft_back']\n",
        "\n",
        "  condition = (df['seq_count'] <= 4) & (df['sum_draft'] <1)\n",
        "  df['pred_port'] = np.where(condition, 0, df['pred_port'])\n",
        "\n",
        "  # recasting vessel and pred_port columns as integers\n",
        "  df[['vessel', 'pred_port']] = df[['vessel', 'pred_port']].astype(int)\n",
        "\n",
        "\n",
        "  return df"
      ],
      "execution_count": 14,
      "outputs": []
    },
    {
      "cell_type": "code",
      "metadata": {
        "id": "BDnoQ4hnfhce"
      },
      "source": [
        "def get_voyages(df):\n",
        "  \"\"\"\n",
        "  converts the port sequences in each dataframe into voyages\n",
        "  with the proper formatting\n",
        "\n",
        "  param:\n",
        "  -----\n",
        "      df: pandas DataFrame\n",
        "  \n",
        "  returns:\n",
        "  -------\n",
        "      df: processed pandas DataFrame\n",
        "      \n",
        "  \"\"\"\n",
        "  # filtering out columns without an assigned port\n",
        "  nz = df[(df['pred_port'] > 0) | (df['pred_port'] == -75)].reset_index()\n",
        "\n",
        "  vessel = nz['vessel'][0]\n",
        "  dt = nz['datetime']\n",
        "  pred = nz['pred_port']\n",
        "\n",
        "  records = []\n",
        "\n",
        "  for i in range(len(dt)-1):\n",
        "    if pred[i] != pred[i+1]:\n",
        "      start_port = pred[i]\n",
        "      end_port = pred[i+1]\n",
        "      begin_date = dt[i]\n",
        "      end_date = dt[i+1]\n",
        "      records.append([vessel, begin_date, end_date, start_port, end_port])\n",
        "\n",
        "  df = pd.DataFrame.from_records(records, columns = ['vessel', 'begin_date', 'end_date', 'begin_port_id', 'end_port_id'])\n",
        "  \n",
        "  return df"
      ],
      "execution_count": 15,
      "outputs": []
    },
    {
      "cell_type": "code",
      "metadata": {
        "id": "TbHcYBVQcWst"
      },
      "source": [
        "# calculating the distance between each row using the vincenty function above.\n",
        "# note it only calcs within each vessel group (see function). the elapsed time\n",
        "# and the total distance travelled implies a speed and that speed allows for\n",
        "# effetcive filtering of impossible routes\n",
        "\n",
        "df2['vin_diff'] = df2.apply(vincent_distance, axis=1)\n",
        "df2['vin_per_hour'] = df2['vin_diff'] / df2['hour_delta']\n",
        "df2 = df2.query('vin_per_hour <= 50')"
      ],
      "execution_count": 16,
      "outputs": []
    },
    {
      "cell_type": "code",
      "metadata": {
        "id": "J9tCbNDQiRfQ"
      },
      "source": [
        "# creating a dictionary of vessel dataframes with a datetime index\n",
        "\n",
        "vessel_dfs = {}\n",
        "\n",
        "for vessel in df2.vessel.unique():\n",
        "  df_ = df2[df2['vessel'] == vessel]\n",
        "  vessel_dfs[vessel] = df_.set_index('datetime')\n",
        "\n",
        "# assigning ports to each dataframe\n",
        "processed_dfs = {key:assign_ports(vessel_dfs[key]) for key in vessel_dfs.keys()}"
      ],
      "execution_count": 17,
      "outputs": []
    },
    {
      "cell_type": "code",
      "metadata": {
        "id": "irWz30hWlesV"
      },
      "source": [
        "alldf = pd.concat(processed_dfs[key] for key in processed_dfs.keys())"
      ],
      "execution_count": 18,
      "outputs": []
    },
    {
      "cell_type": "code",
      "metadata": {
        "id": "0_TnV_EudLEQ"
      },
      "source": [
        "# creating a dictionary of dataframes for each port and then extracting the min,\n",
        "# max, and max_draft distances for assigned ports\n",
        "\n",
        "ports_dfs = {}\n",
        "\n",
        "for port in alldf.pred_port.unique():\n",
        "  ports_dfs[port] = alldf[alldf['pred_port'] == port]\n",
        "\n",
        "del ports_dfs[-1]\n",
        "del ports_dfs[0]\n",
        "\n",
        "min_max = {}\n",
        "\n",
        "for df in ports_dfs.keys():\n",
        "  draft_max = ports_dfs[df].query('sum_draft >=1').port_dist.max()\n",
        "  min_max[df] = [ports_dfs[df]['port_dist'].max(), ports_dfs[df]['port_dist'].min(), draft_max]"
      ],
      "execution_count": 19,
      "outputs": []
    },
    {
      "cell_type": "code",
      "metadata": {
        "id": "7SIs4v7TvD-a"
      },
      "source": [
        "voyages_df = pd.concat([get_voyages(processed_dfs[key]) for key in processed_dfs.keys()])\n",
        "voyages_df['begin_date'] = voyages_df['begin_date'].dt.date\n",
        "voyages_df['end_date'] = voyages_df['end_date'].dt.date\n",
        "# voyages_df['len_voyage'] = voyages_df['end_date'] - voyages_df['begin_date']\n",
        "# voyages_df['begin_coords'] = [ports[key] for key in voyages_df['begin_port_id']]\n",
        "# voyages_df['end_coords'] = [ports[key] for key in voyages_df['end_port_id']]\n",
        "# voyages_df['voyage_dist'] = [vincenty(x, y) for x, y in zip(voyages_df['begin_coords'], voyages_df['end_coords'])]"
      ],
      "execution_count": 64,
      "outputs": []
    },
    {
      "cell_type": "code",
      "metadata": {
        "id": "DUI1F3FtqaKT"
      },
      "source": [
        "voyages_df"
      ],
      "execution_count": null,
      "outputs": []
    },
    {
      "cell_type": "code",
      "metadata": {
        "id": "kF-vL7n3WKGb"
      },
      "source": [
        "def prepare_data(df, n_input = 3):\n",
        "  \"\"\"\n",
        "  preparing the sequences for window based models\n",
        "  \"\"\"\n",
        "\n",
        "  df = get_voyages(df)\n",
        "  vessel = df['vessel'].iloc[0]\n",
        "  ports_ = np.array(df['begin_port_id'].append(pd.Series(df['end_port_id'].iloc[-1])))  \n",
        "\n",
        "  X = []\n",
        "  Y = []\n",
        "  start = 0\n",
        "\n",
        "  for i in range(len(ports_)):\n",
        "    last_input = start + n_input\n",
        "    last_output = last_input + 3\n",
        "    if last_output <= len(ports_):\n",
        "      x = ports_[start:last_input]\n",
        "      y = ports_[last_input: last_output]\n",
        "      X.append(x)\n",
        "      Y.append(y)\n",
        "      start += 1\n",
        "  try:\n",
        "    df = pd.concat([pd.DataFrame(X),\n",
        "                  pd.DataFrame(Y, columns=['port_1ahead', 'port_2ahead', 'port_3ahead'])], axis=1)\n",
        "    \n",
        "  except:\n",
        "    df = pd.DataFrame()\n",
        "    \n",
        "  # X = []\n",
        "\n",
        "  # for x in X:\n",
        "  #   for n in x:\n",
        "  #     if n == -75:\n",
        "  #       port_coords = [33, 140]\n",
        "  #     else:\n",
        "  #       port_coords = list(ports[n])\n",
        "  #     port = [n]\n",
        "  #     port.extend(port_coords)\n",
        "  #     new_X.append(port)\n",
        "  \n",
        "  df['vessel'] = len(df) * [vessel]\n",
        "  \n",
        "  return df.astype(int)"
      ],
      "execution_count": 21,
      "outputs": []
    },
    {
      "cell_type": "code",
      "metadata": {
        "id": "MldbZ9EkYdqU"
      },
      "source": [
        "model_df = pd.concat([prepare_data(processed_dfs[key], 3) for key in processed_dfs.keys()])"
      ],
      "execution_count": 45,
      "outputs": []
    },
    {
      "cell_type": "code",
      "metadata": {
        "id": "AtTQNF2qY-RB"
      },
      "source": [
        "def build_model(target='port_1ahead', min_samples=5, n_back = 6):\n",
        "\n",
        "  model_df = pd.concat([prepare_data(processed_dfs[key], n_back) for key in processed_dfs.keys()]) \n",
        "\n",
        "  model_df['cluster_1back'] = [db_labels[n] for n in model_df[0]]\n",
        "  model_df['cluster_2back'] = [db_labels[n] for n in model_df[1]]\n",
        "  model_df['cluster_3back'] = [db_labels[n] for n in model_df[2]]\n",
        "\n",
        "  model_df['samples'] = model_df.groupby('vessel')['vessel'].transform(lambda x: x.count())\n",
        "  filtered_df = model_df.query('samples > @min_samples')\n",
        "\n",
        "  vessels_excluded = set(model_df['vessel'].unique()).difference(set(filtered_df['vessel'].unique()))\n",
        "\n",
        "  features = [n for n in range(n_back)] + ['cluster_1back', 'cluster_2back', 'cluster_3back'] \n",
        "  target = target\n",
        "\n",
        "  X = filtered_df[features]\n",
        "  y = filtered_df[target]\n",
        "  model = XGBClassifier()\n",
        "\n",
        "  param_grid = {\n",
        "      'learning_rate': [0.01, 0.02, 0.03]\n",
        "  }\n",
        "\n",
        "  grid_search = GridSearchCV(model, param_grid, cv=3)\n",
        "  grid_result = grid_search.fit(X, y)\n",
        "\n",
        "  print('The training excluded vessels:', vessels_excluded)\n",
        "  print('The best model params were:', grid_result.best_params_)\n",
        "  print('The best accuracy achieved was:', grid_result.best_score_)\n",
        "  \n",
        "  return grid_result"
      ],
      "execution_count": 119,
      "outputs": []
    },
    {
      "cell_type": "code",
      "metadata": {
        "colab": {
          "base_uri": "https://localhost:8080/"
        },
        "id": "jtEHbOIdTCDW",
        "outputId": "97da2177-c5fe-409b-ad3f-4b397e88b1f8"
      },
      "source": [
        "model_1ahead = build_model(target='port_1ahead', min_samples=5, n_back=3)\n",
        "model_2ahead = build_model(target='port_2ahead', min_samples=5, n_back=3)\n",
        "model_3ahead = build_model(target='port_3ahead', min_samples=5, n_back=3)"
      ],
      "execution_count": 120,
      "outputs": [
        {
          "output_type": "stream",
          "text": [
            "/usr/local/lib/python3.7/dist-packages/sklearn/model_selection/_split.py:667: UserWarning:\n",
            "\n",
            "The least populated class in y has only 1 members, which is less than n_splits=3.\n",
            "\n"
          ],
          "name": "stderr"
        },
        {
          "output_type": "stream",
          "text": [
            "The training excluded vessels: {64, 160, 165, 168, 43, 107, 51, 85, 22}\n",
            "The best model params were: {'learning_rate': 0.03}\n",
            "The best accuracy achieved was: 0.3395638629283489\n"
          ],
          "name": "stdout"
        },
        {
          "output_type": "stream",
          "text": [
            "/usr/local/lib/python3.7/dist-packages/sklearn/model_selection/_split.py:667: UserWarning:\n",
            "\n",
            "The least populated class in y has only 1 members, which is less than n_splits=3.\n",
            "\n"
          ],
          "name": "stderr"
        },
        {
          "output_type": "stream",
          "text": [
            "The training excluded vessels: {64, 160, 165, 168, 43, 107, 51, 85, 22}\n",
            "The best model params were: {'learning_rate': 0.02}\n",
            "The best accuracy achieved was: 0.3139494634821738\n"
          ],
          "name": "stdout"
        },
        {
          "output_type": "stream",
          "text": [
            "/usr/local/lib/python3.7/dist-packages/sklearn/model_selection/_split.py:667: UserWarning:\n",
            "\n",
            "The least populated class in y has only 1 members, which is less than n_splits=3.\n",
            "\n"
          ],
          "name": "stderr"
        },
        {
          "output_type": "stream",
          "text": [
            "The training excluded vessels: {64, 160, 165, 168, 43, 107, 51, 85, 22}\n",
            "The best model params were: {'learning_rate': 0.02}\n",
            "The best accuracy achieved was: 0.2654897888542748\n"
          ],
          "name": "stdout"
        }
      ]
    },
    {
      "cell_type": "code",
      "metadata": {
        "id": "0RO8RBNQqWb3"
      },
      "source": [
        "def find_next_port(df):\n",
        "  \"\"\"\n",
        "  find the next port visited for each row in the DataFrame, excluding the current \n",
        "  port. the value 0 is used to indicate that there is no next port in the data\n",
        "  \n",
        "  params\n",
        "  ------\n",
        "      df : pandas DataFrame\n",
        "\n",
        "  return\n",
        "  ------\n",
        "      df: pandas DataFrame \n",
        "  \n",
        "  \"\"\"\n",
        "\n",
        "  ports = df['pred_port']\n",
        "\n",
        "  next_port = []\n",
        "\n",
        "  for i in range(len(ports)):\n",
        "    p = ports[i]\n",
        "    for n in ports[i:]:\n",
        "      if (p != n) & (n >0) :\n",
        "        next_port.append(n)\n",
        "        break\n",
        "\n",
        "  # padding zeros at the end to indicate no next port \n",
        "  zeroes = [0] * (len(ports) - len(next_port))\n",
        "  next_ports = next_port + zeroes\n",
        "  \n",
        "  df['next_port'] = next_ports\n",
        "\n",
        "  return df"
      ],
      "execution_count": 25,
      "outputs": []
    },
    {
      "cell_type": "code",
      "metadata": {
        "id": "sP1YTJ8kwObP"
      },
      "source": [
        "for_another_model = [find_next_port(v) for k, v in processed_dfs.items()]"
      ],
      "execution_count": 26,
      "outputs": []
    },
    {
      "cell_type": "code",
      "metadata": {
        "id": "u05T1sJz0MaK"
      },
      "source": [
        "# creating another model to predict the next port using more features. \n",
        "\n",
        "df3 = pd.concat(for_another_model)\n",
        "df3 = df3.sample(frac=0.1)\n",
        "\n",
        "features = ['vessel', 'lat', 'long', 'heading', 'draft', 'pred_port', 'seq_count']\n",
        "target = 'next_port'\n",
        "threshold = '2019-10-01'\n",
        "mask = df3.index < threshold\n",
        "\n",
        "X_train = df3[mask][features]\n",
        "y_train = df3[mask][target]\n",
        "\n",
        "X_test = df3[~mask][features]\n",
        "y_test = df3[~mask][target]\n",
        "\n",
        "eval_set = [(X_test, y_test)]\n",
        "model = XGBClassifier()\n",
        "\n",
        "model.fit(X_train, y_train, eval_set=eval_set)\n",
        "\n",
        "print('The model accuracy is:', model.score(X_test, y_test))"
      ],
      "execution_count": null,
      "outputs": []
    },
    {
      "cell_type": "code",
      "metadata": {
        "id": "QNRQE-8t6_RW"
      },
      "source": [
        "[(x,y) for x,y in zip(X_train.columns, model.feature_importances_)]"
      ],
      "execution_count": null,
      "outputs": []
    },
    {
      "cell_type": "code",
      "metadata": {
        "id": "J5ERpuNpF_WT"
      },
      "source": [
        "def get_pred_data(df, n_input = 3):\n",
        "  \"\"\"\n",
        "  preparing the sequences for window based models\n",
        "  \"\"\"\n",
        "\n",
        "  df = get_voyages(df)\n",
        "  vessel = df['vessel'].iloc[0]\n",
        "  ports_ = np.array(df['begin_port_id'].append(pd.Series(df['end_port_id'].iloc[-1])))  \n",
        "\n",
        "  return ports_[-n_input:]"
      ],
      "execution_count": 79,
      "outputs": []
    },
    {
      "cell_type": "code",
      "metadata": {
        "id": "7NlGujqAv2FW"
      },
      "source": [
        "window_data = {key:get_pred_data(processed_dfs[key], n_input=3) for key in processed_dfs.keys()}"
      ],
      "execution_count": 98,
      "outputs": []
    },
    {
      "cell_type": "code",
      "metadata": {
        "id": "ZJkGCyNIwvvS"
      },
      "source": [
        "pred_df = pd.DataFrame.from_dict(window_data, orient='index')\n",
        "pred_df.rename(columns={'index':'vessel'}, inplace=True)\n",
        "\n",
        "pred_df['cluster_1back'] = [db_labels[n] for n in pred_df[0]]\n",
        "pred_df['cluster_2back'] = [db_labels[n] for n in pred_df[1]]\n",
        "pred_df['cluster_3back'] = [db_labels[n] for n in pred_df[2]]"
      ],
      "execution_count": 122,
      "outputs": []
    },
    {
      "cell_type": "code",
      "metadata": {
        "id": "6i6_80Y91LAe"
      },
      "source": [
        "voyages_1 = model_1ahead.predict(pred_df)\n",
        "voyages_2 = model_2ahead.predict(pred_df)\n",
        "voyages_3 = model_3ahead.predict(pred_df)\n",
        "pred_df['voyage_1'] = voyages_1\n",
        "pred_df['voyage_2'] = voyages_2\n",
        "pred_df['voyage_3'] = voyages_3"
      ],
      "execution_count": 124,
      "outputs": []
    },
    {
      "cell_type": "code",
      "metadata": {
        "id": "gvMJ_jPK4pRl"
      },
      "source": [
        "pred_df[['voyage_1', 'voyage_2', 'voyage_3']].melt()"
      ],
      "execution_count": null,
      "outputs": []
    },
    {
      "cell_type": "code",
      "metadata": {
        "id": "Q8iLXU30wAop"
      },
      "source": [
        "print(processed_dfs[3].to_string())"
      ],
      "execution_count": null,
      "outputs": []
    },
    {
      "cell_type": "code",
      "metadata": {
        "colab": {
          "base_uri": "https://localhost:8080/",
          "height": 542
        },
        "id": "hd_OvZ0lenDm",
        "outputId": "f372419a-64ca-436c-9689-d57eec9128ea"
      },
      "source": [
        "fig = px.scatter_geo(alldf[alldf['vessel'] == 138], lat='lat', lon='long', size='port_dist',\n",
        "                     hover_name='pred_port')\n",
        "\n",
        "fig.show()"
      ],
      "execution_count": 30,
      "outputs": [
        {
          "output_type": "display_data",
          "data": {
            "text/html": [
              "<html>\n",
              "<head><meta charset=\"utf-8\" /></head>\n",
              "<body>\n",
              "    <div>\n",
              "            <script src=\"https://cdnjs.cloudflare.com/ajax/libs/mathjax/2.7.5/MathJax.js?config=TeX-AMS-MML_SVG\"></script><script type=\"text/javascript\">if (window.MathJax) {MathJax.Hub.Config({SVG: {font: \"STIX-Web\"}});}</script>\n",
              "                <script type=\"text/javascript\">window.PlotlyConfig = {MathJaxConfig: 'local'};</script>\n",
              "        <script src=\"https://cdn.plot.ly/plotly-latest.min.js\"></script>    \n",
              "            <div id=\"a7c4538d-e851-457d-b142-a707ab540f41\" class=\"plotly-graph-div\" style=\"height:525px; width:100%;\"></div>\n",
              "            <script type=\"text/javascript\">\n",
              "                \n",
              "                    window.PLOTLYENV=window.PLOTLYENV || {};\n",
              "                    \n",
              "                if (document.getElementById(\"a7c4538d-e851-457d-b142-a707ab540f41\")) {\n",
              "                    Plotly.newPlot(\n",
              "                        'a7c4538d-e851-457d-b142-a707ab540f41',\n",
              "                        [{\"geo\": \"geo\", \"hoverlabel\": {\"namelength\": 0}, \"hovertemplate\": \"<b>%{hovertext}</b><br><br>port_dist=%{marker.size}<br>lat=%{lat}<br>long=%{lon}\", \"hovertext\": [0.0, 0.0, 0.0, 0.0, 0.0, 0.0, 0.0, 0.0, 0.0, 0.0, 0.0, 0.0, 0.0, 0.0, 0.0, 0.0, 0.0, 151.0, 151.0, 151.0, 151.0, 151.0, 151.0, 0.0, 0.0, 0.0, 0.0, 0.0, 0.0, 0.0, 0.0, 0.0, 0.0, 0.0, 0.0, 0.0, 0.0, 0.0, 0.0, 0.0, 0.0, 0.0, 0.0, 0.0, 0.0, 0.0, 0.0, 0.0, 0.0, 0.0, 0.0, 0.0, 0.0, 0.0, 0.0, 0.0, 0.0, 0.0, 0.0, 0.0, 0.0, 0.0, 0.0, 0.0, 0.0, 0.0, 0.0, 0.0, 0.0, 0.0, 0.0, 0.0, 0.0, 0.0, 0.0, 0.0, 0.0, 0.0, 0.0, 0.0, 0.0, 0.0, 0.0, 0.0, 0.0, 0.0, 0.0, 0.0, 0.0, 0.0, 0.0, 0.0, 0.0, 0.0, 0.0, 0.0, 0.0, 0.0, 0.0, 0.0, 0.0, 0.0, 0.0, 0.0, 0.0, 0.0, 0.0, 0.0, 0.0, 0.0, 0.0, 0.0, 0.0, 0.0, 0.0, 0.0, 0.0, 0.0, 0.0, 0.0, 0.0, 0.0, 0.0, 0.0, 0.0, 59.0, 59.0, 59.0, 59.0, 59.0, 59.0, 59.0, 59.0, 59.0, 59.0, 59.0, 59.0, 0.0, -1.0, -1.0, -1.0, -1.0, -1.0, -1.0, -1.0, -1.0, -1.0, -1.0, -1.0, -1.0, -1.0, -1.0, -1.0, 0.0, 0.0, 0.0, 0.0, 0.0, 0.0, 0.0, 0.0, 0.0, 0.0, 0.0, 0.0, 0.0, 0.0, 0.0, 0.0, 0.0, 0.0, 23.0, 23.0, 23.0, 23.0, 23.0, 23.0, 23.0, 0.0, 0.0, 0.0, 0.0, 0.0, 0.0, 0.0, 0.0, 0.0, 0.0, 0.0, 0.0, 0.0, 0.0, 0.0, 0.0, 0.0, 0.0, 0.0, 0.0, 0.0, 0.0, 0.0, 0.0, 0.0, 0.0, -1.0, -1.0, -1.0, -1.0, -1.0, -1.0, -1.0, -1.0, -1.0, -1.0, -1.0, -1.0, -1.0, -1.0, -1.0, -1.0, -1.0, -1.0, -1.0, -1.0, -1.0, -1.0, -1.0, -1.0, -1.0, -1.0, -1.0, -1.0, -1.0, -1.0, -1.0, -1.0, -1.0, -1.0, -1.0, -1.0, -1.0, -1.0, -1.0, -1.0, -1.0, -1.0, -1.0, -1.0, -1.0, -1.0, -1.0, -1.0, -1.0, -1.0, -1.0, -1.0, -1.0, -1.0, 0.0, -1.0, -1.0, -1.0, -1.0, -1.0, -1.0, -1.0, -1.0, -1.0, -1.0, -1.0, -1.0, -1.0, -1.0, -1.0, -1.0, -1.0, -1.0, -1.0, -1.0, -1.0, -1.0, -1.0, -1.0, -1.0, -1.0, -1.0, -1.0, -1.0, -1.0, -1.0, -1.0, -1.0, -1.0, -1.0, -1.0, -1.0, -1.0, -1.0, -1.0, -1.0, -1.0, -1.0, -1.0, -1.0, -1.0, -1.0, -1.0, -1.0, -1.0, -1.0, -1.0, -1.0, 0.0, 0.0, 0.0, 0.0, 0.0, 0.0, 0.0, 0.0, 0.0, 0.0, 0.0, 0.0, 0.0, 0.0, 0.0, 0.0, 0.0, 0.0, 0.0, 0.0, 0.0, 0.0, 0.0, 0.0, 0.0, 0.0, 0.0, 0.0, 0.0, 0.0, 0.0, 0.0, 0.0, 0.0, 0.0, 0.0, 0.0, 0.0, 0.0, 0.0, 0.0, 0.0, 0.0, 0.0, 0.0, 0.0, 0.0, 0.0, 0.0, 0.0, 0.0, 0.0, 0.0, 0.0, 0.0, 0.0, 0.0, 0.0, 0.0, 0.0, 0.0, 0.0, 0.0, 0.0, 0.0, 0.0, 0.0, 0.0, 0.0, 0.0, 0.0, 0.0, 0.0, 0.0, 0.0, 0.0, 0.0, 0.0, 0.0, 0.0, 0.0, 0.0, 0.0, 0.0, 0.0, 0.0, 0.0, 0.0, 0.0, 0.0, 0.0, 0.0, 0.0, 0.0, 0.0, 0.0, 0.0, 0.0, 0.0, 0.0, 0.0, 0.0, 0.0, 0.0, 0.0, 0.0, 0.0, 0.0, 0.0, 0.0, 0.0, 0.0, 0.0, 0.0, 0.0, 0.0, 0.0, 0.0, 0.0, 0.0, 0.0, 0.0, 0.0, 0.0, 0.0, 0.0, 0.0, 0.0, 0.0, 0.0, 0.0, 0.0, 0.0, 0.0, 0.0, 0.0, 0.0, 0.0, 0.0, 0.0, 0.0, 0.0, 0.0, 0.0, 0.0, 0.0, 0.0, 0.0, 0.0, 0.0, 0.0, 0.0, 0.0, 0.0, 0.0, 0.0, 0.0, 0.0, 0.0, 0.0, 0.0, 0.0, 0.0, 0.0, 0.0, 0.0, 0.0, 0.0, 0.0, 0.0, 0.0, 0.0, 0.0, 0.0, 0.0, 0.0, 0.0, 0.0, 0.0, 0.0, 0.0, 0.0, 0.0, 0.0, 0.0, 0.0, 0.0, 0.0, 0.0, 0.0, 0.0, 0.0, 0.0, 0.0, 0.0, 0.0, 0.0, 0.0, 0.0, 0.0, 0.0, 0.0, 0.0, 0.0, 0.0, 0.0, 0.0, 0.0, 0.0, 0.0, 0.0, 0.0, 0.0, 0.0, 0.0, 0.0, 0.0, 0.0, 0.0, 0.0, 0.0, 0.0, 0.0, 0.0, 0.0, 0.0, 0.0, 0.0, 0.0, 0.0, 0.0, 0.0, 0.0, 0.0, 0.0, 0.0, 0.0, 0.0, 0.0, 0.0, 0.0, 0.0, 0.0, 0.0, 0.0, 0.0, 0.0, 0.0, 0.0, 0.0, 0.0, 0.0, 0.0, 0.0, 0.0, 0.0, 0.0, 0.0, 0.0, 0.0, 0.0, 0.0, 0.0, 0.0, 0.0, 0.0, 0.0, 0.0, 0.0, 0.0, 0.0, 0.0, 0.0, 0.0, 0.0, 0.0, 0.0, 0.0, 0.0, 0.0, 0.0, 0.0, 0.0, 0.0, 0.0, 0.0, 0.0, 0.0, 0.0, 0.0, 0.0, 0.0, 0.0, 0.0, 0.0, 0.0, 0.0, 0.0, 0.0, 0.0, 0.0, 0.0, 0.0, 0.0, 0.0, 0.0, 0.0, 0.0, 0.0, 0.0, 0.0, 0.0, 0.0, 0.0, 0.0, 0.0, 151.0, 151.0, 151.0, 151.0, 151.0, 151.0, 151.0, 0.0, 0.0, 0.0, 0.0, 0.0, 0.0, 0.0, 0.0, 0.0, 0.0, 0.0, 0.0, 0.0, 0.0, 0.0, 0.0, 0.0, 0.0, 0.0, 0.0, 0.0, 0.0, 0.0, 0.0, 0.0, 0.0, 0.0, 0.0, 0.0, 0.0, 0.0, 0.0, 0.0, 0.0, 0.0, 0.0, 0.0, 0.0, 0.0, 0.0, 0.0, 0.0, 0.0, 0.0, 0.0, 0.0, 0.0, 0.0, 0.0, 0.0, 0.0, 0.0, 0.0, 0.0, 0.0, 0.0, 0.0, 0.0, 0.0, 0.0, 0.0, 0.0, 0.0, 0.0, 0.0, 0.0, 0.0, 0.0, 0.0, 0.0, 0.0, 0.0, 0.0, 0.0, 0.0, 0.0, 0.0, 0.0, 0.0, 0.0, 0.0, 0.0, 0.0, 0.0, 0.0, 0.0, 0.0, 0.0, 0.0, 0.0, 0.0, 0.0, 0.0, 0.0, 0.0, 0.0, 0.0, 0.0, 0.0, 0.0, 0.0, 0.0, 0.0, 0.0, 0.0, 0.0, 0.0, 0.0, 0.0, 0.0, 0.0, 0.0, 0.0, 0.0, 0.0, 0.0, 0.0, 0.0, 0.0, 0.0, 0.0, 0.0, 0.0, 0.0, 0.0, 0.0, 0.0, -1.0, -1.0, -1.0, -1.0, -1.0, -1.0, -1.0, -1.0, -1.0, -1.0, -1.0, -1.0, -1.0, -1.0, -1.0, -1.0, -1.0, -1.0, -1.0, -1.0, -1.0, -1.0, -1.0, -1.0, -1.0, -1.0, -1.0, -1.0, -1.0, -1.0, -1.0, -1.0, -1.0, -1.0, -1.0, -1.0, -1.0, -1.0, -1.0, -1.0, -1.0, -1.0, -1.0, -1.0, -1.0, -1.0, -1.0, -1.0, -1.0, -1.0, -1.0, -1.0, -1.0, -1.0, -1.0, -1.0, -1.0, -1.0, -1.0, -1.0, -1.0, -1.0, -1.0, -1.0, -1.0, 0.0, -1.0, -1.0, -1.0, -1.0, -1.0, -1.0, -1.0, -1.0, -1.0, -1.0, -1.0, -1.0, -1.0, -1.0, -1.0, -1.0, -1.0, -1.0, -1.0, -1.0, -1.0, -1.0, -1.0, -1.0, -1.0, -1.0, -1.0, -1.0, -1.0, -1.0, -1.0, -1.0, -1.0, -1.0, -1.0, -1.0, -1.0, -1.0, -1.0, -1.0, -1.0, -1.0, -1.0, -1.0, -1.0, -1.0, -1.0, 0.0, 0.0, 0.0, 0.0, 0.0, 59.0, 59.0, 59.0, 59.0, 59.0, 59.0, 59.0, 59.0, 0.0, 0.0, 0.0, 0.0, 0.0, 0.0, 0.0, 0.0, 0.0, 0.0, 0.0, 0.0, 0.0, 0.0, 0.0, 0.0, 0.0, 0.0, 0.0, 0.0, 0.0, 0.0, 0.0, 0.0, 0.0, 0.0, 0.0, 0.0, 0.0, 0.0, 0.0, 0.0, 0.0, 0.0, 0.0, 0.0, 0.0, 0.0, 0.0, 0.0, 0.0, 0.0, 0.0, 0.0, 0.0, 0.0, 0.0, 0.0, 0.0, 0.0, 0.0, 0.0, 0.0, 0.0, 0.0, 0.0, 0.0, 0.0, 0.0, 0.0, 0.0, 0.0, 0.0, 0.0, 0.0, 0.0, 0.0, 0.0, 0.0, 0.0, 0.0, 0.0, 0.0, 0.0, 0.0, 0.0, 0.0, 0.0, 0.0, 0.0, 0.0, 0.0, 151.0, 151.0, 151.0, 151.0, 151.0, 151.0, 151.0, 0.0, 0.0, 0.0, 0.0, 0.0, 0.0, 0.0, 0.0, 0.0, 0.0, 0.0, 0.0, 0.0, 0.0, 0.0, 0.0, 0.0, 0.0, 0.0, 0.0, 0.0, 0.0, 0.0, 0.0, 0.0, 0.0, 0.0, 0.0, 0.0, 0.0, 0.0, 0.0, 0.0, 0.0, 0.0, 0.0, 0.0, 0.0, 0.0, 0.0, 0.0, 0.0, 0.0, 0.0, 0.0, 0.0, 0.0, 0.0, 0.0, 0.0, 0.0, 0.0, 0.0, 0.0, 0.0, 0.0, 0.0, 0.0, 0.0, 0.0, 0.0, 0.0, 0.0, 0.0, 0.0, 0.0, 0.0, 0.0, 0.0, 0.0, 0.0, 0.0, 0.0, 0.0, 0.0, 0.0, 0.0, 0.0, 0.0, 0.0, 0.0, 0.0, 0.0, 0.0, 0.0, 0.0, 0.0, 0.0, 0.0, 0.0, 0.0, 0.0, 0.0, 0.0, 0.0, 0.0, 0.0, 0.0, 0.0, 0.0, 0.0, 0.0, 0.0, 0.0, 0.0, 0.0, 0.0, 0.0, 0.0, 0.0, 0.0, 0.0, 0.0, 0.0, 0.0, 0.0, 0.0, 0.0, 0.0, 0.0, 0.0, 0.0, 0.0, 0.0, 0.0, 0.0, 0.0, 0.0, 0.0, 0.0, 0.0, 0.0, 0.0, 0.0, 0.0, 0.0, 0.0, 0.0, 0.0, 0.0, 0.0, 0.0, 0.0, 0.0, 0.0, 0.0, 0.0, 0.0, 0.0, 0.0, 0.0, 0.0, 0.0, 0.0, 0.0, 0.0, 0.0, 0.0, 0.0, 0.0, 0.0, 0.0, 0.0, 0.0, 0.0, 0.0, 0.0, 0.0, 0.0, 0.0, 0.0, 0.0, 0.0, 0.0, 0.0, 0.0, 0.0, 0.0, 0.0, 151.0, 151.0, 151.0, 151.0, 151.0, 151.0, 0.0, 0.0, 0.0, 0.0, 0.0, 0.0, 0.0, 0.0, 0.0, 0.0, 0.0, 0.0, 0.0, 0.0, 0.0, 0.0, 0.0, 0.0, 0.0, 0.0, 0.0, 0.0, 0.0, 0.0, 0.0, 0.0, 0.0, 0.0, 0.0, 0.0, 0.0, 0.0, 0.0, 0.0, 0.0, 0.0, 0.0, 0.0, 0.0, 0.0, 0.0, 0.0, 0.0, 0.0, 0.0, 0.0, 0.0, 0.0, 0.0, 0.0, 0.0, 0.0, 0.0, 0.0, 0.0, 0.0, 0.0, 0.0, 0.0, 0.0, 0.0, 0.0, 0.0, 0.0, 0.0, 0.0, 0.0, 0.0, 0.0, 0.0, 0.0, 0.0, 0.0, 0.0, 0.0, 0.0, 0.0, 0.0, 0.0, 0.0, 0.0, 0.0, 0.0, 0.0, 0.0, 0.0, 0.0, 0.0, 0.0, 0.0, 59.0, 59.0, 59.0, 59.0, 59.0, 59.0, 59.0, 59.0, 0.0, 0.0, 0.0, 0.0, 0.0, 0.0, 0.0, 0.0, 0.0, 0.0, 0.0, 0.0, 0.0, 0.0, 0.0, 0.0, 0.0, 0.0, 0.0, 0.0, 0.0, 0.0, 0.0, 0.0, 0.0, 0.0, 0.0, 0.0, 0.0, 0.0, 0.0, 0.0, 0.0, 0.0, 0.0, 0.0, 0.0, 0.0, 0.0, 0.0, 0.0, 0.0, 0.0, 0.0, 0.0, 0.0, 0.0, 0.0, 0.0, 0.0, 0.0, 0.0, 0.0, 0.0, 0.0, 0.0, 0.0, 0.0, 0.0, 0.0, 0.0, 0.0, 0.0, 0.0, 0.0, 0.0, 0.0, 0.0, 0.0, 0.0, 0.0, 0.0, 0.0, 0.0, 0.0, 0.0, 0.0, 0.0, 0.0, 0.0, 0.0, 0.0, 0.0, 0.0, 0.0, 0.0, 0.0, 0.0, 0.0, 0.0, 0.0, 0.0, 0.0, 0.0, 0.0, 0.0, 0.0, 0.0, 0.0, 0.0, 0.0, 0.0, 0.0, 0.0, 0.0, 0.0, 151.0, 151.0, 151.0, 151.0, 151.0, 151.0, 0.0, 0.0, 0.0, 0.0, 0.0, 0.0, 0.0, 0.0, 0.0, 0.0, 0.0, 0.0, 0.0, 0.0, 0.0, 0.0, 0.0, 0.0, 0.0, 0.0, 0.0, 0.0, 0.0, 0.0, 0.0, 0.0, 0.0, 0.0, 0.0, 0.0, 0.0, 0.0, 0.0, 0.0, 0.0, 0.0, 0.0, 0.0, 0.0, 54.0, 54.0, 54.0, 54.0, 54.0, 54.0, 54.0, 54.0, 54.0, 54.0, 54.0, 54.0, 54.0, 54.0, 54.0, 54.0, 54.0, 54.0, 54.0, 54.0, 54.0, 54.0, 54.0, 54.0, 54.0, 54.0, 54.0, 54.0, 54.0, 54.0, 54.0, 54.0, 54.0, 54.0, 54.0, 54.0, 54.0, 54.0, 54.0, 54.0, 54.0, 54.0, 54.0, 54.0, 54.0, 54.0, 54.0, 54.0, 54.0, 54.0, 54.0, 54.0, 54.0, 54.0, 54.0, 54.0, 0.0, 0.0, 115.0, 115.0, 115.0, 115.0, 115.0, 115.0, 115.0, 115.0, 115.0, 115.0, 115.0, 0.0, 0.0, 0.0, 0.0, 0.0, 0.0, 0.0, 0.0, 0.0, 0.0, 0.0, 0.0, 0.0, 0.0, 0.0, 0.0, 0.0, 0.0, 0.0, 0.0, 0.0, 0.0, 0.0, 0.0, 0.0, 0.0, -1.0, -1.0, -1.0, -1.0, -1.0, -1.0, -1.0, -1.0, -1.0, -1.0, -1.0, -1.0, -1.0, 0.0, 0.0, 0.0, 0.0, 0.0, 0.0, 0.0, 0.0, 0.0, 0.0, 0.0, 0.0, 0.0, 0.0, 0.0, 0.0, 0.0, 100.0, 100.0, 100.0, 100.0, 100.0, 100.0, 100.0, 100.0, 100.0, 0.0, 0.0, 0.0, 0.0, 0.0, 0.0, 0.0, 0.0, 0.0, 0.0, 0.0, 0.0, 0.0, 0.0, 0.0, 0.0, 0.0, 0.0, 0.0, 0.0, 0.0, 0.0, 0.0, 0.0, 0.0, 0.0, 0.0, 0.0, 0.0, 0.0, 0.0, 0.0, 0.0, 0.0, 0.0, 0.0, 0.0, 0.0, 0.0, 0.0, 0.0, 0.0, 0.0, 0.0, 0.0, 0.0, 0.0, 0.0, 0.0, 0.0, 0.0, 0.0, 0.0, 0.0, 0.0, 123.0, 123.0, 123.0, 123.0, 123.0, 123.0, 123.0, 0.0, 0.0, 0.0, 0.0, 0.0, 0.0, 0.0, 0.0, 0.0, 0.0, 0.0, 0.0, 0.0, 0.0, 0.0, 0.0, 0.0, 0.0, 0.0, 0.0, 0.0, 0.0, 0.0, 0.0, 0.0, 0.0, 0.0, 0.0, 0.0, 0.0, 0.0, 0.0, 0.0, 0.0, 0.0, 0.0, 0.0, 0.0, 0.0, 0.0, 0.0, 0.0, 0.0, 0.0, 0.0, 0.0, 0.0, 0.0, 0.0, 0.0, 0.0, 0.0, 0.0, 0.0, 0.0, 0.0, 0.0, 0.0, 0.0, 0.0, 0.0, 0.0, 0.0, 0.0, 0.0, 0.0, 0.0, 0.0, 0.0, 0.0, 0.0, 0.0, 0.0, 0.0, 0.0, 0.0, 0.0, 0.0, 0.0, 0.0, 0.0, 0.0, 0.0, 0.0, 0.0, 0.0, 0.0, 0.0, 0.0, 0.0, 0.0, 0.0, 0.0, 0.0, 0.0, 0.0, 0.0, 0.0, 0.0, 0.0, 0.0, 0.0, 0.0, 0.0, 0.0, 0.0, 0.0, 0.0, 0.0, 0.0, 0.0, 0.0, 0.0, 0.0, 0.0, 0.0, 0.0, 0.0, 0.0, 0.0, 0.0, 0.0, 0.0, 0.0, 0.0, 0.0, 0.0, 0.0, 0.0, 0.0, 0.0, 0.0, 59.0, 59.0, 59.0, 59.0, 59.0, 59.0, 59.0, 0.0, 0.0, 0.0, 0.0, 0.0, 0.0, 0.0, 0.0, 0.0, 0.0, 0.0, 0.0, 0.0, 0.0, 0.0, 0.0, 0.0, 0.0, 0.0, 0.0, 0.0, 0.0, 0.0, 0.0, 0.0, 0.0, 0.0, 0.0, 0.0, 0.0, 0.0, 0.0, 0.0, 0.0, 0.0, 0.0, 0.0, 0.0, 0.0, 0.0, 0.0, 0.0, 0.0, 0.0, 0.0, 0.0, 0.0, 0.0, 0.0, 0.0, 0.0, 0.0, 0.0, 0.0, 0.0, 0.0, 0.0, 0.0, 0.0, 0.0, 0.0, 0.0, 0.0, 0.0, 0.0, 0.0, 0.0, 0.0, 0.0, 0.0, 0.0, 0.0, 0.0, 0.0, 0.0, 0.0, 0.0, 0.0, 0.0, 0.0, 0.0, 0.0, 151.0, 151.0, 151.0, 151.0, 151.0, 151.0, 151.0, 151.0, 151.0, 151.0, 151.0, 151.0, 151.0, 0.0, 0.0, 0.0, 0.0, 0.0, 0.0, 0.0, 0.0, 0.0, 0.0, 0.0, 0.0, 0.0, 0.0, 0.0, 0.0, 0.0, 0.0, 0.0, 0.0, 0.0, 0.0, 0.0, 0.0, 0.0, 0.0, 0.0, 0.0, 0.0, 0.0, 0.0, 0.0, 0.0, 0.0, 0.0, 0.0, 0.0, 0.0, 0.0, 0.0, 0.0, 0.0, 0.0, 0.0, 0.0, 0.0, 0.0, 0.0, 0.0, 0.0, 0.0, 0.0, 0.0, 0.0, 0.0, 0.0, 0.0, 0.0, 0.0, 0.0, 0.0, 0.0, 0.0, 0.0, 0.0, 0.0, 0.0, 0.0, 0.0, 0.0, 0.0, 0.0, 0.0, 0.0, 0.0, 0.0, 0.0, 0.0, 0.0, 0.0, 0.0, 0.0, 0.0, 0.0, 0.0, 0.0, 0.0, 0.0, 0.0, 59.0, 59.0, 59.0, 59.0, 59.0, 59.0, 59.0, 0.0, 0.0, 0.0, 0.0, 0.0, 0.0, 0.0, 0.0, 0.0, 0.0, 0.0, 0.0, 0.0, 0.0, 0.0, 0.0, 0.0, 0.0, 0.0, 0.0, 0.0, 0.0, 0.0, 0.0, 0.0, 0.0, 0.0, 0.0, 0.0, 0.0, 0.0, 0.0, 0.0, 0.0, 0.0, 0.0, 0.0, 0.0, 0.0, 0.0, 0.0, 0.0, 0.0, 0.0, 0.0, 0.0, 0.0, 0.0, 0.0, 0.0, 0.0, 0.0, 0.0, 0.0, 0.0, 0.0, 0.0, 0.0, 0.0, 0.0, 0.0, 0.0, 0.0, 0.0, 0.0, 0.0, 0.0, 0.0, 0.0, 0.0, 0.0, 0.0, 0.0, 0.0, 0.0, 0.0, 0.0, 0.0, 0.0, 0.0, 0.0, 0.0, 0.0, 0.0, 0.0, 0.0, 0.0, 0.0, 0.0, 151.0, 151.0, 151.0, 151.0, 151.0, 151.0, 0.0, 0.0, 0.0, 0.0, 0.0, 0.0, 0.0, 0.0, 0.0, 0.0, 0.0, 0.0, 0.0, 0.0, 0.0, 0.0, 0.0, 0.0, 0.0, 0.0, 0.0, 0.0, 0.0, 0.0, 0.0, 0.0, 0.0, 0.0, 0.0, 0.0, 0.0, 0.0, 0.0, 0.0, 0.0, 0.0, 0.0, 0.0, 0.0, 0.0, 0.0, 0.0, 0.0, 115.0, 115.0, 115.0, 115.0, 115.0, 0.0, 0.0, 0.0, 0.0, 0.0, 0.0, 0.0, 0.0, 0.0, 0.0, 0.0, 0.0, 0.0, 0.0, 0.0, 0.0, 0.0, 0.0, 0.0, 0.0, 0.0, 0.0, 0.0, 0.0, 0.0, 0.0, 0.0, 0.0, 0.0, 0.0, 0.0, 0.0, 0.0, 0.0, 0.0, 0.0, 0.0, 0.0, 0.0, 0.0, 0.0, 0.0, 0.0, 0.0, 0.0, 0.0, 0.0, 0.0, 0.0, 0.0, 0.0, 0.0, 0.0, 0.0, 0.0], \"lat\": [24.07275, 24.866100000000003, 25.121, 25.121, 25.121, 25.121, 25.121, 27.9763, 27.9763, 27.9763, 30.2805, 30.6452, 31.1615, 31.6689, 31.5376, 32.76095, 33.4775, 33.93475, 33.93475, 33.93475, 33.93475, 33.93475, 33.93475, 33.8228, 32.5352, 31.8776, 31.2864, 30.6696, 30.6696, 30.6696, 30.6696, 30.6696, 27.1239, 25.9104, 25.9104, 25.9104, 25.9104, 25.9104, 22.6181, 22.6181, 22.6181, 22.6181, 22.6181, 19.4106, 19.4106, 19.4106, 19.4106, 19.4106, 19.4106, 19.4106, 19.4106, 19.4106, 19.4106, 19.4106, 19.4106, 19.4106, 19.4106, 19.4106, 19.4106, 19.4106, 19.4106, 19.4106, 19.4106, 19.4106, 19.4106, 19.4106, 19.4106, 19.4106, 19.4106, 2.62975, 1.5767, 1.2732, 1.30085, 1.8281, 2.3324, 2.9667000000000003, 3.3378, 3.3378, 4.6349, 4.6349, 4.6349, 4.6349, 4.6349, 4.6349, 4.6349, 4.6349, 4.6349, 5.5369, 5.5255, 5.4957, 5.5041, 5.5065, 5.5154, 5.5154, 5.52465, 5.52465, 5.52465, 5.5148, 5.77995, 6.3328, 6.3328, 7.0604, 7.7444, 7.9686, 8.9709, 8.9709, 8.9709, 11.1828, 11.1828, 12.3568, 13.3146, 13.3146, 14.5889, 15.0437, 15.81885, 16.5819, 16.8041, 16.8041, 18.6126, 19.4229, 19.4229, 19.4229, 21.7245, 21.7245, 22.6635, 22.7299, 22.7299, 22.7299, 22.7299, 22.7299, 22.7299, 22.7299, 22.7299, 22.7299, 22.7299, 22.7299, 22.7299, 25.4205, 25.6408, 25.6479, 25.6479, 25.6479, 25.6481, 25.6443, 25.6446, 25.6446, 25.6442, 25.6459, 25.64595, 25.64595, 25.64595, 25.6484, 25.6484, 25.17385, 24.9084, 24.9084, 24.2602, 24.2602, 24.2602, 24.2602, 22.744, 22.744, 22.744, 22.744, 22.744, 22.744, 22.744, 22.744, 22.744, 22.744, 21.1573, 21.6459, 21.6702, 21.6702, 21.6703, 21.6702, 21.6702, 21.6678, 21.1916, 20.6132, 20.40925, 20.40925, 20.6271, 20.6271, 21.1541, 21.1541, 21.1541, 21.1541, 21.1541, 21.1541, 22.4293, 22.4293, 22.4293, 23.1808, 23.1808, 23.8224, 23.8224, 23.8224, 23.8224, 23.8224, 23.8224, 23.8224, 23.8224, 23.8224, 25.2667, 25.2669, 25.267, 25.2674, 25.2679, 25.2696, 25.2707, 25.2685, 25.2682, 25.2693, 25.2693, 25.2688, 25.26885, 25.2675, 25.2673, 25.26755, 25.2687, 25.2699, 25.27145, 25.2684, 25.2671, 25.267249999999997, 25.2674, 25.2671, 25.26785, 25.26785, 25.2684, 25.270400000000002, 25.2712, 25.2714, 25.2713, 25.2711, 25.2711, 25.27115, 25.2711, 25.2713, 25.271250000000002, 25.271250000000002, 25.2696, 25.2704, 25.2704, 25.2705, 25.2706, 25.2711, 25.2709, 25.2714, 25.2715, 25.2725, 25.272550000000003, 25.2713, 25.2705, 25.2708, 25.2713, 25.2707, 25.288899999999998, 25.3884, 25.3858, 25.38545, 25.38545, 25.3888, 25.385550000000002, 25.3868, 25.3876, 25.389650000000003, 25.3897, 25.3895, 25.3106, 25.2704, 25.2711, 25.270650000000003, 25.270650000000003, 25.271050000000002, 25.2716, 25.2708, 25.2704, 25.26865, 25.2685, 25.2708, 25.26995, 25.2699, 25.2699, 25.2701, 25.2688, 25.2696, 25.267699999999998, 25.267, 25.2696, 25.2693, 25.2683, 25.2673, 25.270850000000003, 25.2682, 25.2682, 25.26945, 25.2692, 25.27, 25.26795, 25.2663, 25.2663, 25.2679, 25.267, 25.267, 25.2666, 25.2662, 25.2662, 25.2688, 25.2667, 25.2667, 25.094099999999997, 25.094099999999997, 25.094099999999997, 25.094099999999997, 25.094099999999997, 23.4533, 23.4533, 23.4533, 23.4533, 23.4533, 23.4533, 23.4533, 23.4533, 23.4533, 22.035, 21.1875, 20.5292, 20.5292, 19.0183, 19.0183, 19.0183, 17.34505, 16.5257, 15.941849999999999, 15.0826, 15.0826, 15.0826, 13.0588, 12.6435, 12.6435, 11.1556, 10.2034, 9.6467, 8.590900000000001, 7.5193, 7.5193, 6.7841, 6.2036, 5.8017, 5.5951, 5.5951, 5.50965, 5.50965, 5.5298, 5.5298, 5.5354, 5.5212, 5.5323, 5.5323, 5.5181, 5.524699999999999, 5.524, 5.524, 5.524, 5.9586, 5.9586, 5.9586, 5.9586, 5.9586, 5.9586, 5.9586, 5.9586, 2.6235, 2.00875, 1.4847, 1.1171, 1.3556, 2.0649, 2.3091, 2.3091, 2.3091, 2.3091, 2.3091, 2.3091, 2.3091, 2.3091, 2.3091, 2.3091, 2.3091, 2.3091, 2.3091, 2.3091, 2.3091, 2.3091, 2.3091, 2.3091, 2.3091, 2.3091, 2.3091, 2.3091, 2.3091, 2.3091, 2.3091, 2.3091, 2.3091, 2.3091, 2.3091, 2.3091, 2.3091, 2.3091, 23.8552, 24.5626, 24.8835, 24.8835, 24.8835, 24.8835, 24.8835, 24.8835, 24.8835, 24.8835, 24.8835, 24.8835, 30.828000000000003, 31.209049999999998, 31.209049999999998, 31.2658, 31.96765, 32.8469, 33.2464, 33.86865, 33.86865, 33.86865, 33.86865, 33.86865, 33.86865, 33.5273, 32.9484, 32.0486, 30.6582, 29.8847, 29.0971, 29.0971, 29.0971, 26.0768, 26.0768, 26.0768, 26.0768, 26.0768, 26.0768, 26.0768, 26.0768, 26.0768, 26.0768, 26.0768, 26.0768, 26.0768, 26.0768, 26.0768, 26.0768, 26.0768, 26.0768, 26.0768, 26.0768, 26.0768, 26.0768, 26.0768, 26.0768, 26.0768, 26.0768, 26.0768, 1.8685, 1.8685, 1.8685, 1.6094, 2.0866, 2.6812, 3.0713, 3.7728, 3.7728, 3.7728, 5.3795, 5.3795, 6.0246, 6.3028, 6.2434, 5.9899, 5.6267, 5.5041, 5.5041, 5.5264, 5.5264, 5.5226, 5.5409, 5.5249, 5.5249, 5.5282, 5.5273, 5.5194, 5.525, 5.5335, 5.5335, 5.9135, 5.9135, 6.57515, 6.942, 6.942, 8.5006, 8.9516, 8.9516, 8.9516, 11.0929, 11.7872, 12.282899999999998, 12.282899999999998, 12.282899999999998, 14.0516, 14.94435, 14.94435, 14.94435, 16.8104, 16.8104, 18.71, 18.71, 21.30087167, 21.30087167, 22.0201675, 22.1161, 22.2637, 22.519849999999998, 22.95847833, 22.95847833, 22.95847833, 22.95847833, 22.95847833, 22.95847833, 22.95847833, 22.95847833, 22.68012667, 21.846910835000003, 20.841143334999998, 20.096474999999998, 19.22531833, 18.86973667, 18.11492333, 17.230445, 16.44521333, 15.859155, 14.988370000000002, 14.149220000000001, 13.547595, 12.45209589, 11.807177999999999, 11.29464333, 10.178451222333335, 9.121731667, 8.639191667, 7.4253191665, 6.6788285, 6.348645, 5.9583262223333335, 5.5932868335000006, 5.5376531665, 5.521839333333333, 5.516255555666667, 5.527793444333333, 5.530118166499999, 5.5112241665, 5.4985235, 5.512729333500001, 5.5206591665, 5.5206591665, 5.513028332999999, 5.690004999999999, 5.690004999999999, 5.690004999999999, 5.690004999999999, 5.690004999999999, 5.690004999999999, 4.449059999999999, 4.449059999999999, 2.9780683333333333, 2.2875416669999997, 1.9016825556666668, 1.3094083333333333, 1.183561667, 1.425291, 2.0463750165, 2.895198333, 2.895198333, 2.895198333, 2.895198333, 2.895198333, 2.895198333, 2.895198333, 2.895198333, 2.895198333, 2.895198333, 2.895198333, 2.895198333, 13.51207833, 13.51207833, 13.51207833, 13.51207833, 13.51207833, 13.51207833, 18.44973333, 18.44973333, 19.44167833, 19.44167833, 21.44907167, 21.44907167, 22.99073333, 23.64705, 24.688067333333333, 24.688067333333333, 26.223331665, 26.8161, 27.531805, 28.372953335, 29.05997343333333, 29.8684967, 30.5380667, 31.159569150000003, 32.21222667, 33.13556835, 33.69250666666667, 33.947866835, 33.947866835, 33.947866835, 33.947866835, 33.947866835, 33.947866835, 33.947866835, 33.546948300000004, 32.61227789, 31.773809, 31.094431099999998, 30.447756889999997, 29.99647833, 28.975461, 28.257621, 27.657715000000003, 27.250937, 26.5701465, 25.74962223333333, 25.155406499999998, 24.652599999999996, 24.06439, 24.06439, 24.06439, 24.06439, 24.06439, 20.746505, 20.746505, 20.746505, 20.746505, 20.746505, 20.746505, 20.746505, 20.746505, 20.746505, 20.746505, 20.746505, 20.746505, 20.746505, 20.746505, 20.746505, 20.746505, 20.746505, 20.746505, 20.746505, 20.746505, 20.746505, 20.746505, 20.746505, 20.746505, 20.746505, 20.746505, 6.5188116670000005, 6.5188116670000005, 6.5188116670000005, 4.917500833, 4.1318056665, 3.698891667, 2.501892, 1.8718967, 1.3362174999999998, 1.18895, 1.49678, 2.0113684556666667, 2.4444875, 2.7908505000000003, 3.623565, 3.623565, 4.8114058335, 5.469168333, 5.610245, 5.942238, 6.189418166499999, 6.31306, 6.081145, 5.7919865, 5.533365, 5.5236058335, 5.538191667, 5.535983333, 5.45021, 5.425334166499999, 5.470283332999999, 5.50456, 5.521431667, 5.530815222333334, 5.5351608335, 5.529611667, 5.538988166499999, 5.529114333500001, 5.5326008335, 5.550478999999999, 5.5308891665, 5.5277173335, 5.5341448335, 5.529104, 5.792318333500001, 6.097067, 6.422467666499999, 6.688565555333333, 7.008842444333333, 7.5783381665, 8.1614075, 8.848601222333334, 9.737399889, 10.383892335, 11.0538225, 11.510058, 12.122034443333334, 12.53875167, 13.403936835, 14.41063333, 14.85213167, 15.58430583, 15.58430583, 15.58430583, 15.58430583, 18.49496, 18.49496, 19.7257265, 19.7257265, 20.986404999999998, 21.645325, 21.968721223333336, 22.365198165000002, 22.549899835, 22.960185835, 23.31540833, 23.53423189, 23.89206, 24.205060165, 24.489476766666666, 24.91753915, 25.271536665, 25.658352335, 25.665572333333333, 25.667885165, 25.6663125, 25.6663125, 25.668545, 25.668825, 25.669022000000002, 25.669010649999997, 25.666541, 25.666541, 25.667088, 25.668438000000002, 25.667904999999998, 25.66713, 25.66463833, 25.66463833, 25.66463833, 25.66463833, 25.66762833, 25.668101999999998, 25.668101999999998, 25.668101999999998, 25.668101999999998, 25.668101999999998, 25.66669, 25.66669, 25.668453, 25.668453, 25.664033, 25.66572167, 25.667185, 25.667614, 25.666757, 25.6641465, 25.664106, 25.665459333333335, 25.667963, 25.665897, 25.664927499999997, 25.664310999999998, 25.664277, 25.665104, 25.665732333333334, 25.664229999999996, 25.664696000000003, 25.66688, 25.668253, 25.669044, 25.669021, 25.666382499999997, 25.664680333333333, 25.666141500000002, 25.6675755, 25.668873333333334, 25.669130666666664, 25.669054333333335, 25.664414999999998, 25.666175, 25.6673695, 25.668333, 25.669227333333335, 25.669036, 25.665287000000003, 25.66459, 25.281842, 25.265233000000002, 25.26641, 25.266410999999998, 25.266384, 25.266213, 25.266155, 25.263953333333333, 25.26619033333333, 25.2663865, 25.26631833333333, 25.2661485, 25.265922, 25.265777999999997, 25.26622575, 25.266266, 25.265778333333333, 25.264605, 25.265151, 25.264257333333333, 25.264431666666667, 25.266396, 25.265379666666664, 25.2635565, 25.2630015, 25.264221666666668, 25.26523733333333, 25.265759, 25.265512666666666, 25.264049, 25.2658405, 25.265757000000004, 25.26596566666667, 25.2659565, 25.265870666666668, 25.2649145, 25.2651855, 25.265493333333335, 25.266093333333334, 25.266033999999998, 25.265939666666668, 25.265986499999997, 25.2651375, 25.265788333333333, 25.265975666666666, 25.266109, 25.265878333333333, 25.2618905, 25.098588, 24.502012000000004, 23.877505000000003, 23.706085, 22.977815999999997, 22.665192, 22.665192, 22.665235, 22.665235, 22.665208, 22.665208, 22.665198, 22.665198, 22.720840000000003, 22.30132233333333, 21.375017333333332, 20.8256805, 19.8636075, 18.77395, 18.094487, 16.859407, 16.292237, 15.361573, 14.344675, 13.82526, 13.155072, 12.197736333333333, 11.585835000000001, 10.494922, 9.2840265, 8.069907, 7.500858, 6.7437305, 6.427445, 6.427445, 5.563235, 5.54146, 5.552183, 5.525346, 5.534217, 5.5188525, 5.527082500000001, 5.527082500000001, 5.5303830000000005, 5.5209155, 5.5209155, 5.996532, 6.283593, 6.283593, 6.283593, 4.8754925, 4.180955, 3.012425, 2.3727545, 1.838327, 1.3608770000000001, 1.191744, 1.789969, 1.789969, 3.8146775, 3.8146775, 3.8146775, 3.8146775, 3.8146775, 8.149560000000001, 8.149560000000001, 8.149560000000001, 8.149560000000001, 8.149560000000001, 8.149560000000001, 8.149560000000001, 8.149560000000001, 8.149560000000001, 8.149560000000001, 8.149560000000001, 8.149560000000001, 8.149560000000001, 8.149560000000001, 8.149560000000001, 8.149560000000001, 22.743432000000002, 23.399168, 24.284044, 24.284044, 25.7116805, 26.469724499999998, 27.277561249999998, 28.376948666666667, 29.114707, 29.939569999999996, 30.624172499999997, 31.09088266666667, 32.06442666666666, 33.00142, 33.4633785, 33.947878, 33.947878, 33.947878, 33.947878, 33.947878, 33.947878, 33.947878, 33.592738, 32.592028666666664, 31.497361666666666, 30.481823, 29.665824999999998, 28.5123265, 27.7022775, 26.9354965, 25.907480999999997, 24.83398, 24.340927999999998, 24.340927999999998, 24.340927999999998, 21.791275, 21.791275, 21.791275, 21.791275, 21.791275, 21.791275, 16.961405, 16.961405, 16.961405, 16.961405, 16.961405, 16.961405, 16.961405, 16.961405, 16.961405, 16.961405, 16.961405, 16.961405, 5.674918, 5.317245, 5.317245, 3.0848665000000004, 1.580857, 1.2828465, 1.2289183333333333, 1.5367856666666668, 2.1331315, 2.6518453333333336, 3.4724475, 4.347647, 5.2503735, 5.554623, 5.9893279999999995, 6.220937, 6.103433, 5.52084, 5.5224795, 5.521075, 5.54563, 5.5397870000000005, 5.514226000000001, 5.521020999999999, 5.53097, 5.538349, 5.544593, 5.53247, 5.5284724999999995, 5.5284724999999995, 6.038275, 6.743135499999999, 6.743135499999999, 7.961988000000001, 9.097652, 9.097652, 10.867953, 11.692872, 12.561802, 13.306545000000002, 14.249122, 14.998103, 15.737738, 16.28171425, 17.15579, 17.7926075, 18.541766, 19.54155, 20.247360999999998, 20.9158005, 21.756051499999998, 22.440077, 22.832570999999998, 22.832570999999998, 22.832570999999998, 22.832570999999998, 22.832570999999998, 22.832570999999998, 22.66527, 22.944392999999998, 22.8796955, 22.7774035, 22.6969745, 22.6253275, 22.488217333333335, 21.935195, 20.937793, 20.001482666666664, 18.830883, 18.188873, 16.988020999999996, 15.807592333333334, 14.9404515, 14.235931333333333, 13.088347, 11.975182499999999, 10.993125, 9.6162405, 8.799518500000001, 7.924151666666666, 6.973109000000001, 6.4401075, 6.0201775, 5.586343, 5.531072, 5.531055, 5.5301575, 5.526011, 5.5151785, 5.523327666666667, 5.523788, 5.527908, 5.535833, 5.5163965, 5.522905000000001, 5.6353475, 5.6353475, 6.207990000000001, 5.92601, 5.416537, 4.793615, 4.069527, 3.403932, 2.6865550000000002, 2.15369875, 1.8666919999999998, 1.1720979999999999, 1.3332863333333334, 2.1886293333333335, 3.264195, 4.303713, 4.303713, 4.303713, 4.303713, 4.303713, 4.303713, 4.303713, 4.303713, 4.303713, 4.303713, 4.303713, 4.303713, 14.291868, 14.291868, 14.291868, 14.291868, 14.291868, 14.291868, 14.291868, 14.291868, 14.291868, 14.291868, 23.357295, 23.982365666666666, 24.689503, 25.17812, 25.17812, 25.17812, 27.079627666666667, 27.451034999999997, 28.90472, 29.363671999999998, 29.363671999999998, 30.6279, 31.2248665, 32.239388, 32.977117, 33.60556, 33.947988, 33.947988, 33.947988, 33.947988, 33.947988, 33.947988, 33.881365, 33.494304, 32.70440833333333, 31.422276666666665, 30.512419, 29.29525425, 28.01525, 27.469434999999997, 26.581843333333335, 25.44645, 24.451349, 24.451349, 22.774943999999998, 21.916967, 20.598527999999998, 20.598527999999998, 20.598527999999998, 18.223968, 18.223968, 18.223968, 18.223968, 18.223968, 18.223968, 14.006355, 14.006355, 14.006355, 14.006355, 14.006355, 14.006355, 14.006355, 14.006355, 14.006355, 14.006355, 5.270553, 4.182132, 3.8763, 2.268391, 1.3299935, 1.234098, 1.4376325, 2.0115665, 2.5566983333333333, 3.186203, 3.9527349999999997, 4.5081093333333335, 5.037340500000001, 5.6039575, 5.988835, 6.314763, 6.285188, 5.717169999999999, 5.525236, 5.522812, 5.525335, 5.525235, 5.534496333333333, 5.527492500000001, 5.528012, 5.521893, 5.520931666666667, 5.534559, 5.529882, 5.541726333333333, 5.55169125, 5.826975, 6.139121666666667, 6.6425125000000005, 7.386952000000001, 8.012933333333335, 9.15527575, 10.2918425, 10.787245, 12.059615666666666, 12.706048, 13.542407999999998, 14.560268749999999, 15.431612, 15.950421500000001, 16.91411, 17.930768500000003, 18.714283, 19.706787, 20.27582, 20.77408266666667, 21.763679999999997, 22.072946, 22.3284625, 22.516727, 22.702747, 22.872899500000003, 22.698222, 22.665662, 22.665219, 22.665219, 22.665219, 22.665219, 22.665219, 22.665219, 22.723547333333332, 22.064486, 21.205264, 20.861917000000002, 19.742856, 19.150285, 18.187107, 17.266598666666667, 16.3520085, 15.687672000000001, 14.794207999999998, 13.8001875, 13.045850999999999, 12.426728666666667, 11.366164999999999, 10.345017333333333, 8.899747, 8.044113, 7.387211000000001, 6.811394999999999, 6.2743965, 5.8419653333333335, 5.524523333333334, 5.538855, 5.528227333333334, 5.5363535, 5.514818, 5.517669, 5.528598666666667, 5.529287, 5.522626, 5.522626, 5.617675, 6.1207199999999995, 6.15171, 5.883997, 5.48049, 4.881809333333333, 4.0976245, 3.395687, 2.441849, 1.785336, 1.2609243333333333, 1.3817863333333333, 2.195163, 2.195163, 4.099868, 4.099868, 4.099868, 6.690035000000001, 6.690035000000001, 6.690035000000001, 6.690035000000001, 6.690035000000001, 11.760245, 11.760245, 11.760245, 14.795325, 14.795325, 14.795325, 17.542665, 17.542665, 17.542665, 19.463340000000002, 20.1904, 20.1904, 21.575726500000002, 22.58874, 23.138154999999998, 23.723345000000002, 24.576667, 25.539583, 26.403536000000003, 27.055362, 27.296397, 26.990211, 26.990211, 26.972315000000002, 27.217708, 27.012849666666668, 26.631592333333334, 26.979834999999998, 27.2275445, 27.257641999999997, 26.341374000000002, 26.298901666666666, 26.60953, 26.281141999999996, 26.380255, 26.395184999999998, 25.99505, 26.5739625, 26.5739625, 26.331737, 26.615130999999998, 26.98329, 27.50239566666666, 28.282406, 29.448361499999997, 30.0430255, 30.5372865, 30.746201499999998, 31.226495, 32.12185366666667, 33.068311666666666, 33.58745, 33.947718, 33.947878, 33.947868, 33.947868, 33.947868, 33.947868, 33.785218, 33.2859325, 32.33271466666667, 31.207967500000002, 29.968454, 29.0995875, 28.291093500000002, 27.563549000000002, 26.351035, 25.399239999999995, 24.76014, 23.6435465, 23.026993, 23.026993, 23.026993, 23.026993, 23.026993, 18.485345000000002, 18.485345000000002, 18.485345000000002, 18.485345000000002, 18.485345000000002, 18.485345000000002, 18.485345000000002, 18.485345000000002, 18.485345000000002, 18.485345000000002, 18.485345000000002, 18.485345000000002, 18.485345000000002, 18.485345000000002, 18.485345000000002, 18.485345000000002, 18.485345000000002, 18.485345000000002, 3.617657, 2.423673, 1.3906315, 1.307016, 1.760681, 1.755682, 1.7557080000000003, 1.7559185, 1.755772, 1.7557255, 1.75591, 1.7559369999999999, 1.755798, 1.7554974999999997, 1.755257, 1.7554715, 1.7558574999999998, 1.7555779999999999, 1.7556779999999998, 1.754024, 1.7560069999999999, 1.755983, 1.7555626666666668, 1.755728, 1.7549860000000002, 1.752144, 1.755312, 1.755872, 1.7560205, 1.755997, 1.755898, 1.7560330000000002, 1.7560330000000002, 1.7560330000000002, 1.7560330000000002, 1.75605, 1.755985, 1.7559575, 1.755925, 1.7555455000000002, 1.7557150000000001, 1.7558770000000001, 1.755727, 1.7557825, 1.7555169999999998, 1.7553075000000002, 1.7560080000000002, 1.756077, 1.75584, 1.7554725, 1.755827, 1.755512, 1.755615, 1.7559580000000001, 1.7558529999999999, 1.7554455, 1.7555150000000002, 1.755772, 1.7553609999999997, 1.75588, 1.734347, 1.2384650000000001, 1.1984525, 1.222736, 1.2213366666666667, 1.221825, 1.220114, 1.2221885000000001, 1.2226865, 1.2220473333333333, 1.2214360000000002, 1.2212800000000001, 1.2209916666666667, 1.1630125, 1.466241, 1.324514, 0.7881649999999999, 0.25133649999999996, -0.333139, -0.9954100000000001, -1.4693135, -2.1668865000000004, -2.4570706666666666, -3.009436, -3.7206200000000003, -3.7206200000000003, -4.646299, -5.0617944999999995, -5.461100999999999, -6.1112996666666675, -6.5449019999999996, -7.2591925, -8.17638, -8.17638, -9.801052, -10.0291475, -10.277922, -10.6284885, -10.949266999999999, -11.02936025, -11.00053825, -10.9689415, -10.950546, -10.921237, -10.921237, -10.8450965, -10.806725, -10.792542666666668, -10.771763666666667, -10.762952, -10.762952, -10.737752, -10.771275000000001, -10.993929999999999, -11.175863499999998, -11.175863499999998, -11.175863499999998, -11.930534333333332, -12.056568333333336, -12.1250585, -12.113105, -12.09131, -12.09131, -12.023425333333334, -12.014201, -12.039332333333334, -12.164875, -12.154842, -12.154842, -12.508645666666666, -12.508619000000001, -12.5086475, -12.508632333333333, -12.508642, -12.508642, -12.508646666666666, -12.508639, -12.50864, -12.410505666666666, -12.082145, -12.082145, -10.878814, -9.937857, -9.0139915, -8.172004, -7.0735925, -6.116665333333334, -5.5537659999999995, -4.640446, -3.763279333333333, -3.052987, -2.6553009999999997, -2.137644, -1.190388, -0.26860225, 0.6488849999999999, 1.2027549999999998, 2.147663666666667, 3.225505, 3.7865055, 4.9610695, 6.16493, 6.737385000000001, 7.7067605, 8.9197725, 9.868029333333332, 11.021737, 11.677765, 12.662685, 13.897293, 14.501115999999998, 15.455529333333333, 16.72344, 17.376086, 18.208484, 19.478063333333335, 20.495264499999998, 21.50376333333333, 22.2532105, 23.5067065, 24.3649965, 25.370073666666666, 26.665575, 27.706069, 29.084373, 29.682084999999997, 30.15053, 31.664610999999997, 32.3824535, 33.482019333333334, 34.35318066666667, 34.51733899999999, 34.452307999999995, 34.497809000000004, 34.4978035, 34.497779333333334, 34.497783999999996, 34.4977885, 34.49779433333333, 34.4978025, 34.398050999999995, 34.521556000000004, 33.88137366666667, 33.132101500000005, 32.513755, 31.46470166666667, 30.73445, 30.369311333333332, 29.47594, 29.020885333333336, 28.4662905, 28.073025, 27.226182, 26.68661566666667, 26.68661566666667, 24.8613885, 24.31619, 23.7200475, 22.915465, 22.67085, 21.862825, 21.04164, 20.693, 20.50817066666667, 20.415498, 20.370548499999998, 20.370548499999998, 20.302310000000002, 20.228188, 20.179412, 20.179412, 19.827938, 19.489352, 18.992174, 18.018285000000002, 18.018285000000002, 18.018285000000002, 18.018285000000002, 18.018285000000002, 18.018285000000002, 18.018285000000002, 18.018285000000002, 18.018285000000002, 18.018285000000002, 18.018285000000002, 18.018285000000002, 18.018285000000002, 18.018285000000002, 18.018285000000002, 18.018285000000002, 18.018285000000002, 18.018285000000002, 18.018285000000002, 18.018285000000002, 18.018285000000002, 18.018285000000002, 3.080223, 2.377887, 1.5640635, 1.2103545, 1.370476, 1.8514493333333333, 2.507273, 3.0227575, 3.6758833333333336, 4.586797, 4.586797, 4.586797, 4.586797, 6.039267, 6.299473, 6.052348, 5.7263785, 5.509225, 5.509745, 5.5226, 5.518028, 5.535073499999999, 5.522615999999999, 5.514126999999999, 5.524072666666666, 5.52937, 5.532268499999999, 5.532268499999999, 5.527262, 5.525592, 5.558268333333333, 5.902393, 6.3027555, 6.6875496666666665, 7.212563, 7.8660049999999995, 8.7480035, 9.523425, 10.203393, 11.38426, 12.091152000000001, 12.726384, 13.448232, 14.384804999999998, 14.887388, 15.653994333333335, 16.079797, 16.822342000000003, 17.474367333333333, 18.221291, 18.714508, 19.44307, 20.1733205, 20.84369, 21.175243, 22.109497500000003, 22.701285000000002, 22.701285000000002, 22.042737, 22.492048, 22.476054, 21.719620000000003, 22.134013500000002, 22.533534, 22.904413, 22.596846, 22.171201666666665, 22.463594999999998, 22.7389, 23.0276265, 22.633786999999998, 22.59091325, 23.1600915, 23.487549666666666, 23.2831385, 22.829687, 22.665272, 22.665272, 22.665272, 22.665272, 22.665272, 22.665272, 22.665226999999998, 22.6861465, 21.9869535, 20.9291025, 20.4190545, 19.618996, 18.73050333333333, 17.850734, 17.189816, 16.285913, 15.697772, 14.971393, 13.972392999999999, 13.11261, 12.6214675, 11.870214, 11.200495, 9.9790425, 8.9992035, 7.7400775, 6.983551, 6.523147000000001, 6.062328, 5.577648, 5.5219175, 5.54179, 5.514773000000001, 5.523419, 5.527415, 5.5218766666666665, 5.523025, 5.525817666666666, 5.521805, 5.520353, 5.57946, 6.285325, 6.1839319999999995, 5.852475, 5.3651505, 4.637343, 4.637343, 2.75014, 2.405728, 1.7319686666666667, 1.1753316666666667, 1.3865835, 1.978589, 1.978589, 1.978589, 1.978589, 1.978589, 1.978589, 1.978589, 1.978589, 1.978589, 1.978589, 1.978589, 1.978589, 1.978589, 1.978589, 1.978589, 1.978589, 1.978589, 1.978589, 18.300867, 18.766858, 19.228745, 20.653582, 20.653582, 22.08975, 22.644068500000003, 24.0137455, 24.8795, 25.241588, 26.493314666666667, 27.57693875, 28.524084999999996, 29.23268, 30.1446875, 30.805030666666667, 31.705493999999998, 32.88606633333333, 33.42788166666667, 33.928577000000004, 33.928577000000004, 33.947908, 33.947887, 33.947895, 33.947895, 33.947895, 33.947885, 33.947885, 33.947885, 33.94787, 33.94787, 33.94787, 32.393365, 31.683057, 30.51595825, 29.619796000000004, 28.52307233333333, 27.813209999999998, 26.930224999999997, 25.8185, 25.465645000000002, 25.465645000000002, 25.465645000000002, 23.190222, 23.190222, 23.190222, 23.190222, 23.190222, 23.190222, 23.190222, 23.190222, 23.190222, 23.190222, 14.594787, 14.594787, 14.594787, 14.594787, 11.37229, 11.37229, 10.19259, 10.19259, 10.19259, 10.19259, 10.19259, 10.19259, 10.19259, 10.19259, 10.19259, 10.19259, 10.19259, 4.885673000000001, 4.885673000000001, 3.291568, 2.191005, 1.3334336666666669, 1.2116635, 1.4630219999999998, 2.1721305, 2.820969, 3.563148333333333, 3.563148333333333, 5.170015, 5.170015, 6.018957, 6.294232, 5.950018, 5.5494650000000005, 5.53758, 5.53758, 5.5326640000000005, 5.527798000000001, 5.524963, 5.52816, 5.532699333333333, 5.5112175, 5.4863290000000005, 5.607783, 5.790817499999999, 6.418760499999999, 6.879688000000001, 7.41748, 8.3382755, 9.549077, 10.4644365, 11.471917, 11.90195, 12.709610000000001, 13.416235499999999, 14.243497, 14.546489999999999, 15.5289605, 16.033635, 16.7781165, 17.651695, 18.412865, 18.95942, 19.439228, 20.887467, 20.887467, 21.998231500000003, 22.8222525, 22.665217000000002, 22.665217000000002, 22.665217000000002, 22.665217000000002, 22.665217000000002, 22.665217000000002, 22.665217000000002, 22.729035, 22.123188, 21.672897, 20.407970499999998, 19.748757499999996, 18.729529499999998, 17.689337, 16.899111, 16.899111, 15.466839666666667, 14.67327, 13.896038, 13.23276, 12.29755, 11.68195, 10.562799000000002, 9.277135000000001, 8.60286, 7.5959505, 6.777855499999999, 6.580985, 6.0124873333333335, 5.583070666666667, 5.522017, 5.525855, 5.539471000000001, 5.539871, 5.54137, 5.527058, 5.5262150000000005, 5.520688, 5.51225, 5.5127500000000005, 5.668973, 5.7595279999999995, 6.2889870000000005, 6.2889870000000005, 5.899432, 5.5747919999999995, 4.719654333333334, 4.006828, 4.006828, 2.4625493333333335, 1.8578685, 1.2670983333333334, 1.4328103333333333, 1.9184, 3.1428795000000003, 3.1428795000000003, 4.7028669999999995, 4.7028669999999995, 4.7028669999999995, 7.1335619999999995, 7.1335619999999995, 7.1335619999999995, 9.68022, 9.68022, 9.68022, 9.68022, 13.420952999999999, 13.420952999999999, 13.420952999999999, 13.420952999999999, 13.420952999999999, 13.420952999999999, 13.420952999999999, 13.420952999999999, 19.602420000000002, 19.602420000000002, 19.602420000000002, 19.602420000000002, 22.647655, 23.380468999999998, 24.023344, 24.84713825, 25.506265, 25.787705, 25.787705, 25.787705, 27.920612, 29.060026999999998, 29.179588, 30.175611500000002, 30.619918, 31.143998333333332, 31.880115, 32.191446, 33.0509825, 33.481944999999996, 33.947849, 33.94787, 33.94787, 33.947874, 33.94787, 33.947855, 33.65455, 32.887426000000005, 31.724439, 30.648821, 29.776027499999998, 28.658632500000003, 27.72786, 27.134546, 26.279058499999998, 25.598285333333333, 25.598285333333333, 25.598285333333333, 25.598285333333333, 22.13502, 21.047373, 21.047373, 21.047373, 21.047373, 21.047373, 18.580293, 18.580293, 18.580293, 17.048652, 17.048652, 17.048652, 17.048652, 17.048652, 17.048652, 17.048652, 17.048652, 17.048652, 17.048652, 17.048652, 17.048652, 17.048652, 17.048652, 17.048652, 17.048652, 3.6773269999999996, 2.746923, 1.811237, 1.370219, 1.176202, 1.2178683333333336, 1.217974, 1.2175053333333332, 1.2186313333333334, 1.2175125, 1.291523, 1.9289073333333333, 2.571141, 3.1151773333333335, 3.8076540000000003, 3.8076540000000003, 3.8076540000000003, 3.8076540000000003, 3.8076540000000003, 6.2309825, 5.984542, 5.714673, 5.5262115000000005, 5.518972, 5.504980000000001, 5.5231255, 5.509606000000001, 5.523757, 5.52302, 5.528865666666667, 5.525459, 5.530234, 5.517885666666667, 5.51492, 5.538152999999999, 5.707297500000001, 6.115315, 6.247495, 6.727730000000001, 7.069186999999999, 7.9325735, 8.466465, 8.997802499999999, 9.291667, 10.5160275, 11.601144999999999, 12.206626, 12.820945, 13.393042999999999, 14.084293500000001, 15.070739999999999, 15.827507, 16.528687499999997, 16.528687499999997, 17.775551999999998, 17.775551999999998, 18.990246499999998, 19.85801, 20.597830000000002, 20.417278, 20.637145000000004, 21.16287, 22.237492333333332, 22.8506, 22.77478], \"legendgroup\": \"\", \"lon\": [123.306, 123.62813333333334, 123.8498, 123.8498, 123.8498, 123.8498, 123.8498, 127.3448, 127.3448, 127.3448, 129.7342, 130.3797, 131.37845, 131.9297, 131.871, 132.20780000000002, 132.0074, 132.14065, 132.14065, 132.14065, 132.14065, 132.14065, 132.14065, 132.1556, 132.1911, 132.0783, 131.885, 131.7067, 131.7067, 131.7067, 131.7067, 131.7067, 128.9792, 127.9661, 127.9661, 127.9661, 127.9661, 127.9661, 124.6575, 124.6575, 124.6575, 124.6575, 124.6575, 120.779, 120.779, 120.779, 120.779, 120.779, 120.779, 120.779, 120.779, 120.779, 120.779, 120.779, 120.779, 120.779, 120.779, 120.779, 120.779, 120.779, 120.779, 120.779, 120.779, 120.779, 120.779, 120.779, 120.779, 120.779, 120.779, 105.03165, 104.6286, 104.1279, 103.4323, 102.5546, 101.7921, 100.91595000000001, 100.5309, 100.5309, 99.1318, 99.1318, 99.1318, 99.1318, 99.1318, 99.1318, 99.1318, 99.1318, 99.1318, 90.13419999999999, 89.5251, 88.2538, 86.8336, 86.6641, 85.2742, 85.2742, 83.81065000000001, 83.81065000000001, 83.81065000000001, 80.5774, 79.63155, 78.6291, 78.6291, 77.2082, 76.4482, 76.2705, 75.4991, 75.4991, 75.4991, 73.69235, 73.69235, 72.31395, 71.142, 71.142, 69.6364, 69.1044, 68.15, 67.2139, 66.9511, 66.9511, 64.7641, 63.84545, 63.84545, 63.84545, 61.214, 61.214, 60.1612, 59.4951, 59.4951, 59.4951, 59.4951, 59.4951, 59.4951, 59.4951, 59.4951, 59.4951, 59.4951, 59.4951, 59.4951, 57.0003, 56.5948, 56.5975, 56.5975, 56.5975, 56.5977, 56.5969, 56.5965, 56.5965, 56.5956, 56.5943, 56.59455, 56.59455, 56.59455, 56.5965, 56.5965, 57.84825, 58.4636, 58.4636, 59.9385, 59.9385, 59.9385, 59.9385, 63.6682, 63.6682, 63.6682, 63.6682, 63.6682, 63.6682, 63.6682, 63.6682, 63.6682, 63.6682, 72.2505, 72.48910000000001, 72.5095, 72.5095, 72.5095, 72.5095, 72.5095, 72.5035, 72.2711, 71.9705, 70.95054999999999, 70.95054999999999, 69.5805, 69.5805, 68.3755, 68.3755, 68.3755, 68.3755, 68.3755, 68.3755, 64.6534, 64.6534, 64.6534, 62.4081, 62.4081, 60.833999999999996, 60.833999999999996, 60.833999999999996, 60.833999999999996, 60.833999999999996, 60.833999999999996, 60.833999999999996, 60.833999999999996, 60.833999999999996, 56.51395, 56.4995, 56.4999, 56.4986, 56.4981, 56.501999999999995, 56.5012, 56.4971, 56.4975, 56.497150000000005, 56.497, 56.4964, 56.4964, 56.4974, 56.4977, 56.4975, 56.4969, 56.497, 56.49915, 56.4969, 56.4984, 56.49865, 56.5004, 56.4989, 56.4975, 56.4975, 56.4968, 56.4974, 56.4985, 56.4989, 56.498400000000004, 56.4975, 56.4977, 56.4977, 56.498000000000005, 56.4978, 56.498050000000006, 56.498050000000006, 56.4966, 56.497, 56.497, 56.4972, 56.49695, 56.4971, 56.4966, 56.4969, 56.497, 56.4978, 56.49815, 56.5044, 56.5047, 56.504400000000004, 56.5043, 56.5043, 56.5596, 56.5813, 56.5807, 56.581450000000004, 56.581450000000004, 56.5801, 56.582449999999994, 56.5799, 56.5797, 56.5811, 56.5811, 56.5809, 56.5929, 56.5191, 56.5199, 56.519499999999994, 56.519499999999994, 56.5209, 56.5205, 56.5194, 56.5191, 56.5191, 56.5191, 56.5196, 56.519000000000005, 56.519, 56.519, 56.52275, 56.5249, 56.5248, 56.52395, 56.5219, 56.5252, 56.5253, 56.5251, 56.523999999999994, 56.52285, 56.5202, 56.5202, 56.52255, 56.5254, 56.5248, 56.525549999999996, 56.5247, 56.5247, 56.52575, 56.5254, 56.5254, 56.5243, 56.5221, 56.522, 56.521, 56.5246, 56.5248, 56.891949999999994, 56.891949999999994, 56.891949999999994, 56.891949999999994, 56.891949999999994, 59.5306, 59.5306, 59.5306, 59.5306, 59.5306, 59.5306, 59.5306, 59.5306, 59.5306, 60.0116, 61.1155, 62.0792, 62.0792, 64.1658, 64.1658, 64.1658, 66.30015, 67.2995, 67.96780000000001, 69.0469, 69.0469, 69.0469, 71.4417, 71.9291, 71.9291, 73.7149, 74.3953, 74.6659, 75.16765000000001, 76.0759, 76.0759, 77.072, 78.4542, 79.4217, 79.9801, 79.9801, 82.18494999999999, 82.18494999999999, 84.08115000000001, 84.08115000000001, 85.7434, 86.9639, 87.9878, 87.9878, 89.1349, 90.61445, 91.53, 91.53, 91.53, 94.1364, 94.1364, 94.1364, 94.1364, 94.1364, 94.1364, 94.1364, 94.1364, 101.3233, 102.10645, 103.0109, 103.5204, 104.25575, 104.8752, 104.9601, 104.9601, 104.9601, 104.9601, 104.9601, 104.9601, 104.9601, 104.9601, 104.9601, 104.9601, 104.9601, 104.9601, 104.9601, 104.9601, 104.9601, 104.9601, 104.9601, 104.9601, 104.9601, 104.9601, 104.9601, 104.9601, 104.9601, 104.9601, 104.9601, 104.9601, 104.9601, 104.9601, 104.9601, 104.9601, 104.9601, 104.9601, 122.8542, 123.45815, 123.7566, 123.7566, 123.7566, 123.7566, 123.7566, 123.7566, 123.7566, 123.7566, 123.7566, 123.7566, 130.8095, 131.8503, 131.8503, 132.08100000000002, 132.16175, 132.2239, 132.0542, 132.13585, 132.13585, 132.13585, 132.13585, 132.13585, 132.13585, 132.0112, 132.1462, 132.1483, 131.7244, 131.4023, 130.9111, 130.9111, 130.9111, 128.1323, 128.1323, 128.1323, 128.1323, 128.1323, 128.1323, 128.1323, 128.1323, 128.1323, 128.1323, 128.1323, 128.1323, 128.1323, 128.1323, 128.1323, 128.1323, 128.1323, 128.1323, 128.1323, 128.1323, 128.1323, 128.1323, 128.1323, 128.1323, 128.1323, 128.1323, 128.1323, 104.794, 104.794, 104.794, 102.9069, 102.1223, 101.2701, 100.7654, 100.1469, 100.1469, 100.1469, 98.1318, 98.1318, 96.1454, 95.3079, 94.5021, 93.9273, 93.1364, 91.8529, 91.8529, 90.1012, 90.1012, 88.7246, 87.4588, 86.1311, 86.1311, 84.84445, 83.6603, 83.0472, 81.7076, 80.9224, 80.9224, 79.116, 79.116, 77.61500000000001, 76.6677, 76.6677, 75.2743, 75.005, 75.005, 75.005, 73.7565, 73.0411, 72.39195000000001, 72.39195000000001, 72.39195000000001, 70.9859, 70.3151, 70.3151, 70.3151, 68.9178, 68.9178, 67.5154, 67.5154, 65.54326333, 65.54326333, 64.84175833500001, 64.2745, 63.4586, 62.13765, 59.790994999999995, 59.790994999999995, 59.790994999999995, 59.790994999999995, 59.790994999999995, 59.790994999999995, 59.790994999999995, 59.790994999999995, 59.65396167, 60.24922167, 61.625013335, 62.656266669999994, 63.881755000000005, 64.36148667, 65.3732, 66.45547878, 67.41750167, 68.113485, 69.16519100000001, 70.15909833, 70.87629122333334, 72.18478355666667, 72.960221, 73.59126333, 74.39155011, 74.91063333, 75.16260333, 76.15281624999999, 77.312562665, 78.136309835, 79.05169444666667, 80.42679749999999, 81.308440835, 82.43615, 83.61106666666667, 84.73090344333333, 85.595869, 86.94854665, 87.8285215, 88.783004835, 90.167752335, 90.167752335, 91.99512333, 93.42253167, 93.42253167, 93.42253167, 93.42253167, 93.42253167, 93.42253167, 99.13005416499999, 99.13005416499999, 100.8078711, 101.7467533, 102.21638666666666, 103.2349178, 103.8496083, 104.5016985, 104.89165164999999, 105.0636533, 105.0636533, 105.0636533, 105.0636533, 105.0636533, 105.0636533, 105.0636533, 105.0636533, 105.0636533, 105.0636533, 105.0636533, 105.0636533, 113.96867830000001, 113.96867830000001, 113.96867830000001, 113.96867830000001, 113.96867830000001, 113.96867830000001, 118.0778033, 118.0778033, 119.0244983, 119.0244983, 120.7103483, 120.7103483, 122.0702433, 122.643055, 123.58886666666666, 123.58886666666666, 125.56689415, 126.18788500000001, 126.89686299999998, 127.75634829999998, 128.4790739, 129.3219933, 130.0317233, 131.3966783, 132.16307, 132.14247484999999, 132.100941, 132.130936, 132.130936, 132.130936, 132.130936, 132.130936, 132.130936, 132.130936, 131.99052, 132.16563423333332, 132.03618685000004, 131.82696719999998, 131.62907056666666, 131.4438483, 130.82052435, 130.30930666666669, 129.6324667, 129.066583, 128.40849350000002, 127.89014280000002, 127.31251915000001, 126.79367833333333, 126.16115829999998, 126.16115829999998, 126.16115829999998, 126.16115829999998, 126.16115829999998, 122.6949733, 122.6949733, 122.6949733, 122.6949733, 122.6949733, 122.6949733, 122.6949733, 122.6949733, 122.6949733, 122.6949733, 122.6949733, 122.6949733, 122.6949733, 122.6949733, 122.6949733, 122.6949733, 122.6949733, 122.6949733, 122.6949733, 122.6949733, 122.6949733, 122.6949733, 122.6949733, 122.6949733, 122.6949733, 122.6949733, 108.1708533, 108.1708533, 108.1708533, 106.53597414999999, 105.80497915, 105.4236517, 104.971883, 104.81487829999999, 104.2856783, 103.72743750000001, 103.05097033333334, 102.22267286666666, 101.67815250000001, 101.0911375, 100.2821942, 100.2821942, 98.893719165, 97.89508333, 97.48612167, 96.472502, 95.48812000000001, 95.12165, 94.42292417, 93.6947935, 93.05000333, 92.18988917, 91.27610333, 90.87176333, 90.035471665, 89.073458335, 88.67142333, 88.341095, 87.3045875, 86.76037044333333, 86.01865083, 85.16739667, 84.85484149999999, 84.138035665, 83.757186665, 83.01310333500001, 82.1807475, 81.558429335, 81.01300333500001, 80.197962665, 79.4804975, 78.7971, 78.034715665, 77.29777722333333, 76.63640389, 75.99258900000001, 75.49119083, 75.05967688999999, 74.61184511333335, 74.302909, 73.7836875, 73.38134699999999, 72.61253344333333, 72.08081667, 71.424564335, 70.67577167, 70.3571, 69.8504925, 69.8504925, 69.8504925, 69.8504925, 67.71904599999999, 67.71904599999999, 66.99908249999999, 66.99908249999999, 66.095745, 65.08142667, 64.37376322333334, 63.541284999999995, 63.021208335, 62.13586667, 61.32560333, 60.84623155666666, 60.042290443333336, 59.336507499999996, 58.696251666666676, 57.878473299999996, 57.372236834999995, 56.9206185, 56.92460444333333, 56.924570165000006, 56.925041, 56.925041, 56.924780000000005, 56.925327499999995, 56.92731800000001, 56.9257425, 56.926658499999995, 56.926658499999995, 56.924147999999995, 56.925425, 56.92863, 56.92884667, 56.92809667, 56.92809667, 56.92809667, 56.92809667, 56.92447667, 56.929515, 56.929515, 56.929515, 56.929515, 56.929515, 56.92422167, 56.92422167, 56.925507999999994, 56.925507999999994, 56.927026500000004, 56.92450667, 56.930240000000005, 56.930220500000004, 56.930138, 56.926265, 56.926371, 56.92521300000001, 56.9253, 56.925380000000004, 56.92886949999999, 56.926824499999995, 56.927721999999996, 56.92558333333333, 56.924854333333336, 56.9282375, 56.926072, 56.924927999999994, 56.9247725, 56.926536999999996, 56.926941, 56.928821, 56.92656933333333, 56.9246535, 56.924552500000004, 56.925656000000004, 56.92666966666667, 56.92757633333333, 56.928452, 56.925704999999994, 56.9245815, 56.92533266666667, 56.926296, 56.927633, 56.929109000000004, 56.927696999999995, 56.831019999999995, 56.485206000000005, 56.4847025, 56.4846975, 56.48561833333333, 56.4854655, 56.485670999999996, 56.48456666666666, 56.48469733333334, 56.484244000000004, 56.48466066666666, 56.485885999999994, 56.486096, 56.483542666666665, 56.484231, 56.484855, 56.48675533333333, 56.487909, 56.487027499999996, 56.485082, 56.485344, 56.48550900000001, 56.487910666666664, 56.488327, 56.4835135, 56.483533, 56.484169333333334, 56.486674, 56.486709, 56.487825, 56.4858775, 56.484795, 56.48550933333333, 56.4851695, 56.486148333333325, 56.487605, 56.483891, 56.48437166666667, 56.48559233333333, 56.4856865, 56.48632733333333, 56.485571500000006, 56.483946, 56.484672999999994, 56.485141666666664, 56.48554, 56.48582833333333, 56.48894150000001, 56.9677255, 57.933683, 58.860845000000005, 59.083189000000004, 59.547579500000005, 59.413388, 59.413388, 59.413437, 59.413437, 59.413433, 59.413433, 59.413394999999994, 59.413394999999994, 59.6593075, 60.622521, 61.68254733333333, 62.3147035, 63.4054915, 64.590948, 65.395168, 66.886895, 67.579027, 68.7205385, 69.95354499999999, 70.59231, 71.36176, 72.55551566666666, 73.301377, 74.244435, 74.85441949999999, 75.550565, 76.0896, 77.216498, 77.929677, 77.929677, 81.344942, 82.58577199999999, 83.492693, 84.758498, 86.33134, 87.5589745, 88.8645015, 88.8645015, 90.906352, 92.428959, 92.428959, 94.234502, 95.129473, 95.129473, 95.129473, 98.70271149999999, 99.438687, 100.758957, 101.641272, 102.350202, 103.195135, 104.0344335, 104.70572599999998, 104.70572599999998, 105.5255635, 105.5255635, 105.5255635, 105.5255635, 105.5255635, 109.86229499999999, 109.86229499999999, 109.86229499999999, 109.86229499999999, 109.86229499999999, 109.86229499999999, 109.86229499999999, 109.86229499999999, 109.86229499999999, 109.86229499999999, 109.86229499999999, 109.86229499999999, 109.86229499999999, 109.86229499999999, 109.86229499999999, 109.86229499999999, 121.85874799999999, 122.425362, 123.21999349999999, 123.21999349999999, 125.01134499999999, 125.8158845, 126.62861649999999, 127.75971233333333, 128.532652, 129.3959715, 130.27567, 131.26193233333333, 132.06925700000002, 132.166244, 132.01260000000002, 132.130962, 132.130962, 132.130962, 132.130962, 132.130962, 132.130962, 132.130962, 132.01121799999999, 132.16257299999998, 131.94216033333333, 131.64016049999998, 131.27466750000002, 130.4851905, 129.680839, 128.8075175, 128.02466775, 126.970175, 126.459515, 126.459515, 126.459515, 123.788168, 123.788168, 123.788168, 123.788168, 123.788168, 123.788168, 118.051123, 118.051123, 118.051123, 118.051123, 118.051123, 118.051123, 118.051123, 118.051123, 118.051123, 118.051123, 118.051123, 118.051123, 107.291928, 106.89068799999998, 106.89068799999998, 105.133657, 104.61020699999999, 104.12420499999999, 103.73321133333333, 103.00457533333334, 102.041394, 101.32801566666666, 100.43949649999999, 99.495402, 98.2957135, 97.697497, 96.32861, 95.447292, 94.507937, 92.720993, 92.198138, 90.72141400000001, 89.161375, 88.38245599999999, 86.95964666666667, 85.601833, 84.808218, 83.6859325, 82.465788, 81.80819699999999, 80.56478849999999, 80.56478849999999, 78.906577, 77.18614649999999, 77.18614649999999, 75.67715, 74.94621, 74.94621, 73.94514466666668, 73.180017, 72.056347, 71.180637, 70.04536, 69.146023, 68.26078166666666, 67.60147025, 66.55594, 65.761358, 64.88125550000001, 63.74197766666666, 62.9585905, 62.1979175, 61.2663195, 60.478475, 59.7071225, 59.7071225, 59.7071225, 59.7071225, 59.7071225, 59.7071225, 59.41341, 59.919608, 60.95923500000001, 62.477962500000004, 63.603277500000004, 64.625579, 66.39040966666667, 67.25122300000001, 67.936999, 68.56038166666666, 69.33845699999999, 69.768862, 70.56159149999999, 71.34914500000001, 72.0390085, 72.622734, 73.565698, 74.36980650000001, 74.8428385, 75.2412875, 75.4727265, 75.93746966666667, 76.6709575, 77.9439615, 78.9319835, 79.99665, 81.219658, 81.19325, 83.65677400000001, 84.3957035, 85.602236, 86.52233633333333, 88.11574, 88.658603, 89.598843, 90.950707, 92.120612, 93.3077935, 93.3077935, 95.449525, 96.454182, 98.01091, 98.78388199999999, 99.546603, 100.3032375, 101.186656, 101.932437, 102.296417, 103.825638, 104.33962833333334, 104.89304233333333, 105.138687, 105.947832, 105.947832, 105.947832, 105.947832, 105.947832, 105.947832, 105.947832, 105.947832, 105.947832, 105.947832, 105.947832, 105.947832, 114.55273999999999, 114.55273999999999, 114.55273999999999, 114.55273999999999, 114.55273999999999, 114.55273999999999, 114.55273999999999, 114.55273999999999, 114.55273999999999, 114.55273999999999, 122.389683, 122.95717, 123.57373500000001, 124.13179699999999, 124.13179699999999, 124.13179699999999, 126.41581433333333, 126.797072, 128.299367, 128.782343, 128.782343, 130.28821299999998, 131.44705449999998, 132.13376, 132.222308, 132.077221, 132.131023, 132.131023, 132.131023, 132.131023, 132.131023, 132.131023, 132.1567, 131.9832065, 132.140146, 131.92234900000003, 131.64925900000003, 131.01375474999998, 130.115042, 129.38315999999998, 128.49644333333333, 127.62370299999998, 126.5616275, 126.5616275, 124.79751999999999, 123.897002, 122.537333, 122.537333, 122.537333, 119.468275, 119.468275, 119.468275, 119.468275, 119.468275, 119.468275, 115.247923, 115.247923, 115.247923, 115.247923, 115.247923, 115.247923, 115.247923, 115.247923, 115.247923, 115.247923, 106.818932, 105.856348, 105.56428999999999, 104.86053150000001, 104.2555465, 103.80941566666667, 103.13932600000001, 102.2043575, 101.49176666666665, 100.6633285, 99.9706435, 99.27567666666668, 98.60177200000001, 97.522785, 96.306533, 95.092872, 94.87266, 93.508273, 92.38768133333333, 91.39478000000001, 90.51894300000001, 89.449532, 88.45597933333333, 87.8375645, 86.6889435, 85.61336800000001, 84.61768566666666, 83.6261865, 82.69077, 81.55951566666667, 80.54476625, 79.453288, 78.67297, 77.60551749999999, 76.713927, 76.40260866666667, 75.86126025, 75.31397899999999, 75.073585, 74.296876, 73.77936700000001, 73.13213499999999, 72.34449325, 71.667783, 71.25411299999999, 70.5018415, 69.708647, 69.071562, 68.092385, 67.3652375, 66.69659766666666, 65.398383, 64.69962799999999, 63.363260000000004, 62.280312, 61.435322, 60.440917500000005, 59.47404, 59.421827, 59.413395, 59.413395, 59.413395, 59.413395, 59.413395, 59.413395, 59.782377333333336, 60.894981333333334, 61.853804, 62.260293000000004, 63.521391666666666, 64.184225, 65.300452, 66.40978566666668, 67.5214885, 68.351508, 69.41382266666666, 70.61358899999999, 71.516521, 72.25440200000001, 73.539897, 74.29060166666666, 75.018723, 75.5624865, 76.21748299999999, 77.040744, 78.343771, 79.32133066666667, 80.94888233333334, 82.17072250000001, 83.58746266666667, 84.31164100000001, 85.6008625, 86.7446695, 88.04046999999998, 89.47479, 90.743561, 90.743561, 93.23361700000001, 94.55818000000001, 95.730753, 96.682715, 97.86353, 98.66887666666666, 99.540989, 100.311593, 101.53618349999999, 102.45159799999999, 103.36615866666666, 104.33790266666666, 104.877707, 104.877707, 105.757287, 105.757287, 105.757287, 108.33260200000001, 108.33260200000001, 108.33260200000001, 108.33260200000001, 108.33260200000001, 112.60576999999999, 112.60576999999999, 112.60576999999999, 114.94553799999998, 114.94553799999998, 114.94553799999998, 117.53015, 117.53015, 117.53015, 120.6944425, 122.1437225, 122.1437225, 123.5608935, 124.607359, 125.18313799999999, 125.786902, 126.690128, 127.15744199999999, 126.6489615, 127.385002, 127.892652, 127.2706905, 127.2706905, 127.244248, 127.726299, 127.31240733333334, 126.549765, 127.246785, 127.86087, 128.341943, 128.22720266666667, 128.22610733333335, 128.519948, 128.16863, 128.292069, 128.290433, 127.884778, 128.45324799999997, 128.45324799999997, 128.229137, 128.45833799999997, 128.6341165, 128.097221, 128.011571, 128.88615049999999, 129.4970185, 130.032692, 130.61154950000002, 131.49468966666666, 132.0928243333333, 132.149081, 132.04681133333332, 132.13141299999998, 132.13093, 132.13093700000002, 132.13093700000002, 132.13093700000002, 132.13093700000002, 132.133208, 132.013475, 132.13808699999998, 131.862237, 131.4561975, 130.8917855, 130.309029, 129.4965765, 128.33194333333333, 127.57562666666665, 126.862695, 125.7035545, 125.054523, 125.054523, 125.054523, 125.054523, 125.054523, 119.737748, 119.737748, 119.737748, 119.737748, 119.737748, 119.737748, 119.737748, 119.737748, 119.737748, 119.737748, 119.737748, 119.737748, 119.737748, 119.737748, 119.737748, 119.737748, 119.737748, 119.737748, 105.323278, 104.94543350000001, 104.3796855, 104.26391949999999, 104.42769150000001, 104.42829300000001, 104.42844699999999, 104.42899, 104.428543, 104.4307685, 104.4298365, 104.429643, 104.430298, 104.4285865, 104.42825500000001, 104.43017449999999, 104.4295215, 104.42883499999999, 104.42961, 104.4320265, 104.429847, 104.42976999999999, 104.43058833333333, 104.429704, 104.4313995, 104.43131149999999, 104.431653, 104.430208, 104.42963549999999, 104.429517, 104.429342, 104.430002, 104.430002, 104.430002, 104.430002, 104.4291335, 104.42920500000001, 104.42907199999999, 104.42883, 104.428184, 104.428414, 104.42851, 104.428288, 104.428453, 104.428092, 104.4278865, 104.428938, 104.429372, 104.42867700000001, 104.428095, 104.428913, 104.42815, 104.42822, 104.428878, 104.428568, 104.42794800000001, 104.428157, 104.428353, 104.427896, 104.4289025, 104.492257, 104.03143850000001, 103.6699525, 103.64591800000001, 103.64515899999999, 103.64522233333332, 103.646526, 103.645431, 103.646552, 103.64522766666668, 103.6449475, 103.644846, 103.64483766666667, 103.855741, 104.54588, 105.31590399999999, 105.95380499999999, 106.39851200000001, 106.83692733333334, 107.409284, 107.84328500000001, 108.473825, 109.19134233333334, 109.603376, 109.9017035, 109.9017035, 111.1727795, 112.16254749999999, 112.819701, 113.70599399999999, 114.26207, 115.0987175, 115.79343200000001, 115.79343200000001, 115.841797, 116.40697450000002, 117.166203, 118.0301245, 118.85382, 119.07631875000001, 118.9575125, 118.821927, 118.73294949999999, 118.63850500000001, 118.63850500000001, 118.4110355, 118.30038433333334, 118.21393799999998, 118.078731, 118.00081999999999, 118.00081999999999, 117.753702, 118.26277900000001, 118.95592666666668, 119.44647599999999, 119.44647599999999, 119.44647599999999, 122.25689899999999, 123.04916700000001, 123.82444749999999, 124.60226566666667, 125.268272, 125.268272, 127.32789100000001, 128.247877, 129.27284466666669, 129.95734499999998, 130.277348, 130.277348, 130.914038, 130.91402300000001, 130.914051, 130.91401399999998, 130.914083, 130.914083, 130.914051, 130.914041, 130.9140395, 130.78291533333334, 130.15678799999998, 130.15678799999998, 128.304948, 127.945316, 127.6885565, 127.40282499999999, 127.102814, 126.88692766666667, 126.59353050000001, 126.10229833333334, 125.65396633333334, 125.489678, 126.259232, 126.8340315, 126.79701633333333, 126.46843225, 126.605235, 126.8974685, 127.23251033333334, 127.60711299999998, 127.74315849999999, 127.90419, 128.07036399999998, 128.15031499999998, 128.27930450000002, 128.4497665, 128.585699, 128.76674, 128.85756475, 128.99825800000002, 129.17596699999999, 129.26928833333332, 129.401895, 129.587328, 129.74782900000002, 130.0136475, 130.41081433333332, 130.741438, 131.06112699999997, 131.316793, 131.7213265, 132.0132785, 132.332189, 132.772387, 133.11383433333336, 133.607022, 133.80500700000002, 133.964795, 134.5185485, 134.7926635, 134.96381833333334, 135.04928666666666, 134.6635355, 133.86582666666666, 133.736361, 133.7363565, 133.73635866666666, 133.73637, 133.73634900000002, 133.73635266666668, 133.7363575, 133.9758175, 134.83976933333332, 134.910847, 134.7669175, 134.6542115, 134.104316, 133.19395500000002, 132.79134733333333, 131.779112, 131.24697633333335, 130.6149175, 130.13931200000002, 129.0841825, 128.70828466666669, 128.70828466666669, 129.383384, 129.693231, 129.63656749999998, 129.643347, 129.740188, 129.8557555, 129.71350800000002, 129.64067, 128.797176, 127.46646000000001, 126.838702, 126.838702, 125.393565, 124.33461000000001, 123.44503799999998, 123.44503799999998, 121.86846299999999, 120.79938700000001, 120.2151035, 119.159908, 119.159908, 119.159908, 119.159908, 119.159908, 119.159908, 119.159908, 119.159908, 119.159908, 119.159908, 119.159908, 119.159908, 119.159908, 119.159908, 119.159908, 119.159908, 119.159908, 119.159908, 119.159908, 119.159908, 119.159908, 119.159908, 105.071992, 104.938877, 104.6047745, 103.932437, 103.2396075, 102.49063466666666, 101.56351933333333, 100.81593, 100.24008500000001, 99.22001800000001, 99.22001800000001, 99.22001800000001, 99.22001800000001, 96.06156700000001, 94.955263, 94.377703, 93.54112649999999, 92.39711700000001, 91.81991099999999, 90.700452, 90.076018, 89.019127, 88.06716750000001, 87.47329, 86.21594266666666, 85.2674715, 84.4143445, 84.4143445, 82.70550300000001, 81.4909915, 80.21739566666666, 79.21937700000001, 78.2440425, 77.31711966666666, 76.36940200000001, 75.757993, 75.110881, 74.68551, 74.401273, 73.4779925, 72.635659, 71.85686999999999, 71.0048685, 69.87165300000001, 69.326868, 68.35864766666667, 67.845993, 66.96286500000001, 66.14304466666668, 65.2279415, 64.66767, 63.8462865, 63.03912100000001, 62.245792, 61.880437, 60.8548825, 60.167536000000005, 60.167536000000005, 60.947842, 60.398725, 60.46098666666666, 61.236073, 60.814937, 60.374728999999995, 60.020939999999996, 60.31771066666667, 60.781156, 60.454756, 60.123018, 59.797405, 60.252669999999995, 60.278639999999996, 59.462481, 59.188099666666666, 59.7360575, 59.693577, 59.413403, 59.413403, 59.413403, 59.413403, 59.413403, 59.413403, 59.41346, 60.072790999999995, 60.9713715, 62.1734415, 62.76577, 63.651636499999995, 64.63077933333334, 65.67406249999999, 66.504389, 67.60524699999999, 68.325845, 69.226923, 70.415788, 71.468083, 72.0536985, 72.972381, 73.67405500000001, 74.50555899999999, 74.97099649999998, 75.85714, 76.74999600000001, 77.69181066666665, 78.82771, 80.1503125, 81.2842905, 82.1489915, 83.76014733333334, 84.59509600000001, 85.55771700000001, 87.26141466666667, 88.480362, 89.64222633333333, 91.291555, 92.425027, 93.160185, 94.96635500000001, 95.56006500000001, 96.766963, 97.935462, 98.97077, 98.97077, 101.108733, 101.6457115, 102.554034, 103.61332966666667, 104.4360115, 104.850049, 104.850049, 104.850049, 104.850049, 104.850049, 104.850049, 104.850049, 104.850049, 104.850049, 104.850049, 104.850049, 104.850049, 104.850049, 104.850049, 104.850049, 104.850049, 104.850049, 104.850049, 117.89921499999998, 118.33743700000001, 118.782882, 120.079652, 120.079652, 121.234467, 121.80866950000001, 123.04547099999999, 123.75403, 124.232203, 125.83340666666668, 126.93816525, 127.91948700000002, 128.65325900000002, 129.58533749999998, 130.70194700000002, 131.887698, 132.22294733333334, 132.03188600000001, 132.1432775, 132.1432775, 132.130962, 132.130942, 132.13091799999998, 132.13091799999998, 132.13091799999998, 132.13092849999998, 132.13092849999998, 132.13092849999998, 132.130902, 132.130902, 132.130902, 132.197692, 132.022742, 131.65473999999998, 131.238126, 130.53474933333334, 129.814225, 128.78738733333333, 127.94865966666669, 127.63253300000001, 127.63253300000001, 127.63253300000001, 125.211293, 125.211293, 125.211293, 125.211293, 125.211293, 125.211293, 125.211293, 125.211293, 125.211293, 125.211293, 118.99773700000001, 118.99773700000001, 118.99773700000001, 118.99773700000001, 118.43037199999999, 118.43037199999999, 117.794023, 117.794023, 117.794023, 117.794023, 117.794023, 117.794023, 117.794023, 117.794023, 117.794023, 117.794023, 117.794023, 107.095822, 107.095822, 105.14464299999999, 104.92043999999999, 104.26791166666665, 103.7758475, 103.10640733333334, 102.00110525000001, 101.0626425, 100.32260666666667, 100.32260666666667, 98.419004, 98.419004, 96.19526250000001, 95.216275, 94.099885, 93.064295, 91.34278599999999, 91.34278599999999, 88.77777433333334, 87.44858, 86.531097, 85.14329933333333, 83.794533, 82.81065000000001, 81.43244399999999, 79.938622, 79.4778575, 77.96840650000001, 76.86001999999999, 76.196207, 75.368245, 74.717052, 74.238135, 73.43218, 72.961073, 72.046008, 71.17388199999999, 70.15852199999999, 69.801672, 68.60381000000001, 67.963448, 67.0335265, 65.968501, 65.010595, 64.380987, 63.824009999999994, 62.214512, 62.214512, 60.972436, 60.027937, 59.413552, 59.413552, 59.413552, 59.413552, 59.413552, 59.413552, 59.413552, 59.856828, 60.822405, 61.340545, 62.766465, 63.516485, 64.65018900000001, 65.89055, 66.848881, 66.848881, 68.61362433333333, 69.557087, 70.494138, 71.26947333333334, 72.41135, 73.204973, 74.159416, 74.837308, 75.16964, 75.979218, 77.08407650000001, 77.561461, 78.93127833333334, 80.09502433333333, 80.650818, 82.167594, 83.58436549999999, 84.6664225, 86.0208125, 87.155872, 88.3903805, 89.999037, 90.577265, 91.7688425, 93.382453, 93.602602, 94.958477, 94.958477, 96.67090300000001, 97.598742, 98.84788766666668, 99.634237, 99.634237, 101.51283533333333, 102.3290145, 103.36927166666665, 104.40115866666667, 104.833325, 105.11774, 105.11774, 106.337768, 106.337768, 106.337768, 108.77102, 108.77102, 108.77102, 111.015208, 111.015208, 111.015208, 111.015208, 113.87771299999999, 113.87771299999999, 113.87771299999999, 113.87771299999999, 113.87771299999999, 113.87771299999999, 113.87771299999999, 113.87771299999999, 119.184133, 119.184133, 119.184133, 119.184133, 121.80471999999999, 122.592672, 122.97788800000001, 123.748272, 124.777823, 125.126618, 125.126618, 125.126618, 127.289373, 128.472607, 128.594067, 129.6431025, 130.26280500000001, 131.38501599999998, 132.0190545, 132.17254875, 132.1915525, 132.0159375, 132.13093450000002, 132.13093700000002, 132.13093700000002, 132.13093650000002, 132.13091, 132.130908, 132.054058, 132.14491650000002, 132.01755150000002, 131.6896495, 131.31743749999998, 130.60043050000002, 129.70600050000002, 128.99302749999998, 128.2723715, 127.77212833333333, 127.77212833333333, 127.77212833333333, 127.77212833333333, 124.15880200000001, 123.050497, 123.050497, 123.050497, 123.050497, 123.050497, 119.187475, 119.187475, 119.187475, 116.73181799999999, 116.73181799999999, 116.73181799999999, 116.73181799999999, 116.73181799999999, 116.73181799999999, 116.73181799999999, 116.73181799999999, 116.73181799999999, 116.73181799999999, 116.73181799999999, 116.73181799999999, 116.73181799999999, 116.73181799999999, 116.73181799999999, 116.73181799999999, 105.38686200000001, 105.027955, 104.768407, 104.37562, 103.782837, 103.64738333333334, 103.6459515, 103.64677, 103.64717233333333, 103.647985, 103.331567, 102.37386599999998, 101.4989245, 100.728818, 100.1332685, 100.1332685, 100.1332685, 100.1332685, 100.1332685, 95.473816, 94.033677, 93.476745, 92.416075, 91.513567, 90.599907, 89.993608, 88.82125533333334, 87.727158, 86.963208, 85.98933666666669, 85.169493, 83.939553, 82.96671066666666, 82.1072475, 80.61774349999999, 79.69973350000001, 78.6023915, 78.081585, 77.17394250000001, 76.47204, 75.68346400000001, 75.162022, 74.7638825, 74.57815, 74.15952999999999, 73.2997685, 72.6364915, 71.923542, 71.257987, 69.99553750000001, 69.149146, 68.20366, 67.36665099999999, 67.36665099999999, 65.795423, 65.795423, 64.366769, 63.408093, 62.539682, 62.706897999999995, 62.425828499999994, 61.918363, 60.71770333333333, 60.012859999999996, 59.558372], \"marker\": {\"color\": \"#636efa\", \"size\": [0.0, 0.0, 0.0, 0.0, 0.0, 0.0, 0.0, 0.0, 0.0, 0.0, 0.0, 0.0, 0.0, 0.0, 0.0, 0.0, 0.0, 8.15461, 8.15461, 8.15461, 8.15461, 8.15461, 8.15461, 0.0, 0.0, 0.0, 0.0, 0.0, 0.0, 0.0, 0.0, 0.0, 0.0, 0.0, 0.0, 0.0, 0.0, 0.0, 0.0, 0.0, 0.0, 0.0, 0.0, 0.0, 0.0, 0.0, 0.0, 0.0, 0.0, 0.0, 0.0, 0.0, 0.0, 0.0, 0.0, 0.0, 0.0, 0.0, 0.0, 0.0, 0.0, 0.0, 0.0, 0.0, 0.0, 0.0, 0.0, 0.0, 0.0, 0.0, 0.0, 0.0, 0.0, 0.0, 0.0, 0.0, 0.0, 0.0, 0.0, 0.0, 0.0, 0.0, 0.0, 0.0, 0.0, 0.0, 0.0, 0.0, 0.0, 0.0, 0.0, 0.0, 0.0, 0.0, 0.0, 0.0, 0.0, 0.0, 0.0, 0.0, 0.0, 0.0, 0.0, 0.0, 0.0, 0.0, 0.0, 0.0, 0.0, 0.0, 0.0, 0.0, 0.0, 0.0, 0.0, 0.0, 0.0, 0.0, 0.0, 0.0, 0.0, 0.0, 0.0, 0.0, 0.0, 10.316068, 10.316068, 10.316068, 10.316068, 10.316068, 10.316068, 10.316068, 10.316068, 10.316068, 10.316068, 10.316068, 10.316068, 0.0, 0.0, 0.0, 0.0, 0.0, 0.0, 0.0, 0.0, 0.0, 0.0, 0.0, 0.0, 0.0, 0.0, 0.0, 0.0, 0.0, 0.0, 0.0, 0.0, 0.0, 0.0, 0.0, 0.0, 0.0, 0.0, 0.0, 0.0, 0.0, 0.0, 0.0, 0.0, 0.0, 0.0, 6.095572, 3.442988, 3.442988, 3.432378, 3.442988, 3.442988, 3.58373, 0.0, 0.0, 0.0, 0.0, 0.0, 0.0, 0.0, 0.0, 0.0, 0.0, 0.0, 0.0, 0.0, 0.0, 0.0, 0.0, 0.0, 0.0, 0.0, 0.0, 0.0, 0.0, 0.0, 0.0, 0.0, 0.0, 0.0, 0.0, 0.0, 0.0, 0.0, 0.0, 0.0, 0.0, 0.0, 0.0, 0.0, 0.0, 0.0, 0.0, 0.0, 0.0, 0.0, 0.0, 0.0, 0.0, 0.0, 0.0, 0.0, 0.0, 0.0, 0.0, 0.0, 0.0, 0.0, 0.0, 0.0, 0.0, 0.0, 0.0, 0.0, 0.0, 0.0, 0.0, 0.0, 0.0, 0.0, 0.0, 0.0, 0.0, 0.0, 0.0, 0.0, 0.0, 0.0, 0.0, 0.0, 0.0, 0.0, 0.0, 0.0, 0.0, 0.0, 0.0, 0.0, 0.0, 0.0, 0.0, 0.0, 0.0, 0.0, 0.0, 0.0, 0.0, 0.0, 0.0, 0.0, 0.0, 0.0, 0.0, 0.0, 0.0, 0.0, 0.0, 0.0, 0.0, 0.0, 0.0, 0.0, 0.0, 0.0, 0.0, 0.0, 0.0, 0.0, 0.0, 0.0, 0.0, 0.0, 0.0, 0.0, 0.0, 0.0, 0.0, 0.0, 0.0, 0.0, 0.0, 0.0, 0.0, 0.0, 0.0, 0.0, 0.0, 0.0, 0.0, 0.0, 0.0, 0.0, 0.0, 0.0, 0.0, 0.0, 0.0, 0.0, 0.0, 0.0, 0.0, 0.0, 0.0, 0.0, 0.0, 0.0, 0.0, 0.0, 0.0, 0.0, 0.0, 0.0, 0.0, 0.0, 0.0, 0.0, 0.0, 0.0, 0.0, 0.0, 0.0, 0.0, 0.0, 0.0, 0.0, 0.0, 0.0, 0.0, 0.0, 0.0, 0.0, 0.0, 0.0, 0.0, 0.0, 0.0, 0.0, 0.0, 0.0, 0.0, 0.0, 0.0, 0.0, 0.0, 0.0, 0.0, 0.0, 0.0, 0.0, 0.0, 0.0, 0.0, 0.0, 0.0, 0.0, 0.0, 0.0, 0.0, 0.0, 0.0, 0.0, 0.0, 0.0, 0.0, 0.0, 0.0, 0.0, 0.0, 0.0, 0.0, 0.0, 0.0, 0.0, 0.0, 0.0, 0.0, 0.0, 0.0, 0.0, 0.0, 0.0, 0.0, 0.0, 0.0, 0.0, 0.0, 0.0, 0.0, 0.0, 0.0, 0.0, 0.0, 0.0, 0.0, 0.0, 0.0, 0.0, 0.0, 0.0, 0.0, 0.0, 0.0, 0.0, 0.0, 0.0, 0.0, 0.0, 0.0, 0.0, 0.0, 0.0, 0.0, 0.0, 0.0, 0.0, 0.0, 0.0, 0.0, 0.0, 0.0, 0.0, 0.0, 0.0, 0.0, 0.0, 0.0, 0.0, 0.0, 0.0, 0.0, 0.0, 0.0, 0.0, 0.0, 0.0, 0.0, 0.0, 0.0, 0.0, 0.0, 0.0, 0.0, 0.0, 0.0, 0.0, 0.0, 0.0, 0.0, 0.0, 0.0, 0.0, 0.0, 0.0, 0.0, 0.0, 0.0, 0.0, 0.0, 0.0, 0.0, 0.0, 0.0, 0.0, 0.0, 0.0, 0.0, 0.0, 0.0, 0.0, 0.0, 0.0, 0.0, 0.0, 0.0, 0.0, 0.0, 0.0, 0.0, 0.0, 0.0, 0.0, 0.0, 0.0, 0.0, 0.0, 0.0, 0.0, 0.0, 0.0, 0.0, 0.0, 0.0, 0.0, 0.0, 0.0, 0.0, 0.0, 0.0, 0.0, 0.0, 0.0, 0.0, 0.0, 0.0, 0.0, 0.0, 0.0, 0.0, 0.0, 0.0, 0.0, 0.0, 0.0, 0.0, 0.0, 0.0, 0.0, 0.0, 0.0, 0.0, 0.0, 0.0, 0.0, 0.0, 0.0, 0.0, 0.0, 0.0, 0.0, 0.0, 0.0, 0.0, 0.0, 0.0, 0.0, 0.0, 0.0, 0.0, 0.0, 0.0, 0.0, 0.0, 0.0, 0.0, 0.0, 0.0, 0.0, 0.0, 0.0, 0.0, 0.0, 0.0, 0.0, 0.0, 0.0, 0.0, 0.0, 0.0, 0.0, 0.0, 0.0, 0.0, 0.0, 0.0, 0.0, 0.0, 0.0, 0.0, 0.0, 0.0, 0.0, 0.0, 0.0, 0.0, 0.0, 0.0, 0.0, 0.0, 0.0, 0.0, 0.0, 0.0, 0.0, 0.0, 0.0, 0.0, 0.0, 0.0, 0.0, 0.0, 0.0, 0.0, 0.0, 0.0, 0.0, 0.0, 0.0, 0.0, 0.0, 0.0, 0.0, 0.0, 0.0, 6.450813, 6.450813, 6.450813, 6.450813, 6.450813, 6.450813, 6.450813, 0.0, 0.0, 0.0, 0.0, 0.0, 0.0, 0.0, 0.0, 0.0, 0.0, 0.0, 0.0, 0.0, 0.0, 0.0, 0.0, 0.0, 0.0, 0.0, 0.0, 0.0, 0.0, 0.0, 0.0, 0.0, 0.0, 0.0, 0.0, 0.0, 0.0, 0.0, 0.0, 0.0, 0.0, 0.0, 0.0, 0.0, 0.0, 0.0, 0.0, 0.0, 0.0, 0.0, 0.0, 0.0, 0.0, 0.0, 0.0, 0.0, 0.0, 0.0, 0.0, 0.0, 0.0, 0.0, 0.0, 0.0, 0.0, 0.0, 0.0, 0.0, 0.0, 0.0, 0.0, 0.0, 0.0, 0.0, 0.0, 0.0, 0.0, 0.0, 0.0, 0.0, 0.0, 0.0, 0.0, 0.0, 0.0, 0.0, 0.0, 0.0, 0.0, 0.0, 0.0, 0.0, 0.0, 0.0, 0.0, 0.0, 0.0, 0.0, 0.0, 0.0, 0.0, 0.0, 0.0, 0.0, 0.0, 0.0, 0.0, 0.0, 0.0, 0.0, 0.0, 0.0, 0.0, 0.0, 0.0, 0.0, 0.0, 0.0, 0.0, 0.0, 0.0, 0.0, 0.0, 0.0, 0.0, 0.0, 0.0, 0.0, 0.0, 0.0, 0.0, 0.0, 0.0, 0.0, 0.0, 0.0, 0.0, 0.0, 0.0, 0.0, 0.0, 0.0, 0.0, 0.0, 0.0, 0.0, 0.0, 0.0, 0.0, 0.0, 0.0, 0.0, 0.0, 0.0, 0.0, 0.0, 0.0, 0.0, 0.0, 0.0, 0.0, 0.0, 0.0, 0.0, 0.0, 0.0, 0.0, 0.0, 0.0, 0.0, 0.0, 0.0, 0.0, 0.0, 0.0, 0.0, 0.0, 0.0, 0.0, 0.0, 0.0, 0.0, 0.0, 0.0, 0.0, 0.0, 0.0, 0.0, 0.0, 0.0, 0.0, 0.0, 0.0, 0.0, 0.0, 0.0, 0.0, 0.0, 0.0, 0.0, 0.0, 0.0, 0.0, 0.0, 0.0, 0.0, 0.0, 0.0, 0.0, 0.0, 0.0, 0.0, 0.0, 0.0, 0.0, 0.0, 0.0, 0.0, 0.0, 0.0, 0.0, 0.0, 0.0, 0.0, 0.0, 0.0, 0.0, 0.0, 0.0, 0.0, 0.0, 0.0, 0.0, 0.0, 0.0, 0.0, 0.0, 0.0, 0.0, 0.0, 0.0, 0.0, 0.0, 0.0, 0.0, 0.0, 0.0, 0.0, 0.0, 0.0, 0.0, 0.0, 4.092779, 4.092779, 4.089992, 4.089992, 4.092668, 4.092668, 4.092395, 4.092395, 0.0, 0.0, 0.0, 0.0, 0.0, 0.0, 0.0, 0.0, 0.0, 0.0, 0.0, 0.0, 0.0, 0.0, 0.0, 0.0, 0.0, 0.0, 0.0, 0.0, 0.0, 0.0, 0.0, 0.0, 0.0, 0.0, 0.0, 0.0, 0.0, 0.0, 0.0, 0.0, 0.0, 0.0, 0.0, 0.0, 0.0, 0.0, 0.0, 0.0, 0.0, 0.0, 0.0, 0.0, 0.0, 0.0, 0.0, 0.0, 0.0, 0.0, 0.0, 0.0, 0.0, 0.0, 0.0, 0.0, 0.0, 0.0, 0.0, 0.0, 0.0, 0.0, 0.0, 0.0, 0.0, 0.0, 0.0, 0.0, 0.0, 0.0, 0.0, 0.0, 0.0, 0.0, 0.0, 0.0, 0.0, 0.0, 0.0, 0.0, 0.0, 0.0, 6.450768, 6.450768, 6.450768, 6.450768, 6.450768, 6.450768, 6.450768, 0.0, 0.0, 0.0, 0.0, 0.0, 0.0, 0.0, 0.0, 0.0, 0.0, 0.0, 0.0, 0.0, 0.0, 0.0, 0.0, 0.0, 0.0, 0.0, 0.0, 0.0, 0.0, 0.0, 0.0, 0.0, 0.0, 0.0, 0.0, 0.0, 0.0, 0.0, 0.0, 0.0, 0.0, 0.0, 0.0, 0.0, 0.0, 0.0, 0.0, 0.0, 0.0, 0.0, 0.0, 0.0, 0.0, 0.0, 0.0, 0.0, 0.0, 0.0, 0.0, 0.0, 0.0, 0.0, 0.0, 0.0, 0.0, 0.0, 0.0, 0.0, 0.0, 0.0, 0.0, 0.0, 0.0, 0.0, 0.0, 0.0, 0.0, 0.0, 0.0, 0.0, 0.0, 0.0, 0.0, 0.0, 0.0, 0.0, 0.0, 0.0, 0.0, 0.0, 0.0, 0.0, 0.0, 0.0, 0.0, 0.0, 4.085407, 0.0, 0.0, 0.0, 0.0, 0.0, 0.0, 0.0, 0.0, 0.0, 0.0, 0.0, 0.0, 0.0, 0.0, 0.0, 0.0, 0.0, 0.0, 0.0, 0.0, 0.0, 0.0, 0.0, 0.0, 0.0, 0.0, 0.0, 0.0, 0.0, 0.0, 0.0, 0.0, 0.0, 0.0, 0.0, 0.0, 0.0, 0.0, 0.0, 0.0, 0.0, 0.0, 0.0, 0.0, 0.0, 0.0, 0.0, 0.0, 0.0, 0.0, 0.0, 0.0, 0.0, 0.0, 0.0, 0.0, 0.0, 0.0, 0.0, 0.0, 0.0, 0.0, 0.0, 0.0, 0.0, 0.0, 0.0, 0.0, 0.0, 0.0, 0.0, 0.0, 0.0, 0.0, 0.0, 0.0, 0.0, 0.0, 0.0, 0.0, 0.0, 0.0, 0.0, 0.0, 0.0, 0.0, 0.0, 0.0, 0.0, 6.44234, 6.44234, 6.44234, 6.44234, 6.44234, 6.44234, 0.0, 0.0, 0.0, 0.0, 0.0, 0.0, 0.0, 0.0, 0.0, 0.0, 0.0, 0.0, 0.0, 0.0, 0.0, 0.0, 0.0, 0.0, 0.0, 0.0, 0.0, 0.0, 0.0, 0.0, 0.0, 0.0, 0.0, 0.0, 0.0, 0.0, 0.0, 0.0, 0.0, 0.0, 0.0, 0.0, 0.0, 0.0, 0.0, 0.0, 0.0, 0.0, 0.0, 0.0, 0.0, 0.0, 0.0, 0.0, 0.0, 0.0, 0.0, 0.0, 0.0, 0.0, 0.0, 0.0, 0.0, 0.0, 0.0, 0.0, 0.0, 0.0, 0.0, 0.0, 0.0, 0.0, 0.0, 0.0, 0.0, 0.0, 0.0, 0.0, 0.0, 0.0, 0.0, 0.0, 0.0, 0.0, 0.0, 0.0, 0.0, 0.0, 0.0, 0.0, 0.0, 0.0, 0.0, 0.0, 0.0, 0.0, 7.610036, 4.414796, 4.090205, 4.090205, 4.090205, 4.090205, 4.090205, 4.090205, 0.0, 0.0, 0.0, 0.0, 0.0, 0.0, 0.0, 0.0, 0.0, 0.0, 0.0, 0.0, 0.0, 0.0, 0.0, 0.0, 0.0, 0.0, 0.0, 0.0, 0.0, 0.0, 0.0, 0.0, 0.0, 0.0, 0.0, 0.0, 0.0, 0.0, 0.0, 0.0, 0.0, 0.0, 0.0, 0.0, 0.0, 0.0, 0.0, 0.0, 0.0, 0.0, 0.0, 0.0, 0.0, 0.0, 0.0, 0.0, 0.0, 0.0, 0.0, 0.0, 0.0, 0.0, 0.0, 0.0, 0.0, 0.0, 0.0, 0.0, 0.0, 0.0, 0.0, 0.0, 0.0, 0.0, 0.0, 0.0, 0.0, 0.0, 0.0, 0.0, 0.0, 0.0, 0.0, 0.0, 0.0, 0.0, 0.0, 0.0, 0.0, 0.0, 0.0, 0.0, 0.0, 0.0, 0.0, 0.0, 0.0, 0.0, 0.0, 0.0, 0.0, 0.0, 0.0, 0.0, 0.0, 0.0, 0.0, 0.0, 0.0, 0.0, 0.0, 0.0, 0.0, 0.0, 6.485229, 6.449457, 6.450738, 6.450738, 6.450738, 6.450738, 0.0, 0.0, 0.0, 0.0, 0.0, 0.0, 0.0, 0.0, 0.0, 0.0, 0.0, 0.0, 0.0, 0.0, 0.0, 0.0, 0.0, 0.0, 0.0, 0.0, 0.0, 0.0, 0.0, 0.0, 0.0, 0.0, 0.0, 0.0, 0.0, 0.0, 0.0, 0.0, 0.0, 0.0, 0.0, 0.0, 0.0, 0.0, 0.0, 56.893351, 56.429082, 56.439366, 56.48738, 56.450496, 56.557921, 56.529098, 56.522022, 56.541313, 56.425583, 56.38522, 56.502904, 56.508069, 56.445998, 56.494819, 56.454247, 56.539192, 56.532949, 56.532777, 56.504481, 56.517037, 56.233002, 56.561978, 56.544069, 56.52988, 56.521603, 56.503039, 56.549561, 56.549561, 56.549561, 56.549561, 56.507561, 56.504738, 56.495345, 56.479992, 56.410144, 56.438403, 56.459208, 56.433275, 56.447022, 56.402723, 56.371746, 56.493603, 56.522205, 56.463928, 56.398479, 56.474485, 56.405134, 56.41881, 56.485657, 56.459746, 56.388452, 56.405781, 56.440974, 56.377505, 56.479189, 0.0, 0.0, 11.715982, 10.450747, 10.625909, 10.577689, 10.651112, 10.531458, 10.414762, 10.557265, 10.630468, 10.651076, 10.67768, 0.0, 0.0, 0.0, 0.0, 0.0, 0.0, 0.0, 0.0, 0.0, 0.0, 0.0, 0.0, 0.0, 0.0, 0.0, 0.0, 0.0, 0.0, 0.0, 0.0, 0.0, 0.0, 0.0, 0.0, 0.0, 0.0, 0.0, 0.0, 0.0, 0.0, 0.0, 0.0, 0.0, 0.0, 0.0, 0.0, 0.0, 0.0, 0.0, 0.0, 0.0, 0.0, 0.0, 0.0, 0.0, 0.0, 0.0, 0.0, 0.0, 0.0, 0.0, 0.0, 0.0, 0.0, 0.0, 0.0, 1.800852, 1.797905, 1.802157, 1.797858, 1.804783, 1.804783, 1.802108, 1.800737, 1.800657, 0.0, 0.0, 0.0, 0.0, 0.0, 0.0, 0.0, 0.0, 0.0, 0.0, 0.0, 0.0, 0.0, 0.0, 0.0, 0.0, 0.0, 0.0, 0.0, 0.0, 0.0, 0.0, 0.0, 0.0, 0.0, 0.0, 0.0, 0.0, 0.0, 0.0, 0.0, 0.0, 0.0, 0.0, 0.0, 0.0, 0.0, 0.0, 0.0, 0.0, 0.0, 0.0, 0.0, 0.0, 0.0, 0.0, 0.0, 0.0, 0.0, 0.0, 0.0, 0.0, 0.0, 0.0, 0.0, 5.849732, 5.850171, 5.850085, 5.849023, 5.850929, 5.850565, 5.850084, 0.0, 0.0, 0.0, 0.0, 0.0, 0.0, 0.0, 0.0, 0.0, 0.0, 0.0, 0.0, 0.0, 0.0, 0.0, 0.0, 0.0, 0.0, 0.0, 0.0, 0.0, 0.0, 0.0, 0.0, 0.0, 0.0, 0.0, 0.0, 0.0, 0.0, 0.0, 0.0, 0.0, 0.0, 0.0, 0.0, 0.0, 0.0, 0.0, 0.0, 0.0, 0.0, 0.0, 0.0, 0.0, 0.0, 0.0, 0.0, 0.0, 0.0, 0.0, 0.0, 0.0, 0.0, 0.0, 0.0, 0.0, 0.0, 0.0, 0.0, 0.0, 0.0, 0.0, 0.0, 0.0, 0.0, 0.0, 0.0, 0.0, 0.0, 0.0, 0.0, 0.0, 0.0, 0.0, 0.0, 0.0, 0.0, 0.0, 0.0, 0.0, 0.0, 0.0, 0.0, 0.0, 0.0, 0.0, 0.0, 0.0, 0.0, 0.0, 0.0, 0.0, 0.0, 0.0, 0.0, 0.0, 0.0, 0.0, 0.0, 0.0, 0.0, 0.0, 0.0, 0.0, 0.0, 0.0, 0.0, 0.0, 0.0, 0.0, 0.0, 0.0, 0.0, 0.0, 0.0, 0.0, 0.0, 0.0, 0.0, 0.0, 0.0, 0.0, 0.0, 0.0, 0.0, 0.0, 0.0, 0.0, 0.0, 0.0, 0.0, 4.084956, 4.084956, 4.084956, 4.084956, 4.084956, 4.084956, 4.091624, 0.0, 0.0, 0.0, 0.0, 0.0, 0.0, 0.0, 0.0, 0.0, 0.0, 0.0, 0.0, 0.0, 0.0, 0.0, 0.0, 0.0, 0.0, 0.0, 0.0, 0.0, 0.0, 0.0, 0.0, 0.0, 0.0, 0.0, 0.0, 0.0, 0.0, 0.0, 0.0, 0.0, 0.0, 0.0, 0.0, 0.0, 0.0, 0.0, 0.0, 0.0, 0.0, 0.0, 0.0, 0.0, 0.0, 0.0, 0.0, 0.0, 0.0, 0.0, 0.0, 0.0, 0.0, 0.0, 0.0, 0.0, 0.0, 0.0, 0.0, 0.0, 0.0, 0.0, 0.0, 0.0, 0.0, 0.0, 0.0, 0.0, 0.0, 0.0, 0.0, 0.0, 0.0, 0.0, 0.0, 0.0, 0.0, 0.0, 0.0, 0.0, 0.0, 8.874834, 8.874834, 6.447785, 6.449053, 6.447275, 6.447275, 6.447275, 6.448699, 6.448699, 6.448699, 6.449106, 6.449106, 6.449106, 0.0, 0.0, 0.0, 0.0, 0.0, 0.0, 0.0, 0.0, 0.0, 0.0, 0.0, 0.0, 0.0, 0.0, 0.0, 0.0, 0.0, 0.0, 0.0, 0.0, 0.0, 0.0, 0.0, 0.0, 0.0, 0.0, 0.0, 0.0, 0.0, 0.0, 0.0, 0.0, 0.0, 0.0, 0.0, 0.0, 0.0, 0.0, 0.0, 0.0, 0.0, 0.0, 0.0, 0.0, 0.0, 0.0, 0.0, 0.0, 0.0, 0.0, 0.0, 0.0, 0.0, 0.0, 0.0, 0.0, 0.0, 0.0, 0.0, 0.0, 0.0, 0.0, 0.0, 0.0, 0.0, 0.0, 0.0, 0.0, 0.0, 0.0, 0.0, 0.0, 0.0, 0.0, 0.0, 0.0, 0.0, 0.0, 0.0, 0.0, 0.0, 0.0, 0.0, 0.0, 0.0, 0.0, 0.0, 0.0, 0.0, 4.095871, 4.095871, 4.095871, 4.095871, 4.095871, 4.095871, 4.095871, 0.0, 0.0, 0.0, 0.0, 0.0, 0.0, 0.0, 0.0, 0.0, 0.0, 0.0, 0.0, 0.0, 0.0, 0.0, 0.0, 0.0, 0.0, 0.0, 0.0, 0.0, 0.0, 0.0, 0.0, 0.0, 0.0, 0.0, 0.0, 0.0, 0.0, 0.0, 0.0, 0.0, 0.0, 0.0, 0.0, 0.0, 0.0, 0.0, 0.0, 0.0, 0.0, 0.0, 0.0, 0.0, 0.0, 0.0, 0.0, 0.0, 0.0, 0.0, 0.0, 0.0, 0.0, 0.0, 0.0, 0.0, 0.0, 0.0, 0.0, 0.0, 0.0, 0.0, 0.0, 0.0, 0.0, 0.0, 0.0, 0.0, 0.0, 0.0, 0.0, 0.0, 0.0, 0.0, 0.0, 0.0, 0.0, 0.0, 0.0, 0.0, 0.0, 0.0, 0.0, 0.0, 0.0, 0.0, 0.0, 0.0, 6.452525, 6.450539, 6.450539, 6.450121, 6.449433, 6.450843, 0.0, 0.0, 0.0, 0.0, 0.0, 0.0, 0.0, 0.0, 0.0, 0.0, 0.0, 0.0, 0.0, 0.0, 0.0, 0.0, 0.0, 0.0, 0.0, 0.0, 0.0, 0.0, 0.0, 0.0, 0.0, 0.0, 0.0, 0.0, 0.0, 0.0, 0.0, 0.0, 0.0, 0.0, 0.0, 0.0, 0.0, 0.0, 0.0, 0.0, 0.0, 0.0, 0.0, 10.805934, 10.883373, 10.876717, 10.747952, 10.802994, 0.0, 0.0, 0.0, 0.0, 0.0, 0.0, 0.0, 0.0, 0.0, 0.0, 0.0, 0.0, 0.0, 0.0, 0.0, 0.0, 0.0, 0.0, 0.0, 0.0, 0.0, 0.0, 0.0, 0.0, 0.0, 0.0, 0.0, 0.0, 0.0, 0.0, 0.0, 0.0, 0.0, 0.0, 0.0, 0.0, 0.0, 0.0, 0.0, 0.0, 0.0, 0.0, 0.0, 0.0, 0.0, 0.0, 0.0, 0.0, 0.0, 0.0, 0.0, 0.0, 0.0, 0.0, 0.0], \"sizemode\": \"area\", \"sizeref\": 0.1422333775}, \"name\": \"\", \"showlegend\": false, \"type\": \"scattergeo\"}],\n",
              "                        {\"geo\": {\"center\": {}, \"domain\": {\"x\": [0.0, 1.0], \"y\": [0.0, 1.0]}}, \"legend\": {\"itemsizing\": \"constant\", \"tracegroupgap\": 0}, \"margin\": {\"t\": 60}, \"template\": {\"data\": {\"bar\": [{\"error_x\": {\"color\": \"#2a3f5f\"}, \"error_y\": {\"color\": \"#2a3f5f\"}, \"marker\": {\"line\": {\"color\": \"#E5ECF6\", \"width\": 0.5}}, \"type\": \"bar\"}], \"barpolar\": [{\"marker\": {\"line\": {\"color\": \"#E5ECF6\", \"width\": 0.5}}, \"type\": \"barpolar\"}], \"carpet\": [{\"aaxis\": {\"endlinecolor\": \"#2a3f5f\", \"gridcolor\": \"white\", \"linecolor\": \"white\", \"minorgridcolor\": \"white\", \"startlinecolor\": \"#2a3f5f\"}, \"baxis\": {\"endlinecolor\": \"#2a3f5f\", \"gridcolor\": \"white\", \"linecolor\": \"white\", \"minorgridcolor\": \"white\", \"startlinecolor\": \"#2a3f5f\"}, \"type\": \"carpet\"}], \"choropleth\": [{\"colorbar\": {\"outlinewidth\": 0, \"ticks\": \"\"}, \"type\": \"choropleth\"}], \"contour\": [{\"colorbar\": {\"outlinewidth\": 0, \"ticks\": \"\"}, \"colorscale\": [[0.0, \"#0d0887\"], [0.1111111111111111, \"#46039f\"], [0.2222222222222222, \"#7201a8\"], [0.3333333333333333, \"#9c179e\"], [0.4444444444444444, \"#bd3786\"], [0.5555555555555556, \"#d8576b\"], [0.6666666666666666, \"#ed7953\"], [0.7777777777777778, \"#fb9f3a\"], [0.8888888888888888, \"#fdca26\"], [1.0, \"#f0f921\"]], \"type\": \"contour\"}], \"contourcarpet\": [{\"colorbar\": {\"outlinewidth\": 0, \"ticks\": \"\"}, \"type\": \"contourcarpet\"}], \"heatmap\": [{\"colorbar\": {\"outlinewidth\": 0, \"ticks\": \"\"}, \"colorscale\": [[0.0, \"#0d0887\"], [0.1111111111111111, \"#46039f\"], [0.2222222222222222, \"#7201a8\"], [0.3333333333333333, \"#9c179e\"], [0.4444444444444444, \"#bd3786\"], [0.5555555555555556, \"#d8576b\"], [0.6666666666666666, \"#ed7953\"], [0.7777777777777778, \"#fb9f3a\"], [0.8888888888888888, \"#fdca26\"], [1.0, \"#f0f921\"]], \"type\": \"heatmap\"}], \"heatmapgl\": [{\"colorbar\": {\"outlinewidth\": 0, \"ticks\": \"\"}, \"colorscale\": [[0.0, \"#0d0887\"], [0.1111111111111111, \"#46039f\"], [0.2222222222222222, \"#7201a8\"], [0.3333333333333333, \"#9c179e\"], [0.4444444444444444, \"#bd3786\"], [0.5555555555555556, \"#d8576b\"], [0.6666666666666666, \"#ed7953\"], [0.7777777777777778, \"#fb9f3a\"], [0.8888888888888888, \"#fdca26\"], [1.0, \"#f0f921\"]], \"type\": \"heatmapgl\"}], \"histogram\": [{\"marker\": {\"colorbar\": {\"outlinewidth\": 0, \"ticks\": \"\"}}, \"type\": \"histogram\"}], \"histogram2d\": [{\"colorbar\": {\"outlinewidth\": 0, \"ticks\": \"\"}, \"colorscale\": [[0.0, \"#0d0887\"], [0.1111111111111111, \"#46039f\"], [0.2222222222222222, \"#7201a8\"], [0.3333333333333333, \"#9c179e\"], [0.4444444444444444, \"#bd3786\"], [0.5555555555555556, \"#d8576b\"], [0.6666666666666666, \"#ed7953\"], [0.7777777777777778, \"#fb9f3a\"], [0.8888888888888888, \"#fdca26\"], [1.0, \"#f0f921\"]], \"type\": \"histogram2d\"}], \"histogram2dcontour\": [{\"colorbar\": {\"outlinewidth\": 0, \"ticks\": \"\"}, \"colorscale\": [[0.0, \"#0d0887\"], [0.1111111111111111, \"#46039f\"], [0.2222222222222222, \"#7201a8\"], [0.3333333333333333, \"#9c179e\"], [0.4444444444444444, \"#bd3786\"], [0.5555555555555556, \"#d8576b\"], [0.6666666666666666, \"#ed7953\"], [0.7777777777777778, \"#fb9f3a\"], [0.8888888888888888, \"#fdca26\"], [1.0, \"#f0f921\"]], \"type\": \"histogram2dcontour\"}], \"mesh3d\": [{\"colorbar\": {\"outlinewidth\": 0, \"ticks\": \"\"}, \"type\": \"mesh3d\"}], \"parcoords\": [{\"line\": {\"colorbar\": {\"outlinewidth\": 0, \"ticks\": \"\"}}, \"type\": \"parcoords\"}], \"pie\": [{\"automargin\": true, \"type\": \"pie\"}], \"scatter\": [{\"marker\": {\"colorbar\": {\"outlinewidth\": 0, \"ticks\": \"\"}}, \"type\": \"scatter\"}], \"scatter3d\": [{\"line\": {\"colorbar\": {\"outlinewidth\": 0, \"ticks\": \"\"}}, \"marker\": {\"colorbar\": {\"outlinewidth\": 0, \"ticks\": \"\"}}, \"type\": \"scatter3d\"}], \"scattercarpet\": [{\"marker\": {\"colorbar\": {\"outlinewidth\": 0, \"ticks\": \"\"}}, \"type\": \"scattercarpet\"}], \"scattergeo\": [{\"marker\": {\"colorbar\": {\"outlinewidth\": 0, \"ticks\": \"\"}}, \"type\": \"scattergeo\"}], \"scattergl\": [{\"marker\": {\"colorbar\": {\"outlinewidth\": 0, \"ticks\": \"\"}}, \"type\": \"scattergl\"}], \"scattermapbox\": [{\"marker\": {\"colorbar\": {\"outlinewidth\": 0, \"ticks\": \"\"}}, \"type\": \"scattermapbox\"}], \"scatterpolar\": [{\"marker\": {\"colorbar\": {\"outlinewidth\": 0, \"ticks\": \"\"}}, \"type\": \"scatterpolar\"}], \"scatterpolargl\": [{\"marker\": {\"colorbar\": {\"outlinewidth\": 0, \"ticks\": \"\"}}, \"type\": \"scatterpolargl\"}], \"scatterternary\": [{\"marker\": {\"colorbar\": {\"outlinewidth\": 0, \"ticks\": \"\"}}, \"type\": \"scatterternary\"}], \"surface\": [{\"colorbar\": {\"outlinewidth\": 0, \"ticks\": \"\"}, \"colorscale\": [[0.0, \"#0d0887\"], [0.1111111111111111, \"#46039f\"], [0.2222222222222222, \"#7201a8\"], [0.3333333333333333, \"#9c179e\"], [0.4444444444444444, \"#bd3786\"], [0.5555555555555556, \"#d8576b\"], [0.6666666666666666, \"#ed7953\"], [0.7777777777777778, \"#fb9f3a\"], [0.8888888888888888, \"#fdca26\"], [1.0, \"#f0f921\"]], \"type\": \"surface\"}], \"table\": [{\"cells\": {\"fill\": {\"color\": \"#EBF0F8\"}, \"line\": {\"color\": \"white\"}}, \"header\": {\"fill\": {\"color\": \"#C8D4E3\"}, \"line\": {\"color\": \"white\"}}, \"type\": \"table\"}]}, \"layout\": {\"annotationdefaults\": {\"arrowcolor\": \"#2a3f5f\", \"arrowhead\": 0, \"arrowwidth\": 1}, \"coloraxis\": {\"colorbar\": {\"outlinewidth\": 0, \"ticks\": \"\"}}, \"colorscale\": {\"diverging\": [[0, \"#8e0152\"], [0.1, \"#c51b7d\"], [0.2, \"#de77ae\"], [0.3, \"#f1b6da\"], [0.4, \"#fde0ef\"], [0.5, \"#f7f7f7\"], [0.6, \"#e6f5d0\"], [0.7, \"#b8e186\"], [0.8, \"#7fbc41\"], [0.9, \"#4d9221\"], [1, \"#276419\"]], \"sequential\": [[0.0, \"#0d0887\"], [0.1111111111111111, \"#46039f\"], [0.2222222222222222, \"#7201a8\"], [0.3333333333333333, \"#9c179e\"], [0.4444444444444444, \"#bd3786\"], [0.5555555555555556, \"#d8576b\"], [0.6666666666666666, \"#ed7953\"], [0.7777777777777778, \"#fb9f3a\"], [0.8888888888888888, \"#fdca26\"], [1.0, \"#f0f921\"]], \"sequentialminus\": [[0.0, \"#0d0887\"], [0.1111111111111111, \"#46039f\"], [0.2222222222222222, \"#7201a8\"], [0.3333333333333333, \"#9c179e\"], [0.4444444444444444, \"#bd3786\"], [0.5555555555555556, \"#d8576b\"], [0.6666666666666666, \"#ed7953\"], [0.7777777777777778, \"#fb9f3a\"], [0.8888888888888888, \"#fdca26\"], [1.0, \"#f0f921\"]]}, \"colorway\": [\"#636efa\", \"#EF553B\", \"#00cc96\", \"#ab63fa\", \"#FFA15A\", \"#19d3f3\", \"#FF6692\", \"#B6E880\", \"#FF97FF\", \"#FECB52\"], \"font\": {\"color\": \"#2a3f5f\"}, \"geo\": {\"bgcolor\": \"white\", \"lakecolor\": \"white\", \"landcolor\": \"#E5ECF6\", \"showlakes\": true, \"showland\": true, \"subunitcolor\": \"white\"}, \"hoverlabel\": {\"align\": \"left\"}, \"hovermode\": \"closest\", \"mapbox\": {\"style\": \"light\"}, \"paper_bgcolor\": \"white\", \"plot_bgcolor\": \"#E5ECF6\", \"polar\": {\"angularaxis\": {\"gridcolor\": \"white\", \"linecolor\": \"white\", \"ticks\": \"\"}, \"bgcolor\": \"#E5ECF6\", \"radialaxis\": {\"gridcolor\": \"white\", \"linecolor\": \"white\", \"ticks\": \"\"}}, \"scene\": {\"xaxis\": {\"backgroundcolor\": \"#E5ECF6\", \"gridcolor\": \"white\", \"gridwidth\": 2, \"linecolor\": \"white\", \"showbackground\": true, \"ticks\": \"\", \"zerolinecolor\": \"white\"}, \"yaxis\": {\"backgroundcolor\": \"#E5ECF6\", \"gridcolor\": \"white\", \"gridwidth\": 2, \"linecolor\": \"white\", \"showbackground\": true, \"ticks\": \"\", \"zerolinecolor\": \"white\"}, \"zaxis\": {\"backgroundcolor\": \"#E5ECF6\", \"gridcolor\": \"white\", \"gridwidth\": 2, \"linecolor\": \"white\", \"showbackground\": true, \"ticks\": \"\", \"zerolinecolor\": \"white\"}}, \"shapedefaults\": {\"line\": {\"color\": \"#2a3f5f\"}}, \"ternary\": {\"aaxis\": {\"gridcolor\": \"white\", \"linecolor\": \"white\", \"ticks\": \"\"}, \"baxis\": {\"gridcolor\": \"white\", \"linecolor\": \"white\", \"ticks\": \"\"}, \"bgcolor\": \"#E5ECF6\", \"caxis\": {\"gridcolor\": \"white\", \"linecolor\": \"white\", \"ticks\": \"\"}}, \"title\": {\"x\": 0.05}, \"xaxis\": {\"automargin\": true, \"gridcolor\": \"white\", \"linecolor\": \"white\", \"ticks\": \"\", \"title\": {\"standoff\": 15}, \"zerolinecolor\": \"white\", \"zerolinewidth\": 2}, \"yaxis\": {\"automargin\": true, \"gridcolor\": \"white\", \"linecolor\": \"white\", \"ticks\": \"\", \"title\": {\"standoff\": 15}, \"zerolinecolor\": \"white\", \"zerolinewidth\": 2}}}},\n",
              "                        {\"responsive\": true}\n",
              "                    ).then(function(){\n",
              "                            \n",
              "var gd = document.getElementById('a7c4538d-e851-457d-b142-a707ab540f41');\n",
              "var x = new MutationObserver(function (mutations, observer) {{\n",
              "        var display = window.getComputedStyle(gd).display;\n",
              "        if (!display || display === 'none') {{\n",
              "            console.log([gd, 'removed!']);\n",
              "            Plotly.purge(gd);\n",
              "            observer.disconnect();\n",
              "        }}\n",
              "}});\n",
              "\n",
              "// Listen for the removal of the full notebook cells\n",
              "var notebookContainer = gd.closest('#notebook-container');\n",
              "if (notebookContainer) {{\n",
              "    x.observe(notebookContainer, {childList: true});\n",
              "}}\n",
              "\n",
              "// Listen for the clearing of the current output cell\n",
              "var outputEl = gd.closest('.output');\n",
              "if (outputEl) {{\n",
              "    x.observe(outputEl, {childList: true});\n",
              "}}\n",
              "\n",
              "                        })\n",
              "                };\n",
              "                \n",
              "            </script>\n",
              "        </div>\n",
              "</body>\n",
              "</html>"
            ]
          },
          "metadata": {
            "tags": []
          }
        }
      ]
    },
    {
      "cell_type": "code",
      "metadata": {
        "id": "MnaJpiELRKK4"
      },
      "source": [
        "# submissions\n",
        "\n",
        "voyages = pd.DataFrame(columns= ['vessel', 'begin_date', 'end_date', 'begin_port_id', 'end_port_id'])\n",
        "predict = pd.DataFrame(columns= ['vessel', 'begin_port_id', 'end_port_id', 'voyage'])"
      ],
      "execution_count": 31,
      "outputs": []
    }
  ]
}