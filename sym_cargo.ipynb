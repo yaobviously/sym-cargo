{
  "nbformat": 4,
  "nbformat_minor": 0,
  "metadata": {
    "colab": {
      "name": "sym_cargo.ipynb",
      "provenance": [],
      "collapsed_sections": [],
      "mount_file_id": "1bTzsC2_o8Jg772hCJWDRqrHnkqeQuRQx",
      "authorship_tag": "ABX9TyO0x9IgdLI/LO70g9N5No1k",
      "include_colab_link": true
    },
    "kernelspec": {
      "display_name": "Python 3",
      "name": "python3"
    },
    "language_info": {
      "name": "python"
    }
  },
  "cells": [
    {
      "cell_type": "markdown",
      "metadata": {
        "id": "view-in-github",
        "colab_type": "text"
      },
      "source": [
        "<a href=\"https://colab.research.google.com/github/yaobviously/sym-cargo/blob/main/sym_cargo.ipynb\" target=\"_parent\"><img src=\"https://colab.research.google.com/assets/colab-badge.svg\" alt=\"Open In Colab\"/></a>"
      ]
    },
    {
      "cell_type": "code",
      "metadata": {
        "id": "TRudeILZCNAh"
      },
      "source": [
        "!pip install plotly-express --quiet\n",
        "!pip install vincenty --quiet"
      ],
      "execution_count": 27,
      "outputs": []
    },
    {
      "cell_type": "code",
      "metadata": {
        "id": "KFygxcBXBsUT"
      },
      "source": [
        "import pandas as pd\n",
        "import numpy as np\n",
        "import matplotlib.pyplot as plt\n",
        "import seaborn as sns\n",
        "from xgboost import XGBClassifier\n",
        "from sklearn.preprocessing import OneHotEncoder\n",
        "from vincenty import vincenty\n",
        "from sklearn.cluster import DBSCAN\n",
        "from sklearn.neighbors import NearestNeighbors\n",
        "import plotly_express as px"
      ],
      "execution_count": 28,
      "outputs": []
    },
    {
      "cell_type": "code",
      "metadata": {
        "id": "ERdgnPI_B8xV"
      },
      "source": [
        "port_file = '/content/drive/MyDrive/Ports/ports.csv'\n",
        "tracking_file = '/content/drive/MyDrive/Ports/tracking.csv'"
      ],
      "execution_count": 3,
      "outputs": []
    },
    {
      "cell_type": "code",
      "metadata": {
        "id": "VGQ3oW9dCGF6"
      },
      "source": [
        "def wrangle():\n",
        "  \n",
        "  df1 = pd.read_csv(port_file)\n",
        "\n",
        "  # converting lat and long to radians to compute haversine distance\n",
        "  df1['lat_rad'] = np.radians(df1['lat'])\n",
        "  df1['long_rad'] = np.radians(df1['long'])\n",
        "  \n",
        "  # rounding lat and long in port df\n",
        "  df1['lat'] = df1['lat'].round(1)\n",
        "  df1['long'] = df1['long'].round(1)\n",
        "\n",
        "  df2 = pd.read_csv(tracking_file, parse_dates=['datetime'])\n",
        "  df2 = df2.drop_duplicates()\n",
        "  df2 = df2.sort_values(['vessel', 'datetime'])\n",
        "  df2['vessel_1back'] = df2['vessel'].shift()\n",
        "  \n",
        "  # converting lat and long to radians to compute haversine distance  \n",
        "  df2['lat_rad'] = np.radians(df2['lat'])\n",
        "  df2['long_rad'] = np.radians(df2['long'])\n",
        "\n",
        "  # adding lat/long column and lat/long 1 back to later compute delta\n",
        "  df2['lat_long'] = [[x,y] for x, y in zip(df2['lat'], df2['long'])]\n",
        "  df2['lat_long_1back'] = df2.groupby('vessel')['lat_long'].transform(lambda x: x.shift())   \n",
        "  \n",
        "  # time deltas to compute impossible distances travelled\n",
        "  df2['time_delta'] = df2.groupby('vessel')['datetime'].transform(lambda x: x - x.shift(1))\n",
        "  df2['hour_delta'] = df2['time_delta'].apply(lambda x: x.seconds / 3600)\n",
        "\n",
        "  # filtering using query to eliminate unneeded/impossible values\n",
        "  df2 = df2.query('hour_delta > 0.25 & speed <30 & heading <=360')\n",
        "  df2 = df2.reset_index(drop=True)\n",
        "\n",
        "  return df1, df2"
      ],
      "execution_count": 4,
      "outputs": []
    },
    {
      "cell_type": "code",
      "metadata": {
        "id": "jZJrWQ6eCIqV"
      },
      "source": [
        "df1, df2 = wrangle()"
      ],
      "execution_count": 5,
      "outputs": []
    },
    {
      "cell_type": "code",
      "metadata": {
        "id": "TbHcYBVQcWst"
      },
      "source": [
        "df2['vin_diff'] = df2.apply(vincent_distance, axis=1)\n",
        "df2['vin_per_hour'] = df2['vin_diff'] / df2['hour_delta']\n",
        "df2 = df2.query('vin_per_hour <= 50')"
      ],
      "execution_count": 23,
      "outputs": []
    },
    {
      "cell_type": "code",
      "metadata": {
        "colab": {
          "base_uri": "https://localhost:8080/"
        },
        "id": "E0AxcUN1sd2S",
        "outputId": "b7eaea4c-414b-4b0f-a95f-b9494136d462"
      },
      "source": [
        ""
      ],
      "execution_count": 26,
      "outputs": [
        {
          "output_type": "execute_result",
          "data": {
            "text/plain": [
              "49.90867685931024"
            ]
          },
          "metadata": {
            "tags": []
          },
          "execution_count": 26
        }
      ]
    },
    {
      "cell_type": "code",
      "metadata": {
        "colab": {
          "base_uri": "https://localhost:8080/"
        },
        "id": "d3Z6IPU9rfNz",
        "outputId": "12d2266b-3382-4e9c-a17d-a98982970827"
      },
      "source": [
        "df2[df2['hour_diff'] <0.25].shape"
      ],
      "execution_count": 213,
      "outputs": [
        {
          "output_type": "execute_result",
          "data": {
            "text/plain": [
              "(27741, 16)"
            ]
          },
          "metadata": {
            "tags": []
          },
          "execution_count": 213
        }
      ]
    },
    {
      "cell_type": "code",
      "metadata": {
        "id": "B1P_JxyybKHc"
      },
      "source": [
        "# creating a dictionary of ports with their lat and longs - will be used to\n",
        "# repeatedly to explore data and assign values\n",
        "\n",
        "ports = {port:(lat, long) for port, lat, long in zip(df1['port'], df1['lat'], df1['long'])}\n",
        "\n",
        "# a dictionary to retrieve the port id from the index\n",
        "idx_ports = {idx:port for idx, port in zip(df1.index, df1.port)}"
      ],
      "execution_count": 11,
      "outputs": []
    },
    {
      "cell_type": "code",
      "metadata": {
        "colab": {
          "base_uri": "https://localhost:8080/"
        },
        "id": "8Rg5F1xcTElh",
        "outputId": "0273dde4-df30-47a2-ee4b-611fc7531a74"
      },
      "source": [
        "# training a nearest neighbor model to  find the closest port when the \n",
        "# conditions indicating an extended stop have occurred. the metric is haversine\n",
        "# in order to compute the 'great circle' distance. so i don't forget, the model\n",
        "# returns the *index* of the port, not the port's identifying label\n",
        "\n",
        "ports_train = df1[['lat_rad', 'long_rad']]\n",
        "\n",
        "neigh_ports = NearestNeighbors(n_neighbors=3, algorithm='ball_tree', metric='haversine')\n",
        "neigh_ports.fit(ports_train)\n",
        "\n",
        "dist, n = neigh_ports.kneighbors(np.array([0.677565, 0.469731]).reshape(1,-1))\n",
        "\n",
        "print(dist[0] * 6370)\n",
        "print([idx_ports[n] for n in n[0]])"
      ],
      "execution_count": 12,
      "outputs": [
        {
          "output_type": "stream",
          "text": [
            "[  3.30931026  46.44757565 255.13837716]\n",
            "[82, 113, 44]\n"
          ],
          "name": "stdout"
        }
      ]
    },
    {
      "cell_type": "code",
      "metadata": {
        "id": "YC92dd_FI7MT"
      },
      "source": [
        "def nearest_port(df, radius=0.0085):\n",
        "  \"\"\"\n",
        "  returns the port identifier of the nearest port using the nearest neighbors\n",
        "  model \n",
        "  \"\"\"\n",
        "\n",
        "  data = np.array([df['lat_rad'], df['long_rad']]).reshape(1, -1)\n",
        "  dist, pred = neigh_ports.radius_neighbors(data, radius=radius, sort_results = True) \n",
        "\n",
        "  if len(dist[0]) == 0:\n",
        "    return -1\n",
        "  \n",
        "  else:\n",
        "    return idx_ports[pred[0][0]]"
      ],
      "execution_count": 75,
      "outputs": []
    },
    {
      "cell_type": "code",
      "metadata": {
        "id": "t2cHgfSNZbx2"
      },
      "source": [
        "def nearest_distance(df, radius=0.0085):\n",
        "  \"\"\"\n",
        "  returns the distance of the nearest port in the dataset\n",
        "  \"\"\"\n",
        "  \n",
        "  data = np.array([df['lat_rad'], df['long_rad']]).reshape(1, -1)\n",
        "  dist, pred = neigh_ports.radius_neighbors(data, radius=radius, sort_results = True) \n",
        "\n",
        "  if len(dist[0]) == 0:\n",
        "    return -1\n",
        "  \n",
        "  else:\n",
        "    return dist[0][0]\n"
      ],
      "execution_count": 76,
      "outputs": []
    },
    {
      "cell_type": "code",
      "metadata": {
        "id": "3tL74j_2a7LR"
      },
      "source": [
        "def vincent_distance(row):\n",
        "  \"\"\" \n",
        "  returns the vincenty distance for contiguous rows - will be used to identify\n",
        "  impossible distances travelled, and so on. could be used to create distance\n",
        "  matrix, but this may not be worthwhile \n",
        "  \"\"\"\n",
        "  if row['vessel'] != row['vessel_1back']:\n",
        "    return -99\n",
        "\n",
        "  loc1 = row['lat_long']\n",
        "  loc2 = row['lat_long_1back']\n",
        "\n",
        "  try:\n",
        "    distance = vincenty(loc1, loc2)\n",
        "    return distance\n",
        "  except:\n",
        "    return -99"
      ],
      "execution_count": 6,
      "outputs": []
    },
    {
      "cell_type": "code",
      "metadata": {
        "id": "KoYZuM6lqJIa"
      },
      "source": [
        "def vincenty_port(row):\n",
        "  \"\"\"\n",
        "  a function that computes the vincenty distance between the assigned port\n",
        "  and the latitude and longitude of the location data. \n",
        "  \"\"\"\n",
        "  port = row['port_coords']\n",
        "  loc = row['lat_long']\n",
        "  return vincenty(port, loc)"
      ],
      "execution_count": 16,
      "outputs": []
    },
    {
      "cell_type": "code",
      "metadata": {
        "id": "gzAcp84JXkAw"
      },
      "source": [
        "# calculating the minimum and maximum vincenty distances from ports and \n",
        "# storing the values in a dictionary. it may prove useful when distinguishing\n",
        "# between 'in port' and 'waiting around to enter the port'\n",
        "\n",
        "# port_dist = {}\n",
        "\n",
        "# for port in port_ds.keys():\n",
        "#   max_vincenty = port_ds[port]['vdist_port'].max()\n",
        "#   min_vincenty = port_ds[port]['vdist_port'].min()\n",
        "#   port_dist[port] = [max_vincenty, min_vincenty]"
      ],
      "execution_count": null,
      "outputs": []
    },
    {
      "cell_type": "code",
      "metadata": {
        "id": "TxCo8-h_g9E8"
      },
      "source": [
        "def assign_ports(df):\n",
        "  \"\"\"\n",
        "  a function that prepares a dataframe for predictions\n",
        "\n",
        "  Parameters:\n",
        "  ----------\n",
        "        df: pandas dataframe\n",
        "  \n",
        "  Returns:\n",
        "  -------\n",
        "        df: processed pandas dataframe\n",
        "\n",
        "  \"\"\"\n",
        "\n",
        "  # resampling the data to standardize time intervals\n",
        "  df = df.resample('4H').mean().ffill()\n",
        "  df['lat_rad'] = df['lat_rad'].resample('4H').median().ffill()\n",
        "  df['long_rad'] = df['long_rad'].resample('4H').median().ffill()\n",
        "  \n",
        "  # applying a mask to limit the rows the predict function is applied to\n",
        "  mask = df['speed'] <= 3.31\n",
        "  df_temp = df[mask]\n",
        "\n",
        "  df['pred_port'] = 0\n",
        "  df.loc[mask, 'pred_port'] = df_temp.apply(nearest_port, axis=1)  \n",
        "  df['port_coords'] = [list(ports[k]) if k in ports else -99 for k in df['pred_port']]\n",
        "  df['lat_long'] = [[x,y] for x, y in zip(df['lat'], df['long'])]\n",
        "\n",
        "  # applying a mask to limit the rows vincenty func is applied to\n",
        "  vin_mask = (df['pred_port'] > 0)\n",
        "  vin_temp = df[vin_mask]\n",
        "  \n",
        "  df['port_dist'] = 0\n",
        "  df.loc[vin_mask, 'port_dist'] = vin_temp.apply(vincenty_port, axis=1)\n",
        "\n",
        "  # eliminating entries in sequences where max distance greatly differs from min\n",
        "  # indicates 'waiting to enter port'\n",
        "  df['seq'] = df['pred_port'].diff().ne(0).cumsum()\n",
        "  df['seq_count'] = df.groupby('seq')['seq'].transform('count')\n",
        "  df['dist_diff'] = df.groupby('seq')['port_dist'].transform(lambda x: x - x.min())\n",
        "  df['pred_port'] = np.where(df['dist_diff'] >= 15, 0, df['pred_port'])         # 15km away from closest point this trip to the port \n",
        "  df['seq'] = df['pred_port'].diff().ne(0).cumsum()\n",
        "\n",
        "  # identifying draft changes indicating 'ports' that are not included in the\n",
        "  # ports .csv. without tagging voyages will be mislabelled\n",
        "  df['draft_delta'] = df['draft'].transform(lambda x: abs(x.diff(-1)).ge(0.5))\n",
        "  df['sum_draft_delta'] = df.groupby('seq')['draft_delta'].transform(sum)\n",
        "  \n",
        "  mask = ((df['pred_port'] == -1) & (df['sum_draft_delta'] >= 1) & \\\n",
        "          (df['seq_count'] >=4))                                                # indicates 16 hrs at the location - a minimum threshold for unknown 'ports'\n",
        "  \n",
        "  df['pred_port'] = np.where(mask, -75, df['pred_port'])\n",
        "\n",
        "  # recasting vessel and pred_port columns as integers\n",
        "  df[['vessel', 'pred_port']] = df[['vessel', 'pred_port']].astype(int)\n",
        "\n",
        "  return df"
      ],
      "execution_count": 17,
      "outputs": []
    },
    {
      "cell_type": "code",
      "metadata": {
        "id": "J9tCbNDQiRfQ"
      },
      "source": [
        "# creating a dictionary of vessel dataframes with a datetime index\n",
        "\n",
        "vessel_dfs = {}\n",
        "\n",
        "for vessel in df2.vessel.unique():\n",
        "  df_ = df2[df2['vessel'] == vessel]\n",
        "  vessel_dfs[vessel] = df_.set_index('datetime')\n",
        "\n",
        "# assigning ports to each dataframe\n",
        "processed_dfs = {f'vessel_{key}':assign_ports(vessel_dfs[key]) for key in vessel_dfs.keys()}"
      ],
      "execution_count": 18,
      "outputs": []
    },
    {
      "cell_type": "code",
      "metadata": {
        "id": "BDnoQ4hnfhce"
      },
      "source": [
        "def get_voyages(df):\n",
        "  \"\"\"\n",
        "  a function to convert the port sequences in each dataframe into voyages\n",
        "  with the proper formatting\n",
        "\n",
        "  Parameters:\n",
        "  ----------\n",
        "      df: pandas DataFrame\n",
        "  \n",
        "  Returns:\n",
        "  -------\n",
        "      df: processed pandas DataFrame\n",
        "      \n",
        "  \"\"\"\n",
        "  # filtering out columns without an assigned port\n",
        "  nz = df[(df['pred_port'] > 0) | (df['pred_port'] == -75)].reset_index()\n",
        "\n",
        "  vessel = nz['vessel'][0]\n",
        "  dt = nz['datetime']\n",
        "  pred = nz['pred_port']\n",
        "\n",
        "  records = []\n",
        "\n",
        "  for i in range(len(dt)-1):\n",
        "    if pred[i] != pred[i+1]:\n",
        "      start_port = pred[i]\n",
        "      end_port = pred[i+1]\n",
        "      begin_date = dt[i]\n",
        "      end_date = dt[i+1]\n",
        "      records.append([vessel, begin_date, end_date, start_port, end_port])\n",
        "\n",
        "  df = pd.DataFrame.from_records(records, columns = ['vessel', 'begin_date', 'end_date', 'begin_port_id', 'end_port_id'])\n",
        "  \n",
        "  return df"
      ],
      "execution_count": 19,
      "outputs": []
    },
    {
      "cell_type": "code",
      "metadata": {
        "id": "7SIs4v7TvD-a"
      },
      "source": [
        "voyages_df = pd.concat([get_voyages(processed_dfs[key]) for key in processed_dfs.keys()])\n",
        "voyages_df['len_voyage'] = voyages_df['end_date'] - voyages_df['begin_date']"
      ],
      "execution_count": 20,
      "outputs": []
    },
    {
      "cell_type": "code",
      "metadata": {
        "id": "kF-vL7n3WKGb"
      },
      "source": [
        "def prepare_data(df, n_input = 3):\n",
        "  \"\"\"\n",
        "  preparing the sequences for models. it was setup to be flexible but i chipped\n",
        "  away at it until it returned data for an xgboost \n",
        "  \"\"\"\n",
        "\n",
        "  df = get_voyages(df)\n",
        "  vessel = df['vessel'].iloc[0]\n",
        "  ports_ = np.array(df['begin_port_id'].append(pd.Series(df['end_port_id'].iloc[-1])))  \n",
        "\n",
        "  X = []\n",
        "  Y = []\n",
        "  start = 0\n",
        "\n",
        "  for i in range(len(ports_)):\n",
        "    last_input = start + n_input\n",
        "    last_output = last_input + 3\n",
        "    if last_output <= len(ports_):\n",
        "      x = ports_[start:last_input]\n",
        "      y = ports_[last_input: last_output]\n",
        "      X.append(x)\n",
        "      Y.append(y)\n",
        "      start += 1\n",
        "  try:\n",
        "    df = pd.concat([pd.DataFrame(X),\n",
        "                  pd.DataFrame(Y, columns=['port_1ahead', 'port_2ahead', 'port_3ahead'])], axis=1)\n",
        "    \n",
        "  except:\n",
        "    df = pd.DataFrame()\n",
        "    \n",
        "  # X = []\n",
        "\n",
        "  # for x in X:\n",
        "  #   for n in x:\n",
        "  #     if n == -75:\n",
        "  #       port_coords = [33, 140]\n",
        "  #     else:\n",
        "  #       port_coords = list(ports[n])\n",
        "  #     port = [n]\n",
        "  #     port.extend(port_coords)\n",
        "  #     new_X.append(port)\n",
        "  \n",
        "  df['vessel'] = len(df) * [vessel]\n",
        "  \n",
        "  return df.astype(int)"
      ],
      "execution_count": 21,
      "outputs": []
    },
    {
      "cell_type": "code",
      "metadata": {
        "id": "Du9voL1lKi9i"
      },
      "source": [
        "df = prepare_data(processed_dfs['vessel_133'], 6)"
      ],
      "execution_count": 22,
      "outputs": []
    },
    {
      "cell_type": "code",
      "metadata": {
        "id": "MldbZ9EkYdqU"
      },
      "source": [
        "dfs = [prepare_data(processed_dfs[key], 6) for key in processed_dfs.keys()]\n",
        "model_df = pd.concat(dfs)"
      ],
      "execution_count": 23,
      "outputs": []
    },
    {
      "cell_type": "code",
      "metadata": {
        "id": "Dj4GIxf1c5Cg"
      },
      "source": [
        "alldf = pd.concat([processed_dfs[key] for key in processed_dfs.keys()])"
      ],
      "execution_count": 33,
      "outputs": []
    },
    {
      "cell_type": "code",
      "metadata": {
        "id": "r-VUyfvQhahz"
      },
      "source": [
        "# unport = alldf[(alldf['sum_draft_delta'] >= 2) & (alldf['pred_port'] < 0)]\n",
        "# unport.groupby(['vessel', 'seq'])['draft'].agg(first = 'first',\n",
        "#                                    last = 'last')\n",
        "\n",
        "unport['pred_port_alt'] = unport.apply(nearest_port, radius=0.015, axis=1)\n",
        "unport['pred_port_dist_alt'] = unport.apply(nearest_distance, radius=0.015, axis=1)"
      ],
      "execution_count": null,
      "outputs": []
    },
    {
      "cell_type": "code",
      "metadata": {
        "id": "0_TnV_EudLEQ"
      },
      "source": [
        "creating a dictionary of dataframes for each port\n",
        "\n",
        "ports_dfs = {}\n",
        "\n",
        "for port in alldf.pred_port.unique():\n",
        "  ports_dfs[port] = alldf[alldf['pred_port'] == port]"
      ],
      "execution_count": null,
      "outputs": []
    },
    {
      "cell_type": "code",
      "metadata": {
        "id": "X0nHBL-bnYj0"
      },
      "source": [
        "model = XGBClassifier(learning_rate=0.02)\n",
        " \n",
        "model_df['port_2back_lat'] = [ports[key][0] if key in ports else None for key in model_df['port_2back']]\n",
        "model_df['port_2back_long'] = [ports[key][1] if key in ports else None for key in model_df['port_2back']]\n",
        "model_df['port_1back_lat'] = [ports[key][0] if key in ports else None for key in model_df['port_2back']]\n",
        "model_df['port_1back_long'] = [ports[key][1] if key in ports else None for key in model_df['port_2back']]\n",
        "model_df['last_port_lat'] = [ports[key][0] if key in ports else None for key in model_df['port_2back']]\n",
        "model_df['last_port_long'] = [ports[key][1] if key in ports else None for key in model_df['port_2back']]"
      ],
      "execution_count": null,
      "outputs": []
    },
    {
      "cell_type": "code",
      "metadata": {
        "id": "bDz9Esx3aztH"
      },
      "source": [
        "from sklearn.model_selection import train_test_split\n",
        "\n",
        "target = 'port_1ahead'\n",
        "features = model_df.drop(columns=['port_1ahead', 'port_2ahead', 'port_3ahead', 'pred', 'correct'])\n",
        "model_df = model_df.groupby('vessel').filter(lambda x: len(x) > 8)\n",
        "\n",
        "X = features\n",
        "y = model_df[target]\n",
        "\n",
        "X_train, X_test, y_train, y_test = train_test_split(X, y, test_size=0.15)\n",
        "\n",
        "eval_set = [(X_test, y_test)]\n",
        "model.fit(X_train, y_train, eval_set=eval_set);"
      ],
      "execution_count": null,
      "outputs": []
    },
    {
      "cell_type": "code",
      "metadata": {
        "id": "DsyZRscYQmFF"
      },
      "source": [
        "smallsamples = list(set(df1.port).difference(y.unique()))\n",
        "\n",
        "# all = pd.concat(processed_dfs)\n",
        "\n",
        "# uniques = all[all['vessel'].isin(smallsamples)].groupby('vessel')['pred_port'].unique().to_list()\n",
        "\n",
        "# flattened = [item for sublist in uniques for item in sublist]\n",
        "\n",
        "# dict_ = {}\n",
        "\n",
        "# for f in flattened:\n",
        "#   if f not in dict_:\n",
        "#     dict_[f] = 1\n",
        "#   else:\n",
        "#     dict_[f] += 1\n",
        "\n",
        "dict_"
      ],
      "execution_count": null,
      "outputs": []
    },
    {
      "cell_type": "code",
      "metadata": {
        "id": "3z8C5RTevhk0"
      },
      "source": [
        "all_vessels = pd.concat([processed_dfs[key] for key in processed_dfs.keys()])"
      ],
      "execution_count": 124,
      "outputs": []
    },
    {
      "cell_type": "code",
      "metadata": {
        "id": "SDEttASbAmoq"
      },
      "source": [
        "# all_vessels['vessel_1back'] = all_vessels['vessel'].shift()\n",
        "# all_vessels['lat_long_1back'] = all_vessels['lat_long'].shift()\n",
        "# all_vessels['dist_diff'] = all_vessels.apply(vincent_distance, axis=1)\n",
        "\n",
        "dist_check = all_vessels.groupby(['vessel', 'seq'], as_index=False)[['dist_diff', 'seq_count', 'pred_port']].apply(lambda x: x.max())"
      ],
      "execution_count": 150,
      "outputs": []
    },
    {
      "cell_type": "code",
      "metadata": {
        "id": "4vbQUShMB6ry"
      },
      "source": [
        "dist_check['diff_seq'] = dist_check['dist_diff'] / dist_check['seq_count'] \n",
        "print(dist_check.query('diff_seq > 200').to_string())"
      ],
      "execution_count": null,
      "outputs": []
    },
    {
      "cell_type": "code",
      "metadata": {
        "id": "MUrgTknOblyb"
      },
      "source": [
        "print(all_vessels[all_vessels['vessel'] == 149].to_string())"
      ],
      "execution_count": null,
      "outputs": []
    },
    {
      "cell_type": "code",
      "metadata": {
        "id": "A5WM5puB0_t0"
      },
      "source": [
        "v1 = all_vessels[all_vessels['vessel'] == 10]\n",
        "v2 = all_vessels[all_vessels['pred_port'] == 54]"
      ],
      "execution_count": null,
      "outputs": []
    },
    {
      "cell_type": "code",
      "metadata": {
        "id": "FoHlMDnreu0Y"
      },
      "source": [
        "mask = ((all_vessels['speed'] > 1) & (all_vessels['pred_port'] >0))\n",
        "\n",
        "fast = all_vessels[mask]\n",
        "fast.sort_values(by='speed', ascending=False).head(25)"
      ],
      "execution_count": null,
      "outputs": []
    },
    {
      "cell_type": "code",
      "metadata": {
        "colab": {
          "base_uri": "https://localhost:8080/",
          "height": 542
        },
        "id": "n7T5EmrWQzPC",
        "outputId": "10d57eda-13e3-4295-e7be-013ae5bf93a3"
      },
      "source": [
        "fig = px.scatter_geo(all_vessels[all_vessels.vessel==149], lat='lat', lon='long')\n",
        "\n",
        "fig.show()"
      ],
      "execution_count": 157,
      "outputs": [
        {
          "output_type": "display_data",
          "data": {
            "text/html": [
              "<html>\n",
              "<head><meta charset=\"utf-8\" /></head>\n",
              "<body>\n",
              "    <div>\n",
              "            <script src=\"https://cdnjs.cloudflare.com/ajax/libs/mathjax/2.7.5/MathJax.js?config=TeX-AMS-MML_SVG\"></script><script type=\"text/javascript\">if (window.MathJax) {MathJax.Hub.Config({SVG: {font: \"STIX-Web\"}});}</script>\n",
              "                <script type=\"text/javascript\">window.PlotlyConfig = {MathJaxConfig: 'local'};</script>\n",
              "        <script src=\"https://cdn.plot.ly/plotly-latest.min.js\"></script>    \n",
              "            <div id=\"dc2cbdf6-da13-4189-a4c4-14928e908f35\" class=\"plotly-graph-div\" style=\"height:525px; width:100%;\"></div>\n",
              "            <script type=\"text/javascript\">\n",
              "                \n",
              "                    window.PLOTLYENV=window.PLOTLYENV || {};\n",
              "                    \n",
              "                if (document.getElementById(\"dc2cbdf6-da13-4189-a4c4-14928e908f35\")) {\n",
              "                    Plotly.newPlot(\n",
              "                        'dc2cbdf6-da13-4189-a4c4-14928e908f35',\n",
              "                        [{\"geo\": \"geo\", \"hoverlabel\": {\"namelength\": 0}, \"hovertemplate\": \"lat=%{lat}<br>long=%{lon}\", \"lat\": [5.5877, 5.5877, 5.5877, 5.5877, 5.581, 25.0035, 5.5825, 5.5842, 5.5842, 5.5813, 25.00375, 25.0035, 25.0035, 25.0035, 7.3638, 25.0035, 25.003549999999997, 25.0035, 25.0035, 25.0035, 25.0035, 25.0035, 20.285050000000002, 25.0035, 25.0035, 25.0035, 25.0035, 25.0035, 25.0035, 25.0035, 25.0035, 25.0035, 23.811999999999998, 25.0035, 25.11665, 25.3587, 25.3587, 25.35835, 25.35835, 25.3587, 25.3588, 25.3585, 25.3587, 25.3587, 25.3587, 25.3585, 25.35875, 25.3579, 25.3572, 25.35875, 25.3587, 25.3585, 25.492350000000002, 25.492350000000002, 26.3517, 26.0535, 25.7744, 25.068, 25.068, 25.068, 25.068, 25.068, 25.068, 25.068, 25.068, 25.068, 25.068, 25.068, 25.068, 25.068, 25.068, 25.068, 25.068, 26.173499999999997, 26.5117, 25.4967, 24.822, 24.822, 22.9612, 22.2367, 21.3493, 20.22, 20.22, 20.22, 20.22, 17.2747, 17.2747, 17.2747, 14.62, 13.6553, 13.6553, 12.1205, 11.106300000000001, 11.106300000000001, 9.3502, 7.8438, 7.2707, 6.665, 6.0932, 5.582800000000001, 5.5845, 5.5847, 5.5746, 5.5835, 5.5878, 5.5789, 5.5912, 5.5912, 5.5822, 5.5825, 5.5825, 5.7303, 5.7303, 5.7303, 5.7303, 4.8002, 4.8002, 4.8002, 2.98405, 2.3255, 2.3255, 1.1859000000000002, 1.3022, 1.774, 1.774, 1.774, 1.774, 1.774, 1.774, 1.774, 1.774, 1.774, 1.774, 1.774, 1.774, 1.774, 1.774, 1.774, 1.774, 1.774, 1.774, 1.774, 1.774, 1.774, 1.774, 1.774, 1.774, 1.774, 1.774, 23.381, 23.381, 23.381, 23.381, 23.381, 27.0837, 27.0837, 28.74145, 29.6537, 30.7815, 30.7815, 32.1433, 32.4582, 33.3948, 33.888000000000005, 34.4243, 35.2047, 34.92585, 34.73795, 34.73795, 34.721000000000004, 34.722, 35.1988, 35.3422, 35.3422, 35.3422, 35.3422, 35.3422, 35.3422, 34.950199999999995, 33.962950000000006, 33.284, 32.7988, 32.1517, 32.1517, 32.1517, 29.7158, 29.7158, 29.7158, 27.1167, 27.1167, 27.1167, 24.6912, 23.4718, 23.4718, 22.4852, 22.4852, 22.4852, 22.4852, 22.4852, 22.4852, 17.4843, 17.4843, 17.4843, 17.4843, 17.4843, 17.4843, 17.4843, 17.4843, 17.4843, 17.4843, 17.4843, 17.4843, 17.4843, 17.4843, 17.4843, 17.4843, 17.4843, 17.4843, 17.4843, 1.2845, 1.4821499999999999, 2.2593, 2.8597, 3.5824000000000003, 3.5824000000000003, 3.5824000000000003, 3.5824000000000003, 3.5824000000000003, 6.1908, 6.1908, 6.1908, 6.1908, 6.1908, 6.1908, 6.1908, 5.5835, 5.5835, 5.5835, 5.5835, 5.5835, 5.5835, 5.5847, 5.5847, 6.4343, 7.172000000000001, 7.9408, 8.9449, 9.6195, 9.6195, 9.6195, 9.6195, 9.6195, 9.6195, 14.6412, 14.6412, 14.6412, 14.6412, 14.6412, 14.6412, 14.6412, 14.6412, 21.5912, 21.5912, 22.9907, 23.8317, 23.8317, 23.8317, 25.2615, 25.3532, 25.3533, 25.3533, 25.3531, 25.4672, 26.3243, 25.839000000000002, 25.7905, 25.7905, 25.7905, 25.7905, 25.7905, 25.7905, 25.7905, 25.7905, 25.7905, 25.7905, 24.944000000000003, 24.7992, 24.7993, 24.9475, 25.7185, 26.2425, 26.2425, 24.3297, 24.3297, 23.0719, 23.0719, 23.0719, 20.5398, 20.5398, 18.8122, 18.8122, 18.8122, 18.8122, 15.4758, 15.4758, 13.7435, 12.5501, 12.5501, 11.1602, 9.91635, 8.794, 7.5273, 6.9378, 6.4743, 6.0648, 5.5774, 5.5617, 5.5625, 5.5816, 5.5842, 5.5822, 5.58225, 5.5857, 5.5857, 5.585, 5.6448, 5.8933, 5.8933, 5.8933, 5.4879999999999995, 4.9265, 4.3285, 3.1797, 2.5247, 1.7161500000000003, 1.2007, 1.69555, 1.69555, 1.69555, 4.5917, 4.5917, 4.5917, 4.5917, 4.5917, 4.5917, 4.5917, 4.5917, 12.9717, 12.9717, 12.9717, 12.9717, 12.9717, 12.9717, 12.9717, 12.9717, 20.2067, 21.235, 21.235, 23.6125, 24.271, 24.8848, 25.465, 25.465, 27.4717, 27.4717, 28.5123, 29.5267, 29.5267, 30.415, 31.166, 31.166, 32.6095, 25.0035, 25.0035, 34.2792, 35.1624, 25.0035, 25.0035, 25.0035, 25.0035, 25.0035, 35.3832, 25.0035, 25.0035, 25.0035, 28.877850000000002, 31.8367, 25.0035, 27.40465, 25.0035, 25.0035, 25.0035, 25.0035, 25.0035, 25.0035, 25.0035, 25.0035, 25.0035, 25.0035, 25.0035, 25.003549999999997, 21.7767, 25.0035, 25.0035, 25.0035, 25.0035, 25.0035, 25.0035, 25.0035, 25.0035, 25.0035, 25.0035, 25.0035, 25.0035, 25.0035, 25.0035, 13.38, 13.38, 13.38, 11.093699999999998, 11.093699999999998, 11.093699999999998, 11.093699999999998, 11.093699999999998, 11.093699999999998, 11.093699999999998, 11.093699999999998, 11.093699999999998, 11.093699999999998, 11.093699999999998, 11.093699999999998, 11.093699999999998, 3.3117, 3.3117, 3.3117, 1.6212, 1.2786, 1.3068, 2.1135, 2.6326, 3.1412, 3.5717, 3.5717, 3.5717, 5.5433, 5.5433, 6.1033, 6.1033, 6.1033, 6.1033, 6.1033, 6.1033, 6.1033, 5.5817, 5.5817, 5.5817, 5.582999999999999, 5.582999999999999, 5.5897, 5.5897, 5.5897, 5.57615, 5.8703, 5.8703, 5.8703, 5.8703, 5.8703, 8.9143, 8.9143, 10.2993, 10.7742, 10.7742, 10.7742, 13.12625, 13.8783, 13.8783, 13.8783, 15.6122, 16.27095, 16.9302, 16.9302, 16.9302, 18.81375, 19.358, 19.7312, 20.445999999999998, 21.2567, 21.2567, 21.2567, 21.2567, 23.1658, 23.1658, 23.1658, 24.8287, 24.8287, 25.25125, 25.3447, 25.3446, 25.3458, 25.3462, 25.3458, 25.34285, 25.3435, 25.3958, 26.3925, 26.3925, 26.3925, 25.2864, 25.085, 25.0855, 25.0847, 25.084, 25.0838, 25.0856, 25.0855, 25.0839, 25.084, 25.0838, 25.0838, 25.084, 25.1453, 25.1573, 25.157277776666664, 25.157211113333332, 25.157383335, 25.157316665, 25.738166665, 25.8325, 26.18216666666667, 25.9145, 25.511516665000002, 24.601308332499997, 24.033666665000002, 23.536933335, 22.55366667, 22.55366667, 21.69666667, 21.32183333, 20.790833329999998, 20.18025, 20.088166665000003, 20.0455, 20.00516667, 20.811, 21.095, 21.095, 21.095, 21.095, 21.095, 21.095, 21.095, 21.095, 21.095, 21.095, 20.8085, 20.202166890000004, 20.078166776666666, 20.086333333333332, 20.126583335, 20.4395000825, 20.7885, 21.098444556666664, 21.432388776666667, 21.759444333333334, 22.032999835, 22.36883333, 22.72666667, 23.11966667, 23.60875, 23.60875, 24.229833, 24.59816677666667, 24.810666835, 25.149, 25.324333335, 25.33783333, 25.34016667, 25.34125, 25.33883333, 25.3405, 25.33827777666667, 25.33816667, 25.33816667, 25.340916665, 25.33816667, 25.33966667, 25.338333446666667, 25.338166835000003, 25.34166667, 25.339416665, 25.3396665, 25.33866667, 25.33775, 25.339000000000002, 25.34133333, 25.341916665, 25.33816667, 25.3375, 25.3375, 25.3375, 25.3405, 25.341916665, 25.340999999999998, 25.3385, 25.339966667999995, 25.342, 25.341777666666662, 25.34158333, 25.3408333, 25.3423333, 25.60958333, 25.61066667, 25.61083333, 25.610833335000002, 25.610833335000002, 25.61116667, 25.609666665, 25.60683333, 25.60916667, 25.609083335, 25.6085, 25.60866667, 25.609583335, 25.61083333, 25.609416665, 25.607916664999998, 25.60766667, 25.804000000000002, 26.47788887666667, 26.340583334999998, 26.35116685, 25.723166575, 25.723166575, 25.157333164999997, 25.157442666, 25.157442666, 25.157442666, 25.157442666, 25.157605, 25.447831665, 26.028910335, 26.207133346, 26.207133346, 26.207133346, 25.664250000000003, 25.258499999999998, 25.264916650000004, 25.264916499999998, 25.26483333, 25.264388999999998, 25.2645, 25.2645, 25.264833335, 25.265, 25.265, 25.265, 25.264167, 25.264167, 25.263832999999998, 25.26483333, 25.265, 25.264499999999998, 25.264, 25.26483333, 25.26361122333333, 25.264500165, 25.265, 25.265, 25.265, 25.263167000000003, 25.261, 25.262333335, 25.263555566666668, 25.262458492500002, 25.26066667, 25.26063167, 25.262044443333334, 25.26289985, 25.262841, 25.262915835, 25.262404999999998, 25.2625515, 25.262860834999998, 25.2636324975, 25.26354667, 25.264705, 25.262522500000003, 25.263343000000003, 25.263708335, 25.264439165, 25.264378999999998, 25.264905, 25.26489917, 25.26457667, 25.26414911, 25.26429887666667, 25.26462667, 25.264695, 25.264705, 25.26161667, 25.26233167, 25.263335835, 25.224257223333336, 25.015884999999997, 24.797326665, 24.569362335, 24.277976132, 23.974800835, 23.794046665, 23.546052335, 23.25499234333333, 22.853126500000002, 22.614436665, 22.27992333, 21.931469335, 21.7009865, 21.42177417, 21.14272, 20.790150556666667, 20.492739335000003, 20.225593335, 20.08404944333333, 20.084160830000002, 20.088375165000002, 19.966321167500002, 20.431824999999996, 20.847340223333333, 20.856178776666667, 21.094775, 21.0950015, 21.095002223333335, 21.095016553333334, 21.095018165, 21.095007556666665, 21.095015, 21.095010665, 20.983742000000003, 20.43402844666667, 20.01227333, 20.079832776666667, 20.08268833, 20.0842015, 20.142355, 20.297362, 20.518075, 20.735968, 20.735968, 21.106653, 21.66382333333333, 22.013950000000005, 22.279568776666668, 22.52095, 22.8111975, 23.09984833, 23.309640164999998, 23.552889999999998, 24.02382, 24.312532223333335, 24.788002515000002, 25.042279, 25.20889889, 25.26570777666667, 25.267471, 25.267207, 25.267207, 25.26605, 25.265929, 25.267013000000002, 25.26711915, 25.2674065, 25.2674065, 25.267248000000002, 25.2652005, 25.266167335, 25.2672067, 25.26673, 25.26673, 25.26673, 25.26673, 25.265846665, 25.265846665, 25.265673, 25.265673, 25.265673, 25.265673, 26.46974185, 26.345284999999997, 25.741301, 25.741301, 25.157242999999998, 25.1572375, 25.157245664999998, 25.15724175, 25.15723825, 25.157242999999998, 25.157242, 25.157242500000002, 25.15724033333333, 25.15724033333333, 25.418847, 26.022197499999997, 26.372567500000002, 25.736934666666667, 25.264174999999998, 25.265509, 25.26594233333334, 25.265995, 25.265051, 24.995386666666665, 24.561432666666665, 24.148744999999998, 23.658053, 22.957604500000002, 22.5837655, 21.780312, 20.968951999999998, 20.469605, 19.937493, 19.194353, 18.83846966666667, 18.243647, 17.58819, 17.016595000000002, 16.35261, 16.047493, 15.200763, 15.200763, 13.965827333333332, 13.577257000000001, 13.01966675, 12.366965, 11.838085000000001, 11.188899999999999, 10.490235, 9.890214499999999, 9.1037885, 8.386655999999999, 7.8435369999999995, 7.4529535000000005, 7.119833666666666, 6.671348999999999, 6.423788500000001, 6.022489500000001, 5.6720665, 5.584717333333334, 5.597408333333334, 5.585723000000001, 5.5866755, 5.5840935, 5.57725, 5.578825, 5.584436666666666, 5.584327, 5.576453, 5.583548, 5.583683000000001, 5.582742, 5.587793333333333, 5.578898000000001, 5.581252, 5.5811285, 5.581633, 5.719397, 5.909691666666667, 6.094293, 6.074755000000001, 6.074755000000001, 6.074755000000001, 5.312197, 5.064998, 5.064998, 4.1710525, 4.1710525, 3.158865, 2.655181, 2.07116725, 1.550902, 1.175261, 1.3152043333333332, 1.866982, 1.866982, 1.866982, 1.866982, 1.866982, 1.866982, 1.866982, 1.866982, 1.866982, 1.866982, 1.866982, 1.866982, 1.866982, 1.866982, 1.866982, 1.866982, 1.866982, 1.866982, 1.866982, 1.866982, 15.173129999999999, 15.173129999999999, 16.709492, 16.709492, 16.709492, 16.709492, 16.709492, 16.709492, 16.709492, 22.787613, 23.351625, 23.981403, 24.799165000000002, 25.286173, 25.286173, 26.642169, 26.642169, 27.707684999999998, 28.47218, 28.948805, 29.5513975, 30.177157, 30.328387, 30.792778000000002, 31.3355835, 31.840328000000003, 32.124702, 32.644502, 32.959785, 33.610325, 34.116434, 34.525935, 34.934536333333334, 35.42084200000001, 35.470035, 35.470035333333335, 35.47002725, 35.470037500000004, 35.470036, 34.842263, 33.82215, 33.18729, 32.3550355, 31.956146999999998, 31.956146999999998, 30.34463, 28.917173, 28.917173, 27.515911499999998, 27.515911499999998, 26.009069000000004, 25.069072, 25.069072, 25.069072, 25.069072, 25.069072, 21.465363, 20.166204999999998, 20.166204999999998, 20.166204999999998, 20.166204999999998, 20.166204999999998, 20.166204999999998, 20.166204999999998, 20.166204999999998, 20.166204999999998, 20.166204999999998, 20.166204999999998, 10.96926, 10.96926, 10.96926, 10.96926, 10.96926, 10.96926, 10.96926, 10.96926, 10.96926, 10.96926, 10.96926, 10.96926, 1.6756419999999999, 1.2557025, 1.1975859999999998, 1.2118153333333332, 1.2125633333333332, 1.4966706666666667, 2.0857099999999997, 2.8657653333333335, 3.576172, 4.225005, 4.225005, 4.225005, 4.225005, 5.9701319999999996, 5.9701319999999996, 5.9701319999999996, 5.6445099999999995, 5.6445099999999995, 5.604667, 5.5824620000000005, 5.578158, 5.58369, 5.6186300000000005, 5.611730666666666, 5.584998000000001, 5.584395, 5.623611, 6.02894, 6.3567925, 7.033386, 7.575825, 8.24555, 9.178113, 10.123381, 11.26844, 11.421123999999999, 12.257150000000001, 12.943099, 13.539213, 14.2241605, 14.832275, 15.542845000000002, 16.0843755, 16.502167, 17.536545, 18.320375, 18.507898, 19.267647, 19.861517499999998, 20.231388, 20.668692, 21.606544999999997, 21.7216725, 22.262671, 22.707905, 22.965155, 23.337415, 23.99478, 24.4113, 24.731685, 24.954366, 24.954366, 25.860498, 26.5220275, 26.340776499999997, 26.024284666666663, 25.618706, 25.618706, 25.157239999999998, 25.157241, 25.1572425, 25.157241, 25.157239, 25.157238999999997, 25.2839375, 25.80437866666667, 26.069622, 26.301334, 26.399775, 25.588127, 25.380435, 25.380364, 25.38050966666667, 25.380389, 25.38042, 25.38046, 25.38083, 25.380966666666666, 25.381045999999998, 25.380922499999997, 25.380633333333332, 25.380719, 25.38088, 25.38100366666667, 25.381090333333333, 25.3809095, 25.38065333333333, 25.3800475, 25.2642955, 25.263677333333334, 25.264373333333328, 25.2644315, 25.263985333333334, 25.261815, 25.2620135, 25.263719666666663, 25.264319333333333, 25.264426, 25.261623, 25.261765, 25.262632, 25.2628415, 25.26452, 25.264545, 25.2641865, 25.264232999999997, 25.263755, 25.263917, 25.264533, 25.264528666666664, 25.26440266666667, 25.2643625, 25.264457, 25.26411966666667, 25.264293666666664, 25.264485, 25.264312500000003, 25.264170000000004, 25.263995, 25.2633205, 25.2641075, 25.264389333333337, 25.264254333333337, 25.263465, 25.2632885, 25.263913333333335, 25.264312333333333, 25.264559333333334, 25.264152000000003, 25.264152000000003, 25.263192999999998, 25.263738333333336, 25.264381666666665, 25.264495, 25.264007499999998, 25.262693, 25.263175, 25.263797666666665, 25.264414999999996, 25.2643885, 25.264107, 25.264107, 25.263047, 25.2639505, 25.264200600000002, 25.264423, 25.264592999999998, 25.264592999999998, 25.264592999999998, 25.263981666666666, 24.990671499999998, 24.78671, 24.416017500000002, 24.416017500000002, 23.798637, 23.440006666666665, 22.998117, 22.998117, 22.998117, 22.998117, 22.998117, 22.998117, 22.998117, 22.998117, 20.318723000000002, 20.318723000000002, 20.318723000000002, 20.041007, 20.041007, 20.033108, 20.845724, 21.094943999999998, 21.0950165, 21.095012999999998, 21.095018333333332, 21.095014, 21.095017333333335, 21.095072000000002, 21.0950095, 20.808454499999996, 19.987367000000003, 20.074343, 20.074343, 20.049568, 20.090953, 20.373573, 20.772685, 21.066229999999997, 21.641417999999998, 21.641417999999998, 22.073202, 22.45641, 22.894042000000002, 22.894042000000002, 22.894042000000002, 23.997157, 23.997157, 24.416492666666667, 24.642863333333334, 24.8408875, 25.037417333333337, 25.447686333333333, 26.158812, 26.516334, 26.196702, 25.79855, 25.481407666666666, 25.444426999999997, 25.444101, 25.441793999999998, 25.44169266666667, 25.441578999999997, 25.442043333333334, 25.444706, 25.445524, 25.44280066666667, 25.441753666666667, 25.4421495, 25.442023666666667, 25.444983, 25.450847500000002, 25.447001333333333, 25.446534, 25.446415000000002, 25.447328666666664, 25.449616, 25.4505975, 25.447677999999996, 25.447499000000004, 25.4474965, 25.448554666666666, 25.4494385, 25.4504935, 25.447229333333336, 25.44734375, 25.4481775, 25.44811025, 25.451085, 25.451134, 25.449853, 25.449353000000002, 25.4505005, 25.450781000000003, 25.451136499999997, 25.451059, 25.450029666666666, 25.449024666666663, 25.450519, 25.450680000000002, 25.451072500000002, 25.4514215, 25.450845666666666, 25.44825, 25.4486545, 25.45033725, 25.450434, 25.448261000000002, 25.447314333333335, 25.447823333333332, 25.449443000000002, 25.45064066666667, 25.450778999999997, 25.451075, 25.44964, 25.447686000000004, 25.448975499999996, 25.450909666666664, 25.45088, 25.451331500000002, 25.448871333333333, 25.447400000000002, 25.448736, 25.450772333333333, 25.450844, 25.450944999999997, 25.449053333333335, 25.448263333333333, 25.4507595, 25.4507595, 25.4507595, 25.4507595, 25.4507595, 25.4507595, 25.4507595, 25.4507595, 25.4507595, 25.4507595, 25.4507595, 25.449489333333332, 25.448484, 25.448876333333335, 25.4507725, 25.4486555, 25.447781333333335, 25.447924666666665, 25.449707, 25.44788133333334, 25.4504885, 25.449936, 25.447315333333336, 25.365051999999995, 25.360642499999997, 25.508591666666664, 25.234852, 25.15723966666667, 25.157247666666667, 25.157245, 25.157242999999998, 25.157242999999998, 25.157241499999998, 25.1572425, 25.436431666666667, 25.735484333333336, 25.926530999999997, 26.035844, 26.088438, 26.092983, 26.455859500000003, 26.13560266666667, 25.658821, 25.281138666666667, 24.98735, 24.834971, 24.682812333333334, 24.510132666666664, 24.363039, 24.24381425, 24.032873000000002, 23.933502, 23.795489000000003, 23.592987, 23.447248000000002, 23.177533, 22.961547499999998, 22.7118865, 22.541318333333333, 22.300908, 22.238699999999998, 22.229432, 22.211658, 22.19485, 22.19485, 22.19485, 22.056397, 22.056397, 21.905795, 22.060273000000002, 22.189167, 22.55603766666667, 22.582172999999997, 22.388173000000002, 22.183427, 22.137045999999998, 22.137045999999998, 22.24232166666667, 22.821147, 22.807488, 22.443589, 22.443589, 21.874673, 21.874673, 21.874673, 22.636933, 22.4682665, 22.077868, 22.077868, 22.258786, 22.56783, 22.56783, 22.2041915, 21.996275, 21.996275, 22.564695, 22.636562, 22.380695000000003, 21.8965305, 21.8965305, 21.8965305, 22.693372, 22.7771135, 22.55622, 22.088335, 21.858430499999997, 21.606308, 21.606308, 21.400340999999997, 21.105665, 21.105665, 21.105665, 20.592557, 20.360326999999998, 20.33693, 20.33495, 20.0723475, 20.03822, 20.04164, 20.291619999999998, 20.468918, 21.318605333333334, 21.674491000000003, 21.674491000000003, 21.674491000000003, 21.674491000000003, 21.674491000000003, 21.674491000000003, 21.674491000000003, 21.674491000000003, 21.280739999999998, 20.887562, 20.328695, 20.198812, 20.198812, 20.37708, 20.37708, 20.709037, 20.935028, 20.935028, 21.376785, 21.487272, 21.487272, 22.022575, 22.517533333333333, 22.517533333333333, 22.294577, 21.887132, 21.64382, 21.986752, 22.13631, 22.507704333333333, 23.00797, 23.286685, 23.71623475, 23.780815, 24.082639999999998, 24.469110666666666, 24.9165975, 25.663651, 26.479615666666664, 26.339173, 26.141612399999996, 25.593409999999995, 25.195263666666666, 25.157243599999997, 25.157245333333332, 25.157239333333333, 25.157238999999997, 25.1572445, 25.1572445, 25.471072, 25.98571, 26.307146999999997, 26.17167925, 25.346249333333333, 25.2717745, 25.273255999999996, 25.273679750000003, 25.253367333333333, 24.9966125, 24.617123333333335, 24.149239, 23.7128485, 23.048623333333335, 22.228050500000002, 21.437812, 20.510433, 20.012076999999998, 19.274339500000004, 18.645272, 17.7126575, 16.859725, 16.298779999999997, 15.570293333333332, 14.5556125, 14.130993, 13.192534333333333, 12.3512225, 11.829338, 10.8178385, 10.052232333333334, 9.0439705, 8.170716, 7.574147, 7.013363, 6.465235, 5.925065, 5.5756625, 5.58425, 5.5837319999999995, 5.5832975, 5.583325, 5.583353333333334, 5.5832014999999995, 5.583659666666667, 5.5826965, 5.5837375, 5.5834295, 5.58309, 5.583223, 5.6057325, 5.6057325, 5.6057325, 6.025288, 5.927576999999999, 5.75339, 5.1811025, 4.700539, 3.8956699999999995, 3.4922800000000005, 2.882168, 2.882168, 1.9227143333333332, 1.42411, 1.1035469999999998, 1.4850296666666667, 2.69794, 2.69794, 2.69794, 2.69794, 2.69794, 2.69794, 2.69794, 2.69794, 2.69794, 2.69794, 2.69794, 2.69794, 2.69794, 2.69794, 2.69794, 2.69794, 2.69794, 2.69794, 2.69794, 17.612617, 18.00424, 18.00424, 18.00424, 18.00424, 21.262275, 22.674842, 23.280432333333334, 23.965525, 24.831133249999997, 25.178385000000002, 26.3461, 26.7953075, 27.3059115, 27.893250000000002, 28.435969999999998, 28.816073, 29.293840000000003, 29.8687665, 30.6516465, 31.147903000000003, 31.482219333333333, 31.973578000000003, 31.973578000000003, 33.1966882, 33.751234000000004, 34.3351155, 34.914914333333336, 35.428626, 35.4700435, 35.47003433333333, 35.47003333333333, 35.4700275, 35.470038333333335, 34.9636615, 34.15210966666667, 33.720995, 33.4069835, 32.945813, 32.492705, 32.492705, 30.932346000000003, 30.723421999999996, 30.211082, 29.7542, 29.237853, 29.237853, 29.237853, 28.275405, 28.0491975, 27.611490000000003, 27.361086999999998, 27.0025635, 26.649086000000004, 26.272813999999997, 25.82013, 25.436367333333333, 25.12576, 25.12576, 24.55434525, 24.197315, 24.197315, 24.197315, 23.269458, 22.830017, 22.441066499999998, 21.910695, 21.622962, 20.948420000000002, 20.948420000000002, 20.948420000000002, 20.021897, 19.15086, 19.15086, 19.15086, 19.15086, 19.15086, 16.487828, 16.487828, 16.487828, 16.487828, 16.487828, 16.487828, 16.487828, 16.487828, 16.487828, 16.487828, 16.487828, 16.487828, 16.487828, 16.487828, 16.487828, 16.487828, 16.487828, 16.487828, 16.487828, 16.487828, 16.487828, 16.487828, 2.381215, 1.8234773333333336, 1.802507, 1.802502, 1.8109262499999998, 1.8058524999999999, 1.8061166666666668, 1.8056279999999998, 1.805877, 1.8110233333333332, 1.80832025, 1.8079580000000002, 1.8100269999999998, 1.391026, 1.30051, 1.29919, 1.2996176666666666, 1.3001774999999998, 1.297168, 1.2644015, 1.5020289999999998, 2.1716875, 2.5827743333333335, 3.0766069999999996, 3.3489653333333336, 4.313638, 4.565713, 4.565713, 5.430072, 5.430072, 5.430072, 5.430072, 6.138503, 6.138503, 5.791601999999999, 5.791601999999999, 5.791601999999999, 5.583483, 5.583483, 5.583483, 5.583762, 5.583762, 5.583762, 5.583525, 5.583133, 5.583133, 5.57573, 5.583352, 5.583352, 5.5840935, 5.5840935, 5.5840935, 5.582756, 5.583081, 5.583081, 5.625078333333334, 5.783078, 6.105090666666666, 6.584653, 6.726942, 7.030115, 7.373172, 7.8781550000000005, 8.160359, 8.7225575, 8.7225575, 8.7225575, 10.042045, 10.042045, 10.651383000000001, 11.243917999999999, 11.455392, 11.8617305, 12.330108, 12.82793, 12.82793, 13.466632999999998, 14.0926, 14.0926, 14.89684, 14.89684, 14.89684, 16.000573000000003, 16.342353, 16.342353, 16.342353, 16.342353, 16.342353, 16.342353, 11.586285, 19.449752, 19.927231499999998, 20.398951999999998, 20.662982999999997, 20.432330999999998, 20.42952, 20.742125, 20.742125, 21.432738, 21.734925, 22.128497499999998, 22.6121475, 22.8207455, 23.29291, 23.649451499999998, 24.0760335, 24.54622, 24.798728, 25.015497999999997, 25.4722735, 26.074899000000002, 26.543880666666666, 26.445744, 26.10479, 26.049661999999998, 25.8240195, 25.5530865, 25.225059200000004, 25.157262, 25.15723, 25.157292333333334, 25.157248000000003, 25.157245, 25.157296333333335, 25.157296333333335, 25.157296333333335, 25.157268666666667, 25.324824, 25.838184, 26.133644333333336, 26.243135000000006, 25.370622499999996, 25.266125666666667, 25.2681975, 25.267903, 25.2666375, 25.22555, 24.90121, 24.47096433333333, 24.069286499999997, 23.477841, 22.967624999999998, 22.3610175, 22.3610175, 22.131725, 22.480888999999998, 22.7907365, 23.037358500000003, 23.4121875, 23.213267000000002, 22.983113, 22.5599435, 22.276225, 22.018097, 21.847416, 21.500238500000002, 21.201242, 20.677695, 20.6553115, 20.37941, 19.959754999999998, 19.699827, 19.54226, 19.1704315, 18.571295000000003, 18.571295000000003, 17.542773, 16.848518666666667, 15.826618, 15.004607, 14.6613625, 13.948381000000001, 13.161214999999999, 12.260557, 11.671766333333332, 10.8257285, 10.319732, 9.967891333333332, 9.924493333333334, 9.923832, 9.923816333333333, 9.923762499999999, 9.923760999999999, 9.923807666666667, 9.925030999999999, 9.92521, 9.925981333333333, 9.926983499999999, 9.9279115, 9.928095, 9.878398, 9.619754, 9.836302333333334, 9.8508205], \"legendgroup\": \"\", \"lon\": [91.5795, 91.5795, 91.5795, 91.5795, 87.1223, 55.154500000000006, 85.4675, 83.8655, 83.8655, 82.7127, 55.15445, 55.1545, 55.1545, 55.1545, 77.021, 55.1545, 55.1545, 55.1545, 55.1545, 55.1545, 55.1545, 55.1545, 62.0107, 55.1545, 55.1545, 55.1545, 55.1545, 55.1545, 55.1545, 55.1545, 55.1545, 55.1545, 59.4807, 55.1545, 55.97935, 56.5523, 56.5523, 56.55195, 56.55195, 56.5527, 56.55335, 56.5518, 56.5535, 56.55285000000001, 56.5528, 56.5525, 56.55265, 56.55159999999999, 56.5513, 56.55325, 56.5538, 56.5525, 56.66225, 56.66225, 55.5363, 54.7563, 53.8635, 52.9688, 52.9688, 52.9688, 52.9688, 52.9688, 52.9688, 52.9688, 52.9688, 52.9688, 52.9688, 52.9688, 52.9688, 52.9688, 52.9688, 52.9688, 52.9688, 55.2847, 56.3487, 57.3058, 58.1855, 58.1855, 60.4847, 61.3235, 62.3512, 63.635, 63.635, 63.635, 63.635, 66.97115, 66.97115, 66.97115, 69.9322, 70.9807, 70.9807, 72.6787, 73.79155, 73.79155, 75.0825, 76.2603, 77.0888, 78.2124, 79.1297, 80.59465, 81.8997, 82.0687, 83.96805, 85.1455, 85.6228, 87.0433, 88.7973, 88.7973, 90.6098, 91.73100000000001, 91.73100000000001, 93.514, 93.514, 93.514, 93.514, 98.675, 98.675, 98.675, 100.78280000000001, 101.7163, 101.7163, 103.6229, 104.339, 104.6943, 104.6943, 104.6943, 104.6943, 104.6943, 104.6943, 104.6943, 104.6943, 104.6943, 104.6943, 104.6943, 104.6943, 104.6943, 104.6943, 104.6943, 104.6943, 104.6943, 104.6943, 104.6943, 104.6943, 104.6943, 104.6943, 104.6943, 104.6943, 104.6943, 104.6943, 125.7738, 125.7738, 125.7738, 125.7738, 125.7738, 130.2873, 130.2873, 132.3579, 133.5193, 134.9637, 134.9637, 136.7195, 137.1308, 138.3607, 139.016, 139.5202, 139.7835, 139.81650000000002, 139.88934999999998, 139.88934999999998, 139.96210000000002, 139.9307, 139.7817, 139.8232, 139.8232, 139.8232, 139.8232, 139.8232, 139.8232, 139.6808, 139.1177, 138.2083, 137.5792, 136.7307, 136.7307, 136.7307, 133.595, 133.595, 133.595, 130.3323, 130.3323, 130.3323, 127.3565, 125.8813, 125.8813, 124.70100000000001, 124.70100000000001, 124.70100000000001, 124.70100000000001, 124.70100000000001, 124.70100000000001, 118.645, 118.645, 118.645, 118.645, 118.645, 118.645, 118.645, 118.645, 118.645, 118.645, 118.645, 118.645, 118.645, 118.645, 118.645, 118.645, 118.645, 118.645, 118.645, 104.1263, 103.0976, 101.8785, 101.0567, 100.17060000000001, 100.17060000000001, 100.17060000000001, 100.17060000000001, 100.17060000000001, 95.1292, 95.1292, 95.1292, 95.1292, 95.1292, 95.1292, 95.1292, 86.5372, 86.5372, 86.5372, 86.5372, 86.5372, 86.5372, 79.9967, 79.9967, 78.6418, 77.3773, 76.1098, 75.35464999999999, 74.8915, 74.8915, 74.8915, 74.8915, 74.8915, 74.8915, 69.9087, 69.9087, 69.9087, 69.9087, 69.9087, 69.9087, 69.9087, 69.9087, 62.0688, 62.0688, 60.4627, 59.4667, 59.4667, 59.4667, 56.7763, 56.53665, 56.5362, 56.5362, 56.536, 56.699, 55.33, 53.9788, 53.8893, 53.8893, 53.8893, 53.8893, 53.8893, 53.8893, 53.8893, 53.8893, 53.8893, 53.8893, 54.5513, 54.65, 54.65, 54.5638, 55.22025, 55.9688, 55.9688, 58.7308, 58.7308, 60.2312, 60.2312, 60.2312, 63.198, 63.198, 65.2005, 65.2005, 65.2005, 65.2005, 68.993, 68.993, 70.9482, 72.26965, 72.26965, 73.8175, 74.86415, 75.7692, 76.8888, 77.8295, 78.5687, 79.2415, 80.47765, 81.8907, 82.4147, 84.16875, 85.9575, 86.3218, 87.93165, 89.5803, 89.5803, 91.4177, 93.2115, 94.05, 94.05, 94.05, 97.6318, 98.3932, 99.1345, 100.5605, 101.4913, 102.61875, 103.8962, 104.682, 104.682, 104.682, 106.23, 106.23, 106.23, 106.23, 106.23, 106.23, 106.23, 106.23, 113.075, 113.075, 113.075, 113.075, 113.075, 113.075, 113.075, 113.075, 119.735, 120.575, 120.575, 122.632, 123.2055, 123.7412, 124.3933, 124.3933, 127.3717, 127.3717, 128.9462, 130.7283, 130.7283, 132.365, 133.7611, 133.7611, 136.4812, 55.1545, 55.1545, 139.4267, 139.7784, 55.1545, 55.1545, 55.1545, 55.1545, 55.1545, 139.7045, 55.1545, 55.1545, 55.1545, 96.5701, 137.1267, 55.1545, 95.18870000000001, 55.1545, 55.1545, 55.1545, 55.1545, 55.1545, 55.1545, 55.1545, 55.1545, 55.1545, 55.1545, 55.1545, 55.1545, 125.2983, 55.1545, 55.1545, 55.1545, 55.1545, 55.1545, 55.1545, 55.1545, 55.1545, 55.1545, 55.1545, 55.1545, 55.1545, 55.1545, 55.1545, 114.635, 114.635, 114.635, 112.43653333333333, 112.43653333333333, 112.43653333333333, 112.43653333333333, 112.43653333333333, 112.43653333333333, 112.43653333333333, 112.43653333333333, 112.43653333333333, 112.43653333333333, 112.43653333333333, 112.43653333333333, 112.43653333333333, 105.3717, 105.3717, 105.3717, 104.58715, 104.1863, 103.41, 102.0641, 101.3785, 100.65845, 100.14, 100.14, 100.14, 97.515, 97.515, 95.4833, 95.4833, 95.4833, 95.4833, 95.4833, 95.4833, 95.4833, 89.1583, 89.1583, 89.1583, 85.7615, 85.7615, 84.1127, 84.1127, 84.1127, 80.6571, 79.538, 79.538, 79.538, 79.538, 79.538, 75.6728, 75.6728, 74.561, 74.1797, 74.1797, 74.1797, 71.62434999999999, 70.7817, 70.7817, 70.7817, 68.8277, 68.0763, 67.3228, 67.3228, 67.3228, 65.17215, 64.5412, 64.1058, 63.2867, 62.3367, 62.3367, 62.3367, 62.3367, 60.0557, 60.0557, 60.0557, 57.4068, 57.4068, 56.7183, 56.5548, 56.55475, 56.5553, 56.556000000000004, 56.5557, 56.5557, 56.555, 56.652, 55.6158, 55.6158, 55.6158, 53.0217, 52.9466, 52.9503, 52.9472, 52.948, 52.9488, 52.947, 52.9465, 52.94840000000001, 52.94775, 52.9478, 52.9482, 52.947900000000004, 52.9053, 52.8872, 52.88716667, 52.88717778, 52.887100000000004, 52.887183335, 53.8125, 54.4, 55.17124444333333, 56.787488886666665, 57.56075, 58.902208335, 60.315233335, 61.587066665, 63.87516667, 63.87516667, 65.86016667, 66.72933333, 67.9395, 69.35833333, 70.44575, 71.748, 72.35766667, 72.544, 72.619, 72.619, 72.619, 72.619, 72.619, 72.619, 72.619, 72.619, 72.619, 72.619, 72.53699999999999, 72.11250022333333, 71.22372211, 70.26461110999999, 69.51883333500001, 68.7655833325, 67.9825, 67.28716677666667, 66.52238877666666, 65.78605566666666, 65.18974983499999, 64.38966667, 63.56283333, 62.88116667, 61.551833335, 61.551833335, 59.966832999999994, 58.78427789, 58.1625, 57.17583333, 56.6285, 56.5395, 56.54083333, 56.537999985, 56.53633333, 56.53733333, 56.54038889, 56.53816667, 56.538000000000004, 56.539500000000004, 56.5375, 56.53683333, 56.53855544333334, 56.54, 56.5395, 56.542333334999995, 56.542249835, 56.542, 56.53975, 56.53766667, 56.53883333, 56.54025, 56.541000000000004, 56.54, 56.539416665, 56.53933333, 56.538000000000004, 56.539416665, 56.53833333, 56.54133333, 56.541133265999996, 56.541000000000004, 56.54133322333333, 56.541083334999996, 56.5416667, 56.5403333, 56.637083335, 56.63866667, 56.63916667, 56.6395, 56.6395, 56.641999999999996, 56.64408333, 56.64333333, 56.644, 56.644083335, 56.644, 56.64383333, 56.63991667, 56.641000000000005, 56.64383333, 56.643249999999995, 56.63983333, 56.76383333, 56.358111009999995, 55.37825, 54.5324165, 53.602874824999994, 53.602874824999994, 52.887166835, 52.88721600199999, 52.88721600199999, 52.88721600199999, 52.88721600199999, 52.88719667, 53.292974, 54.672927085000005, 55.59913327999999, 55.59913327999999, 55.59913327999999, 56.671416664999995, 56.554416835, 56.526166665000005, 56.525333165, 56.5255, 56.525055443333336, 56.52466667, 56.52466667, 56.52608333, 56.52616667, 56.52616667, 56.52616667, 56.524333, 56.524333, 56.524167000000006, 56.52516667, 56.5255, 56.52725, 56.52766667, 56.5255, 56.523999999999994, 56.524666835000005, 56.52516667, 56.52516667, 56.52516667, 56.528332999999996, 56.52633333, 56.5285835, 56.52844466666667, 56.5287083425, 56.52766667, 56.52613333, 56.528725666666666, 56.5287965, 56.528710165, 56.528465, 56.528665000000004, 56.528426835000005, 56.523983335, 56.525035915, 56.52856667, 56.52711167, 56.528374165, 56.52593066666666, 56.524184335, 56.524851665, 56.527413165, 56.52637167, 56.52615250000001, 56.52531167, 56.52452044333334, 56.524692210000005, 56.52484667, 56.52499, 56.52579416499999, 56.52457833, 56.52405, 56.524215835, 56.69604055666667, 57.435803165, 58.183708335000006, 58.847772335, 59.662340668, 60.5288315, 60.989692335, 61.542234164999996, 62.24053734333334, 63.180085835, 63.727938335000005, 64.4997775, 65.3158465, 65.853932335, 66.51029333, 67.14170516499999, 67.94546711, 68.629236835, 69.24033750000001, 69.86247666666667, 70.6859575, 71.428219335, 72.119939165, 72.451635934, 72.54563311, 72.54906211000001, 72.619164165, 72.618975, 72.61898444333333, 72.61897511, 72.618976, 72.61897311, 72.6189725, 72.618945835, 72.57323866666667, 72.44129210999999, 71.940945, 71.43980122333333, 70.89421667, 70.0585825, 69.435078, 69.078692, 68.584323, 68.092203, 68.092203, 67.268847, 65.98768555666668, 65.20105611, 64.58212177666667, 64.05263000000001, 63.401934999999995, 62.70573333, 62.246486835, 61.679489165, 60.52147167, 59.65675811, 58.20855664999999, 57.351671835, 56.72835166666667, 56.49645366666667, 56.49826265, 56.499453, 56.499453, 56.496823, 56.4965675, 56.49746999999999, 56.49753735, 56.49864, 56.49864, 56.497905, 56.496707, 56.497091, 56.4980517, 56.499635, 56.499635, 56.499635, 56.499635, 56.496685665, 56.496685665, 56.501467000000005, 56.501467000000005, 56.501467000000005, 56.501467000000005, 55.8825185, 54.685083, 53.62925250000001, 53.62925250000001, 52.8870845, 52.88707766499999, 52.887078335, 52.8870805, 52.887085250000005, 52.887077000000005, 52.887085, 52.88708, 52.88708266666666, 52.88708266666666, 53.276035666666665, 54.763261, 56.044632500000006, 56.70257133333333, 56.517891999999996, 56.5114205, 56.511719666666664, 56.5120725, 56.513239, 57.15406333333333, 58.161865, 58.979999, 59.66945466666666, 60.488789, 60.9440455, 61.859837, 62.80054200000001, 63.37681499999999, 63.973344999999995, 64.822753, 65.21631433333333, 65.882012, 66.615157, 67.255258, 68.00744599999999, 68.356875, 69.28761999999999, 69.28761999999999, 70.64948366666667, 71.082585, 71.70212624999999, 72.43588600000001, 72.998942, 73.68991766666666, 74.29489699999999, 74.70169150000001, 75.239645, 75.7349205, 76.269003, 76.880053, 77.46274033333334, 78.21001749999999, 78.6116715, 79.2754695, 79.86837750000001, 80.554029, 81.55062333333332, 82.320557, 83.04599099999999, 83.9886035, 84.600727, 85.271854, 85.980857, 86.476265, 87.013867, 88.03480400000001, 88.971783, 89.365832, 90.04460733333333, 90.8986415, 91.272688, 92.14157499999999, 92.828195, 93.455378, 94.13410566666668, 94.791512, 95.52653000000001, 95.52653000000001, 95.52653000000001, 97.961345, 98.308697, 98.308697, 99.4986735, 99.4986735, 100.59074, 101.2474565, 102.022093, 102.897013, 103.460089, 104.25270566666667, 104.76550999999999, 104.76550999999999, 104.76550999999999, 104.76550999999999, 104.76550999999999, 104.76550999999999, 104.76550999999999, 104.76550999999999, 104.76550999999999, 104.76550999999999, 104.76550999999999, 104.76550999999999, 104.76550999999999, 104.76550999999999, 104.76550999999999, 104.76550999999999, 104.76550999999999, 104.76550999999999, 104.76550999999999, 104.76550999999999, 115.22761499999999, 115.22761499999999, 116.60048, 116.60048, 116.60048, 116.60048, 116.60048, 116.60048, 116.60048, 122.06845, 122.705175, 123.062122, 123.793425, 124.44453999999999, 124.44453999999999, 126.28689649999998, 126.28689649999998, 127.76402, 128.83104300000002, 129.62991200000002, 130.7372075, 131.89619, 132.13987, 133.0293, 134.05559749999998, 135.01998500000002, 135.561208, 136.509016, 137.107803, 138.360228, 139.2170725, 139.6662835, 139.71247400000001, 139.74740049999997, 139.738701, 139.73869933333333, 139.7387115, 139.73871499999998, 139.738711, 139.638961, 138.92297433333334, 138.083375, 137.002216, 136.48689199999998, 136.48689199999998, 134.42238, 132.601062, 132.601062, 130.915341, 130.915341, 129.096723, 127.95453, 127.95453, 127.95453, 127.95453, 127.95453, 123.522732, 121.82523, 121.82523, 121.82523, 121.82523, 121.82523, 121.82523, 121.82523, 121.82523, 121.82523, 121.82523, 121.82523, 112.072755, 112.072755, 112.072755, 112.072755, 112.072755, 112.072755, 112.072755, 112.072755, 112.072755, 112.072755, 112.072755, 112.072755, 104.61415, 104.0817875, 103.68544750000001, 103.690219, 103.68582299999998, 103.06469533333335, 102.09035499999999, 101.05604733333332, 100.277173, 99.461462, 99.461462, 99.461462, 99.461462, 94.246012, 94.246012, 94.246012, 90.892302, 90.892302, 88.92431166666667, 87.291465, 86.709035, 85.4395125, 84.03997199999999, 83.42706233333334, 82.3667265, 81.145842, 80.27867166666667, 79.269396, 78.7335915, 77.61177749999999, 76.7320275, 75.85821066666666, 75.196107, 74.5663995, 73.62166500000001, 73.464191, 72.53466866666668, 71.78561049999999, 71.113237, 70.36923, 69.6965285, 68.944762, 68.252684, 67.62455, 66.76015699999999, 65.760388, 65.56789300000001, 64.74757, 64.15313599999999, 63.68161, 63.12474, 62.128485000000005, 61.96017400000001, 61.29897, 60.796578000000004, 60.479330000000004, 59.956968, 59.3265785, 58.463007999999995, 57.820562, 57.378383, 57.378383, 56.856962, 56.1971925, 55.22903550000001, 53.98426966666667, 53.5185615, 53.5185615, 52.887077000000005, 52.887083, 52.887080250000004, 52.8870815, 52.887083, 52.88708, 53.0562025, 53.92133833333333, 55.06774477777777, 55.8796045, 56.559089333333326, 56.6477335, 56.5873485, 56.58749233333333, 56.587463333333325, 56.5879795, 56.58771633333333, 56.5874225, 56.589051, 56.58883866666667, 56.588897333333335, 56.589365, 56.589369999999995, 56.588293500000006, 56.588251, 56.588358, 56.58815966666666, 56.589023499999996, 56.589657666666675, 56.588536500000004, 56.539908499999996, 56.53653666666667, 56.53738333333333, 56.537959, 56.539036, 56.539135, 56.535835, 56.536555666666665, 56.537295, 56.53780999999999, 56.539939333333336, 56.536228, 56.536262, 56.536334, 56.537645, 56.53778500000001, 56.5390285, 56.538630000000005, 56.536418, 56.53666449999999, 56.537383, 56.53750333333334, 56.53826333333333, 56.5376315, 56.53787, 56.53698333333333, 56.53712866666667, 56.537532999999996, 56.537997, 56.53879033333334, 56.536973, 56.53632525, 56.536958999999996, 56.537404, 56.538261999999996, 56.536280000000005, 56.53614, 56.536693333333325, 56.53733133333333, 56.537906, 56.53725849999999, 56.53725849999999, 56.53605699999999, 56.536331, 56.537465, 56.537665000000004, 56.5369285, 56.535821999999996, 56.53595, 56.53628333333334, 56.537488333333336, 56.537465, 56.5371125, 56.5371125, 56.535988, 56.5366825, 56.5369412, 56.537259999999996, 56.537881999999996, 56.537881999999996, 56.537881999999996, 56.53654600000001, 57.266330499999995, 57.801956999999994, 58.7751235, 58.7751235, 60.36387, 61.26841833333333, 62.361627, 62.361627, 62.361627, 62.361627, 62.361627, 62.361627, 62.361627, 62.361627, 68.98442, 68.98442, 68.98442, 71.47646800000001, 71.47646800000001, 72.361835, 72.54210066666666, 72.619002, 72.61897350000001, 72.61898666666666, 72.61897833333333, 72.6189775, 72.618979, 72.61894, 72.61897, 72.52754075, 72.126367, 71.505095, 71.505095, 69.627075, 69.490217, 68.864153, 67.960098, 67.315438, 66.01097299999999, 66.01097299999999, 65.04285, 64.14334000000001, 63.190608, 63.190608, 63.190608, 60.603012, 60.603012, 59.27307266666667, 58.53942733333333, 57.91183349999999, 57.32458533333334, 56.94594266666667, 56.858532999999994, 56.6253485, 55.89491533333334, 55.3606365, 55.043054000000005, 55.0260175, 55.026115, 55.02669666666666, 55.02672733333333, 55.026946499999994, 55.026325333333325, 55.026896, 55.028881, 55.02888833333333, 55.02780666666667, 55.029253, 55.026984, 55.0270535, 55.02780899999999, 55.027233333333335, 55.028259999999996, 55.027866, 55.026308, 55.0265175, 55.028827, 55.02886533333333, 55.026432, 55.0263055, 55.02577, 55.0260665, 55.028533499999995, 55.02874833333333, 55.026572, 55.025938000000004, 55.025978249999994, 55.0277725, 55.0291895, 55.03050966666667, 55.03074833333333, 55.0303825, 55.02959833333333, 55.0290325, 55.029717000000005, 55.030803999999996, 55.03101233333334, 55.030386, 55.030259, 55.02867, 55.0290325, 55.03039233333333, 55.028901999999995, 55.0261025, 55.02711425, 55.0271735, 55.026360000000004, 55.027266999999995, 55.02663033333332, 55.02604900000001, 55.02767666666667, 55.029661, 55.02933, 55.03062766666667, 55.02954233333333, 55.026869500000004, 55.02877833333333, 55.0298775, 55.02857, 55.03016066666667, 55.02964333333333, 55.0266615, 55.02815733333333, 55.02972150000001, 55.027595, 55.028042666666664, 55.03078100000001, 55.030039, 55.030039, 55.030039, 55.030039, 55.030039, 55.030039, 55.030039, 55.030039, 55.030039, 55.030039, 55.030039, 55.03062033333333, 55.0305025, 55.02703266666666, 55.029466500000005, 55.030142, 55.027346666666666, 55.02956666666666, 55.03051000000001, 55.02692433333334, 55.028779, 55.030682999999996, 55.028920666666664, 54.90821966666667, 54.281498, 53.611776666666664, 52.9716915, 52.88708133333333, 52.88708366666666, 52.88707933333333, 52.887083499999996, 52.887077000000005, 52.887080999999995, 52.887079, 53.27774566666667, 53.76090766666667, 54.2096065, 54.74021266666667, 55.175782, 55.217715000000005, 56.3976765, 56.69799633333333, 56.7131275, 56.92456833333333, 57.440389, 57.9227245, 58.393791666666665, 58.950536, 59.4190895, 59.79432175, 60.461842000000004, 60.776052, 61.11618133333334, 61.57763075, 61.909587, 62.524011, 63.01382099999999, 63.579710999999996, 63.966048, 64.509987, 64.944542, 65.716588, 66.252728, 66.684818, 66.684818, 66.684818, 66.04082, 66.04082, 65.507038, 65.50341999999999, 65.729442, 66.38792133333334, 66.4949365, 66.15196999999999, 65.818273, 65.66738649999999, 65.66738649999999, 65.49749899999999, 65.975087, 66.040813, 65.8091675, 65.8091675, 65.18074200000001, 65.18074200000001, 65.18074200000001, 66.063965, 65.8715725, 65.41922, 65.41922, 65.65337149999999, 66.06178, 66.06178, 65.652695, 65.414785, 65.414785, 66.0300215, 66.21826999999999, 66.014255, 65.5808275, 65.5808275, 65.5808275, 66.0268345, 66.060625, 65.92408, 65.60525200000001, 65.562505, 65.849412, 65.849412, 66.543399, 67.207112, 67.207112, 67.207112, 68.35998000000001, 68.87947700000001, 68.931688, 68.934748, 69.52320499999999, 70.38533666666666, 71.039582, 71.3691335, 71.57236, 72.33466599999998, 72.5091715, 72.5091715, 72.5091715, 72.5091715, 72.5091715, 72.5091715, 72.5091715, 72.5091715, 72.312303, 72.12344499999999, 71.159013, 70.67916, 70.67916, 68.993185, 68.993185, 68.167562, 67.606677, 67.606677, 66.505082, 66.22872533333333, 66.22872533333333, 65.04857700000001, 65.05831433333333, 65.05831433333333, 65.15556, 65.18157, 65.169855, 65.134513, 64.60351700000001, 63.670615, 62.409225, 61.70546399999999, 60.6164675, 60.36666133333333, 59.6858625, 58.740364, 57.583490999999995, 56.990175, 56.44895066666667, 54.909932714285716, 54.14850299999999, 53.44249666666666, 52.926073333333335, 52.8870816, 52.88708183333333, 52.887088, 52.887086, 52.88708249999999, 52.88708249999999, 53.324830000000006, 54.549549999999996, 55.9126, 56.6677875, 56.61127666666666, 56.49532, 56.495642, 56.4963015, 56.548768333333335, 57.32352, 58.322914000000004, 59.530952500000005, 60.542503999999994, 61.31755833333333, 62.2047965, 63.0543435, 64.045552, 64.575618, 65.35728399999999, 66.02079300000001, 66.9999315, 67.890952, 68.474867, 69.224293, 70.2786515, 70.715715, 71.67894633333333, 72.53940850000001, 73.0715, 74.0204325, 74.59566166666667, 75.2861065, 75.93192900000001, 76.70619099999999, 77.635354, 78.5422625, 79.432874, 80.5941825, 81.4087275, 82.34510499999999, 83.59543000000001, 84.566907, 85.37008433333334, 86.478606, 87.37050066666666, 88.361356, 89.6328005, 90.3557175, 91.624517, 92.278758, 92.93335450000001, 92.93335450000001, 92.93335450000001, 95.71387299999999, 96.136538, 96.85444749999999, 98.0281245, 98.653188, 99.663635, 100.191335, 100.921515, 100.921515, 102.21071966666666, 103.0967935, 103.740623, 104.49415866666668, 105.17918350000001, 105.17918350000001, 105.17918350000001, 105.17918350000001, 105.17918350000001, 105.17918350000001, 105.17918350000001, 105.17918350000001, 105.17918350000001, 105.17918350000001, 105.17918350000001, 105.17918350000001, 105.17918350000001, 105.17918350000001, 105.17918350000001, 105.17918350000001, 105.17918350000001, 105.17918350000001, 105.17918350000001, 117.44962199999999, 117.803422, 117.803422, 117.803422, 117.803422, 120.62241000000002, 121.75424199999999, 122.24584833333334, 122.878358, 123.7043735, 124.102725, 125.765498, 126.40983250000001, 127.14501849999999, 128.0021065, 128.78819099999998, 129.42595, 130.58535700000002, 131.67435375, 132.855196, 133.755645, 134.38525533333333, 135.314108, 135.314108, 137.64708000000002, 138.71826, 139.53044749999998, 139.71408266666666, 139.7511405, 139.738705, 139.73871333333332, 139.73870966666667, 139.738706, 139.73870366666665, 139.664335, 139.30442766666667, 138.82865800000002, 138.4105685, 137.8019595, 137.20633850000002, 137.20633850000002, 136.354635, 136.24321799999998, 135.969097, 135.701987, 135.460182, 135.460182, 135.460182, 134.7230615, 134.4561615, 133.941338, 133.646514, 133.23063000000002, 132.820473, 132.384497, 131.8611955, 131.34234800000002, 130.77634166666667, 130.77634166666667, 129.73875725, 129.091825, 129.091825, 129.091825, 127.42111499999999, 126.633895, 125.93997949999999, 124.99564299999999, 124.48466499999999, 123.29238000000001, 123.29238000000001, 123.29238000000001, 121.386248, 120.387005, 120.387005, 120.387005, 120.387005, 120.387005, 117.683647, 117.683647, 117.683647, 117.683647, 117.683647, 117.683647, 117.683647, 117.683647, 117.683647, 117.683647, 117.683647, 117.683647, 117.683647, 117.683647, 117.683647, 117.683647, 117.683647, 117.683647, 117.683647, 117.683647, 117.683647, 117.683647, 104.801698, 104.44510766666667, 104.442183, 104.442317, 104.46512525, 104.453995, 104.45230500000001, 104.45392700000001, 104.45446700000001, 104.45387233333334, 104.45333375, 104.45554200000001, 104.45385, 104.3339895, 104.139857, 104.14154333333333, 104.137681, 104.13958399999999, 104.13923, 103.5322185, 103.0493735, 102.011061, 101.45567833333332, 100.74341233333332, 100.45624, 99.35638, 98.98402, 98.98402, 97.773083, 97.773083, 97.773083, 97.773083, 95.28005999999999, 95.28005999999999, 93.728778, 93.728778, 93.728778, 91.509037, 91.509037, 91.509037, 89.547288, 89.547288, 89.547288, 87.59335300000001, 87.121002, 87.121002, 85.48262, 84.961878, 84.961878, 83.54950500000001, 83.54950500000001, 83.54950500000001, 81.5904295, 80.980129, 80.980129, 80.00289233333332, 79.687232, 79.13811233333332, 78.34323, 78.102213, 77.6004085, 77.033473, 76.21592199999999, 75.89011266666667, 75.48169, 75.48169, 75.48169, 74.629825, 74.629825, 74.182373, 73.6498, 73.424598, 72.977214, 72.4882565, 71.95144300000001, 71.95144300000001, 71.423773, 70.96188000000001, 70.96188000000001, 70.378765, 70.378765, 70.378765, 69.547048, 69.292443, 69.292443, 69.292443, 69.292443, 69.292443, 69.292443, 61.62014550000001, 66.9587, 66.58989249999999, 66.229933, 66.027725, 66.19994, 66.188052, 65.965795, 65.965795, 65.43469300000001, 65.22692, 64.6706805, 63.4426185, 62.91086349999999, 61.703258000000005, 60.788971000000004, 59.841513500000005, 58.878052000000004, 58.348968000000006, 57.894331, 57.212181, 56.913841, 56.53345933333333, 55.831697, 55.416129, 54.785436, 53.970855, 53.443020499999996, 52.96638299999999, 52.887088, 52.887209999999996, 52.88719366666667, 52.887087, 52.887102, 52.88716433333334, 52.88716433333334, 52.88716433333334, 52.887158, 53.1259335, 54.00381999999999, 55.270384, 56.52135266666667, 56.677781499999995, 56.52018, 56.5194445, 56.518648, 56.517883499999996, 56.652648666666664, 57.595648, 58.703416, 59.719939999999994, 61.229243499999995, 62.53587325, 64.0460325, 64.0460325, 65.280247, 65.46069800000001, 65.615658, 65.7382485, 65.91990200000001, 65.813727, 65.70409000000001, 65.5102765, 65.394413, 65.28792800000001, 65.32562866666667, 65.6176925, 65.725123, 66.017703, 66.0349545, 66.246963, 66.56634, 66.76302700000001, 66.88320350000001, 67.165235, 67.618053, 67.618053, 68.394323, 68.71781500000002, 69.001425, 69.386455, 69.62011000000001, 70.47724099999999, 71.55340949999999, 72.561162, 73.18795733333333, 74.1340515, 75.13816700000001, 75.865282, 76.05700466666667, 76.0559685, 76.054955, 76.0552265, 76.05508449999999, 76.05481633333333, 76.05353033333334, 76.0533305, 76.053273, 76.05385, 76.0551515, 76.053329, 75.99733699999999, 75.90393900000001, 75.85436666666668, 76.0227855], \"marker\": {\"color\": \"#636efa\"}, \"name\": \"\", \"showlegend\": false, \"type\": \"scattergeo\"}],\n",
              "                        {\"geo\": {\"center\": {}, \"domain\": {\"x\": [0.0, 1.0], \"y\": [0.0, 1.0]}}, \"legend\": {\"tracegroupgap\": 0}, \"margin\": {\"t\": 60}, \"template\": {\"data\": {\"bar\": [{\"error_x\": {\"color\": \"#2a3f5f\"}, \"error_y\": {\"color\": \"#2a3f5f\"}, \"marker\": {\"line\": {\"color\": \"#E5ECF6\", \"width\": 0.5}}, \"type\": \"bar\"}], \"barpolar\": [{\"marker\": {\"line\": {\"color\": \"#E5ECF6\", \"width\": 0.5}}, \"type\": \"barpolar\"}], \"carpet\": [{\"aaxis\": {\"endlinecolor\": \"#2a3f5f\", \"gridcolor\": \"white\", \"linecolor\": \"white\", \"minorgridcolor\": \"white\", \"startlinecolor\": \"#2a3f5f\"}, \"baxis\": {\"endlinecolor\": \"#2a3f5f\", \"gridcolor\": \"white\", \"linecolor\": \"white\", \"minorgridcolor\": \"white\", \"startlinecolor\": \"#2a3f5f\"}, \"type\": \"carpet\"}], \"choropleth\": [{\"colorbar\": {\"outlinewidth\": 0, \"ticks\": \"\"}, \"type\": \"choropleth\"}], \"contour\": [{\"colorbar\": {\"outlinewidth\": 0, \"ticks\": \"\"}, \"colorscale\": [[0.0, \"#0d0887\"], [0.1111111111111111, \"#46039f\"], [0.2222222222222222, \"#7201a8\"], [0.3333333333333333, \"#9c179e\"], [0.4444444444444444, \"#bd3786\"], [0.5555555555555556, \"#d8576b\"], [0.6666666666666666, \"#ed7953\"], [0.7777777777777778, \"#fb9f3a\"], [0.8888888888888888, \"#fdca26\"], [1.0, \"#f0f921\"]], \"type\": \"contour\"}], \"contourcarpet\": [{\"colorbar\": {\"outlinewidth\": 0, \"ticks\": \"\"}, \"type\": \"contourcarpet\"}], \"heatmap\": [{\"colorbar\": {\"outlinewidth\": 0, \"ticks\": \"\"}, \"colorscale\": [[0.0, \"#0d0887\"], [0.1111111111111111, \"#46039f\"], [0.2222222222222222, \"#7201a8\"], [0.3333333333333333, \"#9c179e\"], [0.4444444444444444, \"#bd3786\"], [0.5555555555555556, \"#d8576b\"], [0.6666666666666666, \"#ed7953\"], [0.7777777777777778, \"#fb9f3a\"], [0.8888888888888888, \"#fdca26\"], [1.0, \"#f0f921\"]], \"type\": \"heatmap\"}], \"heatmapgl\": [{\"colorbar\": {\"outlinewidth\": 0, \"ticks\": \"\"}, \"colorscale\": [[0.0, \"#0d0887\"], [0.1111111111111111, \"#46039f\"], [0.2222222222222222, \"#7201a8\"], [0.3333333333333333, \"#9c179e\"], [0.4444444444444444, \"#bd3786\"], [0.5555555555555556, \"#d8576b\"], [0.6666666666666666, \"#ed7953\"], [0.7777777777777778, \"#fb9f3a\"], [0.8888888888888888, \"#fdca26\"], [1.0, \"#f0f921\"]], \"type\": \"heatmapgl\"}], \"histogram\": [{\"marker\": {\"colorbar\": {\"outlinewidth\": 0, \"ticks\": \"\"}}, \"type\": \"histogram\"}], \"histogram2d\": [{\"colorbar\": {\"outlinewidth\": 0, \"ticks\": \"\"}, \"colorscale\": [[0.0, \"#0d0887\"], [0.1111111111111111, \"#46039f\"], [0.2222222222222222, \"#7201a8\"], [0.3333333333333333, \"#9c179e\"], [0.4444444444444444, \"#bd3786\"], [0.5555555555555556, \"#d8576b\"], [0.6666666666666666, \"#ed7953\"], [0.7777777777777778, \"#fb9f3a\"], [0.8888888888888888, \"#fdca26\"], [1.0, \"#f0f921\"]], \"type\": \"histogram2d\"}], \"histogram2dcontour\": [{\"colorbar\": {\"outlinewidth\": 0, \"ticks\": \"\"}, \"colorscale\": [[0.0, \"#0d0887\"], [0.1111111111111111, \"#46039f\"], [0.2222222222222222, \"#7201a8\"], [0.3333333333333333, \"#9c179e\"], [0.4444444444444444, \"#bd3786\"], [0.5555555555555556, \"#d8576b\"], [0.6666666666666666, \"#ed7953\"], [0.7777777777777778, \"#fb9f3a\"], [0.8888888888888888, \"#fdca26\"], [1.0, \"#f0f921\"]], \"type\": \"histogram2dcontour\"}], \"mesh3d\": [{\"colorbar\": {\"outlinewidth\": 0, \"ticks\": \"\"}, \"type\": \"mesh3d\"}], \"parcoords\": [{\"line\": {\"colorbar\": {\"outlinewidth\": 0, \"ticks\": \"\"}}, \"type\": \"parcoords\"}], \"pie\": [{\"automargin\": true, \"type\": \"pie\"}], \"scatter\": [{\"marker\": {\"colorbar\": {\"outlinewidth\": 0, \"ticks\": \"\"}}, \"type\": \"scatter\"}], \"scatter3d\": [{\"line\": {\"colorbar\": {\"outlinewidth\": 0, \"ticks\": \"\"}}, \"marker\": {\"colorbar\": {\"outlinewidth\": 0, \"ticks\": \"\"}}, \"type\": \"scatter3d\"}], \"scattercarpet\": [{\"marker\": {\"colorbar\": {\"outlinewidth\": 0, \"ticks\": \"\"}}, \"type\": \"scattercarpet\"}], \"scattergeo\": [{\"marker\": {\"colorbar\": {\"outlinewidth\": 0, \"ticks\": \"\"}}, \"type\": \"scattergeo\"}], \"scattergl\": [{\"marker\": {\"colorbar\": {\"outlinewidth\": 0, \"ticks\": \"\"}}, \"type\": \"scattergl\"}], \"scattermapbox\": [{\"marker\": {\"colorbar\": {\"outlinewidth\": 0, \"ticks\": \"\"}}, \"type\": \"scattermapbox\"}], \"scatterpolar\": [{\"marker\": {\"colorbar\": {\"outlinewidth\": 0, \"ticks\": \"\"}}, \"type\": \"scatterpolar\"}], \"scatterpolargl\": [{\"marker\": {\"colorbar\": {\"outlinewidth\": 0, \"ticks\": \"\"}}, \"type\": \"scatterpolargl\"}], \"scatterternary\": [{\"marker\": {\"colorbar\": {\"outlinewidth\": 0, \"ticks\": \"\"}}, \"type\": \"scatterternary\"}], \"surface\": [{\"colorbar\": {\"outlinewidth\": 0, \"ticks\": \"\"}, \"colorscale\": [[0.0, \"#0d0887\"], [0.1111111111111111, \"#46039f\"], [0.2222222222222222, \"#7201a8\"], [0.3333333333333333, \"#9c179e\"], [0.4444444444444444, \"#bd3786\"], [0.5555555555555556, \"#d8576b\"], [0.6666666666666666, \"#ed7953\"], [0.7777777777777778, \"#fb9f3a\"], [0.8888888888888888, \"#fdca26\"], [1.0, \"#f0f921\"]], \"type\": \"surface\"}], \"table\": [{\"cells\": {\"fill\": {\"color\": \"#EBF0F8\"}, \"line\": {\"color\": \"white\"}}, \"header\": {\"fill\": {\"color\": \"#C8D4E3\"}, \"line\": {\"color\": \"white\"}}, \"type\": \"table\"}]}, \"layout\": {\"annotationdefaults\": {\"arrowcolor\": \"#2a3f5f\", \"arrowhead\": 0, \"arrowwidth\": 1}, \"coloraxis\": {\"colorbar\": {\"outlinewidth\": 0, \"ticks\": \"\"}}, \"colorscale\": {\"diverging\": [[0, \"#8e0152\"], [0.1, \"#c51b7d\"], [0.2, \"#de77ae\"], [0.3, \"#f1b6da\"], [0.4, \"#fde0ef\"], [0.5, \"#f7f7f7\"], [0.6, \"#e6f5d0\"], [0.7, \"#b8e186\"], [0.8, \"#7fbc41\"], [0.9, \"#4d9221\"], [1, \"#276419\"]], \"sequential\": [[0.0, \"#0d0887\"], [0.1111111111111111, \"#46039f\"], [0.2222222222222222, \"#7201a8\"], [0.3333333333333333, \"#9c179e\"], [0.4444444444444444, \"#bd3786\"], [0.5555555555555556, \"#d8576b\"], [0.6666666666666666, \"#ed7953\"], [0.7777777777777778, \"#fb9f3a\"], [0.8888888888888888, \"#fdca26\"], [1.0, \"#f0f921\"]], \"sequentialminus\": [[0.0, \"#0d0887\"], [0.1111111111111111, \"#46039f\"], [0.2222222222222222, \"#7201a8\"], [0.3333333333333333, \"#9c179e\"], [0.4444444444444444, \"#bd3786\"], [0.5555555555555556, \"#d8576b\"], [0.6666666666666666, \"#ed7953\"], [0.7777777777777778, \"#fb9f3a\"], [0.8888888888888888, \"#fdca26\"], [1.0, \"#f0f921\"]]}, \"colorway\": [\"#636efa\", \"#EF553B\", \"#00cc96\", \"#ab63fa\", \"#FFA15A\", \"#19d3f3\", \"#FF6692\", \"#B6E880\", \"#FF97FF\", \"#FECB52\"], \"font\": {\"color\": \"#2a3f5f\"}, \"geo\": {\"bgcolor\": \"white\", \"lakecolor\": \"white\", \"landcolor\": \"#E5ECF6\", \"showlakes\": true, \"showland\": true, \"subunitcolor\": \"white\"}, \"hoverlabel\": {\"align\": \"left\"}, \"hovermode\": \"closest\", \"mapbox\": {\"style\": \"light\"}, \"paper_bgcolor\": \"white\", \"plot_bgcolor\": \"#E5ECF6\", \"polar\": {\"angularaxis\": {\"gridcolor\": \"white\", \"linecolor\": \"white\", \"ticks\": \"\"}, \"bgcolor\": \"#E5ECF6\", \"radialaxis\": {\"gridcolor\": \"white\", \"linecolor\": \"white\", \"ticks\": \"\"}}, \"scene\": {\"xaxis\": {\"backgroundcolor\": \"#E5ECF6\", \"gridcolor\": \"white\", \"gridwidth\": 2, \"linecolor\": \"white\", \"showbackground\": true, \"ticks\": \"\", \"zerolinecolor\": \"white\"}, \"yaxis\": {\"backgroundcolor\": \"#E5ECF6\", \"gridcolor\": \"white\", \"gridwidth\": 2, \"linecolor\": \"white\", \"showbackground\": true, \"ticks\": \"\", \"zerolinecolor\": \"white\"}, \"zaxis\": {\"backgroundcolor\": \"#E5ECF6\", \"gridcolor\": \"white\", \"gridwidth\": 2, \"linecolor\": \"white\", \"showbackground\": true, \"ticks\": \"\", \"zerolinecolor\": \"white\"}}, \"shapedefaults\": {\"line\": {\"color\": \"#2a3f5f\"}}, \"ternary\": {\"aaxis\": {\"gridcolor\": \"white\", \"linecolor\": \"white\", \"ticks\": \"\"}, \"baxis\": {\"gridcolor\": \"white\", \"linecolor\": \"white\", \"ticks\": \"\"}, \"bgcolor\": \"#E5ECF6\", \"caxis\": {\"gridcolor\": \"white\", \"linecolor\": \"white\", \"ticks\": \"\"}}, \"title\": {\"x\": 0.05}, \"xaxis\": {\"automargin\": true, \"gridcolor\": \"white\", \"linecolor\": \"white\", \"ticks\": \"\", \"title\": {\"standoff\": 15}, \"zerolinecolor\": \"white\", \"zerolinewidth\": 2}, \"yaxis\": {\"automargin\": true, \"gridcolor\": \"white\", \"linecolor\": \"white\", \"ticks\": \"\", \"title\": {\"standoff\": 15}, \"zerolinecolor\": \"white\", \"zerolinewidth\": 2}}}},\n",
              "                        {\"responsive\": true}\n",
              "                    ).then(function(){\n",
              "                            \n",
              "var gd = document.getElementById('dc2cbdf6-da13-4189-a4c4-14928e908f35');\n",
              "var x = new MutationObserver(function (mutations, observer) {{\n",
              "        var display = window.getComputedStyle(gd).display;\n",
              "        if (!display || display === 'none') {{\n",
              "            console.log([gd, 'removed!']);\n",
              "            Plotly.purge(gd);\n",
              "            observer.disconnect();\n",
              "        }}\n",
              "}});\n",
              "\n",
              "// Listen for the removal of the full notebook cells\n",
              "var notebookContainer = gd.closest('#notebook-container');\n",
              "if (notebookContainer) {{\n",
              "    x.observe(notebookContainer, {childList: true});\n",
              "}}\n",
              "\n",
              "// Listen for the clearing of the current output cell\n",
              "var outputEl = gd.closest('.output');\n",
              "if (outputEl) {{\n",
              "    x.observe(outputEl, {childList: true});\n",
              "}}\n",
              "\n",
              "                        })\n",
              "                };\n",
              "                \n",
              "            </script>\n",
              "        </div>\n",
              "</body>\n",
              "</html>"
            ]
          },
          "metadata": {
            "tags": []
          }
        }
      ]
    },
    {
      "cell_type": "code",
      "metadata": {
        "id": "MnaJpiELRKK4"
      },
      "source": [
        "# the dataframes to submit\n",
        "\n",
        "voyages = pd.DataFrame(columns= ['vessel', 'begin_date', 'end_date', 'begin_port_id', 'end_port_id'])\n",
        "predict = pd.DataFrame(columns= ['vessel', 'begin_port_id', 'end_port_id', 'voyage'])"
      ],
      "execution_count": null,
      "outputs": []
    }
  ]
}