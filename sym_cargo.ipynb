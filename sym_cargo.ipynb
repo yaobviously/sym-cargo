{
  "nbformat": 4,
  "nbformat_minor": 0,
  "metadata": {
    "colab": {
      "name": "sym_cargo.ipynb",
      "provenance": [],
      "collapsed_sections": [],
      "mount_file_id": "1bTzsC2_o8Jg772hCJWDRqrHnkqeQuRQx",
      "authorship_tag": "ABX9TyNdbmGueg8V72Srf9qKTzVI",
      "include_colab_link": true
    },
    "kernelspec": {
      "display_name": "Python 3",
      "name": "python3"
    },
    "language_info": {
      "name": "python"
    }
  },
  "cells": [
    {
      "cell_type": "markdown",
      "metadata": {
        "id": "view-in-github",
        "colab_type": "text"
      },
      "source": [
        "<a href=\"https://colab.research.google.com/github/yaobviously/sym-cargo/blob/main/sym_cargo.ipynb\" target=\"_parent\"><img src=\"https://colab.research.google.com/assets/colab-badge.svg\" alt=\"Open In Colab\"/></a>"
      ]
    },
    {
      "cell_type": "code",
      "metadata": {
        "id": "TRudeILZCNAh"
      },
      "source": [
        "!pip install plotly-express --quiet\n",
        "!pip install vincenty --quiet"
      ],
      "execution_count": 149,
      "outputs": []
    },
    {
      "cell_type": "code",
      "metadata": {
        "id": "KFygxcBXBsUT"
      },
      "source": [
        "import pandas as pd\n",
        "import numpy as np\n",
        "import matplotlib.pyplot as plt\n",
        "import seaborn as sns\n",
        "from xgboost import XGBClassifier\n",
        "from sklearn.preprocessing import OneHotEncoder\n",
        "from vincenty import vincenty\n",
        "from sklearn.cluster import DBSCAN\n",
        "from sklearn.neighbors import NearestNeighbors\n",
        "import plotly_express as px"
      ],
      "execution_count": 150,
      "outputs": []
    },
    {
      "cell_type": "code",
      "metadata": {
        "id": "ERdgnPI_B8xV"
      },
      "source": [
        "port_file = '/content/drive/MyDrive/Ports/ports.csv'\n",
        "tracking_file = '/content/drive/MyDrive/Ports/tracking.csv'"
      ],
      "execution_count": 151,
      "outputs": []
    },
    {
      "cell_type": "code",
      "metadata": {
        "id": "VGQ3oW9dCGF6"
      },
      "source": [
        "def wrangle():\n",
        "  \n",
        "  df1 = pd.read_csv(port_file)\n",
        "\n",
        "  # converting lat and long to radians to compute haversine distance\n",
        "  df1['lat_rad'] = np.radians(df1['lat'])\n",
        "  df1['long_rad'] = np.radians(df1['long'])\n",
        "  \n",
        "  # rounding lat and long in port df\n",
        "  df1['lat'] = df1['lat'].round(1)\n",
        "  df1['long'] = df1['long'].round(1)\n",
        "\n",
        "  df2 = pd.read_csv(tracking_file, parse_dates=['datetime'])\n",
        "  df2 = df2.drop_duplicates()\n",
        "  df2 = df2.sort_values(['vessel', 'datetime'])\n",
        "  df2['vessel_1back'] = df2['vessel'].shift()\n",
        "  \n",
        "  # converting lat and long to radians to compute haversine distance  \n",
        "  df2['lat_rad'] = np.radians(df2['lat'])\n",
        "  df2['long_rad'] = np.radians(df2['long'])\n",
        "\n",
        "  # adding lat/long column and lat/long 1 back to later compute delta\n",
        "  df2['lat_long'] = [[x,y] for x, y in zip(df2['lat'], df2['long'])]\n",
        "  df2['lat_long_1back'] = df2.groupby('vessel')['lat_long'].transform(lambda x: x.shift())   \n",
        "  \n",
        "  # time deltas to compute impossible distances travelled\n",
        "  df2['time_delta'] = df2.groupby('vessel')['datetime'].transform(lambda x: x - x.shift(1))\n",
        "  df2['hour_delta'] = df2['time_delta'].apply(lambda x: x.seconds / 3600)\n",
        "\n",
        "  # filtering using query to eliminate unneeded/impossible values\n",
        "  df2 = df2.query('hour_delta > 0.25 & speed <30 & heading <=360 & draft < 12.5')\n",
        "  df2 = df2.reset_index(drop=True)\n",
        "\n",
        "  return df1, df2"
      ],
      "execution_count": 55,
      "outputs": []
    },
    {
      "cell_type": "code",
      "metadata": {
        "id": "jZJrWQ6eCIqV"
      },
      "source": [
        "df1, df2 = wrangle()"
      ],
      "execution_count": 152,
      "outputs": []
    },
    {
      "cell_type": "code",
      "metadata": {
        "id": "TbHcYBVQcWst"
      },
      "source": [
        "df2['vin_diff'] = df2.apply(vincent_distance, axis=1)\n",
        "df2['vin_per_hour'] = df2['vin_diff'] / df2['hour_delta']\n",
        "df2 = df2.query('vin_per_hour <= 50')"
      ],
      "execution_count": 155,
      "outputs": []
    },
    {
      "cell_type": "code",
      "metadata": {
        "id": "B1P_JxyybKHc"
      },
      "source": [
        "# creating a dictionary of ports with their lat and longs - will be used to\n",
        "# repeatedly to explore data and assign values\n",
        "\n",
        "ports = {port:(lat, long) for port, lat, long in zip(df1['port'], df1['lat'], df1['long'])}\n",
        "\n",
        "# a dictionary to retrieve the port id from the index\n",
        "idx_ports = {idx:port for idx, port in zip(df1.index, df1.port)}"
      ],
      "execution_count": 153,
      "outputs": []
    },
    {
      "cell_type": "code",
      "metadata": {
        "colab": {
          "base_uri": "https://localhost:8080/"
        },
        "id": "8Rg5F1xcTElh",
        "outputId": "0798088b-8ded-4b0e-fe52-8599ebc4123d"
      },
      "source": [
        "# training a nearest neighbor model to  find the closest port when the \n",
        "# conditions indicating an extended stop have occurred. the metric is haversine\n",
        "# in order to compute the 'great circle' distance. so i don't forget, the model\n",
        "# returns the *index* of the port, not the port's identifying label\n",
        "\n",
        "ports_train = df1[['lat_rad', 'long_rad']]\n",
        "\n",
        "neigh_ports = NearestNeighbors(n_neighbors=3, algorithm='ball_tree', metric='haversine')\n",
        "neigh_ports.fit(ports_train)\n",
        "\n",
        "dist, n = neigh_ports.kneighbors(np.array([0.677565, 0.469731]).reshape(1,-1))\n",
        "\n",
        "print(dist[0] * 6370)\n",
        "print([idx_ports[n] for n in n[0]])"
      ],
      "execution_count": 154,
      "outputs": [
        {
          "output_type": "stream",
          "text": [
            "[  3.30931026  46.44757565 255.13837716]\n",
            "[82, 113, 44]\n"
          ],
          "name": "stdout"
        }
      ]
    },
    {
      "cell_type": "code",
      "metadata": {
        "id": "YC92dd_FI7MT"
      },
      "source": [
        "def nearest_port(df, radius=0.01):\n",
        "  \"\"\"\n",
        "  returns the port identifier of the nearest port using the nearest neighbors\n",
        "  model \n",
        "  \"\"\"\n",
        "\n",
        "  data = np.array([df['lat_rad'], df['long_rad']]).reshape(1, -1)\n",
        "  dist, pred = neigh_ports.radius_neighbors(data, radius=radius, sort_results = True) \n",
        "\n",
        "  if len(dist[0]) == 0:\n",
        "    return -1\n",
        "  \n",
        "  else:\n",
        "    return idx_ports[pred[0][0]]"
      ],
      "execution_count": 115,
      "outputs": []
    },
    {
      "cell_type": "code",
      "metadata": {
        "id": "t2cHgfSNZbx2"
      },
      "source": [
        "def nearest_distance(df, radius=0.0125):\n",
        "  \"\"\"\n",
        "  returns the distance of the nearest port in the dataset\n",
        "  \"\"\"\n",
        "  \n",
        "  data = np.array([df['lat_rad'], df['long_rad']]).reshape(1, -1)\n",
        "  dist, pred = neigh_ports.radius_neighbors(data, radius=radius, sort_results = True) \n",
        "\n",
        "  if len(dist[0]) == 0:\n",
        "    return -1\n",
        "  \n",
        "  else:\n",
        "    return dist[0][0]\n"
      ],
      "execution_count": 139,
      "outputs": []
    },
    {
      "cell_type": "code",
      "metadata": {
        "id": "3tL74j_2a7LR"
      },
      "source": [
        "def vincent_distance(row):\n",
        "  \"\"\" \n",
        "  returns the vincenty distance for contiguous rows - will be used to identify\n",
        "  impossible distances travelled, and so on. could be used to create distance\n",
        "  matrix, but this may not be worthwhile \n",
        "  \"\"\"\n",
        "  if row['vessel'] != row['vessel_1back']:\n",
        "    return -99\n",
        "\n",
        "  loc1 = row['lat_long']\n",
        "  loc2 = row['lat_long_1back']\n",
        "\n",
        "  try:\n",
        "    distance = vincenty(loc1, loc2)\n",
        "    return distance\n",
        "  except:\n",
        "    return -99"
      ],
      "execution_count": 6,
      "outputs": []
    },
    {
      "cell_type": "code",
      "metadata": {
        "id": "KoYZuM6lqJIa"
      },
      "source": [
        "def vincenty_port(row):\n",
        "  \"\"\"\n",
        "  a function that computes the vincenty distance between the assigned port\n",
        "  and the latitude and longitude of the location data. \n",
        "  \"\"\"\n",
        "  port = row['port_coords']\n",
        "  loc = row['lat_long']\n",
        "  return vincenty(port, loc)"
      ],
      "execution_count": 65,
      "outputs": []
    },
    {
      "cell_type": "code",
      "metadata": {
        "id": "gzAcp84JXkAw"
      },
      "source": [
        "# calculating the minimum and maximum vincenty distances from ports and \n",
        "# storing the values in a dictionary. it may prove useful when distinguishing\n",
        "# between 'in port' and 'waiting around to enter the port'\n",
        "\n",
        "# port_dist = {}\n",
        "\n",
        "# for port in port_ds.keys():\n",
        "#   max_vincenty = port_ds[port]['vdist_port'].max()\n",
        "#   min_vincenty = port_ds[port]['vdist_port'].min()\n",
        "#   port_dist[port] = [max_vincenty, min_vincenty]"
      ],
      "execution_count": null,
      "outputs": []
    },
    {
      "cell_type": "code",
      "metadata": {
        "id": "TxCo8-h_g9E8"
      },
      "source": [
        "def assign_ports(df):\n",
        "  \"\"\"\n",
        "  a function that prepares a dataframe for predictions\n",
        "\n",
        "  Parameters:\n",
        "  ----------\n",
        "        df: pandas dataframe\n",
        "  \n",
        "  Returns:\n",
        "  -------\n",
        "        df: processed pandas dataframe\n",
        "\n",
        "  \"\"\"\n",
        "\n",
        "  # resampling the data to standardize time intervals\n",
        "  df = df.resample('4H').mean().ffill()\n",
        "  df['lat_rad'] = df['lat_rad'].resample('4H').median().ffill()\n",
        "  df['long_rad'] = df['long_rad'].resample('4H').median().ffill()\n",
        "  \n",
        "  # applying a mask to limit the rows the predict function is applied to\n",
        "  mask = (df['vin_per_hour'] <= 0.75)\n",
        "  df_temp = df[mask]\n",
        "\n",
        "  df['pred_port'] = 0\n",
        "  df.loc[mask, 'pred_port'] = df_temp.apply(nearest_port, axis=1)  \n",
        "  df['port_coords'] = [list(ports[k]) if k in ports else -99 for k in df['pred_port']]\n",
        "  df['lat_long'] = [[x,y] for x, y in zip(df['lat'], df['long'])]\n",
        "\n",
        "  # applying a mask to limit the rows vincenty func is applied to\n",
        "  vin_mask = (df['pred_port'] > 0)\n",
        "  vin_temp = df[vin_mask]\n",
        "  \n",
        "  df['port_dist'] = 0\n",
        "  df.loc[vin_mask, 'port_dist'] = vin_temp.apply(vincenty_port, axis=1)\n",
        "\n",
        "  # eliminating entries in sequences where max distance greatly differs from min\n",
        "  # indicates 'waiting to enter port'\n",
        "  df['seq'] = df['pred_port'].diff().ne(0).cumsum()\n",
        "  df['seq_count'] = df.groupby('seq')['seq'].transform('count')\n",
        "  df['dist_diff'] = df.groupby('seq')['port_dist'].transform(lambda x: x - x.min())\n",
        "  df['pred_port'] = np.where(df['dist_diff'] >= 15, 0, df['pred_port'])         # 15km away from closest point this trip to the port \n",
        "  df['pred_port'] = np.where(df['seq_count'] <4, 0, )\n",
        "  # identifying draft changes indicating 'ports' that are not included in the\n",
        "  # ports .csv. without tagging voyages will be mislabelled\n",
        "  df['draft_delta'] = df['draft'].transform(lambda x: abs(x.diff(-1)).ge(0.5))\n",
        "  df['sum_draft_delta'] = df.groupby('seq')['draft_delta'].transform(sum)\n",
        "\n",
        "  # recasting vessel and pred_port columns as integers\n",
        "  df[['vessel', 'pred_port']] = df[['vessel', 'pred_port']].astype(int)\n",
        "\n",
        "  return df"
      ],
      "execution_count": 170,
      "outputs": []
    },
    {
      "cell_type": "code",
      "metadata": {
        "id": "J9tCbNDQiRfQ"
      },
      "source": [
        "# creating a dictionary of vessel dataframes with a datetime index\n",
        "\n",
        "vessel_dfs = {}\n",
        "\n",
        "for vessel in df2.vessel.unique():\n",
        "  df_ = df2[df2['vessel'] == vessel]\n",
        "  vessel_dfs[vessel] = df_.set_index('datetime')\n",
        "\n",
        "# assigning ports to each dataframe\n",
        "processed_dfs = {f'vessel_{key}':assign_ports(vessel_dfs[key]) for key in vessel_dfs.keys()}"
      ],
      "execution_count": 172,
      "outputs": []
    },
    {
      "cell_type": "code",
      "metadata": {
        "id": "BDnoQ4hnfhce"
      },
      "source": [
        "def get_voyages(df):\n",
        "  \"\"\"\n",
        "  a function to convert the port sequences in each dataframe into voyages\n",
        "  with the proper formatting\n",
        "\n",
        "  Parameters:\n",
        "  ----------\n",
        "      df: pandas DataFrame\n",
        "  \n",
        "  Returns:\n",
        "  -------\n",
        "      df: processed pandas DataFrame\n",
        "      \n",
        "  \"\"\"\n",
        "  # filtering out columns without an assigned port\n",
        "  nz = df[(df['pred_port'] > 0) | (df['pred_port'] == -75)].reset_index()\n",
        "\n",
        "  vessel = nz['vessel'][0]\n",
        "  dt = nz['datetime']\n",
        "  pred = nz['pred_port']\n",
        "\n",
        "  records = []\n",
        "\n",
        "  for i in range(len(dt)-1):\n",
        "    if pred[i] != pred[i+1]:\n",
        "      start_port = pred[i]\n",
        "      end_port = pred[i+1]\n",
        "      begin_date = dt[i]\n",
        "      end_date = dt[i+1]\n",
        "      records.append([vessel, begin_date, end_date, start_port, end_port])\n",
        "\n",
        "  df = pd.DataFrame.from_records(records, columns = ['vessel', 'begin_date', 'end_date', 'begin_port_id', 'end_port_id'])\n",
        "  \n",
        "  return df"
      ],
      "execution_count": 110,
      "outputs": []
    },
    {
      "cell_type": "code",
      "metadata": {
        "id": "7SIs4v7TvD-a"
      },
      "source": [
        "voyages_df = pd.concat([get_voyages(processed_dfs[key]) for key in processed_dfs.keys()])\n",
        "voyages_df['len_voyage'] = voyages_df['end_date'] - voyages_df['begin_date']"
      ],
      "execution_count": 173,
      "outputs": []
    },
    {
      "cell_type": "code",
      "metadata": {
        "id": "DMRFXPeCnp86"
      },
      "source": [
        "voyages_df.sort_values(by='len_voyage', ascending=False).head(30)"
      ],
      "execution_count": null,
      "outputs": []
    },
    {
      "cell_type": "code",
      "metadata": {
        "id": "irWz30hWlesV"
      },
      "source": [
        "alldf = pd.concat(processed_dfs[key] for key in processed_dfs.keys())"
      ],
      "execution_count": 175,
      "outputs": []
    },
    {
      "cell_type": "code",
      "metadata": {
        "id": "kF-vL7n3WKGb"
      },
      "source": [
        "def prepare_data(df, n_input = 3):\n",
        "  \"\"\"\n",
        "  preparing the sequences for models. it was setup to be flexible but i chipped\n",
        "  away at it until it returned data for an xgboost \n",
        "  \"\"\"\n",
        "\n",
        "  df = get_voyages(df)\n",
        "  vessel = df['vessel'].iloc[0]\n",
        "  ports_ = np.array(df['begin_port_id'].append(pd.Series(df['end_port_id'].iloc[-1])))  \n",
        "\n",
        "  X = []\n",
        "  Y = []\n",
        "  start = 0\n",
        "\n",
        "  for i in range(len(ports_)):\n",
        "    last_input = start + n_input\n",
        "    last_output = last_input + 3\n",
        "    if last_output <= len(ports_):\n",
        "      x = ports_[start:last_input]\n",
        "      y = ports_[last_input: last_output]\n",
        "      X.append(x)\n",
        "      Y.append(y)\n",
        "      start += 1\n",
        "  try:\n",
        "    df = pd.concat([pd.DataFrame(X),\n",
        "                  pd.DataFrame(Y, columns=['port_1ahead', 'port_2ahead', 'port_3ahead'])], axis=1)\n",
        "    \n",
        "  except:\n",
        "    df = pd.DataFrame()\n",
        "    \n",
        "  # X = []\n",
        "\n",
        "  # for x in X:\n",
        "  #   for n in x:\n",
        "  #     if n == -75:\n",
        "  #       port_coords = [33, 140]\n",
        "  #     else:\n",
        "  #       port_coords = list(ports[n])\n",
        "  #     port = [n]\n",
        "  #     port.extend(port_coords)\n",
        "  #     new_X.append(port)\n",
        "  \n",
        "  df['vessel'] = len(df) * [vessel]\n",
        "  \n",
        "  return df.astype(int)"
      ],
      "execution_count": 73,
      "outputs": []
    },
    {
      "cell_type": "code",
      "metadata": {
        "id": "Du9voL1lKi9i"
      },
      "source": [
        "df = prepare_data(processed_dfs['vessel_133'], 6)"
      ],
      "execution_count": null,
      "outputs": []
    },
    {
      "cell_type": "code",
      "metadata": {
        "id": "MldbZ9EkYdqU"
      },
      "source": [
        "dfs = [prepare_data(processed_dfs[key], 6) for key in processed_dfs.keys()]\n",
        "model_df = pd.concat(dfs)"
      ],
      "execution_count": 79,
      "outputs": []
    },
    {
      "cell_type": "code",
      "metadata": {
        "id": "Dj4GIxf1c5Cg"
      },
      "source": [
        "alldf = pd.concat([processed_dfs[key] for key in processed_dfs.keys()])"
      ],
      "execution_count": 76,
      "outputs": []
    },
    {
      "cell_type": "code",
      "metadata": {
        "colab": {
          "base_uri": "https://localhost:8080/"
        },
        "id": "hIgGSUGJWGT8",
        "outputId": "d5162969-398a-4c4f-83bd-610be7804d93"
      },
      "source": [
        "seq_2 = alldf[alldf['seq_count'] == 2]\n",
        "seq_2"
      ],
      "execution_count": 236,
      "outputs": [
        {
          "output_type": "execute_result",
          "data": {
            "text/plain": [
              "(1220,)"
            ]
          },
          "metadata": {
            "tags": []
          },
          "execution_count": 236
        }
      ]
    },
    {
      "cell_type": "code",
      "metadata": {
        "colab": {
          "base_uri": "https://localhost:8080/"
        },
        "id": "AtTQNF2qY-RB",
        "outputId": "397bb94c-533b-442d-a6ce-1cd1446f08ef"
      },
      "source": [
        "unports = alldf[alldf['pred_port'] == -75]\n",
        "unports['mdl'] = unports.apply(nearest_distance, axis=1)\n",
        "\n",
        "unports.vin_per_hour.median()"
      ],
      "execution_count": 148,
      "outputs": [
        {
          "output_type": "stream",
          "text": [
            "/usr/local/lib/python3.7/dist-packages/ipykernel_launcher.py:2: SettingWithCopyWarning:\n",
            "\n",
            "\n",
            "A value is trying to be set on a copy of a slice from a DataFrame.\n",
            "Try using .loc[row_indexer,col_indexer] = value instead\n",
            "\n",
            "See the caveats in the documentation: https://pandas.pydata.org/pandas-docs/stable/user_guide/indexing.html#returning-a-view-versus-a-copy\n",
            "\n"
          ],
          "name": "stderr"
        },
        {
          "output_type": "execute_result",
          "data": {
            "text/plain": [
              "0.005258840676746354"
            ]
          },
          "metadata": {
            "tags": []
          },
          "execution_count": 148
        }
      ]
    },
    {
      "cell_type": "code",
      "metadata": {
        "id": "r-VUyfvQhahz"
      },
      "source": [
        "# unport = alldf[(alldf['sum_draft_delta'] >= 2) & (alldf['pred_port'] < 0)]\n",
        "# unport.groupby(['vessel', 'seq'])['draft'].agg(first = 'first',\n",
        "#                                    last = 'last')\n",
        "\n",
        "unport['pred_port_alt'] = unport.apply(nearest_port, radius=0.015, axis=1)\n",
        "unport['pred_port_dist_alt'] = unport.apply(nearest_distance, radius=0.015, axis=1)"
      ],
      "execution_count": null,
      "outputs": []
    },
    {
      "cell_type": "code",
      "metadata": {
        "id": "0_TnV_EudLEQ"
      },
      "source": [
        "# creating a dictionary of dataframes for each port and then extracting the min,\n",
        "# max, and max_draft distances for predictions from the dataframe\n",
        "\n",
        "ports_dfs = {}\n",
        "\n",
        "for port in alldf.pred_port.unique():\n",
        "  ports_dfs[port] = alldf[alldf['pred_port'] == port]\n",
        "\n",
        "del ports_dfs[-1]\n",
        "del ports_dfs[0]\n",
        "\n",
        "min_max = {}\n",
        "\n",
        "for df in ports_dfs.keys():\n",
        "  draft_max = ports_dfs[df].query('draft_delta >=1').port_dist.max()\n",
        "  min_max[df] = [ports_dfs[df]['port_dist'].max(), ports_dfs[df]['port_dist'].min(), draft_max]"
      ],
      "execution_count": 211,
      "outputs": []
    },
    {
      "cell_type": "code",
      "metadata": {
        "id": "3z8C5RTevhk0"
      },
      "source": [
        "all_vessels = pd.concat([processed_dfs[key] for key in processed_dfs.keys()])"
      ],
      "execution_count": 124,
      "outputs": []
    },
    {
      "cell_type": "code",
      "metadata": {
        "id": "SDEttASbAmoq"
      },
      "source": [
        "# all_vessels['vessel_1back'] = all_vessels['vessel'].shift()\n",
        "# all_vessels['lat_long_1back'] = all_vessels['lat_long'].shift()\n",
        "# all_vessels['dist_diff'] = all_vessels.apply(vincent_distance, axis=1)\n",
        "\n",
        "dist_check = all_vessels.groupby(['vessel', 'seq'], as_index=False)[['dist_diff', 'seq_count', 'pred_port']].apply(lambda x: x.max())"
      ],
      "execution_count": 150,
      "outputs": []
    },
    {
      "cell_type": "code",
      "metadata": {
        "id": "4vbQUShMB6ry"
      },
      "source": [
        "dist_check['diff_seq'] = dist_check['dist_diff'] / dist_check['seq_count'] \n",
        "print(dist_check.query('diff_seq > 200').to_string())"
      ],
      "execution_count": null,
      "outputs": []
    },
    {
      "cell_type": "code",
      "metadata": {
        "id": "FoHlMDnreu0Y"
      },
      "source": [
        "mask = ((all_vessels['speed'] > 1) & (all_vessels['pred_port'] >0))\n",
        "\n",
        "fast = all_vessels[mask]\n",
        "fast.sort_values(by='speed', ascending=False).head(25)"
      ],
      "execution_count": null,
      "outputs": []
    },
    {
      "cell_type": "code",
      "metadata": {
        "colab": {
          "base_uri": "https://localhost:8080/",
          "height": 542
        },
        "id": "n7T5EmrWQzPC",
        "outputId": "930c3f27-fef2-4c1e-922b-131b4d361cd0"
      },
      "source": [
        "fig = px.scatter_geo(unports, lat='lat', lon='long')\n",
        "\n",
        "fig.show()"
      ],
      "execution_count": 126,
      "outputs": [
        {
          "output_type": "display_data",
          "data": {
            "text/html": [
              "<html>\n",
              "<head><meta charset=\"utf-8\" /></head>\n",
              "<body>\n",
              "    <div>\n",
              "            <script src=\"https://cdnjs.cloudflare.com/ajax/libs/mathjax/2.7.5/MathJax.js?config=TeX-AMS-MML_SVG\"></script><script type=\"text/javascript\">if (window.MathJax) {MathJax.Hub.Config({SVG: {font: \"STIX-Web\"}});}</script>\n",
              "                <script type=\"text/javascript\">window.PlotlyConfig = {MathJaxConfig: 'local'};</script>\n",
              "        <script src=\"https://cdn.plot.ly/plotly-latest.min.js\"></script>    \n",
              "            <div id=\"b980376b-e53c-4e99-9cdd-ec2f2ed41b08\" class=\"plotly-graph-div\" style=\"height:525px; width:100%;\"></div>\n",
              "            <script type=\"text/javascript\">\n",
              "                \n",
              "                    window.PLOTLYENV=window.PLOTLYENV || {};\n",
              "                    \n",
              "                if (document.getElementById(\"b980376b-e53c-4e99-9cdd-ec2f2ed41b08\")) {\n",
              "                    Plotly.newPlot(\n",
              "                        'b980376b-e53c-4e99-9cdd-ec2f2ed41b08',\n",
              "                        [{\"geo\": \"geo\", \"hoverlabel\": {\"namelength\": 0}, \"hovertemplate\": \"lat=%{lat}<br>long=%{lon}\", \"lat\": [8.8344325, 8.832150666666665, 8.833964, 8.833475, 8.833475, 8.83407, 8.833613666666666, 8.83217, 8.833932, 8.833026, 8.833492, 8.835884499999999, 8.836751, 8.832719333333332, 8.834805, 8.836863000000001, 8.836863000000001, 8.832355, 10.907739999999999, 10.882612, 10.876733333333334, 10.8986795, 10.8986795, 10.951763, 10.951763, 10.951763, 10.951763, 10.951763, 10.951763, 10.951763, 10.951763, 10.951763, 10.951763, 10.951763, 10.951763, 10.951763, 10.951763, 10.951763, 10.951763, 10.951763, 10.951763, 10.951763, 10.951763, 10.951763, 10.951763, 1.6175515, 1.6177385000000002, 1.617925, 1.618112, 1.617948, 1.617948, 1.618503, 1.6177929999999998, 1.6179700000000001, 1.617812, 1.617893, 1.617893, 1.6177110000000001, 1.617853, 1.618017, 1.6177839999999999, 1.61755, 1.617738, 1.617738, 1.72317, 1.7236580000000001, 1.7236200000000002, 1.7236200000000002, 1.723703, 1.7234580000000002, 1.7232315, 1.7236435, 1.7236435, 1.7236435, 1.7236435, 1.7236580000000001, 1.7232669999999999, 1.7235369999999999, 1.7235479999999999, 1.723543, 1.723638, 1.723649, 1.723193, 1.723193, 1.7234049999999999, 1.7234900000000002, 1.723783, 1.723802, 1.7234436666666666, 1.723282, 1.7232599999999998, 1.7233275, 1.7236949999999998, 1.723788, 1.7234509999999998, 1.7231150000000002, 1.7235225, 1.7232330000000002, 1.7233080000000003, 1.723608, 30.598300000000002, 30.6005, 30.6005, 30.6005, 30.6005, 30.6005, 30.6005, -19.886249999999997, -19.8329, -19.8299, -19.8393, -19.849, -19.8231, -19.7491, -19.6817, -19.6091, -19.5928, -19.5928, -19.6634, -19.66855, -19.5721, -19.4557, 30.6006, 30.6006, 30.6006, 30.6006, 30.6006, 30.6006, -35.143066000000005, -35.143091, -35.14300666666667, -35.141292500000006, -35.142736, -35.142326, -35.142141, -35.1428685, -35.14282466666666, -35.1427685, -35.1388925, -20.10416, -20.102182, -20.101981, -20.102791, -20.102825, -20.104427, -20.104513, -20.105003250000003, -20.103005999999997, -20.105221999999998, -20.1042925, 29.46095, 29.4259, 29.4234, 29.47215, 29.47215, 29.47215, 29.467, 29.467, 29.50375, 29.50375, 29.50375, 1.4001, 1.39425, 1.3940000000000001, 1.3941, 1.39395, 1.3939, 1.3941, 1.3942, 1.3942, 1.3939, 1.39395, 1.3940000000000001, 1.3941, 1.3941, 1.3941, 1.3939, 1.39405, 1.3942, 1.3942, 1.3943500000000002, 1.3942, 1.3943, 1.3942, 1.3943, 1.3943, 1.3946, 1.3946, 1.3941, 1.3940000000000001, 1.3942, 1.395, 1.3947, 1.3943, 1.3941, 1.3941500000000002, 1.3942, 1.3945, 1.39505, 1.39505, 1.39505, 1.3943500000000002, 1.3941, 1.3943, 1.39465, 1.3945, 1.3945, 1.3942, 1.3943, 1.3944, 1.3946, 1.3969, 1.3942, 1.3943500000000002, 1.3941, 1.3943, 1.39465, 1.3947, 1.3942, 1.39425, 1.3943, 1.3943, 1.3945, 1.3956, 1.3942, 1.3944, 1.3942, 1.3944, 1.3943500000000002, 1.3945, 1.3944, 1.3944, 1.3942, 1.3942, 1.3943500000000002, 1.3944, 1.3941, 1.3942, 1.3942, 1.3944, 1.3943, 1.3945, 1.3945, 1.3943500000000002, 1.3943, 1.3944, 1.39425, 1.3942, 1.3941, 1.3942, 1.3944, 1.3947, 1.3946, 1.3945, 1.3946, 1.3945, 1.3948, 1.3946, 1.3947, 1.3945, 1.395, 1.3944, 1.3944, 1.3944, 1.3949, 1.395, 1.3948, 1.39485, 1.39485, 1.3949, 1.3948, 1.395, 1.3947, 1.39485, 1.3952, 1.3952, 1.39535, 1.3954, 1.3949, 1.3951, 1.395, 1.3954, 1.3979, 1.3967, 1.3956, 1.3953, 1.3958, 1.3954, 1.39765, 1.3979, 1.3957, 1.3952499999999999, 1.3954, 1.3953, 1.4133, 1.4285, 1.4283, 1.4281, 1.4284, 1.4283, 1.4289, 1.4286, 1.4286, 1.4282, 1.4283, 1.4282, 1.42855, 1.429, 1.4284, 1.4282499999999998, 1.4282499999999998, 1.4295, 1.42945, 1.4298, 1.4293, 1.4292500000000001, 1.4294, 1.4292500000000001, 1.4293, 1.4295, 1.4293, 1.4291, 1.4295, 1.4304, 31.411067, 31.410683499999998, 31.410725, 31.411561000000003, 31.413417, -2.275883333, -2.315407, -2.3494948335, -2.332806667, 29.4725, 29.4726, 29.4726, 29.4726, 29.4726, 29.4726, 29.4683, 29.4683, 29.4683, 29.4683, 29.4683, 25.8442, 25.8442, 25.8442, 25.8442, 25.8442, 25.8442, 25.8419, 25.84185, 25.8418, 25.8419, 25.8418, 25.8418, 25.8418, 25.8435, 25.8455, 25.8425, 25.8418, 25.8417, 25.8417, 25.84225, 25.8422, 25.8418, 25.841836666666666, 25.841847223333332, 25.88681, 25.88655889, 25.900592223333334, 25.90060167, 25.900585, 25.900599165000003, 25.90060833, 25.90057833, 25.900617500000003, 25.90058667, 25.900560000000002, 25.900595999999997, 25.9006, 25.90062833, 25.900610835000002, 25.900610835000002, 25.900610835000002, 25.900610835000002, 25.900610835000002, 25.900610835000002, 25.900626665, 25.900572665, 25.900592500000002, 25.900598835, 25.90065667, 25.900595000000003, 25.900646665, 25.90053667, 25.900591, 25.90060733333333, 25.9006035, 25.900625835, 25.900649165, 25.900609333333335, 25.900626664999997, 25.90057389, 25.9005985, 25.90061, 25.900606664999998, 25.900581000000003, 25.90062833, 25.900585829999997, 25.90063, 25.900642665, 25.900648223333334, 25.900591666666667, 25.90058167, 25.900588776666666, 25.90060833, 25.900605, 25.898541665, 25.898554999999998, 25.89857667, 25.898551666666666, 25.89855667, 25.89853167, 25.89858055666667, 25.898595, 25.898551890000004, 25.89856417, 25.89851833, 25.898502, 25.898595, 25.8985415, 25.898572335, 25.898555666666667, 25.89855167, 25.89858, 25.89855917, 25.89854667, 25.8985725, 25.898539553333332, 25.89857833, 25.89852167, 25.898569164999998, 25.898582, 25.89857, 25.898538110000004, 25.898495, 25.89855833, 25.898520830000002, 25.898529999999997, 25.898549776666666, 25.898533223333335, 25.8984875, 25.89848667, 25.898576665, 25.898575, 25.898575, 25.898565835, 25.89853833, 25.89853167, 25.8985675, 25.89854, 25.89855, 25.898506333333334, 25.898547335, 25.89851333, 31.937258999999997, 31.920896999999997, 31.893862333333335, 31.93996, 31.93996, 31.93996, 31.93996, 31.93996, 31.93996, 31.93996, 31.93996, 31.93996, 31.93996, 31.732505, 31.706358, 31.706358, 31.721946999999997, 31.721946999999997, 31.721946999999997, 34.2722625, 34.2722625, 34.2722625, 34.2722625, 30.600571999999996, 30.600571999999996, 30.600571999999996, 30.6005805, 30.600538, 30.600549, 35.476066700000004, 35.4760575, 35.476055, 35.476055, 35.476073299999996, 35.476068299999994, 35.476068299999994, 35.476068299999994, 35.4760783, 35.4760567, 35.47603335, 35.476034999999996, 35.4760658, 35.47607670000001, 35.47606, 35.4760567, 35.47605085, 35.4760625, 35.4760833, 35.47605665, 35.476040000000005, 35.476075, 35.476079150000004, 35.4760783, 35.476079999999996, 35.4760658, 35.47605, 35.4761, 35.4760625, 35.4760625, 35.476073299999996, 35.47606664999999, 35.47606664999999, 35.4760783, 35.4760692, 35.47607, 35.47607, 35.4760783, 35.4760783, 35.4760783, 35.476060849999996, 35.4760633, 35.476085, 35.4761033, 35.4760717, 35.47607670000001, 35.4760625, 35.47606, 35.4760633, 35.476076649999996, 35.47604329999999, 35.4760817, 35.476066700000004, 35.476068299999994, 35.4760833, 35.4760675, 35.4760717, 35.47607415, 35.476071649999994, 35.4760417, 35.4760417, 35.4760417, 35.47604329999999, 35.475967499999996, 35.475967499999996, 35.475967499999996, 35.475967499999996, 35.475967499999996, 35.475967499999996, 35.475967499999996, 35.475967499999996, 35.475967499999996, 35.475967499999996, 35.475967499999996, 35.475967499999996, 35.475967499999996, 35.475967499999996, 35.475967499999996, 35.475967499999996, 35.475967499999996, 35.475967499999996, 35.475967499999996, 35.475967499999996, 35.475967499999996, 35.475967499999996, 35.475967499999996, 35.475967499999996, 35.475967499999996, 35.475967499999996, 35.475967499999996, 35.475967499999996, 35.475967499999996, 35.475967499999996, 35.475967499999996, 35.475967499999996, 35.475967499999996, 35.475967499999996, 35.475967499999996, 35.475967499999996, 35.475967499999996, 35.475967499999996, 35.475967499999996, 35.475967499999996, 35.475967499999996, 35.475967499999996, 35.475967499999996, 35.475967499999996, 35.475967499999996, 35.475967499999996, 35.475967499999996, 35.475967499999996, 35.47600514999999, 35.4759761, 35.4759761, 35.4759761, 35.476007, 35.476007, 35.5264033, 35.528786700000005, 35.528815, 35.528815, 35.528815, 35.528815, 35.528815, 35.528815, 35.528815, 35.528815, 35.528815, 35.528815, 35.528815, 35.528815, 35.528754, 35.528754, 35.528754, 35.528754, 35.528754, 35.528754, 35.528754, 35.528754, 35.528754, 35.528754, 35.528754, 35.528754, 35.528754, 35.528754, 35.528754, 35.528754, 35.528754, 35.528754, 35.528712, 35.52871726, 35.528710000000004, 35.528683433333335, 35.528683433333335, 35.528740850000005, 35.52871164999999, 35.52871523333334, 35.5287283, 35.528715000000005, 35.52873276666667, 35.52873276666667, 35.528719, 35.5287055, 35.528723899999996, 35.52854585, 35.52871533333333, 35.52871533333333, 35.528727, 35.5287315, 35.528715000000005, 35.528678, 35.528744333333336, 35.528720850000006, 35.52872335, 35.528723325, 35.52872166666667, 35.52866066666667, 35.528702499999994, 35.528705, 35.528731500000006, 35.528642999999995, 35.52867085, 35.5286915, 35.52873165, 35.528786700000005, 35.528684999999996, 35.52869676666666, 35.528735000000005, 35.528690149999996, 35.52869815, 35.52870585, 35.52873165, 35.528698, 35.52870634, 35.528713333333336, 35.52872565, 35.5287175, 35.52871915, 35.528705099999996, 35.52871515, 35.52869735, 35.52872433333334, 35.5287475, 35.52873915, 35.528733233333334, 35.528729999999996, 35.5286915, 35.52868933333334, 35.528735, 35.528733, 35.528672, 35.528728, 35.528728, 35.52872, 35.52872, 35.528707, 35.52870156666666, 35.528696999999994, 35.52870435, 35.52871943333333, 35.52872000000001, 35.52870065, 35.528707999999995, 35.528737199999995, 35.52871985, 35.52869933333333, 35.52871085, 35.5287275, 35.52869566666667, 35.52873165, 35.528729, 35.528699, 35.528699, 35.52874, 35.528708, 35.528705, 35.528701649999995, 35.52872, 35.52872, -9.1026, -9.0801, -9.036100000000001, -8.9935, -8.956900000000001, -8.9248, -8.9075, -8.8959, -8.9236, -8.945, 30.60052, 30.60062667, 30.60062667, 30.60062667, 30.60062667, 30.60077667, 30.60077667, 30.60077667, 30.60077667, 30.600582499999998, 30.600595000000002, 30.600585000000002, 30.60058433333333, 30.6005775, 30.599787, 35.524965, 35.524978000000004, 35.524978000000004, 35.524946, 35.524977, 35.5249525, 35.5249525, 35.5249525, 35.5249525, 35.5249525, 35.5249525, 35.5249525, 35.5249525, 35.524933000000004, 35.525005, 35.524988, 35.524963, 35.5249585, 35.524957, 35.524965, 35.524957, 35.524959, 35.524962, 35.52498, 35.524972999999996, 35.524947, 35.524972, 35.524972500000004, 35.524952, 35.524964, 35.524963, 35.524972, 35.524969, 35.524969, 35.524952, 35.524967, 35.524967, 35.524967, 35.5249595, 35.52496, 35.52497, 35.524965, 35.524982, 35.524982, 35.524982, 35.5249695, 35.524967, 35.524955, 35.5249785, 35.524977, 35.524968, 35.5249725, 35.524965, 35.524941999999996, 35.52498, 35.524985, 35.52498, 35.52498, 35.52497, 35.52497, 35.524982, 35.524982, 35.524945, 35.524955, 35.524955, 35.524955, 35.524985, 35.524985, 35.524985, 35.524985, 35.524985, 35.524985, 35.524985, 35.524993, 35.524993, 35.5249425, 35.524988, 35.524952, 35.524957, 35.524947999999995, 35.524956, 35.524985, 35.524985, 35.524961499999996, 35.524972, 35.524997, 35.524997, 35.524997, 35.524997, 35.524997, 35.524997, 35.524997, 35.524997, 35.524997, 35.524997, 35.524997, 35.524997, 35.524997, 35.524997, 35.524997, 35.524997, 35.524997, 35.524997, 35.524997, 35.524997, 35.524997, 35.524997, 35.524997, 35.524997, 35.524997, 35.524997, 35.524997, 35.524997, 35.524997, 35.524997, 35.524997, 35.524997, 35.524997, 35.524997, 35.524997, 35.524997, 35.524997, 35.525025, 35.525009499999996, 35.5249975, 35.5249975, 35.525015999999994, 35.525015, 35.525007, 35.5250075, 35.524985, 35.525008, 35.525023, 35.525023, 35.525023, 35.525017, 35.524967, 35.524997, 35.525022, 35.525022, 35.525007, 35.525007, 35.525007, 35.525007, 35.525003000000005, 35.525003000000005, 35.524992, 35.525017, 35.524987, 35.524987, 35.525023, 35.525023, 35.525007, 35.525007, 35.525007, 35.525007, 35.525025, 35.525025, 35.525003000000005, 35.525003000000005, 35.525003000000005, 35.525002, 35.52502, 35.524823, 35.524823, 35.524823, 35.524823, 35.524843, 35.524848, 35.524848, 35.524837, 35.52487, 35.524828, 35.524852, 35.524852, 35.524852, 35.524852, 35.524852, 35.524852, 35.524813, 35.524825, 35.524825, 35.52482, 35.52482, 35.52482, 35.52482, 35.52482, 35.524842, 35.524852, 35.524852, 35.524798, 35.524832, 35.524845, 35.524833, 35.524833, 35.5248, 35.5248, 35.524815000000004, 35.524815000000004, 35.524805, 35.524805, 35.524805, 35.524832, 35.524832, 35.524857, 35.524853, 30.599549666666665, 30.6006, 30.600575, 30.600583, 30.600560666666667, 30.600433000000002, 30.60055, 1.7584369999999998, 1.758162, 1.758162, 1.758162, 1.758162, 1.758162, 30.600607, 30.600593, 30.600607500000002, 30.600603999999997, 30.600609000000002, 30.600605, 22.112989666666667, 22.112989666666667, 22.1578425, 22.156535, 22.156535, 22.1572125, 30.6004, 30.6004, 30.6004, 30.6004, 30.6004, 30.6004, 30.6004075, 30.600429, 30.600405999999996, 30.6004315, 30.60041666666667, 30.600404500000003, -11.225625, -11.182516666666666, -11.19235, -11.168467, -11.182066666666666, -11.208425, -11.1574165, -11.120583499999999, -11.123744333333333, -11.092377666666666, -11.080511, -11.129727666666668, -11.0979165, -11.319166500000001, -11.3171, -11.301255666666668, -11.299567000000001, -11.338567000000001, 33.9359, 33.9347, 33.9347, 33.9299, 33.93005, 33.9299, 33.93, 33.930400000000006, 33.9296, 33.929, 33.9279, 33.9261, 33.9257, 33.929, 33.9324, 33.9325, 33.932599999999994, 33.932599999999994, 33.9361, 33.937, 33.9376, 33.9377, 33.93625, 33.9377, 33.9362, 33.937650000000005, 33.9391, 33.937, 33.9316, 33.938649999999996, 33.938649999999996, 33.9599, 33.9599, 33.9599, 33.9599, 33.9599, 33.9599, 33.9599, 33.9599, 33.9599, 33.9599, 33.9599, 33.9599, 33.9599, 33.9599, 33.9599, 33.9599, 33.9599, 33.9599, 33.9599, 33.9599, 33.9599, 33.9599, 33.9599, 33.9599, 33.9599, 33.9599, 33.9599, 33.9599, 33.9599, 33.9599, 33.9599, 33.9599, 33.9599, 33.9599, 33.9599, 33.9599, 33.9599, 33.9599, 33.9599, 33.9599, 33.9599, 33.9599, 33.9599, 33.9599, 33.9599, 33.9599, 33.9599, 33.9599, 33.9599, 33.9599, 33.96, 33.96, 33.96, 33.96, 33.9599, 33.9599, 33.9599, 33.9599, 33.9599, 33.9599, 33.9599, 33.9599, 33.9599, 33.9599, 33.9599, 33.9599, 25.6408, 25.6479, 25.6479, 25.6479, 25.6481, 25.6443, 25.6446, 25.6446, 25.6442, 25.6459, 25.64595, 25.64595, 25.64595, 25.6484, 25.6484, 1.5818824999999999, 1.58148915, 1.58148915, 1.58148915, 1.5815891499999999, 1.5815367, 1.581775, 1.5814883, 1.58204, 1.582005, 1.5815, 1.5821067, 1.5821583000000001, 1.58197, 1.58197, 1.58197, 1.58197, 1.58197, 1.58197, 1.5821916999999999, 1.58536, 1.5865025, 1.5834383, 1.58236415, 1.5820583000000001, 1.58213, 1.5844316999999999, 1.5844316999999999, 1.5844316999999999, 1.5844316999999999, 1.5815517, 1.5815367, 1.5829216999999998, 1.5841574999999999, 1.581725, 1.5812758000000002, 1.581325, 1.5811925000000002, 1.58398, 1.58502, 1.58533335, 1.58533335, 1.5811775, 1.581095, 1.5813533000000002, 1.58338, 1.5812017, 1.5838767, 1.5816816999999999, 1.5817083, 1.5817283000000002, 1.5834283000000002, 1.5862, 1.5862, 1.5829383, 1.5833249999999999, 1.5833249999999999, 1.584041667, 1.5840967, 1.5825183, 1.5826566999999998, 1.5826250000000002, 1.5825, 1.5825283, 30.211144666666666, 30.2654415, 30.340616999999998, 30.415811, 30.5289165, 30.573417, 30.632994333333333, 30.632994333333333, 30.716261000000003, 30.83885, 30.952683, 31.0829335, 31.274483, 31.397575000000003, 31.5262, 22.156750000000002, 22.156750000000002, 22.1566, 22.1567, 22.1567, 22.1564, 22.1564, 22.1564, 22.1551, 22.103949999999998, 22.1017, 22.1009, 22.1005, 22.1011, 22.1013, 22.1013, 22.0767, 22.0767, 22.07465, 22.0746, 22.0758, 22.0761, 22.0761, 22.0744, 22.074550000000002, 22.0743, 22.0878, 22.088250000000002, 22.0877, 22.0874, 22.0872, 22.087, 22.09337667, 22.0930725, 22.0930725, 22.0929167, 22.09234333, 22.0936783, 22.092678335000002, 22.15740685, 22.15598667, 22.157267335, 22.15601167, 22.157220000000002, 22.156585566666667, 22.15707489, 22.15591833, 22.15690555666667, 22.156573335, 22.15554333, 22.1560988, 30.6005, 30.6005, 30.6005, 30.600450000000002, 30.6005, 30.600446999999996, 30.600497999999998, 30.600490999999998, 30.60051233333333, 30.600478999999996, 30.6005045, 19.745717000000003, 19.7456665, 19.7456, 19.745767, 19.7457165, 19.745827666666667, 19.745683, 19.745825, 19.74585, 19.74575, 19.745725, 19.745683, 19.7458, 19.74575, 19.745825, 19.745600000000003, 19.745583, 19.666233, 19.666552, 19.666508, 19.666508, 19.666515, 19.666515, 19.666515, 19.666515, 19.666515500000003, 19.6665175, 19.6665175, 19.666532999999998, 19.666532999999998, 19.666536999999998, 19.666526, 19.6665135, 19.666498, 19.66647, 19.666501500000003, 19.66655, 19.6665, 19.6665, 19.666536999999998, 19.6665205, 19.666603, 19.666517000000002, 19.666527000000002, 19.6665225, 19.666501999999998, 19.666523, 19.666523, 19.666523, 19.666512, 19.666483, 19.666525, 19.666523, 19.666523, 19.666520000000002, 19.666520000000002, 19.666495, 19.666514000000003, 19.666471, 19.666532, 19.666548000000002, 19.666519, 19.666508333333336, 19.6665, 19.666536999999998, 19.6665225, 19.66655, 19.6665245, 19.666522, 19.666522, 19.666508, 19.666508, 19.666508, 19.666508, 19.666508, 19.666512, 19.666512, 19.666513000000002, 19.666513000000002, 19.666513000000002, 19.666493, 19.666508, 19.666512, 19.666512, 19.66651, 19.666519, 19.666518, 19.666518, 19.666524999999996, 19.666542, 19.666513000000002, 19.666501, 19.666497666666665, 19.6665265, 19.666528, 19.6665205, 19.666495, 19.666512333333333, 19.666521, 19.666521, 19.666521, 19.666558, 19.66645, 19.666433500000004, 19.666433500000004, 19.666433500000004, 19.666433500000004, 19.666483, 19.666432999999998, 19.666425, 19.666467, 19.666467, 19.666467, 19.666467, 19.666467, 19.666441499999998, 19.666441499999998, 19.666441499999998, 19.666441499999998, 19.666441499999998, 19.7427065, 19.744002, 19.6669335, 19.66125, 19.661235, 19.661265, 19.661305, 19.661233, 19.661265999999998, 19.661268, 19.661262, 19.6612625, 19.661292, 19.661272, 19.661266666666666, 19.661298000000002, 19.661238, 19.6612935, 19.661275, 19.661268, 19.661289, 19.661293, 19.661258, 19.661271, 19.66131, 19.661298000000002, 19.661255, 19.661268, 19.661257, 19.661302499999998, 19.661297, 19.661317999999998, 19.6612915, 19.661257, 19.661270000000002, 19.661294499999997, 19.661275, 19.661307, 19.6612815, 19.661293, 19.661279999999998, 19.661308499999997, 19.661286999999998, 19.661272, 19.661296, 19.661275, 19.661245, 19.661296, 19.661286999999998, 19.661288, 19.661288333333335, 19.661262, 19.661148, 19.6613125, 19.661272, 19.661295000000003, 19.661251999999998, 19.661248, 19.661248, 19.661267000000002, 19.661267000000002, 19.661275, 19.661275, 19.661275, 19.661275, 19.661275, 19.661275, 19.661275, 19.661275, 19.661275, 19.661275, 19.661275, 19.661275, 19.661285, 19.661267000000002, 19.661227, 19.661286999999998, 19.661286, 19.661305, 19.661298000000002, 19.661266500000004, 19.661227, 19.661255, 19.6612375, 19.661286999999998, 19.661272, 19.660911499999997, 19.660618, 19.660618, 19.660618, 19.660618, 19.660643, 19.660624, 19.660617000000002, 19.66064, 19.66062, 19.660657999999998, 19.660655, 19.660611000000003, 19.660652, 19.660655, 19.660618499999998, 19.660615, 19.660583, 19.660615, 19.66064, 19.66066, 19.660618, 19.660618, 19.660618, 19.660618, 19.660612, 19.66066, 19.660636, 19.660652, 19.6729055, 25.35332, 25.357036, 25.357036, 25.352922, 25.3542375, 25.3556595, 22.757877, 22.765258, 22.777277499999997, 22.777277499999997, 22.777277499999997, 22.777277499999997, 22.777277499999997, 22.777277499999997, 22.777277499999997, 22.777277499999997, 22.777277499999997, 22.777277499999997, 22.777277499999997, 22.777277499999997, 22.777277499999997, 22.777277499999997, 22.777277499999997, 22.777277499999997, 30.600516499999998, 30.600483, 30.6005165, 30.600477999999995, 30.600517, 30.600482999999997, 30.600482999999997, 30.600544666666668, 30.6005075, 30.6004835, 30.6004835, 30.600524999999998, 30.600524999999998, 30.600541, 30.6005, 30.600516666666664, 30.6006, 30.6006, 30.6006, 30.6006, 30.6006, 30.6006, 30.6006, 30.6006, 30.6006, 30.6006, 30.6006, 30.57835, 30.6006, 30.6006, 30.6006, 30.6006, 30.6006, 30.6006, 30.6006, 30.6006, 30.6006, 30.6006, 30.6006, 30.6006, 30.6006, 30.6006, 30.6006, 30.6006, 30.6006, 30.6006, 30.6006, 30.6006, 30.5998, 30.599603000000002, 30.600578335, 30.60057167, 30.600587500000003, 30.60057833, 30.60058333, 30.600602776666666, 30.600588334999998, 30.6006025, 30.600595165, 30.600575, 30.600575, 30.600596999999997, 30.600590333333333, 30.600596999999997, 30.600579999999997, 30.600575333333335, 30.600582, 30.60057, 30.599750999999998, 30.600591, 30.600568, 30.600585, 30.600589, 30.60058, 30.60059666666667, 30.600596666666664, 30.600597999999998, 30.6005745, 30.600582499999998, 30.600604999999998, 30.600585, 30.600590000000004, 30.600590000000004, 30.600596999999997, 30.600595, 30.60063, 30.60058, 30.600572, 30.600589333333335, 30.600583, 30.600593999999997, 30.600590000000004, 30.600571666666667, 30.6005915, 30.600579500000002, 30.600587, 30.600565666666665, 30.600587333333333, 30.6005825, 30.600571, 30.600573333333333, 30.600586000000003, 30.600589499999998, 30.600608500000003, 30.600583, 30.6005805, 30.600584000000005, 30.600590000000004, 30.600575, 30.600600666666665, 30.600588000000002, 30.600566, 30.600590666666665, 30.600583, 30.600588499999997, 30.600588499999997, 30.597041, 30.600559999999998, 30.600585, 30.600571666666667, 30.6005845, 30.600589, 30.600556, 30.600568, 30.600568, 30.6005875, 30.600575, 30.600583, 30.6005965, 30.600582, 30.60057, 30.60057, 30.600575, 30.600563, 30.600595000000002, 30.6005775, 30.600587, 30.600587, 30.6005845, 30.600579999999997, 30.600590000000004, 30.5993415, 30.600485499999998, 30.6004625, 30.600493, 30.6004585, 30.600466666666666, 30.600455, 30.600483500000003, 30.600478000000003, 30.600465, 30.600471499999998, 30.600473, 30.6004675, 30.60047, 30.600469666666665, 8.83173, 8.829422000000001, 8.8299835, 8.829452999999999, 8.829102, 8.83048, 8.830047, 8.829227000000001, 8.830435, 8.829323, 8.968622], \"legendgroup\": \"\", \"lon\": [-79.49688900000001, -79.496759, -79.49524000000001, -79.4954845, -79.4954845, -79.4952, -79.495625, -79.49672500000001, -79.495112, -79.495735, -79.495577, -79.4958675, -79.49797566666666, -79.49805166666665, -79.4980355, -79.4980435, -79.4980435, -79.49682, -80.266148, -80.36711700000001, -80.41775766666666, -80.494381, -80.494381, -80.572728, -80.572728, -80.572728, -80.572728, -80.572728, -80.572728, -80.572728, -80.572728, -80.572728, -80.572728, -80.572728, -80.572728, -80.572728, -80.572728, -80.572728, -80.572728, -80.572728, -80.572728, -80.572728, -80.572728, -80.572728, -80.572728, 104.85803250000001, 104.85785150000001, 104.85814199999999, 104.85834299999999, 104.858038, 104.858038, 104.85897299999999, 104.8577965, 104.85804499999999, 104.857727, 104.857873, 104.857873, 104.85775333333333, 104.858098, 104.85812299999999, 104.8577765, 104.857527, 104.85788799999999, 104.85788799999999, 104.899373, 104.90001200000002, 104.89992000000001, 104.89992000000001, 104.900217, 104.89965, 104.89947, 104.89998999999999, 104.89998999999999, 104.89998999999999, 104.89998999999999, 104.899897, 104.899492, 104.89986299999998, 104.899828, 104.89971800000001, 104.899973, 104.8999015, 104.89943999999998, 104.89943999999998, 104.899657, 104.899753, 104.900272, 104.90028799999999, 104.899669, 104.899518, 104.89951, 104.89954399999999, 104.9000715, 104.90011799999999, 104.89965249999999, 104.899257, 104.8997935, 104.89945800000001, 104.89948500000001, 104.8998335, 122.10575, 122.1046, 122.1046, 122.1046, 122.1046, 122.1046, 122.1046, 116.83265, 116.7966, 116.7989, 116.8177, 116.8628, 116.8759, 116.9314, 116.9648, 116.9924, 117.01320000000001, 117.01320000000001, 117.2108, 117.21549999999999, 117.1909, 117.1909, 122.1045, 122.1045, 122.1045, 122.1045, 122.1045, 122.1045, -55.68816233333333, -55.6882625, -55.68769566666666, -55.6890875, -55.6886425, -55.684254, -55.684767333333326, -55.6880935, -55.68841799999999, -55.688455000000005, -55.688406, 57.479643, 57.480498, 57.481420333333325, 57.4803675, 57.479963, 57.4795225, 57.479642000000005, 57.48055875, 57.480166999999994, 57.4801715, 57.48267, 123.13560000000001, 123.0978, 123.0299, 123.14654999999999, 123.14654999999999, 123.14654999999999, 123.1593, 123.1593, 123.14525, 123.14525, 123.14525, 104.6844, 104.68235, 104.6829, 104.6826, 104.6826, 104.6825, 104.6825, 104.68175, 104.68175, 104.68299999999999, 104.68295, 104.6825, 104.6826, 104.6823, 104.6828, 104.6832, 104.68325, 104.6817, 104.6817, 104.68215000000001, 104.6819, 104.682, 104.68195, 104.6811, 104.6811, 104.681, 104.6812, 104.6816, 104.6819, 104.6815, 104.6809, 104.6823, 104.6816, 104.6817, 104.68190000000001, 104.6814, 104.6819, 104.68295, 104.68295, 104.68295, 104.6827, 104.6819, 104.6821, 104.68245, 104.6824, 104.6824, 104.68225, 104.6819, 104.6816, 104.68260000000001, 104.6839, 104.6818, 104.68244999999999, 104.682, 104.6814, 104.6827, 104.68299999999999, 104.6818, 104.6822, 104.6816, 104.6817, 104.68254999999999, 104.6835, 104.6815, 104.68225000000001, 104.6821, 104.6815, 104.6823, 104.6818, 104.681, 104.68185, 104.6816, 104.6816, 104.68185, 104.6817, 104.6815, 104.6815, 104.6815, 104.6813, 104.68135000000001, 104.6823, 104.6823, 104.6822, 104.6822, 104.6819, 104.68195, 104.6824, 104.6823, 104.68154999999999, 104.6816, 104.6807, 104.6808, 104.6809, 104.6804, 104.6808, 104.6806, 104.6808, 104.68065, 104.6811, 104.6813, 104.68105, 104.6812, 104.6813, 104.6812, 104.6811, 104.6809, 104.68045000000001, 104.68045000000001, 104.68074999999999, 104.6809, 104.6806, 104.6808, 104.68065, 104.68, 104.68, 104.68119999999999, 104.6797, 104.6803, 104.6811, 104.6815, 104.6805, 104.6825, 104.6791, 104.6797, 104.68084999999999, 104.6796, 104.6803, 104.68119999999999, 104.679, 104.6798, 104.68105, 104.6806, 104.6802, 104.6723, 104.6607, 104.6606, 104.6616, 104.6609, 104.6607, 104.66195, 104.6619, 104.6619, 104.66175000000001, 104.6616, 104.661, 104.66159999999999, 104.663, 104.6607, 104.66165000000001, 104.66165000000001, 104.6596, 104.6608, 104.6616, 104.6599, 104.6605, 104.6613, 104.66025, 104.6611, 104.6608, 104.6596, 104.6608, 104.6607, 104.6598, 32.273833, 32.272800000000004, 32.2731085, 32.273911, 32.274117, 109.424135, 109.42751799999999, 109.41729515, 109.44945329999999, 123.2498, 123.2507, 123.2507, 123.2507, 123.2507, 123.2507, 123.2506, 123.2506, 123.2506, 123.2506, 123.2506, 51.7538, 51.7538, 51.7538, 51.7538, 51.7538, 51.7538, 51.7581, 51.75765, 51.7572, 51.7575, 51.7572, 51.7572, 51.7569, 51.75515, 51.7551, 51.7558, 51.75725, 51.7568, 51.757, 51.7559, 51.7558, 51.7567, 51.75743111, 51.75698887666667, 51.741392499999996, 51.683372776666666, 51.64882944333334, 51.64879333, 51.64879833, 51.648810835, 51.64880667, 51.64880667, 51.648815, 51.64881833, 51.64880167, 51.64881044333333, 51.64879833, 51.64884333, 51.648811665, 51.648811665, 51.648811665, 51.648811665, 51.648811665, 51.648811665, 51.648810835, 51.648795835, 51.648806, 51.6487903325, 51.64887333, 51.64881167, 51.64884833, 51.6488, 51.648808165000005, 51.64878488666667, 51.6488025, 51.648808165000005, 51.648804, 51.64879311000001, 51.648819, 51.64881777666667, 51.6488035, 51.64879333, 51.64881749999999, 51.6488015, 51.648815, 51.648810835, 51.648804999999996, 51.648799835000005, 51.64876322333333, 51.64881055666667, 51.64879833, 51.64881122333333, 51.64878667, 51.64878667, 51.64902, 51.64904833, 51.64901333, 51.64904955666666, 51.64898, 51.649055, 51.649004999999995, 51.64900833, 51.64900844333332, 51.64901917, 51.648990000000005, 51.649032, 51.649001665, 51.649019835000004, 51.649002499999995, 51.64902333333333, 51.648975, 51.64907833, 51.648995835, 51.64908833, 51.649035, 51.64907344333333, 51.64908, 51.64910333, 51.649029170000006, 51.64905, 51.64901, 51.64904311, 51.649095, 51.64908333, 51.649088335, 51.64908833, 51.64906744333334, 51.64907455666667, 51.649105164999995, 51.64911667, 51.649086665, 51.64906, 51.649035, 51.649068335, 51.64902333, 51.64898833, 51.6490725, 51.649075, 51.64900333, 51.64905811, 51.6490665, 51.6491, 127.219724, 127.25083500000001, 127.251844, 127.295717, 127.295717, 127.295717, 127.295717, 127.295717, 127.295717, 127.295717, 127.295717, 127.295717, 127.295717, 127.286048, 127.274778, 127.274778, 127.200702, 127.200702, 127.200702, 138.7336725, 138.7336725, 138.7336725, 138.7336725, 122.104557, 122.104557, 122.104557, 122.10458400000002, 122.10457199999999, 122.10455950000001, 129.4034308, 129.4034358, 129.40346670000002, 129.40346670000002, 129.40343835, 129.40341329999998, 129.40341329999998, 129.40341329999998, 129.40346670000002, 129.4034433, 129.40344165, 129.4034267, 129.40344414999998, 129.40344670000002, 129.4034567, 129.403455, 129.40342915, 129.40343835, 129.4034317, 129.4034492, 129.4034633, 129.4034283, 129.40344, 129.4034317, 129.4034333, 129.4034475, 129.40346, 129.40343000000001, 129.40342835, 129.40342835, 129.4034483, 129.40344335, 129.40344335, 129.4034567, 129.40344165, 129.40346, 129.40346, 129.40345, 129.40345, 129.40343670000001, 129.40341415, 129.4034533, 129.40345, 129.403445, 129.4034533, 129.4034317, 129.40343000000001, 129.403445, 129.403425, 129.40343085, 129.4034417, 129.4034283, 129.40342084999997, 129.4034267, 129.4034633, 129.40345665, 129.40348500000002, 129.4034283, 129.4034258, 129.40345, 129.40345, 129.40345, 129.4034467, 129.4034175, 129.4034175, 129.4034175, 129.4034175, 129.4034175, 129.4034175, 129.4034175, 129.4034175, 129.4034175, 129.4034175, 129.4034175, 129.4034175, 129.4034175, 129.4034175, 129.4034175, 129.4034175, 129.4034175, 129.4034175, 129.4034175, 129.4034175, 129.4034175, 129.4034175, 129.4034175, 129.4034175, 129.4034175, 129.4034175, 129.4034175, 129.4034175, 129.4034175, 129.4034175, 129.4034175, 129.4034175, 129.4034175, 129.4034175, 129.4034175, 129.4034175, 129.4034175, 129.4034175, 129.4034175, 129.4034175, 129.4034175, 129.4034175, 129.4034175, 129.4034175, 129.4034175, 129.4034175, 129.4034175, 129.4034175, 129.40341935, 129.40342776666665, 129.40342776666665, 129.40342776666665, 129.40339699999998, 129.40339699999998, 129.7924967, 129.4457267, 129.4456867, 129.4456867, 129.4456867, 129.4456867, 129.4456867, 129.4456867, 129.4456867, 129.4456867, 129.4456867, 129.4456867, 129.4456867, 129.4456867, 129.445686, 129.445686, 129.445686, 129.445686, 129.445686, 129.445686, 129.445686, 129.445686, 129.445686, 129.445686, 129.445686, 129.445686, 129.445686, 129.445686, 129.445686, 129.445686, 129.445686, 129.445686, 129.445677, 129.44572374, 129.44570835000002, 129.44569833333333, 129.44569833333333, 129.4457125, 129.44569485, 129.44569943333332, 129.445705, 129.44570664999998, 129.44572666666667, 129.44572666666667, 129.44569265, 129.4456765, 129.44571600000003, 129.44560185, 129.44570423333334, 129.44570423333334, 129.445707, 129.4457416, 129.44571670000002, 129.445697, 129.44574666666668, 129.44573250000002, 129.44571100000002, 129.44568560000002, 129.44572300000002, 129.44572013333334, 129.4457215, 129.44571665, 129.44571685, 129.44573276666668, 129.44578485, 129.4457435, 129.44570685, 129.44567999999998, 129.44574065, 129.4457033333333, 129.44572543333334, 129.4457385, 129.44569665, 129.44568664999997, 129.44572349999999, 129.44572792499997, 129.44573334, 129.44571443333334, 129.44572649999998, 129.44574085, 129.4457185, 129.4457209, 129.44570265000002, 129.44571399999998, 129.44574889999998, 129.44572920000002, 129.44571685, 129.44569023333332, 129.44570664999998, 129.4457385, 129.44573489999996, 129.4456767, 129.44567, 129.4456775, 129.44573300000002, 129.44573300000002, 129.44574949999998, 129.44574949999998, 129.445722, 129.4457149, 129.44574699999998, 129.44574749999998, 129.44573033333333, 129.44568750000002, 129.4456915, 129.44572043333335, 129.44571223333332, 129.44568185, 129.4457332333333, 129.44572, 129.44570685000002, 129.44570099999999, 129.44571915, 129.445745, 129.445722, 129.445722, 129.44569199999998, 129.44571499999998, 129.445737, 129.44572499999998, 129.44573400000002, 129.44573400000002, 127.6555, 127.6495, 127.65764999999999, 127.6865, 127.703, 127.7356, 127.7807, 127.7958, 127.8315, 127.8895, 122.10458329999999, 122.1046517, 122.1046517, 122.1046517, 122.1046517, 122.1048933, 122.1048933, 122.1048933, 122.1048933, 122.10463250000001, 122.10469199999999, 122.104655, 122.10466266666667, 122.1046645, 122.104365, 129.439043, 129.439072, 129.439053, 129.4390505, 129.439088, 129.4390585, 129.4390585, 129.4390585, 129.4390585, 129.4390585, 129.4390585, 129.4390585, 129.4390585, 129.439075, 129.439043, 129.43904799999999, 129.439125, 129.439059, 129.439062, 129.43907, 129.439077, 129.439056, 129.439075, 129.439043, 129.439067, 129.439047, 129.439067, 129.439057, 129.439087, 129.439065, 129.439095, 129.439077, 129.4390565, 129.4390565, 129.43905800000002, 129.439073, 129.439073, 129.439073, 129.43904500000002, 129.43905800000002, 129.43904799999999, 129.439052, 129.439043, 129.439043, 129.439043, 129.43906549999997, 129.43903500000002, 129.439062, 129.43906500000003, 129.43906299999998, 129.439065, 129.439063, 129.43906, 129.439055, 129.4390875, 129.43905700000002, 129.4390635, 129.439082, 129.439053, 129.439053, 129.439053, 129.439053, 129.43906, 129.439072, 129.43905700000002, 129.43905700000002, 129.439056, 129.439056, 129.439056, 129.439056, 129.439056, 129.439056, 129.439056, 129.439062, 129.439062, 129.4390565, 129.439068, 129.439042, 129.4390475, 129.439047, 129.4390625, 129.439037, 129.439037, 129.4390575, 129.439047, 129.43906299999998, 129.43906299999998, 129.43906299999998, 129.43906299999998, 129.43906299999998, 129.43906299999998, 129.43906299999998, 129.43906299999998, 129.43906299999998, 129.43906299999998, 129.43906299999998, 129.43906299999998, 129.43906299999998, 129.43906299999998, 129.43906299999998, 129.43906299999998, 129.43906299999998, 129.43906299999998, 129.43906299999998, 129.43906299999998, 129.43906299999998, 129.43906299999998, 129.43906299999998, 129.43906299999998, 129.43906299999998, 129.43906299999998, 129.43906299999998, 129.43906299999998, 129.43906299999998, 129.43906299999998, 129.43906299999998, 129.43906299999998, 129.43906299999998, 129.43906299999998, 129.43906299999998, 129.43906299999998, 129.43906299999998, 129.43906, 129.43906750000002, 129.43906149999998, 129.43906149999998, 129.439065, 129.43903999999998, 129.439078, 129.4390565, 129.439078, 129.439045, 129.439047, 129.439047, 129.439047, 129.43907, 129.439047, 129.43908000000002, 129.439055, 129.439055, 129.439065, 129.439065, 129.439065, 129.439065, 129.439062, 129.439062, 129.439082, 129.439055, 129.43905700000002, 129.43905700000002, 129.439072, 129.439072, 129.43906, 129.43906, 129.43906, 129.43906, 129.43906, 129.43906, 129.439052, 129.439052, 129.439052, 129.439067, 129.43905700000002, 129.444063, 129.444063, 129.444063, 129.444063, 129.444065, 129.444043, 129.444043, 129.44406, 129.444082, 129.44406, 129.444045, 129.444045, 129.444045, 129.444045, 129.444045, 129.444045, 129.444072, 129.4440525, 129.4440525, 129.444042, 129.444042, 129.444042, 129.444042, 129.444042, 129.444083, 129.44406999999998, 129.44406999999998, 129.44408700000002, 129.444068, 129.444072, 129.444053, 129.444053, 129.444072, 129.444072, 129.444097, 129.444097, 129.444072, 129.444072, 129.444072, 129.44405700000002, 129.44405700000002, 129.44408700000002, 129.444082, 122.10447199999999, 122.10451699999999, 122.10441650000001, 122.104533, 122.10450566666667, 122.10455, 122.104533, 104.479956, 104.479537, 104.479537, 104.479537, 104.479537, 104.479537, 122.10453700000001, 122.10455, 122.10455350000001, 122.104546, 122.10455566666667, 122.1045615, 114.16071266666665, 114.16071266666665, 114.1399145, 114.14047233333334, 114.14047233333334, 114.1404235, 122.1046, 122.1046, 122.1046, 122.1046, 122.1046, 122.1046, 122.10457249999999, 122.10457200000002, 122.10459533333334, 122.1045885, 122.10457000000001, 122.1045745, 129.17472500000002, 129.10525566666664, 129.06045, 128.9723776666667, 128.924239, 128.89256699999999, 128.8314415, 128.8006165, 128.797061, 128.74085533333334, 128.68356100000003, 128.69009433333335, 128.6018, 128.97079200000002, 128.98544149999998, 128.9845, 129.0246, 129.075158, 135.0402, 135.0432, 135.0432, 135.0416, 135.0418, 135.0406, 135.0424, 135.04345, 135.0446, 135.0454, 135.04399999999998, 135.0417, 135.0418, 135.0393, 135.0351, 135.0343, 135.03519999999997, 135.03519999999997, 135.0371, 135.03425, 135.0335, 135.0336, 135.0325, 135.0348, 135.0324, 135.03375, 135.0349, 135.03705, 135.0367, 135.05835000000002, 135.05835000000002, 135.109, 135.109, 135.109, 135.109, 135.109, 135.109, 135.109, 135.109, 135.109, 135.109, 135.109, 135.109, 135.109, 135.109, 135.109, 135.109, 135.109, 135.109, 135.109, 135.109, 135.109, 135.109, 135.109, 135.109, 135.109, 135.109, 135.109, 135.109, 135.109, 135.109, 135.109, 135.109, 135.109, 135.109, 135.109, 135.109, 135.109, 135.109, 135.109, 135.109, 135.109, 135.109, 135.109, 135.109, 135.109, 135.109, 135.109, 135.109, 135.109, 135.109, 135.1091, 135.1091, 135.1091, 135.1091, 135.1091, 135.1091, 135.1091, 135.1091, 135.1091, 135.1091, 135.1091, 135.1091, 135.1091, 135.1091, 135.1091, 135.1091, 56.5948, 56.5975, 56.5975, 56.5975, 56.5977, 56.5969, 56.5965, 56.5965, 56.5956, 56.5943, 56.59455, 56.59455, 56.59455, 56.5965, 56.5965, 104.79903999999999, 104.79993249999998, 104.79993249999998, 104.79993249999998, 104.79930829999999, 104.800575, 104.79899085, 104.7999433, 104.80165, 104.79956915, 104.7995, 104.8019, 104.8004917, 104.8011267, 104.8011267, 104.8011267, 104.8011267, 104.8011267, 104.8011267, 104.8000933, 104.80292829999999, 104.80098415, 104.7988167, 104.80167085, 104.80193829999999, 104.8002133, 104.80304670000001, 104.80304670000001, 104.80304670000001, 104.80304670000001, 104.8011317, 104.80089670000001, 104.8024967, 104.8025708, 104.8015133, 104.80118999999999, 104.801255, 104.8010567, 104.80261, 104.8014667, 104.80159985, 104.80159985, 104.80075165, 104.80041165, 104.8012833, 104.8025092, 104.8012167, 104.803685, 104.80221415, 104.80228170000001, 104.80233670000001, 104.8038267, 104.80361665000001, 104.80361665000001, 104.8029917, 104.80321415, 104.80321415, 104.803845, 104.80383499999999, 104.801975, 104.80080670000001, 104.80109335, 104.80121, 104.8018183, 133.71876666666665, 133.6383415, 133.59405, 133.523961, 133.4865415, 133.479833, 133.43339433333335, 133.43339433333335, 133.332672, 133.29406649999999, 133.3116, 133.35566699999998, 133.42433300000002, 133.47140000000002, 133.512483, 114.13215, 114.13215, 114.1326, 114.1317, 114.1317, 114.1329, 114.1329, 114.1329, 114.1339, 114.16125, 114.18, 114.1814, 114.1822, 114.1809, 114.1808, 114.1807, 114.2031, 114.2031, 114.20224999999999, 114.2016, 114.2014, 114.20150000000001, 114.20150000000001, 114.2017, 114.20165, 114.2016, 114.2022, 114.2022, 114.2023, 114.2025, 114.20259999999999, 114.2027, 114.1970183, 114.19699165, 114.19699165, 114.19708, 114.1974117, 114.19692830000001, 114.19723335, 114.14631835, 114.14608329999999, 114.14586165, 114.1460117, 114.1456767, 114.14584843333334, 114.14570333333332, 114.14623999999999, 114.14589766666666, 114.14593564999998, 114.1480933, 114.14753166666667, 122.1045, 122.1045, 122.1045, 122.1045, 122.1045, 122.104482, 122.104481, 122.1044775, 122.104509, 122.10450033333332, 122.104501, 57.80781700000001, 57.8078915, 57.808267, 57.808517, 57.808350000000004, 57.80799433333333, 57.807217, 57.8081415, 57.80855, 57.808882999999994, 57.8082585, 57.80805, 57.808067, 57.8078585, 57.80846700000001, 57.809124999999995, 57.809433, 57.71735, 57.717012, 57.717031999999996, 57.717031999999996, 57.716993, 57.716993, 57.716993, 57.716993, 57.71700849999999, 57.716994, 57.716994, 57.716981999999994, 57.716981999999994, 57.716919999999995, 57.71698833333334, 57.7169775, 57.71700500000001, 57.716972, 57.71699649999999, 57.716989, 57.71700500000001, 57.71700500000001, 57.716981999999994, 57.7169775, 57.716981999999994, 57.716969999999996, 57.716973499999995, 57.716975000000005, 57.71698000000001, 57.71697566666666, 57.71697566666666, 57.71697566666666, 57.7170045, 57.716963, 57.7169765, 57.717012, 57.717012, 57.716978000000005, 57.717015, 57.716981999999994, 57.71699166666667, 57.716973499999995, 57.716988, 57.71700500000001, 57.716994, 57.71699533333333, 57.716983, 57.716965, 57.716993, 57.7170275, 57.717020999999995, 57.716983, 57.716983, 57.716993, 57.716993, 57.716993, 57.716993, 57.716981999999994, 57.717017000000006, 57.716962, 57.716972, 57.716972, 57.716972, 57.716981999999994, 57.71695, 57.716947499999996, 57.716947499999996, 57.716993, 57.716994, 57.716993, 57.716993, 57.716968666666666, 57.71688, 57.717000999999996, 57.716976, 57.71699933333333, 57.7170075, 57.716998, 57.716981000000004, 57.716977, 57.717017, 57.717001499999995, 57.717001499999995, 57.717001499999995, 57.716977, 57.717025, 57.717, 57.717, 57.717, 57.7170335, 57.7171, 57.717017000000006, 57.7169915, 57.717, 57.717, 57.717, 57.717, 57.717, 57.7169915, 57.7169915, 57.7169915, 57.7169915, 57.7169915, 57.811628999999996, 57.81239, 57.7203035, 57.720127000000005, 57.720107999999996, 57.7200915, 57.720068000000005, 57.720105000000004, 57.720115, 57.72013199999999, 57.720127000000005, 57.7200775, 57.72008, 57.720087, 57.72010433333333, 57.720102000000004, 57.720105000000004, 57.720113, 57.720063, 57.720206999999995, 57.72010266666666, 57.720103, 57.72011, 57.720066, 57.720078, 57.72010699999999, 57.72009799999999, 57.720087, 57.720077, 57.72007599999999, 57.720078, 57.72011, 57.7201025, 57.720113, 57.720105000000004, 57.720074999999994, 57.72011, 57.720087, 57.720085499999996, 57.720082, 57.720123, 57.720081, 57.720075, 57.720098, 57.7201015, 57.720085, 57.720117, 57.7200885, 57.720078, 57.720093000000006, 57.72009333333333, 57.720112, 57.720130000000005, 57.7200675, 57.720073, 57.720123, 57.720125, 57.720117, 57.720117, 57.720105000000004, 57.720105000000004, 57.720082999999995, 57.720082999999995, 57.720082999999995, 57.720082999999995, 57.720082999999995, 57.720082999999995, 57.720082999999995, 57.720082999999995, 57.720082999999995, 57.720082999999995, 57.720082999999995, 57.720082999999995, 57.720095, 57.72009725000001, 57.720123, 57.720063, 57.720101, 57.72006700000001, 57.720169999999996, 57.7201065, 57.720096999999996, 57.720123, 57.7201075, 57.720127000000005, 57.72011, 57.7196325, 57.71908199999999, 57.71908199999999, 57.71908199999999, 57.71908199999999, 57.719063, 57.719095, 57.71909, 57.719058, 57.71911399999999, 57.719053, 57.7191, 57.7191085, 57.719063, 57.719078, 57.719095, 57.719075, 57.719063, 57.719098, 57.719075, 57.719003, 57.7191, 57.7191, 57.7191, 57.7191, 57.71909, 57.719063, 57.719077500000004, 57.719075, 57.7214125, 56.5866, 56.58863000000001, 56.58863000000001, 56.588947999999995, 56.5873725, 56.5884705, 61.757255, 61.739642, 61.69545, 61.69545, 61.69545, 61.69545, 61.69545, 61.69545, 61.69545, 61.69545, 61.69545, 61.69545, 61.69545, 61.69545, 61.69545, 61.69545, 61.69545, 61.69545, 122.1045335, 122.104483, 122.104467, 122.10448866666667, 122.10445, 122.104444, 122.104444, 122.10441666666668, 122.104416, 122.10445849999999, 122.10445849999999, 122.1044835, 122.10445, 122.1044495, 122.1044335, 122.10447233333332, 122.1045, 122.1045, 122.1045, 122.1045, 122.1045, 122.1045, 122.1045, 122.1045, 122.1045, 122.1045, 122.1045, 122.15684999999999, 122.1045, 122.1045, 122.1045, 122.1045, 122.1045, 122.1045, 122.1045, 122.1045, 122.1045, 122.1045, 122.1045, 122.1045, 122.1045, 122.1045, 122.1045, 122.1045, 122.1045, 122.1045, 122.1045, 122.1045, 122.1036, 122.10417, 122.10452165, 122.104525, 122.10452085, 122.10453170000001, 122.1045133, 122.10452023333335, 122.10451814999999, 122.10452999999998, 122.10451015, 122.104508, 122.104508, 122.104532, 122.10452966666666, 122.104518, 122.104528, 122.10451400000001, 122.10455, 122.10451499999999, 122.104903, 122.10451175, 122.10451499999999, 122.10451333333333, 122.10450399999999, 122.104524, 122.104515, 122.10450733333334, 122.10449799999999, 122.10451750000001, 122.10451450000001, 122.1045085, 122.10451, 122.10449299999999, 122.10449299999999, 122.104525, 122.10451950000001, 122.104506, 122.10450499999999, 122.10451699999999, 122.10451666666665, 122.104533, 122.10449766666666, 122.10450850000001, 122.10452300000001, 122.1045175, 122.104512, 122.10451499999999, 122.10450166666668, 122.10451833333333, 122.1045225, 122.10454099999998, 122.10452900000001, 122.10452166666668, 122.1045125, 122.10452999999998, 122.104528, 122.1044875, 122.104525, 122.104487, 122.104524, 122.10452200000002, 122.104525, 122.1045215, 122.10451066666667, 122.104522, 122.10452550000001, 122.10452550000001, 122.10794466666668, 122.104532, 122.104522, 122.10451799999998, 122.1045285, 122.10453033333334, 122.1045225, 122.10453500000001, 122.10453500000001, 122.10454, 122.104518, 122.104502, 122.104516, 122.10452, 122.10451299999998, 122.10451749999999, 122.104502, 122.10452, 122.104518, 122.1045345, 122.10448799999999, 122.10448799999999, 122.1044965, 122.104473, 122.104525, 122.10423450000002, 122.1045435, 122.10450850000001, 122.1045, 122.10452599999999, 122.10450433333334, 122.10451200000001, 122.10449549999998, 122.10452, 122.10452766666667, 122.104525, 122.104521, 122.10451749999999, 122.104511, 122.10452400000001, -79.52669499999999, -79.5271, -79.5265805, -79.52725699999999, -79.528297, -79.5292695, -79.53025500000001, -79.528878, -79.5303445, -79.529063, -79.578535], \"marker\": {\"color\": \"#636efa\"}, \"name\": \"\", \"showlegend\": false, \"type\": \"scattergeo\"}],\n",
              "                        {\"geo\": {\"center\": {}, \"domain\": {\"x\": [0.0, 1.0], \"y\": [0.0, 1.0]}}, \"legend\": {\"tracegroupgap\": 0}, \"margin\": {\"t\": 60}, \"template\": {\"data\": {\"bar\": [{\"error_x\": {\"color\": \"#2a3f5f\"}, \"error_y\": {\"color\": \"#2a3f5f\"}, \"marker\": {\"line\": {\"color\": \"#E5ECF6\", \"width\": 0.5}}, \"type\": \"bar\"}], \"barpolar\": [{\"marker\": {\"line\": {\"color\": \"#E5ECF6\", \"width\": 0.5}}, \"type\": \"barpolar\"}], \"carpet\": [{\"aaxis\": {\"endlinecolor\": \"#2a3f5f\", \"gridcolor\": \"white\", \"linecolor\": \"white\", \"minorgridcolor\": \"white\", \"startlinecolor\": \"#2a3f5f\"}, \"baxis\": {\"endlinecolor\": \"#2a3f5f\", \"gridcolor\": \"white\", \"linecolor\": \"white\", \"minorgridcolor\": \"white\", \"startlinecolor\": \"#2a3f5f\"}, \"type\": \"carpet\"}], \"choropleth\": [{\"colorbar\": {\"outlinewidth\": 0, \"ticks\": \"\"}, \"type\": \"choropleth\"}], \"contour\": [{\"colorbar\": {\"outlinewidth\": 0, \"ticks\": \"\"}, \"colorscale\": [[0.0, \"#0d0887\"], [0.1111111111111111, \"#46039f\"], [0.2222222222222222, \"#7201a8\"], [0.3333333333333333, \"#9c179e\"], [0.4444444444444444, \"#bd3786\"], [0.5555555555555556, \"#d8576b\"], [0.6666666666666666, \"#ed7953\"], [0.7777777777777778, \"#fb9f3a\"], [0.8888888888888888, \"#fdca26\"], [1.0, \"#f0f921\"]], \"type\": \"contour\"}], \"contourcarpet\": [{\"colorbar\": {\"outlinewidth\": 0, \"ticks\": \"\"}, \"type\": \"contourcarpet\"}], \"heatmap\": [{\"colorbar\": {\"outlinewidth\": 0, \"ticks\": \"\"}, \"colorscale\": [[0.0, \"#0d0887\"], [0.1111111111111111, \"#46039f\"], [0.2222222222222222, \"#7201a8\"], [0.3333333333333333, \"#9c179e\"], [0.4444444444444444, \"#bd3786\"], [0.5555555555555556, \"#d8576b\"], [0.6666666666666666, \"#ed7953\"], [0.7777777777777778, \"#fb9f3a\"], [0.8888888888888888, \"#fdca26\"], [1.0, \"#f0f921\"]], \"type\": \"heatmap\"}], \"heatmapgl\": [{\"colorbar\": {\"outlinewidth\": 0, \"ticks\": \"\"}, \"colorscale\": [[0.0, \"#0d0887\"], [0.1111111111111111, \"#46039f\"], [0.2222222222222222, \"#7201a8\"], [0.3333333333333333, \"#9c179e\"], [0.4444444444444444, \"#bd3786\"], [0.5555555555555556, \"#d8576b\"], [0.6666666666666666, \"#ed7953\"], [0.7777777777777778, \"#fb9f3a\"], [0.8888888888888888, \"#fdca26\"], [1.0, \"#f0f921\"]], \"type\": \"heatmapgl\"}], \"histogram\": [{\"marker\": {\"colorbar\": {\"outlinewidth\": 0, \"ticks\": \"\"}}, \"type\": \"histogram\"}], \"histogram2d\": [{\"colorbar\": {\"outlinewidth\": 0, \"ticks\": \"\"}, \"colorscale\": [[0.0, \"#0d0887\"], [0.1111111111111111, \"#46039f\"], [0.2222222222222222, \"#7201a8\"], [0.3333333333333333, \"#9c179e\"], [0.4444444444444444, \"#bd3786\"], [0.5555555555555556, \"#d8576b\"], [0.6666666666666666, \"#ed7953\"], [0.7777777777777778, \"#fb9f3a\"], [0.8888888888888888, \"#fdca26\"], [1.0, \"#f0f921\"]], \"type\": \"histogram2d\"}], \"histogram2dcontour\": [{\"colorbar\": {\"outlinewidth\": 0, \"ticks\": \"\"}, \"colorscale\": [[0.0, \"#0d0887\"], [0.1111111111111111, \"#46039f\"], [0.2222222222222222, \"#7201a8\"], [0.3333333333333333, \"#9c179e\"], [0.4444444444444444, \"#bd3786\"], [0.5555555555555556, \"#d8576b\"], [0.6666666666666666, \"#ed7953\"], [0.7777777777777778, \"#fb9f3a\"], [0.8888888888888888, \"#fdca26\"], [1.0, \"#f0f921\"]], \"type\": \"histogram2dcontour\"}], \"mesh3d\": [{\"colorbar\": {\"outlinewidth\": 0, \"ticks\": \"\"}, \"type\": \"mesh3d\"}], \"parcoords\": [{\"line\": {\"colorbar\": {\"outlinewidth\": 0, \"ticks\": \"\"}}, \"type\": \"parcoords\"}], \"pie\": [{\"automargin\": true, \"type\": \"pie\"}], \"scatter\": [{\"marker\": {\"colorbar\": {\"outlinewidth\": 0, \"ticks\": \"\"}}, \"type\": \"scatter\"}], \"scatter3d\": [{\"line\": {\"colorbar\": {\"outlinewidth\": 0, \"ticks\": \"\"}}, \"marker\": {\"colorbar\": {\"outlinewidth\": 0, \"ticks\": \"\"}}, \"type\": \"scatter3d\"}], \"scattercarpet\": [{\"marker\": {\"colorbar\": {\"outlinewidth\": 0, \"ticks\": \"\"}}, \"type\": \"scattercarpet\"}], \"scattergeo\": [{\"marker\": {\"colorbar\": {\"outlinewidth\": 0, \"ticks\": \"\"}}, \"type\": \"scattergeo\"}], \"scattergl\": [{\"marker\": {\"colorbar\": {\"outlinewidth\": 0, \"ticks\": \"\"}}, \"type\": \"scattergl\"}], \"scattermapbox\": [{\"marker\": {\"colorbar\": {\"outlinewidth\": 0, \"ticks\": \"\"}}, \"type\": \"scattermapbox\"}], \"scatterpolar\": [{\"marker\": {\"colorbar\": {\"outlinewidth\": 0, \"ticks\": \"\"}}, \"type\": \"scatterpolar\"}], \"scatterpolargl\": [{\"marker\": {\"colorbar\": {\"outlinewidth\": 0, \"ticks\": \"\"}}, \"type\": \"scatterpolargl\"}], \"scatterternary\": [{\"marker\": {\"colorbar\": {\"outlinewidth\": 0, \"ticks\": \"\"}}, \"type\": \"scatterternary\"}], \"surface\": [{\"colorbar\": {\"outlinewidth\": 0, \"ticks\": \"\"}, \"colorscale\": [[0.0, \"#0d0887\"], [0.1111111111111111, \"#46039f\"], [0.2222222222222222, \"#7201a8\"], [0.3333333333333333, \"#9c179e\"], [0.4444444444444444, \"#bd3786\"], [0.5555555555555556, \"#d8576b\"], [0.6666666666666666, \"#ed7953\"], [0.7777777777777778, \"#fb9f3a\"], [0.8888888888888888, \"#fdca26\"], [1.0, \"#f0f921\"]], \"type\": \"surface\"}], \"table\": [{\"cells\": {\"fill\": {\"color\": \"#EBF0F8\"}, \"line\": {\"color\": \"white\"}}, \"header\": {\"fill\": {\"color\": \"#C8D4E3\"}, \"line\": {\"color\": \"white\"}}, \"type\": \"table\"}]}, \"layout\": {\"annotationdefaults\": {\"arrowcolor\": \"#2a3f5f\", \"arrowhead\": 0, \"arrowwidth\": 1}, \"coloraxis\": {\"colorbar\": {\"outlinewidth\": 0, \"ticks\": \"\"}}, \"colorscale\": {\"diverging\": [[0, \"#8e0152\"], [0.1, \"#c51b7d\"], [0.2, \"#de77ae\"], [0.3, \"#f1b6da\"], [0.4, \"#fde0ef\"], [0.5, \"#f7f7f7\"], [0.6, \"#e6f5d0\"], [0.7, \"#b8e186\"], [0.8, \"#7fbc41\"], [0.9, \"#4d9221\"], [1, \"#276419\"]], \"sequential\": [[0.0, \"#0d0887\"], [0.1111111111111111, \"#46039f\"], [0.2222222222222222, \"#7201a8\"], [0.3333333333333333, \"#9c179e\"], [0.4444444444444444, \"#bd3786\"], [0.5555555555555556, \"#d8576b\"], [0.6666666666666666, \"#ed7953\"], [0.7777777777777778, \"#fb9f3a\"], [0.8888888888888888, \"#fdca26\"], [1.0, \"#f0f921\"]], \"sequentialminus\": [[0.0, \"#0d0887\"], [0.1111111111111111, \"#46039f\"], [0.2222222222222222, \"#7201a8\"], [0.3333333333333333, \"#9c179e\"], [0.4444444444444444, \"#bd3786\"], [0.5555555555555556, \"#d8576b\"], [0.6666666666666666, \"#ed7953\"], [0.7777777777777778, \"#fb9f3a\"], [0.8888888888888888, \"#fdca26\"], [1.0, \"#f0f921\"]]}, \"colorway\": [\"#636efa\", \"#EF553B\", \"#00cc96\", \"#ab63fa\", \"#FFA15A\", \"#19d3f3\", \"#FF6692\", \"#B6E880\", \"#FF97FF\", \"#FECB52\"], \"font\": {\"color\": \"#2a3f5f\"}, \"geo\": {\"bgcolor\": \"white\", \"lakecolor\": \"white\", \"landcolor\": \"#E5ECF6\", \"showlakes\": true, \"showland\": true, \"subunitcolor\": \"white\"}, \"hoverlabel\": {\"align\": \"left\"}, \"hovermode\": \"closest\", \"mapbox\": {\"style\": \"light\"}, \"paper_bgcolor\": \"white\", \"plot_bgcolor\": \"#E5ECF6\", \"polar\": {\"angularaxis\": {\"gridcolor\": \"white\", \"linecolor\": \"white\", \"ticks\": \"\"}, \"bgcolor\": \"#E5ECF6\", \"radialaxis\": {\"gridcolor\": \"white\", \"linecolor\": \"white\", \"ticks\": \"\"}}, \"scene\": {\"xaxis\": {\"backgroundcolor\": \"#E5ECF6\", \"gridcolor\": \"white\", \"gridwidth\": 2, \"linecolor\": \"white\", \"showbackground\": true, \"ticks\": \"\", \"zerolinecolor\": \"white\"}, \"yaxis\": {\"backgroundcolor\": \"#E5ECF6\", \"gridcolor\": \"white\", \"gridwidth\": 2, \"linecolor\": \"white\", \"showbackground\": true, \"ticks\": \"\", \"zerolinecolor\": \"white\"}, \"zaxis\": {\"backgroundcolor\": \"#E5ECF6\", \"gridcolor\": \"white\", \"gridwidth\": 2, \"linecolor\": \"white\", \"showbackground\": true, \"ticks\": \"\", \"zerolinecolor\": \"white\"}}, \"shapedefaults\": {\"line\": {\"color\": \"#2a3f5f\"}}, \"ternary\": {\"aaxis\": {\"gridcolor\": \"white\", \"linecolor\": \"white\", \"ticks\": \"\"}, \"baxis\": {\"gridcolor\": \"white\", \"linecolor\": \"white\", \"ticks\": \"\"}, \"bgcolor\": \"#E5ECF6\", \"caxis\": {\"gridcolor\": \"white\", \"linecolor\": \"white\", \"ticks\": \"\"}}, \"title\": {\"x\": 0.05}, \"xaxis\": {\"automargin\": true, \"gridcolor\": \"white\", \"linecolor\": \"white\", \"ticks\": \"\", \"title\": {\"standoff\": 15}, \"zerolinecolor\": \"white\", \"zerolinewidth\": 2}, \"yaxis\": {\"automargin\": true, \"gridcolor\": \"white\", \"linecolor\": \"white\", \"ticks\": \"\", \"title\": {\"standoff\": 15}, \"zerolinecolor\": \"white\", \"zerolinewidth\": 2}}}},\n",
              "                        {\"responsive\": true}\n",
              "                    ).then(function(){\n",
              "                            \n",
              "var gd = document.getElementById('b980376b-e53c-4e99-9cdd-ec2f2ed41b08');\n",
              "var x = new MutationObserver(function (mutations, observer) {{\n",
              "        var display = window.getComputedStyle(gd).display;\n",
              "        if (!display || display === 'none') {{\n",
              "            console.log([gd, 'removed!']);\n",
              "            Plotly.purge(gd);\n",
              "            observer.disconnect();\n",
              "        }}\n",
              "}});\n",
              "\n",
              "// Listen for the removal of the full notebook cells\n",
              "var notebookContainer = gd.closest('#notebook-container');\n",
              "if (notebookContainer) {{\n",
              "    x.observe(notebookContainer, {childList: true});\n",
              "}}\n",
              "\n",
              "// Listen for the clearing of the current output cell\n",
              "var outputEl = gd.closest('.output');\n",
              "if (outputEl) {{\n",
              "    x.observe(outputEl, {childList: true});\n",
              "}}\n",
              "\n",
              "                        })\n",
              "                };\n",
              "                \n",
              "            </script>\n",
              "        </div>\n",
              "</body>\n",
              "</html>"
            ]
          },
          "metadata": {
            "tags": []
          }
        }
      ]
    },
    {
      "cell_type": "code",
      "metadata": {
        "id": "MnaJpiELRKK4"
      },
      "source": [
        "# the dataframes to submit\n",
        "\n",
        "voyages = pd.DataFrame(columns= ['vessel', 'begin_date', 'end_date', 'begin_port_id', 'end_port_id'])\n",
        "predict = pd.DataFrame(columns= ['vessel', 'begin_port_id', 'end_port_id', 'voyage'])"
      ],
      "execution_count": null,
      "outputs": []
    }
  ]
}