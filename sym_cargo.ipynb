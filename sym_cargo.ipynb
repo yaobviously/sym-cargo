{
  "nbformat": 4,
  "nbformat_minor": 0,
  "metadata": {
    "colab": {
      "name": "sym_cargo.ipynb",
      "provenance": [],
      "collapsed_sections": [],
      "mount_file_id": "1bTzsC2_o8Jg772hCJWDRqrHnkqeQuRQx",
      "authorship_tag": "ABX9TyOTAPgkrspaL11bwQGUUy6E",
      "include_colab_link": true
    },
    "kernelspec": {
      "display_name": "Python 3",
      "name": "python3"
    },
    "language_info": {
      "name": "python"
    }
  },
  "cells": [
    {
      "cell_type": "markdown",
      "metadata": {
        "id": "view-in-github",
        "colab_type": "text"
      },
      "source": [
        "<a href=\"https://colab.research.google.com/github/yaobviously/sym-cargo/blob/main/sym_cargo.ipynb\" target=\"_parent\"><img src=\"https://colab.research.google.com/assets/colab-badge.svg\" alt=\"Open In Colab\"/></a>"
      ]
    },
    {
      "cell_type": "code",
      "metadata": {
        "id": "TRudeILZCNAh",
        "colab": {
          "base_uri": "https://localhost:8080/"
        },
        "outputId": "b6e629b9-2af4-4914-ef4f-56bd74c4354a"
      },
      "source": [
        "!pip install plotly-express --quiet\n",
        "!pip install vincenty --quiet"
      ],
      "execution_count": 1,
      "outputs": [
        {
          "output_type": "stream",
          "text": [
            "  Building wheel for vincenty (setup.py) ... \u001b[?25l\u001b[?25hdone\n"
          ],
          "name": "stdout"
        }
      ]
    },
    {
      "cell_type": "code",
      "metadata": {
        "id": "KFygxcBXBsUT"
      },
      "source": [
        "import pandas as pd\n",
        "import numpy as np\n",
        "import matplotlib.pyplot as plt\n",
        "import seaborn as sns\n",
        "from xgboost import XGBClassifier\n",
        "from keras.models import Sequential\n",
        "from keras.layers import Dense, LSTM, Bidirectional\n",
        "from sklearn.preprocessing import OneHotEncoder\n",
        "from vincenty import vincenty\n",
        "from sklearn.neighbors import NearestNeighbors\n",
        "import plotly_express as px"
      ],
      "execution_count": 2,
      "outputs": []
    },
    {
      "cell_type": "code",
      "metadata": {
        "id": "ERdgnPI_B8xV"
      },
      "source": [
        "port_file = '/content/drive/MyDrive/Ports/ports.csv'\n",
        "tracking_file = '/content/drive/MyDrive/Ports/tracking.csv'"
      ],
      "execution_count": 3,
      "outputs": []
    },
    {
      "cell_type": "code",
      "metadata": {
        "id": "VGQ3oW9dCGF6"
      },
      "source": [
        "def wrangle():\n",
        "  \n",
        "  df1 = pd.read_csv(port_file)\n",
        "\n",
        "  # converting lat and long to radians to compute haversine distance\n",
        "  df1['lat_rad'] = np.radians(df1['lat'])\n",
        "  df1['long_rad'] = np.radians(df1['long'])\n",
        "  \n",
        "  # rounding lat and long in port df\n",
        "  df1['lat'] = df1['lat'].round(1)\n",
        "  df1['long'] = df1['long'].round(1)\n",
        "\n",
        "  df2 = pd.read_csv(tracking_file, parse_dates=['datetime'])\n",
        "  df2 = df2.drop_duplicates()\n",
        "  df2 = df2.sort_values(['vessel', 'datetime'])\n",
        "  \n",
        "  # converting lat and long to radians to compute haversine distance  \n",
        "  df2['lat_rad'] = np.radians(df2['lat'])\n",
        "  df2['long_rad'] = np.radians(df2['long'])\n",
        "\n",
        "  # adding lat/long column and lat/long 1 back to later compute delta\n",
        "  df2['lat_long'] = [[x,y] for x, y in zip(df2['lat'], df2['long'])]\n",
        "  df2['lat_long_1back'] = df2.groupby('vessel')['lat_long'].transform(lambda x: x.shift())   \n",
        "  \n",
        "  # months and days\n",
        "  df2['time_delta'] = df2.groupby('vessel')['datetime'].transform(lambda x: x.diff(1))\n",
        "  df2['delta_hours'] = df2.groupby('vessel')['time_delta'].transform(lambda x: [(n.seconds/3600) + (n.days *24) for n in x])\n",
        "  df2 = df2.drop(columns=['time_delta'])\n",
        "\n",
        "  df2 = df2.reset_index(drop=True)\n",
        "\n",
        "  return df1, df2"
      ],
      "execution_count": 4,
      "outputs": []
    },
    {
      "cell_type": "code",
      "metadata": {
        "id": "jZJrWQ6eCIqV"
      },
      "source": [
        "df1, df2 = wrangle()"
      ],
      "execution_count": 5,
      "outputs": []
    },
    {
      "cell_type": "code",
      "metadata": {
        "id": "B1P_JxyybKHc"
      },
      "source": [
        "# creating a dictionary of ports with their lat and longs - will be used to\n",
        "# repeatedly to explore data and assign values\n",
        "\n",
        "ports = {port:(lat, long) for port, lat, long in zip(df1['port'], df1['lat'], df1['long'])}\n",
        "\n",
        "# a dictionary to retrieve the port id from the index\n",
        "idx_ports = {idx:port for idx, port in zip(df1.index, df1.port)}"
      ],
      "execution_count": 6,
      "outputs": []
    },
    {
      "cell_type": "code",
      "metadata": {
        "colab": {
          "base_uri": "https://localhost:8080/"
        },
        "id": "8Rg5F1xcTElh",
        "outputId": "d81e2391-178c-4553-e6aa-4f94e25c1dc4"
      },
      "source": [
        "# training a nearest neighbor model to  find the closest port when the \n",
        "# conditions indicating an extended stop have occurred. the metric is haversine\n",
        "# in order to compute the 'great circle' distance. so i don't forget, the model\n",
        "# returns the *index* of the port, not the port's identifying label\n",
        "\n",
        "ports_train = df1[['lat_rad', 'long_rad']]\n",
        "\n",
        "neigh_ports = NearestNeighbors(n_neighbors=3, algorithm='ball_tree', metric='haversine')\n",
        "neigh_ports.fit(ports_train)\n",
        "\n",
        "dist, n = neigh_ports.kneighbors(np.array([0.677565, 0.469731]).reshape(1,-1))\n",
        "\n",
        "print(dist[0] * 6370)\n",
        "print([idx_ports[n] for n in n[0]])"
      ],
      "execution_count": 7,
      "outputs": [
        {
          "output_type": "stream",
          "text": [
            "[  3.30931026  46.44757565 255.13837716]\n",
            "[82, 113, 44]\n"
          ],
          "name": "stdout"
        }
      ]
    },
    {
      "cell_type": "code",
      "metadata": {
        "id": "WIv14X-Ts8XG"
      },
      "source": [
        "# functions to quickly inspect dataframe to figure out what's up\n",
        "\n",
        "# def get_dates(vessel=111, start='2019-01-01', end='2019-12-25'):\n",
        "\n",
        "#   df = df2[(df2.datetime >= start) & (df2.datetime <=end)]\n",
        "#   df = df[df['vessel'] == vessel]\n",
        "  \n",
        "#   return df\n",
        "\n",
        "# def where_zero(vessel = 75):\n",
        "  \n",
        "#   df_ = df2[(df2['vessel'] == vessel) & (df2['speed'] <= 0.5)]\n",
        "  \n",
        "#   return df_"
      ],
      "execution_count": 8,
      "outputs": []
    },
    {
      "cell_type": "code",
      "metadata": {
        "id": "YC92dd_FI7MT"
      },
      "source": [
        "def nearest_port(df):\n",
        "  \"\"\"\n",
        "  returns the port identifier of the nearest port using the nearest neighbors\n",
        "  model \n",
        "  \"\"\"\n",
        "\n",
        "  data = np.array([df['lat_rad'], df['long_rad']]).reshape(1, -1)\n",
        "  dist, pred = neigh_ports.radius_neighbors(data, radius=0.0085, sort_results = True) \n",
        "\n",
        "  if len(dist[0]) == 0:\n",
        "    return -1\n",
        "  \n",
        "  else:\n",
        "    return idx_ports[pred[0][0]]"
      ],
      "execution_count": 115,
      "outputs": []
    },
    {
      "cell_type": "code",
      "metadata": {
        "id": "t2cHgfSNZbx2"
      },
      "source": [
        "def nearest_distance(df):\n",
        "  \"\"\"\n",
        "  returns the distance of the nearest port in the dataset\n",
        "  \"\"\"\n",
        "  \n",
        "  data = np.array([df['lat_rad'], df['long_rad']]).reshape(1, -1)\n",
        "  dist, pred = neigh_ports.radius_neighbors(data, radius=0.0085, sort_results = True) \n",
        "\n",
        "  if len(dist[0]) == 0:\n",
        "    return -1\n",
        "  \n",
        "  else:\n",
        "    return dist[0][0]\n"
      ],
      "execution_count": 10,
      "outputs": []
    },
    {
      "cell_type": "code",
      "metadata": {
        "id": "3tL74j_2a7LR"
      },
      "source": [
        "def vincent_distance(row):\n",
        "  \"\"\" \n",
        "  returns the vincenty distance for contiguous rows - will be used to identify\n",
        "  impossible distances travelled, and so on. could be used to create distance\n",
        "  matrix, but this may not be worthwhile \n",
        "  \"\"\"\n",
        "  if row['vessel'] != row['vessel_1back']:\n",
        "    return -99\n",
        "\n",
        "  loc1 = row['lat_long']\n",
        "  loc2 = row['lat_long_1back']\n",
        "\n",
        "  try:\n",
        "    distance = vincenty(loc1, loc2)\n",
        "    return distance\n",
        "  except:\n",
        "    return -99"
      ],
      "execution_count": 11,
      "outputs": []
    },
    {
      "cell_type": "code",
      "metadata": {
        "id": "KoYZuM6lqJIa"
      },
      "source": [
        "def vincenty_port(row):\n",
        "  \"\"\"\n",
        "  a function that computes the vincenty distance between the assigned port\n",
        "  and the latitude and longitude of the location data. \n",
        "  \"\"\"\n",
        "  port = row['port_coords']\n",
        "  loc = row['lat_long']\n",
        "  return vincenty(port, loc)"
      ],
      "execution_count": 15,
      "outputs": []
    },
    {
      "cell_type": "code",
      "metadata": {
        "id": "gzAcp84JXkAw"
      },
      "source": [
        "# calculating the minimum and maximum vincenty distances from ports and \n",
        "# storing the values in a dictionary. it may prove useful when distinguishing\n",
        "# between 'in port' and 'waiting around to enter the port'\n",
        "\n",
        "# port_dist = {}\n",
        "\n",
        "# for port in port_ds.keys():\n",
        "#   max_vincenty = port_ds[port]['vdist_port'].max()\n",
        "#   min_vincenty = port_ds[port]['vdist_port'].min()\n",
        "#   port_dist[port] = [max_vincenty, min_vincenty]"
      ],
      "execution_count": 13,
      "outputs": []
    },
    {
      "cell_type": "code",
      "metadata": {
        "id": "CutkOiprbc2Y"
      },
      "source": [
        "# # creating a dictionary of dataframes for each port\n",
        "\n",
        "# port_ds = {}\n",
        "\n",
        "# for port in df2.pred_port.unique():\n",
        "#   df_ = df2[df2['pred_port'] == port]\n",
        "#   port_ds[port] = df_.set_index('datetime')\n",
        "\n",
        "# del port_ds[-1]\n",
        "\n",
        "# for n in port_ds.keys():\n",
        "#   port_ds[n][f'{n}_coord'] = [ports[n]] * len(port_ds[n])\n",
        "\n",
        "# for n in port_ds.keys():\n",
        "#   port_ds[n]['vdist_port'] = [vincenty(x, y) for x, y in zip(port_ds[n][f'{n}_coord'], port_ds[n]['lat_long'])]\n"
      ],
      "execution_count": 14,
      "outputs": []
    },
    {
      "cell_type": "code",
      "metadata": {
        "id": "TxCo8-h_g9E8"
      },
      "source": [
        "def assign_ports(df):\n",
        "  \"\"\"\n",
        "  a function that prepares a dataframe for predictions\n",
        "\n",
        "  Parameters:\n",
        "  ----------\n",
        "        df: pandas dataframe\n",
        "  \n",
        "  Returns:\n",
        "  -------\n",
        "        df: processed pandas dataframe\n",
        "\n",
        "  \"\"\"\n",
        "\n",
        "  # resampling the data to standardize time intervals\n",
        "  df = df.resample('4H').mean().ffill()\n",
        "  df['lat_rad'] = df['lat_rad'].resample('4H').median().ffill()\n",
        "  df['long_rad'] = df['long_rad'].resample('4H').median().ffill()\n",
        "  \n",
        "  # applying a mask to limit the rows the predict function is applied to\n",
        "  mask = df['speed'] <= 3.31\n",
        "  df_temp = df[mask]\n",
        "\n",
        "  df['pred_port'] = 0\n",
        "  df.loc[mask, 'pred_port'] = df_temp.apply(nearest_port, axis=1)  \n",
        "  df['port_coords'] = [list(ports[k]) if k in ports else -99 for k in df['pred_port']]\n",
        "  df['lat_long'] = [[x,y] for x, y in zip(df['lat'], df['long'])]\n",
        "\n",
        "  # applying a mask to limit the rows vincenty func is applied to\n",
        "  vin_mask = (df['pred_port'] > 0)\n",
        "  vin_temp = df[vin_mask]\n",
        "  \n",
        "  df['port_dist'] = 0\n",
        "  df.loc[vin_mask, 'port_dist'] = vin_temp.apply(vincenty_port, axis=1)\n",
        "\n",
        "  # eliminating entries in sequences where max distance greatly differs from min\n",
        "  # indicates 'waiting to enter port'\n",
        "  df['seq'] = df['pred_port'].diff().ne(0).cumsum()\n",
        "  df['seq_count'] = df.groupby('seq')['seq'].transform('count')\n",
        "  df['dist_diff'] = df.groupby('seq')['port_dist'].transform(lambda x: x - x.min())\n",
        "  df['pred_port'] = np.where(df['dist_diff'] >= 15, 0, df['pred_port'])         # 15km away from closest point this trip to the port \n",
        "  df['seq'] = df['pred_port'].diff().ne(0).cumsum()\n",
        "\n",
        "  # identifying draft changes indicating 'ports' that are not included in the\n",
        "  # ports .csv. without tagging voyages will be mislabelled\n",
        "  df['draft_delta'] = df['draft'].transform(lambda x: abs(x.diff(-1)).ge(0.5))\n",
        "  df['sum_draft_delta'] = df.groupby('seq')['draft_delta'].transform(sum)\n",
        "  \n",
        "  mask = ((df['pred_port'] == -1) & (df['sum_draft_delta'] >= 1) & \\\n",
        "          (df['seq_count'] >=4))                                                # indicates 16 hrs at the location - a minimum threshold for unknown 'ports'\n",
        "  \n",
        "  df['pred_port'] = np.where(mask, -75, df['pred_port'])\n",
        "\n",
        "  # recasting vessel and pred_port columns as integers\n",
        "  df[['vessel', 'pred_port']] = df[['vessel', 'pred_port']].astype(int)\n",
        "\n",
        "  return df"
      ],
      "execution_count": 177,
      "outputs": []
    },
    {
      "cell_type": "code",
      "metadata": {
        "id": "J9tCbNDQiRfQ"
      },
      "source": [
        "# creating a dictionary of vessel dataframes with a datetime index\n",
        "\n",
        "vessel_dfs = {}\n",
        "\n",
        "for vessel in df2.vessel.unique():\n",
        "  df_ = df2[df2['vessel'] == vessel]\n",
        "  vessel_dfs[vessel] = df_.set_index('datetime')\n",
        "\n",
        "# assigning ports to each dataframe\n",
        "processed_dfs = {f'vessel_{key}':assign_ports(vessel_dfs[key]) for key in vessel_dfs.keys()}"
      ],
      "execution_count": 178,
      "outputs": []
    },
    {
      "cell_type": "code",
      "metadata": {
        "id": "BDnoQ4hnfhce"
      },
      "source": [
        "def get_voyages(df):\n",
        "  \"\"\"\n",
        "  a function to convert the port sequences in each dataframe into voyages\n",
        "  with the proper formatting\n",
        "\n",
        "  Parameters:\n",
        "  ----------\n",
        "      df: pandas DataFrame\n",
        "  \n",
        "  Returns:\n",
        "  -------\n",
        "      df: processed pandas DataFrame\n",
        "      \n",
        "  \"\"\"\n",
        "  # filtering out columns without an assigned port\n",
        "  nz = df[(df['pred_port'] > 0) | (df['pred_port'] == -75)].reset_index()\n",
        "\n",
        "  vessel = nz['vessel'][0]\n",
        "  dt = nz['datetime']\n",
        "  pred = nz['pred_port']\n",
        "\n",
        "  records = []\n",
        "\n",
        "  for i in range(len(dt)-1):\n",
        "    if pred[i] != pred[i+1]:\n",
        "      start_port = pred[i]\n",
        "      end_port = pred[i+1]\n",
        "      begin_date = dt[i]\n",
        "      end_date = dt[i+1]\n",
        "      records.append([vessel, begin_date, end_date, start_port, end_port])\n",
        "\n",
        "  df = pd.DataFrame.from_records(records, columns = ['vessel', 'begin_date', 'end_date', 'begin_port_id', 'end_port_id'])\n",
        "  \n",
        "  return df"
      ],
      "execution_count": 179,
      "outputs": []
    },
    {
      "cell_type": "code",
      "metadata": {
        "id": "7SIs4v7TvD-a"
      },
      "source": [
        "voyages_df = pd.concat([get_voyages(processed_dfs[key]) for key in processed_dfs.keys()])\n",
        "voyages_df['len_voyage'] = voyages_df['end_date'] - voyages_df['begin_date']"
      ],
      "execution_count": 180,
      "outputs": []
    },
    {
      "cell_type": "code",
      "metadata": {
        "id": "kF-vL7n3WKGb"
      },
      "source": [
        "def prepare_data(df, n_input = 3):\n",
        "  \"\"\"\n",
        "  preparing the sequences for models. it was setup to be flexible but i chipped\n",
        "  away at it until it returned data for an xgboost \n",
        "  \"\"\"\n",
        "\n",
        "  df = get_voyages(df)\n",
        "  vessel = df['vessel'].iloc[0]\n",
        "  ports_ = np.array(df['begin_port_id'].append(pd.Series(df['end_port_id'].iloc[-1])))  \n",
        "\n",
        "  X = []\n",
        "  Y = []\n",
        "  start = 0\n",
        "\n",
        "  for i in range(len(ports_)):\n",
        "    last_input = start + n_input\n",
        "    last_output = last_input + 3\n",
        "    if last_output <= len(ports_):\n",
        "      x = ports_[start:last_input]\n",
        "      y = ports_[last_input: last_output]\n",
        "      X.append(x)\n",
        "      Y.append(y)\n",
        "      start += 1\n",
        "  try:\n",
        "    df = pd.concat([pd.DataFrame(X),\n",
        "                  pd.DataFrame(Y, columns=['port_1ahead', 'port_2ahead', 'port_3ahead'])], axis=1)\n",
        "    \n",
        "  except:\n",
        "    df = pd.DataFrame()\n",
        "    \n",
        "  # X = []\n",
        "\n",
        "  # for x in X:\n",
        "  #   for n in x:\n",
        "  #     if n == -75:\n",
        "  #       port_coords = [33, 140]\n",
        "  #     else:\n",
        "  #       port_coords = list(ports[n])\n",
        "  #     port = [n]\n",
        "  #     port.extend(port_coords)\n",
        "  #     new_X.append(port)\n",
        "  \n",
        "  df['vessel'] = len(df) * [vessel]\n",
        "  return df"
      ],
      "execution_count": 301,
      "outputs": []
    },
    {
      "cell_type": "code",
      "metadata": {
        "id": "Du9voL1lKi9i"
      },
      "source": [
        "df = prepare_data(processed_dfs['vessel_133'], 6)"
      ],
      "execution_count": 302,
      "outputs": []
    },
    {
      "cell_type": "code",
      "metadata": {
        "id": "MldbZ9EkYdqU"
      },
      "source": [
        "dfs = [prepare_data(processed_dfs[key], 6) for key in processed_dfs.keys()]\n",
        "model_df = pd.concat(dfs)\n",
        "model_df = model_df.astype(int)"
      ],
      "execution_count": 304,
      "outputs": []
    },
    {
      "cell_type": "code",
      "metadata": {
        "id": "X0nHBL-bnYj0"
      },
      "source": [
        "model = XGBClassifier(learning_rate=0.02)\n",
        " \n",
        "model_df['port_2back_lat'] = [ports[key][0] if key in ports else None for key in model_df['port_2back']]\n",
        "model_df['port_2back_long'] = [ports[key][1] if key in ports else None for key in model_df['port_2back']]\n",
        "model_df['port_1back_lat'] = [ports[key][0] if key in ports else None for key in model_df['port_2back']]\n",
        "model_df['port_1back_long'] = [ports[key][1] if key in ports else None for key in model_df['port_2back']]\n",
        "model_df['last_port_lat'] = [ports[key][0] if key in ports else None for key in model_df['port_2back']]\n",
        "model_df['last_port_long'] = [ports[key][1] if key in ports else None for key in model_df['port_2back']]"
      ],
      "execution_count": null,
      "outputs": []
    },
    {
      "cell_type": "code",
      "metadata": {
        "id": "Z0JOCQz3DJb1"
      },
      "source": [
        "from sklearn.utils import class_weight\n",
        "\n",
        "classes_weights = class_weight.compute_sample_weight(\n",
        "    class_weight='balanced',\n",
        "    y=model_df['port_1ahead']\n",
        ")\n",
        "\n",
        "# xgb_classifier.fit(X, y, sample_weight=classes_weights)"
      ],
      "execution_count": 253,
      "outputs": []
    },
    {
      "cell_type": "code",
      "metadata": {
        "id": "bDz9Esx3aztH"
      },
      "source": [
        "from sklearn.model_selection import train_test_split\n",
        "\n",
        "target = 'port_1ahead'\n",
        "features = model_df.drop(columns=['port_1ahead', 'port_2ahead', 'port_3ahead', 'pred', 'correct'])\n",
        "model_df = model_df.groupby('vessel').filter(lambda x: len(x) > 8)\n",
        "\n",
        "X = features\n",
        "y = model_df[target]\n",
        "\n",
        "X_train, X_test, y_train, y_test = train_test_split(X, y, test_size=0.15)\n",
        "\n",
        "eval_set = [(X_test, y_test)]\n",
        "model.fit(X_train, y_train, eval_set=eval_set);"
      ],
      "execution_count": null,
      "outputs": []
    },
    {
      "cell_type": "code",
      "metadata": {
        "colab": {
          "base_uri": "https://localhost:8080/"
        },
        "id": "DsyZRscYQmFF",
        "outputId": "3bea9260-75a3-45da-d1a9-423516ba4aeb"
      },
      "source": [
        "y.nunique()"
      ],
      "execution_count": 456,
      "outputs": [
        {
          "output_type": "execute_result",
          "data": {
            "text/plain": [
              "93"
            ]
          },
          "metadata": {
            "tags": []
          },
          "execution_count": 456
        }
      ]
    },
    {
      "cell_type": "code",
      "metadata": {
        "id": "sDQHjrN6bKOH"
      },
      "source": [
        "preds = model.predict(features)"
      ],
      "execution_count": 449,
      "outputs": []
    },
    {
      "cell_type": "code",
      "metadata": {
        "id": "achyd7tNQ3Dc"
      },
      "source": [
        "feat"
      ],
      "execution_count": null,
      "outputs": []
    },
    {
      "cell_type": "code",
      "metadata": {
        "id": "6aQe2Ycvec3J"
      },
      "source": [
        "features['pred'] = preds\n",
        "features['correct'] = (features['pred'] == features['port_1ahead']).astype(int)\n",
        "\n",
        "eval = model_df.groupby('vessel')['correct'].agg(ob_count = 'count',\n",
        "                                          correct = 'mean')\n",
        "\n",
        "eval.sort_values(by='correct', ascending=True).head(30)"
      ],
      "execution_count": null,
      "outputs": []
    },
    {
      "cell_type": "code",
      "metadata": {
        "colab": {
          "base_uri": "https://localhost:8080/"
        },
        "id": "ixf66xZJMvjT",
        "outputId": "0c403132-bb29-4499-bff1-0c1d09bc167c"
      },
      "source": [
        "model_df.columns\n",
        "# model.feature_importances_"
      ],
      "execution_count": 337,
      "outputs": [
        {
          "output_type": "execute_result",
          "data": {
            "text/plain": [
              "Index([            0,             1,             2,             3,\n",
              "                   4,             5, 'port_1ahead', 'port_2ahead',\n",
              "       'port_3ahead',      'vessel',        'pred',     'correct'],\n",
              "      dtype='object')"
            ]
          },
          "metadata": {
            "tags": []
          },
          "execution_count": 337
        }
      ]
    },
    {
      "cell_type": "code",
      "metadata": {
        "id": "3z8C5RTevhk0"
      },
      "source": [
        "all_vessels = pd.concat([processed_dfs[key] for key in processed_dfs.keys()])"
      ],
      "execution_count": 191,
      "outputs": []
    },
    {
      "cell_type": "code",
      "metadata": {
        "id": "A5WM5puB0_t0"
      },
      "source": [
        "v1 = all_vessels[all_vessels['vessel'] == 10]\n",
        "v2 = all_vessels[all_vessels['pred_port'] == 54]"
      ],
      "execution_count": 283,
      "outputs": []
    },
    {
      "cell_type": "code",
      "metadata": {
        "id": "FoHlMDnreu0Y"
      },
      "source": [
        "mask = ((all_vessels['speed'] > 1) & (all_vessels['pred_port'] >0))\n",
        "\n",
        "fast = all_vessels[mask]\n",
        "fast.sort_values(by='speed', ascending=False).head(25)"
      ],
      "execution_count": null,
      "outputs": []
    },
    {
      "cell_type": "code",
      "metadata": {
        "id": "jHkAehdH_7Jz"
      },
      "source": [
        "v1.pred_port.value_counts()"
      ],
      "execution_count": null,
      "outputs": []
    },
    {
      "cell_type": "code",
      "metadata": {
        "id": "bd28DPQVl6dv"
      },
      "source": [
        "# remember that you'll have to round the probabilities before using the\n",
        "# inverse transform\n",
        "\n",
        "\n",
        "# probabilities = model.predict(X)\n",
        "# predictions = encoder.inverse_transform(probabilities.round())\n",
        "# preds = model.predict(X)\n",
        "# preds = preds.round()\n",
        "\n",
        "# encoder.inverse_transform(preds)\n",
        "\n",
        "\n",
        "# np.argmax(preds[1])\n",
        "# encoder.get_feature_names()[9]\n",
        "# np.argmax(y[1])"
      ],
      "execution_count": null,
      "outputs": []
    },
    {
      "cell_type": "code",
      "metadata": {
        "id": "WTl6WBuuQLaB"
      },
      "source": [
        "# creating the LSTM model\n",
        "\n",
        "def create_model(X, y):\n",
        "  \"\"\"\n",
        "  function to train an LSTM on the voyages sequence\n",
        "  \"\"\"\n",
        "  input_shape = (X.shape[1], X.shape[2])\n",
        "  output_shape = y.shape[1]\n",
        "\n",
        "  model = Sequential()\n",
        "\n",
        "  model.add(LSTM(100, input_shape=input_shape, return_sequences=True, activation='relu'))\n",
        "\n",
        "  model.add(Dense(40, activation='relu'))\n",
        "\n",
        "  model.add(Dense(119, activation='softmax'))\n",
        "\n",
        "  model.compile(optimizer='adam', loss='categorical_crossentropy', metrics=['accuracy'])\n",
        "\n",
        "  return model, output_shape"
      ],
      "execution_count": null,
      "outputs": []
    },
    {
      "cell_type": "code",
      "metadata": {
        "colab": {
          "base_uri": "https://localhost:8080/",
          "height": 542
        },
        "id": "n7T5EmrWQzPC",
        "outputId": "1ef81c98-60c3-4168-9e05-243be25a9872"
      },
      "source": [
        "fig = px.scatter_geo(v1, lat='lat', lon='long')\n",
        "\n",
        "fig.show()"
      ],
      "execution_count": 242,
      "outputs": [
        {
          "output_type": "display_data",
          "data": {
            "text/html": [
              "<html>\n",
              "<head><meta charset=\"utf-8\" /></head>\n",
              "<body>\n",
              "    <div>\n",
              "            <script src=\"https://cdnjs.cloudflare.com/ajax/libs/mathjax/2.7.5/MathJax.js?config=TeX-AMS-MML_SVG\"></script><script type=\"text/javascript\">if (window.MathJax) {MathJax.Hub.Config({SVG: {font: \"STIX-Web\"}});}</script>\n",
              "                <script type=\"text/javascript\">window.PlotlyConfig = {MathJaxConfig: 'local'};</script>\n",
              "        <script src=\"https://cdn.plot.ly/plotly-latest.min.js\"></script>    \n",
              "            <div id=\"c4694abe-e822-442d-b666-559f04cbf52c\" class=\"plotly-graph-div\" style=\"height:525px; width:100%;\"></div>\n",
              "            <script type=\"text/javascript\">\n",
              "                \n",
              "                    window.PLOTLYENV=window.PLOTLYENV || {};\n",
              "                    \n",
              "                if (document.getElementById(\"c4694abe-e822-442d-b666-559f04cbf52c\")) {\n",
              "                    Plotly.newPlot(\n",
              "                        'c4694abe-e822-442d-b666-559f04cbf52c',\n",
              "                        [{\"geo\": \"geo\", \"hoverlabel\": {\"namelength\": 0}, \"hovertemplate\": \"lat=%{lat}<br>long=%{lon}\", \"lat\": [1.0786, 1.4117, 1.4458, 1.4543, 1.4543499999999998, 1.4542333333333335, 1.4546999999999999, 1.4549333333333332, 1.4542333333333335, 1.4542, 1.4541, 1.4542, 1.4545, 1.45755, 1.4569999999999999, 1.4549500000000002, 1.4551, 1.4545, 1.7327333333333332, 1.7327333333333332, 1.7327333333333332, 1.7327333333333332, 1.7327333333333332, 1.7327333333333332, 1.7327333333333332, 8.048, 8.048, 8.048, 8.048, 8.048, 12.3061, 12.3069, 12.3069, 12.273150000000001, 12.2993, 12.2857, 12.6484, 12.6497, 12.6497, 12.6497, 12.6497, 12.6497, 12.6497, 12.456299999999999, 12.456299999999999, 12.456299999999999, 12.456299999999999, 12.456299999999999, 12.456299999999999, 12.456299999999999, 12.456299999999999, 5.5156, 5.5156, 5.5156, 2.2674, 2.2674, 2.2674, -0.4009, -0.4009, -1.4615, -2.1609, -3.10475, -3.9605, -4.611866666666667, -5.1803, -5.3629999999999995, -5.8405, -6.7353, -7.2413, -8.247, -9.441, -10.096, -11.0408, -12.46135, -13.7034, -14.58185, -15.6309, -16.4217, -16.3383, -16.3337, -16.4139, -16.22765, -16.2796, -16.1502, -16.3392, -16.40535, -17.2227, -17.976399999999998, -18.8285, -19.6348, -20.3339, -20.3326, -20.33455, -20.333, -20.3319, -20.332433333333334, -20.3337, -20.33605, -20.3362, -20.334600000000002, -20.3333, -20.3328, -20.3321, -20.334699999999998, -20.3347, -20.33375, -20.3325, -20.3334, -20.3331, -20.334449999999997, -20.335, -20.3333, -20.3318, -20.333, -20.3339, -20.33335, -20.3345, -20.3328, -20.3317, -20.3327, -20.3338, -20.33335, -20.3345, -20.29075, -20.6233, -21.3127, -20.9632, -21.0649, -20.9911, -20.9459, -21.4146, -21.67535, -21.6764, -21.6764, -21.6764, -21.6764, -21.6764, -21.6764, -21.6089, -21.1183, -19.3787, -18.37475, -16.9517, -15.9141, -15.0079, -13.48095, -12.4808, -10.808499999999999, -9.6135, -8.4821, -7.4447, -6.50175, -5.8397, -5.8397, -4.8214, -4.5678, -3.9255, -3.0189999999999997, -3.0189999999999997, -1.9974, -1.5609, -0.5157, -0.0509, 0.8304, 1.3786, 1.4405, 1.4406, 1.4405, 1.4374, 1.43825, 1.4381, 1.4381, 1.4381, 1.4381, 1.4381, 1.4382, 1.4382, 1.4381, 1.4381, 1.4381, 1.4382, 1.4383499999999998, 1.4383, 1.4381499999999998, 1.4381, 1.4381, 1.4381499999999998, 1.4382, 1.4381, 1.4381499999999998, 1.4382, 1.4382, 1.4382, 1.43855, 1.4383, 1.4382, 1.4382, 1.4381, 1.4382, 1.43885, 1.4381, 1.4381, 1.4382, 1.4381, 1.4381, 1.4397000000000002, 1.4391, 1.4381, 1.4383, 1.4381, 1.5659999999999998, 1.9817, 1.9817, 1.9817, 1.9817, 1.9817, 1.9817, 2.43855, 2.43855, 2.1565, 2.0946, 2.2127, 2.2127, 2.2815, 2.3178, 2.1245, 2.4663, 2.4663, 2.1575499999999996, 2.0119, 2.1421, 2.4098, 2.4576, 2.235, 2.0297, 2.0297, 2.0297, 2.0297, 2.0297, 2.5966, 2.5966, 2.5966, 2.2041, 2.2041, 2.2041, 2.2041, 1.52195, 1.9526, 2.5625, 2.4401, 2.2303, 2.3099, 2.3099, 2.1776, 2.1776, 2.7304, 2.7304, 2.7304, 2.3854, 2.7087, 2.7087, 2.833, 2.833, 1.6325, 1.4547, 1.4549500000000002, 1.8562, 3.3539, 3.3539, 5.1202, 5.1202, 5.1202, 5.1202, 8.5309, 8.5309, 8.5309, 8.5309, 8.5309, 8.5309, 8.5309, 8.5309, 12.4981, 12.6497, 12.6497, 12.6497, 12.6497, 12.6497, 12.6497, 12.6497, 12.39785, 10.704, 10.704, 10.704, 10.704, 10.704, 10.704, 10.704, 10.704, 10.704, 10.704, 1.79525, 1.5309, 1.5309, -0.5339666666666667, -0.5339666666666667, -2.0309, -2.0309, -3.4638, -4.4153, -5.03155, -5.4603, -5.9257, -6.7501, -7.5398, -8.5432, -9.873750000000001, -11.1165, -11.8166, -11.8166, -14.0424, -14.9821, -16.1883, -17.3947, -18.1492, -19.543750000000003, -20.3577, -20.3589, -20.35605, -20.355, -20.3553, -20.359, -20.358150000000002, -19.8086, -19.913800000000002, -19.8837, -19.8837, -20.587, -20.587, -20.587, -20.587, -20.587, -20.587, -20.587, -20.0058, -19.1048, -17.6052, -16.9367, -16.1198, -15.1371, -14.0639, -13.349499999999999, -12.161, -11.4864, -10.6501, -9.6767, -8.9916, -7.9836, -7.199450000000001, -6.6216, -5.8847, -5.3388, -5.21105, -4.71305, -4.0648, -3.2132, -2.3883, -1.98175, -1.1156, -0.4428, 0.7677, 1.4987, 1.5875, 1.6663, 2.5527, 4.5879, 5.6077, 6.0327, 6.0327, 6.0327, 6.0327, 6.0327, 11.3215, 11.7964, 12.4109, 12.6525, 12.6524, 12.6524, 12.6524, 12.6524, 12.6524, 12.6524, 12.3303, 12.3303, 9.733699999999999, 8.2326, 7.671499999999999, 7.671499999999999, 7.671499999999999, 7.671499999999999, 4.6683, 2.8824, 2.8824, 1.7076, 1.7057, 1.7058, 1.7060499999999998, 1.7057, 1.7059, 1.7065, 1.7059, 1.7077, 1.7076, 1.7058499999999999, 1.7058499999999999, 1.7058, 1.7058, 1.7058, 1.7056, 1.7057, 1.7057, 1.7059, 1.70595, 1.7059, 1.7061, 1.7061, 1.7058, 1.5614, 1.2025, 1.7556500000000002, 2.2799, 2.7652, 3.53465, 3.53465, 5.0486, 5.0486, 6.0153, 6.0153, 6.0153, 6.2201, 6.2201, 6.1061, 6.0405, 6.0405, 5.9428, 5.8399, 5.7974, 5.7440999999999995, 5.7197, 5.6234, 5.5737, 5.5737, 5.5737, 5.5737, 5.5737, 5.5737, 5.5737, 5.5737, 10.4524, 12.1134, 12.8398, 13.743549999999999, 13.743549999999999, 15.04975, 16.08435, 16.08435, 16.08435, 18.3744, 18.3744, 20.037100000000002, 20.037100000000002, 21.7917, 22.9524, 22.9524, 22.3858, 22.3858, 22.4441, 22.4441, 22.8377, 22.8377, 22.8377, 23.0041, 23.0041, 23.0606, 22.9814, 22.9814, 22.8664, 22.7987, 22.7987, 22.7987, 22.7987, 22.7987, 22.7987, 22.7987, 22.7987, 23.5126, 23.5126, 24.6841, 24.8246, 25.0238, 25.2618, 25.26415, 25.265, 25.2653, 25.2653, 25.26335, 25.2624, 25.262549999999997, 25.2623, 25.2636, 25.265, 25.264, 25.264, 25.2604, 25.261, 25.2613, 25.2648, 25.26245, 25.2603, 25.263350000000003, 25.2621, 25.263, 25.2637, 25.2626, 25.2607, 25.26205, 25.263419000000003, 25.264165556666665, 25.263899165, 25.262912223333334, 25.26096277666667, 25.26076, 25.262920835, 25.26469777666667, 25.264647500000002, 25.263208333333335, 25.164531100000005, 24.896686665, 24.4427875, 24.29877167, 24.17641167, 23.900914999999998, 24.04182, 23.445656669999998, 23.75265667, 24.439440835, 24.776999834999998, 24.774035, 24.774035835, 24.77402833, 24.774015, 24.774025835, 24.774025835, 24.77402833, 24.7348325, 24.135059000000002, 23.152886109999997, 21.85602333333333, 20.84837167, 20.029301443333335, 18.919254, 18.067444165, 17.15969011, 16.1228815825, 15.10807333, 14.2367729175, 13.185253500000002, 12.345255109999998, 11.001520835, 9.95232, 9.302434, 8.522326111, 7.722889, 6.980162222333334, 6.368125, 5.50524491675, 4.6918085, 3.991828444333333, 3.292365, 2.83629, 2.0517525, 1.36785, 0.872558333, 0.432661667, -0.32799833333333334, -1.015186667, -1.3894975556666667, -2.12653925, -2.8906066669999997, -3.3605727776666665, -4.008823333333333, -4.5852868335, -5.345753083249999, -6.0723008335, -6.564385000000001, -7.054641667, -7.866539888999999, -8.4013893335, -8.819039333500001, -9.42043875, -10.11626667, -10.656542665, -11.3602194175, -12.158889165, -12.82062011, -13.509087666666666, -14.57467667, -14.837224443333332, -15.563141233333333, -16.102200165, -16.529066776666667, -17.19438725, -17.92157667, -18.38349989, -18.328845666666666, -19.00588, -19.96922311, -20.119050113333333, -20.58372833, -20.5869661, -20.5869814175, -20.58699667, -20.587005650000002, -20.587001665000003, -20.58700833, -20.560637776666667, -20.227619, -19.380701835, -18.403610999999998, -17.64524111, -16.369035, -15.428646223333333, -14.369197223333332, -13.380594, -12.692185, -11.443216665, -10.23225, -9.3434723335, -8.2970029165, -7.3652323335, -6.762091777666666, -6.010085555666667, -5.522335, -5.149108222333333, -4.7097571113333325, -4.171830399999999, -3.254312, -2.221055, -1.9435645553333334, -1.294645, -0.4156638666, 0.47799666700000004, 0.9433674999999999, 1.453227425, 1.6193473335, 2.56578, 3.639023333, 3.639023333, 3.639023333, 5.554268333, 5.554268333, 5.554268333, 5.554268333, 5.554268333, 10.726265, 10.726265, 10.726265, 10.726265, 10.726265, 10.726265, 10.726265, 10.726265, 10.726265, 10.726265, 10.726265, 21.36990167, 21.4428005, 21.457408443333332, 21.453261835, 21.44131333, 21.46177167, 21.570325, 21.729234165, 22.21022835, 22.572194, 22.5747433, 22.57474, 22.574731699999997, 22.574731699999997, 22.574731699999997, 22.35931333, 21.850017433333335, 20.55108167, 20.55108167, 20.55108167, 20.55108167, 20.55108167, 20.55108167, 20.55108167, 20.55108167, 13.843428, 13.843428, 13.843428, 10.322855, 9.285438333, 9.285438333, 9.285438333, 9.285438333, 9.285438333, 5.523963332999999, 4.777118333, 4.0718766665, 3.2260075, 2.1714566669999997, 1.6319210999999998, 1.6319210999999998, 1.6318083335, 1.63192, 1.6318700000000002, 1.6317617, 1.6583933499999999, 1.9155633330000001, 1.63323, 1.6309875165, 1.63137, 1.6307798335, 1.6312783, 1.6317966999999998, 1.6309149834999999, 1.630765, 1.6316567, 1.6326783000000002, 1.6313167, 1.6322317, 1.6327158000000002, 1.6313333, 1.634925, 1.634925, 2.113371667, 1.6365299999999998, 1.6359883000000002, 1.6343533000000001, 1.6366266669999998, 1.6363642, 1.6363642, 1.6363642, 1.6363642, 1.6363642, 1.6363642, 1.63588, 1.63588, 1.63588, 1.6368133, 1.63507015, 1.6365299999999998, 1.6371433000000002, 1.48821335, 0.92115, 0.4302508335, -0.7327461113333333, -1.5620672223333332, -2.1266108889999997, -2.8500908330000003, -3.809198777666667, -4.439882889000001, -4.8242978889999995, -5.368515, -5.6386235, -5.6386235, -6.612562, -7.439244, -7.741855, -7.458626649999999, -7.816604, -7.816604, -7.437588000000001, -8.479761, -9.84844389, -10.882073666666665, -11.821112665000001, -11.821112665000001, -13.805531, -14.83734, -15.329418335, -16.351863, -17.399889, -17.399889, -17.815016, -17.917512, -18.1407285, -19.22095, -19.9270165, -19.9270165, -20.586992000000002, -20.586992000000002, -20.5870015, -20.58699633333333, -20.587007999999997, -20.587007999999997, -20.586985333333335, -20.3707575, -20.335604333333333, -20.335176999999998, -20.3346005, -20.297801, -19.683439, -18.66396466666667, -17.546646666666668, -16.562873500000002, -15.665397333333331, -14.4588485, -13.398502, -12.273529, -11.436793666666667, -10.220725666666668, -9.228557499999999, -8.357011, -7.443392666666667, -6.6594, -5.9913273333333334, -5.50644, -5.139670666666667, -4.5593775, -4.0484073333333335, -3.0157115, -2.2101633333333335, -1.774389, -0.9644110000000001, -0.026003499999999985, -0.026003499999999985, -0.026003499999999985, 1.979218, 2.8697220000000003, 2.8697220000000003, 2.8697220000000003, 5.75368, 5.75368, 5.75368, 5.75368, 5.75368, 5.75368, 5.75368, 5.75368, 5.75368, 5.75368, 5.75368, 5.75368, 5.75368, 5.75368, 5.75368, 5.75368, 5.75368, 5.75368, 5.75368, 5.75368, 5.75368, 5.75368, 5.75368, 5.75368, 5.75368, 5.75368, 5.75368, 5.75368, 21.374557, 22.1573735, 22.58765, 22.589213, 22.589215000000003, 22.589215000000003, 22.589217, 22.5892275, 22.58923, 22.494650999999998, 21.880048666666664, 21.20833, 21.20833, 18.148737, 18.148737, 18.148737, 18.148737, 18.148737, 18.148737, 18.148737, 18.148737, 18.148737, 18.148737, 18.148737, 18.148737, 18.148737, 5.68077, 4.607193, 4.214883, 3.0158715000000003, 1.984557, 1.653264, 1.6111545, 1.6111545, 1.6110289999999998, 1.611617, 1.611268, 1.5853415000000002, 1.194365, 0.768883, -0.287071, -1.189255, -1.8093169999999998, -2.309164, -3.2964580000000003, -3.971633, -4.436726666666666, -5.011153, -5.011153, -5.64599, -5.833578, -5.79534, -5.64662, -4.945352, -4.296713, -3.5444685000000002, -2.645702, -1.765122, -0.5775325, -0.053895000000000005, 0.094398, 0.0830735, 0.08307, 0.083057, 0.08306150000000001, 0.08306000000000001, 0.083058, 0.0830565, 0.083063, 0.04373, 0.59487, 1.0883525, 1.6889285, 1.8150775000000001, 1.8619400000000002, 1.9203934999999999, 2.015198, 2.6342749999999997, 3.7975700000000003, 4.8482864999999995, 5.691437333333333, 6.9535395, 6.9535395, 8.608139999999999, 9.4375, 11.168685, 11.168685, 13.051978, 13.886595, 15.398998, 15.965489999999999, 17.343802, 17.343802, 19.126623000000002, 20.225376999999998, 21.328207, 21.747677, 21.747677, 23.786323, 25.250512999999998, 25.981758749999997, 27.250721666666664, 27.8733115, 29.280923666666666, 30.36672, 30.8508615, 32.3737315, 33.4837115, 34.17578, 34.685460000000006, 34.763877, 34.76387466666667, 34.763869, 34.763869, 34.76386, 34.76386, 34.591557, 33.923380333333334, 32.84319233333333, 31.884493, 30.762287, 29.52244, 28.170853, 27.363607000000002, 26.148674333333332, 24.888029, 24.096653500000002, 22.9132225, 22.016439, 21.135461999999997, 19.831475333333334, 18.4151725, 17.656136, 17.41761, 15.938715000000002, 15.225229999999998, 14.101436999999999, 12.451227, 11.304567500000001, 10.200743666666666, 8.581185, 7.8412749999999996, 6.437152666666667, 5.088972500000001, 4.09221, 2.7389665, 1.4816166666666666, 0.5477894999999999, -0.265621, -1.7725053333333334, -2.6302045, -3.3439575, -4.580179, -5.692221, -6.854711333333334, -8.034483, -8.714911666666666, -9.4156355, -10.310046, -11.316343000000002, -12.547047999999998, -13.694191000000002, -14.622104, -15.774376499999999, -16.928084666666667, -17.913863499999998, -18.888775, -19.821261999999997, -20.3532755, -20.358965, -20.35970933333333, -20.360035500000002, -20.36042975, -20.359704999999998, -20.474928000000002, -20.5910965, -20.5910965, -20.591103, -20.591097, -20.591097, -20.591082, -20.591082, -20.220417, -19.211741500000002, -18.417678000000002, -17.13663366666667, -16.488914, -16.488914, -14.728457999999998, -13.578456000000001, -12.621539, -11.8020375, -11.244914333333334, -10.941068999999999, -10.131772, -9.512698666666667, -8.895316000000001, -8.625088, -7.817913999999999, -6.1189935, -4.823107, -3.6726574999999997, -2.8487593333333336, -2.0304715, -0.8370683333333333, 0.599214, 1.821206, 3.0949695, 4.4646715, 5.93596, 6.603915333333333, 8.205933666666667, 9.4167, 9.92602, 11.4912585, 12.824123, 13.899406000000003, 14.509492000000002, 14.509492000000002, 14.509492000000002, 17.915483, 19.881924500000004, 19.881924500000004, 20.094358, 19.093142, 19.093142, 22.066712, 22.577069, 22.496754, 22.588683, 22.588728, 22.587514, 22.58855, 22.588375666666668, 22.588485000000002, 22.588632, 22.588722499999996, 22.5883725, 22.587948, 22.585859666666664, 22.58581475, 22.587158, 22.587322, 22.731822333333337, 22.829009666666664, 22.824647, 22.826999999999998, 22.828012333333334, 22.8245285, 22.828076, 22.8296545, 22.825150666666662, 22.827150666666668, 22.827150666666668, 22.8250125, 22.828316666666666, 22.829592333333334, 22.825368666666666, 22.817280333333333, 22.817280333333333, 22.811873000000002, 22.811857, 22.811845, 22.811853, 22.811845, 21.886131, 21.12535, 20.611697, 19.780086999999998, 19.780086999999998, 19.780086999999998, 19.780086999999998, 19.780086999999998, 19.780086999999998, 19.780086999999998, 19.780086999999998, 19.780086999999998, 19.780086999999998, 19.780086999999998, 19.780086999999998, 19.780086999999998, 19.780086999999998, 19.780086999999998, 19.780086999999998, 6.081787, 6.081787, 6.081787, 6.081787, 6.081787, 6.081787, 6.081787, 1.2489765, 1.466338, 2.050527, 2.8217933333333334, 3.233298, 3.233298, 3.233298, 5.712914, 5.937823000000001, 6.205973500000001, 6.3520525, 6.302610666666666, 6.302610666666666, 6.234500000000001, 6.18553, 6.151680000000001, 6.1104466666666655, 6.065268, 6.031033, 5.9825225, 5.956977999999999, 5.913547, 5.859975, 5.798635, 5.798635, 5.959907, 6.0340264999999995, 6.4174175, 6.830729999999999, 7.181969, 7.6252675, 7.880308666666667, 7.9552499999999995, 7.9552499999999995, 8.489362, 8.880213000000001, 9.240745, 9.7197, 10.171966999999999, 10.824452666666666, 11.463533, 11.754079666666664, 12.263559, 12.739675333333333, 13.257789, 13.7966735, 14.362924333333332, 14.857606, 15.303396, 15.620292999999998, 15.9934875, 15.931602333333332, 15.4556635, 15.0132055, 14.612105, 14.223228333333333, 13.865821666666667, 13.509722499999999, 13.172414999999999, 12.845454000000002, 12.5014425, 12.196869333333334, 12.106610666666668, 12.5007355, 13.3762625, 14.427601000000001, 15.419625, 16.17201, 16.97893566666667, 17.764845, 18.7813905, 19.803246, 20.674519999999998, 21.60738225, 22.6862145, 23.44669475, 24.242886, 24.95704, 25.804820666666668, 26.719944666666667, 27.569158666666663, 28.311353499999996, 29.2788565, 29.7649415, 29.772333000000003, 29.772069000000002, 29.771863, 29.771903000000002, 29.7741435, 30.06754666666667, 30.5565535, 31.140535333333332, 31.758796500000003, 32.16578825, 32.1974465, 32.03807, 31.97480566666667, 31.48426, 31.442558499999997, 31.442466999999997, 31.4427, 31.44263, 31.44281075, 31.442369999999997, 31.44245, 31.442611333333332, 31.442873500000005, 31.4434135, 31.442902333333336, 31.442305333333337, 31.442253333333337, 31.442226499999997, 31.4425885, 31.4425885, 31.4425885, 31.442590999999997, 31.442023, 31.44218475, 31.442194999999998, 31.442194999999998, 31.442194999999998, 31.442463, 31.442466999999997, 31.4426785, 31.4426785, 31.443440000000002, 31.443216999999997, 31.4427385, 31.442478, 31.442553666666665, 31.443695666666667, 31.443407, 31.443172999999998, 31.442556666666665, 31.442576333333335, 31.443048499999996, 31.4429535, 31.443489999999997, 31.443513, 31.443233333333335, 31.4431765, 31.44296, 31.442919, 31.442919, 31.442919, 31.442395666666666, 31.442632, 31.442794250000002, 31.442562, 31.442562, 31.442562, 31.442203000000003, 31.442859999999996, 31.442859999999996, 31.442859999999996, 31.442859999999996, 31.442563, 31.442127000000003, 31.442346999999998, 31.442431, 31.4423185, 31.442566333333332, 31.442691499999995, 31.442239, 31.4421, 31.442279000000003, 31.44249, 31.442701500000002, 31.4430835, 31.442550999999998, 31.442006499999998, 31.442583666666668, 31.443115, 31.4431285, 31.44301333333333, 31.442513333333334, 31.442429999999998, 31.4424735, 31.442737, 31.442737, 31.44296, 31.442913, 31.44238, 31.4422835, 31.4422835, 31.445556500000002, 31.443506666666664, 31.442268666666667, 31.441868999999997, 31.441853666666663, 31.442563, 31.4426985, 31.442526666666666, 31.442089999999997, 31.441883, 31.44189, 31.445255000000003, 31.444457, 31.442759999999996, 31.442097, 31.442097, 31.4459935, 31.444316999999998, 31.444013499999997, 31.44199233333333, 31.441843333333335, 31.441979, 31.442168, 31.442023, 31.441932, 31.442016999999996, 31.442194333333333, 31.44209566666667, 31.442395666666666, 31.442455000000002, 31.442736500000002, 31.4430415, 31.4428075, 31.442493, 31.442414999999997, 31.44264, 31.44256, 31.442351, 31.442221000000004, 31.442293499999998, 31.44289575, 31.412886999999998, 31.36851, 31.367738000000003, 31.367739999999998, 31.367736999999998, 31.367734333333335, 31.367729999999998, 31.3677335, 31.367735666666665, 31.367733, 31.367733, 31.600557666666663, 31.7457865, 31.551246666666668, 31.391882000000003, 31.391762, 31.391730000000003, 31.39176133333333, 31.393590000000003, 30.9067115, 30.27717, 29.424490000000002, 28.857449000000003, 28.073372999999997, 27.276737500000003, 26.297419, 25.3150165, 24.428417666666665, 23.482991499999997, 22.605958333333334, 21.5281225, 20.5857795, 19.783531999999997, 18.70301566666667, 18.191723333333332, 17.6244485, 16.7461955, 15.930392666666668, 14.753963333333331, 13.7851475, 12.842016666666666, 12.129161, 12.039629, 12.374411666666667, 12.795328, 13.126834333333335, 13.4297425, 13.8462275, 14.199491, 14.600355500000001, 15.154576500000001, 15.858559, 16.348966, 16.316788666666664, 15.642176000000001, 15.005726666666668, 14.664527999999999, 14.039376, 13.422925, 13.0605945, 12.5023885, 11.778333, 11.563232000000001, 10.9092765, 10.257702250000001, 9.882242, 9.257565, 8.693236500000001, 8.228695666666665, 7.739479666666667, 7.163184000000001, 6.775073, 6.1652135, 5.981249333333333, 5.87506, 5.7300173333333335, 5.80659, 5.851782, 5.8837555, 5.929938, 5.980584, 6.035773000000001, 6.104105000000001, 6.1344215, 6.304469999999999, 6.304469999999999, 6.304469999999999, 6.310146666666667, 6.3787199999999995, 6.086135, 5.931257, 5.4093029999999995, 5.4099, 5.3613215, 5.348136666666666, 5.12616, 5.5469925, 5.285458, 4.515175, 3.761772333333333, 3.1504380000000003, 2.701867666666667, 1.9877216666666666, 1.303045, 1.1779132499999998, 1.168858, 1.16777, 1.1658893333333333, 1.1685889999999999, 1.1678145, 1.16814975, 1.168376, 1.1666106666666667, 1.1660516666666665, 1.1660516666666665, 1.16903, 1.1762635000000001, 1.264164, 1.574411, 1.576897, 1.576976, 1.577245, 1.577245, 1.5778295, 1.577368, 1.576915, 1.57591, 1.576857, 1.577471, 1.5778156666666667, 1.577477, 1.576805, 1.575407, 1.575407, 1.573728, 2.5323316666666664, 3.4576622500000003, 4.143066999999999, 5.5766545, 5.5766545, 7.744821, 8.592798, 8.592798, 10.696643, 10.696643, 10.696643, 12.01901375, 11.8446435, 11.664973333333334, 11.7430085, 11.7430085, 11.859478, 11.859478, 11.919670499999999, 12.616485, 12.652451666666666, 12.652457, 12.652457, 12.652445, 12.652454333333333, 12.652453999999999, 12.587016666666665, 12.581743, 12.581743, 11.8059095, 10.533005000000001, 10.533005000000001, 8.952867, 8.952867, 8.952867, 6.427597, 5.536938, 4.487773000000001, 3.6944800000000004, 2.8453945000000003, 2.0681380000000003, 1.1510816666666666, 0.343103, -0.5938343333333334, -1.3600485, -1.9857635, -2.5338463333333334, -3.521266, -4.183252333333333, -4.779333333333334, -5.1506625, -5.6017883333333325, -6.232003, -6.753222666666667, -7.6186333333333325, -8.4571625, -9.362705333333336, -9.9707595, -10.3496935, -10.686572333333332, -11.090881666666666, -11.344299499999998, -11.540422, -11.5699795, -11.26934, -10.824909333333332, -10.361141333333334, -9.854383333333333, -9.5215165, -9.3728135, -9.3575735, -9.432238, -9.558656666666666, -9.680621, -9.7797825, -9.8953565, -9.999189000000001, -10.105263333333333, -10.212933, -10.335801333333334, -10.4356925, -10.559635, -10.636140999999999, -10.475185, -9.899648333333333, -9.2497565, -9.059450666666669, -9.1730775, -9.2680625, -9.266157, -9.266123666666665, -9.2806415, -9.340016, -9.3399955, -9.339992, -9.339988333333332, -9.339985, -9.339983666666667, -9.303194333333334, -9.969816999999999, -10.463733999999999, -10.780187399999999, -11.036045, -11.319372999999999, -11.612760666666667, -11.947271, -12.0844965, -12.088561666666665, -11.405462, -10.305007333333334, -9.3243265, -8.1632435, -7.232580499999999, -6.3234449999999995, -5.06158175, -4.0118599999999995, -3.522493666666666, -3.0391774999999996, -2.018229, -1.3439635, -0.3570343333333333, 0.6158446666666667, 1.2286540000000001, 2.4050589999999996, 3.329409, 4.269811, 5.368714333333333, 6.2952164999999995, 7.290970000000001, 8.3654775, 9.333382, 10.199677000000001, 11.083171, 12.11582425, 12.596413250000001, 13.649716, 14.530851666666669, 15.343926499999998, 16.18395533333333, 17.001761000000002, 17.9769415, 18.9142465, 19.762065333333332, 20.716307, 21.51061066666667, 22.377369666666667, 22.377369666666667, 22.377369666666667, 22.377369666666667, 24.917488, 25.404792500000003, 26.533395666666664, 27.4304, 27.9520075, 28.498651, 28.906523500000002, 29.125529, 29.676756, 30.3434, 31.341987, 32.279763, 33.384373, 33.060586666666666, 32.671482, 33.25575433333333, 32.629841, 33.2095065, 33.268015, 33.66853566666666, 34.41881, 35.12937766666666, 35.346275000000006, 35.3463135, 35.346309, 35.34630466666667, 35.3463085, 35.346309, 35.346309, 34.837947, 34.12187433333333, 33.27108466666667, 32.407473333333336, 31.660125, 30.960774999999998, 30.234351, 29.4054785, 28.556431000000003, 27.715367, 26.76878566666667, 25.712991000000002, 24.727095333333335, 23.7394325, 22.69928475, 21.5874615, 20.774116499999998, 19.644178333333333, 18.579867, 18.132171, 17.007648333333332, 15.926552666666668, 15.0884575, 13.839179666666666, 12.71886, 12.099157, 11.01210175, 9.816165999999999, 9.261375000000001, 7.840186999999999, 7.840186999999999, 6.225800250000001, 5.1523115, 4.350934333333334, 3.607666, 2.2646384999999998, 1.2166225, 0.18231466666666665, -1.3960916666666667, -2.4145525, -2.981631, -3.6308735, -4.49997, -5.617591, -7.091932333333333, -8.242713499999999, -8.8162, -9.5464415, -10.501370000000001, -11.483035000000001, -12.655376333333335, -13.581196000000002, -14.528379333333334, -15.696924, -16.675289, -17.623630666666667, -18.779337, -19.7054475, -20.30430133333333, -20.3578165, -20.356951000000002, -20.357644, -20.357536666666665, -20.3565985, -20.355838666666667, -20.358765499999997, -20.359560000000002, -20.413445499999998, -20.590313000000002, -20.591068, -20.591061, -20.591079999999998, -20.591076, -20.591066666666666, -20.591067666666667, -20.591069, -20.566558333333337, -19.8061985, -18.8628835, -17.950536, -16.865157666666665, -15.955385999999999, -15.060786666666667, -13.8361085, -12.848849999999999, -11.914981000000003, -10.859644666666666, -10.0644135, -9.433747000000002, -8.8119005, -8.2361465, -7.197441333333334, -5.889167666666666, -4.8287115, -4.100497333333333, -3.7554, -3.1206123333333338, -2.4575630000000004, -1.7535813333333337, -0.7062186666666667, 0.439315, 1.1778763333333335, 2.6194635, 3.38243, 4.282469333333333, 5.497868666666666, 6.5072115, 7.716228, 8.667133, 9.521514499999999, 10.702374666666666, 11.679563, 12.4847645, 13.566975, 14.7258285, 15.512262, 16.605815, 16.605815, 18.833717, 20.177332, 20.9598085, 21.717838, 23.038062000000004, 24.221934333333333, 24.221934333333333, 25.849577, 27.267206, 28.226153333333333, 29.491072000000003, 30.50334, 31.461851, 32.48031, 33.371133, 34.01476566666667, 34.745017999999995, 35.545790000000004, 36.12035366666667, 36.699126500000006, 37.051143499999995, 37.410371999999995, 37.767443, 37.647857, 37.97507, 37.97507, 38.002623, 38.002623, 38.002623, 38.002629999999996, 38.002618, 38.002618, 38.266943, 38.010723, 37.52726466666667, 37.086916, 36.555831000000005, 36.01226, 35.144472, 34.5216035, 33.808843333333336, 32.98615233333334, 32.07734333333333, 31.042610000000003, 30.26331, 29.407487, 28.547973, 27.452284000000002, 26.795486999999998, 26.795486999999998, 24.899438, 24.275282500000003, 23.275951499999998, 22.314819333333332, 21.806913, 20.825754500000002, 20.0215745, 19.205937499999997, 19.205937499999997, 19.205937499999997, 16.359662, 16.004048, 15.227625, 14.309077499999999, 14.309077499999999, 13.086872, 13.086872, 13.086872, 10.663012, 9.99864, 9.99864, 9.99864, 7.450783, 7.450783, 7.450783, 4.638847, 4.0049529999999995, 2.932267, 2.1455733333333336, 1.30523, 1.1758486666666668, 1.1769045, 1.1772403333333334, 1.1772752499999999, 1.1774686666666667, 1.177503, 1.1776635, 1.1783085, 1.1767775, 1.1764223333333332, 1.1771, 1.177585, 1.1768216666666669, 1.1760220000000001, 1.1771866666666666, 1.1775566666666666, 1.1775466666666665, 1.1765780000000001, 1.1767063333333334, 1.176229, 1.206561, 1.2471105, 0.723303, 0.07851799999999999, -1.0102975, -2.0544435, -2.4970685, -3.4818534999999997, -4.1938260000000005, -4.611416999999999, -5.173057666666666, -5.6535665, -6.032230000000001, -6.263989333333334, -7.028841, -8.090347999999999, -9.28904, -10.548282, -11.743937666666667, -13.440912333333335, -14.496611333333334, -15.463488, -16.707756333333332, -17.704560999999998, -18.763715666666666, -19.94996833333333, -20.356773, -20.357557999999997, -20.358236666666667, -20.358136000000002, -20.35758866666667, -20.356883, -20.356666666666666, -20.565292000000003, -20.587028999999998, -20.5870275, -20.587016000000002, -20.587014333333332, -20.587018333333337, -20.587018, -20.566584000000002, -20.085013500000002, -19.240511666666666, -18.265406333333335, -17.37699, -16.607097, -15.62986, -14.838878, -14.049028333333334, -13.065433666666669, -12.202176, -11.476507000000002, -10.451283333333334, -9.712983333333334, -9.1660585, -8.695601333333334, -8.155962, -7.542627, -6.588799333333334, -5.543637333333333, -4.616455, -3.640929, -2.7817950000000002, -2.015315, -0.9207005, 0.18062999999999999, 0.7002936666666666, 1.85189175, 2.9391325000000004, 3.6034, 4.595749333333333, 5.614379333333333, 6.379185, 7.39843, 8.275995000000002, 8.996552000000001, 9.898177333333335, 11.104882, 11.962199, 12.924447, 13.719053, 14.242659, 15.074347, 15.971462666666667, 16.814664999999998, 17.233807000000002, 18.336392, 18.336392, 19.8392505, 19.93824, 20.496182, 20.496182, 20.496182, 21.249997, 21.539655666666665, 21.517265, 21.517265, 21.517265, 21.517265, 21.698315, 21.90388866666667, 21.90389, 21.9038885, 21.903872, 21.9038795, 21.9038795, 21.903892000000003, 21.90389, 21.903882, 21.9038795, 21.903878000000002, 21.903878000000002, 21.533165500000003, 21.533165500000003, 21.533165500000003, 21.533165500000003, 21.533165500000003, 21.533165500000003, 21.533165500000003, 21.533165500000003, 21.533165500000003, 21.533165500000003, 21.533165500000003, 21.533165500000003, 21.533165500000003, 21.533165500000003, 21.533165500000003, 21.533165500000003, 21.533165500000003, 21.533165500000003, 6.857127, 6.857127, 6.857127, 6.857127, 3.332585, 2.928505, 1.4828796666666666, 1.164178, 1.1544873333333332, 1.155414333333333, 1.1545903333333334, 1.153637, 1.1543919999999999, 1.155018, 1.155203, 1.154151, 1.1545243333333335, 1.154348, 1.1544786666666667, 1.1563415, 1.155548, 1.1562466666666669, 1.155363, 1.15383, 1.149181, 1.3215495000000002, 1.3639953333333334, 0.45686000000000004, -0.207565, -0.207565, -2.00966, -2.49631, -3.0656335, -4.0005055, -4.557809, -4.898532, -5.442747000000001, -5.893576666666667, -6.194333500000001, -6.443177666666667, -7.376410333333333, -8.162357, -9.371965000000001, -10.356792, -11.306587666666667, -12.462192333333334, -13.445008333333334, -14.484123, -15.604497, -16.379738, -17.760066, -18.940203333333333, -19.925946, -20.334042999999998, -20.332718666666665, -20.332479, -20.332561333333334, -20.331454, -20.3307385, -20.332218], \"legendgroup\": \"\", \"lon\": [105.67, 104.93353333333334, 104.63340000000001, 104.62935, 104.62950000000001, 104.6295, 104.6303, 104.63043333333333, 104.62946666666666, 104.62944999999999, 104.6294, 104.6297, 104.63, 104.63085000000001, 104.6309, 104.6306, 104.6307, 104.63, 104.7126, 104.7126, 104.7126, 104.7126, 104.7126, 104.7126, 104.7126, 101.4082, 101.4082, 101.4082, 101.4082, 101.4082, 101.2076, 101.1853, 101.1853, 100.9445, 101.1875, 101.20700000000001, 101.1511, 101.1552, 101.1552, 101.1552, 101.1552, 101.1552, 101.1552, 101.1334, 101.1334, 101.1334, 101.1334, 101.1334, 101.1334, 101.1334, 101.1334, 103.8729, 103.8729, 103.8729, 104.9652, 104.9652, 104.9652, 106.9107, 106.9107, 107.8996, 108.9488, 109.5928, 109.8076, 110.77756666666666, 112.1037, 112.5491, 113.5041, 114.5505, 115.0061, 115.6674, 115.7477, 115.8125, 115.9325, 116.08840000000001, 116.0477, 115.798, 115.4761, 115.1913, 114.8715, 115.23035, 114.852, 115.1679, 114.8994, 115.0906, 114.9831, 115.06135, 115.4641, 116.0185, 116.645, 116.9216, 116.527, 116.5276, 116.52685, 116.52715, 116.5272, 116.52213333333333, 116.522, 116.52340000000001, 116.5253, 116.52625, 116.5265, 116.5263, 116.5231, 116.5241, 116.5265, 116.5267, 116.5264, 116.5268, 116.5264, 116.52584999999999, 116.5265, 116.5258, 116.5251, 116.5266, 116.5267, 116.52664999999999, 116.5268, 116.5266, 116.5255, 116.5267, 116.5272, 116.5269, 116.5271, 116.0079, 114.7293, 115.2576, 114.8945, 115.0371, 114.8834, 115.1055, 115.1262, 115.0075, 115.0072, 115.0072, 115.0072, 115.0072, 115.0072, 115.0072, 115.0258, 115.1154, 114.8093, 114.89245, 115.0089, 115.0987, 115.1767, 115.30375000000001, 115.3864, 115.52405, 115.6218, 115.8076, 115.1766, 114.28355, 113.5037, 113.5037, 111.273, 110.6666, 109.78450000000001, 109.5809, 109.5809, 108.57275000000001, 108.0181, 107.0354, 106.6396, 106.0534, 105.1807, 104.6556, 104.6553, 104.6556, 104.6492, 104.65485000000001, 104.6553, 104.65545, 104.6553, 104.6555, 104.6556, 104.65485, 104.65485, 104.6557, 104.6556, 104.6553, 104.6556, 104.65485000000001, 104.655, 104.65565000000001, 104.6558, 104.6558, 104.656, 104.6562, 104.6557, 104.65585, 104.6558, 104.6552, 104.6552, 104.65665, 104.6549, 104.65559999999999, 104.65559999999999, 104.6556, 104.6553, 104.6568, 104.6556, 104.65559999999999, 104.6563, 104.6554, 104.6556, 104.65735000000001, 104.6573, 104.656, 104.6566, 104.6561, 104.86375, 106.208, 106.208, 106.208, 106.208, 106.208, 106.208, 106.74765, 106.74765, 106.5429, 106.568, 106.6817, 106.6817, 106.4437, 106.652, 106.5031, 106.67695, 106.67695, 106.7074, 106.6199, 106.6854, 106.68700000000001, 106.6261, 106.6933, 106.5636, 106.5636, 106.5636, 106.5636, 106.5636, 106.9198, 106.9198, 106.9198, 106.6501, 106.6501, 106.6501, 106.6501, 104.99855, 106.1872, 106.6938, 106.7292, 106.5975, 106.7722, 106.7722, 106.5654, 106.5654, 107.01700000000001, 107.01700000000001, 107.01700000000001, 106.8106, 107.0704, 107.0704, 107.0367, 107.0367, 105.3152, 104.715, 104.7151, 104.8, 104.501, 104.501, 104.0506, 104.0506, 104.0506, 104.0506, 100.9808, 100.9808, 100.9808, 100.9808, 100.9808, 100.9808, 100.9808, 100.9808, 101.1492, 101.1552, 101.1552, 101.1552, 101.1552, 101.1552, 101.1552, 101.1552, 101.142, 100.8855, 100.8855, 100.8855, 100.8855, 100.8855, 100.8855, 100.8855, 100.8855, 100.8855, 100.8855, 105.24860000000001, 105.4728, 105.4728, 107.0354, 107.0354, 108.73150000000001, 108.73150000000001, 109.5957, 110.3333, 111.75014999999999, 112.7969, 113.6026, 114.5655, 115.25365, 115.7924, 115.7981, 115.9399, 116.0194, 116.0194, 116.26845, 116.3939, 116.51685, 116.65899999999999, 116.7176, 116.8617, 116.5273, 116.5272, 116.52455, 116.5251, 116.5229, 116.5262, 116.52674999999999, 116.6869, 116.33625, 116.5635, 116.5635, 116.7639, 116.7639, 116.7639, 116.7639, 116.7639, 116.7639, 116.7639, 116.81219999999999, 116.8324, 116.6906, 116.6056, 116.5124, 116.3966, 116.2615, 116.1802, 116.0513, 115.9821, 115.8853, 115.7759, 115.6902, 115.6032, 114.9708, 114.3923, 113.5595, 112.7485, 112.33539999999999, 111.02539999999999, 109.8718, 109.5684, 109.2107, 108.42005, 107.5997, 106.9738, 106.1131, 105.2742, 104.5549, 104.5537, 104.7158, 104.1836, 103.7919, 103.455, 103.455, 103.455, 103.455, 103.455, 100.9226, 100.8711, 101.1633, 101.1538, 101.1538, 101.1538, 101.1538, 101.1538, 101.1538, 101.1538, 101.1371, 101.1371, 100.7971, 101.2041, 101.89136666666666, 101.89136666666666, 101.89136666666666, 101.89136666666666, 104.1735, 104.6138, 104.6138, 104.477, 104.4776, 104.4773, 104.47694999999999, 104.4777, 104.4775, 104.4765, 104.4773, 104.4761, 104.4761, 104.4776, 104.4776, 104.47745, 104.4774, 104.4791, 104.4779, 104.4791, 104.479, 104.4797, 104.4788, 104.4786, 104.4781, 104.4781, 104.4787, 104.46459999999999, 103.5934, 102.71055, 101.8922, 101.1194, 100.32645, 100.32645, 98.7904, 98.7904, 97.02600000000001, 97.02600000000001, 97.02600000000001, 92.6688, 92.6688, 90.3663, 89.2568, 89.2568, 87.3076, 85.8085, 85.03200000000001, 83.755, 83.3225, 81.8162, 80.0067, 80.0067, 80.0067, 80.0067, 80.0067, 80.0067, 80.0067, 80.0067, 74.3184, 73.4269, 73.1051, 72.6171, 72.6171, 71.4898, 70.60985, 70.60985, 70.60985, 68.56, 68.56, 67.0875, 67.0875, 65.4954, 65.0582, 65.0582, 65.3135, 65.3135, 65.279, 65.279, 65.3645, 65.3645, 65.3645, 65.2509, 65.2509, 64.2923, 63.2861, 63.2861, 60.361000000000004, 59.5913, 59.5913, 59.5913, 59.5913, 59.5913, 59.5913, 59.5913, 59.5913, 59.3416, 59.3416, 57.5692, 57.1472, 56.9202, 56.4872, 56.49235, 56.493, 56.4936, 56.4937, 56.493849999999995, 56.4925, 56.4924, 56.4925, 56.4923, 56.4931, 56.4925, 56.4925, 56.49365, 56.493, 56.4928, 56.4952, 56.4957, 56.4955, 56.49325, 56.4927, 56.4926, 56.4929, 56.495, 56.4943, 56.49265, 56.493257334, 56.49336222333333, 56.493243335, 56.49281777666666, 56.494097780000004, 56.493875556666666, 56.494106665000004, 56.495466666666665, 56.495740000000005, 56.49578889, 57.005253333333336, 58.241523335, 60.30068333, 62.01588667, 62.99163333, 63.86817333, 64.542616665, 65.27655, 65.46930667, 66.45516334999999, 67.289263165, 67.28709333, 67.28709, 67.28709333, 67.28709333, 67.28709333, 67.28709333, 67.2871, 67.21546333500001, 66.97768222333333, 67.00444644333334, 67.63711566666666, 68.28101333, 68.794942, 69.48589555333334, 70.0237435, 70.58294666666666, 71.220405165, 71.84739333, 72.38124499999999, 72.956000165, 73.32332433333333, 73.954793335, 74.68186667, 75.000753335, 75.62189544666667, 76.402416665, 77.15755977666667, 77.72357333, 78.816358415, 80.05223000000001, 81.10581110999999, 82.15718000000001, 82.83455333, 83.96799999999999, 85.05884, 85.81069333, 86.48072667, 87.63484666666666, 88.68209333, 89.24960422333334, 90.36168841749999, 91.52665999999999, 92.23045322333333, 93.22112677666667, 94.100073335, 95.2580565825, 96.361823165, 97.10828667, 97.86611333, 99.10495788666667, 99.92474, 100.57041000000001, 101.48964342500001, 102.56364, 103.3982665, 104.47693000000001, 105.72223335000001, 106.7456489, 107.74900223333333, 108.46656670000002, 109.50099576666668, 110.67863546666666, 111.75380015, 112.56653356666668, 113.62819675, 114.7882267, 115.89597766666667, 116.78793323333332, 116.77262015, 116.83801776666667, 116.86328453333333, 116.76356000000001, 116.76391100000001, 116.76389325, 116.76389329999999, 116.76389315, 116.76389329999999, 116.76389329999999, 116.75121776666667, 116.7227201, 116.91579315, 116.779689, 116.69082656666667, 116.5682133, 116.45451556666667, 116.33031543333334, 116.23236685, 116.14496685, 116.00836992500001, 115.8796533, 115.79848665, 115.681259825, 115.12582, 114.56876443333333, 113.71563566666667, 112.85346670000001, 111.95775333333332, 110.95213543333334, 109.99124402, 109.592727, 109.16058000000001, 108.49532433333333, 107.8432467, 106.98631207999999, 106.4968733, 105.9942065, 105.01491325, 104.52247650000001, 104.88915, 105.37736000000001, 105.37736000000001, 105.37736000000001, 107.44866670000002, 107.44866670000002, 107.44866670000002, 107.44866670000002, 107.44866670000002, 110.7978333, 110.7978333, 110.7978333, 110.7978333, 110.7978333, 110.7978333, 110.7978333, 110.7978333, 110.7978333, 110.7978333, 110.7978333, 114.60956000000002, 114.185089925, 114.19877343333333, 114.04461315, 114.07992, 114.07589329999999, 114.7440533, 114.82884665, 114.56954685, 114.42860886666666, 114.4319067, 114.4319067, 114.4319067, 114.4319067, 114.4319067, 114.5526533, 114.73687556666668, 114.2192533, 114.2192533, 114.2192533, 114.2192533, 114.2192533, 114.2192533, 114.2192533, 114.2192533, 112.135093, 112.135093, 112.135093, 110.61043329999998, 110.1855933, 110.1855933, 110.1855933, 110.1855933, 110.1855933, 107.43033999999999, 106.53653999999999, 105.60032665, 105.17134685, 104.71921999999999, 104.51783323333332, 104.51783323333332, 104.51897, 104.5201667, 104.5198733, 104.51888000000001, 104.51895335, 104.69878, 104.51365329999999, 104.5188967, 104.52026985, 104.51852015, 104.52008335, 104.52068670000001, 104.51829665, 104.5195, 104.52044000000001, 104.51703330000001, 104.51808, 104.52083329999999, 104.51690335, 104.52008670000001, 104.52008670000001, 104.52008670000001, 104.52900670000001, 104.51925329999999, 104.51858665, 104.51774, 104.5203133, 104.51863665, 104.51863665, 104.51863665, 104.51863665, 104.51863665, 104.51863665, 104.521633, 104.521633, 104.521633, 104.5216333, 104.5223365, 104.52186, 104.52109329999999, 104.89553335, 106.03824669999999, 106.41572335000001, 107.2317599, 107.99534000000001, 108.80715556666667, 109.49441664999999, 109.71241766666667, 110.464409, 111.31073756666666, 112.51308, 113.12966650000001, 113.12966650000001, 114.33336000000001, 115.16934649999999, 115.540573, 115.16798685, 115.5192665, 115.5192665, 115.38363999999999, 115.69381999999999, 115.7891421, 115.90549343333333, 116.0173065, 116.0173065, 116.2515335, 116.459947, 116.2938865, 116.44973300000001, 116.64990650000001, 116.64990650000001, 117.83108000000001, 116.40301299999999, 116.7362, 116.85392, 116.6664135, 116.6664135, 116.76390649999999, 116.76390649999999, 116.76389315, 116.763893, 116.763893, 116.763893, 116.763893, 116.6250135, 116.52146633333332, 116.52144866666667, 116.52133350000001, 116.62446650000001, 116.8657535, 116.80328466666667, 116.68395133333333, 116.5779135, 116.47574666666667, 116.33566000000002, 116.22263099999999, 116.10028, 116.00834666666668, 115.88152000000001, 115.7704135, 115.67696000000001, 115.17657766666667, 114.495453, 113.70215566666667, 112.868647, 112.04514433333334, 110.7903565, 109.831771, 109.56286, 109.01505300000001, 108.28688000000001, 107.50731766666667, 106.75597350000001, 106.75597350000001, 106.75597350000001, 107.316927, 108.12612, 108.12612, 108.12612, 110.00250700000001, 110.00250700000001, 110.00250700000001, 110.00250700000001, 110.00250700000001, 110.00250700000001, 110.00250700000001, 110.00250700000001, 110.00250700000001, 110.00250700000001, 110.00250700000001, 110.00250700000001, 110.00250700000001, 110.00250700000001, 110.00250700000001, 110.00250700000001, 110.00250700000001, 110.00250700000001, 110.00250700000001, 110.00250700000001, 110.00250700000001, 110.00250700000001, 110.00250700000001, 110.00250700000001, 110.00250700000001, 110.00250700000001, 110.00250700000001, 110.00250700000001, 114.62532, 114.61532650000001, 114.42819349999999, 114.42989299999999, 114.42990649999999, 114.42990649999999, 114.42989299999999, 114.42992, 114.42989299999999, 114.46129299999998, 114.55260466666668, 114.473173, 114.473173, 113.458027, 113.458027, 113.458027, 113.458027, 113.458027, 113.458027, 113.458027, 113.458027, 113.458027, 113.458027, 113.458027, 113.458027, 113.458027, 107.569387, 106.30818700000002, 105.80193999999999, 105.06330649999998, 104.629787, 104.5373265, 104.5314465, 104.5314465, 104.53178, 104.53229300000001, 104.53164, 104.75692000000001, 105.59488700000001, 106.218033, 106.78026, 107.6167, 108.18472, 109.04929000000001, 109.583853, 109.74332700000001, 110.617509, 112.16803999999999, 112.16803999999999, 113.906613, 114.66870700000001, 115.44813300000001, 116.643607, 117.51952, 118.011707, 118.46311349999999, 118.48263999999999, 118.46003999999999, 118.29518700000001, 118.034053, 117.50618700000001, 117.486253, 117.486253, 117.486253, 117.486253, 117.486253, 117.486253, 117.486253, 117.486253, 117.8414, 119.0269465, 119.7863535, 120.7063735, 121.9144135, 122.80318700000001, 124.11714, 124.92242674999999, 125.73783350000001, 126.22734, 126.64683349999999, 126.92897766666665, 127.27764, 127.27764, 127.7428, 127.96776000000001, 128.451573, 128.451573, 128.9812, 129.21739350000001, 129.64744, 129.809173, 130.20488, 130.20488, 130.795573, 131.302773, 131.81544, 132.01144, 132.01144, 132.97288, 133.32470666666666, 133.4745835, 133.73685333333333, 133.86668, 134.16319566666667, 134.394453, 134.49845349999998, 134.82504, 134.9598, 134.98399999999998, 134.81004000000001, 134.69002700000001, 134.69004433333336, 134.690053, 134.690053, 134.690053, 134.690053, 134.699467, 134.97034666666664, 134.888551, 134.7222665, 134.4790135, 134.21376, 133.9283865, 133.75968, 133.50813766666667, 133.24987566666667, 133.08798000000002, 132.5341265, 132.13696, 131.75145350000003, 131.15828866666666, 130.51935349999997, 130.1791665, 130.054507, 129.41499349999998, 129.10384, 128.839133, 128.54542650000002, 128.342447, 128.14802233333333, 127.86358700000001, 127.73414650000001, 127.52479999999998, 127.500093, 127.50009675, 127.4616135, 127.15416866666665, 126.846773, 126.7834, 127.02580466666666, 126.515173, 125.735727, 125.56510200000001, 125.47524, 125.37892899999999, 125.28540000000001, 124.5554, 123.18562, 122.4258, 121.83894666666667, 121.11838666666667, 120.443729, 119.89565999999999, 119.21132, 118.52259566666667, 118.08113999999999, 117.62920000000001, 117.04885999999999, 116.57889349999999, 116.5424065, 116.54272000000002, 116.54295350000001, 116.54376675, 116.5428, 116.72041766666666, 116.7625735, 116.7625735, 116.76256000000001, 116.76254650000001, 116.76254650000001, 116.76258700000001, 116.76258700000001, 116.82203999999999, 117.43786650000001, 117.881067, 118.41418233333333, 118.8120535, 118.8120535, 119.918573, 120.63633766666665, 121.23103650000002, 121.73841999999999, 122.08128866666668, 122.24076433333335, 122.768267, 123.18432899999999, 124.20332325, 124.83196000000001, 125.37945766666667, 125.44117299999999, 125.51555566666669, 125.58147299999999, 126.12425366666666, 126.86504, 126.79102233333333, 126.752887, 127.21823566666667, 127.716667, 128.00016325, 127.91558700000002, 127.73884, 127.306178, 126.99144, 126.85549800000001, 126.43636649999999, 125.96588, 125.45330700000001, 125.16168, 125.16168, 125.16168, 123.18874699999999, 121.61129299999999, 121.61129299999999, 120.282347, 119.964867, 119.964867, 119.58021299999999, 119.39041999999999, 119.97149333333334, 120.219027, 120.21948, 120.2199065, 120.22048000000001, 120.221098, 120.22088000000001, 120.22063999999999, 120.2199535, 120.2208465, 120.221507, 120.22297333333334, 120.22202000000001, 120.222427, 120.22251999999999, 120.168493, 120.16489733333333, 120.16421299999999, 120.1631935, 120.16243566666668, 120.16311350000001, 120.16195325, 120.162867, 120.16344900000001, 120.16293766666666, 120.16293766666666, 120.16342, 120.162547, 120.16276900000001, 120.16312433333333, 120.1862, 120.1862, 120.201227, 120.20121999999999, 120.201227, 120.201227, 120.1728135, 119.527613, 119.016, 118.67266699999999, 118.12006699999999, 118.12006699999999, 118.12006699999999, 118.12006699999999, 118.12006699999999, 118.12006699999999, 118.12006699999999, 118.12006699999999, 118.12006699999999, 118.12006699999999, 118.12006699999999, 118.12006699999999, 118.12006699999999, 118.12006699999999, 118.12006699999999, 118.12006699999999, 107.79082, 107.79082, 107.79082, 107.79082, 107.79082, 107.79082, 107.79082, 103.94747000000001, 103.099367, 102.12643299999999, 101.08315333333333, 100.58286, 100.58286, 100.58286, 97.992757, 97.45724, 96.00412, 94.7405765, 93.41486433333334, 93.41486433333334, 91.59047333333335, 90.2774435, 89.37082, 88.26410666666668, 87.053523, 86.1370435, 84.8143, 84.098927, 82.94914, 81.78519, 80.754727, 80.754727, 79.29089300000001, 78.21109150000001, 77.135073, 76.18907, 75.38466, 74.36838999999999, 73.46296233333332, 72.6051465, 72.6051465, 70.565493, 69.749493, 68.830647, 68.08752, 67.5497235, 66.72581766666667, 65.65486700000001, 65.16548866666666, 64.3052865, 63.498309, 62.61915566666667, 61.7023235, 60.72445566666667, 59.891017, 59.095313000000004, 58.28135133333333, 57.185053, 56.17029766666667, 55.146666499999995, 54.196483, 53.335324333333325, 52.274346333333334, 51.128448999999996, 50.00181500000001, 48.91005, 47.89218, 46.689054999999996, 45.697192, 44.679639, 43.628805, 42.875927000000004, 42.23364566666666, 41.735642, 41.107283333333335, 40.33650133333333, 40.0802, 39.58029499999999, 39.0294085, 38.54859666666667, 38.03614225, 37.437795, 37.00620075, 36.593978, 36.1501935, 35.5696, 34.91022, 34.061424333333335, 33.25411, 32.7245415, 32.593066500000006, 32.58552, 32.58493133333334, 32.583613, 32.583587, 32.58082, 32.561699, 32.3567585, 32.34256766666667, 31.960548000000003, 31.127059250000002, 30.5425, 30.150722000000002, 30.12702, 30.22793725, 30.241512999999998, 30.241746999999997, 30.241903000000004, 30.2418565, 30.2420035, 30.24158, 30.24166, 30.241801, 30.241936499999998, 30.242224999999998, 30.242009999999997, 30.24146433333333, 30.24136233333333, 30.2413335, 30.241672, 30.241672, 30.241672, 30.241689999999995, 30.240923, 30.24121325, 30.241263500000002, 30.241263500000002, 30.241263500000002, 30.241707, 30.241716999999998, 30.24184, 30.24184, 30.242257000000002, 30.2422385, 30.241916500000002, 30.24168, 30.241763333333335, 30.242316333333335, 30.242327000000003, 30.242217, 30.24184, 30.241860000000003, 30.242095, 30.242105, 30.242324666666665, 30.242463, 30.242366666666666, 30.242341500000002, 30.242085333333335, 30.24203, 30.24203, 30.24203, 30.241744666666666, 30.241932333333335, 30.24209975, 30.2418465, 30.2418465, 30.2418465, 30.241577000000003, 30.242179999999998, 30.242179999999998, 30.242179999999998, 30.242179999999998, 30.242040000000003, 30.24142, 30.241727, 30.241839, 30.241692, 30.241948999999995, 30.242145, 30.241636666666665, 30.241425, 30.241688999999997, 30.241934999999998, 30.24213, 30.2424185, 30.241973333333334, 30.2411915, 30.241902333333332, 30.242395, 30.242405000000005, 30.242337666666668, 30.241935333333334, 30.2418285, 30.24180825, 30.242023, 30.242023, 30.242263, 30.242263, 30.241763, 30.241525, 30.241525, 30.2417, 30.24237666666666, 30.241541, 30.240697666666666, 30.240505666666664, 30.242016999999997, 30.24208, 30.241956333333334, 30.241313333333334, 30.240616999999997, 30.240235000000002, 30.2419565, 30.242420000000003, 30.242083, 30.2403565, 30.2403565, 30.239141500000002, 30.24225, 30.24232, 30.240585666666664, 30.239252333333337, 30.238999000000003, 30.24113566666667, 30.241077, 30.240823499999998, 30.241032333333333, 30.241312333333337, 30.241191000000004, 30.24156766666667, 30.241667, 30.241996999999998, 30.2423115, 30.24220675, 30.241943, 30.241899000000004, 30.242123, 30.2419085, 30.241749666666667, 30.241491999999997, 30.2415315, 30.24240675, 30.260267, 30.2968585, 30.296003000000002, 30.296001500000003, 30.296, 30.295997999999997, 30.296003000000002, 30.296001500000003, 30.296003000000002, 30.296, 30.296, 30.356930333333334, 31.378193, 32.18230333333333, 32.292815000000004, 32.29243866666666, 32.29231, 32.29257666666666, 32.292343, 32.3135365, 32.446366999999995, 32.594317, 32.867015333333335, 33.417497, 34.36219, 35.21416133333333, 35.921212, 36.464759, 36.9964485, 37.48300533333333, 38.0778035, 38.573826999999994, 39.034804333333334, 39.618660999999996, 39.94735333333333, 40.072653, 40.5824435, 41.326267, 42.031599666666665, 42.528658500000006, 43.22039900000001, 44.2955035, 45.603703499999995, 46.68673766666666, 48.052146666666665, 49.10597333333334, 50.070215, 51.3979935, 52.498747, 53.447233499999996, 54.547615, 55.95005700000001, 56.929731000000004, 57.82030433333333, 59.174929, 60.45093766666667, 61.1294, 62.36971675, 63.589413500000006, 64.30499, 65.4059365, 66.832227, 67.25514, 68.5390865, 69.82199825, 70.54974999999999, 71.77220200000001, 72.869707, 73.77406233333333, 74.72512233333333, 75.844303, 76.59725999999999, 77.94958299999999, 79.14163333333333, 80.274597, 81.205058, 82.529653, 83.668982, 84.69764, 85.876367, 86.92990700000001, 87.887897, 89.04656700000001, 90.373093, 91.669467, 91.669467, 91.669467, 94.23386, 95.16346, 96.57914300000002, 97.5306, 98.961473, 99.52159, 99.275603, 99.49021766666665, 99.488527, 99.20355649999999, 99.2189135, 99.472477, 100.14231333333333, 100.62469300000001, 101.19977766666666, 102.12020233333334, 103.288853, 103.67168325, 103.71298499999999, 103.713663, 103.71030233333333, 103.71154, 103.7122635, 103.71293650000001, 103.71279299999999, 103.71386199999999, 103.71046666666666, 103.71046666666666, 103.71210699999999, 103.66456, 104.12262866666667, 104.513273, 104.514487, 104.51455, 104.514647, 104.514647, 104.5156565, 104.514873, 104.51451999999999, 104.51438, 104.51442, 104.5150065, 104.51567333333332, 104.51504, 104.51440699999999, 104.514227, 104.514227, 104.5333, 104.72264, 104.49354975, 104.31948, 103.799747, 103.799747, 101.786507, 100.96980699999999, 100.96980699999999, 100.880813, 100.880813, 100.880813, 101.07324975, 101.29996700000001, 101.33645999999999, 101.24995299999999, 101.24995299999999, 101.08846, 101.08846, 101.1012365, 101.1537835, 101.15380900000001, 101.153807, 101.153807, 101.15381199999999, 101.15382466666667, 101.153827, 101.195449, 101.1999, 101.1999, 101.04655325, 100.85481999999999, 100.85481999999999, 100.9089, 100.9089, 100.9089, 103.083951, 103.857213, 104.283073, 104.5271, 104.817103, 105.108323, 105.78790233333332, 106.3894265, 107.104651, 107.814617, 108.55642999999999, 109.37226033333333, 109.6241465, 110.16010666666666, 111.17648666666666, 112.06394649999999, 113.11819533333333, 113.96490700000001, 114.560231, 115.39040466666665, 115.80126, 115.819707, 116.86464000000001, 117.82334649999999, 118.69060433333333, 119.74502700000001, 120.6926, 121.61329766666665, 122.783147, 123.676693, 124.647111, 125.68762233333332, 126.736987, 127.577967, 128.65042, 129.5941935, 130.581578, 131.748609, 132.8298266666667, 133.7092735, 134.73507999999998, 135.6563735, 136.59795999999997, 137.55448466666667, 138.6464, 139.53376699999998, 140.635913, 141.591553, 142.33403533333333, 143.16183999999998, 143.8789065, 144.80081333333334, 146.02858700000002, 146.7914465, 146.81994233333333, 146.81982233333332, 146.8562, 146.98684000000003, 146.98688, 146.986853, 146.986862, 146.986853, 146.986853, 146.881022, 147.12473300000002, 147.6311065, 148.64673059999998, 149.46876, 150.376102, 151.324809, 152.40293350000002, 153.29500000000002, 154.057649, 154.734231, 154.556071, 154.31336000000002, 154.08551999999997, 153.99938, 153.937831, 153.86068675, 153.946907, 153.98530666666667, 154.0205465, 154.1190356666667, 154.32163350000002, 154.791733, 155.25589333333335, 155.4784065, 155.6732935, 155.82885349999998, 155.9854753333333, 156.16885333333332, 156.3231065, 156.47701333333333, 156.0921865, 155.58203133333333, 155.1242135, 154.65584433333333, 154.10672674999998, 153.85686675, 153.2857535, 152.85688466666667, 152.375027, 151.9204, 151.47578675, 150.9431065, 150.4279065, 149.91054666666665, 149.429933, 148.98591133333332, 148.498769, 148.498769, 148.498769, 148.498769, 145.42144, 145.27101, 144.9500713333333, 144.69028, 143.83996, 142.96732433333332, 142.0716665, 141.11583533333334, 139.93551325, 139.43216, 138.7417265, 138.1318865, 138.740827, 138.522231, 138.06832, 138.637111, 138.17099566666667, 138.4505735, 138.67994, 138.92528900000002, 139.4430135, 139.71393333333333, 139.8206535, 139.8208, 139.82079099999999, 139.8208, 139.8208, 139.8208, 139.8208, 139.756613, 140.89075566666665, 141.772551, 142.62535133333336, 143.35443299999997, 144.03544649999998, 144.62698233333333, 144.7386535, 144.44419566666664, 144.1247535, 143.76736866666667, 143.08890000000002, 142.33194666666668, 141.57658650000002, 140.82124325, 140.0162665, 139.43098650000002, 138.625351, 138.050373, 137.600182, 136.76236433333335, 136.00182233333334, 135.423293, 134.55990233333333, 133.810853, 133.3897, 132.61880675, 131.80460699999998, 131.4266335, 130.464427, 130.464427, 129.4692865, 128.68518, 128.113209, 127.7440665, 127.29878000000001, 126.9501535, 126.768342, 126.88516, 126.6995465, 125.74225766666666, 124.98524699999999, 125.16414649999999, 125.25984899999999, 125.35506233333332, 125.24652, 124.36584899999998, 123.06768650000001, 122.4005665, 121.82053300000001, 121.12675133333335, 120.55238700000001, 119.99450666666667, 119.2811665, 118.68281299999998, 118.19207133333335, 117.68695100000001, 117.09942649999999, 116.57064433333333, 116.525973, 116.525833, 116.52607133333333, 116.52621766666665, 116.52598649999999, 116.52509300000001, 116.522907, 116.52538700000001, 116.62830650000001, 116.76189800000002, 116.76258700000001, 116.76258700000001, 116.76258700000001, 116.76258700000001, 116.76258700000001, 116.76258700000001, 116.76258700000001, 116.75287566666668, 117.0765465, 117.649593, 118.20406233333334, 118.80983099999999, 119.35262650000001, 119.85419999999999, 120.544333, 121.0923135, 121.63424466666667, 122.19343566666667, 122.643733, 123.38768, 124.484447, 125.19357349999999, 125.33881766666667, 125.46389333333333, 125.49520000000001, 125.03614666666668, 124.9420265, 125.63568, 126.48172650000001, 126.88963966666667, 126.73976033333334, 126.67085349999999, 126.93830666666666, 127.42279349999998, 127.68642, 127.73766233333333, 127.79779533333333, 127.841927, 127.90423566666668, 127.95428000000001, 128.02573999999998, 128.06360433333336, 128.102787, 128.1398335, 128.2013465, 128.25990000000002, 128.30018, 128.3561335, 128.3561335, 128.4714065, 128.54164, 128.58075350000001, 128.61632, 128.693353, 128.75701766666666, 128.75701766666666, 128.845707, 128.8721665, 128.66640866666668, 128.65667566666667, 128.651047, 128.65131966666667, 128.44472, 128.660093, 129.59555533333332, 130.530009, 131.58892466666666, 132.34191099999998, 133.46362, 134.61764, 135.77618, 137.12724, 138.00816, 138.97178, 138.97178, 139.230413, 139.2304, 139.2304, 139.230413, 139.2304, 139.2304, 137.75329299999999, 136.82376000000002, 135.52491566666666, 134.35128674999999, 132.98324033333333, 132.194293, 131.043929, 130.1092065, 129.26311566666666, 128.30883133333336, 127.78406233333332, 128.08272, 127.80709999999999, 127.462747, 126.998453, 126.19888866666666, 125.8596, 125.8596, 124.117453, 123.31186, 122.7787265, 122.28134233333333, 121.983453, 121.0797135, 120.03618, 119.53021999999999, 119.53021999999999, 119.53021999999999, 117.96010700000001, 117.759573, 117.289573, 116.31404649999999, 116.31404649999999, 115.02271999999999, 115.02271999999999, 115.02271999999999, 112.535693, 111.80701299999998, 111.80701299999998, 111.80701299999998, 109.144713, 109.144713, 109.144713, 106.38541299999999, 105.81098700000001, 105.04432, 104.78629566666666, 104.293313, 103.76711533333334, 103.751207, 103.751298, 103.7513415, 103.75125799999999, 103.751367, 103.75572, 103.752017, 103.75121675, 103.75131800000001, 103.75113766666668, 103.751187, 103.751389, 103.75143349999999, 103.751389, 103.75139999999999, 103.75136666666667, 103.751173, 103.75538666666667, 103.754647, 103.928951, 104.97101, 105.97753999999999, 106.60622, 107.51266, 108.6251735, 109.35297700000001, 109.7481835, 110.22418, 111.273147, 112.43636033333333, 113.47012, 114.44091999999999, 115.83411533333333, 116.40257000000001, 115.926933, 115.6377865, 115.788587, 115.93428, 116.14217333333333, 116.27205800000002, 116.39186699999999, 116.54678666666666, 116.67140649999999, 116.80456866666668, 116.77164433333333, 116.52654666666668, 116.52718700000001, 116.52726233333333, 116.5272665, 116.52715533333333, 116.526778, 116.52630233333333, 116.7408, 116.76390199999999, 116.763893, 116.76390199999999, 116.763893, 116.763893, 116.763893, 116.75028433333334, 116.919047, 117.42061799999999, 118.01656033333332, 118.51168899999999, 118.95783999999999, 119.51519099999997, 119.964653, 120.41174666666667, 120.96621333333333, 121.45115133333333, 121.857373, 122.42692866666668, 123.07680866666668, 123.7976, 124.66640433333333, 125.185311, 124.80108, 125.09967566666667, 125.31244, 125.49681999999999, 125.64244433333334, 126.07504899999999, 126.71598700000001, 126.78167675, 126.73948, 126.84010699999999, 127.16477675, 127.5247065, 127.674973, 127.53504, 127.39119133333334, 127.283027, 127.130929, 126.948227, 126.7896, 126.569111, 126.323173, 126.1331735, 125.917653, 125.73996000000001, 125.622467, 125.435027, 125.09070233333334, 124.442573, 124.112853, 123.24213300000001, 123.24213300000001, 121.70498, 121.359893, 119.4119665, 119.4119665, 119.4119665, 116.76812, 115.583782, 114.58347966666666, 114.58347966666666, 114.58347966666666, 114.58347966666666, 113.34636, 113.21669266666667, 113.216692, 113.2166925, 113.216692, 113.216692, 113.216692, 113.216692, 113.21669299999999, 113.21669266666667, 113.21670599999999, 113.21669200000001, 113.21669200000001, 113.1914665, 113.1914665, 113.1914665, 113.1914665, 113.1914665, 113.1914665, 113.1914665, 113.1914665, 113.1914665, 113.1914665, 113.1914665, 113.1914665, 113.1914665, 113.1914665, 113.1914665, 113.1914665, 113.1914665, 113.1914665, 107.895067, 107.895067, 107.895067, 107.895067, 105.2679865, 105.056933, 104.39581333333332, 103.75417300000001, 103.73006666666667, 103.72847766666666, 103.72879766666667, 103.729933, 103.72876466666666, 103.72761299999999, 103.72831133333334, 103.72992666666666, 103.73076666666667, 103.73094, 103.729122, 103.7275135, 103.72996433333333, 103.731689, 103.73022433333334, 103.729527, 103.68316, 104.28156, 105.03223333333334, 106.42063999999999, 106.757713, 106.757713, 108.515707, 109.384247, 109.6123135, 110.11889675, 111.137183, 111.857547, 113.02128433333333, 114.155889, 115.33861300000001, 116.30358666666666, 116.33899566666666, 115.901227, 115.65703133333334, 115.76528, 115.88094233333334, 116.02405800000001, 116.14264033333335, 116.270653, 116.411667, 116.505733, 116.67863100000001, 116.81372866666668, 116.67533333333331, 116.48736000000001, 116.48741766666666, 116.48737299999999, 116.48744433333333, 116.48669299999999, 116.48594350000002, 116.48723999999999], \"marker\": {\"color\": \"#636efa\"}, \"name\": \"\", \"showlegend\": false, \"type\": \"scattergeo\"}],\n",
              "                        {\"geo\": {\"center\": {}, \"domain\": {\"x\": [0.0, 1.0], \"y\": [0.0, 1.0]}}, \"legend\": {\"tracegroupgap\": 0}, \"margin\": {\"t\": 60}, \"template\": {\"data\": {\"bar\": [{\"error_x\": {\"color\": \"#2a3f5f\"}, \"error_y\": {\"color\": \"#2a3f5f\"}, \"marker\": {\"line\": {\"color\": \"#E5ECF6\", \"width\": 0.5}}, \"type\": \"bar\"}], \"barpolar\": [{\"marker\": {\"line\": {\"color\": \"#E5ECF6\", \"width\": 0.5}}, \"type\": \"barpolar\"}], \"carpet\": [{\"aaxis\": {\"endlinecolor\": \"#2a3f5f\", \"gridcolor\": \"white\", \"linecolor\": \"white\", \"minorgridcolor\": \"white\", \"startlinecolor\": \"#2a3f5f\"}, \"baxis\": {\"endlinecolor\": \"#2a3f5f\", \"gridcolor\": \"white\", \"linecolor\": \"white\", \"minorgridcolor\": \"white\", \"startlinecolor\": \"#2a3f5f\"}, \"type\": \"carpet\"}], \"choropleth\": [{\"colorbar\": {\"outlinewidth\": 0, \"ticks\": \"\"}, \"type\": \"choropleth\"}], \"contour\": [{\"colorbar\": {\"outlinewidth\": 0, \"ticks\": \"\"}, \"colorscale\": [[0.0, \"#0d0887\"], [0.1111111111111111, \"#46039f\"], [0.2222222222222222, \"#7201a8\"], [0.3333333333333333, \"#9c179e\"], [0.4444444444444444, \"#bd3786\"], [0.5555555555555556, \"#d8576b\"], [0.6666666666666666, \"#ed7953\"], [0.7777777777777778, \"#fb9f3a\"], [0.8888888888888888, \"#fdca26\"], [1.0, \"#f0f921\"]], \"type\": \"contour\"}], \"contourcarpet\": [{\"colorbar\": {\"outlinewidth\": 0, \"ticks\": \"\"}, \"type\": \"contourcarpet\"}], \"heatmap\": [{\"colorbar\": {\"outlinewidth\": 0, \"ticks\": \"\"}, \"colorscale\": [[0.0, \"#0d0887\"], [0.1111111111111111, \"#46039f\"], [0.2222222222222222, \"#7201a8\"], [0.3333333333333333, \"#9c179e\"], [0.4444444444444444, \"#bd3786\"], [0.5555555555555556, \"#d8576b\"], [0.6666666666666666, \"#ed7953\"], [0.7777777777777778, \"#fb9f3a\"], [0.8888888888888888, \"#fdca26\"], [1.0, \"#f0f921\"]], \"type\": \"heatmap\"}], \"heatmapgl\": [{\"colorbar\": {\"outlinewidth\": 0, \"ticks\": \"\"}, \"colorscale\": [[0.0, \"#0d0887\"], [0.1111111111111111, \"#46039f\"], [0.2222222222222222, \"#7201a8\"], [0.3333333333333333, \"#9c179e\"], [0.4444444444444444, \"#bd3786\"], [0.5555555555555556, \"#d8576b\"], [0.6666666666666666, \"#ed7953\"], [0.7777777777777778, \"#fb9f3a\"], [0.8888888888888888, \"#fdca26\"], [1.0, \"#f0f921\"]], \"type\": \"heatmapgl\"}], \"histogram\": [{\"marker\": {\"colorbar\": {\"outlinewidth\": 0, \"ticks\": \"\"}}, \"type\": \"histogram\"}], \"histogram2d\": [{\"colorbar\": {\"outlinewidth\": 0, \"ticks\": \"\"}, \"colorscale\": [[0.0, \"#0d0887\"], [0.1111111111111111, \"#46039f\"], [0.2222222222222222, \"#7201a8\"], [0.3333333333333333, \"#9c179e\"], [0.4444444444444444, \"#bd3786\"], [0.5555555555555556, \"#d8576b\"], [0.6666666666666666, \"#ed7953\"], [0.7777777777777778, \"#fb9f3a\"], [0.8888888888888888, \"#fdca26\"], [1.0, \"#f0f921\"]], \"type\": \"histogram2d\"}], \"histogram2dcontour\": [{\"colorbar\": {\"outlinewidth\": 0, \"ticks\": \"\"}, \"colorscale\": [[0.0, \"#0d0887\"], [0.1111111111111111, \"#46039f\"], [0.2222222222222222, \"#7201a8\"], [0.3333333333333333, \"#9c179e\"], [0.4444444444444444, \"#bd3786\"], [0.5555555555555556, \"#d8576b\"], [0.6666666666666666, \"#ed7953\"], [0.7777777777777778, \"#fb9f3a\"], [0.8888888888888888, \"#fdca26\"], [1.0, \"#f0f921\"]], \"type\": \"histogram2dcontour\"}], \"mesh3d\": [{\"colorbar\": {\"outlinewidth\": 0, \"ticks\": \"\"}, \"type\": \"mesh3d\"}], \"parcoords\": [{\"line\": {\"colorbar\": {\"outlinewidth\": 0, \"ticks\": \"\"}}, \"type\": \"parcoords\"}], \"pie\": [{\"automargin\": true, \"type\": \"pie\"}], \"scatter\": [{\"marker\": {\"colorbar\": {\"outlinewidth\": 0, \"ticks\": \"\"}}, \"type\": \"scatter\"}], \"scatter3d\": [{\"line\": {\"colorbar\": {\"outlinewidth\": 0, \"ticks\": \"\"}}, \"marker\": {\"colorbar\": {\"outlinewidth\": 0, \"ticks\": \"\"}}, \"type\": \"scatter3d\"}], \"scattercarpet\": [{\"marker\": {\"colorbar\": {\"outlinewidth\": 0, \"ticks\": \"\"}}, \"type\": \"scattercarpet\"}], \"scattergeo\": [{\"marker\": {\"colorbar\": {\"outlinewidth\": 0, \"ticks\": \"\"}}, \"type\": \"scattergeo\"}], \"scattergl\": [{\"marker\": {\"colorbar\": {\"outlinewidth\": 0, \"ticks\": \"\"}}, \"type\": \"scattergl\"}], \"scattermapbox\": [{\"marker\": {\"colorbar\": {\"outlinewidth\": 0, \"ticks\": \"\"}}, \"type\": \"scattermapbox\"}], \"scatterpolar\": [{\"marker\": {\"colorbar\": {\"outlinewidth\": 0, \"ticks\": \"\"}}, \"type\": \"scatterpolar\"}], \"scatterpolargl\": [{\"marker\": {\"colorbar\": {\"outlinewidth\": 0, \"ticks\": \"\"}}, \"type\": \"scatterpolargl\"}], \"scatterternary\": [{\"marker\": {\"colorbar\": {\"outlinewidth\": 0, \"ticks\": \"\"}}, \"type\": \"scatterternary\"}], \"surface\": [{\"colorbar\": {\"outlinewidth\": 0, \"ticks\": \"\"}, \"colorscale\": [[0.0, \"#0d0887\"], [0.1111111111111111, \"#46039f\"], [0.2222222222222222, \"#7201a8\"], [0.3333333333333333, \"#9c179e\"], [0.4444444444444444, \"#bd3786\"], [0.5555555555555556, \"#d8576b\"], [0.6666666666666666, \"#ed7953\"], [0.7777777777777778, \"#fb9f3a\"], [0.8888888888888888, \"#fdca26\"], [1.0, \"#f0f921\"]], \"type\": \"surface\"}], \"table\": [{\"cells\": {\"fill\": {\"color\": \"#EBF0F8\"}, \"line\": {\"color\": \"white\"}}, \"header\": {\"fill\": {\"color\": \"#C8D4E3\"}, \"line\": {\"color\": \"white\"}}, \"type\": \"table\"}]}, \"layout\": {\"annotationdefaults\": {\"arrowcolor\": \"#2a3f5f\", \"arrowhead\": 0, \"arrowwidth\": 1}, \"coloraxis\": {\"colorbar\": {\"outlinewidth\": 0, \"ticks\": \"\"}}, \"colorscale\": {\"diverging\": [[0, \"#8e0152\"], [0.1, \"#c51b7d\"], [0.2, \"#de77ae\"], [0.3, \"#f1b6da\"], [0.4, \"#fde0ef\"], [0.5, \"#f7f7f7\"], [0.6, \"#e6f5d0\"], [0.7, \"#b8e186\"], [0.8, \"#7fbc41\"], [0.9, \"#4d9221\"], [1, \"#276419\"]], \"sequential\": [[0.0, \"#0d0887\"], [0.1111111111111111, \"#46039f\"], [0.2222222222222222, \"#7201a8\"], [0.3333333333333333, \"#9c179e\"], [0.4444444444444444, \"#bd3786\"], [0.5555555555555556, \"#d8576b\"], [0.6666666666666666, \"#ed7953\"], [0.7777777777777778, \"#fb9f3a\"], [0.8888888888888888, \"#fdca26\"], [1.0, \"#f0f921\"]], \"sequentialminus\": [[0.0, \"#0d0887\"], [0.1111111111111111, \"#46039f\"], [0.2222222222222222, \"#7201a8\"], [0.3333333333333333, \"#9c179e\"], [0.4444444444444444, \"#bd3786\"], [0.5555555555555556, \"#d8576b\"], [0.6666666666666666, \"#ed7953\"], [0.7777777777777778, \"#fb9f3a\"], [0.8888888888888888, \"#fdca26\"], [1.0, \"#f0f921\"]]}, \"colorway\": [\"#636efa\", \"#EF553B\", \"#00cc96\", \"#ab63fa\", \"#FFA15A\", \"#19d3f3\", \"#FF6692\", \"#B6E880\", \"#FF97FF\", \"#FECB52\"], \"font\": {\"color\": \"#2a3f5f\"}, \"geo\": {\"bgcolor\": \"white\", \"lakecolor\": \"white\", \"landcolor\": \"#E5ECF6\", \"showlakes\": true, \"showland\": true, \"subunitcolor\": \"white\"}, \"hoverlabel\": {\"align\": \"left\"}, \"hovermode\": \"closest\", \"mapbox\": {\"style\": \"light\"}, \"paper_bgcolor\": \"white\", \"plot_bgcolor\": \"#E5ECF6\", \"polar\": {\"angularaxis\": {\"gridcolor\": \"white\", \"linecolor\": \"white\", \"ticks\": \"\"}, \"bgcolor\": \"#E5ECF6\", \"radialaxis\": {\"gridcolor\": \"white\", \"linecolor\": \"white\", \"ticks\": \"\"}}, \"scene\": {\"xaxis\": {\"backgroundcolor\": \"#E5ECF6\", \"gridcolor\": \"white\", \"gridwidth\": 2, \"linecolor\": \"white\", \"showbackground\": true, \"ticks\": \"\", \"zerolinecolor\": \"white\"}, \"yaxis\": {\"backgroundcolor\": \"#E5ECF6\", \"gridcolor\": \"white\", \"gridwidth\": 2, \"linecolor\": \"white\", \"showbackground\": true, \"ticks\": \"\", \"zerolinecolor\": \"white\"}, \"zaxis\": {\"backgroundcolor\": \"#E5ECF6\", \"gridcolor\": \"white\", \"gridwidth\": 2, \"linecolor\": \"white\", \"showbackground\": true, \"ticks\": \"\", \"zerolinecolor\": \"white\"}}, \"shapedefaults\": {\"line\": {\"color\": \"#2a3f5f\"}}, \"ternary\": {\"aaxis\": {\"gridcolor\": \"white\", \"linecolor\": \"white\", \"ticks\": \"\"}, \"baxis\": {\"gridcolor\": \"white\", \"linecolor\": \"white\", \"ticks\": \"\"}, \"bgcolor\": \"#E5ECF6\", \"caxis\": {\"gridcolor\": \"white\", \"linecolor\": \"white\", \"ticks\": \"\"}}, \"title\": {\"x\": 0.05}, \"xaxis\": {\"automargin\": true, \"gridcolor\": \"white\", \"linecolor\": \"white\", \"ticks\": \"\", \"title\": {\"standoff\": 15}, \"zerolinecolor\": \"white\", \"zerolinewidth\": 2}, \"yaxis\": {\"automargin\": true, \"gridcolor\": \"white\", \"linecolor\": \"white\", \"ticks\": \"\", \"title\": {\"standoff\": 15}, \"zerolinecolor\": \"white\", \"zerolinewidth\": 2}}}},\n",
              "                        {\"responsive\": true}\n",
              "                    ).then(function(){\n",
              "                            \n",
              "var gd = document.getElementById('c4694abe-e822-442d-b666-559f04cbf52c');\n",
              "var x = new MutationObserver(function (mutations, observer) {{\n",
              "        var display = window.getComputedStyle(gd).display;\n",
              "        if (!display || display === 'none') {{\n",
              "            console.log([gd, 'removed!']);\n",
              "            Plotly.purge(gd);\n",
              "            observer.disconnect();\n",
              "        }}\n",
              "}});\n",
              "\n",
              "// Listen for the removal of the full notebook cells\n",
              "var notebookContainer = gd.closest('#notebook-container');\n",
              "if (notebookContainer) {{\n",
              "    x.observe(notebookContainer, {childList: true});\n",
              "}}\n",
              "\n",
              "// Listen for the clearing of the current output cell\n",
              "var outputEl = gd.closest('.output');\n",
              "if (outputEl) {{\n",
              "    x.observe(outputEl, {childList: true});\n",
              "}}\n",
              "\n",
              "                        })\n",
              "                };\n",
              "                \n",
              "            </script>\n",
              "        </div>\n",
              "</body>\n",
              "</html>"
            ]
          },
          "metadata": {
            "tags": []
          }
        }
      ]
    },
    {
      "cell_type": "code",
      "metadata": {
        "id": "MnaJpiELRKK4"
      },
      "source": [
        "# the dataframes to submit\n",
        "\n",
        "voyages = pd.DataFrame(columns= ['vessel', 'begin_date', 'end_date', 'begin_port_id', 'end_port_id'])\n",
        "predict = pd.DataFrame(columns= ['vessel', 'begin_port_id', 'end_port_id', 'voyage'])"
      ],
      "execution_count": null,
      "outputs": []
    }
  ]
}