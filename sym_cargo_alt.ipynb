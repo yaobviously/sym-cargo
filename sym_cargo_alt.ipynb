{
  "nbformat": 4,
  "nbformat_minor": 0,
  "metadata": {
    "colab": {
      "name": "sym_cargo_alt.ipynb",
      "provenance": [],
      "collapsed_sections": [],
      "mount_file_id": "1bTzsC2_o8Jg772hCJWDRqrHnkqeQuRQx",
      "authorship_tag": "ABX9TyNbUnNFFrOqFH93AYZB/7bw",
      "include_colab_link": true
    },
    "kernelspec": {
      "display_name": "Python 3",
      "name": "python3"
    },
    "language_info": {
      "name": "python"
    }
  },
  "cells": [
    {
      "cell_type": "markdown",
      "metadata": {
        "id": "view-in-github",
        "colab_type": "text"
      },
      "source": [
        "<a href=\"https://colab.research.google.com/github/yaobviously/sym-cargo/blob/main/sym_cargo_alt.ipynb\" target=\"_parent\"><img src=\"https://colab.research.google.com/assets/colab-badge.svg\" alt=\"Open In Colab\"/></a>"
      ]
    },
    {
      "cell_type": "code",
      "metadata": {
        "id": "TRudeILZCNAh"
      },
      "source": [
        "!pip install plotly-express --quiet\n",
        "!pip install vincenty --quiet"
      ],
      "execution_count": 1,
      "outputs": []
    },
    {
      "cell_type": "markdown",
      "metadata": {
        "id": "xrMMphhGyTIp"
      },
      "source": [
        "I'll clean up this repo and provide visualizations. \n",
        "\n",
        "It took awhile but I've realized that the draft at departure is determined by whether the route to the next port passes through one of the main straits.  \n",
        "\n",
        "I need to program the logic, but I suspect voyage accuracy over 90% is achievable. Use polygons? Define the straits manually with lat/long ranges?\n",
        "Explore it\n"
      ]
    },
    {
      "cell_type": "code",
      "metadata": {
        "id": "KFygxcBXBsUT"
      },
      "source": [
        "import pandas as pd\n",
        "import numpy as np\n",
        "import matplotlib.pyplot as plt\n",
        "import seaborn as sns\n",
        "import math\n",
        "from sklearn.neighbors import NearestNeighbors\n",
        "from sklearn.cluster import DBSCAN\n",
        "from sklearn.ensemble import IsolationForest\n",
        "from sklearn.model_selection import train_test_split\n",
        "from sklearn.model_selection import GridSearchCV\n",
        "from tensorflow.keras.utils import to_categorical\n",
        "from keras.models import Sequential\n",
        "from keras.layers import Embedding, RepeatVector, LSTM, Dense, TimeDistributed\n",
        "from keras.preprocessing.sequence import pad_sequences\n",
        "from keras.callbacks import EarlyStopping\n",
        "from xgboost import XGBClassifier\n",
        "from vincenty import vincenty\n",
        "from sklearn.model_selection import train_test_split\n",
        "import plotly_express as px"
      ],
      "execution_count": 2,
      "outputs": []
    },
    {
      "cell_type": "code",
      "metadata": {
        "id": "ERdgnPI_B8xV"
      },
      "source": [
        "port_file = '/content/drive/MyDrive/Ports/ports.csv'\n",
        "tracking_file = '/content/drive/MyDrive/Ports/tracking.csv'"
      ],
      "execution_count": 3,
      "outputs": []
    },
    {
      "cell_type": "code",
      "metadata": {
        "id": "VGQ3oW9dCGF6"
      },
      "source": [
        "def wrangle():\n",
        "  \n",
        "  df1 = pd.read_csv(port_file)\n",
        "\n",
        "  # converting lat and long to radians to compute haversine distance\n",
        "  df1['lat_rad'] = np.radians(df1['lat'])\n",
        "  df1['long_rad'] = np.radians(df1['long'])\n",
        "  \n",
        "  # rounding lat and long in port df\n",
        "  df1['lat'] = df1['lat']\n",
        "  df1['long'] = df1['long']\n",
        "  df1['lat_long'] = [[x,y] for x, y in zip(df1['lat'], df1['long'])]\n",
        "\n",
        "  df2 = pd.read_csv(tracking_file, parse_dates=['datetime'])\n",
        "  df2 = df2.drop_duplicates()\n",
        "  df2 = df2.sort_values(['vessel', 'datetime'])\n",
        "  df2['vessel_1back'] = df2['vessel'].shift()\n",
        "  \n",
        "  # converting lat and long to radians to compute haversine distance  \n",
        "  df2['lat_rad'] = np.radians(df2['lat'])\n",
        "  df2['long_rad'] = np.radians(df2['long'])\n",
        "\n",
        "  # adding lat/long column and lat/long 1 back to later compute delta\n",
        "  df2['lat_long'] = [[x,y] for x, y in zip(df2['lat'], df2['long'])]\n",
        "  df2['lat_long_1back'] = df2.groupby('vessel')['lat_long'].transform(lambda x: x.shift())\n",
        "  df2['direction'] = pd.cut(df2['heading'], [0, 90, 180, 270, 360], labels = ['N-E', 'S-E', 'S-W', 'N-W'], include_lowest=True)\n",
        "  \n",
        "  # time deltas to compute impossible distances travelled\n",
        "  df2['time_delta'] = df2.groupby('vessel')['datetime'].transform(lambda x: x - x.shift(1))\n",
        "  df2['hour_delta'] = [(n.days * 24) + (n.seconds / 3600) for n in df2['time_delta']]\n",
        "\n",
        "  # filtering using query to eliminate unneeded/impossible values\n",
        "  df2 = df2.query('speed <30 & heading <=360 & draft < 13.5')\n",
        "  df2 = df2.reset_index(drop=True)\n",
        "\n",
        "  return df1, df2"
      ],
      "execution_count": 4,
      "outputs": []
    },
    {
      "cell_type": "code",
      "metadata": {
        "id": "jZJrWQ6eCIqV"
      },
      "source": [
        "df1, df2 = wrangle()"
      ],
      "execution_count": 5,
      "outputs": []
    },
    {
      "cell_type": "code",
      "metadata": {
        "id": "3tL74j_2a7LR"
      },
      "source": [
        "def vincent_distance(row):\n",
        "  \"\"\" \n",
        "  returns the vincenty distance for contiguous rows - will be used to identify\n",
        "  impossible distances travelled, and so on. could be used to create distance\n",
        "  matrix, but this may not be worthwhile \n",
        "  \"\"\"\n",
        "  if row['vessel'] != row['vessel_1back']:\n",
        "    return -99\n",
        "\n",
        "  loc1 = row['lat_long']\n",
        "  loc2 = row['lat_long_1back']\n",
        "\n",
        "  try:\n",
        "    distance = vincenty(loc1, loc2)\n",
        "    return distance\n",
        "  except:\n",
        "    return -99"
      ],
      "execution_count": 6,
      "outputs": []
    },
    {
      "cell_type": "code",
      "metadata": {
        "id": "B1P_JxyybKHc"
      },
      "source": [
        "# creating a dictionary of ports with their lat and longs - will be used\n",
        "# repeatedly to explore data and assign values\n",
        "\n",
        "ports = {port:(lat, long) for port, lat, long in zip(df1['port'], df1['lat'], df1['long'])}\n",
        "\n",
        "# a dictionary to retrieve the port id from the index\n",
        "idx_ports = {idx:port for idx, port in zip(df1.index, df1.port)}"
      ],
      "execution_count": 268,
      "outputs": []
    },
    {
      "cell_type": "code",
      "metadata": {
        "id": "rvA-nfJqtqAQ"
      },
      "source": [
        "# getting the vincenty distances for each pair of ports in the ports.csv file\n",
        "# extracting those that are within 100km of each other\n",
        "\n",
        "close_ones = []\n",
        "\n",
        "for x in df1['lat_long']:\n",
        "  distances = []\n",
        "  for y in df1['lat_long']:\n",
        "    vdist = vincenty(x, y)\n",
        "    distances.append(vdist)\n",
        "  close_ones.append(distances)\n",
        "\n",
        "disters = [[(df1['port'].iloc[n], z) for n, z in zip(np.argsort(p)[:5], sorted(p)[:5])] for p in close_ones]\n",
        "\n",
        "close_ones = {}\n",
        "\n",
        "for n in disters:\n",
        "  port = n[0][0]\n",
        "  dees = {d:v for d, v in n[1:] if v < 100}\n",
        "  close_ones[port] = dees\n",
        "\n",
        "close_ones = {k:v for k,v in close_ones.items() if len(v) >= 1}\n",
        "\n",
        "really_close = [30, 109, 42, 51, 65]"
      ],
      "execution_count": 8,
      "outputs": []
    },
    {
      "cell_type": "code",
      "metadata": {
        "id": "KGEzp5sWtDyn"
      },
      "source": [
        "really_close.extend([71, 108, 139, 63, 152, 102])"
      ],
      "execution_count": 9,
      "outputs": []
    },
    {
      "cell_type": "code",
      "metadata": {
        "colab": {
          "base_uri": "https://localhost:8080/"
        },
        "id": "8Rg5F1xcTElh",
        "outputId": "894d58de-a981-46f4-e9b2-b820754bb929"
      },
      "source": [
        "# training a nearest neighbor model to  find the closest port when the \n",
        "# conditions indicating an extended stop have occurred. the metric is haversine\n",
        "# in order to compute the 'great circle' distance. so i don't forget, the model\n",
        "# returns the *index* of the port, not the port's identifying label\n",
        "\n",
        "ports_train = df1[['lat_rad', 'long_rad']]\n",
        "\n",
        "neigh_ports = NearestNeighbors(n_neighbors=3, algorithm='ball_tree', metric='haversine')\n",
        "neigh_ports.fit(ports_train)\n",
        "\n",
        "dist, n = neigh_ports.kneighbors(np.array([0.677565, 0.469731]).reshape(1,-1))\n",
        "\n",
        "print(dist[0] * 6370)\n",
        "print([idx_ports[n] for n in n[0]])"
      ],
      "execution_count": 10,
      "outputs": [
        {
          "output_type": "stream",
          "text": [
            "[  3.30931026  46.44757565 255.13837716]\n",
            "[82, 113, 44]\n"
          ],
          "name": "stdout"
        }
      ]
    },
    {
      "cell_type": "code",
      "metadata": {
        "id": "YC92dd_FI7MT"
      },
      "source": [
        "def nearest_port(df, radius=0.015):\n",
        "  \"\"\"\n",
        "  returns the port identifier of the nearest port using the nearest neighbors\n",
        "  model \n",
        "  \"\"\"\n",
        "\n",
        "  data = np.array([df['lat_rad'], df['long_rad']]).reshape(1, -1)\n",
        "  dist, pred = neigh_ports.radius_neighbors(data, radius=radius, sort_results = True) \n",
        "\n",
        "  if len(dist[0]) == 0:\n",
        "    return -1\n",
        "  \n",
        "  else:\n",
        "    return idx_ports[pred[0][0]]"
      ],
      "execution_count": 11,
      "outputs": []
    },
    {
      "cell_type": "code",
      "metadata": {
        "id": "t2cHgfSNZbx2"
      },
      "source": [
        "def nearest_distance(df, radius=0.015):\n",
        "  \"\"\"\n",
        "  returns the distance of the nearest port in the dataset\n",
        "  \"\"\"\n",
        "  \n",
        "  data = np.array([df['lat_rad'], df['long_rad']]).reshape(1, -1)\n",
        "  dist, pred = neigh_ports.radius_neighbors(data, radius=radius, sort_results = True) \n",
        "\n",
        "  if len(dist[0]) == 0:\n",
        "    return -1\n",
        "  \n",
        "  else:\n",
        "    return dist[0][0]"
      ],
      "execution_count": 12,
      "outputs": []
    },
    {
      "cell_type": "code",
      "metadata": {
        "id": "KoYZuM6lqJIa"
      },
      "source": [
        "def vincenty_port(row):\n",
        "  \"\"\"\n",
        "  a function that computes the vincenty distance between the assigned port\n",
        "  and the latitude and longitude of the location data\n",
        "  \"\"\"\n",
        "  port = row['port_coords']\n",
        "  loc = row['lat_long']\n",
        "  return vincenty(port, loc)"
      ],
      "execution_count": 13,
      "outputs": []
    },
    {
      "cell_type": "code",
      "metadata": {
        "id": "CLCHF2I5CII2"
      },
      "source": [
        "def train_dbscan(df=df1, eps=0.1, min_samples=2):\n",
        "  \"\"\"\n",
        "  use the dbscan clustering algorithm to find groupss of ports\n",
        "\n",
        "  params\n",
        "  ------\n",
        "      df: pandas df\n",
        "      eps: min distance between points in cluster\n",
        "      min_samples: min members in a cluster\n",
        "\n",
        "  returns\n",
        "  -------\n",
        "      labels: labels matching index of long/lat input pairs\n",
        "  \"\"\"\n",
        "  \n",
        "  coords = df[['long_rad', 'lat_rad']].values\n",
        "  db = DBSCAN(eps=eps, min_samples=min_samples, algorithm='ball_tree', metric='haversine')\n",
        "\n",
        "  db.fit(coords)\n",
        "\n",
        "  return db.labels_"
      ],
      "execution_count": 14,
      "outputs": []
    },
    {
      "cell_type": "code",
      "metadata": {
        "id": "sU_Co92uMDoL"
      },
      "source": [
        "# creating a dictionary of labels\n",
        "df1['labels'] = train_dbscan()\n",
        "db_labels = {port:cluster for port, cluster in zip(df1['port'], df1['labels'])}"
      ],
      "execution_count": 15,
      "outputs": []
    },
    {
      "cell_type": "code",
      "metadata": {
        "id": "BDnoQ4hnfhce"
      },
      "source": [
        "def get_voyages(df):\n",
        "  \"\"\"\n",
        "  converts the port sequences in each dataframe into voyages\n",
        "  with the proper formatting\n",
        "\n",
        "  param:\n",
        "  -----\n",
        "      df: pandas DataFrame\n",
        "  \n",
        "  returns:\n",
        "  -------\n",
        "      df: processed pandas DataFrame\n",
        "      \n",
        "  \"\"\"\n",
        "  # filtering out columns without an assigned port\n",
        "  nz = df[(df['pred_port'] > 0) | (df['pred_port'] == -75)].reset_index()\n",
        "\n",
        "  vessel = nz['vessel'][0]\n",
        "  dt = nz['datetime']\n",
        "  pred = nz['pred_port']\n",
        "\n",
        "  records = []\n",
        "\n",
        "  for i in range(len(dt)-1):\n",
        "    if pred[i] != pred[i+1]:\n",
        "      start_port = pred[i]\n",
        "      end_port = pred[i+1]\n",
        "      begin_date = dt[i]\n",
        "      end_date = dt[i+1]\n",
        "      records.append([vessel, begin_date, end_date, start_port, end_port])\n",
        "\n",
        "  df = pd.DataFrame.from_records(records, columns = ['vessel', 'begin_date', 'end_date', 'begin_port_id', 'end_port_id'])\n",
        "  \n",
        "  return df"
      ],
      "execution_count": 16,
      "outputs": []
    },
    {
      "cell_type": "code",
      "metadata": {
        "id": "8Jydaj-qScpp"
      },
      "source": [
        "def get_prior_port(df):\n",
        "  \"\"\"\n",
        "  iterate through the each vessel's predicted ports to get the last predicted\n",
        "  port\n",
        "  \"\"\"\n",
        "\n",
        "  p = df['pred_port'][::-1].values\n",
        "\n",
        "  prior_ports = []\n",
        "\n",
        "  for i in range(len(p)):\n",
        "    s = p[i]\n",
        "    for n in p[i:]:\n",
        "      if (s != n) & (n >0) :\n",
        "       prior_ports.append(n)\n",
        "       break\n",
        "\n",
        "# padding zeros at the end to indicate no next port \n",
        "  zeroes = [0] * (len(p) - len(prior_ports))\n",
        "  prior_ports = prior_ports + zeroes\n",
        "  \n",
        "  prior_ports = prior_ports[::-1]\n",
        "  \n",
        "  return prior_ports "
      ],
      "execution_count": 17,
      "outputs": []
    },
    {
      "cell_type": "code",
      "metadata": {
        "id": "H4gOeftL1KN0"
      },
      "source": [
        "def get_angle(loc1=[1.2, 103], loc2=[99.5,-32]):\n",
        "  \"\"\"\n",
        "  get the angle of the bearing needed to directly approach the nearest port.\n",
        "  running out of ideas!\n",
        "\n",
        "  parameters\n",
        "  ----------\n",
        "        lists: lat, longitude of ship (in dict as such)\n",
        "\n",
        "  returns\n",
        "  -------\n",
        "        float: bearing in degrees with 0 as due North\n",
        "  \"\"\"\n",
        "  \n",
        "  dLon = (loc2[1] - loc1[1])\n",
        "\n",
        "  y = math.sin(dLon) * math.cos(loc2[0])\n",
        "  x = math.cos(loc1[0]) * math.sin(loc2[0]) - math.sin(loc1[0]) * math.cos(loc2[0]) * math.cos(dLon)\n",
        "\n",
        "  brng = math.atan2(y, x)\n",
        "\n",
        "  brng = math.degrees(brng)\n",
        "  brng = (brng + 360) % 360\n",
        "  brng = 360 - brng # count degrees clockwise - remove to make counter-clockwise\n",
        "\n",
        "  return brng"
      ],
      "execution_count": 18,
      "outputs": []
    },
    {
      "cell_type": "code",
      "metadata": {
        "id": "TbHcYBVQcWst"
      },
      "source": [
        "# calculating the distance between each row using the vincenty function above.\n",
        "# note it only calcs within each vessel group (see function). the elapsed time\n",
        "# and the total distance travelled implies a speed and that speed allows for\n",
        "# effetcive filtering of impossible routes\n",
        "\n",
        "df2['vin_diff'] = df2.apply(vincent_distance, axis=1)\n",
        "df2['vin_per_hour'] = df2['vin_diff'] / df2['hour_delta']\n",
        "df2 = df2.query('vin_per_hour <= 50')"
      ],
      "execution_count": 19,
      "outputs": []
    },
    {
      "cell_type": "code",
      "metadata": {
        "id": "D0M6rssmoH4G"
      },
      "source": [
        "# calculating draft forwards and backwards \n",
        "\n",
        "df2['draft_delta_back'] = df2['draft'].transform(lambda x: abs(x.diff()).ge(0.5)).astype(int)\n",
        "df2['draft_delta_ahead'] = df2['draft'].transform(lambda x: abs(x.diff(-1)).ge(0.5)).astype(int)\n",
        "df2['draft_change'] = ((df2['draft_delta_back'] + df2['draft_delta_ahead']) >= 1).astype(int)"
      ],
      "execution_count": 20,
      "outputs": []
    },
    {
      "cell_type": "code",
      "metadata": {
        "id": "lJFUdD56oZ-_"
      },
      "source": [
        "# assigning ports using the nearest neighbor model. decided against the use of \n",
        "# a mask\n",
        "\n",
        "df2['pred_port'] = df2.apply(nearest_port, axis=1)\n",
        "df2['pred_port_backup'] = df2['pred_port']\n",
        "df2['port_sequence'] = df2.groupby('vessel')['pred_port'].transform(lambda x: x.diff().ne(0).cumsum())\n",
        "df2['max_min_distance'] = df2.groupby(['vessel', 'port_sequence'])['pred_port_dist'].transform(lambda x: x.max() - x.min())"
      ],
      "execution_count": 265,
      "outputs": []
    },
    {
      "cell_type": "code",
      "metadata": {
        "id": "9wmbGxlEpA_k"
      },
      "source": [
        "# calculating the distance from the predicted port using the more precise \n",
        "# vincenty distance. again, a mask is applied to speed it up.\n",
        "\n",
        "df2['port_coords'] = [list(ports[k]) if k in ports else -99 for k in df2['pred_port']]\n",
        "\n",
        "vin_mask = df2['pred_port'] > 0\n",
        "temp_vin = df2[vin_mask]\n",
        "\n",
        "df2['pred_port_dist'] = 0\n",
        "df2.loc[vin_mask, 'pred_port_dist'] = temp_vin.apply(vincenty_port, axis=1)"
      ],
      "execution_count": 269,
      "outputs": []
    },
    {
      "cell_type": "code",
      "metadata": {
        "id": "qJQlMP_Kpm-8"
      },
      "source": [
        "# getting the last port with a function and then flattening the lists it\n",
        "# returned for each vessel and appending them to the dataframe\n",
        "\n",
        "last_ports = df2.groupby(\"vessel\").apply(get_prior_port)\n",
        "last_ports_col = []\n",
        "\n",
        "for lps in last_ports:\n",
        "  for lp in lps:\n",
        "    last_ports_col.append(lp)\n",
        "\n",
        "df2['prior_port'] = last_ports_col\n",
        "df2['dist_last_port'] = [vincenty(l, ports[p]) if p>0 else 0 for l, p in zip(df2['lat_long'], df2['prior_port'])]"
      ],
      "execution_count": 23,
      "outputs": []
    },
    {
      "cell_type": "code",
      "metadata": {
        "id": "8QKDBR5yFIfI"
      },
      "source": [
        "df2['rolling_unique_vals'] = df2.groupby('vessel')['pred_port_backup'].apply(lambda x: x.rolling(8, center=True).apply(lambda x: x[x>0].nunique()))\n",
        "df2['window_min_dist'] = df2.groupby('vessel')['pred_port_dist'].apply(lambda x: x.rolling(8, center=True).apply(lambda x: x[x>0].min()))"
      ],
      "execution_count": 24,
      "outputs": []
    },
    {
      "cell_type": "code",
      "metadata": {
        "id": "6WV_uIjuq_35"
      },
      "source": [
        "# processing the dataframes with conditions. it is setup this way to allow for\n",
        "# fast iteration\n",
        "\n",
        "processed_dfs = {}\n",
        "\n",
        "for df in df2.vessel.unique():\n",
        "  df_ = df2.query(f'vessel == {df}').set_index('datetime')\n",
        "  df_['pred_port'] = np.where(df_['draft_change'] < 1, 0, df_['pred_port'])\n",
        "  \n",
        "  condition = ((df_['pred_port'].isin(really_close)) & (df_['pred_port_dist'] >2))\n",
        "  df_['pred_port'] = np.where(condition, 0, df_['pred_port'])\n",
        "\n",
        "  # condition2 = (df_['pred_port'].isin([115, 54]) & (df_['s'] >9))\n",
        "  # df_['pred_port'] = np.where(condition2, 0, df_['pred_port'])\n",
        "  \n",
        "  processed_dfs[df] = df_"
      ],
      "execution_count": 270,
      "outputs": []
    },
    {
      "cell_type": "code",
      "metadata": {
        "id": "7SIs4v7TvD-a",
        "colab": {
          "base_uri": "https://localhost:8080/"
        },
        "outputId": "d62fe3fb-e060-4d34-b9e4-14d1925767e5"
      },
      "source": [
        "voyages_df = pd.concat([get_voyages(processed_dfs[key]) for key in processed_dfs.keys()])\n",
        "voyages_df['begin_date'] = voyages_df['begin_date'].dt.date\n",
        "voyages_df['end_date'] = voyages_df['end_date'].dt.date\n",
        "voyages_df['len_voyage'] = voyages_df['end_date'] - voyages_df['begin_date']\n",
        "voyages_df['begin_coords'] = [ports[key] for key in voyages_df['begin_port_id']]\n",
        "voyages_df['end_coords'] = [ports[key] for key in voyages_df['end_port_id']]\n",
        "voyages_df['voyage_dist'] = [vincenty(x, y) for x, y in zip(voyages_df['begin_coords'], voyages_df['end_coords'])]\n",
        "voyages_df.shape"
      ],
      "execution_count": 271,
      "outputs": [
        {
          "output_type": "execute_result",
          "data": {
            "text/plain": [
              "(3192, 9)"
            ]
          },
          "metadata": {
            "tags": []
          },
          "execution_count": 271
        }
      ]
    },
    {
      "cell_type": "code",
      "metadata": {
        "id": "0_TnV_EudLEQ"
      },
      "source": [
        "# creating a dictionary of dataframes for each port and then extracting the min,\n",
        "# max, and max_draft distances for assigned ports\n",
        "\n",
        "ports_dfs = {}\n",
        "\n",
        "for port in df2.pred_port.unique():\n",
        "  ports_dfs[port] = df2[df2['pred_port'] == port]\n",
        "\n",
        "# del ports_dfs[-1]\n",
        "# del ports_dfs[0]\n",
        "\n",
        "min_max = {}\n",
        "\n",
        "for df in ports_dfs.keys():\n",
        "  draft_max = ports_dfs[df].query('draft_change >=1').pred_port_dist.max()\n",
        "  min_max[df] = [ports_dfs[df]['pred_port_dist'].max(), ports_dfs[df]['pred_port_dist'].min(), draft_max]"
      ],
      "execution_count": 41,
      "outputs": []
    },
    {
      "cell_type": "code",
      "metadata": {
        "id": "kF-vL7n3WKGb"
      },
      "source": [
        "def prepare_data(df, n_input = 3):\n",
        "  \"\"\"\n",
        "  preparing the sequences for window based models\n",
        "  \"\"\"\n",
        "\n",
        "  df = get_voyages(df)\n",
        "  vessel = df['vessel'].iloc[0]\n",
        "  ports_ = np.array(df['begin_port_id'].append(pd.Series(df['end_port_id'].iloc[-1])))  \n",
        "\n",
        "  X = []\n",
        "  Y = []\n",
        "  start = 0\n",
        "\n",
        "  for i in range(len(ports_)):\n",
        "    last_input = start + n_input\n",
        "    last_output = last_input + 3\n",
        "    if last_output <= len(ports_):\n",
        "      x = ports_[start:last_input]\n",
        "      y = ports_[last_input: last_output]\n",
        "      X.append(x)\n",
        "      Y.append(y)\n",
        "      start += 1\n",
        "  try:\n",
        "    df = pd.concat([pd.DataFrame(X),\n",
        "                  pd.DataFrame(Y, columns=['port_1ahead', 'port_2ahead', 'port_3ahead'])], axis=1)\n",
        "    \n",
        "  except:\n",
        "    df = pd.DataFrame()\n",
        "    \n",
        "  # X = []\n",
        "\n",
        "  # for x in X:\n",
        "  #   for n in x:\n",
        "  #     if n == -75:\n",
        "  #       port_coords = [33, 140]\n",
        "  #     else:\n",
        "  #       port_coords = list(ports[n])\n",
        "  #     port = [n]\n",
        "  #     port.extend(port_coords)\n",
        "  #     new_X.append(port)\n",
        "  \n",
        "  df['vessel'] = len(df) * [vessel]\n",
        "  \n",
        "  return df.astype(int)"
      ],
      "execution_count": null,
      "outputs": []
    },
    {
      "cell_type": "code",
      "metadata": {
        "id": "AtTQNF2qY-RB"
      },
      "source": [
        "def build_model(target='port_1ahead', min_samples=1, n_back = 3):\n",
        "\n",
        "  model_df = pd.concat([prepare_data(processed_dfs[key], n_back) for key in processed_dfs.keys()]) \n",
        "\n",
        "  model_df['cluster_1back'] = [db_labels[n] for n in model_df[0]]\n",
        "  model_df['cluster_2back'] = [db_labels[n] for n in model_df[1]]\n",
        "  model_df['cluster_3back'] = [db_labels[n] for n in model_df[2]]\n",
        "\n",
        "  model_df['samples'] = model_df.groupby('vessel')['vessel'].transform(lambda x: x.count())\n",
        "  filtered_df = model_df.query('samples > @min_samples')\n",
        "\n",
        "  vessels_excluded = set(model_df['vessel'].unique()).difference(set(filtered_df['vessel'].unique()))\n",
        "\n",
        "  features = [n for n in range(n_back)] + ['cluster_1back', 'cluster_2back', 'cluster_3back'] \n",
        "  target = target\n",
        "\n",
        "  X = filtered_df[features]\n",
        "  y = filtered_df[target]\n",
        "  model = XGBClassifier()\n",
        "\n",
        "  param_grid = {\n",
        "      'learning_rate': [0.1, 0.2, 0.3]\n",
        "  }\n",
        "\n",
        "  grid_search = GridSearchCV(model, param_grid, cv=3)\n",
        "  grid_result = grid_search.fit(X, y)\n",
        "\n",
        "  print('The training excluded vessels:', vessels_excluded)\n",
        "  print('The best model params were:', grid_result.best_params_)\n",
        "  print('The best accuracy achieved was:', grid_result.best_score_)\n",
        "  \n",
        "  return grid_result"
      ],
      "execution_count": null,
      "outputs": []
    },
    {
      "cell_type": "code",
      "metadata": {
        "id": "8c3Ks0wMx9Fw"
      },
      "source": [
        "del processed_dfs[174]"
      ],
      "execution_count": null,
      "outputs": []
    },
    {
      "cell_type": "code",
      "metadata": {
        "id": "B3e2_M1GF872"
      },
      "source": [
        "voyages_df.head(30)"
      ],
      "execution_count": null,
      "outputs": []
    },
    {
      "cell_type": "code",
      "metadata": {
        "id": "jtEHbOIdTCDW",
        "colab": {
          "base_uri": "https://localhost:8080/"
        },
        "outputId": "548cfff4-70e0-4b98-93cd-b4c7708544fa"
      },
      "source": [
        "model_1ahead = build_model(target='port_1ahead', min_samples=2, n_back=3)\n",
        "model_2ahead = build_model(target='port_2ahead', min_samples=2, n_back=3)\n",
        "model_3ahead = build_model(target='port_3ahead', min_samples=2, n_back=3)"
      ],
      "execution_count": null,
      "outputs": [
        {
          "output_type": "stream",
          "text": [
            "The training excluded vessels: {64, 66, 43, 75, 107, 51, 85, 59}\n",
            "The best model params were: {'learning_rate': 0.1}\n",
            "The best accuracy achieved was: 0.2349973733815395\n"
          ],
          "name": "stdout"
        }
      ]
    },
    {
      "cell_type": "code",
      "metadata": {
        "id": "J5ERpuNpF_WT"
      },
      "source": [
        "def get_pred_data(df, n_input = 3):\n",
        "  \"\"\"\n",
        "  preparing the sequences for predictions with the XGBClassifier model\n",
        "  \"\"\"\n",
        "\n",
        "  df = get_voyages(df)\n",
        "  vessel = df['vessel'].iloc[0]\n",
        "  ports_ = np.array(df['begin_port_id'].append(pd.Series(df['end_port_id'].iloc[-1])))\n",
        "  \n",
        "  pred_seq = ports_[-n_input:]\n",
        "\n",
        "  if len(pred_seq) < n_input:\n",
        "    pred_seq = np.insert(pred_seq, 0, pred_seq[-1])\n",
        "  \n",
        "  return pred_seq"
      ],
      "execution_count": null,
      "outputs": []
    },
    {
      "cell_type": "code",
      "metadata": {
        "id": "7NlGujqAv2FW"
      },
      "source": [
        "# creating a dictionary with the most recent ports visited for each vessel\n",
        "\n",
        "window_data = {key:get_pred_data(processed_dfs[key], n_input=3) for key in processed_dfs.keys()}"
      ],
      "execution_count": null,
      "outputs": []
    },
    {
      "cell_type": "code",
      "metadata": {
        "id": "ZJkGCyNIwvvS"
      },
      "source": [
        "# creating a dataframe with the features used in the models\n",
        "\n",
        "sub = pd.DataFrame.from_dict(window_data, orient='index')\n",
        "\n",
        "sub['cluster_1back'] = [db_labels[n] for n in sub[0]]\n",
        "sub['cluster_2back'] = [db_labels[n] for n in sub[1]]\n",
        "sub['cluster_3back'] = [db_labels[n] for n in sub[2]]"
      ],
      "execution_count": null,
      "outputs": []
    },
    {
      "cell_type": "code",
      "metadata": {
        "id": "6i6_80Y91LAe",
        "colab": {
          "base_uri": "https://localhost:8080/",
          "height": 387
        },
        "outputId": "2451556e-5245-41eb-9f39-83f6c7191248"
      },
      "source": [
        "# predicting the next port. also including the second most likely port in case\n",
        "# the model predicts duplicates. \n",
        "\n",
        "port_1 = model_1ahead.predict(sub)\n",
        "port_2 = model_2ahead.predict(sub)\n",
        "port_2_alt = [model_2ahead.best_estimator_.classes_[np.argsort(n)[-2]] for n in model_2ahead.predict_proba(sub)]\n",
        "port_3 = model_3ahead.predict(sub)\n",
        "port_3_alt = [model_3ahead.best_estimator_.classes_[np.argsort(n)[-2]] for n in model_3ahead.predict_proba(sub)]\n",
        "sub['port_1ahead'] = port_1\n",
        "sub['port_2ahead'] = port_2\n",
        "sub['port_2ahead_2nd'] = port_2_alt\n",
        "sub['port_3ahead'] = port_3\n",
        "sub['port_3ahead_2nd'] = port_3_alt"
      ],
      "execution_count": null,
      "outputs": [
        {
          "output_type": "error",
          "ename": "KeyboardInterrupt",
          "evalue": "ignored",
          "traceback": [
            "\u001b[0;31m---------------------------------------------------------------------------\u001b[0m",
            "\u001b[0;31mKeyboardInterrupt\u001b[0m                         Traceback (most recent call last)",
            "\u001b[0;32m<ipython-input-36-2e7ed858d250>\u001b[0m in \u001b[0;36m<module>\u001b[0;34m()\u001b[0m\n\u001b[1;32m      2\u001b[0m \u001b[0;31m# the model predicts duplicates.\u001b[0m\u001b[0;34m\u001b[0m\u001b[0;34m\u001b[0m\u001b[0;34m\u001b[0m\u001b[0m\n\u001b[1;32m      3\u001b[0m \u001b[0;34m\u001b[0m\u001b[0m\n\u001b[0;32m----> 4\u001b[0;31m \u001b[0mport_1\u001b[0m \u001b[0;34m=\u001b[0m \u001b[0mmodel_1ahead\u001b[0m\u001b[0;34m.\u001b[0m\u001b[0mpredict\u001b[0m\u001b[0;34m(\u001b[0m\u001b[0msub\u001b[0m\u001b[0;34m)\u001b[0m\u001b[0;34m\u001b[0m\u001b[0;34m\u001b[0m\u001b[0m\n\u001b[0m\u001b[1;32m      5\u001b[0m \u001b[0mport_2\u001b[0m \u001b[0;34m=\u001b[0m \u001b[0mmodel_2ahead\u001b[0m\u001b[0;34m.\u001b[0m\u001b[0mpredict\u001b[0m\u001b[0;34m(\u001b[0m\u001b[0msub\u001b[0m\u001b[0;34m)\u001b[0m\u001b[0;34m\u001b[0m\u001b[0;34m\u001b[0m\u001b[0m\n\u001b[1;32m      6\u001b[0m \u001b[0mport_2_alt\u001b[0m \u001b[0;34m=\u001b[0m \u001b[0;34m[\u001b[0m\u001b[0mmodel_2ahead\u001b[0m\u001b[0;34m.\u001b[0m\u001b[0mbest_estimator_\u001b[0m\u001b[0;34m.\u001b[0m\u001b[0mclasses_\u001b[0m\u001b[0;34m[\u001b[0m\u001b[0mnp\u001b[0m\u001b[0;34m.\u001b[0m\u001b[0margsort\u001b[0m\u001b[0;34m(\u001b[0m\u001b[0mn\u001b[0m\u001b[0;34m)\u001b[0m\u001b[0;34m[\u001b[0m\u001b[0;34m-\u001b[0m\u001b[0;36m2\u001b[0m\u001b[0;34m]\u001b[0m\u001b[0;34m]\u001b[0m \u001b[0;32mfor\u001b[0m \u001b[0mn\u001b[0m \u001b[0;32min\u001b[0m \u001b[0mmodel_2ahead\u001b[0m\u001b[0;34m.\u001b[0m\u001b[0mpredict_proba\u001b[0m\u001b[0;34m(\u001b[0m\u001b[0msub\u001b[0m\u001b[0;34m)\u001b[0m\u001b[0;34m]\u001b[0m\u001b[0;34m\u001b[0m\u001b[0;34m\u001b[0m\u001b[0m\n",
            "\u001b[0;32m/usr/local/lib/python3.7/dist-packages/sklearn/utils/metaestimators.py\u001b[0m in \u001b[0;36m<lambda>\u001b[0;34m(*args, **kwargs)\u001b[0m\n\u001b[1;32m    114\u001b[0m \u001b[0;34m\u001b[0m\u001b[0m\n\u001b[1;32m    115\u001b[0m         \u001b[0;31m# lambda, but not partial, allows help() to work with update_wrapper\u001b[0m\u001b[0;34m\u001b[0m\u001b[0;34m\u001b[0m\u001b[0;34m\u001b[0m\u001b[0m\n\u001b[0;32m--> 116\u001b[0;31m         \u001b[0mout\u001b[0m \u001b[0;34m=\u001b[0m \u001b[0;32mlambda\u001b[0m \u001b[0;34m*\u001b[0m\u001b[0margs\u001b[0m\u001b[0;34m,\u001b[0m \u001b[0;34m**\u001b[0m\u001b[0mkwargs\u001b[0m\u001b[0;34m:\u001b[0m \u001b[0mself\u001b[0m\u001b[0;34m.\u001b[0m\u001b[0mfn\u001b[0m\u001b[0;34m(\u001b[0m\u001b[0mobj\u001b[0m\u001b[0;34m,\u001b[0m \u001b[0;34m*\u001b[0m\u001b[0margs\u001b[0m\u001b[0;34m,\u001b[0m \u001b[0;34m**\u001b[0m\u001b[0mkwargs\u001b[0m\u001b[0;34m)\u001b[0m\u001b[0;34m\u001b[0m\u001b[0;34m\u001b[0m\u001b[0m\n\u001b[0m\u001b[1;32m    117\u001b[0m         \u001b[0;31m# update the docstring of the returned function\u001b[0m\u001b[0;34m\u001b[0m\u001b[0;34m\u001b[0m\u001b[0;34m\u001b[0m\u001b[0m\n\u001b[1;32m    118\u001b[0m         \u001b[0mupdate_wrapper\u001b[0m\u001b[0;34m(\u001b[0m\u001b[0mout\u001b[0m\u001b[0;34m,\u001b[0m \u001b[0mself\u001b[0m\u001b[0;34m.\u001b[0m\u001b[0mfn\u001b[0m\u001b[0;34m)\u001b[0m\u001b[0;34m\u001b[0m\u001b[0;34m\u001b[0m\u001b[0m\n",
            "\u001b[0;32m/usr/local/lib/python3.7/dist-packages/sklearn/model_selection/_search.py\u001b[0m in \u001b[0;36mpredict\u001b[0;34m(self, X)\u001b[0m\n\u001b[1;32m    475\u001b[0m         \"\"\"\n\u001b[1;32m    476\u001b[0m         \u001b[0mself\u001b[0m\u001b[0;34m.\u001b[0m\u001b[0m_check_is_fitted\u001b[0m\u001b[0;34m(\u001b[0m\u001b[0;34m'predict'\u001b[0m\u001b[0;34m)\u001b[0m\u001b[0;34m\u001b[0m\u001b[0;34m\u001b[0m\u001b[0m\n\u001b[0;32m--> 477\u001b[0;31m         \u001b[0;32mreturn\u001b[0m \u001b[0mself\u001b[0m\u001b[0;34m.\u001b[0m\u001b[0mbest_estimator_\u001b[0m\u001b[0;34m.\u001b[0m\u001b[0mpredict\u001b[0m\u001b[0;34m(\u001b[0m\u001b[0mX\u001b[0m\u001b[0;34m)\u001b[0m\u001b[0;34m\u001b[0m\u001b[0;34m\u001b[0m\u001b[0m\n\u001b[0m\u001b[1;32m    478\u001b[0m \u001b[0;34m\u001b[0m\u001b[0m\n\u001b[1;32m    479\u001b[0m     \u001b[0;34m@\u001b[0m\u001b[0mif_delegate_has_method\u001b[0m\u001b[0;34m(\u001b[0m\u001b[0mdelegate\u001b[0m\u001b[0;34m=\u001b[0m\u001b[0;34m(\u001b[0m\u001b[0;34m'best_estimator_'\u001b[0m\u001b[0;34m,\u001b[0m \u001b[0;34m'estimator'\u001b[0m\u001b[0;34m)\u001b[0m\u001b[0;34m)\u001b[0m\u001b[0;34m\u001b[0m\u001b[0;34m\u001b[0m\u001b[0m\n",
            "\u001b[0;32m/usr/local/lib/python3.7/dist-packages/xgboost/sklearn.py\u001b[0m in \u001b[0;36mpredict\u001b[0;34m(self, data, output_margin, ntree_limit, validate_features)\u001b[0m\n\u001b[1;32m    789\u001b[0m                                                  \u001b[0moutput_margin\u001b[0m\u001b[0;34m=\u001b[0m\u001b[0moutput_margin\u001b[0m\u001b[0;34m,\u001b[0m\u001b[0;34m\u001b[0m\u001b[0;34m\u001b[0m\u001b[0m\n\u001b[1;32m    790\u001b[0m                                                  \u001b[0mntree_limit\u001b[0m\u001b[0;34m=\u001b[0m\u001b[0mntree_limit\u001b[0m\u001b[0;34m,\u001b[0m\u001b[0;34m\u001b[0m\u001b[0;34m\u001b[0m\u001b[0m\n\u001b[0;32m--> 791\u001b[0;31m                                                  validate_features=validate_features)\n\u001b[0m\u001b[1;32m    792\u001b[0m         \u001b[0;32mif\u001b[0m \u001b[0moutput_margin\u001b[0m\u001b[0;34m:\u001b[0m\u001b[0;34m\u001b[0m\u001b[0;34m\u001b[0m\u001b[0m\n\u001b[1;32m    793\u001b[0m             \u001b[0;31m# If output_margin is active, simply return the scores\u001b[0m\u001b[0;34m\u001b[0m\u001b[0;34m\u001b[0m\u001b[0;34m\u001b[0m\u001b[0m\n",
            "\u001b[0;32m/usr/local/lib/python3.7/dist-packages/xgboost/core.py\u001b[0m in \u001b[0;36mpredict\u001b[0;34m(self, data, output_margin, ntree_limit, pred_leaf, pred_contribs, approx_contribs, pred_interactions, validate_features)\u001b[0m\n\u001b[1;32m   1290\u001b[0m                                           \u001b[0mctypes\u001b[0m\u001b[0;34m.\u001b[0m\u001b[0mc_uint\u001b[0m\u001b[0;34m(\u001b[0m\u001b[0mntree_limit\u001b[0m\u001b[0;34m)\u001b[0m\u001b[0;34m,\u001b[0m\u001b[0;34m\u001b[0m\u001b[0;34m\u001b[0m\u001b[0m\n\u001b[1;32m   1291\u001b[0m                                           \u001b[0mctypes\u001b[0m\u001b[0;34m.\u001b[0m\u001b[0mbyref\u001b[0m\u001b[0;34m(\u001b[0m\u001b[0mlength\u001b[0m\u001b[0;34m)\u001b[0m\u001b[0;34m,\u001b[0m\u001b[0;34m\u001b[0m\u001b[0;34m\u001b[0m\u001b[0m\n\u001b[0;32m-> 1292\u001b[0;31m                                           ctypes.byref(preds)))\n\u001b[0m\u001b[1;32m   1293\u001b[0m         \u001b[0mpreds\u001b[0m \u001b[0;34m=\u001b[0m \u001b[0mctypes2numpy\u001b[0m\u001b[0;34m(\u001b[0m\u001b[0mpreds\u001b[0m\u001b[0;34m,\u001b[0m \u001b[0mlength\u001b[0m\u001b[0;34m.\u001b[0m\u001b[0mvalue\u001b[0m\u001b[0;34m,\u001b[0m \u001b[0mnp\u001b[0m\u001b[0;34m.\u001b[0m\u001b[0mfloat32\u001b[0m\u001b[0;34m)\u001b[0m\u001b[0;34m\u001b[0m\u001b[0;34m\u001b[0m\u001b[0m\n\u001b[1;32m   1294\u001b[0m         \u001b[0;32mif\u001b[0m \u001b[0mpred_leaf\u001b[0m\u001b[0;34m:\u001b[0m\u001b[0;34m\u001b[0m\u001b[0;34m\u001b[0m\u001b[0m\n",
            "\u001b[0;31mKeyboardInterrupt\u001b[0m: "
          ]
        }
      ]
    },
    {
      "cell_type": "code",
      "metadata": {
        "id": "0VJNB5MI0E0a"
      },
      "source": [
        "# using conditional assignment to replace port predictions with the second most\n",
        "# likely\n",
        "\n",
        "sub.loc[sub['port_1ahead'] == sub['port_2ahead'], 'port_2ahead'] = sub['port_2ahead_2nd']\n",
        "sub.loc[sub['port_2ahead'] == sub['port_3ahead'], 'port_3ahead'] = sub['port_3ahead_2nd']"
      ],
      "execution_count": null,
      "outputs": []
    },
    {
      "cell_type": "code",
      "metadata": {
        "id": "e3SrpcaTKtDo"
      },
      "source": [
        "# changing the shape of the dataframe so it conforms to what's required\n",
        "\n",
        "# resetting the index and renaming the column\n",
        "sub = sub.reset_index()\n",
        "sub.rename(columns={'index':'vessel'}, inplace=True)\n",
        "\n",
        "# limiting columns to those required and renaming\n",
        "sub = sub[['vessel', 2, 'port_1ahead', 'port_2ahead', 'port_3ahead']]\n",
        "sub.rename(columns={2:'final_port'}, inplace=True)\n",
        "\n",
        "# using melt to narrow the DataFrame and put the voyages into the same column\n",
        "sub = pd.melt(sub, id_vars='vessel').sort_values(by=['vessel', 'variable'])\n",
        "sub['end_port_id'] = sub.groupby('vessel')['value'].transform(lambda x: x.shift(-1))\n",
        "sub = sub.dropna()\n",
        "\n",
        "# adding a voyage count, more renaming\n",
        "sub['voyage'] = sub.groupby('vessel').cumcount()+1\n",
        "sub.rename(columns={'value' : 'begin_port_id'}, inplace=True)\n",
        "sub.drop(columns=['variable'], inplace=True)\n",
        "sub['end_port_id'] = sub['end_port_id'].astype(int)\n",
        "sub = sub.reset_index(drop=True)"
      ],
      "execution_count": null,
      "outputs": []
    },
    {
      "cell_type": "markdown",
      "metadata": {
        "id": "9_6avCrtDDhQ"
      },
      "source": [
        "Creating an LSTM model to predict the future voyages. "
      ]
    },
    {
      "cell_type": "code",
      "metadata": {
        "id": "T1wikN3M42_m"
      },
      "source": [
        "# creating a dataset to train the LSTM model. i had to do a bit of troubleshooting,\n",
        "# hence the try/except\n",
        "\n",
        "lstm_data = []\n",
        "\n",
        "for i in processed_dfs.keys():\n",
        "  try:\n",
        "    x = prepare_data(processed_dfs[i], n_input=6)\n",
        "    lstm_data.append(x)\n",
        "  except:\n",
        "    print(i)"
      ],
      "execution_count": null,
      "outputs": []
    },
    {
      "cell_type": "code",
      "metadata": {
        "id": "Yj9dvByke8iK"
      },
      "source": [
        "# a dictionary to encode the ports for the model\n",
        "\n",
        "encoder = {key:value for key, value in zip(df1['port'], df1.index)}"
      ],
      "execution_count": null,
      "outputs": []
    },
    {
      "cell_type": "code",
      "metadata": {
        "id": "zWPWg-FVSLyH"
      },
      "source": [
        "# concatenating the LSTM data\n",
        "lstm_df = pd.concat(lstm_data)\n",
        "\n",
        "# defining the number of ports\n",
        "total_ports = len(encoder.keys())\n",
        "\n",
        "# slicing off the feature array\n",
        "X = lstm_df[[0, 1, 2, 3, 4, 5]]\n",
        "\n",
        "# encoding each port to create a \"vocabulary\" of ports starting at index 0\n",
        "for col in X.columns:\n",
        "  X.loc[:,col] = X[col].map(encoder)\n",
        "\n",
        "# creating the target array with shape (samples, 3, 1) and converting to category\n",
        "y = lstm_df[['port_1ahead', 'port_2ahead', 'port_3ahead']]\n",
        "y = to_categorical(y)\n",
        "\n",
        "# train and test split to validate model during training - could use 'validation_split' in .fit()\n",
        "X_train, X_test, y_train, y_test = train_test_split(X, y, test_size=0.2, random_state=1944)\n",
        "\n",
        "# initializing the Sequential class\n",
        "model = Sequential()\n",
        "\n",
        "# adding an embedding layer to embed each port in a 3 dimensional space\n",
        "model.add(Embedding(total_ports, 3, input_length=6))\n",
        "\n",
        "# adding an LSTM layer to process the embedded vector sequences\n",
        "model.add(LSTM(100, activation='relu', return_sequences=False))\n",
        "\n",
        "# adding a crucial layer to allows the output sequence to be of a diff length\n",
        "model.add(RepeatVector(3))\n",
        "\n",
        "# another LSTM layer, this one repeating the sequence\n",
        "model.add(LSTM(50, activation='relu', return_sequences=True))\n",
        "\n",
        "# model.add(Dense(50, activation='relu'))                                  <-------- layer i added/subtracted\n",
        "\n",
        "# adding a TimeDistributed Dense layer to output predictions. note the # of \n",
        "# categories is not 'efficient' but it does make decoding the prediction take one\n",
        "# fewer step\n",
        "\n",
        "model.add(TimeDistributed(Dense(179, activation='softmax')))\n",
        "\n",
        "model.compile(optimizer='adam', loss='categorical_crossentropy', metrics=['accuracy'])"
      ],
      "execution_count": null,
      "outputs": []
    },
    {
      "cell_type": "code",
      "metadata": {
        "id": "WoIgnQNPV0V4"
      },
      "source": [
        "# fitting the model with early stopping\n",
        "\n",
        "history = model.fit(X_train,y_train,\n",
        "                    validation_data=(X_test, y_test),\n",
        "                    batch_size=32,\n",
        "                    epochs=250,\n",
        "                    callbacks=EarlyStopping(monitor='val_accuracy',\n",
        "                                            patience=30,\n",
        "                                            restore_best_weights=True));"
      ],
      "execution_count": null,
      "outputs": []
    },
    {
      "cell_type": "code",
      "metadata": {
        "id": "hDOT2rQdKS-L"
      },
      "source": [
        "break"
      ],
      "execution_count": null,
      "outputs": []
    },
    {
      "cell_type": "code",
      "metadata": {
        "id": "J1D1OdzHisXW"
      },
      "source": [
        "lstm_window = {key:get_pred_data(processed_dfs[key], n_input=6) for key in processed_dfs.keys()}"
      ],
      "execution_count": null,
      "outputs": []
    },
    {
      "cell_type": "code",
      "metadata": {
        "id": "PBLlbXF6lqyi"
      },
      "source": [
        "# getting the sequences and encoding them so the model can use them as inputs\n",
        "seq_for_pred = np.array([[encoder[j] for j in n] for n in lstm_window.values()])\n",
        "\n",
        "# padding the sequences with fewer than 6 \n",
        "seq_for_pred = pad_sequences(seq_for_pred, maxlen=6, value=0)\n",
        "\n",
        "# predicting the next 3 ports visited\n",
        "preds = model.predict(seq_for_pred)"
      ],
      "execution_count": null,
      "outputs": []
    },
    {
      "cell_type": "code",
      "metadata": {
        "id": "fBQApzdGwu1q"
      },
      "source": [
        "# assigning the predictions and back-up predictions to variables. if a port\n",
        "# repeats, i replace it with the second most likely\n",
        "first_port = pd.Series([np.argmax(n[0]) for n in preds])\n",
        "second_port = pd.Series([np.argmax(n[1]) for n in preds])\n",
        "alt_second = pd.Series([np.argsort(n[1])[-2] for n in preds])\n",
        "third_port = pd.Series([np.argmax(n[2]) for n in preds])\n",
        "alt_third = pd.Series([np.argsort(n[2])[-2] for n in preds])"
      ],
      "execution_count": null,
      "outputs": []
    },
    {
      "cell_type": "code",
      "metadata": {
        "id": "kOqRO78LoVr6"
      },
      "source": [
        "# creating a dataframe of the above\n",
        "last_port = pd.Series(seq_for_pred[:,-1])\n",
        "lstm_pred = pd.concat([last_port, first_port, second_port, alt_second, third_port, alt_third], axis=1)\n",
        "lstm_pred.index = window_data.keys()\n",
        "lstm_pred = lstm_pred.reset_index()\n",
        "lstm_pred.columns = ['vessel', 'last_port', 'pred1', 'pred2', 'alt2', 'pred3', 'alt3']\n",
        "lstm_pred['pred2'] = np.where(lstm_pred['pred1'] == lstm_pred['pred2'], lstm_pred['alt2'], lstm_pred['pred2'])\n",
        "lstm_pred['pred3'] = np.where(lstm_pred['pred2'] == lstm_pred['pred3'], lstm_pred['alt3'], lstm_pred['pred3'])\n",
        "lstm_pred.drop(columns=['alt2', 'alt3'], inplace=True)"
      ],
      "execution_count": null,
      "outputs": []
    },
    {
      "cell_type": "code",
      "metadata": {
        "id": "zPZZ6EX_ANdP"
      },
      "source": [
        "reverse_encoder = {v:k for k, v in encoder.items()}\n",
        "lstm_pred['last_port'] = lstm_pred['last_port'].map(reverse_encoder)"
      ],
      "execution_count": null,
      "outputs": []
    },
    {
      "cell_type": "code",
      "metadata": {
        "id": "NGyKkzQgrbAT"
      },
      "source": [
        "lstm_pred = pd.melt(lstm_pred, id_vars='vessel').sort_values(by=['vessel', 'variable'])\n",
        "\n",
        "lstm_pred['end_port_id'] = lstm_pred.groupby('vessel')['value'].transform(lambda x: x.shift(-1))\n",
        "lstm_pred.dropna(inplace=True)\n",
        "lstm_pred.drop(columns='variable', inplace=True)\n",
        "lstm_pred.rename(columns={'value':'begin_port_id'}, inplace=True)\n",
        "lstm_pred['voyage'] = lstm_pred.groupby('vessel').cumcount()+1\n",
        "lstm_pred = lstm_pred.astype(int).reset_index(drop=True)"
      ],
      "execution_count": null,
      "outputs": []
    },
    {
      "cell_type": "code",
      "metadata": {
        "id": "ksfEgenhtQJs"
      },
      "source": [
        "# i think i'm messing up, but the XGB model is fine - review this\n",
        "lstm_pred.head(25)"
      ],
      "execution_count": null,
      "outputs": []
    },
    {
      "cell_type": "code",
      "metadata": {
        "id": "lipU-tqdU_Va"
      },
      "source": [
        "sub.to_csv('predict.csv', index=False)\n",
        "lstm_pred.to_csv('lstm_predict.csv', index=False)\n",
        "voyages_df.to_csv('voyages.csv', index=False)"
      ],
      "execution_count": null,
      "outputs": []
    },
    {
      "cell_type": "code",
      "metadata": {
        "id": "hd_OvZ0lenDm"
      },
      "source": [
        "def show_routes(vessel=1, start='2019-01-01', end='2019-12-28'): \n",
        "  \n",
        "  df_ = df2.query(f'vessel == {vessel}').set_index('datetime')\n",
        "\n",
        "  fig = px.scatter_geo(df_.loc[start: end], lat='lat', lon='long', color='draft',\n",
        "                       hover_name=df_.loc[start: end].index)\n",
        "\n",
        "  fig.show()"
      ],
      "execution_count": 197,
      "outputs": []
    },
    {
      "cell_type": "code",
      "metadata": {
        "id": "PCU2YOfOdJda"
      },
      "source": [
        "def draft_and_voyages(vessel=103):\n",
        "\n",
        "  df = alldf.query(f'vessel == {vessel}')\n",
        "  \n",
        "  in_port = df[df['pred_port'] > 0].index\n",
        "\n",
        "  fig, ax = plt.subplots(figsize=(20,5))\n",
        "  \n",
        "  df[['port_dist', 'draft']].plot(ax=ax)\n",
        "  \n",
        "  for p in in_port:\n",
        "    plt.axvline(p, ls='--', lw=0.5, c='r', label='port')\n",
        "  \n",
        "  plt.show()"
      ],
      "execution_count": null,
      "outputs": []
    },
    {
      "cell_type": "code",
      "metadata": {
        "id": "UMULBQ0nv13N"
      },
      "source": [
        "processed_dfs[145][['draft', 'pred_port']].plot(figsize=(24,8))"
      ],
      "execution_count": 217,
      "outputs": []
    },
    {
      "cell_type": "code",
      "metadata": {
        "id": "7x2drUA6JrXt"
      },
      "source": [
        "def fix_close_ports(testdf):\n",
        "  \"\"\"\n",
        "  compares adjacent port assignments minimum distances and returns a new series\n",
        "  with ports reassigned where appropriate\n",
        "\n",
        "  parameters\n",
        "  ----------\n",
        "      df: a pandas DataFrame\n",
        "\n",
        "  returns\n",
        "  -------\n",
        "      df: a pandas Series\n",
        "  \"\"\" \n",
        "\n",
        "  new_destinations = []\n",
        "\n",
        "  for seq in range(1, len(testdf['port_sequence'].unique()) +1):\n",
        "    seq1_port = testdf[testdf['port_sequence'] == seq].pred_port\n",
        "    seq2_port = testdf[testdf['port_sequence'] == seq + 1].pred_port\n",
        "    seq1_mindist = testdf[testdf['port_sequence'] == seq].pred_port_dist\n",
        "    seq2_mindist = testdf[testdf['port_sequence'] == seq+1].pred_port_dist\n",
        "    new_ports = []\n",
        "\n",
        "    if (seq1_port.max() <= 0) or (seq2_port.max() <= 0):\n",
        "      new_ports.append([seq1_port.max()] * len(seq1_port))\n",
        "    \n",
        "    elif seq2_mindist.min() < seq1_mindist.min():\n",
        "      true_port = seq2_port\n",
        "      new_ports.append([true_port.max()] * len(seq1_port))\n",
        "    else:\n",
        "      new_ports.append([seq1_port.max()] * len(seq1_port))\n",
        "    \n",
        "    new_destinations.append(new_ports[0])\n",
        "  \n",
        "  new_dest = []\n",
        "\n",
        "  for dest in new_destinations:\n",
        "    for d in dest:\n",
        "      new_dest.append(d)\n",
        "\n",
        "  return new_dest  "
      ],
      "execution_count": 339,
      "outputs": []
    },
    {
      "cell_type": "code",
      "metadata": {
        "id": "PkBxR8F_UykW"
      },
      "source": [
        "def fix_ports(testdf):\n",
        "  \"\"\"\n",
        "  fills out port sequences if there's a draft change in the sequence. this will\n",
        "  help get better arrival and departure dates. it should be applied to \n",
        "  groupby DataFrames \n",
        "\n",
        "  parameters\n",
        "  ----------\n",
        "      df: a pandas DataFrame\n",
        "\n",
        "  returns\n",
        "  -------\n",
        "      df: a pandas Series\n",
        "  \"\"\"\n",
        "  \n",
        "  ugh = []\n",
        "\n",
        "  for x in testdf['port_sequence'].unique():\n",
        "    df_ = testdf.query(f'port_sequence == {x}')\n",
        "    ports = df_['pred_port']\n",
        "    new_ports = []\n",
        "    if not all(ports <= 0):\n",
        "      new_ports.append([ports.max()] * len(ports))\n",
        "    else:\n",
        "      new_ports.append(ports)\n",
        "  \n",
        "    ugh.append(new_ports[0])\n",
        "  \n",
        "  \n",
        "  thisthis = []\n",
        "\n",
        "  for n in ugh:\n",
        "    for p in n:\n",
        "      thisthis.append(p)\n",
        "\n",
        "  return thisthis"
      ],
      "execution_count": 134,
      "outputs": []
    },
    {
      "cell_type": "code",
      "metadata": {
        "id": "QScIRJFV7CuS"
      },
      "source": [
        "testdf = processed_dfs[145]\n",
        "testdf['pred_port'] = np.where(testdf['max_min_distance'] > 60, testdf['pred_port_backup'], testdf['pred_port'])"
      ],
      "execution_count": 334,
      "outputs": []
    },
    {
      "cell_type": "code",
      "metadata": {
        "colab": {
          "base_uri": "https://localhost:8080/",
          "height": 542
        },
        "id": "fJWQKnhrU1Cv",
        "outputId": "250b80a9-6dcb-40a5-8372-af880e969001"
      },
      "source": [
        "show_routes(vessel = 145)"
      ],
      "execution_count": 198,
      "outputs": [
        {
          "output_type": "display_data",
          "data": {
            "text/html": [
              "<html>\n",
              "<head><meta charset=\"utf-8\" /></head>\n",
              "<body>\n",
              "    <div>\n",
              "            <script src=\"https://cdnjs.cloudflare.com/ajax/libs/mathjax/2.7.5/MathJax.js?config=TeX-AMS-MML_SVG\"></script><script type=\"text/javascript\">if (window.MathJax) {MathJax.Hub.Config({SVG: {font: \"STIX-Web\"}});}</script>\n",
              "                <script type=\"text/javascript\">window.PlotlyConfig = {MathJaxConfig: 'local'};</script>\n",
              "        <script src=\"https://cdn.plot.ly/plotly-latest.min.js\"></script>    \n",
              "            <div id=\"c350f285-0ef3-444a-b14d-955a0e359125\" class=\"plotly-graph-div\" style=\"height:525px; width:100%;\"></div>\n",
              "            <script type=\"text/javascript\">\n",
              "                \n",
              "                    window.PLOTLYENV=window.PLOTLYENV || {};\n",
              "                    \n",
              "                if (document.getElementById(\"c350f285-0ef3-444a-b14d-955a0e359125\")) {\n",
              "                    Plotly.newPlot(\n",
              "                        'c350f285-0ef3-444a-b14d-955a0e359125',\n",
              "                        [{\"geo\": \"geo\", \"hoverlabel\": {\"namelength\": 0}, \"hovertemplate\": \"<b>%{hovertext}</b><br><br>lat=%{lat}<br>long=%{lon}<br>draft=%{marker.color}\", \"hovertext\": [\"2019-01-01T02:38:00\", \"2019-01-01T04:55:00\", \"2019-01-01T05:58:00\", \"2019-01-01T06:45:00\", \"2019-01-01T08:49:00\", \"2019-01-01T11:44:00\", \"2019-01-01T13:52:00\", \"2019-01-01T14:54:00\", \"2019-01-01T16:47:00\", \"2019-01-01T17:39:00\", \"2019-01-01T19:46:00\", \"2019-01-01T20:48:00\", \"2019-01-01T22:57:00\", \"2019-01-01T23:47:00\", \"2019-01-02T01:57:00\", \"2019-01-02T04:47:00\", \"2019-01-02T07:42:00\", \"2019-01-02T08:44:00\", \"2019-01-04T01:54:00\", \"2019-01-04T04:57:00\", \"2019-01-04T06:51:00\", \"2019-01-04T13:54:00\", \"2019-01-04T15:29:00\", \"2019-01-05T21:50:00\", \"2019-01-06T15:25:00\", \"2019-01-07T02:04:00\", \"2019-01-07T19:59:00\", \"2019-01-07T21:51:00\", \"2019-01-07T23:14:00\", \"2019-01-08T02:02:00\", \"2019-01-08T10:29:00\", \"2019-01-08T13:31:00\", \"2019-01-08T14:44:00\", \"2019-01-08T19:54:00\", \"2019-01-08T22:46:00\", \"2019-01-09T01:15:00\", \"2019-01-09T03:57:00\", \"2019-01-09T07:11:00\", \"2019-01-09T09:31:00\", \"2019-01-09T10:30:00\", \"2019-01-09T10:35:00\", \"2019-01-10T19:38:00\", \"2019-01-10T21:41:00\", \"2019-01-11T01:29:00\", \"2019-01-11T02:04:00\", \"2019-01-11T07:40:00\", \"2019-01-11T09:54:00\", \"2019-01-11T12:25:00\", \"2019-01-11T13:31:00\", \"2019-01-11T15:18:00\", \"2019-01-11T18:43:00\", \"2019-01-11T22:15:00\", \"2019-01-12T00:47:00\", \"2019-01-12T04:59:00\", \"2019-01-12T07:45:00\", \"2019-01-12T10:14:00\", \"2019-01-12T12:36:00\", \"2019-01-13T00:08:00\", \"2019-01-13T12:11:00\", \"2019-01-15T13:20:00\", \"2019-01-15T22:38:00\", \"2019-01-16T04:43:00\", \"2019-01-16T07:34:00\", \"2019-01-17T04:58:00\", \"2019-01-17T07:37:00\", \"2019-01-17T08:19:00\", \"2019-01-19T01:57:00\", \"2019-01-19T04:34:00\", \"2019-01-19T05:02:00\", \"2019-01-19T10:17:00\", \"2019-01-19T12:33:00\", \"2019-01-20T22:17:00\", \"2019-01-21T20:46:00\", \"2019-01-22T07:59:00\", \"2019-01-22T13:27:00\", \"2019-01-22T16:59:00\", \"2019-01-22T21:03:00\", \"2019-01-22T22:26:00\", \"2019-01-23T04:50:00\", \"2019-01-23T10:16:00\", \"2019-01-23T13:41:00\", \"2019-01-23T15:57:00\", \"2019-01-23T18:53:00\", \"2019-01-23T22:57:00\", \"2019-01-24T00:51:00\", \"2019-01-24T02:10:00\", \"2019-01-24T06:41:00\", \"2019-01-25T21:39:00\", \"2019-01-26T01:25:00\", \"2019-01-26T03:45:00\", \"2019-01-26T07:56:00\", \"2019-01-26T09:08:00\", \"2019-01-26T18:25:00\", \"2019-01-26T19:29:00\", \"2019-01-27T01:03:00\", \"2019-01-27T04:59:00\", \"2019-01-27T06:24:00\", \"2019-01-27T09:18:00\", \"2019-01-27T12:53:00\", \"2019-01-27T18:12:00\", \"2019-01-27T23:58:00\", \"2019-01-28T06:23:00\", \"2019-01-28T18:09:00\", \"2019-01-29T04:59:00\", \"2019-01-30T16:46:00\", \"2019-01-30T18:10:00\", \"2019-01-30T22:05:00\", \"2019-01-31T01:49:00\", \"2019-01-31T04:51:00\", \"2019-01-31T07:54:00\", \"2019-01-31T08:09:00\", \"2019-02-01T07:59:00\", \"2019-02-01T10:37:00\", \"2019-02-01T11:04:00\", \"2019-02-01T19:48:00\", \"2019-02-01T21:15:00\", \"2019-02-04T21:44:00\", \"2019-02-05T15:12:00\", \"2019-02-05T21:54:00\", \"2019-02-06T15:03:00\", \"2019-02-06T22:58:00\", \"2019-02-07T01:26:00\", \"2019-02-07T04:38:00\", \"2019-02-07T07:34:00\", \"2019-02-07T08:36:00\", \"2019-02-07T13:23:00\", \"2019-02-07T15:35:00\", \"2019-02-07T17:20:00\", \"2019-02-07T22:19:00\", \"2019-02-08T01:22:00\", \"2019-02-08T04:51:00\", \"2019-02-08T06:36:00\", \"2019-02-08T08:53:00\", \"2019-02-08T12:56:00\", \"2019-02-08T15:15:00\", \"2019-02-08T19:39:00\", \"2019-02-08T21:28:00\", \"2019-02-09T06:44:00\", \"2019-02-10T07:31:00\", \"2019-02-10T08:43:00\", \"2019-02-10T13:53:00\", \"2019-02-10T14:32:00\", \"2019-02-11T01:51:00\", \"2019-02-11T03:42:00\", \"2019-02-11T07:43:00\", \"2019-02-11T13:34:00\", \"2019-02-11T19:38:00\", \"2019-02-11T22:43:00\", \"2019-02-12T06:47:00\", \"2019-02-12T08:57:00\", \"2019-02-12T12:49:00\", \"2019-02-12T21:58:00\", \"2019-02-13T12:27:00\", \"2019-02-13T22:29:00\", \"2019-02-14T09:37:00\", \"2019-02-15T09:55:00\", \"2019-02-15T14:58:00\", \"2019-02-15T22:04:00\", \"2019-02-15T22:55:00\", \"2019-02-16T10:16:00\", \"2019-02-17T21:13:00\", \"2019-02-20T10:47:00\", \"2019-02-20T11:20:00\", \"2019-02-20T22:58:00\", \"2019-02-21T04:58:00\", \"2019-02-21T07:49:00\", \"2019-02-21T13:55:00\", \"2019-02-21T16:52:00\", \"2019-02-21T19:46:00\", \"2019-02-21T22:48:00\", \"2019-02-22T01:58:00\", \"2019-02-22T04:55:00\", \"2019-02-22T07:58:00\", \"2019-02-22T10:40:00\", \"2019-02-22T13:43:00\", \"2019-02-22T16:52:00\", \"2019-02-22T19:37:00\", \"2019-02-22T22:43:00\", \"2019-02-23T01:37:00\", \"2019-02-23T04:49:00\", \"2019-02-23T07:37:00\", \"2019-02-23T10:46:00\", \"2019-02-23T13:49:00\", \"2019-02-23T16:55:00\", \"2019-02-23T19:56:00\", \"2019-02-23T22:49:00\", \"2019-02-24T01:38:00\", \"2019-02-24T03:57:00\", \"2019-02-24T07:34:00\", \"2019-02-24T16:43:00\", \"2019-02-24T17:12:00\", \"2019-02-24T22:07:00\", \"2019-02-27T11:23:00\", \"2019-02-27T17:58:00\", \"2019-02-27T20:44:00\", \"2019-02-28T10:43:00\", \"2019-02-28T16:59:00\", \"2019-02-28T19:59:00\", \"2019-02-28T22:59:00\", \"2019-03-01T01:59:00\", \"2019-03-01T04:59:00\", \"2019-03-01T06:55:00\", \"2019-03-01T16:52:00\", \"2019-03-01T17:23:00\", \"2019-03-02T03:13:00\", \"2019-03-02T04:53:00\", \"2019-03-02T13:49:00\", \"2019-03-02T15:13:00\", \"2019-03-03T00:07:00\", \"2019-03-03T04:57:00\", \"2019-03-03T07:56:00\", \"2019-03-03T10:11:00\", \"2019-03-03T13:56:00\", \"2019-03-03T16:53:00\", \"2019-03-03T18:56:00\", \"2019-03-03T22:56:00\", \"2019-03-04T01:56:00\", \"2019-03-04T04:53:00\", \"2019-03-04T11:50:00\", \"2019-03-04T16:59:00\", \"2019-03-04T19:56:00\", \"2019-03-04T22:50:00\", \"2019-03-05T01:56:00\", \"2019-03-05T04:59:00\", \"2019-03-05T07:56:00\", \"2019-03-05T13:59:00\", \"2019-03-05T16:56:00\", \"2019-03-05T19:56:00\", \"2019-03-05T22:59:00\", \"2019-03-06T01:57:00\", \"2019-03-06T04:57:00\", \"2019-03-06T07:57:00\", \"2019-03-06T10:57:00\", \"2019-03-06T13:54:00\", \"2019-03-06T16:54:00\", \"2019-03-06T19:57:00\", \"2019-03-06T22:58:00\", \"2019-03-07T01:53:00\", \"2019-03-07T04:33:00\", \"2019-03-07T07:16:00\", \"2019-03-07T10:27:00\", \"2019-03-07T12:42:00\", \"2019-03-07T16:18:00\", \"2019-03-07T22:27:00\", \"2019-03-08T01:59:00\", \"2019-03-08T02:47:00\", \"2019-03-13T00:25:38\", \"2019-03-18T09:51:00\", \"2019-03-18T10:32:00\", \"2019-03-31T11:01:58\", \"2019-04-02T22:04:57\", \"2019-04-03T00:41:02\", \"2019-04-03T03:41:02\", \"2019-04-03T03:59:04\", \"2019-04-03T04:41:31\", \"2019-04-06T22:04:03\", \"2019-04-07T01:15:58\", \"2019-04-07T03:57:58\", \"2019-04-07T05:40:03\", \"2019-04-07T10:04:09\", \"2019-04-07T13:22:09\", \"2019-04-07T15:58:03\", \"2019-04-07T18:58:06\", \"2019-04-07T21:58:09\", \"2019-04-08T00:58:09\", \"2019-04-08T04:13:07\", \"2019-04-08T06:49:07\", \"2019-04-08T06:58:06\", \"2019-04-08T10:16:37\", \"2019-04-08T13:10:07\", \"2019-04-08T16:16:13\", \"2019-04-08T19:10:41\", \"2019-04-08T22:07:14\", \"2019-04-09T00:37:10\", \"2019-04-09T03:01:16\", \"2019-04-09T06:46:13\", \"2019-04-09T10:04:12\", \"2019-04-09T13:16:17\", \"2019-04-09T15:46:19\", \"2019-04-09T19:22:20\", \"2019-04-09T21:46:16\", \"2019-04-10T00:58:22\", \"2019-04-10T06:10:21\", \"2019-04-10T09:47:12\", \"2019-04-10T13:17:12\", \"2019-04-10T16:05:21\", \"2019-04-10T18:23:19\", \"2019-04-10T21:47:17\", \"2019-04-11T01:17:41\", \"2019-04-11T04:05:18\", \"2019-04-11T06:41:53\", \"2019-04-11T09:29:57\", \"2019-04-11T13:02:59\", \"2019-04-11T16:05:59\", \"2019-04-11T18:41:58\", \"2019-04-11T21:59:59\", \"2019-04-12T01:24:03\", \"2019-04-12T03:24:00\", \"2019-04-12T04:24:05\", \"2019-04-12T09:54:01\", \"2019-04-12T13:12:00\", \"2019-04-12T16:09:02\", \"2019-04-12T19:21:05\", \"2019-04-12T22:20:04\", \"2019-04-13T01:26:25\", \"2019-04-13T04:21:14\", \"2019-04-13T07:05:00\", \"2019-04-13T07:34:24\", \"2019-04-13T12:37:29\", \"2019-04-13T16:04:27\", \"2019-04-13T18:22:31\", \"2019-04-14T00:55:37\", \"2019-04-14T04:10:33\", \"2019-04-14T06:28:33\", \"2019-04-14T08:04:34\", \"2019-04-14T13:04:39\", \"2019-04-14T15:46:42\", \"2019-04-14T18:50:58\", \"2019-04-14T19:25:05\", \"2019-04-14T22:09:43\", \"2019-04-15T01:15:48\", \"2019-04-15T01:30:48\", \"2019-04-15T03:54:49\", \"2019-04-15T04:06:45\", \"2019-04-15T07:03:47\", \"2019-04-15T10:18:46\", \"2019-04-15T10:24:46\", \"2019-04-15T13:15:53\", \"2019-04-15T13:30:55\", \"2019-04-15T15:48:59\", \"2019-04-15T16:21:56\", \"2019-04-15T16:24:52\", \"2019-04-15T18:48:50\", \"2019-04-15T19:12:48\", \"2019-04-15T21:57:50\", \"2019-04-16T00:27:56\", \"2019-04-16T01:18:50\", \"2019-04-16T02:09:54\", \"2019-04-16T04:30:52\", \"2019-04-16T06:00:52\", \"2019-04-16T06:00:53\", \"2019-04-16T10:15:56\", \"2019-04-16T10:24:59\", \"2019-04-16T12:55:08\", \"2019-04-16T13:30:57\", \"2019-04-16T15:58:05\", \"2019-04-16T16:13:00\", \"2019-04-16T18:58:21\", \"2019-04-16T19:19:33\", \"2019-04-16T23:40:46\", \"2019-04-17T00:29:28\", \"2019-04-21T02:04:56\", \"2019-04-21T02:32:58\", \"2019-04-21T06:43:38\", \"2019-04-21T17:44:49\", \"2019-04-21T19:47:51\", \"2019-04-22T05:19:38\", \"2019-04-22T07:55:46\", \"2019-04-23T03:43:59\", \"2019-04-23T08:06:38\", \"2019-04-23T11:33:18\", \"2019-04-23T17:29:48\", \"2019-04-23T19:27:56\", \"2019-04-23T23:34:38\", \"2019-04-24T01:46:48\", \"2019-04-24T09:04:07\", \"2019-04-24T10:49:25\", \"2019-04-24T16:50:59\", \"2019-04-24T22:26:46\", \"2019-04-24T23:15:20\", \"2019-04-25T04:07:44\", \"2019-04-25T04:40:38\", \"2019-04-25T05:27:25\", \"2019-04-25T10:00:56\", \"2019-04-25T14:15:56\", \"2019-04-25T16:26:17\", \"2019-04-25T17:36:06\", \"2019-04-25T20:31:55\", \"2019-04-25T23:16:48\", \"2019-04-25T23:39:29\", \"2019-04-26T02:46:25\", \"2019-04-26T03:19:42\", \"2019-04-26T04:31:48\", \"2019-04-26T05:46:12\", \"2019-04-26T08:55:48\", \"2019-04-26T09:26:06\", \"2019-04-26T11:40:19\", \"2019-04-26T12:14:24\", \"2019-04-26T14:40:53\", \"2019-04-26T15:22:11\", \"2019-04-26T17:54:24\", \"2019-04-26T18:19:24\", \"2019-04-26T20:42:35\", \"2019-04-26T23:36:29\", \"2019-04-27T00:04:12\", \"2019-04-27T02:50:00\", \"2019-04-27T04:09:05\", \"2019-04-27T05:17:19\", \"2019-04-27T05:44:12\", \"2019-04-27T08:44:43\", \"2019-04-27T09:37:06\", \"2019-04-27T11:46:29\", \"2019-04-27T11:58:30\", \"2019-04-27T14:08:00\", \"2019-04-27T16:10:30\", \"2019-04-27T17:10:08\", \"2019-04-27T17:49:28\", \"2019-04-27T18:33:19\", \"2019-04-28T07:33:01\", \"2019-04-29T11:39:08\", \"2019-04-30T07:00:15\", \"2019-04-30T11:43:04\", \"2019-04-30T12:44:16\", \"2019-04-30T14:50:59\", \"2019-04-30T15:38:53\", \"2019-04-30T17:28:33\", \"2019-04-30T18:29:05\", \"2019-04-30T20:39:58\", \"2019-04-30T23:42:47\", \"2019-05-01T01:00:47\", \"2019-05-01T02:45:30\", \"2019-05-01T03:14:18\", \"2019-05-01T05:51:11\", \"2019-05-01T06:50:36\", \"2019-05-01T08:42:54\", \"2019-05-01T09:35:06\", \"2019-05-01T11:48:19\", \"2019-05-01T13:06:30\", \"2019-05-01T13:44:05\", \"2019-05-01T14:50:31\", \"2019-05-01T17:40:17\", \"2019-05-01T17:50:24\", \"2019-05-01T19:24:41\", \"2019-05-01T23:33:23\", \"2019-05-02T01:39:48\", \"2019-05-02T02:36:05\", \"2019-05-02T04:57:29\", \"2019-05-02T06:22:17\", \"2019-05-02T07:10:29\", \"2019-05-02T08:45:19\", \"2019-05-02T10:39:47\", \"2019-05-02T11:40:58\", \"2019-05-02T13:43:57\", \"2019-05-02T16:39:05\", \"2019-05-02T17:24:39\", \"2019-05-02T20:42:07\", \"2019-05-02T23:33:58\", \"2019-05-03T00:56:57\", \"2019-05-03T02:26:28\", \"2019-05-03T02:38:27\", \"2019-05-03T05:12:48\", \"2019-05-03T05:22:26\", \"2019-05-03T07:37:41\", \"2019-05-03T11:41:44\", \"2019-05-03T14:05:44\", \"2019-05-03T17:55:07\", \"2019-05-03T19:16:42\", \"2019-05-04T02:32:05\", \"2019-05-04T04:26:04\", \"2019-05-04T07:37:37\", \"2019-05-04T09:23:56\", \"2019-05-04T15:34:26\", \"2019-05-04T16:08:59\", \"2019-05-04T20:41:37\", \"2019-05-05T02:16:54\", \"2019-05-05T07:00:01\", \"2019-05-06T04:29:30\", \"2019-05-06T06:29:24\", \"2019-05-06T07:30:25\", \"2019-05-06T08:44:47\", \"2019-05-06T08:48:42\", \"2019-05-06T14:56:02\", \"2019-05-06T16:33:19\", \"2019-05-06T17:44:13\", \"2019-05-06T18:59:11\", \"2019-05-06T20:29:26\", \"2019-05-06T23:47:25\", \"2019-05-07T01:23:28\", \"2019-05-07T02:53:26\", \"2019-05-07T03:56:35\", \"2019-05-07T05:41:29\", \"2019-05-07T07:23:33\", \"2019-05-07T08:44:38\", \"2019-05-07T10:20:32\", \"2019-05-07T11:50:36\", \"2019-05-07T13:20:35\", \"2019-05-07T14:53:26\", \"2019-05-07T16:20:40\", \"2019-05-07T17:44:38\", \"2019-05-07T18:56:44\", \"2019-05-07T20:50:39\", \"2019-05-07T23:54:49\", \"2019-05-08T00:57:14\", \"2019-05-08T02:00:27\", \"2019-05-08T05:46:18\", \"2019-05-08T07:30:43\", \"2019-05-08T08:19:37\", \"2019-05-08T09:03:02\", \"2019-05-08T10:03:42\", \"2019-05-08T10:03:44\", \"2019-05-09T04:01:41\", \"2019-05-09T13:33:27\", \"2019-05-09T17:26:01\", \"2019-05-09T21:05:55\", \"2019-05-10T04:18:23\", \"2019-05-10T08:34:20\", \"2019-05-10T14:34:06\", \"2019-05-11T00:37:26\", \"2019-05-11T04:25:44\", \"2019-05-11T08:26:21\", \"2019-05-11T09:47:25\", \"2019-05-11T15:00:56\", \"2019-05-11T16:47:17\", \"2019-05-11T22:33:25\", \"2019-05-12T03:11:36\", \"2019-05-12T06:45:23\", \"2019-05-12T08:37:54\", \"2019-05-12T09:33:18\", \"2019-05-12T12:53:12\", \"2019-05-12T15:46:05\", \"2019-05-12T18:19:47\", \"2019-05-12T18:47:46\", \"2019-05-13T00:29:24\", \"2019-05-13T04:14:11\", \"2019-05-13T06:34:18\", \"2019-05-13T07:17:36\", \"2019-05-13T09:39:23\", \"2019-05-13T11:26:59\", \"2019-05-13T11:57:59\", \"2019-05-13T14:09:49\", \"2019-05-13T14:19:35\", \"2019-05-13T15:58:06\", \"2019-05-13T17:42:59\", \"2019-05-13T17:43:16\", \"2019-05-13T20:39:36\", \"2019-05-13T21:50:16\", \"2019-05-13T22:24:06\", \"2019-05-15T08:52:06\", \"2019-05-15T10:05:20\", \"2019-05-15T11:43:08\", \"2019-05-15T14:15:14\", \"2019-05-15T15:48:39\", \"2019-05-15T17:27:45\", \"2019-05-15T17:50:39\", \"2019-05-15T20:42:21\", \"2019-05-15T23:33:03\", \"2019-05-16T01:11:26\", \"2019-05-16T02:18:51\", \"2019-05-16T02:26:51\", \"2019-05-16T05:40:03\", \"2019-05-16T07:05:51\", \"2019-05-16T08:15:08\", \"2019-05-16T08:31:02\", \"2019-05-16T11:32:56\", \"2019-05-16T14:32:51\", \"2019-05-16T14:46:15\", \"2019-05-16T17:49:45\", \"2019-05-16T18:07:50\", \"2019-05-16T20:34:44\", \"2019-05-16T20:37:43\", \"2019-05-16T23:36:21\", \"2019-05-17T01:25:38\", \"2019-05-17T02:48:33\", \"2019-05-17T04:29:26\", \"2019-05-17T05:21:45\", \"2019-05-17T07:44:45\", \"2019-05-17T07:55:03\", \"2019-05-17T10:52:30\", \"2019-05-17T14:10:44\", \"2019-05-17T15:39:40\", \"2019-05-17T16:47:10\", \"2019-05-17T17:41:41\", \"2019-05-17T19:05:27\", \"2019-05-17T23:03:39\", \"2019-05-18T01:05:40\", \"2019-05-18T01:46:10\", \"2019-05-18T03:28:28\", \"2019-05-18T09:58:23\", \"2019-05-18T12:58:45\", \"2019-05-18T14:26:22\", \"2019-05-18T17:55:53\", \"2019-05-18T18:12:46\", \"2019-05-18T19:36:51\", \"2019-05-18T23:04:36\", \"2019-05-19T07:30:11\", \"2019-05-19T23:51:38\", \"2019-05-20T01:29:42\", \"2019-05-20T02:53:43\", \"2019-05-20T03:14:58\", \"2019-05-20T03:21:14\", \"2019-05-20T07:32:15\", \"2019-05-20T08:48:19\", \"2019-05-20T10:08:53\", \"2019-05-20T10:15:15\", \"2019-05-20T11:36:14\", \"2019-05-20T14:57:14\", \"2019-05-20T15:38:36\", \"2019-05-20T15:39:04\", \"2019-05-20T20:38:13\", \"2019-05-20T23:54:01\", \"2019-05-21T01:31:00\", \"2019-05-21T02:40:21\", \"2019-05-21T04:30:25\", \"2019-05-21T05:35:04\", \"2019-05-21T07:31:20\", \"2019-05-21T08:51:49\", \"2019-05-21T09:51:24\", \"2019-05-21T10:30:03\", \"2019-05-21T11:56:43\", \"2019-05-21T13:31:03\", \"2019-05-21T14:44:54\", \"2019-05-21T16:31:15\", \"2019-05-21T17:48:34\", \"2019-05-21T18:59:19\", \"2019-05-21T20:45:08\", \"2019-05-21T20:57:15\", \"2019-05-21T21:15:11\", \"2019-05-22T20:44:46\", \"2019-05-22T23:49:33\", \"2019-05-23T00:48:04\", \"2019-05-23T01:49:10\", \"2019-05-23T04:30:58\", \"2019-05-23T05:41:34\", \"2019-05-23T07:30:22\", \"2019-05-23T08:49:52\", \"2019-05-23T09:51:22\", \"2019-05-23T09:52:15\", \"2019-05-24T17:59:52\", \"2019-05-24T22:55:40\", \"2019-05-25T02:36:40\", \"2019-05-25T12:10:26\", \"2019-05-25T16:06:25\", \"2019-05-25T17:24:02\", \"2019-05-25T17:52:03\", \"2019-05-25T23:23:11\", \"2019-05-26T04:09:45\", \"2019-05-26T04:36:33\", \"2019-05-26T04:44:29\", \"2019-05-26T08:46:17\", \"2019-05-26T09:58:47\", \"2019-05-26T10:36:03\", \"2019-05-26T10:49:02\", \"2019-05-26T13:52:46\", \"2019-05-26T14:35:28\", \"2019-05-26T16:57:04\", \"2019-05-26T17:38:28\", \"2019-05-26T20:49:23\", \"2019-05-26T21:43:03\", \"2019-05-26T23:46:22\", \"2019-05-27T02:36:26\", \"2019-05-27T03:12:05\", \"2019-05-27T04:47:33\", \"2019-05-27T04:59:11\", \"2019-05-27T08:43:53\", \"2019-05-27T09:28:58\", \"2019-05-27T10:12:05\", \"2019-05-27T11:48:40\", \"2019-05-27T14:37:27\", \"2019-05-27T14:59:39\", \"2019-05-27T16:53:09\", \"2019-05-27T18:55:51\", \"2019-05-27T20:46:20\", \"2019-05-27T23:52:30\", \"2019-05-28T00:57:43\", \"2019-05-28T02:38:50\", \"2019-05-28T04:01:45\", \"2019-05-28T05:41:48\", \"2019-05-28T05:47:49\", \"2019-05-28T08:14:49\", \"2019-05-28T09:16:59\", \"2019-05-28T11:54:28\", \"2019-05-28T12:02:17\", \"2019-05-28T14:43:49\", \"2019-05-28T16:11:43\", \"2019-05-28T16:48:11\", \"2019-05-28T17:43:29\", \"2019-05-28T17:54:58\", \"2019-05-28T20:48:24\", \"2019-05-28T21:24:04\", \"2019-05-28T22:06:04\", \"2019-05-30T08:26:41\", \"2019-05-30T08:44:02\", \"2019-05-30T11:49:13\", \"2019-05-30T14:40:39\", \"2019-05-30T17:51:32\", \"2019-05-30T20:47:07\", \"2019-05-30T23:51:38\", \"2019-05-31T02:00:36\", \"2019-05-31T05:43:01\", \"2019-05-31T08:30:38\", \"2019-05-31T10:49:26\", \"2019-05-31T11:52:02\", \"2019-05-31T14:37:02\", \"2019-05-31T17:09:38\", \"2019-05-31T20:44:01\", \"2019-05-31T23:34:19\", \"2019-06-01T02:29:49\", \"2019-06-01T04:26:44\", \"2019-06-01T08:17:56\", \"2019-06-01T12:59:47\", \"2019-06-01T23:26:12\", \"2019-06-02T02:19:14\", \"2019-06-02T04:18:44\", \"2019-06-02T07:34:53\", \"2019-06-02T11:26:44\", \"2019-06-02T15:51:35\", \"2019-06-02T18:29:53\", \"2019-06-02T22:09:06\", \"2019-06-03T05:39:05\", \"2019-06-03T07:18:02\", \"2019-06-03T14:43:15\", \"2019-06-03T17:48:06\", \"2019-06-03T20:26:23\", \"2019-06-04T23:25:26\", \"2019-06-05T05:51:45\", \"2019-06-05T08:55:51\", \"2019-06-05T11:56:50\", \"2019-06-05T13:34:06\", \"2019-06-05T14:49:47\", \"2019-06-05T16:26:52\", \"2019-06-05T17:53:11\", \"2019-06-05T18:58:24\", \"2019-06-05T20:25:50\", \"2019-06-06T20:43:42\", \"2019-06-06T23:51:30\", \"2019-06-07T01:11:56\", \"2019-06-07T02:54:45\", \"2019-06-07T04:30:31\", \"2019-06-07T05:57:55\", \"2019-06-07T07:30:43\", \"2019-06-07T07:50:31\", \"2019-06-07T08:14:09\", \"2019-06-07T10:30:11\", \"2019-06-07T10:55:49\", \"2019-06-07T16:23:24\", \"2019-06-09T22:33:26\", \"2019-06-10T04:10:04\", \"2019-06-10T04:48:06\", \"2019-06-10T07:00:13\", \"2019-06-10T07:18:01\", \"2019-06-10T07:34:02\", \"2019-06-10T08:14:30\", \"2019-06-10T09:36:25\", \"2019-06-10T10:37:55\", \"2019-06-10T10:51:56\", \"2019-06-10T13:01:55\", \"2019-06-10T14:06:02\", \"2019-06-10T17:16:25\", \"2019-06-10T18:34:56\", \"2019-06-10T20:06:00\", \"2019-06-10T22:48:21\", \"2019-06-10T23:30:02\", \"2019-06-11T02:32:55\", \"2019-06-11T04:02:41\", \"2019-06-11T05:01:41\", \"2019-06-11T05:37:51\", \"2019-06-11T08:35:20\", \"2019-06-11T11:19:00\", \"2019-06-11T12:39:21\", \"2019-06-11T13:48:50\", \"2019-06-11T15:54:31\", \"2019-06-11T17:43:21\", \"2019-06-11T20:07:32\", \"2019-06-11T23:36:09\", \"2019-06-12T02:47:56\", \"2019-06-12T05:47:39\", \"2019-06-12T07:03:22\", \"2019-06-12T08:55:21\", \"2019-06-12T09:33:27\", \"2019-06-12T11:33:45\", \"2019-06-12T12:20:50\", \"2019-06-12T14:47:21\", \"2019-06-12T14:55:45\", \"2019-06-12T16:07:15\", \"2019-06-12T17:59:39\", \"2019-06-12T21:49:34\", \"2019-06-12T22:17:15\", \"2019-06-14T08:28:02\", \"2019-06-14T10:23:27\", \"2019-06-14T10:59:02\", \"2019-06-14T11:42:09\", \"2019-06-14T14:40:56\", \"2019-06-14T15:54:57\", \"2019-06-14T17:31:21\", \"2019-06-14T17:41:22\", \"2019-06-14T20:35:56\", \"2019-06-14T23:27:11\", \"2019-06-14T23:37:11\", \"2019-06-15T02:46:51\", \"2019-06-15T04:13:27\", \"2019-06-15T04:31:17\", \"2019-06-15T05:43:56\", \"2019-06-15T08:44:03\", \"2019-06-15T08:50:51\", \"2019-06-15T11:17:27\", \"2019-06-15T14:19:32\", \"2019-06-15T15:33:50\", \"2019-06-15T16:40:52\", \"2019-06-15T17:40:46\", \"2019-06-15T20:39:39\", \"2019-06-15T20:46:52\", \"2019-06-16T03:14:21\", \"2019-06-16T04:57:21\", \"2019-06-16T09:04:22\", \"2019-06-16T13:15:52\", \"2019-06-16T14:00:34\", \"2019-06-16T17:01:43\", \"2019-06-16T17:44:57\", \"2019-06-16T19:42:44\", \"2019-06-16T20:30:57\", \"2019-06-16T22:26:10\", \"2019-06-17T00:44:44\", \"2019-06-17T02:23:58\", \"2019-06-17T03:45:21\", \"2019-06-17T04:28:51\", \"2019-06-17T07:32:29\", \"2019-06-17T14:27:18\", \"2019-06-17T16:50:30\", \"2019-06-17T19:23:28\", \"2019-06-18T00:29:53\", \"2019-06-18T04:16:59\", \"2019-06-18T07:16:38\", \"2019-06-18T12:44:28\", \"2019-06-18T14:20:58\", \"2019-06-18T14:20:59\", \"2019-06-18T18:59:30\", \"2019-06-18T19:25:28\", \"2019-06-18T19:40:10\", \"2019-06-19T02:16:29\", \"2019-06-20T01:30:29\", \"2019-06-20T02:52:34\", \"2019-06-20T04:30:19\", \"2019-06-20T05:43:39\", \"2019-06-20T07:26:03\", \"2019-06-20T08:45:22\", \"2019-06-20T09:53:03\", \"2019-06-20T10:20:08\", \"2019-06-20T11:08:37\", \"2019-06-20T14:55:47\", \"2019-06-20T16:07:18\", \"2019-06-20T17:43:56\", \"2019-06-20T18:59:54\", \"2019-06-20T20:40:30\", \"2019-06-20T20:58:32\", \"2019-06-20T21:16:25\", \"2019-06-21T15:20:53\", \"2019-06-21T23:52:44\", \"2019-06-22T01:11:50\", \"2019-06-22T02:09:45\", \"2019-06-22T04:31:27\", \"2019-06-22T05:39:49\", \"2019-06-22T07:31:43\", \"2019-06-22T08:48:09\", \"2019-06-22T10:16:07\", \"2019-06-22T10:16:08\", \"2019-06-23T06:04:26\", \"2019-06-23T15:29:08\", \"2019-06-23T18:32:20\", \"2019-06-24T04:09:45\", \"2019-06-24T06:56:54\", \"2019-06-24T10:22:45\", \"2019-06-24T16:34:31\", \"2019-06-24T23:13:08\", \"2019-06-25T05:43:14\", \"2019-06-25T06:22:56\", \"2019-06-25T08:38:32\", \"2019-06-25T10:09:44\", \"2019-06-25T11:43:02\", \"2019-06-25T13:31:55\", \"2019-06-25T14:37:20\", \"2019-06-25T17:13:50\", \"2019-06-25T17:34:32\", \"2019-06-25T20:26:43\", \"2019-06-25T23:45:37\", \"2019-06-26T00:15:32\", \"2019-06-26T02:48:26\", \"2019-06-26T04:14:42\", \"2019-06-26T05:34:14\", \"2019-06-26T07:02:44\", \"2019-06-26T08:45:38\", \"2019-06-26T09:40:06\", \"2019-06-26T10:50:36\", \"2019-06-26T13:12:13\", \"2019-06-26T16:11:39\", \"2019-06-26T16:11:50\", \"2019-06-26T18:00:49\", \"2019-06-26T20:45:01\", \"2019-06-26T22:01:29\", \"2019-06-26T22:04:20\", \"2019-06-28T06:21:27\", \"2019-06-28T08:45:24\", \"2019-06-28T10:05:24\", \"2019-06-28T11:40:35\", \"2019-06-28T12:27:12\", \"2019-06-28T14:32:24\", \"2019-06-28T15:49:19\", \"2019-06-28T17:48:35\", \"2019-06-28T20:44:01\", \"2019-06-28T23:03:40\", \"2019-06-29T00:36:54\", \"2019-06-29T01:49:17\", \"2019-06-29T03:50:35\", \"2019-06-29T05:38:24\", \"2019-06-29T05:54:54\", \"2019-06-29T08:42:12\", \"2019-06-29T09:44:00\", \"2019-06-29T10:59:13\", \"2019-06-29T11:46:55\", \"2019-06-29T14:13:36\", \"2019-06-29T14:32:13\", \"2019-06-29T17:48:43\", \"2019-06-29T20:18:24\", \"2019-06-29T20:35:25\", \"2019-06-29T21:08:25\", \"2019-06-30T01:13:27\", \"2019-06-30T03:14:27\", \"2019-06-30T05:25:47\", \"2019-06-30T05:33:47\", \"2019-06-30T07:51:36\", \"2019-06-30T09:09:46\", \"2019-06-30T15:04:36\", \"2019-06-30T17:28:06\", \"2019-06-30T18:09:56\", \"2019-06-30T19:20:15\", \"2019-06-30T23:23:48\", \"2019-07-01T03:06:36\", \"2019-07-01T05:24:36\", \"2019-07-01T08:37:16\", \"2019-07-01T08:57:16\", \"2019-07-01T11:07:06\", \"2019-07-01T12:56:17\", \"2019-07-01T16:05:35\", \"2019-07-01T17:50:56\", \"2019-07-01T20:11:34\", \"2019-07-01T23:15:16\", \"2019-07-02T08:19:12\", \"2019-07-02T10:09:22\", \"2019-07-02T12:56:51\", \"2019-07-02T19:22:11\", \"2019-07-03T02:23:40\", \"2019-07-03T10:28:31\", \"2019-07-03T11:18:41\", \"2019-07-03T13:00:22\", \"2019-07-03T16:24:42\", \"2019-07-03T21:07:47\", \"2019-07-04T00:23:49\", \"2019-07-04T03:37:41\", \"2019-07-04T20:42:28\", \"2019-07-05T05:55:09\", \"2019-07-05T06:25:46\", \"2019-07-05T07:32:22\", \"2019-07-05T09:44:27\", \"2019-07-05T10:09:15\", \"2019-07-05T14:46:09\", \"2019-07-05T16:17:24\", \"2019-07-05T17:55:23\", \"2019-07-05T18:59:01\", \"2019-07-05T20:46:22\", \"2019-07-05T21:10:17\", \"2019-07-07T01:24:49\", \"2019-07-07T04:29:41\", \"2019-07-07T05:56:46\", \"2019-07-07T07:29:54\", \"2019-07-07T08:44:29\", \"2019-07-07T10:03:57\", \"2019-07-07T11:02:29\", \"2019-07-07T11:02:30\", \"2019-07-08T13:23:23\", \"2019-07-08T13:54:11\", \"2019-07-08T14:07:59\", \"2019-07-08T17:10:17\", \"2019-07-09T04:50:42\", \"2019-07-09T23:09:36\", \"2019-07-10T06:45:43\", \"2019-07-10T08:35:23\", \"2019-07-10T08:45:09\", \"2019-07-10T12:10:42\", \"2019-07-10T17:11:31\", \"2019-07-10T23:45:22\", \"2019-07-11T03:56:00\", \"2019-07-11T05:55:42\", \"2019-07-11T06:26:22\", \"2019-07-11T06:30:12\", \"2019-07-11T10:13:12\", \"2019-07-11T11:48:32\", \"2019-07-11T11:49:01\", \"2019-07-11T16:23:51\", \"2019-07-11T17:43:51\", \"2019-07-12T01:06:22\", \"2019-07-12T06:42:02\", \"2019-07-12T18:17:52\", \"2019-07-12T20:39:20\", \"2019-07-13T00:11:51\", \"2019-07-13T06:49:31\", \"2019-07-13T08:36:41\", \"2019-07-13T10:29:40\", \"2019-07-13T11:03:52\", \"2019-07-13T11:38:02\", \"2019-07-13T14:47:11\", \"2019-07-13T16:09:11\", \"2019-07-13T17:13:51\", \"2019-07-13T17:42:33\", \"2019-07-13T20:20:31\", \"2019-07-13T23:13:11\", \"2019-07-13T23:55:02\", \"2019-07-14T00:44:11\", \"2019-07-15T09:22:38\", \"2019-07-15T10:50:53\", \"2019-07-15T11:50:06\", \"2019-07-15T16:02:16\", \"2019-07-15T17:32:59\", \"2019-07-15T17:42:40\", \"2019-07-15T23:37:46\", \"2019-07-15T23:38:46\", \"2019-07-16T02:44:16\", \"2019-07-16T03:58:34\", \"2019-07-16T05:08:13\", \"2019-07-16T05:39:53\", \"2019-07-16T09:54:58\", \"2019-07-16T12:07:03\", \"2019-07-16T14:53:59\", \"2019-07-16T16:38:53\", \"2019-07-16T17:48:15\", \"2019-07-16T20:41:41\", \"2019-07-16T22:24:27\", \"2019-07-17T03:28:24\", \"2019-07-17T04:34:15\", \"2019-07-17T08:13:08\", \"2019-07-17T08:55:15\", \"2019-07-17T09:42:54\", \"2019-07-17T14:50:31\", \"2019-07-17T16:51:25\", \"2019-07-18T02:00:50\", \"2019-07-18T04:18:41\", \"2019-07-18T07:56:25\", \"2019-07-18T09:17:27\", \"2019-07-18T14:59:55\", \"2019-07-18T17:42:55\", \"2019-07-18T20:22:20\", \"2019-07-19T01:31:20\", \"2019-07-19T02:45:31\", \"2019-07-19T03:34:21\", \"2019-07-19T04:02:17\", \"2019-07-19T06:35:15\", \"2019-07-19T16:27:43\", \"2019-07-20T04:30:56\", \"2019-07-20T05:51:00\", \"2019-07-20T07:30:56\", \"2019-07-20T08:51:26\", \"2019-07-20T10:28:20\", \"2019-07-20T10:36:25\", \"2019-07-20T12:10:08\", \"2019-07-20T14:40:25\", \"2019-07-20T16:26:39\", \"2019-07-20T17:57:09\", \"2019-07-20T18:59:22\", \"2019-07-20T20:44:51\", \"2019-07-20T21:32:11\", \"2019-07-20T21:32:12\", \"2019-07-21T20:42:49\", \"2019-07-21T23:54:02\", \"2019-07-22T00:40:26\", \"2019-07-22T02:00:35\", \"2019-07-22T04:26:17\", \"2019-07-22T05:40:28\", \"2019-07-22T07:30:17\", \"2019-07-22T08:46:03\", \"2019-07-22T09:48:51\", \"2019-07-22T09:49:35\", \"2019-07-23T03:25:29\", \"2019-07-23T07:27:05\", \"2019-07-23T13:41:33\", \"2019-07-23T16:05:35\", \"2019-07-23T17:00:46\", \"2019-07-23T18:37:29\", \"2019-07-23T19:03:16\", \"2019-07-23T19:54:40\", \"2019-07-23T22:53:04\", \"2019-07-24T03:01:29\", \"2019-07-24T07:07:57\", \"2019-07-24T11:44:35\", \"2019-07-24T12:21:21\", \"2019-07-24T15:58:55\", \"2019-07-24T18:50:34\", \"2019-07-24T20:35:06\", \"2019-07-24T23:16:41\", \"2019-07-25T02:54:42\", \"2019-07-25T05:12:59\", \"2019-07-25T06:32:04\", \"2019-07-25T08:07:27\", \"2019-07-25T11:41:17\", \"2019-07-25T11:44:35\", \"2019-07-25T12:45:09\", \"2019-07-25T17:22:32\", \"2019-07-25T17:44:27\", \"2019-07-25T20:15:16\", \"2019-07-25T23:25:55\", \"2019-07-26T01:24:05\", \"2019-07-26T01:49:12\", \"2019-07-26T04:54:30\", \"2019-07-26T07:21:51\", \"2019-07-26T07:55:45\", \"2019-07-26T07:56:32\", \"2019-07-26T11:44:01\", \"2019-07-26T11:49:57\", \"2019-07-26T14:44:38\", \"2019-07-26T16:05:13\", \"2019-07-26T17:34:00\", \"2019-07-26T17:46:54\", \"2019-07-26T20:15:15\", \"2019-07-26T23:39:16\", \"2019-07-26T23:49:15\", \"2019-07-27T02:37:15\", \"2019-07-27T03:42:05\", \"2019-07-27T05:30:05\", \"2019-07-27T06:58:15\", \"2019-07-27T08:36:29\", \"2019-07-27T09:45:33\", \"2019-07-27T11:34:46\", \"2019-07-27T12:35:04\", \"2019-07-27T14:52:16\", \"2019-07-27T16:17:34\", \"2019-07-27T16:19:25\", \"2019-07-27T17:53:15\", \"2019-07-27T18:30:24\", \"2019-07-27T19:54:06\", \"2019-07-29T02:48:01\", \"2019-07-29T04:30:55\", \"2019-07-29T05:40:23\", \"2019-07-29T06:49:49\", \"2019-07-29T08:31:30\", \"2019-07-29T09:07:06\", \"2019-07-29T11:12:49\", \"2019-07-29T12:26:17\", \"2019-07-29T14:43:02\", \"2019-07-29T16:02:25\", \"2019-07-29T17:11:00\", \"2019-07-29T17:41:42\", \"2019-07-29T20:36:55\", \"2019-07-29T23:15:26\", \"2019-07-30T00:00:18\", \"2019-07-30T02:49:31\", \"2019-07-30T04:06:01\", \"2019-07-30T04:41:49\", \"2019-07-30T04:51:24\", \"2019-07-30T08:48:07\", \"2019-07-30T10:23:07\", \"2019-07-30T11:20:31\", \"2019-07-30T14:39:13\", \"2019-07-30T15:21:19\", \"2019-07-30T16:41:14\", \"2019-07-30T16:55:28\", \"2019-07-30T20:18:20\", \"2019-07-30T21:53:06\", \"2019-07-31T02:40:07\", \"2019-07-31T03:41:42\", \"2019-07-31T04:33:30\", \"2019-07-31T08:41:12\", \"2019-07-31T10:45:48\", \"2019-07-31T14:18:36\", \"2019-07-31T14:42:42\", \"2019-07-31T16:53:41\", \"2019-07-31T20:30:52\", \"2019-07-31T22:25:14\", \"2019-07-31T23:42:41\", \"2019-08-01T05:23:33\", \"2019-08-01T07:30:01\", \"2019-08-01T08:29:22\", \"2019-08-01T10:46:42\", \"2019-08-01T12:18:44\", \"2019-08-01T17:23:12\", \"2019-08-01T20:47:52\", \"2019-08-01T21:40:22\", \"2019-08-02T01:13:52\", \"2019-08-02T05:47:51\", \"2019-08-02T07:28:13\", \"2019-08-02T08:44:52\", \"2019-08-02T09:43:13\", \"2019-08-02T09:43:32\", \"2019-08-02T13:30:52\", \"2019-08-02T13:49:33\", \"2019-08-02T22:31:34\", \"2019-08-03T01:01:13\", \"2019-08-03T04:28:35\", \"2019-08-03T23:42:02\", \"2019-08-04T01:31:23\", \"2019-08-04T02:19:12\", \"2019-08-04T04:30:44\", \"2019-08-04T05:42:22\", \"2019-08-04T07:30:43\", \"2019-08-04T07:54:53\", \"2019-08-04T09:05:02\", \"2019-08-04T12:38:43\", \"2019-08-04T14:54:43\", \"2019-08-04T16:23:23\", \"2019-08-04T17:45:03\", \"2019-08-04T18:14:45\", \"2019-08-04T20:23:04\", \"2019-08-04T20:48:03\", \"2019-08-04T21:50:39\", \"2019-08-05T05:43:55\", \"2019-08-05T08:43:56\", \"2019-08-05T11:52:58\", \"2019-08-05T13:37:59\", \"2019-08-05T14:55:55\", \"2019-08-05T17:37:54\", \"2019-08-05T20:47:01\", \"2019-08-05T23:53:25\", \"2019-08-06T01:21:36\", \"2019-08-06T02:45:59\", \"2019-08-06T04:28:46\", \"2019-08-06T05:46:10\", \"2019-08-06T07:30:47\", \"2019-08-06T08:49:34\", \"2019-08-06T10:06:22\", \"2019-08-06T10:06:23\", \"2019-08-07T07:11:34\", \"2019-08-07T13:15:05\", \"2019-08-07T13:15:59\", \"2019-08-07T16:28:04\", \"2019-08-07T16:28:05\", \"2019-08-07T23:37:25\", \"2019-08-08T00:42:10\", \"2019-08-08T02:08:23\", \"2019-08-08T06:16:53\", \"2019-08-08T06:52:51\", \"2019-08-08T13:34:33\", \"2019-08-08T16:08:27\", \"2019-08-08T16:18:20\", \"2019-08-09T04:18:25\", \"2019-08-09T08:08:09\", \"2019-08-09T11:28:46\", \"2019-08-09T11:34:59\", \"2019-08-09T17:22:14\", \"2019-08-09T18:00:56\", \"2019-08-09T20:10:49\", \"2019-08-09T23:22:43\", \"2019-08-09T23:59:20\", \"2019-08-10T02:34:01\", \"2019-08-10T05:28:13\", \"2019-08-10T06:10:49\", \"2019-08-10T08:53:37\", \"2019-08-10T11:00:44\", \"2019-08-10T12:06:49\", \"2019-08-10T14:27:43\", \"2019-08-10T14:33:40\", \"2019-08-10T17:16:07\", \"2019-08-10T18:16:08\", \"2019-08-10T20:30:43\", \"2019-08-10T23:39:08\", \"2019-08-11T01:23:55\", \"2019-08-11T03:23:54\", \"2019-08-11T06:35:48\", \"2019-08-11T09:35:08\", \"2019-08-11T12:23:36\", \"2019-08-11T18:28:21\", \"2019-08-11T21:06:21\", \"2019-08-13T02:22:27\", \"2019-08-13T04:03:09\", \"2019-08-13T05:46:39\", \"2019-08-13T05:55:37\", \"2019-08-13T09:53:38\", \"2019-08-13T10:22:50\", \"2019-08-13T11:01:44\", \"2019-08-13T15:31:38\", \"2019-08-13T17:38:52\", \"2019-08-13T20:55:14\", \"2019-08-13T23:35:39\", \"2019-08-14T02:14:57\", \"2019-08-14T05:31:57\", \"2019-08-14T08:57:33\", \"2019-08-14T11:30:09\", \"2019-08-14T17:00:25\", \"2019-08-14T20:43:09\", \"2019-08-14T22:06:14\", \"2019-08-14T23:02:14\", \"2019-08-15T01:32:49\", \"2019-08-15T03:52:02\", \"2019-08-15T04:50:15\", \"2019-08-15T04:53:25\", \"2019-08-15T07:45:06\", \"2019-08-15T09:18:39\", \"2019-08-15T10:53:15\", \"2019-08-15T13:29:13\", \"2019-08-15T16:27:31\", \"2019-08-15T17:15:51\", \"2019-08-15T19:37:31\", \"2019-08-15T20:43:25\", \"2019-08-16T02:51:31\", \"2019-08-16T02:52:39\", \"2019-08-16T05:17:29\", \"2019-08-16T08:06:26\", \"2019-08-16T08:53:04\", \"2019-08-16T10:00:20\", \"2019-08-16T13:30:51\", \"2019-08-16T14:41:20\", \"2019-08-16T14:49:38\", \"2019-08-16T16:21:56\", \"2019-08-16T16:40:15\", \"2019-08-16T18:59:34\", \"2019-08-16T19:36:33\", \"2019-08-16T20:49:15\", \"2019-08-16T21:49:16\", \"2019-08-17T03:37:50\", \"2019-08-17T03:41:44\", \"2019-08-17T07:10:35\", \"2019-08-17T15:07:17\", \"2019-08-18T01:31:06\", \"2019-08-18T02:55:33\", \"2019-08-18T04:28:37\", \"2019-08-18T05:43:24\", \"2019-08-18T07:30:30\", \"2019-08-18T08:46:52\", \"2019-08-18T09:03:53\", \"2019-08-18T14:53:33\", \"2019-08-18T16:29:33\", \"2019-08-18T17:45:52\", \"2019-08-18T18:59:45\", \"2019-08-18T20:11:23\", \"2019-08-18T20:39:33\", \"2019-08-18T21:32:49\", \"2019-08-20T20:39:28\", \"2019-08-20T23:55:20\", \"2019-08-21T01:18:26\", \"2019-08-21T02:17:39\", \"2019-08-21T04:26:02\", \"2019-08-21T05:51:20\", \"2019-08-21T07:30:33\", \"2019-08-21T08:56:45\", \"2019-08-21T10:29:23\", \"2019-08-21T11:18:27\", \"2019-08-21T11:18:35\", \"2019-08-21T13:05:39\", \"2019-08-22T19:14:28\", \"2019-08-22T23:20:52\", \"2019-08-23T01:46:22\", \"2019-08-23T03:18:05\", \"2019-08-23T04:04:28\", \"2019-08-23T04:49:20\", \"2019-08-23T06:52:46\", \"2019-08-23T14:00:49\", \"2019-08-23T20:04:29\", \"2019-08-23T22:08:10\", \"2019-08-23T23:41:10\", \"2019-08-24T00:42:05\", \"2019-08-24T02:52:52\", \"2019-08-24T07:29:09\", \"2019-08-24T08:07:37\", \"2019-08-24T10:48:08\", \"2019-08-24T12:28:15\", \"2019-08-24T16:13:21\", \"2019-08-24T17:45:38\", \"2019-08-24T19:57:13\", \"2019-08-24T22:21:09\", \"2019-08-25T03:37:29\", \"2019-08-25T05:56:43\", \"2019-08-25T07:48:34\", \"2019-08-25T10:35:41\", \"2019-08-25T11:27:30\", \"2019-08-25T14:05:42\", \"2019-08-25T17:29:35\", \"2019-08-25T17:36:07\", \"2019-08-25T19:27:19\", \"2019-08-25T23:52:53\", \"2019-08-26T00:49:33\", \"2019-08-26T02:06:16\", \"2019-08-26T03:20:53\", \"2019-08-26T05:30:43\", \"2019-08-26T06:10:54\", \"2019-08-26T06:22:42\", \"2019-08-26T07:51:25\", \"2019-08-26T08:11:19\", \"2019-08-26T11:29:37\", \"2019-08-26T11:52:59\", \"2019-08-26T13:45:55\", \"2019-08-26T14:33:38\", \"2019-08-26T17:36:58\", \"2019-08-26T18:40:37\", \"2019-08-26T18:41:12\", \"2019-08-26T20:23:45\", \"2019-08-26T23:54:34\", \"2019-08-26T23:56:13\", \"2019-08-27T01:57:34\", \"2019-08-27T04:13:33\", \"2019-08-27T05:46:54\", \"2019-08-27T06:23:53\", \"2019-08-27T08:04:34\", \"2019-08-27T08:25:55\", \"2019-08-27T10:06:24\", \"2019-08-27T11:20:15\", \"2019-08-27T11:50:54\", \"2019-08-27T11:55:05\", \"2019-08-27T13:03:35\", \"2019-08-27T13:23:13\", \"2019-08-27T14:33:45\", \"2019-08-27T16:16:55\", \"2019-08-27T17:41:44\", \"2019-08-27T20:04:45\", \"2019-08-27T23:45:44\", \"2019-08-28T00:11:56\", \"2019-08-28T00:36:23\", \"2019-08-29T17:49:59\", \"2019-08-29T18:13:17\", \"2019-08-29T20:56:17\", \"2019-08-29T23:14:59\", \"2019-08-29T23:32:04\", \"2019-08-30T02:46:23\", \"2019-08-30T04:05:40\", \"2019-08-30T05:37:29\", \"2019-08-30T06:01:40\", \"2019-08-30T06:24:41\", \"2019-08-30T08:17:34\", \"2019-08-30T10:08:11\", \"2019-08-30T11:05:40\", \"2019-08-30T11:56:16\", \"2019-08-30T14:43:11\", \"2019-08-30T15:16:40\", \"2019-08-30T16:49:39\", \"2019-08-30T17:31:41\", \"2019-08-30T19:36:11\", \"2019-08-30T22:22:23\", \"2019-08-30T23:36:06\", \"2019-08-31T02:12:26\", \"2019-08-31T04:17:47\", \"2019-08-31T04:25:03\", \"2019-08-31T05:32:23\", \"2019-08-31T08:05:46\", \"2019-08-31T09:42:23\", \"2019-08-31T09:56:18\", \"2019-08-31T11:20:29\", \"2019-08-31T13:31:04\", \"2019-08-31T15:46:34\", \"2019-08-31T16:38:15\", \"2019-08-31T17:22:41\", \"2019-08-31T19:16:41\", \"2019-08-31T23:40:29\", \"2019-09-01T01:02:20\", \"2019-09-01T03:32:41\", \"2019-09-01T05:38:10\", \"2019-09-01T08:01:40\", \"2019-09-01T09:24:51\", \"2019-09-01T09:46:20\", \"2019-09-01T11:30:39\", \"2019-09-01T15:43:10\", \"2019-09-01T16:07:00\", \"2019-09-01T19:18:20\", \"2019-09-01T22:31:10\", \"2019-09-02T02:44:50\", \"2019-09-02T03:55:49\", \"2019-09-02T05:14:10\", \"2019-09-02T06:16:31\", \"2019-09-02T08:24:00\", \"2019-09-02T08:26:02\", \"2019-09-02T13:28:00\", \"2019-09-02T14:55:50\", \"2019-09-02T16:31:02\", \"2019-09-02T17:24:00\", \"2019-09-02T18:59:30\", \"2019-09-02T21:33:51\", \"2019-09-02T23:33:59\", \"2019-09-03T05:17:52\", \"2019-09-04T04:30:01\", \"2019-09-04T05:46:47\", \"2019-09-04T07:31:31\", \"2019-09-04T08:50:22\", \"2019-09-04T10:31:40\", \"2019-09-04T10:43:58\", \"2019-09-04T11:36:33\", \"2019-09-04T15:40:42\", \"2019-09-04T17:48:53\", \"2019-09-04T18:53:23\", \"2019-09-04T20:54:22\", \"2019-09-04T21:57:15\", \"2019-09-04T23:45:24\", \"2019-09-05T02:27:24\", \"2019-09-05T05:45:24\", \"2019-09-05T06:21:30\", \"2019-09-05T07:09:20\", \"2019-09-05T10:39:26\", \"2019-09-05T11:39:26\", \"2019-09-05T14:39:29\", \"2019-09-05T17:45:25\", \"2019-09-05T20:51:27\", \"2019-09-05T23:03:27\", \"2019-09-06T00:42:15\", \"2019-09-06T02:51:45\", \"2019-09-06T04:25:22\", \"2019-09-06T05:54:45\", \"2019-09-06T06:52:58\", \"2019-09-06T07:32:22\", \"2019-09-06T08:54:40\", \"2019-09-06T10:31:28\", \"2019-09-06T11:44:16\", \"2019-09-06T12:48:22\", \"2019-09-06T12:48:53\", \"2019-09-07T03:54:24\", \"2019-09-07T19:26:34\", \"2019-09-08T02:41:22\", \"2019-09-08T08:15:35\", \"2019-09-08T10:39:44\", \"2019-09-08T12:44:54\", \"2019-09-08T14:31:58\", \"2019-09-08T16:33:27\", \"2019-09-08T19:55:55\", \"2019-09-09T02:43:35\", \"2019-09-09T04:23:38\", \"2019-09-09T06:24:29\", \"2019-09-09T07:46:58\", \"2019-09-09T08:36:34\", \"2019-09-09T09:20:32\", \"2019-09-09T12:24:52\", \"2019-09-09T14:42:11\", \"2019-09-09T14:44:11\", \"2019-09-09T16:47:24\", \"2019-09-09T18:45:05\", \"2019-09-09T20:34:33\", \"2019-09-09T23:58:41\", \"2019-09-10T06:14:59\", \"2019-09-10T06:39:46\", \"2019-09-10T08:38:40\", \"2019-09-10T10:52:23\", \"2019-09-10T12:15:49\", \"2019-09-10T14:22:19\", \"2019-09-10T14:55:52\", \"2019-09-10T17:49:10\", \"2019-09-10T18:44:33\", \"2019-09-10T20:53:31\", \"2019-09-11T04:19:56\", \"2019-09-11T04:55:20\", \"2019-09-11T05:47:33\", \"2019-09-11T06:23:58\", \"2019-09-11T07:26:26\", \"2019-09-11T08:33:32\", \"2019-09-11T10:07:06\", \"2019-09-11T11:40:59\", \"2019-09-11T12:17:30\", \"2019-09-11T14:00:36\", \"2019-09-11T14:47:07\", \"2019-09-11T15:42:02\", \"2019-09-11T17:25:34\", \"2019-09-11T17:43:31\", \"2019-09-11T22:36:04\", \"2019-09-11T23:50:18\", \"2019-09-13T04:55:20\", \"2019-09-13T04:55:58\", \"2019-09-13T05:36:41\", \"2019-09-13T07:16:17\", \"2019-09-13T08:43:23\", \"2019-09-13T08:49:58\", \"2019-09-13T11:22:41\", \"2019-09-13T13:14:47\", \"2019-09-13T14:40:59\", \"2019-09-13T16:09:47\", \"2019-09-13T17:38:17\", \"2019-09-13T18:22:58\", \"2019-09-13T20:45:40\", \"2019-09-14T04:55:05\", \"2019-09-14T05:08:33\", \"2019-09-14T05:43:52\", \"2019-09-14T06:50:41\", \"2019-09-14T08:18:41\", \"2019-09-14T09:38:16\", \"2019-09-14T10:32:22\", \"2019-09-14T11:56:46\", \"2019-09-14T14:14:29\", \"2019-09-14T16:37:05\", \"2019-09-14T17:44:28\", \"2019-09-14T20:22:23\", \"2019-09-15T03:12:56\", \"2019-09-15T04:12:17\", \"2019-09-15T04:31:03\", \"2019-09-15T05:42:29\", \"2019-09-15T07:25:03\", \"2019-09-15T09:57:23\", \"2019-09-15T10:10:22\", \"2019-09-15T13:59:11\", \"2019-09-15T16:45:14\", \"2019-09-15T19:13:44\", \"2019-09-16T03:11:15\", \"2019-09-16T04:19:27\", \"2019-09-16T05:05:13\", \"2019-09-16T08:13:51\", \"2019-09-16T14:28:16\", \"2019-09-16T16:49:09\", \"2019-09-16T18:05:53\", \"2019-09-16T23:55:40\", \"2019-09-17T01:14:59\", \"2019-09-17T01:40:40\", \"2019-09-17T04:30:55\", \"2019-09-17T04:38:42\", \"2019-09-17T05:48:41\", \"2019-09-18T04:30:16\", \"2019-09-18T05:55:34\", \"2019-09-18T07:30:30\", \"2019-09-18T08:55:57\", \"2019-09-18T10:29:08\", \"2019-09-18T10:30:02\", \"2019-09-18T11:11:20\", \"2019-09-18T16:17:38\", \"2019-09-18T17:51:41\", \"2019-09-18T18:49:31\", \"2019-09-18T20:06:22\", \"2019-09-18T20:56:40\", \"2019-09-18T23:42:30\", \"2019-09-19T02:45:26\", \"2019-09-19T05:51:31\", \"2019-09-19T11:27:32\", \"2019-09-19T14:39:33\", \"2019-09-19T17:42:29\", \"2019-09-19T20:33:35\", \"2019-09-19T23:47:47\", \"2019-09-20T01:15:45\", \"2019-09-20T01:48:34\", \"2019-09-20T02:02:21\", \"2019-09-20T05:55:50\", \"2019-09-20T07:31:21\", \"2019-09-20T08:44:32\", \"2019-09-20T10:30:44\", \"2019-09-20T11:44:45\", \"2019-09-20T11:45:21\", \"2019-09-21T20:36:01\", \"2019-09-21T23:50:41\", \"2019-09-22T00:07:22\", \"2019-09-22T03:21:21\", \"2019-09-22T12:53:54\", \"2019-09-22T15:58:30\", \"2019-09-22T16:18:09\", \"2019-09-23T05:47:31\", \"2019-09-23T09:44:22\", \"2019-09-23T16:55:32\", \"2019-09-24T01:04:55\", \"2019-09-24T07:41:21\", \"2019-09-24T09:29:36\", \"2019-09-24T17:22:12\", \"2019-09-24T20:13:47\", \"2019-09-24T23:09:45\", \"2019-09-24T23:42:13\", \"2019-09-25T00:59:03\", \"2019-09-25T02:44:37\", \"2019-09-25T04:41:26\", \"2019-09-25T07:00:16\", \"2019-09-25T07:41:49\", \"2019-09-25T10:58:06\", \"2019-09-25T12:32:07\", \"2019-09-25T13:40:14\", \"2019-09-25T17:49:56\", \"2019-09-25T19:20:56\", \"2019-09-25T23:16:48\", \"2019-09-25T23:30:15\", \"2019-09-26T02:47:45\", \"2019-09-26T03:29:53\", \"2019-09-26T05:21:45\", \"2019-09-26T06:39:47\", \"2019-09-26T09:09:36\", \"2019-09-26T11:15:17\", \"2019-09-26T11:41:15\", \"2019-09-26T13:35:07\", \"2019-09-26T15:38:16\", \"2019-09-26T18:46:05\", \"2019-09-26T18:54:16\", \"2019-09-26T22:26:26\", \"2019-09-27T01:27:17\", \"2019-09-27T02:38:26\", \"2019-09-27T04:07:26\", \"2019-09-27T05:12:47\", \"2019-09-27T06:51:46\", \"2019-09-27T06:54:07\", \"2019-09-27T07:10:37\", \"2019-09-27T11:44:47\", \"2019-09-27T12:02:46\", \"2019-09-27T14:24:16\", \"2019-09-27T15:38:36\", \"2019-09-27T17:53:37\", \"2019-09-27T18:25:47\", \"2019-09-27T20:25:26\", \"2019-09-27T23:48:57\", \"2019-09-28T01:06:56\", \"2019-09-28T01:48:37\", \"2019-09-29T11:47:13\", \"2019-09-29T12:45:47\", \"2019-09-29T14:40:35\", \"2019-09-29T16:07:05\", \"2019-09-29T17:41:29\", \"2019-09-29T18:11:58\", \"2019-09-29T20:49:30\", \"2019-09-29T23:42:42\", \"2019-09-29T23:53:24\", \"2019-09-30T02:14:35\", \"2019-09-30T03:55:11\", \"2019-09-30T05:24:54\", \"2019-09-30T06:53:24\", \"2019-09-30T08:36:24\", \"2019-09-30T09:11:29\", \"2019-09-30T10:13:29\", \"2019-09-30T11:51:48\", \"2019-09-30T14:19:06\", \"2019-09-30T16:08:29\", \"2019-09-30T16:54:31\", \"2019-09-30T18:59:05\", \"2019-09-30T20:39:07\", \"2019-09-30T23:32:54\", \"2019-10-01T00:55:28\", \"2019-10-01T02:00:17\", \"2019-10-01T04:10:00\", \"2019-10-01T04:45:41\", \"2019-10-01T05:36:54\", \"2019-10-01T08:44:25\", \"2019-10-01T10:43:53\", \"2019-10-01T10:50:31\", \"2019-10-01T13:01:49\", \"2019-10-01T15:43:00\", \"2019-10-01T16:27:59\", \"2019-10-01T19:26:05\", \"2019-10-01T22:27:12\", \"2019-10-01T22:55:04\", \"2019-10-02T02:13:22\", \"2019-10-02T02:54:05\", \"2019-10-02T03:46:52\", \"2019-10-02T08:40:37\", \"2019-10-02T11:01:14\", \"2019-10-02T12:04:07\", \"2019-10-02T14:35:17\", \"2019-10-02T16:21:36\", \"2019-10-02T18:22:35\", \"2019-10-03T00:11:05\", \"2019-10-03T04:25:29\", \"2019-10-03T11:54:26\", \"2019-10-03T12:06:57\", \"2019-10-03T14:12:26\", \"2019-10-03T15:06:16\", \"2019-10-03T15:11:06\", \"2019-10-03T20:51:14\", \"2019-10-04T08:30:36\", \"2019-10-05T07:16:47\", \"2019-10-05T07:17:24\", \"2019-10-05T08:52:15\", \"2019-10-05T10:31:27\", \"2019-10-05T11:54:58\", \"2019-10-05T11:54:59\", \"2019-10-05T12:01:28\", \"2019-10-05T18:58:14\", \"2019-10-05T20:52:12\", \"2019-10-05T23:18:37\", \"2019-10-05T23:50:14\", \"2019-10-06T02:53:20\", \"2019-10-06T04:26:19\", \"2019-10-06T14:20:23\", \"2019-10-06T17:44:21\", \"2019-10-06T20:44:29\", \"2019-10-06T23:44:25\", \"2019-10-07T01:27:10\", \"2019-10-07T04:31:29\", \"2019-10-07T07:28:48\", \"2019-10-07T08:55:45\", \"2019-10-07T10:31:46\", \"2019-10-07T11:52:41\", \"2019-10-07T13:28:47\", \"2019-10-07T14:55:42\", \"2019-10-07T16:28:51\", \"2019-10-07T17:43:46\", \"2019-10-07T18:58:47\", \"2019-10-07T20:49:48\", \"2019-10-07T23:52:46\", \"2019-10-08T01:28:47\", \"2019-10-08T02:40:49\", \"2019-10-08T04:28:52\", \"2019-10-08T05:43:48\", \"2019-10-08T07:28:53\", \"2019-10-08T08:49:54\", \"2019-10-08T10:28:52\", \"2019-10-08T11:46:53\", \"2019-10-08T13:28:53\", \"2019-10-08T14:43:50\", \"2019-10-08T16:28:51\", \"2019-10-08T17:49:48\", \"2019-10-08T18:58:54\", \"2019-10-08T20:46:52\", \"2019-10-08T23:58:55\", \"2019-10-09T01:28:57\", \"2019-10-09T02:19:56\", \"2019-10-09T04:28:58\", \"2019-10-09T05:25:53\", \"2019-10-09T07:28:55\", \"2019-10-09T08:50:23\", \"2019-10-09T10:28:59\", \"2019-10-09T11:49:57\", \"2019-10-09T13:28:57\", \"2019-10-09T14:49:59\", \"2019-10-09T16:28:58\", \"2019-10-09T17:37:58\", \"2019-10-09T18:58:59\", \"2019-10-10T00:35:26\", \"2019-10-10T04:28:50\", \"2019-10-10T05:37:55\", \"2019-10-10T07:28:56\", \"2019-10-10T08:49:55\", \"2019-10-10T10:31:53\", \"2019-10-10T11:43:58\", \"2019-10-10T13:28:57\", \"2019-10-10T14:46:56\", \"2019-10-10T16:29:02\", \"2019-10-10T17:43:59\", \"2019-10-10T18:58:57\", \"2019-10-10T20:50:00\", \"2019-10-10T23:56:03\", \"2019-10-11T01:28:55\", \"2019-10-11T02:44:02\", \"2019-10-11T04:29:01\", \"2019-10-11T05:44:03\", \"2019-10-11T07:29:00\", \"2019-10-11T08:50:00\", \"2019-10-11T10:28:59\", \"2019-10-11T11:56:03\", \"2019-10-11T13:29:04\", \"2019-10-11T14:38:05\", \"2019-10-11T16:29:03\", \"2019-10-11T17:05:05\", \"2019-10-11T18:59:02\", \"2019-10-11T20:50:05\", \"2019-10-11T23:44:31\", \"2019-10-12T01:29:09\", \"2019-10-12T02:44:06\", \"2019-10-12T04:29:02\", \"2019-10-12T05:53:07\", \"2019-10-12T07:29:11\", \"2019-10-12T08:56:09\", \"2019-10-12T10:29:06\", \"2019-10-12T11:56:10\", \"2019-10-12T13:29:09\", \"2019-10-12T14:29:12\", \"2019-10-12T16:29:07\", \"2019-10-12T17:38:11\", \"2019-10-12T18:59:12\", \"2019-10-12T20:44:14\", \"2019-10-12T23:48:08\", \"2019-10-13T01:29:17\", \"2019-10-13T02:55:21\", \"2019-10-13T04:30:30\", \"2019-10-13T05:43:06\", \"2019-10-13T05:43:22\", \"2019-10-13T06:45:41\", \"2019-10-13T13:14:32\", \"2019-10-13T14:53:22\", \"2019-10-13T16:16:23\", \"2019-10-13T17:23:53\", \"2019-10-13T17:36:51\", \"2019-10-13T23:52:04\", \"2019-10-14T01:29:05\", \"2019-10-14T02:51:04\", \"2019-10-14T03:09:46\", \"2019-10-17T14:56:41\", \"2019-10-17T16:29:52\", \"2019-10-17T17:59:01\", \"2019-10-17T18:59:52\", \"2019-10-17T20:50:32\", \"2019-10-17T23:49:44\", \"2019-10-18T01:28:44\", \"2019-10-18T02:52:44\", \"2019-10-18T04:28:48\", \"2019-10-18T05:40:48\", \"2019-10-18T07:22:45\", \"2019-10-18T08:46:49\", \"2019-10-18T10:28:50\", \"2019-10-18T11:59:16\", \"2019-10-18T13:22:47\", \"2019-10-18T14:46:53\", \"2019-10-18T16:28:48\", \"2019-10-18T17:37:52\", \"2019-10-18T18:49:48\", \"2019-10-18T20:25:50\", \"2019-10-18T23:28:51\", \"2019-10-19T01:28:55\", \"2019-10-19T02:55:56\", \"2019-10-19T04:28:56\", \"2019-10-19T05:40:58\", \"2019-10-19T07:28:54\", \"2019-10-19T08:46:58\", \"2019-10-19T10:31:52\", \"2019-10-19T11:52:58\", \"2019-10-19T13:28:59\", \"2019-10-19T14:43:54\", \"2019-10-19T16:25:58\", \"2019-10-19T17:46:59\", \"2019-10-19T18:58:59\", \"2019-10-19T20:44:02\", \"2019-10-19T23:53:03\", \"2019-10-20T01:29:26\", \"2019-10-20T02:35:03\", \"2019-10-20T04:22:59\", \"2019-10-20T05:41:01\", \"2019-10-20T07:16:59\", \"2019-10-20T08:49:58\", \"2019-10-20T10:26:02\", \"2019-10-20T11:53:01\", \"2019-10-20T13:29:01\", \"2019-10-20T14:32:00\", \"2019-10-20T16:26:05\", \"2019-10-20T17:47:08\", \"2019-10-20T18:59:03\", \"2019-10-20T20:53:02\", \"2019-10-20T23:47:08\", \"2019-10-21T01:20:07\", \"2019-10-21T04:29:04\", \"2019-10-21T07:20:04\", \"2019-10-21T08:47:11\", \"2019-10-21T10:23:08\", \"2019-10-21T11:56:09\", \"2019-10-21T13:26:09\", \"2019-10-21T14:41:06\", \"2019-10-21T16:29:10\", \"2019-10-21T17:50:07\", \"2019-10-21T18:59:11\", \"2019-10-21T20:56:13\", \"2019-10-21T23:41:11\", \"2019-10-22T01:11:11\", \"2019-10-22T02:47:15\", \"2019-10-22T04:20:14\", \"2019-10-22T05:44:11\", \"2019-10-22T07:29:14\", \"2019-10-22T08:53:17\", \"2019-10-22T10:26:17\", \"2019-10-22T11:41:18\", \"2019-10-22T13:29:22\", \"2019-10-22T14:50:17\", \"2019-10-22T16:29:27\", \"2019-10-22T17:50:16\", \"2019-10-22T18:59:25\", \"2019-10-22T20:56:20\", \"2019-10-22T23:14:19\", \"2019-10-23T01:29:21\", \"2019-10-23T02:35:19\", \"2019-10-23T04:26:20\", \"2019-10-23T05:53:21\", \"2019-10-23T07:26:17\", \"2019-10-23T08:41:19\", \"2019-10-23T10:29:18\", \"2019-10-23T11:47:18\", \"2019-10-23T13:29:49\", \"2019-10-23T14:44:21\", \"2019-10-23T16:23:24\", \"2019-10-23T17:53:26\", \"2019-10-23T18:59:24\", \"2019-10-23T20:56:28\", \"2019-10-23T23:44:24\", \"2019-10-24T01:17:22\", \"2019-10-24T02:44:27\", \"2019-10-24T04:11:27\", \"2019-10-24T05:53:28\", \"2019-10-24T07:02:07\", \"2019-10-24T08:04:56\", \"2019-10-24T08:39:50\", \"2019-10-24T11:45:46\", \"2019-10-24T12:57:47\", \"2019-10-24T14:52:18\", \"2019-10-24T16:30:53\", \"2019-10-24T17:51:54\", \"2019-10-24T18:21:54\", \"2019-10-24T20:42:55\", \"2019-10-24T23:48:53\", \"2019-10-25T00:30:53\", \"2019-10-25T02:48:52\", \"2019-10-25T05:54:53\", \"2019-10-25T08:45:56\", \"2019-10-25T11:40:01\", \"2019-10-25T11:46:00\", \"2019-10-25T14:52:00\", \"2019-10-25T17:18:54\", \"2019-10-25T20:46:02\", \"2019-10-25T23:57:37\", \"2019-10-26T01:23:17\", \"2019-10-26T02:50:13\", \"2019-10-26T04:26:16\", \"2019-10-26T05:38:13\", \"2019-10-26T07:26:15\", \"2019-10-26T08:47:22\", \"2019-10-26T10:20:15\", \"2019-10-26T11:50:15\", \"2019-10-26T13:29:15\", \"2019-10-26T14:44:17\", \"2019-10-26T16:29:22\", \"2019-10-26T17:50:22\", \"2019-10-26T18:59:47\", \"2019-10-26T20:11:20\", \"2019-10-26T23:50:23\", \"2019-10-27T01:29:22\", \"2019-10-27T02:50:24\", \"2019-10-27T04:26:22\", \"2019-10-27T05:41:24\", \"2019-10-27T07:26:26\", \"2019-10-27T08:44:24\", \"2019-10-27T10:26:25\", \"2019-10-27T11:44:24\", \"2019-10-27T13:29:26\", \"2019-10-27T14:53:26\", \"2019-10-27T16:29:24\", \"2019-10-27T17:56:22\", \"2019-10-27T18:59:28\", \"2019-10-27T20:53:28\", \"2019-10-27T23:50:28\", \"2019-10-28T01:32:29\", \"2019-10-28T02:50:26\", \"2019-10-28T04:14:29\", \"2019-10-28T05:44:26\", \"2019-10-28T07:26:32\", \"2019-10-28T08:50:27\", \"2019-10-28T10:29:33\", \"2019-10-28T11:56:27\", \"2019-10-28T13:23:28\", \"2019-10-28T14:47:29\", \"2019-10-28T16:29:30\", \"2019-10-28T17:32:29\", \"2019-10-28T18:50:32\", \"2019-10-28T20:42:02\", \"2019-10-28T23:23:33\", \"2019-10-29T01:29:36\", \"2019-10-29T02:53:32\", \"2019-10-29T04:29:36\", \"2019-10-29T05:20:36\", \"2019-10-29T07:29:34\", \"2019-10-29T07:56:37\", \"2019-10-29T10:26:39\", \"2019-10-29T11:50:41\", \"2019-10-29T13:23:37\", \"2019-10-29T14:47:39\", \"2019-10-29T16:29:37\", \"2019-10-29T17:41:38\", \"2019-10-29T18:53:41\", \"2019-10-29T20:44:38\", \"2019-10-29T23:32:40\", \"2019-10-30T01:26:38\", \"2019-10-30T02:11:38\", \"2019-10-30T04:29:41\", \"2019-10-30T05:29:44\", \"2019-10-30T07:29:48\", \"2019-10-30T08:20:47\", \"2019-10-30T10:26:44\", \"2019-10-30T11:47:47\", \"2019-10-30T13:29:44\", \"2019-10-30T14:50:44\", \"2019-10-30T16:26:45\", \"2019-10-30T17:38:44\", \"2019-10-30T18:59:52\", \"2019-10-30T20:26:43\", \"2019-10-30T23:56:44\", \"2019-10-31T01:29:45\", \"2019-10-31T02:41:49\", \"2019-10-31T04:29:50\", \"2019-10-31T05:17:48\", \"2019-10-31T07:29:51\", \"2019-10-31T08:47:55\", \"2019-10-31T10:29:47\", \"2019-10-31T11:50:53\", \"2019-10-31T13:29:50\", \"2019-10-31T14:35:48\", \"2019-10-31T16:29:48\", \"2019-10-31T17:56:53\", \"2019-10-31T18:59:53\", \"2019-10-31T20:32:50\", \"2019-10-31T23:32:53\", \"2019-11-01T01:29:52\", \"2019-11-01T02:29:52\", \"2019-11-01T04:23:57\", \"2019-11-01T05:56:53\", \"2019-11-01T07:29:56\", \"2019-11-01T08:20:53\", \"2019-11-01T10:20:56\", \"2019-11-01T11:14:56\", \"2019-11-01T13:26:56\", \"2019-11-01T14:36:00\", \"2019-11-01T15:05:56\", \"2019-11-01T16:26:58\", \"2019-11-01T17:54:00\", \"2019-11-01T18:50:58\", \"2019-11-01T20:33:01\", \"2019-11-01T23:39:00\", \"2019-11-02T01:20:57\", \"2019-11-02T02:27:01\", \"2019-11-02T04:27:07\", \"2019-11-02T07:29:59\", \"2019-11-02T10:27:09\", \"2019-11-02T13:30:05\", \"2019-11-02T16:27:06\", \"2019-11-02T18:57:03\", \"2019-11-03T01:30:08\", \"2019-11-03T05:30:09\", \"2019-11-03T08:30:06\", \"2019-11-03T11:30:06\", \"2019-11-03T14:27:08\", \"2019-11-03T17:27:16\", \"2019-11-03T18:57:08\", \"2019-11-04T02:30:15\", \"2019-11-04T05:19:38\", \"2019-11-04T05:39:49\", \"2019-11-04T05:51:14\", \"2019-11-05T23:20:11\", \"2019-11-06T00:33:04\", \"2019-11-06T03:14:23\", \"2019-11-06T03:41:34\", \"2019-11-06T05:54:52\", \"2019-11-06T07:44:23\", \"2019-11-06T12:56:43\", \"2019-11-07T03:00:24\", \"2019-11-07T07:53:21\", \"2019-11-07T13:09:04\", \"2019-11-07T16:41:42\", \"2019-11-07T19:33:02\", \"2019-11-08T00:54:25\", \"2019-11-08T02:46:08\", \"2019-11-08T06:13:07\", \"2019-11-08T07:33:16\", \"2019-11-08T17:00:47\", \"2019-11-08T19:23:45\", \"2019-11-09T00:43:38\", \"2019-11-09T01:08:06\", \"2019-11-09T01:43:07\", \"2019-11-09T06:38:46\", \"2019-11-09T06:51:48\", \"2019-11-09T08:34:27\", \"2019-11-09T10:00:57\", \"2019-11-09T15:04:24\", \"2019-11-09T17:46:57\", \"2019-11-09T19:03:26\", \"2019-11-09T19:08:28\", \"2019-11-09T22:04:32\", \"2019-11-10T03:20:18\", \"2019-11-10T04:53:37\", \"2019-11-10T05:19:38\", \"2019-11-10T06:15:47\", \"2019-11-10T08:39:08\", \"2019-11-10T12:57:47\", \"2019-11-10T13:37:39\", \"2019-11-10T15:46:06\", \"2019-11-10T16:38:45\", \"2019-11-10T18:16:48\", \"2019-11-10T18:45:16\", \"2019-11-10T20:28:08\", \"2019-11-11T00:38:29\", \"2019-11-11T01:00:48\", \"2019-11-11T03:36:57\", \"2019-11-11T05:41:19\", \"2019-11-11T06:30:07\", \"2019-11-11T08:54:16\", \"2019-11-11T11:30:48\", \"2019-11-11T11:51:07\", \"2019-11-11T12:35:37\", \"2019-11-11T14:31:57\", \"2019-11-11T17:53:37\", \"2019-11-11T18:09:48\", \"2019-11-11T21:44:58\", \"2019-11-12T00:08:27\", \"2019-11-12T02:22:07\", \"2019-11-12T03:22:47\", \"2019-11-12T03:59:37\", \"2019-11-12T06:20:07\", \"2019-11-12T07:16:37\", \"2019-11-12T09:53:59\", \"2019-11-12T11:09:57\", \"2019-11-12T11:53:57\", \"2019-11-12T12:26:47\", \"2019-11-12T14:14:58\", \"2019-11-12T15:35:17\", \"2019-11-12T16:40:17\", \"2019-11-12T18:00:16\", \"2019-11-12T18:08:48\", \"2019-11-12T21:54:08\", \"2019-11-12T23:09:38\", \"2019-11-13T00:57:57\", \"2019-11-13T04:45:28\", \"2019-11-13T06:55:08\", \"2019-11-13T07:35:36\", \"2019-11-13T08:06:38\", \"2019-11-13T09:45:18\", \"2019-11-13T10:10:18\", \"2019-11-13T12:51:07\", \"2019-11-13T13:26:57\", \"2019-11-13T15:26:07\", \"2019-11-15T00:33:22\", \"2019-11-15T03:45:55\", \"2019-11-15T04:37:49\", \"2019-11-15T05:34:07\", \"2019-11-15T06:46:19\", \"2019-11-15T09:51:19\", \"2019-11-15T10:44:07\", \"2019-11-15T12:43:30\", \"2019-11-15T12:43:31\", \"2019-11-15T15:43:07\", \"2019-11-15T16:39:31\", \"2019-11-15T18:36:54\", \"2019-11-15T18:44:06\", \"2019-11-15T21:54:42\", \"2019-11-15T22:37:01\", \"2019-11-16T00:40:19\", \"2019-11-16T02:44:31\", \"2019-11-16T04:37:44\", \"2019-11-16T06:42:36\", \"2019-11-16T09:44:36\", \"2019-11-16T11:18:55\", \"2019-11-16T12:28:19\", \"2019-11-16T14:22:55\", \"2019-11-16T16:45:52\", \"2019-11-16T16:54:13\", \"2019-11-16T20:30:43\", \"2019-11-17T00:05:18\", \"2019-11-17T02:00:48\", \"2019-11-17T03:23:24\", \"2019-11-17T04:24:42\", \"2019-11-17T05:28:12\", \"2019-11-17T05:36:31\", \"2019-11-17T09:19:00\", \"2019-11-17T12:02:37\", \"2019-11-17T15:44:53\", \"2019-11-17T15:45:54\", \"2019-11-17T17:40:19\", \"2019-11-17T21:45:30\", \"2019-11-17T21:46:48\", \"2019-11-18T00:32:49\", \"2019-11-18T04:00:41\", \"2019-11-18T07:46:26\", \"2019-11-18T09:14:55\", \"2019-11-18T12:12:26\", \"2019-11-18T16:15:06\", \"2019-11-18T18:13:55\", \"2019-11-18T20:13:53\", \"2019-11-18T21:40:06\", \"2019-11-19T00:03:01\", \"2019-11-19T01:47:56\", \"2019-11-19T09:33:50\", \"2019-11-19T11:54:53\", \"2019-11-19T13:29:56\", \"2019-11-19T16:52:14\", \"2019-11-20T06:46:30\", \"2019-11-20T07:38:07\", \"2019-11-20T09:49:36\", \"2019-11-20T11:30:08\", \"2019-11-20T12:33:20\", \"2019-11-20T21:55:37\", \"2019-11-21T00:16:49\", \"2019-11-21T00:54:27\", \"2019-11-21T03:37:45\", \"2019-11-21T04:43:38\", \"2019-11-21T12:43:45\", \"2019-11-21T15:55:46\", \"2019-11-21T18:43:46\", \"2019-11-21T21:37:46\", \"2019-11-22T00:37:52\", \"2019-11-22T02:24:15\", \"2019-11-22T03:59:04\", \"2019-11-22T05:28:00\", \"2019-11-22T06:07:36\", \"2019-11-22T09:51:29\", \"2019-11-22T11:28:12\", \"2019-11-22T12:55:23\", \"2019-11-22T14:19:30\", \"2019-11-22T15:37:05\", \"2019-11-22T15:45:13\", \"2019-11-22T15:45:35\", \"2019-11-23T20:59:39\", \"2019-11-24T00:43:47\", \"2019-11-24T03:48:38\", \"2019-11-24T03:56:09\", \"2019-11-24T07:57:38\", \"2019-11-24T08:47:57\", \"2019-11-24T09:12:08\", \"2019-11-24T12:08:07\", \"2019-11-24T15:31:26\", \"2019-11-24T16:18:26\", \"2019-11-24T16:58:57\", \"2019-11-25T01:06:48\", \"2019-11-25T05:44:29\", \"2019-11-25T07:13:38\", \"2019-11-25T13:30:47\", \"2019-11-25T14:12:16\", \"2019-11-25T20:15:41\", \"2019-11-25T23:02:09\", \"2019-11-25T23:39:20\", \"2019-11-26T02:35:31\", \"2019-11-26T03:15:34\", \"2019-11-26T08:03:21\", \"2019-11-26T09:48:43\", \"2019-11-26T11:05:52\", \"2019-11-26T17:56:13\", \"2019-11-26T21:00:55\", \"2019-11-26T23:17:53\", \"2019-11-27T01:17:43\", \"2019-11-27T01:40:23\", \"2019-11-27T04:06:53\", \"2019-11-27T06:28:33\", \"2019-11-27T06:43:14\", \"2019-11-27T07:59:13\", \"2019-11-27T11:57:42\", \"2019-11-27T14:48:14\", \"2019-11-27T16:20:42\", \"2019-11-27T17:40:25\", \"2019-11-27T18:30:14\", \"2019-11-27T20:11:32\", \"2019-11-28T00:44:03\", \"2019-11-28T00:44:04\", \"2019-11-28T03:48:34\", \"2019-11-28T04:55:03\", \"2019-11-28T06:05:04\", \"2019-11-28T06:52:55\", \"2019-11-28T09:43:14\", \"2019-11-28T11:54:03\", \"2019-11-28T12:42:04\", \"2019-11-28T15:42:53\", \"2019-11-28T18:47:53\", \"2019-11-28T18:50:34\", \"2019-11-28T20:52:15\", \"2019-11-29T00:03:31\", \"2019-11-29T00:16:04\", \"2019-11-29T02:20:34\", \"2019-11-29T06:48:14\", \"2019-11-29T08:00:03\", \"2019-11-29T09:28:53\", \"2019-11-29T10:59:23\", \"2019-11-29T12:41:43\", \"2019-11-29T14:04:23\", \"2019-11-29T15:35:24\", \"2019-11-29T16:44:13\", \"2019-11-29T17:20:02\", \"2019-11-29T18:47:04\", \"2019-11-29T21:24:14\", \"2019-11-30T00:27:45\", \"2019-11-30T02:15:43\", \"2019-11-30T03:40:24\", \"2019-11-30T05:20:54\", \"2019-11-30T06:51:23\", \"2019-11-30T07:04:25\", \"2019-11-30T09:43:53\", \"2019-11-30T11:23:34\", \"2019-11-30T12:14:04\", \"2019-11-30T12:44:12\", \"2019-11-30T15:18:04\", \"2019-11-30T16:57:24\", \"2019-11-30T17:53:04\", \"2019-11-30T18:38:05\", \"2019-11-30T21:24:04\", \"2019-12-01T00:11:03\", \"2019-12-01T00:42:44\", \"2019-12-01T03:29:53\", \"2019-12-01T04:59:14\", \"2019-12-01T06:41:14\", \"2019-12-01T07:19:14\", \"2019-12-01T08:40:13\", \"2019-12-01T11:15:44\", \"2019-12-01T15:49:03\", \"2019-12-01T16:53:20\", \"2019-12-01T17:14:54\", \"2019-12-03T03:54:04\", \"2019-12-03T05:24:03\", \"2019-12-03T06:45:16\", \"2019-12-03T07:06:27\", \"2019-12-03T09:26:52\", \"2019-12-03T09:28:09\", \"2019-12-03T12:36:45\", \"2019-12-03T15:38:40\", \"2019-12-03T16:58:51\", \"2019-12-03T17:55:45\", \"2019-12-03T18:43:16\", \"2019-12-03T21:16:43\", \"2019-12-04T00:50:34\", \"2019-12-04T02:25:15\", \"2019-12-04T03:11:40\", \"2019-12-04T03:15:57\", \"2019-12-04T06:37:21\", \"2019-12-04T09:18:28\", \"2019-12-04T12:52:45\", \"2019-12-04T14:13:45\", \"2019-12-04T15:38:15\", \"2019-12-04T18:32:40\", \"2019-12-04T21:06:03\", \"2019-12-04T21:27:45\", \"2019-12-05T00:20:10\", \"2019-12-05T02:55:40\", \"2019-12-05T04:02:39\", \"2019-12-05T06:16:17\", \"2019-12-05T08:36:40\", \"2019-12-05T11:02:03\", \"2019-12-05T14:29:02\", \"2019-12-05T17:56:56\", \"2019-12-06T00:30:46\", \"2019-12-06T00:56:25\", \"2019-12-06T07:50:08\", \"2019-12-06T12:49:33\", \"2019-12-06T13:13:39\", \"2019-12-06T13:13:40\", \"2019-12-06T18:56:45\", \"2019-12-06T21:45:21\", \"2019-12-06T22:31:02\", \"2019-12-07T03:52:11\", \"2019-12-07T04:17:50\", \"2019-12-08T09:45:17\", \"2019-12-08T11:28:05\", \"2019-12-08T12:51:52\", \"2019-12-08T14:31:06\", \"2019-12-08T15:15:53\", \"2019-12-08T15:15:55\", \"2019-12-09T00:52:04\", \"2019-12-09T02:31:02\", \"2019-12-09T03:54:11\", \"2019-12-09T04:01:20\", \"2019-12-09T04:16:09\", \"2019-12-09T08:04:10\", \"2019-12-09T12:40:16\", \"2019-12-09T15:46:14\", \"2019-12-09T18:28:15\", \"2019-12-09T21:22:14\", \"2019-12-10T00:31:18\", \"2019-12-10T03:49:18\", \"2019-12-10T06:07:18\", \"2019-12-10T08:25:18\", \"2019-12-10T12:46:20\", \"2019-12-10T15:40:22\", \"2019-12-10T18:28:23\", \"2019-12-10T21:46:19\", \"2019-12-10T22:50:20\", \"2019-12-11T02:32:08\", \"2019-12-11T03:53:50\", \"2019-12-11T04:13:46\", \"2019-12-11T04:35:37\", \"2019-12-11T16:47:01\", \"2019-12-12T06:36:13\", \"2019-12-12T09:11:02\", \"2019-12-12T12:45:55\", \"2019-12-12T13:14:43\", \"2019-12-12T13:29:38\", \"2019-12-12T19:49:39\", \"2019-12-12T22:23:28\", \"2019-12-13T00:08:06\", \"2019-12-13T05:43:31\", \"2019-12-13T08:46:35\", \"2019-12-13T10:34:43\", \"2019-12-13T12:17:25\", \"2019-12-13T12:17:59\", \"2019-12-13T17:32:54\", \"2019-12-13T18:06:38\", \"2019-12-13T21:26:14\", \"2019-12-13T23:34:08\", \"2019-12-14T00:42:14\", \"2019-12-14T03:46:07\", \"2019-12-14T06:57:13\", \"2019-12-14T07:09:02\", \"2019-12-14T09:33:13\", \"2019-12-14T10:43:20\", \"2019-12-14T11:53:36\", \"2019-12-14T12:33:43\", \"2019-12-14T15:02:38\", \"2019-12-14T18:35:07\", \"2019-12-14T21:38:37\", \"2019-12-15T02:05:00\", \"2019-12-15T03:14:54\", \"2019-12-15T08:22:07\", \"2019-12-15T09:47:32\", \"2019-12-15T11:00:20\", \"2019-12-15T12:33:14\", \"2019-12-15T12:56:26\", \"2019-12-15T15:55:56\", \"2019-12-15T16:27:15\", \"2019-12-15T16:52:25\", \"2019-12-16T01:21:34\", \"2019-12-17T00:55:32\", \"2019-12-17T01:19:40\", \"2019-12-17T03:57:56\", \"2019-12-17T04:44:18\", \"2019-12-17T05:35:02\", \"2019-12-17T06:43:08\", \"2019-12-17T09:46:08\", \"2019-12-17T11:11:24\", \"2019-12-17T12:17:14\", \"2019-12-17T12:19:14\", \"2019-12-17T15:47:13\", \"2019-12-17T16:35:26\", \"2019-12-17T18:44:08\", \"2019-12-17T21:52:13\", \"2019-12-17T23:11:14\", \"2019-12-18T00:42:19\", \"2019-12-18T03:38:14\", \"2019-12-18T04:08:24\", \"2019-12-18T05:31:36\", \"2019-12-18T06:46:07\", \"2019-12-18T09:39:26\", \"2019-12-18T11:27:43\", \"2019-12-18T11:57:37\", \"2019-12-18T12:48:44\", \"2019-12-18T15:57:56\", \"2019-12-18T16:50:38\", \"2019-12-18T17:26:08\", \"2019-12-18T17:45:42\", \"2019-12-18T21:35:56\", \"2019-12-18T21:40:20\", \"2019-12-19T00:54:44\", \"2019-12-19T03:29:42\", \"2019-12-19T04:32:49\", \"2019-12-19T06:24:37\", \"2019-12-19T09:51:38\", \"2019-12-19T10:03:08\", \"2019-12-19T12:38:07\", \"2019-12-19T12:53:44\", \"2019-12-19T13:33:56\", \"2019-12-19T18:50:21\", \"2019-12-19T21:20:46\", \"2019-12-19T21:38:57\", \"2019-12-20T00:51:34\", \"2019-12-20T03:15:33\", \"2019-12-20T03:33:16\", \"2019-12-20T06:25:14\", \"2019-12-20T06:48:31\", \"2019-12-20T08:51:51\", \"2019-12-20T11:19:40\", \"2019-12-20T15:08:38\", \"2019-12-20T16:02:14\", \"2019-12-20T16:31:15\", \"2019-12-20T20:52:20\", \"2019-12-20T21:30:09\", \"2019-12-20T22:08:21\", \"2019-12-21T06:38:33\", \"2019-12-21T11:13:34\", \"2019-12-21T15:11:33\", \"2019-12-22T03:55:11\", \"2019-12-22T05:25:02\", \"2019-12-22T06:37:31\", \"2019-12-22T08:30:12\", \"2019-12-22T09:46:11\", \"2019-12-22T11:25:31\", \"2019-12-22T12:50:50\", \"2019-12-22T14:29:52\", \"2019-12-22T15:52:20\", \"2019-12-22T16:32:40\", \"2019-12-22T16:32:41\", \"2019-12-23T00:58:31\", \"2019-12-23T02:31:31\", \"2019-12-23T02:50:10\", \"2019-12-23T03:48:38\", \"2019-12-23T06:18:39\", \"2019-12-23T08:18:45\", \"2019-12-23T12:30:42\", \"2019-12-23T15:36:43\", \"2019-12-23T18:42:43\", \"2019-12-23T21:12:48\", \"2019-12-23T23:18:47\", \"2019-12-24T03:30:48\", \"2019-12-24T06:12:43\", \"2019-12-24T09:48:49\", \"2019-12-24T11:54:44\", \"2019-12-24T13:00:49\", \"2019-12-24T15:48:54\", \"2019-12-24T18:36:56\", \"2019-12-24T21:56:43\", \"2019-12-25T00:40:30\", \"2019-12-25T02:30:36\", \"2019-12-25T03:47:47\", \"2019-12-25T05:23:59\", \"2019-12-25T06:54:54\", \"2019-12-25T07:28:47\", \"2019-12-25T07:28:48\", \"2019-12-25T18:41:30\", \"2019-12-26T02:30:18\", \"2019-12-26T04:03:30\", \"2019-12-26T08:01:24\", \"2019-12-26T15:46:48\", \"2019-12-26T16:12:22\", \"2019-12-26T20:45:47\", \"2019-12-27T00:22:47\", \"2019-12-27T00:29:33\", \"2019-12-27T03:41:07\", \"2019-12-27T06:43:00\", \"2019-12-27T07:25:12\", \"2019-12-27T09:03:06\", \"2019-12-27T12:14:30\", \"2019-12-27T13:04:05\", \"2019-12-27T14:58:12\", \"2019-12-27T17:59:29\", \"2019-12-27T18:37:23\", \"2019-12-27T20:58:55\", \"2019-12-28T00:41:00\", \"2019-12-28T00:46:30\", \"2019-12-28T03:56:00\", \"2019-12-28T05:28:30\", \"2019-12-28T06:36:00\", \"2019-12-28T08:29:11\", \"2019-12-28T09:47:24\", \"2019-12-28T11:09:23\", \"2019-12-28T12:42:06\", \"2019-12-28T12:49:17\", \"2019-12-28T15:26:54\", \"2019-12-28T15:32:16\", \"2019-12-28T17:32:12\", \"2019-12-28T18:55:13\", \"2019-12-28T21:45:05\"], \"lat\": [24.8876, 24.8912, 24.8982, 24.9105, 25.0135, 24.9233, 24.9642, 24.8333, 24.866999999999997, 24.9197, 24.9161, 24.8635, 24.925, 24.8827, 24.8936, 24.7914, 25.1753, 25.2091, 25.2091, 24.9132, 24.4366, 22.69, 22.2269, 13.7856, 8.7665, 6.2035, 1.5552, 1.0859, 0.7326, -0.0041, -2.0721, -2.2783, -2.3599, -2.5269, -2.4973, -2.4109, -2.4413, -2.3892, -2.3912, -2.4244, -2.4248, -2.4242, -2.4088, -2.4902, -2.4957, -2.5419, -2.381, -2.2246, -2.1471, -2.0541, -1.3688, -0.4543, 0.1961, 1.2546, 1.9472, 2.5771, 3.1884, 6.0546, 8.8888, 22.6061, 22.5724, 22.5425, 23.0067, 24.9715, 25.2091, 25.2091, 25.1922, 24.7274, 24.6152, 23.3271, 22.6875, 13.1299, 6.8095, 3.8987, 2.4018, 1.4585, 0.4025, 0.0593, -1.5401, -2.2087, -2.4043, -2.5281, -2.5222, -2.4873, -2.4418, -2.4174, -2.4251, -2.4085, -2.4876, -2.5119, -2.511, -2.4333, -1.3956, -1.1217, 0.3313, 1.3416, 1.7063, 2.4698, 3.4416, 4.82, 6.2877, 7.5393, 10.7773, 13.4434, 22.7342, 23.0916, 24.0555, 24.4368, 24.8685, 25.2076, 25.2091, 25.1982, 24.7388, 24.6446, 22.8992, 22.5739, 8.177, 4.8951, 3.4705, 2.6523, 1.1842, 0.63, -0.0753, -0.708, -0.9313, -1.973, -2.1047, -2.2076, -2.4526, -2.483, -2.5268, -2.523, -2.5066, -2.4915, -2.4684, -2.4102, -2.3967, -2.4251, -2.4251, -2.3912, -2.4772, -2.4891, -2.2659, -2.1574, -1.6652, -0.2601, 1.1199, 1.8395, 3.7680000000000002, 4.2928, 5.2103, 6.8711, 10.213, 11.802999999999999, 13.4117, 16.96, 17.7406, 18.785, 18.9033, 20.26, 20.3267, 22.5199, 22.6457, 24.7352, 24.9845, 24.9838, 24.9871, 24.9846, 24.9837, 25.0451, 25.2091, 25.2091, 25.2091, 25.2091, 25.2091, 25.2091, 25.2091, 25.2091, 25.2091, 25.2091, 25.2091, 25.2091, 25.2091, 25.2091, 25.2091, 25.2091, 25.2091, 25.1169, 24.5418, 22.6402, 22.5342, 21.7433, 21.2433, 21.6946, 21.57, 21.2458, 21.5498, 21.7258, 21.8991, 22.0466, 22.1297, 22.1393, 22.1568, 22.1567, 22.1566, 22.1567, 22.1564, 22.1564, 22.1551, 22.105999999999998, 22.1019, 22.1017, 22.1009, 22.1005, 22.1005, 22.1011, 22.1013, 22.1013, 22.0767, 22.0756, 22.0737, 22.0746, 22.0758, 22.0761, 22.0761, 22.0744, 22.0747, 22.0744, 22.0743, 22.0878, 22.0879, 22.0886, 22.0877, 22.0874, 22.087, 22.0874, 22.087, 22.1253, 22.0707, 22.0706, 22.0723, 22.0723, 22.0716, 22.0745, 22.5104, 22.4997, 22.49978667, 22.5046, 22.5045, 22.311004999999998, 22.50060167, 22.500625, 22.500632, 22.50062, 22.500629999999997, 22.50065333, 22.50062333, 22.50064667, 22.500635, 22.50061167, 22.50059833, 22.50062167, 22.500629999999997, 22.50062833, 22.50063833, 22.50062333, 22.50064, 22.50064667, 22.50061167, 22.50064, 22.50059667, 22.500605, 22.50063667, 22.50060833, 22.500664999999998, 22.50062667, 22.50061, 22.500605, 22.50060833, 22.50062333, 22.50064167, 22.500635, 22.50064, 22.50059333, 22.500605, 22.50059333, 22.50063667, 22.50062167, 22.500629999999997, 22.50063667, 22.50062333, 22.50061833, 22.50060667, 22.50060833, 22.50062833, 22.500645000000002, 22.50062, 22.500635, 22.50062167, 22.50062667, 22.50059, 22.50061, 22.500615, 22.32628, 21.8173867, 22.04867, 22.093066699999998, 22.093435, 22.09337667, 22.093085000000002, 22.09306, 22.0929167, 22.09293333, 22.09234333, 22.0936783, 22.09244667, 22.09291, 22.157907, 22.156906699999997, 22.15598667, 22.15715667, 22.156645, 22.157378, 22.156264999999998, 22.15601167, 22.157220000000002, 22.156608, 22.156181699999998, 22.156635, 22.15694, 22.15706, 22.15706, 22.157083, 22.15708167, 22.15591833, 22.15654667, 22.1571, 22.15707, 22.156470000000002, 22.15667667, 22.156677, 22.15554333, 22.15554, 22.1557767, 22.155393, 22.1571267, 22.157313000000002, 22.157662, 22.12196833, 21.798415, 21.732960000000002, 13.86991167, 13.840101999999998, 13.555732, 12.77533667, 12.628975, 12.08953, 11.90398667, 9.936958333, 9.634606667, 9.375238332999999, 8.934073332999999, 8.798206667, 8.502698333, 8.32006, 7.364905, 7.103658332999999, 6.757205, 5.99912, 5.966766667000001, 5.2485599999999994, 5.062305, 4.800257, 4.11201, 3.5971, 3.33259, 3.184615, 2.83459, 2.606235, 2.5767133330000003, 2.105775, 1.9743950000000001, 1.706205, 1.397225, 0.605815, 0.475832, -0.115151667, -0.264673, -0.8982933329999999, -1.0763850000000001, -1.76148, -1.8664880000000001, -2.104321667, -2.274816667, -2.30178, -2.4720433330000002, -2.538173, -2.53368, -2.529953333, -2.507523333, -2.490663, -2.4736599999999997, -2.466852, -2.4142066669999998, -2.367013, -2.391317, -2.413106667, -2.425111667, -2.425121667, -2.425093333, -2.425105, -2.395538333, -2.405993, -2.4553216669999998, -2.489057, -2.4994333330000003, -2.509588, -2.528195, -2.493686667, -2.425688, -2.313143333, -2.302092, -2.149645, -2.093467, -1.915818333, -1.6924580000000002, -1.165565, -0.8452299999999999, -0.688982, -0.40811833299999994, 0.304062, 0.343843333, 0.722495, 1.7939033, 2.291892, 2.467728333, 2.698195, 2.771035, 2.821625, 2.9204733330000003, 3.048353333, 3.1162, 3.250911667, 3.443247, 3.495631667, 3.7146800000000004, 3.872935, 3.931223, 4.032012, 4.04389, 4.261233, 4.278146667, 4.52502, 5.532563333, 5.928688332999999, 5.974063332999999, 5.985606667000001, 7.609588333, 8.079138333, 8.997268333, 9.572308332999999, 11.50789167, 11.676237, 12.929435, 14.592435, 16.080817, 22.726212, 23.30215833, 23.593425, 23.86954167, 23.88153667, 24.64245333, 24.917428, 25.047655, 25.199883, 25.209125, 25.209125, 25.209118, 25.20911833, 25.209122, 25.20909833, 25.209107, 25.20909833, 25.209065, 25.20908333, 25.209118, 25.20907667, 25.209097, 25.2090967, 25.209107, 25.209120000000002, 24.9832617, 24.718865, 24.40383333, 23.60776667, 23.089232, 22.86039333, 22.650217, 22.35987833, 22.359878, 17.359565, 14.62046333, 13.58032, 12.639418, 10.544492, 9.29117, 7.526113333, 5.241282, 4.174167, 3.100075, 2.732247, 1.314202, 0.8475600000000001, -0.73049, -1.843652, -2.189098, -2.309578333, -2.3695779999999997, -2.543315, -2.511757, -2.503405, -2.51071, -2.520952, -2.5895650000000003, -2.51655, -2.613378333, -2.522063, -2.508203333, -2.503607, -2.48325, -2.481423, -2.470132, -2.43664, -2.43585, -2.393105, -2.41575, -2.425105, -2.392103, -2.4052729999999998, -2.423257, -2.477273, -2.507733, -2.5289599999999997, -2.53277, -2.460953, -2.2810099999999998, -2.166425, -2.090005, -2.0804869999999998, -1.434315, -1.005127, -0.661868, -0.582468, 0.285503, 1.135383, 1.198727, 2.057488, 2.138543, 2.812448, 2.8264970000000003, 3.6592569999999998, 4.170083, 4.559457, 5.022851999999999, 5.267458, 5.904344999999999, 5.949653, 6.737439999999999, 7.02578, 7.475557000000001, 7.813642, 8.08773, 8.508553, 9.609772999999999, 10.174073, 10.35618, 10.828658, 12.5231, 13.311117000000001, 13.697104999999999, 14.664087, 14.746504999999999, 15.143626999999999, 16.072348, 18.418958, 22.580325, 22.661414999999998, 22.357735, 22.277737, 22.254137, 22.431727, 22.591782000000002, 22.321755, 22.299022, 22.009385, 22.394865, 22.469513, 22.468132999999998, 22.07702, 22.35164, 22.675114999999998, 22.890538, 23.223118, 23.438933, 23.827978, 24.038417000000003, 24.16892, 24.233060000000002, 24.467817999999998, 24.554976999999997, 24.500638000000002, 24.807018, 24.968907, 25.11573, 25.209088, 25.209098, 25.209101999999998, 25.209104999999997, 24.931668, 24.686392, 24.389075, 23.776882999999998, 23.455482999999997, 22.921878, 22.5332, 22.24537, 22.241625, 13.567785, 12.311648, 11.370202, 8.668355, 7.5947, 7.230635, 7.099178, 6.178045, 4.989072, 4.881917, 4.8510349999999995, 3.9170949999999998, 3.646127, 3.5067730000000004, 3.456922, 2.747697, 2.5792919999999997, 2.021605, 1.862175, 1.1655719999999998, 0.9747129999999999, 0.5513399999999999, -0.0685, -0.19633699999999998, -0.550822, -0.593463, -1.434397, -1.605543, -1.765555, -2.02752, -2.1838900000000003, -2.202497, -2.303552, -2.394972, -2.4862349999999998, -2.533397, -2.526482, -2.6003950000000002, -2.859302, -2.6106979999999997, -2.634788, -2.510038, -2.55428, -2.602305, -2.577337, -2.41983, -2.43887, -2.431692, -2.416788, -2.4168580000000004, -2.392953, -2.390695, -2.423063, -2.400922, -2.389685, -2.43945, -2.500003, -2.521305, -2.471278, -2.297555, -2.1584119999999998, -1.7807549999999999, -1.13994, -0.5810649999999999, -0.330902, 0.317763, 0.943498, 1.826057, 2.4859970000000002, 3.175417, 3.6413300000000004, 4.551273, 5.667943, 7.550287, 8.0612, 8.42355, 9.014008, 9.698107, 10.48755, 10.951455000000001, 11.59763, 12.623917, 12.900762, 14.147323000000002, 14.711847, 15.241403, 21.170867, 22.896288000000002, 23.81515, 24.451168, 24.644382999999998, 24.619208, 24.844747, 25.009355, 25.171372, 25.209107999999997, 25.209104999999997, 24.892725, 24.556072, 24.11204, 23.807067, 23.440593, 23.024247, 22.934717000000003, 22.830657000000002, 22.199992, 22.071932999999998, 20.648432, 6.867592, 5.974069999999999, 5.814882, 5.247945, 5.17161, 5.10072, 4.925762000000001, 4.592823, 4.342169999999999, 4.285283, 3.7542699999999996, 3.4853120000000004, 2.6736880000000003, 2.33541, 2.01002, 1.555082, 1.440712, 0.894863, 0.615997, 0.428357, 0.32001999999999997, -0.220667, -0.727618, -0.972807, -1.183222, -1.590442, -1.947498, -2.057378, -2.27475, -2.448208, -2.539, -2.526427, -2.521073, -2.516953, -2.502247, -2.496633, -2.5414470000000002, -2.529913, -2.506093, -2.417525, -2.42142, -2.425118, -2.3898080000000004, -2.420692, -2.4189, -2.4435830000000003, -2.501998, -2.5156330000000002, -2.531862, -2.533117, -2.4577400000000003, -2.3834880000000003, -2.38036, -2.210777, -2.1244680000000002, -2.106163, -2.038843, -1.48584, -1.459192, -0.8821549999999999, -0.160955, 0.131082, 0.388338, 0.627592, 1.340573, 1.37, 2.872468, 3.26396, 4.216543, 5.163869999999999, 5.336582, 6.020253, 6.170577, 6.6179820000000005, 6.781047, 6.9984, 7.629747, 7.974857000000001, 8.246733, 8.39179, 8.995138, 10.36346, 10.824323, 11.341038000000001, 12.268155, 13.017897999999999, 13.595803, 14.698360000000001, 15.034493, 15.034493, 16.034882999999997, 16.128273, 16.181698, 17.61095, 22.489008, 22.7688, 23.081017000000003, 23.335233, 23.742963, 23.947618, 24.104782999999998, 24.178893, 24.342197, 24.583938, 24.668712, 24.917892000000002, 25.068873, 25.209088, 25.209083, 25.209095, 25.209083, 24.994052, 24.701220000000003, 24.418218, 23.832825, 23.524157000000002, 22.940737, 22.540457, 22.070795, 22.070795, 16.303755, 13.569825, 12.732978, 9.741112, 8.83508, 7.708788, 6.2104099999999995, 4.409508, 2.62236, 2.436415, 1.811565, 1.395758, 0.95942, 0.454797, 0.15598299999999998, -0.576222, -0.6697350000000001, -1.468367, -2.0918099999999997, -2.128973, -2.280728, -2.373108, -2.452778, -2.544747, -2.5295080000000003, -2.5230029999999997, -2.657073, -2.50026, -2.463822, -2.4646049999999997, -2.417025, -2.3920169999999996, -2.4223169999999996, -2.423355, -2.396882, -2.416097, -2.451628, -2.4902900000000003, -2.507863, -2.5198549999999997, -2.531392, -2.51226, -2.323143, -2.166928, -2.062607, -1.925125, -1.383705, -0.876107, -0.798805, -0.025613, 0.261648, 0.604952, 0.816543, 1.505482, 1.5946799999999999, 2.437232, 2.491103, 2.410823, 2.2808330000000003, 2.3140080000000003, 2.4260450000000002, 2.763043, 2.7854970000000003, 3.144675, 3.348082, 4.294475, 4.665898, 4.765827, 4.659668, 4.38185, 4.249355, 4.604191999999999, 5.090358, 5.146344999999999, 5.4972650000000005, 5.7491449999999995, 6.078835, 6.266812, 6.635325, 7.050837, 8.959478, 9.303425, 9.844545, 11.073182000000001, 12.200717, 13.494663000000001, 13.620735, 13.89285, 14.509525, 15.394238, 16.023512, 16.647428, 19.830525, 22.554342000000002, 22.695172, 23.040136999999998, 23.780555, 23.892243, 24.500647, 24.663970000000003, 24.94918, 25.07426, 25.209120000000002, 25.209115, 24.652642999999998, 23.862362, 23.478417, 23.019223, 22.658695, 22.261077, 21.965917, 21.965917, 14.603095000000001, 14.449720000000001, 14.380935000000001, 13.577879999999999, 10.17277, 5.144672, 3.6829370000000003, 3.3692330000000004, 3.3410370000000005, 2.728225, 1.7801, 0.71197, 0.022917, -0.315727, -0.401447, -0.41222299999999995, -0.969985, -1.214915, -1.2161, -1.938043, -2.032722, -2.2458169999999997, -2.147965, -2.5368169999999997, -2.525348, -2.526972, -2.5093400000000003, -2.513408, -2.5038270000000002, -2.4994549999999998, -2.4952900000000002, -2.46234, -2.440577, -2.4408, -2.4301880000000002, -2.42488, -2.395715, -2.391388, -2.425135, -2.419853, -2.40603, -2.419003, -2.506137, -2.520405, -2.521737, -2.30761, -2.3065450000000003, -2.100857, -2.0158549999999997, -1.747727, -1.607105, -0.376533, 0.263957, 1.025728, 1.5088620000000001, 1.8373669999999998, 2.24653, 2.4537400000000003, 3.659682, 3.943575, 4.8829400000000005, 5.067562000000001, 5.26397, 6.259957, 6.74337, 8.862219999999999, 9.460597, 10.412343, 10.769252999999999, 12.160097, 12.804738, 13.41601, 14.74629, 15.067665, 15.286175, 15.410314999999999, 16.10081, 18.770165, 22.098670000000002, 22.4681, 22.926707999999998, 23.348247, 23.854226999999998, 23.88243, 24.167648, 24.488248000000002, 24.683863, 24.923007000000002, 25.058472000000002, 25.209112, 25.209117000000003, 25.209117000000003, 25.209075, 24.975315, 24.795698, 24.450597, 23.848183, 23.524792, 22.981257, 22.60807, 22.299738, 22.295653, 17.30112, 16.091215, 14.196547, 13.564027, 13.327488, 12.907388000000001, 12.790988, 12.551692, 11.792114999999999, 10.601295, 9.469082, 8.156478, 7.986503, 6.9764029999999995, 6.548057, 6.14947, 5.530398, 4.717312000000001, 4.197147, 3.903478, 3.549428, 2.745243, 2.7326349999999997, 2.5071529999999997, 1.493362, 1.416775, 0.9055270000000001, 0.242245, -0.172657, -0.259738, -0.864643, -1.340383, -1.460905, -1.463897, -2.073027, -2.079077, -2.2304, -2.296152, -2.371752, -2.381895, -2.498032, -2.528942, -2.528507, -2.5417520000000002, -2.595828, -2.516343, -2.496182, -2.48675, -2.470132, -2.4749779999999997, -2.506043, -2.415738, -2.402733, -2.4023369999999997, -2.39533, -2.390125, -2.4250979999999998, -2.417655, -2.4648369999999997, -2.489843, -2.497225, -2.5198970000000003, -2.524875, -2.54577, -2.483832, -2.344793, -2.260902, -2.185632, -2.152468, -1.8842299999999998, -1.270023, -1.082417, -0.37093000000000004, -0.028898000000000004, 0.122367, 0.163168, 1.1474229999999999, 1.556437, 1.7871380000000001, 2.553293, 2.691782, 2.9880720000000003, 3.042305, 3.80864, 4.225307, 5.394048000000001, 5.635962, 5.855423, 6.817407000000001, 7.17811, 8.181188, 8.297143, 8.919737, 9.896035000000001, 10.232198, 10.459592, 10.655563, 11.031423, 11.208067999999999, 11.588918, 11.837117999999998, 12.545845, 13.046808, 13.1705, 13.689053, 14.523826999999999, 14.856187, 15.108807, 15.296852, 15.297892000000001, 16.048386999999998, 16.109308, 17.897333, 18.427526999999998, 19.161168, 22.978623000000002, 23.194873, 23.039587, 23.260578, 23.466153, 23.793702, 23.859820000000003, 24.009035, 24.541678, 24.445458, 24.667672, 24.871398000000003, 24.933757999999997, 25.195163, 25.207176999999998, 25.209095, 25.209077, 25.20909, 25.20908, 25.209073, 25.209078, 25.209053, 25.209087, 25.013458, 24.6828, 24.304443, 23.921707, 23.618963, 23.070153, 22.677598, 22.294427, 22.294427, 16.722447, 15.184103, 15.180295000000001, 14.362335, 14.362335, 12.604275, 12.294742999999999, 11.93732, 10.758707000000001, 10.60516, 8.753983, 8.054998, 8.010375, 5.238207, 4.373772, 3.642532, 3.620203, 2.360315, 2.240113, 2.749477, 2.169232, 2.036898, 1.4709219999999998, 0.820515, 0.656708, 0.019082, -0.48894499999999996, -0.7432949999999999, -1.3079020000000001, -1.330392, -2.00663, -2.06217, -2.179693, -2.361887, -2.456413, -2.540932, -2.517655, -2.494988, -2.5184919999999997, -2.3962630000000003, -2.424937, -2.396905, -2.421302, -2.477198, -2.481703, -2.525332, -2.529757, -2.536567, -2.347395, -2.203512, -1.97226, -1.343133, -0.650332, 0.171605, 1.058478, 1.703498, 3.041932, 3.997808, 4.365983, 4.614825, 5.278678, 5.911928, 6.184476999999999, 6.199503, 6.814541999999999, 7.109008, 7.560532000000001, 8.310872, 9.178094999999999, 9.41392, 10.115057, 10.402727, 11.963597, 11.967713, 12.501692, 13.170418, 13.363373000000001, 13.619638, 14.529888, 14.840625, 14.868393, 15.284429999999999, 15.366962, 15.995012, 16.158838, 16.413655, 16.624013, 17.870151999999997, 17.88423, 18.62893, 20.322867000000002, 22.402588, 22.68285, 23.005407, 23.279082, 23.720538, 23.940448, 23.977042, 24.529528, 24.823301999999998, 24.9786, 25.119668, 25.207503, 25.20899, 25.209112, 25.209087, 25.009058, 24.68202, 24.409637, 23.934701999999998, 23.627807, 23.182232, 22.822495, 22.427972, 22.209617, 22.209617, 21.762708, 14.464108, 13.560172, 13.05217, 12.715628, 12.532623, 12.354305, 11.922053, 10.20346, 9.564511999999999, 10.039143, 10.418952, 10.65007, 10.159317999999999, 9.977041999999999, 9.828008, 9.202097, 8.798585000000001, 7.891332000000001, 7.537783, 6.986657000000001, 6.633236999999999, 5.376673, 4.901838, 4.528233, 3.9512300000000002, 3.7694300000000003, 3.219753, 2.503637, 2.478512, 2.0676900000000002, 1.186825, 1.004893, 0.755787, 0.511905, 0.053277, -0.09993300000000001, -0.144463, -0.45869499999999996, -0.5267729999999999, -1.215835, -1.299015, -1.6902720000000002, -1.8598150000000002, -2.1239220000000003, -2.183135, -2.18367, -2.2637549999999997, -2.409815, -2.410973, -2.495352, -2.5359580000000004, -2.528005, -2.524565, -2.515733, -2.5290779999999997, -2.573152, -2.488755, -2.4866770000000002, -2.486063, -2.4885200000000003, -2.48847, -2.4759349999999998, -2.437185, -2.421325, -2.440877, -2.412417, -2.4244529999999997, -2.4251419999999997, -2.395393, -2.3965099999999997, -2.481552, -2.501975, -2.505757, -2.533722, -2.499037, -2.40212, -2.3766950000000002, -2.353, -2.233055, -2.105282, -2.032727, -1.935077, -1.192065, -1.048267, -0.624052, -0.4327, 0.138497, 0.889933, 1.222825, 1.923627, 2.46631, 2.4966049999999997, 2.763662, 3.411622, 3.828793, 3.8891430000000002, 4.251655, 4.841672, 5.422682, 5.638145, 5.826752, 6.319838, 7.213239999999999, 7.604908, 8.103908, 8.523017, 9.002728, 9.275373, 9.346927, 9.689528, 10.51907, 10.598428, 11.236733000000001, 11.834382000000002, 12.558572999999999, 12.786168, 13.013452000000001, 13.192997, 13.543942999999999, 13.549338, 14.489138, 14.788468, 15.108815, 15.291129999999999, 15.622482999999999, 16.153023, 16.569277, 17.788168, 22.513517, 22.761748, 23.132057, 23.439348000000003, 23.846622, 23.88813, 24.004853, 24.590048, 24.655195000000003, 24.847488000000002, 25.114228, 25.207373, 25.209125, 25.209132999999998, 25.209117000000003, 25.209103, 25.209092000000002, 25.209073, 25.209104999999997, 25.209098, 25.209065, 25.209087, 25.20906, 25.207908, 24.840757999999997, 24.412157, 24.058965, 23.86701, 23.71279, 23.346033, 22.919320000000003, 22.590027, 22.292727, 22.290848, 18.458373, 14.464935, 12.657695, 11.25358, 10.58977, 10.036142, 9.574843, 9.039591999999999, 8.138957000000001, 6.658647, 6.244843, 5.751277, 5.428242, 5.236712000000001, 5.073843, 4.366965, 3.8408029999999997, 3.8326800000000003, 3.339608, 2.891432, 2.4969900000000003, 1.760375, 0.464355, 0.376598, -0.06995499999999999, -0.563655, -0.8535219999999999, -1.296008, -1.402517, -2.00421, -2.0544919999999998, -2.166413, -2.5411029999999997, -2.537153, -2.528627, -2.592082, -2.716512, -2.536898, -2.518708, -2.488373, -2.485185, -2.521288, -2.548832, -2.461578, -2.4169970000000003, -2.459772, -2.4251169999999997, -2.42512, -2.390577, -2.3907700000000003, -2.402055, -2.431605, -2.483473, -2.483972, -2.511232, -2.529185, -2.5390599999999997, -2.4778700000000002, -2.3966119999999997, -2.372092, -2.200918, -0.514022, -0.453262, -0.289338, 0.014117, 0.392658, 0.745638, 0.9913350000000001, 1.3715950000000001, 1.972002, 2.544582, 2.811155, 3.439493, 5.126403, 5.381501999999999, 5.467763, 5.760363, 6.19994, 6.783225, 6.817775, 7.569872999999999, 8.345423, 9.051347999999999, 9.877252, 10.19791, 10.393272999999999, 11.202775, 12.627358000000001, 13.172898000000002, 13.466577, 14.92256, 15.281018, 15.400362, 16.18231, 16.216932, 16.525232, 22.526542000000003, 22.875632999999997, 23.272233, 23.624862, 23.913842000000002, 23.916503, 24.027197, 24.714378, 24.929292999999998, 25.042605, 25.199813, 25.209120000000002, 25.209127, 25.209103, 25.209097, 25.209095, 25.209085, 25.209065, 25.20907, 25.007476999999998, 24.686992, 24.549383, 24.494770000000003, 23.732768, 23.350758, 23.026854999999998, 22.586807999999998, 22.274973000000003, 22.272325, 14.41265, 14.009253, 13.976761999999999, 13.577568, 12.313352, 11.935212, 11.885975, 10.296417, 9.712565, 8.658398, 8.308938000000001, 7.702116999999999, 7.201743, 5.589303, 4.927942, 4.3341650000000005, 4.22368, 3.9562480000000004, 3.595928, 3.2832730000000003, 2.923807, 2.8175619999999997, 2.293767, 2.031747, 1.830343, 1.14516, 0.88592, 0.20684699999999998, 0.169355, -0.384477, -0.499213, -0.7951199999999999, -0.996567, -1.4257030000000002, -1.778303, -1.842193, -2.034927, -2.1252169999999997, -2.24609, -2.252365, -2.3791580000000003, -2.496047, -2.51871, -2.54245, -2.53689, -2.528218, -2.527952, -2.526162, -2.49914, -2.4977669999999996, -2.493257, -2.479823, -2.453867, -2.44238, -2.415755, -2.394068, -2.391398, -2.424007, -2.388992, -2.3925650000000003, -2.4240180000000002, -2.469668, -2.49688, -2.502322, -2.525052, -2.535873, -2.526563, -2.392963, -2.2917520000000002, -2.204343, -2.11388, -2.012637, -1.9000380000000001, -1.6753049999999998, -1.294582, -0.686542, -0.230783, -0.043664999999999995, 0.45775699999999997, 0.8705649999999999, 1.563268, 1.900148, 2.143795, 2.401862, 2.556727, 2.764773, 3.5179150000000003, 4.011732, 4.0392, 4.561932, 5.194217, 5.36646, 6.01411, 6.715863000000001, 6.807505, 7.392322999999999, 7.576808, 7.8054820000000005, 9.080295, 9.683925, 9.95738, 10.60789, 11.064411999999999, 11.571647, 12.679547, 13.426343, 14.841818, 14.881804999999998, 15.28885, 15.464235, 15.480251999999998, 16.639767000000003, 18.925045, 23.031993, 23.034335000000002, 23.364448, 23.706837, 23.874473000000002, 23.874473000000002, 23.890747, 24.678527, 24.941643, 25.207304999999998, 25.209077, 25.209132, 25.209113000000002, 25.209107, 25.209083, 25.209122, 25.209104999999997, 25.10431, 24.940942, 24.940495000000002, 24.9404, 24.940293, 24.940827, 24.940775, 24.940655, 24.940527, 24.940475, 24.939987, 24.94011, 24.940662, 24.941087, 24.940767, 24.941407, 24.94132, 24.940382, 24.940785, 24.94043, 24.940513, 24.940901999999998, 24.940602, 24.940755, 24.940673, 24.94118, 24.940368, 24.940327, 24.940393, 24.94059, 24.941013, 24.940785, 24.940412, 24.940195000000003, 24.940165, 24.940158, 24.940438, 24.940947, 24.941838, 24.941879999999998, 24.940755, 24.940075, 24.944553, 24.944418, 24.943402, 24.941828, 24.940657, 24.940412, 24.940343, 24.940525, 24.94313, 24.944108, 24.943197, 24.9412, 24.940565, 24.940553, 24.940873, 24.944512, 24.944526999999997, 24.943537, 24.941408, 24.940695, 24.940182, 24.940137, 24.940188, 24.941193, 24.94206, 24.940658, 24.941101999999997, 24.940493, 24.940598, 24.9412, 24.942495, 24.942917, 24.941893, 24.941155, 24.940904999999997, 24.940472, 24.940538, 24.940595000000002, 24.940947, 24.941888, 24.941627, 24.941312, 24.94031, 24.940151999999998, 24.941932, 24.757089999999998, 24.613947, 24.613357999999998, 24.488113000000002, 23.887167, 23.715198, 23.507205, 23.338333, 23.308529999999998, 22.811772, 22.596267, 22.418645, 22.376867, 22.142537, 22.114622, 22.067688, 22.073003, 22.089267, 22.085282, 22.085535, 22.085762, 22.085775, 22.085985, 22.085895, 22.086015, 22.085945000000002, 22.085542999999998, 22.085338, 22.084877, 22.084785, 22.084438000000002, 22.084493, 22.084782, 22.084972, 22.085752, 22.085845000000003, 22.085872, 22.086098, 22.085952, 22.085893, 22.085945000000002, 22.085817000000002, 22.085588, 22.086103, 22.085655, 22.085613000000002, 22.086025, 22.08595, 22.08559, 22.086267000000003, 22.086054999999998, 22.086185, 22.086170000000003, 22.085875, 22.085988, 22.085878, 22.08584, 22.08576, 22.085847, 22.085718, 22.085727, 22.085767999999998, 22.085757, 22.085745000000003, 22.086263, 22.086722, 22.086488, 22.086433, 22.086428, 22.08607, 22.085808, 22.085829999999998, 22.0857, 22.085967999999998, 22.085658, 22.085907000000002, 22.08585, 22.086063, 22.086075, 22.086088, 22.086178, 22.086037, 22.085835, 22.086025, 22.086275, 22.085917000000002, 22.085743, 22.085379999999997, 22.085282, 22.085225, 22.085025, 22.085282, 22.085665, 22.085678, 22.085835, 22.085872, 22.085625, 22.085722, 22.085835, 22.085845000000003, 22.085767999999998, 22.085293, 22.085255, 22.085801999999997, 22.084517, 22.085348, 22.085682000000002, 22.085757, 22.085795, 22.085532999999998, 22.085727, 22.104405, 22.158089999999998, 22.15694, 22.157615, 22.156543, 22.157048, 22.156425, 22.156735, 22.156608, 22.156637, 22.157072, 22.156645, 22.157239999999998, 22.15727, 22.157203, 22.15729, 22.157265, 22.157247, 22.15706, 22.156867000000002, 22.097297, 22.094513, 22.094635, 22.095122, 22.094895, 22.094637, 22.094932999999997, 22.095083, 22.095108, 22.094842, 22.094445, 22.094295000000002, 22.094562, 22.094457000000002, 22.094493, 22.094611999999998, 22.094928, 22.09477, 22.094982, 22.094829999999998, 22.094795, 22.094697, 22.094482, 22.095168, 22.094175, 22.095117000000002, 22.094777, 22.094975, 22.095248, 22.094567, 22.094037, 22.093698, 22.093353, 22.092988000000002, 22.092773, 22.093732, 22.092867000000002, 22.092883, 22.092928, 22.093204999999998, 22.092875, 22.093732, 22.094151999999998, 22.094177, 22.093488, 22.093436999999998, 22.093435, 22.0934, 22.094033, 22.093995, 22.094127, 22.093742000000002, 22.094002, 22.094022, 22.093222, 22.093495, 22.09394, 22.093772, 22.094115, 22.09394, 22.094723000000002, 22.095067, 22.094803, 22.095, 22.094773, 22.094578, 22.093933, 22.094223, 22.094487, 22.094332, 22.094523000000002, 22.094865, 22.094867, 22.094145, 22.094317999999998, 22.094138, 22.094295000000002, 22.094762, 22.094422, 22.094175, 22.095142000000003, 22.094982, 22.094452, 22.09388, 22.093695, 22.094783, 22.094160000000002, 22.093863, 22.09432, 22.093875, 22.094358, 22.094822, 22.094958, 22.094897, 22.094108, 22.094186999999998, 22.094738, 22.094878, 22.09481, 22.094428, 22.09456, 22.094513, 22.094493, 22.094272, 22.094758, 22.094357000000002, 22.094507999999998, 22.094747, 22.094893, 22.094817000000003, 22.094642999999998, 22.094458, 22.094535, 22.094414999999998, 22.094475, 22.095035, 22.094735, 22.09464, 22.094483, 22.093505, 22.093247, 22.092982, 22.094613, 21.83676, 21.75163, 21.7014, 13.283655, 13.02401, 12.384217, 12.299992, 11.939382, 11.598180000000001, 10.63442, 8.23667, 7.626167999999999, 7.420933, 7.453815, 7.2057649999999995, 6.093202, 5.690926999999999, 5.3137620000000005, 5.1525300000000005, 4.073151999999999, 3.8227330000000004, 3.335808, 3.303842, 3.2559099999999996, 3.143022, 3.1442900000000003, 3.16376, 3.183785, 3.003502, 2.849168, 2.733773, 2.72758, 2.7496419999999997, 2.77644, 2.70799, 2.639535, 2.533528, 2.138518, 1.395873, 1.2858530000000001, 0.930275, 0.783392, 0.515432, 0.438312, 0.152288, -0.540582, -0.599765, -0.9828870000000001, -1.233315, -1.319843, -1.596945, -1.889677, -1.920813, -1.992575, -2.052188, -2.143355, -2.150773, -2.199853, -2.260817, -2.337575, -2.36985, -2.391873, -2.478375, -2.505768, -2.538573, -2.528972, -2.52221, -2.5181080000000002, -2.514977, -2.50569, -2.50339, -2.496737, -2.495622, -2.4536700000000002, -2.520257, -2.487345, -2.444295, -2.47231, -2.455103, -2.443123, -2.4160470000000003, -2.4144419999999998, -2.394177, -2.391435, -2.42509, -2.417017, -2.420657, -2.441538, -2.474277, -2.493025, -2.52516, -2.533155, -2.53065, -2.53065, -2.340695, -2.28328, -2.158072, -2.149512, -1.8127830000000003, -1.65773, -1.1785780000000001, -0.673067, -0.20156300000000002, 0.28922800000000004, 1.020238, 1.392092, 1.6726849999999998, 2.1252619999999998, 2.684683, 2.711398, 3.718115, 4.766868, 5.101527, 5.154667, 5.18687, 5.217178, 5.221575, 5.875319999999999, 6.660467, 7.697757000000001, 7.702369999999999, 8.242742, 9.405488, 9.411814999999999, 10.217058, 11.230872, 12.32746, 12.737825, 13.562486999999999, 14.702035, 15.263565, 15.827376999999998, 16.225613, 16.90661, 17.441823, 19.731092999999998, 20.21197, 20.533987, 21.316670000000002, 22.573935000000002, 22.792268, 23.324842, 23.696995, 23.879232000000002, 24.917532, 25.202932, 25.209098, 25.209101999999998, 25.209098, 25.209093, 25.20911, 25.209117000000003, 25.209088, 25.209101999999998, 25.206792, 24.978392000000003, 24.641765, 24.475002, 23.75921, 23.320232, 22.96075, 22.617805, 22.285938, 22.251520000000003, 22.24975, 15.201988, 14.464435, 13.941162, 13.919598, 13.259858, 13.11364, 13.047378, 12.5203, 11.946557, 11.790917, 11.658352, 10.139911999999999, 9.361098, 9.131738, 8.162375, 8.055903, 7.033792, 6.6842880000000005, 6.578817999999999, 6.04898, 5.965907, 5.537395, 5.367967, 5.236107, 4.634378, 4.486385, 4.370101999999999, 4.270373, 4.251828, 3.984722, 3.6518029999999997, 3.6170430000000002, 3.431365, 2.848263, 2.448052, 2.229125, 2.038463, 1.916607, 1.6784599999999998, 0.996992, 0.996992, 0.537443, 0.373603, 0.19333499999999998, 0.064647, -0.33999, -0.669247, -0.798732, -1.241598, -1.651877, -1.658628, -1.7713419999999998, -1.9340099999999998, -1.946853, -2.042455, -2.095663, -2.125082, -2.1595779999999998, -2.206187, -2.252672, -2.292128, -2.32625, -2.360048, -2.376107, -2.421953, -2.492292, -2.5433630000000003, -2.536387, -2.5378220000000002, -2.7197419999999997, -2.878327, -2.8684580000000004, -2.562522, -2.76847, -2.8791279999999997, -2.943657, -2.725102, -2.546693, -2.609793, -2.700042, -2.888862, -2.546043, -2.5805919999999998, -2.819372, -2.5173400000000004, -2.4874650000000003, -2.487435, -2.469768, -2.477948, -2.389882, -2.4238880000000003, -2.425068, -2.395295, -2.417467, -2.432662, -2.445615, -2.49586, -2.496245, -2.532825, -2.504468, -2.4095299999999997, -2.36522, -2.3148880000000003, -2.1538169999999996, -1.7473779999999999, -1.368235, -1.179682, -1.160788, -0.31908000000000003, 0.328098, 1.178872, 1.520635, 1.8864900000000002, 2.589008, 3.225693, 3.312817, 4.009519999999999, 4.6357800000000005, 4.897432, 5.43837, 6.01087, 6.593097, 7.1144300000000005, 8.074689999999999, 9.920438, 10.037097, 11.930672999999999, 13.107475, 13.206432000000001, 13.206432000000001, 14.598303, 15.133498000000001, 15.298654999999998, 16.404215, 16.490042000000003, 22.553577, 22.992427, 23.336357999999997, 23.734962, 23.908148, 23.908147, 24.867847, 25.062648, 25.20665, 25.20821, 25.209101999999998, 25.209088, 25.209093, 25.209118, 25.20908, 25.209095, 25.209098, 25.209057, 25.209088, 25.209122, 25.20908, 25.209073, 25.209104999999997, 24.865318, 24.529436999999998, 23.546101999999998, 23.105102, 22.999672, 22.883875, 19.37, 15.140665, 14.436670000000001, 13.428427, 13.290386999999999, 13.224217000000001, 11.38878, 10.54683, 10.017652, 8.324137, 7.391978, 6.888328, 6.653510000000001, 6.650687, 5.140187999999999, 4.980067, 4.076452, 3.494985, 3.183408, 2.328132, 1.415375, 1.355842, 0.644628, 0.300093, -0.039262, -0.238508, -0.974657, -1.9933299999999998, -2.183008, -2.478912, -2.5424830000000003, -2.498278, -2.488243, -2.444842, -2.487105, -2.437842, -2.39657, -2.4240880000000002, -2.425123, -2.425087, -2.421668, -2.3900200000000003, -2.422432, -2.434898, -2.463502, -2.489583, -2.5155369999999997, -2.527965, -2.540968, -2.5413349999999997, -2.405, -2.358472, -2.242587, -2.058385, -1.9392349999999998, -1.597183, -0.8433299999999999, -0.708695, -0.329507, 0.001927, 0.760368, 1.237865, 1.3697620000000001, 1.59261, 2.4447349999999997, 2.685135, 2.847155, 2.936675, 3.977005, 3.9923370000000005, 4.8654, 5.532426999999999, 5.788393, 6.237451999999999, 7.059239999999999, 7.106253, 7.738285, 7.799622, 7.955487, 9.199983, 9.84229, 9.921185000000001, 10.749193, 11.356689999999999, 11.432792999999998, 12.131067, 12.227644999999999, 12.723028, 13.307915, 14.218632999999999, 14.430798000000001, 14.545313, 15.659673000000002, 15.827195000000001, 15.995, 17.781264999999998, 18.745962, 19.66443, 21.681488, 21.92865, 22.120135, 22.4367, 22.682107000000002, 22.993037, 23.24863, 23.55846, 23.798757000000002, 23.903695000000003, 23.903695000000003, 24.937611999999998, 25.148117000000003, 25.186007, 25.20913, 25.209098, 25.209095, 25.209088, 25.209077, 25.209067, 25.209113000000002, 25.209101999999998, 25.209101999999998, 25.209101999999998, 25.209103, 25.209098, 25.209073, 25.209107, 25.209092000000002, 24.782457, 24.021162, 23.552965, 23.142483, 22.645203, 22.199367000000002, 22.044152, 22.044152, 19.406670000000002, 17.465118, 17.09049, 16.044493, 14.014817, 13.897872, 12.721553, 11.643664999999999, 11.60833, 10.59802, 9.611325, 9.381857, 8.84727, 7.79674, 7.521135000000001, 6.884072, 5.883725, 5.67504, 4.893294999999999, 3.6637370000000002, 3.6330199999999997, 2.619628, 2.124848, 1.7562349999999998, 1.12471, 0.675117, 0.208042, -0.30012300000000003, -0.33966199999999996, -1.193935, -1.223657, -1.845698, -2.062277, -2.234778], \"legendgroup\": \"\", \"lon\": [119.0975, 119.1218, 119.1439, 119.1692, 119.3592, 119.2515, 119.2739, 119.1608, 119.3057, 119.3371, 119.2772, 119.2097, 119.3239, 119.3033, 119.3461, 119.1369, 119.0057, 118.9952, 118.9952, 119.0956, 119.2419, 119.8914, 119.9009, 119.6134, 121.1771, 122.8416, 125.4386, 125.6923, 125.8887, 126.3059, 127.745, 128.6846, 129.0717, 130.5832, 131.4128, 131.6694, 132.1665, 132.8808, 133.0657, 133.1336, 133.1335, 133.1334, 132.7624, 131.6649, 131.4929, 129.8148, 129.1564, 128.4422, 128.1455, 127.6602, 127.0651, 126.5415, 126.1951, 125.6111, 125.2227, 124.8686, 124.5197, 122.9206, 121.1299, 119.9006, 119.8427, 119.8901, 119.9186, 119.0819, 118.9952, 118.9952, 119.0038, 119.1288, 119.1748, 119.8843, 119.9085, 120.0585, 122.1911, 124.1314, 124.9721, 125.4931, 126.0625, 126.2581, 127.1616, 128.4095, 129.2709, 129.8408, 130.6222, 131.69899999999998, 132.164, 132.4614, 133.1335, 132.7816, 131.724, 131.0135, 129.7542, 129.4046, 127.0762, 126.93299999999999, 126.1197, 125.5534, 125.3553, 124.9364, 124.3883, 123.619, 122.7916, 121.5811, 120.5071, 119.9495, 119.8903, 119.9041, 119.4834, 119.2341, 119.131, 118.9941, 118.9951, 119.0, 119.1229, 119.1609, 119.8894, 119.86399999999999, 121.3539, 123.2957, 123.7963, 124.3482, 125.6409, 125.9534, 126.3447, 126.7005, 126.8276, 127.4031, 127.9157, 128.3403, 129.4674, 129.7183, 130.2854, 130.6023, 131.0201, 131.576, 131.9668, 132.6824, 132.9922, 133.1335, 133.1335, 133.0744, 131.9103, 131.7316, 128.6315, 128.135, 127.2295, 126.4461, 125.6776, 125.2808, 124.2053, 123.9117, 123.4104, 121.8632, 120.695, 120.7617, 119.9667, 119.5333, 119.5964, 119.6533, 119.6567, 119.7783, 119.73, 119.9051, 119.89, 119.1766, 119.0693, 119.0723, 119.0692, 119.0691, 119.0723, 119.0475, 118.9952, 118.9952, 118.9952, 118.9952, 118.9952, 118.9952, 118.9952, 118.9952, 118.9952, 118.9952, 118.9952, 118.9952, 118.9952, 118.9952, 118.9952, 118.9952, 118.9951, 119.0042, 119.195, 119.8909, 119.8831, 119.47, 114.6233, 114.5496, 114.5767, 114.5514, 114.5488, 114.5668, 114.5168, 114.5894, 114.3578, 114.1281, 114.1326, 114.1317, 114.1326, 114.1317, 114.1329, 114.1329, 114.1339, 114.14200000000001, 114.1805, 114.18, 114.1814, 114.1822, 114.1822, 114.1809, 114.1808, 114.1807, 114.2031, 114.2023, 114.2022, 114.2016, 114.2014, 114.2016, 114.2014, 114.2017, 114.2016, 114.2017, 114.2016, 114.2022, 114.2023, 114.2021, 114.2023, 114.2025, 114.2028, 114.2024, 114.2027, 114.0855, 113.8695, 113.8698, 113.8682, 113.8681, 113.8686, 113.8615, 113.8361, 113.8378, 113.83765829999999, 113.8381, 113.8382, 114.15401999999999, 113.8367833, 113.83673999999999, 113.836752, 113.8367867, 113.8367717, 113.8367917, 113.8367717, 113.83675670000001, 113.83675670000001, 113.83676329999999, 113.8367783, 113.83675670000001, 113.836745, 113.83675, 113.83674170000002, 113.836775, 113.8367517, 113.83673999999999, 113.83675670000001, 113.83675670000001, 113.8367483, 113.83676329999999, 113.83675330000001, 113.83676170000001, 113.83672, 113.83675670000001, 113.83675670000001, 113.836775, 113.83676000000001, 113.83676329999999, 113.83676170000001, 113.8367717, 113.83676170000001, 113.83675670000001, 113.83675829999999, 113.83681829999999, 113.83675670000001, 113.8367683, 113.83675670000001, 113.83678, 113.8367483, 113.8367483, 113.8367733, 113.83675330000001, 113.8367317, 113.83675, 113.8367317, 113.83673999999999, 113.8367683, 113.836745, 113.836745, 113.83676329999999, 113.8367867, 113.8090067, 113.8496217, 113.8847333, 114.1979567, 114.1969617, 114.1970183, 114.1970233, 114.19696, 114.19708, 114.19704170000001, 114.1974117, 114.19692830000001, 114.197375, 114.19709170000002, 114.146475, 114.14616170000001, 114.14608329999999, 114.14586829999999, 114.14606299999998, 114.14585500000001, 114.1458883, 114.1460117, 114.1456767, 114.14598000000001, 114.1458783, 114.145927, 114.14573999999999, 114.1456767, 114.145715, 114.14573999999999, 114.14569329999999, 114.14623999999999, 114.14602169999999, 114.14582800000001, 114.1458433, 114.14593799999999, 114.14593329999998, 114.14593300000001, 114.1480933, 114.148215, 114.148955, 114.14776, 114.14588, 114.14586499999999, 114.14875, 114.15627669999999, 114.56206670000002, 114.55255, 119.56422830000001, 119.583157, 119.770572, 120.299125, 120.3659383, 120.6486817, 120.80355829999999, 120.36989170000001, 120.37004499999999, 120.3649483, 120.350205, 120.359075, 120.35953500000001, 120.30004, 119.5636533, 119.3620967, 118.96483329999998, 118.36541170000001, 118.5619883, 119.6574367, 119.66101670000002, 119.677875, 120.89994329999999, 122.0983283, 122.7230617, 123.049283, 123.87608999999999, 124.38691299999999, 124.4816567, 125.1342817, 125.208817, 125.358057, 125.533005, 125.9826733, 126.04773700000001, 126.36509170000001, 126.448388, 126.80241170000001, 126.903558, 127.2831067, 127.339453, 127.8900683, 128.66828999999998, 128.79637, 129.5539933, 129.904235, 130.21464, 130.335345, 131.1408667, 131.36768700000002, 131.92238170000002, 131.973543, 132.5062867, 132.905398, 133.06491200000002, 133.129855, 133.1334817, 133.133505, 133.1335167, 133.13349, 132.95553, 132.682333, 132.0945567, 131.87063999999998, 131.36222, 131.079902, 130.4482883, 129.6596067, 129.371655, 128.92666499999999, 128.79757, 128.1024267, 127.83363700000001, 127.36993329999999, 127.244578, 126.9508117, 126.782133, 126.69233, 126.53145829999998, 126.14266699999999, 126.11791670000001, 125.90385330000001, 125.29003329999999, 124.840457, 124.597885, 124.22993500000001, 124.02402169999999, 123.90704199999999, 123.67303500000001, 123.3819033, 123.2191967, 122.89478329999999, 122.44341000000001, 122.3313033, 121.86866670000002, 121.48428329999999, 121.280947, 121.09978000000001, 121.07576170000002, 120.56053, 120.52029499999999, 119.95748999999999, 119.65598670000001, 119.19153829999999, 118.574385, 118.3352033, 119.74719170000002, 120.11596329999999, 120.3836133, 120.39612, 120.64248329999998, 120.702128, 120.22925670000001, 119.630748, 119.47776, 119.897582, 119.903645, 119.90352800000001, 119.71814499999999, 119.7026483, 119.1781983, 119.10016, 119.04546670000002, 118.99771499999999, 118.9951767, 118.99522169999999, 118.99516799999999, 118.9951983, 118.99519699999999, 118.9951983, 118.99519199999999, 118.995195, 118.995203, 118.9951967, 118.99521999999999, 118.9952017, 118.99519199999999, 118.99516670000001, 118.995172, 118.9951917, 119.06581170000001, 119.162052, 119.26655500000001, 119.9312267, 119.906025, 119.873485, 119.89246999999999, 119.8688767, 119.868877, 119.08718300000001, 119.1746567, 119.75278300000001, 120.369992, 120.584162, 121.00576000000001, 121.5869983, 123.38543500000002, 123.976855, 124.58121670000001, 124.792207, 125.572122, 125.820093, 126.71670300000001, 127.332627, 128.28698300000002, 128.8399167, 129.112473, 130.069678, 130.91931200000002, 131.07484, 130.94499299999998, 130.916097, 130.368267, 130.720342, 130.6687533, 130.7262, 131.1577867, 131.281817, 131.813255, 131.852348, 132.10028, 132.439478, 132.440502, 133.015797, 133.133687, 133.133513, 133.117065, 132.815098, 132.341358, 131.563042, 131.06806, 130.537022, 130.413943, 129.515538, 128.682368, 128.17, 127.82171000000001, 127.78011200000002, 127.103077, 126.86633799999998, 126.671903, 126.62805800000001, 126.141182, 125.66219299999999, 125.627232, 125.16368500000002, 125.12048700000001, 124.74354, 124.735445, 124.253328, 123.97395, 123.760253, 123.51123700000001, 123.383283, 123.0167, 122.990582, 122.53356200000002, 121.70288799999999, 121.614418, 121.493385, 121.401997, 121.25851200000001, 120.89526799999999, 120.70855300000001, 120.64234499999999, 120.514448, 120.412145, 120.02545500000001, 119.83168, 119.617283, 119.61090800000001, 119.55581299999999, 119.47705, 119.62905500000001, 119.930277, 119.88055200000001, 119.85225200000001, 119.850575, 119.850113, 119.87143300000001, 119.970262, 119.89328300000001, 119.890022, 119.825097, 119.8996, 119.844315, 119.843027, 119.884047, 119.912582, 119.93006000000001, 119.925395, 119.894155, 119.89796000000001, 119.767683, 119.499478, 119.297078, 119.190243, 119.388732, 119.32269199999999, 119.187592, 119.14180800000001, 119.08461299999999, 119.004028, 118.99519, 118.99523500000001, 118.99518700000002, 118.99516499999999, 119.094788, 119.18741000000001, 119.271748, 119.80738799999999, 119.91422800000001, 119.881055, 119.90899999999999, 119.86273200000001, 119.862477, 119.77156799999999, 120.482922, 120.589777, 121.20681, 121.567007, 121.68156, 121.72606299999998, 122.856517, 123.52363999999999, 123.580542, 123.598047, 124.120847, 124.274052, 124.35180700000001, 124.378753, 124.784875, 124.875092, 125.179878, 125.268157, 125.648357, 125.74536, 126.005145, 126.343507, 126.41685, 126.61016000000001, 126.63509499999999, 127.10327, 127.19851499999999, 127.284782, 127.56837800000001, 128.229872, 128.31596499999998, 128.752348, 129.212435, 129.63590200000002, 130.3533, 130.608432, 130.944307, 130.879345, 130.949748, 130.950528, 130.90147199999998, 131.072297, 131.229898, 131.250148, 131.74698700000002, 132.092758, 132.23316499999999, 132.44267299999998, 132.48599, 133.030687, 133.097342, 133.133523, 133.125583, 133.075208, 132.210148, 131.37389199999998, 130.42099299999998, 129.56229299999998, 128.72874199999998, 128.150787, 127.29358700000002, 126.941255, 126.61878300000001, 126.466407, 126.09751299999999, 125.77975500000001, 125.31629699999999, 124.929002, 124.53111799999999, 124.27143500000001, 123.765817, 123.136775, 121.58021699999999, 121.41039199999999, 121.291767, 121.096378, 120.866013, 120.602948, 120.52653799999999, 120.68427, 120.363353, 120.2348, 119.66323200000001, 119.60799999999999, 119.54938999999999, 119.798285, 119.89967299999999, 119.776468, 119.394302, 119.559748, 119.41762299999999, 119.157827, 119.05541699999999, 119.00527199999999, 118.99521000000001, 118.99518, 119.09506699999999, 119.222955, 119.39888, 119.786272, 119.903852, 119.8608, 119.86786799999999, 119.88678999999999, 119.85775, 119.844825, 119.63236299999998, 121.92019199999999, 122.975298, 123.065598, 123.393847, 123.43386699999999, 123.468772, 123.557825, 123.743932, 123.882078, 123.914073, 124.235293, 124.391248, 124.82077, 125.008008, 125.183047, 125.44247299999999, 125.50738500000001, 125.823573, 125.95591, 126.060102, 126.12162, 126.42758, 126.71218300000001, 126.845382, 126.965603, 127.18946499999998, 127.39448700000001, 127.872308, 128.680425, 129.45112, 130.173382, 130.47936299999998, 130.596595, 130.750765, 131.242073, 131.43501, 131.935688, 131.90461000000002, 132.1061, 132.504932, 133.133318, 133.133455, 133.071643, 132.54233, 132.3747, 132.175402, 131.290758, 130.91097, 130.421458, 130.370928, 129.506157, 129.185263, 129.17158, 128.37424199999998, 127.995218, 127.914048, 127.58995300000001, 127.12917, 127.114972, 126.797648, 126.393672, 126.23443799999998, 126.09252, 125.96515500000001, 125.559873, 125.54361200000001, 124.68637700000001, 124.451725, 123.86881499999998, 123.29985, 123.206395, 122.80318999999999, 122.700282, 122.43968799999999, 122.255278, 121.784797, 121.546555, 121.43696299999999, 121.356963, 121.307318, 121.100422, 120.65678500000001, 120.502995, 120.60671, 120.49951200000001, 120.168683, 119.869873, 119.61348799999999, 119.56885, 119.56885, 119.475163, 119.481982, 119.48498700000002, 119.56402, 119.920053, 119.908822, 119.89357199999999, 119.910592, 119.87598799999999, 119.61617, 119.41073300000001, 119.33971499999998, 119.37080700000001, 119.33898, 119.196393, 119.09268200000001, 119.019178, 118.99519199999999, 118.995198, 118.995203, 118.99519199999999, 119.06514299999999, 119.169362, 119.27086000000001, 119.76025200000001, 119.894492, 119.881307, 119.894217, 119.84673500000001, 119.84673500000001, 118.91084199999999, 119.761835, 120.32211699999999, 120.852397, 121.153893, 121.52591799999999, 122.67429299999999, 123.749648, 124.822185, 124.92376200000001, 125.298782, 125.52986200000001, 125.755678, 126.041748, 126.217005, 126.62149699999999, 126.67608700000001, 127.12293799999999, 127.83707, 127.986027, 128.7152, 129.132265, 129.513093, 129.92043999999999, 130.406518, 130.666913, 130.88828, 131.509655, 132.04548, 132.04616000000001, 132.563248, 133.026337, 133.13398700000002, 133.133597, 133.123127, 132.467723, 132.087287, 131.627902, 131.399485, 130.77096, 130.373167, 129.758498, 128.879495, 128.17596, 127.702605, 127.37305800000001, 127.07483700000002, 126.789975, 126.74648, 126.31676999999999, 126.15986799999999, 125.96796200000001, 125.83868999999999, 125.4782, 125.42901, 124.926328, 124.342918, 124.32008200000001, 124.25703500000002, 124.655148, 124.959198, 124.740035, 124.726243, 124.51301699999999, 124.39182, 123.82848999999999, 123.607228, 123.533472, 123.52780800000001, 123.72238999999999, 123.828375, 123.65691799999999, 123.338792, 123.31256, 123.114598, 122.95617800000001, 122.652023, 122.705675, 122.417597, 121.75075, 121.11598000000001, 120.99863799999999, 120.81936200000001, 120.53323200000001, 120.56420200000001, 119.930768, 119.858548, 119.71871200000001, 119.635493, 119.52656499999999, 119.47442, 119.503475, 119.71927, 119.885375, 119.892748, 119.895577, 119.80762, 119.705707, 119.34544199999999, 119.17623999999999, 119.09191799999999, 119.013148, 118.99518700000002, 118.99517800000001, 119.200648, 119.73631699999999, 119.907868, 119.888948, 119.897448, 119.86131999999999, 119.83738500000001, 119.83738500000001, 119.1953, 119.232925, 119.249527, 119.74823300000001, 120.72662700000001, 123.32158700000001, 124.186275, 124.378303, 124.394077, 124.757512, 125.2956, 125.90800300000001, 126.293355, 126.477278, 126.52388, 126.52978300000001, 126.844053, 126.981247, 126.98216200000002, 127.384425, 127.587925, 128.63477, 128.139452, 130.14411299999998, 130.557097, 130.535507, 130.577658, 130.89273500000002, 131.234858, 131.339013, 131.441618, 132.02478, 132.26866, 132.28493, 132.338905, 132.638427, 133.017887, 133.107762, 133.133462, 133.130048, 132.809753, 132.518195, 131.22051499999998, 130.728745, 130.67580700000002, 128.81513, 128.810233, 127.87606299999999, 127.487928, 127.275733, 127.189558, 126.515745, 126.16335500000001, 125.719563, 125.453177, 125.281102, 124.607877, 124.192705, 124.201323, 124.034893, 123.469297, 123.368153, 123.250823, 122.647457, 122.311625, 121.142032, 120.94469299999999, 120.62761, 120.549553, 120.58945, 120.30626000000001, 119.96785700000001, 119.611625, 119.56709199999999, 119.5455, 119.531448, 119.483305, 119.64676999999999, 119.85256799999999, 119.88331799999999, 119.89818799999999, 119.914578, 119.756818, 119.72040700000001, 119.350055, 119.38887700000001, 119.160068, 119.078207, 119.03223500000001, 118.99519199999999, 118.99518700000002, 118.99518700000002, 118.995177, 119.06381999999999, 119.087103, 119.28073799999999, 119.754698, 119.903803, 119.89635200000001, 119.89605300000001, 119.87073000000001, 119.870407, 119.078327, 118.8789, 119.342692, 119.751927, 119.917282, 120.21105800000001, 120.286943, 120.40243000000001, 120.779008, 120.566278, 120.940923, 121.35323500000001, 121.426725, 121.75316200000002, 122.47671299999999, 122.71412, 123.081475, 123.584282, 123.876972, 124.05176200000001, 124.26732700000001, 124.755958, 124.762997, 124.890042, 125.47998799999999, 125.516325, 125.806325, 126.17261699999999, 126.40223, 126.452478, 126.787687, 127.04840800000001, 127.11560800000001, 127.11718799999998, 127.75353, 127.776472, 128.447878, 128.77158300000002, 129.12593700000002, 129.178942, 129.70733700000002, 130.355188, 130.386537, 130.91123000000002, 130.845485, 131.110243, 131.403277, 131.730233, 131.96947, 131.972817, 132.135315, 132.549488, 132.811732, 132.817305, 133.012825, 133.09112, 133.133513, 132.526523, 131.993085, 131.644117, 131.291193, 130.786475, 130.608258, 129.980467, 129.62788700000002, 128.988728, 128.595333, 128.25679, 128.102768, 127.35105, 127.00231200000002, 126.900203, 126.48071499999999, 126.31635700000001, 126.236218, 126.215252, 125.658285, 125.44519199999999, 125.30935, 124.88108700000001, 124.762745, 124.59147800000001, 124.56055500000001, 124.096598, 123.867405, 123.17351299999999, 123.02624499999999, 122.889963, 122.163422, 121.695788, 121.368458, 121.332343, 121.12728700000001, 120.80176499999999, 120.688923, 120.61518999999998, 120.54478, 120.543047, 120.550743, 120.68528500000001, 120.792603, 120.39197, 120.16288, 120.098793, 119.827147, 119.645048, 119.60302, 119.56661000000001, 119.543903, 119.543727, 119.48023, 119.491647, 119.59298799999999, 119.62268300000001, 119.712252, 119.904338, 119.93110800000001, 119.91373200000001, 119.90515, 119.90607299999999, 119.79346000000001, 119.737365, 119.541525, 119.52623799999999, 119.24990700000001, 119.18291, 119.095572, 119.076528, 119.001493, 118.99373500000002, 118.995193, 118.995172, 118.99518300000001, 118.99516000000001, 118.99519, 118.99518700000002, 118.995208, 118.99518700000002, 119.052903, 119.14641999999999, 119.30083799999998, 119.652358, 119.907747, 119.89513799999999, 119.89911699999999, 119.88167800000001, 119.88167800000001, 118.979395, 119.03708200000001, 119.038283, 119.25194199999999, 119.25194199999999, 120.36112800000001, 120.50261299999998, 120.797895, 120.519007, 120.597517, 121.182952, 121.41436200000001, 121.427765, 123.25633700000002, 123.77587, 124.210797, 124.22446200000002, 124.96981799999999, 124.99902800000001, 124.77796699999999, 125.09336, 125.17324199999999, 125.494052, 125.846523, 125.93718799999999, 126.29263300000001, 126.582397, 126.71627, 127.037292, 127.05111000000001, 127.43647299999999, 127.69651, 128.23363799999998, 129.062082, 129.521153, 129.913593, 130.700905, 131.440303, 132.10804199999998, 132.999962, 133.13341499999999, 132.922423, 132.426837, 131.90034, 131.854805, 130.636077, 130.491242, 130.298685, 128.972025, 128.328722, 127.40346000000001, 127.043772, 126.66546699999999, 126.211413, 125.72543700000001, 125.35806000000001, 124.56732, 123.998737, 123.779022, 123.625257, 123.22110500000001, 122.84844, 122.680282, 122.67163700000002, 122.09798799999999, 121.721643, 121.573632, 121.32683999999999, 121.041393, 120.960775, 120.72813000000001, 120.632857, 120.76691299999999, 120.764123, 120.42591200000001, 120.096733, 120.019545, 119.86361200000002, 119.64027800000001, 119.57978999999999, 119.55874299999999, 119.562922, 119.551773, 119.45822199999999, 119.47357, 119.498405, 119.511923, 119.58883200000001, 119.58946, 119.636447, 119.74887199999999, 119.878808, 119.898248, 119.90183200000001, 119.908515, 119.87364, 119.661083, 119.616532, 119.23047700000001, 119.15391699999999, 119.07538000000001, 119.00327800000001, 118.995003, 118.995352, 118.995175, 118.99516000000001, 119.055152, 119.17325, 119.25711299999999, 119.64048999999999, 119.916982, 119.873977, 119.855977, 119.878327, 119.86053999999999, 119.86053999999999, 119.81746499999998, 119.223347, 119.76783799999998, 120.120608, 120.3181, 120.402345, 120.48277, 120.799213, 120.70521200000002, 120.92176299999998, 120.74472800000001, 120.62968799999999, 120.586955, 120.722252, 120.77585800000001, 120.82665700000001, 121.03634699999999, 121.16281000000001, 121.44798700000001, 121.58285500000001, 121.786803, 122.427912, 123.174725, 123.456313, 123.684142, 124.031277, 124.13733300000001, 124.461545, 124.889707, 124.90066000000002, 125.147345, 125.63682800000001, 125.747495, 125.88203700000001, 126.023898, 126.27683999999999, 126.345877, 126.365628, 126.555462, 126.595752, 126.976602, 127.024622, 127.23115700000001, 127.33932, 127.971185, 128.232302, 128.23474299999998, 128.602922, 129.31538700000002, 129.320843, 129.720667, 130.160678, 130.467663, 130.59168799999998, 130.92417, 130.992398, 131.22833300000002, 131.229002, 131.331572, 131.345655, 131.575885, 131.642905, 131.88058999999998, 132.222462, 132.41009499999998, 132.648543, 133.130867, 133.132982, 133.13346299999998, 132.84864, 132.730185, 131.888455, 131.193147, 131.107208, 130.10357199999999, 129.701303, 129.254987, 129.137643, 129.027557, 128.46551200000002, 127.893822, 127.602352, 127.37831499999999, 126.94801299999999, 126.868982, 126.658592, 126.552348, 126.22691499999999, 125.813252, 125.63233799999999, 125.23671999999999, 124.930332, 124.912627, 124.73396000000001, 124.347602, 124.10036799999999, 124.06668799999998, 123.840847, 123.52563, 123.15440500000001, 123.028345, 122.91316699999999, 122.63331799999999, 121.68958700000002, 121.55733700000002, 121.394478, 121.253948, 121.10103500000001, 121.012305, 120.98876299999999, 120.872758, 120.601823, 120.58368, 120.55218799999999, 120.78516, 120.386973, 120.32786000000002, 120.2177, 120.130967, 119.91780200000001, 119.91436499999999, 119.643652, 119.612733, 119.566248, 119.54087, 119.499908, 119.480805, 119.506003, 119.577193, 119.89038000000001, 119.90564499999999, 119.892133, 119.90235200000001, 119.761323, 119.723573, 119.540935, 119.456845, 119.14161000000001, 119.12493700000002, 119.003928, 118.993747, 118.99517800000001, 118.995148, 118.995173, 118.99519, 118.995193, 118.99518700000002, 118.995177, 118.99518700000002, 118.99518700000002, 118.995202, 118.995177, 118.99458500000001, 119.11903000000001, 119.23421499999999, 119.47276699999999, 119.703923, 119.836745, 119.905943, 119.89907, 119.91156299999999, 119.867652, 119.86749499999999, 119.268833, 119.22283, 120.369477, 120.55991499999999, 120.56771200000001, 120.753532, 120.923057, 121.09328700000002, 121.38186999999999, 122.411847, 122.654648, 122.95940800000001, 123.14636000000002, 123.259925, 123.369203, 123.76851699999999, 124.096818, 124.101347, 124.39351699999999, 124.670102, 124.89659499999999, 125.33148700000001, 126.052475, 126.10523300000001, 126.34813700000001, 126.62116200000001, 126.77702, 127.03063799999998, 127.10545, 127.455408, 127.676585, 128.16930200000002, 129.995012, 130.13879, 130.340872, 130.43642, 130.557982, 130.680182, 130.931535, 131.30818, 131.453508, 131.816348, 131.952892, 132.040627, 132.3997, 132.443163, 133.133478, 133.13348200000001, 132.958583, 132.95588, 132.76388799999998, 132.25466, 131.81516000000002, 131.782838, 131.048932, 130.493325, 130.05064299999998, 129.607373, 129.176967, 128.95637299999999, 128.23847, 126.59403700000001, 126.55746, 126.46571499999999, 126.30103999999999, 126.08718999999999, 125.89078500000001, 125.762157, 125.550372, 125.20862, 124.872803, 124.70953, 124.33072800000001, 123.31656799999999, 123.184372, 123.152192, 122.949202, 122.70033000000001, 122.26543000000001, 122.213527, 121.56968300000001, 121.315142, 121.082232, 120.779053, 120.701352, 120.63623799999999, 120.552423, 120.36437, 120.100052, 119.94546499999998, 119.603605, 119.551795, 119.533382, 119.494428, 119.49226000000002, 119.492627, 119.89378300000001, 119.882972, 119.91216000000001, 119.891543, 119.65959699999999, 119.65698799999998, 119.519048, 119.18340800000001, 119.08260200000001, 119.04785, 118.99836200000001, 118.995193, 118.995175, 118.995177, 118.995198, 118.99518700000002, 118.995177, 118.99519199999999, 118.99521999999999, 119.05503700000001, 119.17039, 119.19944299999999, 119.21906499999999, 119.83461299999999, 119.893055, 119.872827, 119.902437, 119.867623, 119.86735800000001, 119.24061699999999, 119.462852, 119.486158, 119.75945700000001, 120.48978799999999, 120.790628, 120.806395, 120.67188999999999, 120.863343, 121.17133799999999, 121.14947, 121.52891699999999, 121.696927, 123.053628, 123.43215500000001, 123.79811799999999, 123.866657, 124.026972, 124.24138700000002, 124.427027, 124.644007, 124.70624199999999, 125.01748300000001, 125.174727, 125.28713, 125.675757, 125.815878, 126.182553, 126.203102, 126.52063799999999, 126.58458, 126.74711299999998, 126.86368300000001, 127.096263, 127.297233, 127.335472, 127.5849, 127.94962199999999, 128.544088, 128.57142, 129.121245, 129.581945, 129.768422, 129.999492, 130.177802, 130.442077, 130.448273, 130.491875, 131.197872, 131.242905, 131.59344, 131.769825, 132.074407, 132.152873, 132.468377, 132.934275, 133.106392, 133.1338, 133.089303, 132.845433, 132.357415, 131.981563, 131.534902, 131.38621799999999, 130.639598, 129.86991, 129.824625, 129.20504499999998, 128.746988, 128.339208, 127.93426699999999, 127.45176699999999, 127.35936000000001, 127.232367, 127.025178, 126.67633000000001, 126.43455700000001, 126.32908799999998, 126.04955700000001, 125.822005, 125.437673, 125.233042, 125.054722, 124.97050800000001, 124.900378, 124.78012199999999, 124.28233999999999, 123.98474499999999, 123.96891699999999, 123.65608799999998, 123.28455, 123.189903, 122.79011000000001, 122.350175, 122.244925, 121.632272, 121.56870500000001, 121.48969199999999, 121.077257, 120.87003500000002, 120.776252, 120.57354299999999, 120.539327, 120.674943, 120.333427, 119.96429199999999, 119.59428999999999, 119.58913700000001, 119.54323799999999, 119.51886499999999, 119.51704699999999, 119.511932, 119.658138, 119.91632299999999, 119.916385, 119.90771000000001, 119.96423200000001, 119.714487, 119.714487, 119.69381000000001, 119.17794199999999, 119.086793, 118.99446699999999, 118.99517, 118.99521200000001, 118.995185, 118.995185, 118.99518, 118.995198, 118.99516200000001, 119.00690300000001, 119.10491499999999, 119.105273, 119.10542, 119.10551000000001, 119.10498799999999, 119.10507, 119.10513700000001, 119.105278, 119.10530800000001, 119.10615, 119.10564199999999, 119.105097, 119.10511799999999, 119.105263, 119.1046, 119.10473, 119.10526499999999, 119.10471799999999, 119.105185, 119.105025, 119.104945, 119.10495800000001, 119.10478300000001, 119.10483500000001, 119.104555, 119.105382, 119.105152, 119.10524199999999, 119.10523, 119.104735, 119.104798, 119.10524, 119.105377, 119.105373, 119.105465, 119.105152, 119.10471000000001, 119.10463999999999, 119.10458500000001, 119.104868, 119.10625, 119.1071, 119.10653799999999, 119.10524699999999, 119.105073, 119.10615200000001, 119.10674499999999, 119.10700200000001, 119.106908, 119.10888700000001, 119.10593999999999, 119.10521200000001, 119.105092, 119.106365, 119.10693799999999, 119.10821000000001, 119.1074, 119.106867, 119.105295, 119.10530200000001, 119.105873, 119.106505, 119.106672, 119.10713799999999, 119.108607, 119.10890800000001, 119.105027, 119.10467, 119.10530800000001, 119.105223, 119.104905, 119.10443300000001, 119.104607, 119.104375, 119.10462700000001, 119.10481499999999, 119.105267, 119.105222, 119.10506000000001, 119.10495, 119.10453000000001, 119.10456200000002, 119.10456200000002, 119.10524199999999, 119.10556499999998, 119.10694, 119.14742199999999, 119.196125, 119.196348, 119.238147, 119.699803, 119.850425, 119.888798, 119.89057199999999, 119.888953, 119.94859199999999, 119.91873500000001, 119.893925, 119.889077, 115.110432, 114.95351699999999, 114.751627, 114.61025500000001, 114.32173300000001, 114.194377, 114.19441299999998, 114.19431000000002, 114.194345, 114.19428500000001, 114.194305, 114.194325, 114.19435800000001, 114.19443999999999, 114.19443700000001, 114.19473500000001, 114.194878, 114.195043, 114.19496699999999, 114.19475800000001, 114.194533, 114.19428700000002, 114.194318, 114.19431999999999, 114.194325, 114.194223, 114.194318, 114.194277, 114.19431200000001, 114.194295, 114.19431999999999, 114.194282, 114.19431499999999, 114.19418700000001, 114.19423700000002, 114.19426999999999, 114.19421200000001, 114.19421799999999, 114.19421799999999, 114.19428300000001, 114.194317, 114.19421499999999, 114.194318, 114.19431000000002, 114.194397, 114.194318, 114.19434299999999, 114.19436200000001, 114.194298, 114.19426499999999, 114.194298, 114.19424, 114.19430700000001, 114.19424199999999, 114.194277, 114.19421799999999, 114.19430200000001, 114.194323, 114.19426999999999, 114.194392, 114.19425700000001, 114.19434299999999, 114.194227, 114.19425, 114.19418300000001, 114.19421200000001, 114.19418999999999, 114.1942, 114.19428, 114.19435800000001, 114.19430200000001, 114.19425700000001, 114.194345, 114.194355, 114.1945, 114.194608, 114.194608, 114.19471000000001, 114.19447199999999, 114.194248, 114.19431000000002, 114.194273, 114.194255, 114.194337, 114.19426999999999, 114.19424, 114.19423300000001, 114.194377, 114.194397, 114.194422, 114.194175, 114.194837, 114.19459199999999, 114.194303, 114.194253, 114.19422, 114.194273, 114.19422, 114.155147, 114.147423, 114.14581299999999, 114.145683, 114.14563799999999, 114.145692, 114.14571000000001, 114.145692, 114.14563500000001, 114.14598500000001, 114.14554199999999, 114.14578999999999, 114.14554, 114.14561, 114.145568, 114.145563, 114.145548, 114.145523, 114.14559799999999, 114.145698, 114.17451000000001, 114.182627, 114.18253700000001, 114.18251699999999, 114.182475, 114.182553, 114.18251699999999, 114.182473, 114.18252700000001, 114.18245800000001, 114.18271000000001, 114.18263799999998, 114.182578, 114.18255500000001, 114.18258300000001, 114.18258700000001, 114.18253500000002, 114.18259499999999, 114.18252, 114.18258300000001, 114.18262, 114.182645, 114.18271299999999, 114.18258200000001, 114.182903, 114.18253, 114.182548, 114.18258300000001, 114.182602, 114.182648, 114.18300500000001, 114.18346299999999, 114.18666, 114.184835, 114.18513700000001, 114.183278, 114.18481200000001, 114.185428, 114.185923, 114.18646799999999, 114.18513700000001, 114.183493, 114.18319199999999, 114.18303799999998, 114.18354, 114.183683, 114.18371, 114.183633, 114.183123, 114.183043, 114.18293200000001, 114.183067, 114.183002, 114.182933, 114.183807, 114.18331299999998, 114.18293700000001, 114.18305500000001, 114.182877, 114.18297, 114.18243999999999, 114.182373, 114.18243799999999, 114.18255, 114.182457, 114.182548, 114.182818, 114.182753, 114.18266799999999, 114.182728, 114.182557, 114.182493, 114.18262, 114.182703, 114.182722, 114.18285800000001, 114.182685, 114.18243700000001, 114.18260500000001, 114.18261799999999, 114.18236200000001, 114.182557, 114.18266000000001, 114.18268, 114.182895, 114.18233700000002, 114.18286, 114.182617, 114.182612, 114.18258200000001, 114.18260500000001, 114.18248700000001, 114.182427, 114.182528, 114.18259499999999, 114.18259499999999, 114.18251799999999, 114.182565, 114.18256000000001, 114.18262800000001, 114.18251299999999, 114.1825, 114.182523, 114.182667, 114.182608, 114.18261799999999, 114.182538, 114.182442, 114.18243999999999, 114.182505, 114.182448, 114.182673, 114.182565, 114.182548, 114.182533, 114.18242, 114.18248999999999, 114.18248700000001, 114.182553, 114.18306299999999, 114.183388, 114.18350500000001, 114.182475, 114.52063799999999, 114.54271000000001, 114.54619199999999, 119.95914199999999, 120.130347, 120.463838, 120.499847, 120.798418, 120.689493, 120.56556499999999, 120.887612, 120.213132, 120.733925, 121.417047, 121.69868500000001, 122.753375, 122.992922, 123.21261499999999, 123.28450500000001, 123.95347199999999, 124.101013, 124.40202, 124.42408700000001, 124.452972, 124.17846000000002, 124.15663500000001, 124.011527, 124.14653999999999, 123.81773799999999, 123.997075, 124.01635700000001, 124.017002, 124.07523700000002, 124.382948, 124.66004699999999, 124.713415, 124.856645, 125.114175, 125.54930300000001, 125.608208, 125.801957, 125.870848, 126.016957, 126.061278, 126.222118, 126.612343, 126.644943, 126.858915, 126.999423, 127.045372, 127.19079199999999, 127.35993799999999, 127.379085, 127.422173, 127.65958799999999, 128.04828, 128.07578700000002, 128.27395, 128.631475, 128.96338, 129.12201299999998, 129.21940800000002, 129.589452, 129.737627, 130.147913, 130.345807, 130.45722, 130.53888, 130.809407, 131.00895500000001, 131.169488, 131.33592, 131.356447, 131.652538, 131.67506699999998, 131.61588799999998, 131.55081, 131.94890700000002, 132.069837, 132.159643, 132.443073, 132.513542, 132.93408200000002, 133.00745700000002, 133.13348200000001, 133.130187, 132.39506, 132.18146000000002, 131.935602, 131.59049199999998, 130.68299, 130.424828, 129.837918, 129.837918, 128.979122, 128.704935, 128.149563, 128.115592, 127.311283, 127.21887, 126.95614499999999, 126.678513, 126.416917, 126.14151299999999, 125.74735700000001, 125.53580500000001, 125.37853799999999, 125.124567, 124.80558500000001, 124.781447, 124.78555800000001, 125.012082, 125.41351200000001, 125.78106499999998, 126.06218799999999, 126.35842, 126.397102, 127.10265700000001, 127.138617, 127.154183, 127.15385, 127.11344299999999, 127.032435, 127.031852, 126.97504199999999, 126.798483, 126.463807, 126.28003700000001, 125.873652, 125.31673500000001, 125.03999499999999, 124.76544799999999, 124.569877, 124.34074, 124.223568, 124.140758, 123.94843200000001, 123.72743700000001, 123.25667, 119.90008999999999, 119.892995, 119.888705, 119.87331200000001, 119.70548500000001, 119.09138200000001, 118.99530700000001, 118.995203, 118.995195, 118.995202, 118.99518300000001, 118.995195, 118.995172, 118.995205, 118.99519, 118.99405700000001, 119.062525, 119.19005200000001, 119.233097, 119.8347, 119.94933700000001, 119.88762, 119.89738999999999, 119.88535700000001, 119.879627, 119.87926000000002, 119.033472, 119.222085, 119.510718, 119.52264699999999, 119.963168, 120.059707, 120.11150500000001, 120.397622, 120.780267, 120.77115800000001, 120.71302299999999, 120.722218, 120.98176699999999, 121.058493, 121.373175, 121.413053, 121.763985, 122.39551999999999, 122.532925, 123.189603, 123.302237, 123.84465300000001, 124.043205, 124.183925, 124.93908200000001, 125.28103999999999, 125.568353, 125.817102, 125.86399999999999, 126.050373, 126.131097, 126.14148200000001, 126.179718, 126.32211699999999, 126.405553, 126.46626699999999, 126.507512, 126.539882, 126.587875, 126.66718200000001, 126.66718200000001, 126.668152, 126.67216200000001, 126.67186000000001, 126.667133, 126.74895, 126.82071, 126.84646299999999, 126.94123700000002, 127.019457, 127.02048, 127.056063, 127.14543300000001, 127.1634, 127.33510700000001, 127.91261200000001, 128.054715, 128.223918, 128.40356200000002, 128.604727, 128.772102, 128.950512, 129.090348, 129.166825, 129.346577, 129.679645, 130.07836, 130.312283, 130.49213799999998, 130.610925, 130.708042, 130.729122, 130.751532, 130.791052, 130.78768300000002, 130.781177, 130.866677, 130.93262, 130.99229, 131.001508, 131.048228, 131.10182, 131.176965, 131.239972, 131.23702, 131.564463, 131.691827, 131.952652, 132.38949, 133.041537, 133.13231299999998, 133.13351200000002, 132.966462, 132.57846, 132.235323, 132.143955, 131.496218, 131.489953, 130.58611499999998, 129.718322, 129.34886799999998, 129.080948, 128.857617, 128.129335, 127.26986200000002, 127.055295, 126.945123, 126.936877, 126.482603, 126.113948, 125.625813, 125.45154699999999, 125.26838500000001, 124.84149, 124.467357, 124.40703500000001, 123.994973, 123.610018, 123.46043200000001, 123.14438, 122.802195, 122.447777, 121.722277, 121.401997, 120.79141200000001, 120.75108, 120.797025, 120.110398, 120.067502, 120.067502, 119.62517199999999, 119.534247, 119.529218, 119.498778, 119.50344199999999, 119.935883, 119.88928200000001, 119.900632, 119.801202, 119.72301999999999, 119.72301999999999, 119.092272, 119.026777, 118.99428300000001, 118.994752, 118.99516799999999, 118.99518, 118.99516799999999, 118.99516000000001, 118.995182, 118.99519199999999, 118.995173, 118.995203, 118.995173, 118.995177, 118.995198, 118.99521299999999, 118.995157, 119.12579199999999, 119.19174, 119.90370700000001, 119.90081699999999, 119.900632, 119.894843, 119.41833000000001, 119.131377, 119.5, 119.98875, 120.05429299999999, 120.097068, 120.60068999999999, 120.547895, 120.76421299999998, 121.32478, 121.632102, 121.893523, 122.41191, 122.413845, 123.320127, 123.415095, 123.953222, 124.30603700000002, 124.48526000000001, 125.00486200000002, 125.52010200000001, 125.550642, 125.93548, 126.133137, 126.332397, 126.4362, 126.832202, 127.42166999999999, 128.319198, 129.642207, 129.985197, 131.400015, 131.777057, 132.10831299999998, 132.456505, 132.539207, 133.123273, 133.13362800000002, 133.133467, 133.133498, 133.12928300000002, 133.10204, 132.417095, 132.23141, 132.021902, 131.7202, 130.873747, 130.498413, 130.209767, 130.200847, 129.265, 129.06285, 128.523392, 127.676432, 127.38247700000001, 127.19801299999999, 126.96333, 126.931238, 126.831723, 126.74094199999999, 126.837152, 126.95496999999999, 126.97927800000001, 127.03261200000001, 127.23179499999999, 127.28988799999999, 127.325033, 127.3468, 127.60852, 127.61176200000001, 127.602455, 127.532022, 127.51553200000001, 127.51658, 127.533728, 127.53440800000001, 127.48220500000001, 127.47233700000001, 127.446972, 127.221135, 127.10603200000001, 127.093622, 126.94370500000001, 126.81594199999999, 126.79001299999999, 126.515005, 126.48595, 126.28621499999998, 125.99993700000002, 125.54958799999999, 125.444048, 125.38816499999999, 125.12321000000001, 125.11399999999999, 125.105, 123.61713999999999, 122.79065800000001, 122.11613500000001, 120.31731699999999, 120.200382, 120.10585800000001, 119.953877, 119.900648, 119.888608, 119.88705700000001, 119.90189199999999, 119.785078, 119.680448, 119.680447, 119.08435300000001, 119.003872, 119.00620500000001, 118.995157, 118.99518300000001, 118.995182, 118.99519199999999, 118.995173, 118.995157, 118.99518799999998, 118.99518, 118.99516200000001, 118.99516299999999, 118.995185, 118.9952, 118.995198, 118.99516799999999, 118.995173, 119.09848999999998, 119.52021699999999, 119.90796, 119.852278, 119.89405, 120.059427, 120.152037, 120.152037, 122.30667, 123.732238, 124.00370500000001, 124.66807800000001, 125.65633000000001, 125.71233799999999, 126.28806999999999, 126.57628000000001, 126.58166999999999, 126.74681499999998, 126.906452, 126.94807, 127.037448, 127.20453700000002, 127.240403, 127.338972, 127.523393, 127.53446799999999, 127.52866999999999, 127.517917, 127.51088, 127.285523, 127.175408, 127.07016000000002, 126.92342, 126.82818200000001, 126.71495300000001, 126.82681000000001, 126.83773799999999, 127.068425, 127.074877, 127.33176499999999, 127.680578, 128.49539], \"marker\": {\"color\": [11.3, 11.3, 11.3, 11.3, 11.3, 11.3, 11.3, 11.3, 11.3, 11.3, 11.3, 11.3, 11.3, 11.3, 11.3, 11.3, 11.3, 11.3, 9.8, 9.8, 9.8, 9.8, 9.8, 9.8, 9.8, 9.8, 9.8, 9.8, 9.8, 9.8, 9.8, 9.8, 9.8, 9.8, 9.8, 9.8, 9.8, 9.8, 9.8, 9.8, 9.8, 9.8, 9.8, 9.8, 9.8, 9.8, 9.8, 9.8, 9.8, 9.8, 9.8, 9.8, 9.8, 11.3, 11.3, 11.3, 11.3, 11.3, 11.3, 11.3, 11.3, 11.3, 11.3, 11.3, 11.3, 11.3, 9.5, 9.5, 9.5, 9.5, 9.5, 9.5, 9.5, 9.5, 9.5, 9.5, 9.5, 9.5, 9.5, 9.5, 9.5, 9.5, 9.5, 9.5, 9.5, 9.5, 9.5, 9.5, 9.5, 9.5, 9.5, 9.5, 9.5, 9.5, 9.5, 11.3, 11.3, 11.3, 11.3, 11.3, 11.3, 11.3, 11.3, 11.3, 11.3, 11.3, 9.5, 9.5, 11.3, 11.3, 11.3, 9.5, 9.5, 9.5, 9.5, 9.5, 9.5, 9.5, 9.5, 9.5, 9.5, 9.5, 9.5, 9.5, 9.5, 9.5, 9.5, 9.5, 9.5, 9.5, 9.5, 9.5, 9.5, 9.5, 9.5, 9.5, 9.5, 9.5, 9.5, 9.5, 9.5, 9.5, 9.5, 9.5, 9.5, 9.5, 9.5, 11.3, 11.3, 11.3, 11.3, 11.3, 11.3, 11.3, 11.3, 11.3, 11.3, 11.3, 11.3, 11.3, 11.3, 11.3, 11.3, 9.5, 11.3, 11.2, 11.2, 11.2, 11.2, 11.2, 11.2, 11.2, 11.2, 11.2, 11.2, 11.2, 11.2, 11.2, 9.4, 9.4, 11.2, 9.4, 9.4, 9.4, 9.4, 9.4, 9.4, 9.4, 9.4, 9.4, 9.4, 9.4, 9.4, 9.4, 9.4, 9.4, 9.4, 9.4, 9.4, 9.4, 9.4, 9.4, 9.4, 9.4, 9.4, 9.4, 9.4, 9.4, 9.4, 9.4, 9.5, 9.5, 9.5, 9.5, 9.5, 9.5, 9.5, 9.5, 9.5, 9.5, 9.5, 9.5, 9.5, 9.5, 9.5, 9.5, 9.5, 9.5, 9.5, 9.5, 9.5, 9.5, 9.5, 9.5, 9.0, 9.0, 9.0, 9.0, 9.0, 9.0, 9.0, 9.0, 9.0, 7.0, 7.0, 7.0, 7.0, 7.0, 7.0, 7.0, 7.0, 7.0, 7.0, 7.0, 7.0, 7.0, 7.0, 7.0, 7.0, 7.0, 7.0, 7.0, 7.0, 7.0, 7.0, 7.0, 7.0, 7.0, 7.0, 7.0, 7.0, 7.0, 7.0, 7.0, 7.0, 7.0, 7.0, 7.0, 7.0, 7.0, 7.0, 7.0, 7.0, 7.0, 7.0, 7.0, 7.0, 7.0, 7.0, 7.0, 7.0, 7.0, 7.0, 7.0, 7.0, 7.0, 7.0, 7.0, 7.0, 7.0, 7.0, 7.0, 7.0, 7.0, 7.0, 7.0, 7.0, 7.0, 7.0, 7.0, 7.0, 7.0, 7.0, 7.0, 7.0, 7.0, 9.0, 9.0, 9.0, 9.0, 9.0, 9.0, 9.0, 9.0, 9.0, 9.0, 9.0, 9.0, 9.0, 9.0, 9.0, 9.0, 9.0, 9.0, 9.0, 9.0, 9.0, 9.0, 9.0, 9.0, 9.0, 9.0, 9.0, 9.0, 9.0, 9.0, 9.0, 9.199, 9.2, 9.2, 9.199, 9.2, 9.199, 9.199, 9.2, 9.2, 9.2, 9.2, 9.2, 9.2, 9.2, 9.2, 9.2, 9.2, 9.2, 9.2, 9.2, 9.2, 9.2, 9.2, 9.2, 9.2, 9.199, 9.2, 9.2, 9.2, 9.199, 9.2, 9.199, 9.2, 9.2, 9.199, 9.199, 9.2, 9.2, 9.199, 9.2, 9.199, 9.2, 9.199, 9.2, 9.199, 9.2, 9.2, 9.199, 9.2, 9.199, 9.199, 9.2, 9.2, 9.199, 9.2, 9.199, 9.2, 9.199, 9.199, 9.2, 9.2, 9.2, 9.2, 9.2, 9.2, 9.199, 9.2, 9.199, 9.2, 9.199, 11.3, 11.3, 9.199, 11.3, 9.199, 11.3, 9.199, 11.3, 9.199, 11.3, 9.199, 9.199, 11.3, 9.199, 11.3, 11.3, 11.3, 9.199, 11.3, 11.3, 11.3, 9.199, 11.3, 11.3, 11.3, 11.3, 9.199, 11.3, 11.3, 11.3, 9.199, 9.199, 11.3, 9.199, 11.3, 11.3, 11.3, 11.3, 11.3, 11.3, 11.3, 11.3, 11.3, 11.3, 11.3, 9.199, 11.3, 9.199, 9.199, 11.3, 11.3, 11.3, 11.3, 11.3, 11.3, 11.3, 11.3, 11.3, 11.3, 11.3, 11.3, 11.3, 11.3, 11.3, 11.3, 11.3, 11.3, 9.5, 9.5, 9.5, 9.5, 9.5, 9.5, 9.5, 9.5, 9.5, 9.5, 9.5, 9.5, 9.5, 9.5, 9.5, 9.5, 9.5, 9.5, 9.5, 9.5, 9.5, 9.5, 9.5, 9.5, 9.5, 9.5, 9.5, 9.5, 9.5, 9.5, 9.5, 9.5, 9.5, 9.5, 9.5, 9.5, 9.5, 9.5, 9.5, 9.5, 9.5, 9.5, 9.5, 9.5, 9.5, 9.5, 9.5, 9.5, 9.5, 9.5, 9.4, 9.5, 9.4, 9.4, 9.5, 9.4, 9.4, 9.5, 9.5, 9.4, 9.4, 9.4, 9.5, 9.4, 9.5, 9.4, 9.5, 9.4, 9.5, 9.4, 11.3, 9.5, 11.3, 9.5, 11.3, 9.5, 11.3, 9.5, 11.3, 9.5, 11.3, 11.3, 9.5, 11.3, 11.3, 9.5, 9.5, 11.3, 9.5, 11.3, 11.3, 9.5, 11.3, 11.3, 11.3, 9.5, 11.3, 9.5, 11.3, 11.3, 11.3, 11.3, 11.3, 11.3, 11.3, 11.3, 11.3, 11.3, 11.3, 11.3, 11.3, 11.3, 11.3, 11.3, 11.3, 11.3, 11.3, 11.3, 11.3, 11.3, 11.3, 11.3, 11.3, 11.3, 11.3, 11.3, 11.3, 11.3, 11.3, 11.3, 11.3, 11.3, 11.3, 9.5, 9.5, 9.5, 9.5, 9.5, 9.5, 9.5, 9.5, 9.5, 9.5, 9.5, 9.5, 9.5, 9.5, 9.5, 9.5, 9.5, 9.5, 9.5, 9.5, 9.5, 9.5, 9.5, 9.5, 9.5, 9.5, 9.5, 9.5, 9.5, 9.5, 9.5, 9.5, 9.5, 9.5, 9.5, 9.5, 9.5, 9.5, 9.5, 9.5, 9.5, 9.5, 9.5, 9.5, 9.5, 9.5, 9.5, 9.5, 9.5, 9.5, 9.5, 9.5, 9.5, 9.5, 9.5, 9.5, 9.5, 9.5, 9.5, 9.5, 9.5, 9.5, 9.5, 9.5, 9.5, 11.3, 11.3, 11.3, 11.3, 11.3, 11.3, 11.3, 11.3, 11.3, 11.3, 11.3, 11.3, 11.3, 11.3, 9.5, 11.3, 11.3, 11.3, 11.3, 11.3, 11.3, 11.3, 11.3, 11.3, 11.3, 11.3, 11.3, 11.3, 11.3, 11.3, 11.3, 11.3, 11.3, 11.3, 11.3, 11.3, 11.3, 11.3, 11.3, 11.3, 11.3, 9.5, 9.5, 11.3, 9.5, 9.5, 9.5, 9.5, 9.5, 9.5, 9.5, 9.5, 9.5, 9.5, 9.5, 9.5, 9.5, 9.5, 9.5, 9.5, 9.5, 9.5, 9.5, 9.5, 9.5, 9.5, 9.5, 9.5, 9.5, 9.5, 9.5, 9.5, 9.5, 9.5, 9.5, 9.5, 9.5, 9.5, 9.5, 9.5, 9.5, 9.5, 9.5, 9.5, 9.5, 9.5, 9.5, 9.5, 9.5, 9.5, 9.5, 9.5, 9.5, 9.5, 9.5, 9.5, 9.5, 9.5, 9.5, 9.5, 9.5, 9.5, 9.5, 9.5, 9.5, 9.5, 9.5, 9.5, 9.5, 9.5, 11.3, 9.5, 11.3, 11.3, 11.3, 11.3, 11.3, 11.3, 11.3, 11.3, 11.3, 11.3, 11.3, 11.3, 11.3, 11.3, 11.3, 11.3, 11.3, 11.3, 11.3, 11.3, 11.3, 11.3, 11.3, 11.3, 11.3, 11.3, 11.3, 11.3, 11.3, 11.3, 11.3, 11.3, 11.3, 11.3, 11.3, 11.3, 11.3, 11.3, 11.3, 11.3, 11.3, 11.3, 11.3, 11.3, 11.3, 11.3, 11.3, 11.3, 11.3, 11.3, 11.3, 11.3, 9.5, 11.3, 9.5, 9.5, 9.5, 9.5, 9.5, 9.5, 9.5, 9.5, 9.5, 9.5, 9.5, 9.5, 9.5, 9.5, 9.5, 9.5, 9.5, 9.5, 9.5, 9.5, 9.5, 9.5, 9.5, 9.5, 9.5, 9.5, 9.5, 9.5, 9.5, 9.5, 9.5, 9.5, 9.5, 9.5, 9.5, 9.5, 9.5, 9.5, 9.5, 9.5, 9.5, 9.5, 9.5, 9.5, 9.5, 9.5, 9.5, 9.5, 9.5, 11.3, 11.3, 9.5, 11.3, 9.5, 11.3, 9.5, 11.3, 9.5, 9.5, 11.3, 9.5, 11.3, 11.3, 9.5, 11.3, 11.3, 11.3, 9.5, 11.3, 9.5, 11.3, 11.3, 9.5, 11.3, 9.5, 11.3, 9.5, 9.5, 11.3, 11.3, 9.5, 11.3, 11.3, 9.5, 11.3, 9.5, 11.3, 9.5, 9.5, 11.3, 11.3, 11.3, 9.5, 9.5, 11.3, 9.5, 11.3, 9.5, 11.3, 11.3, 11.3, 11.3, 11.3, 11.3, 11.3, 11.3, 11.3, 11.3, 11.3, 11.3, 11.3, 11.3, 11.3, 9.5, 9.5, 9.5, 9.5, 9.5, 9.5, 9.5, 9.5, 9.5, 9.5, 9.5, 9.5, 9.5, 9.5, 9.5, 9.5, 9.5, 9.5, 9.5, 9.5, 9.5, 9.5, 9.5, 9.5, 9.5, 9.5, 9.5, 9.5, 9.5, 9.5, 9.5, 9.5, 9.5, 9.5, 9.5, 9.5, 9.5, 9.5, 9.5, 9.5, 9.5, 9.5, 9.5, 9.5, 9.5, 9.5, 9.5, 9.5, 9.5, 9.5, 9.5, 9.5, 9.5, 9.5, 9.5, 9.5, 9.5, 9.5, 11.3, 9.5, 9.5, 11.3, 11.3, 11.3, 9.5, 11.3, 11.3, 9.5, 11.3, 9.5, 9.5, 9.5, 11.3, 11.3, 11.3, 9.5, 11.3, 11.3, 11.3, 11.3, 11.3, 11.3, 11.3, 11.3, 11.3, 11.3, 11.3, 11.3, 11.3, 11.3, 11.3, 11.3, 11.3, 11.3, 11.3, 11.3, 11.3, 11.3, 9.5, 9.5, 9.5, 9.5, 9.5, 9.5, 9.5, 9.5, 9.5, 9.5, 9.5, 9.5, 9.5, 9.5, 9.5, 9.5, 9.5, 9.5, 9.5, 9.5, 9.5, 9.5, 9.5, 9.5, 9.5, 9.5, 9.5, 9.5, 9.5, 9.5, 9.5, 9.5, 9.5, 9.5, 9.5, 9.5, 9.5, 9.5, 9.5, 9.5, 9.5, 9.5, 9.5, 9.5, 9.5, 9.5, 9.5, 9.5, 9.5, 9.5, 9.5, 9.5, 9.5, 9.5, 9.5, 9.5, 9.5, 9.5, 9.5, 9.5, 9.5, 9.5, 9.5, 9.5, 9.5, 9.5, 9.5, 9.5, 9.5, 9.5, 11.199000000000002, 11.2, 11.199000000000002, 11.2, 11.199000000000002, 11.2, 11.199000000000002, 11.199000000000002, 11.2, 11.2, 11.2, 11.199000000000002, 11.2, 11.199000000000002, 11.199000000000002, 11.2, 9.5, 11.199000000000002, 11.2, 11.2, 11.199000000000002, 11.2, 11.199000000000002, 11.2, 11.2, 11.2, 11.199000000000002, 11.2, 11.2, 11.2, 11.2, 11.199000000000002, 11.2, 11.2, 11.2, 11.2, 11.2, 11.2, 11.199000000000002, 11.2, 11.2, 11.2, 11.2, 11.2, 11.199000000000002, 11.2, 11.199000000000002, 11.2, 11.199000000000002, 11.2, 11.199000000000002, 11.199000000000002, 11.2, 11.199000000000002, 11.2, 11.2, 11.199000000000002, 11.2, 11.199000000000002, 11.2, 11.199000000000002, 11.2, 11.199000000000002, 11.199000000000002, 11.2, 11.199000000000002, 11.2, 11.199000000000002, 11.199000000000002, 11.2, 11.2, 9.5, 9.5, 9.5, 9.5, 9.5, 9.5, 9.5, 9.5, 9.5, 9.5, 9.5, 9.5, 9.5, 9.5, 9.5, 9.5, 9.5, 9.5, 9.5, 9.5, 9.5, 9.5, 9.5, 9.5, 9.5, 9.5, 9.5, 9.5, 9.5, 9.5, 9.5, 9.5, 9.5, 9.5, 9.5, 9.5, 9.5, 9.5, 9.5, 9.5, 9.5, 9.5, 9.5, 9.5, 9.5, 9.5, 9.5, 9.5, 9.5, 9.5, 9.5, 9.5, 9.5, 9.5, 9.5, 9.5, 9.5, 9.5, 9.5, 9.5, 9.5, 9.5, 9.5, 9.5, 9.5, 9.5, 9.5, 9.5, 9.5, 9.5, 9.5, 11.3, 9.5, 9.5, 9.5, 9.5, 9.5, 9.5, 9.5, 9.5, 9.5, 9.5, 9.5, 9.5, 9.5, 9.5, 9.5, 9.5, 9.5, 9.5, 9.5, 11.3, 11.3, 9.5, 11.3, 11.3, 11.3, 11.3, 11.3, 11.3, 11.3, 11.3, 11.3, 11.3, 11.3, 11.3, 11.3, 11.3, 11.3, 11.3, 11.3, 11.3, 11.3, 11.3, 11.3, 11.3, 11.3, 11.3, 11.3, 11.3, 11.3, 11.3, 9.5, 9.5, 9.5, 9.5, 9.5, 9.5, 9.5, 9.5, 9.5, 9.5, 9.5, 9.5, 9.5, 9.5, 9.5, 9.5, 9.5, 9.5, 9.5, 9.5, 9.5, 9.5, 9.5, 9.5, 9.5, 9.5, 9.5, 9.5, 9.5, 9.5, 9.5, 9.5, 9.5, 9.5, 9.5, 9.5, 9.5, 9.5, 9.5, 9.5, 9.5, 9.5, 9.5, 9.5, 9.5, 9.5, 9.5, 9.5, 9.5, 9.5, 9.5, 9.5, 9.5, 9.5, 9.5, 9.5, 9.5, 9.5, 9.5, 9.5, 9.5, 9.5, 9.5, 9.5, 9.5, 9.5, 9.5, 9.5, 9.5, 9.5, 9.5, 9.5, 9.5, 9.5, 9.5, 9.5, 9.5, 9.5, 9.5, 9.5, 11.3, 9.5, 11.3, 9.5, 9.5, 11.3, 9.5, 9.5, 11.3, 9.5, 11.3, 9.5, 11.3, 9.5, 11.3, 11.3, 9.5, 9.5, 11.3, 11.3, 9.5, 11.3, 11.3, 9.5, 9.5, 11.3, 11.3, 9.5, 9.5, 11.3, 11.3, 9.5, 9.5, 11.3, 9.5, 11.3, 9.5, 11.3, 11.3, 11.3, 11.3, 11.3, 11.3, 11.3, 11.3, 11.3, 11.3, 11.3, 11.3, 11.3, 11.3, 11.3, 11.3, 11.3, 11.3, 11.3, 11.3, 11.3, 11.3, 11.3, 11.3, 11.3, 11.3, 11.3, 11.3, 11.3, 11.3, 11.3, 11.3, 11.3, 11.3, 11.3, 11.3, 11.3, 11.3, 11.3, 11.3, 11.3, 11.3, 11.3, 11.3, 11.3, 11.3, 9.5, 9.5, 9.5, 9.5, 9.5, 9.5, 9.5, 9.5, 9.5, 9.5, 9.5, 9.5, 9.5, 9.5, 9.5, 9.5, 9.5, 9.5, 9.5, 9.5, 9.5, 9.5, 9.5, 9.5, 9.5, 9.5, 9.5, 9.5, 9.5, 9.5, 9.5, 9.5, 9.5, 9.5, 9.5, 9.5, 9.5, 9.5, 9.5, 9.5, 9.5, 9.5, 9.5, 9.5, 9.5, 9.5, 9.5, 9.5, 9.5, 9.5, 9.5, 9.5, 9.5, 9.5, 9.5, 9.5, 9.5, 9.5, 9.5, 9.5, 9.5, 9.5, 9.5, 9.5, 9.5, 9.5, 9.5, 9.5, 9.5, 9.5, 9.5, 9.5, 9.5, 9.5, 9.5, 9.5, 9.5, 9.5, 11.3, 9.5, 9.5, 9.5, 9.5, 9.5, 9.5, 9.5, 9.5, 9.5, 9.5, 9.5, 9.5, 9.5, 9.5, 9.5, 9.5, 9.5, 9.5, 9.5, 11.3, 11.3, 11.3, 11.3, 11.3, 11.3, 11.3, 11.3, 11.3, 11.3, 11.3, 11.3, 11.3, 11.3, 11.3, 11.3, 11.3, 11.3, 11.3, 11.3, 11.3, 11.3, 11.3, 11.3, 11.3, 11.3, 9.5, 9.5, 9.5, 9.5, 9.5, 9.5, 9.5, 9.5, 9.5, 9.5, 9.5, 9.5, 9.5, 9.5, 9.5, 9.5, 9.5, 9.5, 9.5, 9.5, 9.5, 9.5, 9.5, 9.5, 9.5, 9.5, 9.5, 9.5, 9.5, 9.5, 9.5, 9.5, 9.5, 9.5, 9.5, 9.5, 9.5, 9.5, 9.5, 9.5, 9.5, 9.5, 9.5, 9.5, 9.5, 9.5, 9.5, 9.5, 9.5, 9.5, 9.5, 9.5, 9.5, 9.5, 9.5, 9.5, 9.5, 9.5, 9.5, 9.5, 9.5, 9.5, 9.5, 9.5, 9.5, 9.5, 9.5, 9.5, 9.5, 9.5, 9.5, 9.5, 9.5, 9.5, 9.5, 9.5, 9.5, 9.5, 9.5, 9.5, 9.5, 9.5, 9.5, 9.5, 9.5, 9.5, 9.5, 9.5, 9.5, 9.5, 11.3, 11.3, 11.3, 11.3, 11.3, 11.3, 11.3, 11.3, 11.3, 11.3, 11.3, 11.3, 11.3, 11.3, 11.3, 11.3, 11.3, 11.3, 11.3, 11.3, 11.3, 11.3, 11.3, 11.3, 11.3, 11.3, 11.3, 11.3, 11.3, 11.3, 11.3, 11.3, 11.3, 11.3, 11.3, 11.3, 11.3, 11.3, 11.3, 11.3, 11.3, 9.5, 11.3, 11.3, 11.3, 11.3, 11.3, 11.3, 11.3, 11.3, 10.0, 11.3, 10.0, 10.0, 10.0, 10.0, 10.0, 10.0, 10.0, 10.0, 10.0, 10.0, 10.0, 10.0, 10.0, 10.0, 10.0, 10.0, 10.0, 10.0, 10.0, 10.0, 10.0, 10.0, 10.0, 10.0, 10.0, 10.0, 10.0, 10.0, 10.0, 10.0, 10.0, 10.0, 10.0, 10.0, 10.0, 10.0, 10.0, 10.0, 10.0, 10.0, 10.0, 10.0, 10.0, 10.0, 10.0, 10.0, 10.0, 10.0, 10.0, 10.0, 10.0, 10.0, 10.0, 10.0, 10.0, 10.0, 10.0, 10.0, 10.0, 10.0, 10.0, 10.0, 10.0, 10.0, 10.0, 10.0, 10.0, 10.0, 10.0, 10.0, 10.0, 10.0, 10.0, 10.0, 10.0, 10.0, 10.0, 10.0, 10.0, 10.0, 10.0, 10.0, 10.0, 10.0, 10.0, 10.0, 10.0, 10.0, 10.0, 10.0, 10.0, 10.0, 10.0, 10.0, 10.0, 10.0, 10.0, 10.0, 10.0, 10.0, 10.0, 10.0, 10.0, 10.0, 10.0, 10.0, 10.0, 10.0, 10.0, 10.0, 10.0, 10.0, 10.0, 10.0, 10.0, 10.0, 10.0, 10.0, 10.0, 10.0, 10.0, 10.0, 10.0, 10.0, 10.0, 10.0, 10.0, 10.0, 10.0, 10.0, 10.0, 10.0, 10.0, 10.0, 10.0, 10.0, 10.0, 10.0, 10.0, 10.0, 10.0, 10.0, 10.0, 10.0, 10.0, 10.0, 10.0, 10.0, 10.0, 10.0, 10.0, 10.0, 10.0, 10.0, 10.0, 10.0, 10.0, 10.0, 10.0, 10.0, 10.0, 10.0, 10.0, 10.0, 10.0, 10.0, 10.0, 10.0, 10.0, 10.0, 10.0, 10.0, 10.0, 10.0, 10.0, 10.0, 10.0, 10.0, 10.0, 10.0, 10.0, 10.0, 10.0, 10.0, 10.0, 10.0, 10.0, 10.0, 10.0, 10.0, 10.0, 10.0, 10.0, 10.0, 10.0, 10.0, 10.0, 10.0, 10.0, 10.0, 10.0, 10.0, 10.0, 10.0, 10.0, 10.0, 10.0, 10.0, 10.0, 10.0, 10.0, 10.0, 10.0, 10.0, 10.0, 10.0, 10.0, 10.0, 10.0, 10.0, 10.0, 10.0, 10.0, 10.0, 10.0, 10.0, 10.0, 10.0, 10.0, 10.0, 10.0, 10.0, 10.0, 10.0, 10.0, 10.0, 10.0, 10.0, 10.0, 10.0, 10.0, 10.0, 10.0, 10.0, 10.0, 10.0, 10.0, 10.0, 10.0, 10.0, 10.0, 10.0, 10.0, 10.0, 10.0, 10.0, 10.0, 10.0, 10.0, 10.0, 10.0, 10.0, 10.0, 10.0, 10.0, 10.0, 10.0, 10.0, 10.0, 10.0, 10.0, 10.0, 10.0, 10.0, 10.0, 10.0, 10.0, 10.0, 10.0, 10.0, 10.0, 10.0, 10.0, 10.0, 10.0, 10.0, 10.0, 10.0, 10.0, 10.0, 10.0, 10.0, 10.0, 10.0, 10.0, 10.0, 10.0, 10.0, 10.0, 10.0, 10.0, 10.0, 10.0, 10.0, 10.0, 10.0, 10.0, 10.0, 10.0, 10.0, 10.0, 10.0, 10.0, 10.0, 10.0, 10.0, 10.0, 10.0, 10.0, 10.0, 10.0, 10.0, 10.0, 10.0, 10.0, 10.0, 10.0, 10.0, 10.0, 10.0, 10.0, 10.0, 10.0, 10.0, 10.0, 10.0, 10.0, 10.0, 10.0, 10.0, 10.0, 10.0, 10.0, 10.0, 10.0, 10.0, 10.0, 10.0, 10.0, 10.0, 10.0, 10.0, 10.0, 10.0, 10.0, 10.0, 10.0, 10.0, 10.0, 10.0, 10.0, 10.0, 10.0, 10.0, 10.0, 10.0, 10.0, 10.0, 10.0, 10.0, 10.0, 10.0, 10.0, 10.0, 10.0, 10.0, 10.0, 10.0, 10.0, 10.0, 10.0, 10.0, 10.0, 10.0, 10.0, 10.0, 10.0, 10.0, 10.0, 10.0, 10.0, 10.0, 10.0, 10.0, 10.0, 10.0, 10.0, 10.0, 10.0, 10.0, 10.0, 10.0, 10.0, 10.0, 10.0, 10.0, 10.0, 10.0, 10.0, 10.0, 10.0, 10.0, 10.0, 10.0, 10.0, 10.0, 10.0, 10.0, 10.0, 10.0, 10.0, 10.0, 10.0, 10.0, 10.0, 10.0, 10.0, 10.0, 10.0, 10.0, 11.2, 10.0, 10.0, 11.2, 11.2, 10.0, 11.2, 10.0, 11.2, 10.0, 11.2, 11.2, 10.0, 11.2, 11.2, 10.0, 11.2, 11.2, 11.2, 10.0, 11.2, 11.2, 10.0, 10.0, 10.0, 10.0, 10.0, 11.2, 11.2, 10.0, 11.2, 11.2, 11.2, 10.0, 11.2, 10.0, 11.2, 10.0, 11.2, 10.0, 11.2, 11.2, 10.0, 11.2, 11.2, 11.2, 11.2, 11.2, 10.0, 11.2, 11.199000000000002, 11.2, 11.199000000000002, 11.2, 11.2, 11.199000000000002, 11.2, 11.2, 11.2, 11.2, 11.2, 11.2, 11.2, 11.2, 11.199000000000002, 9.5, 11.199000000000002, 9.5, 9.5, 9.5, 9.5, 9.5, 9.5, 9.5, 9.5, 9.5, 9.5, 9.5, 9.5, 9.5, 9.5, 9.5, 9.5, 9.5, 9.5, 9.5, 9.5, 9.5, 9.5, 9.5, 9.5, 9.5, 9.5, 9.5, 9.5, 9.5, 9.5, 9.5, 9.5, 9.5, 9.5, 9.5, 9.5, 9.5, 9.5, 9.5, 9.5, 9.5, 9.5, 9.5, 9.5, 9.5, 9.5, 9.5, 9.5, 9.5, 9.5, 9.5, 9.5, 9.5, 9.5, 9.5, 9.5, 9.5, 9.5, 9.5, 9.5, 9.5, 9.5, 9.5, 9.5, 9.5, 9.5, 9.5, 9.5, 9.5, 9.5, 9.5, 9.5, 9.5, 9.5, 9.5, 9.5, 9.5, 9.5, 9.5, 9.5, 9.5, 9.5, 9.5, 9.5, 9.5, 9.5, 9.5, 9.5, 9.5, 9.5, 9.5, 9.5, 9.5, 9.5, 9.5, 9.5, 9.5, 9.5, 9.5, 9.5, 9.5, 9.5, 9.5, 9.5, 9.5, 9.5, 9.5, 9.5, 9.5, 9.5, 9.5, 9.5, 9.5, 9.5, 9.5, 9.5, 9.5, 9.5, 11.3, 9.5, 11.3, 11.3, 11.3, 9.5, 11.3, 11.3, 9.5, 11.3, 11.3, 11.3, 11.3, 11.3, 11.3, 11.3, 11.3, 11.3, 9.5, 9.5, 11.3, 11.3, 11.3, 11.3, 11.3, 11.3, 11.3, 11.3, 11.3, 11.3, 11.3, 11.2, 11.199000000000002, 11.3, 11.3, 11.3, 11.3, 11.3, 11.3, 11.3, 11.3, 11.3, 11.3, 11.3, 11.3, 11.3, 11.3, 11.3, 9.5, 9.5, 9.5, 9.5, 9.5, 9.5, 9.5, 9.5, 9.5, 9.5, 9.5, 9.5, 9.5, 9.5, 9.5, 9.5, 9.5, 9.5, 9.5, 9.5, 9.5, 9.5, 9.5, 9.5, 9.5, 9.5, 9.5, 9.5, 9.5, 9.5, 9.5, 9.5, 9.5, 9.5, 9.5, 9.5, 9.5, 9.5, 9.5, 9.5, 9.5, 9.5, 9.5, 9.5, 9.5, 9.5, 9.5, 9.5, 9.5, 9.5, 9.5, 9.5, 9.5, 9.5, 9.5, 9.5, 9.5, 9.5, 9.5, 9.5, 9.5, 9.5, 9.5, 9.5, 9.5, 9.5, 9.5, 11.199000000000002, 11.199000000000002, 9.5, 9.5, 11.199000000000002, 11.199000000000002, 9.5, 11.199000000000002, 9.5, 9.5, 9.5, 11.199000000000002, 9.5, 9.5, 11.199000000000002, 11.199000000000002, 9.5, 9.5, 11.2, 9.5, 11.199000000000002, 9.5, 9.5, 11.199000000000002, 9.5, 9.5, 11.199000000000002, 11.2, 11.2, 11.199000000000002, 11.2, 11.199000000000002, 11.2, 11.2, 11.2, 11.2, 11.2, 11.2, 11.199000000000002, 11.2, 11.199000000000002, 11.2, 11.199000000000002, 11.2, 11.199000000000002, 11.2, 11.2, 11.199000000000002, 11.2, 11.199000000000002, 11.199000000000002, 11.2, 11.2, 11.2, 11.2, 11.2, 11.2, 11.2, 11.2, 11.2, 11.2, 11.2, 11.2, 11.2, 11.2, 9.4, 9.4, 9.4, 9.4, 9.4, 9.4, 9.4, 9.4, 9.4, 9.4, 9.4, 9.4, 9.4, 9.4, 9.4, 9.4, 9.4, 9.4, 9.4, 9.4, 9.4, 9.4, 9.4, 9.4, 9.4, 9.4, 9.4, 9.4, 9.4, 9.4, 9.4, 9.4, 9.4, 9.4, 9.4, 9.4, 9.4, 9.4, 9.4, 9.4, 9.4, 9.4, 9.4], \"coloraxis\": \"coloraxis\"}, \"name\": \"\", \"showlegend\": false, \"type\": \"scattergeo\"}],\n",
              "                        {\"coloraxis\": {\"colorbar\": {\"title\": {\"text\": \"draft\"}}, \"colorscale\": [[0.0, \"#0d0887\"], [0.1111111111111111, \"#46039f\"], [0.2222222222222222, \"#7201a8\"], [0.3333333333333333, \"#9c179e\"], [0.4444444444444444, \"#bd3786\"], [0.5555555555555556, \"#d8576b\"], [0.6666666666666666, \"#ed7953\"], [0.7777777777777778, \"#fb9f3a\"], [0.8888888888888888, \"#fdca26\"], [1.0, \"#f0f921\"]]}, \"geo\": {\"center\": {}, \"domain\": {\"x\": [0.0, 1.0], \"y\": [0.0, 1.0]}}, \"legend\": {\"tracegroupgap\": 0}, \"margin\": {\"t\": 60}, \"template\": {\"data\": {\"bar\": [{\"error_x\": {\"color\": \"#2a3f5f\"}, \"error_y\": {\"color\": \"#2a3f5f\"}, \"marker\": {\"line\": {\"color\": \"#E5ECF6\", \"width\": 0.5}}, \"type\": \"bar\"}], \"barpolar\": [{\"marker\": {\"line\": {\"color\": \"#E5ECF6\", \"width\": 0.5}}, \"type\": \"barpolar\"}], \"carpet\": [{\"aaxis\": {\"endlinecolor\": \"#2a3f5f\", \"gridcolor\": \"white\", \"linecolor\": \"white\", \"minorgridcolor\": \"white\", \"startlinecolor\": \"#2a3f5f\"}, \"baxis\": {\"endlinecolor\": \"#2a3f5f\", \"gridcolor\": \"white\", \"linecolor\": \"white\", \"minorgridcolor\": \"white\", \"startlinecolor\": \"#2a3f5f\"}, \"type\": \"carpet\"}], \"choropleth\": [{\"colorbar\": {\"outlinewidth\": 0, \"ticks\": \"\"}, \"type\": \"choropleth\"}], \"contour\": [{\"colorbar\": {\"outlinewidth\": 0, \"ticks\": \"\"}, \"colorscale\": [[0.0, \"#0d0887\"], [0.1111111111111111, \"#46039f\"], [0.2222222222222222, \"#7201a8\"], [0.3333333333333333, \"#9c179e\"], [0.4444444444444444, \"#bd3786\"], [0.5555555555555556, \"#d8576b\"], [0.6666666666666666, \"#ed7953\"], [0.7777777777777778, \"#fb9f3a\"], [0.8888888888888888, \"#fdca26\"], [1.0, \"#f0f921\"]], \"type\": \"contour\"}], \"contourcarpet\": [{\"colorbar\": {\"outlinewidth\": 0, \"ticks\": \"\"}, \"type\": \"contourcarpet\"}], \"heatmap\": [{\"colorbar\": {\"outlinewidth\": 0, \"ticks\": \"\"}, \"colorscale\": [[0.0, \"#0d0887\"], [0.1111111111111111, \"#46039f\"], [0.2222222222222222, \"#7201a8\"], [0.3333333333333333, \"#9c179e\"], [0.4444444444444444, \"#bd3786\"], [0.5555555555555556, \"#d8576b\"], [0.6666666666666666, \"#ed7953\"], [0.7777777777777778, \"#fb9f3a\"], [0.8888888888888888, \"#fdca26\"], [1.0, \"#f0f921\"]], \"type\": \"heatmap\"}], \"heatmapgl\": [{\"colorbar\": {\"outlinewidth\": 0, \"ticks\": \"\"}, \"colorscale\": [[0.0, \"#0d0887\"], [0.1111111111111111, \"#46039f\"], [0.2222222222222222, \"#7201a8\"], [0.3333333333333333, \"#9c179e\"], [0.4444444444444444, \"#bd3786\"], [0.5555555555555556, \"#d8576b\"], [0.6666666666666666, \"#ed7953\"], [0.7777777777777778, \"#fb9f3a\"], [0.8888888888888888, \"#fdca26\"], [1.0, \"#f0f921\"]], \"type\": \"heatmapgl\"}], \"histogram\": [{\"marker\": {\"colorbar\": {\"outlinewidth\": 0, \"ticks\": \"\"}}, \"type\": \"histogram\"}], \"histogram2d\": [{\"colorbar\": {\"outlinewidth\": 0, \"ticks\": \"\"}, \"colorscale\": [[0.0, \"#0d0887\"], [0.1111111111111111, \"#46039f\"], [0.2222222222222222, \"#7201a8\"], [0.3333333333333333, \"#9c179e\"], [0.4444444444444444, \"#bd3786\"], [0.5555555555555556, \"#d8576b\"], [0.6666666666666666, \"#ed7953\"], [0.7777777777777778, \"#fb9f3a\"], [0.8888888888888888, \"#fdca26\"], [1.0, \"#f0f921\"]], \"type\": \"histogram2d\"}], \"histogram2dcontour\": [{\"colorbar\": {\"outlinewidth\": 0, \"ticks\": \"\"}, \"colorscale\": [[0.0, \"#0d0887\"], [0.1111111111111111, \"#46039f\"], [0.2222222222222222, \"#7201a8\"], [0.3333333333333333, \"#9c179e\"], [0.4444444444444444, \"#bd3786\"], [0.5555555555555556, \"#d8576b\"], [0.6666666666666666, \"#ed7953\"], [0.7777777777777778, \"#fb9f3a\"], [0.8888888888888888, \"#fdca26\"], [1.0, \"#f0f921\"]], \"type\": \"histogram2dcontour\"}], \"mesh3d\": [{\"colorbar\": {\"outlinewidth\": 0, \"ticks\": \"\"}, \"type\": \"mesh3d\"}], \"parcoords\": [{\"line\": {\"colorbar\": {\"outlinewidth\": 0, \"ticks\": \"\"}}, \"type\": \"parcoords\"}], \"pie\": [{\"automargin\": true, \"type\": \"pie\"}], \"scatter\": [{\"marker\": {\"colorbar\": {\"outlinewidth\": 0, \"ticks\": \"\"}}, \"type\": \"scatter\"}], \"scatter3d\": [{\"line\": {\"colorbar\": {\"outlinewidth\": 0, \"ticks\": \"\"}}, \"marker\": {\"colorbar\": {\"outlinewidth\": 0, \"ticks\": \"\"}}, \"type\": \"scatter3d\"}], \"scattercarpet\": [{\"marker\": {\"colorbar\": {\"outlinewidth\": 0, \"ticks\": \"\"}}, \"type\": \"scattercarpet\"}], \"scattergeo\": [{\"marker\": {\"colorbar\": {\"outlinewidth\": 0, \"ticks\": \"\"}}, \"type\": \"scattergeo\"}], \"scattergl\": [{\"marker\": {\"colorbar\": {\"outlinewidth\": 0, \"ticks\": \"\"}}, \"type\": \"scattergl\"}], \"scattermapbox\": [{\"marker\": {\"colorbar\": {\"outlinewidth\": 0, \"ticks\": \"\"}}, \"type\": \"scattermapbox\"}], \"scatterpolar\": [{\"marker\": {\"colorbar\": {\"outlinewidth\": 0, \"ticks\": \"\"}}, \"type\": \"scatterpolar\"}], \"scatterpolargl\": [{\"marker\": {\"colorbar\": {\"outlinewidth\": 0, \"ticks\": \"\"}}, \"type\": \"scatterpolargl\"}], \"scatterternary\": [{\"marker\": {\"colorbar\": {\"outlinewidth\": 0, \"ticks\": \"\"}}, \"type\": \"scatterternary\"}], \"surface\": [{\"colorbar\": {\"outlinewidth\": 0, \"ticks\": \"\"}, \"colorscale\": [[0.0, \"#0d0887\"], [0.1111111111111111, \"#46039f\"], [0.2222222222222222, \"#7201a8\"], [0.3333333333333333, \"#9c179e\"], [0.4444444444444444, \"#bd3786\"], [0.5555555555555556, \"#d8576b\"], [0.6666666666666666, \"#ed7953\"], [0.7777777777777778, \"#fb9f3a\"], [0.8888888888888888, \"#fdca26\"], [1.0, \"#f0f921\"]], \"type\": \"surface\"}], \"table\": [{\"cells\": {\"fill\": {\"color\": \"#EBF0F8\"}, \"line\": {\"color\": \"white\"}}, \"header\": {\"fill\": {\"color\": \"#C8D4E3\"}, \"line\": {\"color\": \"white\"}}, \"type\": \"table\"}]}, \"layout\": {\"annotationdefaults\": {\"arrowcolor\": \"#2a3f5f\", \"arrowhead\": 0, \"arrowwidth\": 1}, \"coloraxis\": {\"colorbar\": {\"outlinewidth\": 0, \"ticks\": \"\"}}, \"colorscale\": {\"diverging\": [[0, \"#8e0152\"], [0.1, \"#c51b7d\"], [0.2, \"#de77ae\"], [0.3, \"#f1b6da\"], [0.4, \"#fde0ef\"], [0.5, \"#f7f7f7\"], [0.6, \"#e6f5d0\"], [0.7, \"#b8e186\"], [0.8, \"#7fbc41\"], [0.9, \"#4d9221\"], [1, \"#276419\"]], \"sequential\": [[0.0, \"#0d0887\"], [0.1111111111111111, \"#46039f\"], [0.2222222222222222, \"#7201a8\"], [0.3333333333333333, \"#9c179e\"], [0.4444444444444444, \"#bd3786\"], [0.5555555555555556, \"#d8576b\"], [0.6666666666666666, \"#ed7953\"], [0.7777777777777778, \"#fb9f3a\"], [0.8888888888888888, \"#fdca26\"], [1.0, \"#f0f921\"]], \"sequentialminus\": [[0.0, \"#0d0887\"], [0.1111111111111111, \"#46039f\"], [0.2222222222222222, \"#7201a8\"], [0.3333333333333333, \"#9c179e\"], [0.4444444444444444, \"#bd3786\"], [0.5555555555555556, \"#d8576b\"], [0.6666666666666666, \"#ed7953\"], [0.7777777777777778, \"#fb9f3a\"], [0.8888888888888888, \"#fdca26\"], [1.0, \"#f0f921\"]]}, \"colorway\": [\"#636efa\", \"#EF553B\", \"#00cc96\", \"#ab63fa\", \"#FFA15A\", \"#19d3f3\", \"#FF6692\", \"#B6E880\", \"#FF97FF\", \"#FECB52\"], \"font\": {\"color\": \"#2a3f5f\"}, \"geo\": {\"bgcolor\": \"white\", \"lakecolor\": \"white\", \"landcolor\": \"#E5ECF6\", \"showlakes\": true, \"showland\": true, \"subunitcolor\": \"white\"}, \"hoverlabel\": {\"align\": \"left\"}, \"hovermode\": \"closest\", \"mapbox\": {\"style\": \"light\"}, \"paper_bgcolor\": \"white\", \"plot_bgcolor\": \"#E5ECF6\", \"polar\": {\"angularaxis\": {\"gridcolor\": \"white\", \"linecolor\": \"white\", \"ticks\": \"\"}, \"bgcolor\": \"#E5ECF6\", \"radialaxis\": {\"gridcolor\": \"white\", \"linecolor\": \"white\", \"ticks\": \"\"}}, \"scene\": {\"xaxis\": {\"backgroundcolor\": \"#E5ECF6\", \"gridcolor\": \"white\", \"gridwidth\": 2, \"linecolor\": \"white\", \"showbackground\": true, \"ticks\": \"\", \"zerolinecolor\": \"white\"}, \"yaxis\": {\"backgroundcolor\": \"#E5ECF6\", \"gridcolor\": \"white\", \"gridwidth\": 2, \"linecolor\": \"white\", \"showbackground\": true, \"ticks\": \"\", \"zerolinecolor\": \"white\"}, \"zaxis\": {\"backgroundcolor\": \"#E5ECF6\", \"gridcolor\": \"white\", \"gridwidth\": 2, \"linecolor\": \"white\", \"showbackground\": true, \"ticks\": \"\", \"zerolinecolor\": \"white\"}}, \"shapedefaults\": {\"line\": {\"color\": \"#2a3f5f\"}}, \"ternary\": {\"aaxis\": {\"gridcolor\": \"white\", \"linecolor\": \"white\", \"ticks\": \"\"}, \"baxis\": {\"gridcolor\": \"white\", \"linecolor\": \"white\", \"ticks\": \"\"}, \"bgcolor\": \"#E5ECF6\", \"caxis\": {\"gridcolor\": \"white\", \"linecolor\": \"white\", \"ticks\": \"\"}}, \"title\": {\"x\": 0.05}, \"xaxis\": {\"automargin\": true, \"gridcolor\": \"white\", \"linecolor\": \"white\", \"ticks\": \"\", \"title\": {\"standoff\": 15}, \"zerolinecolor\": \"white\", \"zerolinewidth\": 2}, \"yaxis\": {\"automargin\": true, \"gridcolor\": \"white\", \"linecolor\": \"white\", \"ticks\": \"\", \"title\": {\"standoff\": 15}, \"zerolinecolor\": \"white\", \"zerolinewidth\": 2}}}},\n",
              "                        {\"responsive\": true}\n",
              "                    ).then(function(){\n",
              "                            \n",
              "var gd = document.getElementById('c350f285-0ef3-444a-b14d-955a0e359125');\n",
              "var x = new MutationObserver(function (mutations, observer) {{\n",
              "        var display = window.getComputedStyle(gd).display;\n",
              "        if (!display || display === 'none') {{\n",
              "            console.log([gd, 'removed!']);\n",
              "            Plotly.purge(gd);\n",
              "            observer.disconnect();\n",
              "        }}\n",
              "}});\n",
              "\n",
              "// Listen for the removal of the full notebook cells\n",
              "var notebookContainer = gd.closest('#notebook-container');\n",
              "if (notebookContainer) {{\n",
              "    x.observe(notebookContainer, {childList: true});\n",
              "}}\n",
              "\n",
              "// Listen for the clearing of the current output cell\n",
              "var outputEl = gd.closest('.output');\n",
              "if (outputEl) {{\n",
              "    x.observe(outputEl, {childList: true});\n",
              "}}\n",
              "\n",
              "                        })\n",
              "                };\n",
              "                \n",
              "            </script>\n",
              "        </div>\n",
              "</body>\n",
              "</html>"
            ]
          },
          "metadata": {
            "tags": []
          }
        }
      ]
    }
  ]
}